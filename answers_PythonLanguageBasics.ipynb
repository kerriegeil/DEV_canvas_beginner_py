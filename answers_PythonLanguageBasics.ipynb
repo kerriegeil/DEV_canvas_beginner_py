{
 "cells": [
  {
   "cell_type": "markdown",
   "id": "689ac1c6-d1ae-47d0-a476-060c38261841",
   "metadata": {},
   "source": [
    "### Exercise 1: Iterate through a list with a for loop\n",
    "\n",
    "Create a list of your favorite musicians or band names and then iterate through the list and output each one in the format like \"I love The Rolling Stones\"."
   ]
  },
  {
   "cell_type": "code",
   "execution_count": null,
   "id": "7c94a9bf-5158-4ea1-b992-a0e0bbfbd136",
   "metadata": {},
   "outputs": [],
   "source": [
    "musicians = [\"The Rolling Stones\", \"Pink Floyd\", \"Harry Styles\", \"Kacey Musgraves\"]\n",
    "\n",
    "for musician in musicians:\n",
    "    print(f\"I love {musician}\")"
   ]
  },
  {
   "cell_type": "markdown",
   "id": "36b2a7e4-9820-4b5e-bd0a-172be032deb1",
   "metadata": {},
   "source": [
    "### Exercise 2: Write a while loop to iterate through characters in a string\n",
    "\n",
    "Iterate through and print out each character of the string ```text``` below using a while loop. Hint: start at index 0 and iterate while the index is less than the length of the ```text``` variable."
   ]
  },
  {
   "cell_type": "code",
   "execution_count": null,
   "id": "16cec0b8-58f8-4230-954a-7a595af08824",
   "metadata": {},
   "outputs": [],
   "source": [
    "text = \"Hello, World!\"\n",
    "index = 0\n",
    "\n",
    "while index < len(text):\n",
    "    print(text[index])\n",
    "    index += 1"
   ]
  },
  {
   "cell_type": "markdown",
   "id": "b8a6be57-c3d3-4639-a340-fd1d4145f98b",
   "metadata": {},
   "source": [
    "### Exercise 3: Write if statements\n",
    "\n",
    "Create the variable ```myAge``` and set it equal to your age as an integer. Use any combination of if, elif, and else statements to accomplish the following:\n",
    "\n",
    "- If ```myAge``` is less than 13, print \"You are a child.\"\n",
    "- If ```myAge``` is between 13 and 19 (inclusive), print \"You are a teenager.\"\n",
    "- If ```myAge``` is between 20 and 64 (inclusive), print \"You are an adult.\"\n",
    "- If ```myAge``` is 65 or older, print \"You are a senior.\""
   ]
  },
  {
   "cell_type": "code",
   "execution_count": null,
   "id": "15dde013-e6d7-4eac-925b-55af38a7b6ba",
   "metadata": {},
   "outputs": [],
   "source": [
    "myAge = 42\n",
    "\n",
    "if myAge < 13:\n",
    "    print(\"You are a child\")\n",
    "elif 13< myAge <=19:\n",
    "    print(\"You are a teenager\")\n",
    "elif (myAge>20) and (myAge<=64):\n",
    "    print(\"You are an adult\")\n",
    "else:\n",
    "    print(\"You are a senior\")"
   ]
  },
  {
   "cell_type": "markdown",
   "id": "610d6871-3e65-41bf-bd0c-7b124646dd8f",
   "metadata": {},
   "source": [
    "### Exercise 4: Break on condition in a for loop\n",
    "\n",
    "Loop through numbers from 1 to 10 and print each number. However, if the number is 7, the loop should stop immediately and print \"Loop ended at 7.\""
   ]
  },
  {
   "cell_type": "code",
   "execution_count": null,
   "id": "2fefb2cc-7d50-4304-adcd-36f0e287405c",
   "metadata": {},
   "outputs": [],
   "source": [
    "for x in range(1,11):\n",
    "    if x!=7:\n",
    "        print(x)\n",
    "    else:\n",
    "        print(\"Loop ended at 7\")\n",
    "        break"
   ]
  },
  {
   "cell_type": "markdown",
   "id": "047b8519-1ffb-4aab-9433-7e7c26c0e5d1",
   "metadata": {},
   "source": [
    "### Exercise 5: Write a custom function\n",
    "\n",
    "Write a function to return the maximum and minimum values of five integer inputs."
   ]
  },
  {
   "cell_type": "code",
   "execution_count": null,
   "id": "73d551f1-ada7-4378-b563-c99032f738f7",
   "metadata": {},
   "outputs": [],
   "source": [
    "def minmax(var1,var2,var3,var4,var5):\n",
    "    minval = min(var1,var2,var3,var4,var5)\n",
    "    maxval = max(var1,var2,var3,var4,var5)\n",
    "    return minval,maxval\n",
    "\n",
    "minval,maxval = minmax(1,2,3,4,5)\n",
    "print(minval)\n",
    "print(maxval)"
   ]
  },
  {
   "cell_type": "markdown",
   "id": "b503290c-2063-4cd9-8bc7-b600978c1eb4",
   "metadata": {},
   "source": [
    "### Exercise 6: Write a list comprehension\n",
    "\n",
    "Write a list comprehension to add 10 to each value in the list below."
   ]
  },
  {
   "cell_type": "code",
   "execution_count": null,
   "id": "4102f0e9-e3bd-429c-9c7f-edfab0342922",
   "metadata": {},
   "outputs": [],
   "source": [
    "myList=[3,5,7,9,2,4,6,8]\n",
    "\n",
    "[x+10 for x in myList]"
   ]
  },
  {
   "cell_type": "markdown",
   "id": "e86b399d-4c32-42c2-a0eb-f1d24c039c4d",
   "metadata": {},
   "source": [
    "### Exercise 7: Write a lambda function\n",
    "\n",
    "Write a lambda function to add 10 to ```myVariable``` below"
   ]
  },
  {
   "cell_type": "code",
   "execution_count": null,
   "id": "d7c46a25-eceb-4996-ba27-773cdee58827",
   "metadata": {},
   "outputs": [],
   "source": [
    "myVariable = 100\n",
    "\n",
    "(lambda x: x+10)(myVariable)"
   ]
  },
  {
   "cell_type": "markdown",
   "id": "fe6c2f1c-ce62-4c37-b8aa-cd9a14d0b3cf",
   "metadata": {},
   "source": [
    "### Exercise 8: Write assert statements\n",
    "\n",
    "Use the lists below to test the following using assert statements. Include an error message in your assert statements. If you write your assert statements correctly, they should not raise any errors.\n",
    "\n",
    "- assert that list1 equals list2\n",
    "- assert that all values in pets are type string (str)\n",
    "- assert that at least one value from pets exists in animals"
   ]
  },
  {
   "cell_type": "code",
   "execution_count": 35,
   "id": "977e5531-5ff3-407e-9f9a-decc12491e47",
   "metadata": {},
   "outputs": [],
   "source": [
    "list1 = [1,2,3,4,5]\n",
    "list2 = [1,2,3,4,5]\n",
    "pets = ['dog','cat','bird','snake']\n",
    "animals = ['giraffe','horse','snake','elephant','tortoise','dog']"
   ]
  },
  {
   "cell_type": "code",
   "execution_count": 36,
   "id": "63a19e0f-17d7-4113-8daf-b9fa2e7e6ac2",
   "metadata": {},
   "outputs": [],
   "source": [
    "# add your code here\n",
    "assert list1==list2, 'list1 is not equal to list2'"
   ]
  },
  {
   "cell_type": "code",
   "execution_count": 39,
   "id": "ceda6af5-4518-4503-80fa-666d884cb937",
   "metadata": {},
   "outputs": [],
   "source": [
    "# add your code here\n",
    "assert all(isinstance(pet,str) for pet in pets), 'not all values in pets are string'"
   ]
  },
  {
   "cell_type": "code",
   "execution_count": 40,
   "id": "e9dbc86b-1530-49f3-bf52-8678eb808b2e",
   "metadata": {},
   "outputs": [],
   "source": [
    "# add your code here\n",
    "assert any(animal in pets for animal in animals), 'no values from the pets list are found in the animals list'"
   ]
  }
 ],
 "metadata": {
  "kernelspec": {
   "display_name": "learnbydoing",
   "language": "python",
   "name": "learnbydoing"
  },
  "language_info": {
   "codemirror_mode": {
    "name": "ipython",
    "version": 3
   },
   "file_extension": ".py",
   "mimetype": "text/x-python",
   "name": "python",
   "nbconvert_exporter": "python",
   "pygments_lexer": "ipython3",
   "version": "3.12.3"
  }
 },
 "nbformat": 4,
 "nbformat_minor": 5
}
