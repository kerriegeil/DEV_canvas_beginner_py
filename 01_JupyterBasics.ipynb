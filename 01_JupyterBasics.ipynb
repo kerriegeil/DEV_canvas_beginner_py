{
 "cells": [
  {
   "cell_type": "markdown",
   "id": "033dea65-ed15-412d-81f0-17e5b10fa332",
   "metadata": {},
   "source": [
    "# Jupyter Basics"
   ]
  },
  {
   "cell_type": "markdown",
   "id": "db644034-050c-4ae3-b249-80d0b26e714d",
   "metadata": {
    "editable": true,
    "slideshow": {
     "slide_type": ""
    },
    "tags": []
   },
   "source": [
    "<div class=\"alert alert-success\">\n",
    "    \n",
    "## This notebook covers\n",
    "- the Jupyter Lab interface\n",
    "- Jupyter notebook features\n",
    "</div>"
   ]
  },
  {
   "cell_type": "markdown",
   "id": "d3198aae-201c-4d03-82f5-5d1b6a08f6fd",
   "metadata": {
    "editable": true,
    "slideshow": {
     "slide_type": ""
    },
    "tags": []
   },
   "source": [
    "# I. The JupyterLab Interface\n",
    "\n",
    "Much of this content has been taken from the [JupyterLab User Guide](https://jupyterlab.readthedocs.io/en/latest/user/index.html). We will cover the aspects of JupyterLab that you need to know to complete the course. For more detail or additional feautures, check out the user guide. \n",
    "\n",
    "The JupyterLab interface consists of:\n",
    "- a *main work area* containing tabs of documents,\n",
    "- collapsible left and right *sidebars*, and\n",
    "- a *menu bar*.  \n",
    "\n",
    "<img src=\"images/JupyterInterface.png\" width=\"600\"/>\n"
   ]
  },
  {
   "cell_type": "markdown",
   "id": "e1c4f0a4-7b3e-435c-8508-c4dfc4c06ce0",
   "metadata": {},
   "source": [
    "## Menu Bar\n",
    "\n",
    "The menu bar is located at the top of the JupyterLab interface. The most important options on the menu bar are:\n",
    "\n",
    "- **File menu**: opening, creating, saving files\n",
    "- **Edit menu**: contains the undo options\n",
    "- **View menu**: this is where you can turn on line numbers\n",
    "- **Run menu**: options for running code cells which we'll cover later\n",
    "- **Kernel menu**: options for restarting your python environment, which we'll cover in a future lesson\n",
    "- **Settings Menu**: this is where you can change the display theme to dark or increase font size\n",
    "\n",
    "\n",
    "### open existing file, open new blank notebook, save as\n",
    "<video width=\"400\" height=\"200\" loop autoplay src=\"screen_vids/Open_New_SaveAs.mp4\"></video>\n",
    "\n",
    "### change display theme or font size\n",
    "<video width=\"400\" height=\"200\" loop autoplay src=\"screen_vids/Theme_Fontsize.mp4\"></video>"
   ]
  },
  {
   "cell_type": "markdown",
   "id": "9269570c-cec6-4491-9d41-81ee6d92f0cf",
   "metadata": {
    "editable": true,
    "slideshow": {
     "slide_type": ""
    },
    "tags": []
   },
   "source": [
    "## Left Sidebar\n",
    "\n",
    "The two features of the left sidebar that we'll use in the course are the *file browser* and the *table of contents*. Clicking once an icon in a sidebar will expand the sidebar. Click again to collapse.\n",
    "\n",
    "### File browser\n",
    "\n",
    "The file browser is the icon that looks like a folder on the left sidebar. In the file browser you can navigate through your computer's directories to find files. Navigate forward by clicking directories under the Name column. Navigate backward by clicking directories in the path above the Name column.\n",
    "\n",
    "<video width=\"450\" height=\"300\" loop autoplay src=\"screen_vids/FileBrowser_Open.mp4\"></video>\n",
    "\n",
    "\n",
    "We can create new directories using the *new folder* icon at the top of the file browser and we can reorganize files in the file browswer by dragging them to new locations\n",
    "\n",
    "<video width=\"450\" height=\"300\" loop autoplay src=\"screen_vids/FileBrowser_DragDrop.mp4\"></video>\n",
    "\n",
    "To rename a file, make a duplicate, or delete a file, right click on the file name in the file browser to bring up the *context menu*.\n",
    "\n",
    "<video width=\"450\" height=\"300\" loop autoplay src=\"screen_vids/FileBrowser_RenameDuplicateDelete.mp4\"></video>\n",
    "\n",
    "\n",
    "### Table of Contents\n",
    "\n",
    "The table of contents is the hamburger icon on the left sidebar. If there is a notebook open in the main work area, it will show us a table of contents with different levels of indentation based on the headings inside the notebook. We can click headings in the table of contents to jump from heading to heading in the notebook.  \n",
    "\n",
    "<video width=\"600\" height=\"250\" loop autoplay src=\"screen_vids/TOC.mp4\"></video>"
   ]
  },
  {
   "cell_type": "markdown",
   "id": "4fd4027d-2589-4e23-83c1-f967017535bb",
   "metadata": {
    "editable": true,
    "slideshow": {
     "slide_type": ""
    },
    "tags": []
   },
   "source": [
    "## Main Work Area\n",
    "\n",
    "The main work area is where files open up. We can have multiple files open at a time. Each file is placed on its own tab. Only one file can be \"active\" at a time, which is indicated by the blue highlight at the top of a tab.\n",
    "\n",
    "<video width=\"650\" height=\"300\" loop autoplay src=\"screen_vids/MainWorkArea_Active.mp4\"></video>\n",
    "\n",
    "### Different File Layouts\n",
    "\n",
    "We can arrange the tabs in different configurations for easier viewing by dragging them around. Notice how even if we can see more than one tab simultaneously, there is still only a single active tab indicated by the blue highlight.\n",
    "\n",
    "<video width=\"650\" height=\"300\" loop autoplay src=\"screen_vids/MainWorkArea_DragDrop.mp4\"></video>\n",
    "\n",
    "### Find and Find/Replace\n",
    "\n",
    "Bring up the search tool to search for words within a file by typing ```Ctrl+F``` (```Cmd+F``` on Mac). The first icon next to the search bar will ensure case is matched. Use the up and down arrows in the search tool to navigate from one match to the next. Click the carrot to the left of the search bar to reveal the options for replacing text. Click the `X` on the Search tool to exit the tool.\n",
    "\n",
    "<video width=\"650\" height=\"300\" loop autoplay src=\"screen_vids/MainWorkArea_FindReplace.mp4\"></video>\n"
   ]
  },
  {
   "cell_type": "markdown",
   "id": "3bf1ebf6-45b2-4327-8d76-53280957d995",
   "metadata": {},
   "source": [
    "# II. Jupyter Notebooks (.ipynb)\n",
    "\n",
    "Jupyter notebooks, like the current file you are reading, are documents that combine live runnable code with narrative text, equations, images, interactive visualizations, and other rich output.\n",
    "\n",
    "Let's look at the features inside of a notebook. The notebook name and whether it is active or not (blue highlight) is found on the notebook tab. We can right click the notebook name on the tab and bring up options for renaming, duplicating, deleting and more.\n",
    "\n",
    "<img src=\"images/JupyterNB_ContextMenu.png\" width=\"350\"/>\n",
    "\n",
    "Just below the notebook name we can see the notebook toolbar. This is where we can find icons for save, cut, copy, paste, and more. Note that JupyterLab autosaves your notebooks as you are working on them every 1 minute by default, so no need to constantly click the save icon. \n",
    "\n",
    "<img src=\"images/JupyterNB_Toolbar.png\" width=\"350\"/>\n",
    "\n",
    "## Cells Types\n",
    "\n",
    "Inside a notebook, we can write content in three types of *cells*: raw, markdown, and code cells. We can choose the type of cell we want by clicking the cursor into a cell and then selecting the cell type from the drop down menu on the notebook toolbar. Only one cell can be active at a time. The active cell is indicated with blue highlight around the cell and along the left side of the notebook.\n",
    "\n",
    "<video width=\"400\" height=\"200\" loop autoplay src=\"screen_vids/JupyterNB_CellTypes.mp4\"></video>\n",
    "\n",
    "### raw"
   ]
  },
  {
   "cell_type": "raw",
   "id": "5813e88e-0c2c-4f93-84e4-3b239a9b5a36",
   "metadata": {},
   "source": [
    "This is a raw cell. It is plain text with no formatting. This will likely be your least frequently used cell type."
   ]
  },
  {
   "cell_type": "markdown",
   "id": "f1635eb8-1ad8-4887-adb0-e3dfdd32c80e",
   "metadata": {},
   "source": [
    "### markdown\n",
    "Except for the cell directly above this, all the content we've seen in this notebook so far has been written in markdown cells. This cell is a markdown cell. In markdown cells, we can take notes, write instructions, or type any other kind of text we want. \n",
    "\n",
    "Markdown is a markup language that allows us to format text without using HTML tags (although we can also use HTML inside a markdown cell as well, this is how many of the videos and images you've already seen are embedded in the notebook).  Let's look briefly at a few basic markdown formatting options. Don't worry about remembering all these things immediately. You can always double click any of the markdown cells in the notebooks provided to you to see the tricks for how to add formatting and copy it. Try double clicking on the following markdown cells to reveal the markdown syntax.\n",
    "\n",
    "---"
   ]
  },
  {
   "cell_type": "markdown",
   "id": "9b7d8067-63f7-400e-bef8-fec4f6e7fe43",
   "metadata": {},
   "source": [
    "Double click here to reveal the markdown syntax. Headers start with at least one # followed by a space.\n",
    "\n",
    "# Headers of different\n",
    "## sizes will show up in the\n",
    "### table of contents with\n",
    "#### different indentation levels\n",
    "\n",
    "and this is just normal text that will not show in the TOC\n",
    "\n",
    "---"
   ]
  },
  {
   "cell_type": "markdown",
   "id": "ec068a35-aa92-44f0-a98a-9a49c1d9e284",
   "metadata": {},
   "source": [
    "Double click here to reveal the markdown syntax. Surround words with 1 asterisk for italics, 2 for bold, and 3 for bold italics.\n",
    "\n",
    "*italics*, **bold**,  and ***bold italics***\n",
    "\n",
    "---"
   ]
  },
  {
   "cell_type": "markdown",
   "id": "99a931b9-5d29-4a85-bf82-56fa8ef24cfa",
   "metadata": {},
   "source": [
    "Double click here to reveal the markdown syntax. Numbered lists start with a number followed by a period and a space, bulleted lists start with a dash and a space.\n",
    "\n",
    "List 1\n",
    "1. first thing\n",
    "2. second thing\n",
    "\n",
    "List 2\n",
    "- first thing\n",
    "    - sub thing\n",
    "- second thing \n",
    "\n",
    "---"
   ]
  },
  {
   "cell_type": "markdown",
   "id": "44ad41ae-8ad2-4c68-a571-63187c92b031",
   "metadata": {},
   "source": [
    "Double click here to reveal the markdown syntax. Link text goes in square brackets followed by the web link in parentheses. \n",
    "\n",
    "[a web link to more about markdown](https://www.kaggle.com/code/cuecacuela/the-ultimate-markdown-cheat-sheet)\n",
    "\n",
    "There are tons of resources on the web that will teach you more markdown tricks. If you are searching for a particular trick make sure to search 'jupyter markdown' since there are many different flavors of markdown language and the syntax will vary slightly- not everything you find on the web will work in Jupyter markdown.\n",
    "\n",
    "---"
   ]
  },
  {
   "cell_type": "markdown",
   "id": "ffb856fd-5d5b-4848-a722-7916e1db1e7e",
   "metadata": {},
   "source": [
    "Double click here to reveal the markdown syntax. Simple tables can be created with a combination of dashes and pipes. There are a lot of additional table options that we won't cover here.\n",
    "\n",
    "col1|col2|col3\n",
    "---|---|---\n",
    "data|data|data\n",
    "data|data|data\n",
    "data|data|data\n",
    "\n",
    "---"
   ]
  },
  {
   "cell_type": "markdown",
   "id": "822b081c-4d90-41a7-a342-198632315bab",
   "metadata": {},
   "source": [
    "Double click here to reveal the markdown syntax. Images can be inserted to Jupyter markdown cells in a few different ways. Here's how to insert a png image that is stored on your computer.\n",
    "\n",
    "![image of the letter a](images/letter_a.png)\n",
    "\n",
    "---"
   ]
  },
  {
   "cell_type": "markdown",
   "id": "75ae49ca-8fa2-44b6-b845-d2424ef10d31",
   "metadata": {},
   "source": [
    "And lastly, we can include plain text in a markdown cell using ticks. Double click here to reveal the markdown syntax.\n",
    "\n",
    "`plain text` is good for indicating `variable names` and `function names`\n",
    "\n",
    "---"
   ]
  },
  {
   "cell_type": "markdown",
   "id": "491b03bb-07a1-44c2-8e6a-eb423e169df6",
   "metadata": {},
   "source": [
    "These few markdown things are just the very tip of what is possible. As we progress through the course notebooks you'll see a lot more markdown formatting and if you are looking to get even fancier, there are endless jupyter markdown and html resources online.\n",
    "\n",
    "Let's move on to learning about code cells!\n",
    "\n",
    "### code\n",
    "\n",
    "Code cells are where we can write and execute (or \"run\") python code. \n",
    "\n",
    "To run code cells (or to render markdown cells) there are three options. First make the cell you want to run active by selecting the cell or placing your cursor in the cell. Then:\n",
    "1) hold down the shift key while hitting the enter key (```Shift+Enter```),\n",
    "2) click the play button that you should see on the notebook's toolbar, or\n",
    "3) click on the Run menu and click Run Selected Cell.\n",
    "\n",
    "When a code cell has finished executing, we see a number show up in the square brackets to the left of the cell. When we run multiple code cells, this number indicates the order in which the cells were run.\n",
    "\n",
    "If the code cell generates any output, we see that output immediately below the cell. Let's take a look."
   ]
  },
  {
   "cell_type": "code",
   "execution_count": null,
   "id": "f1f3bf4f-f84d-46e8-85d9-cfc05315f58d",
   "metadata": {},
   "outputs": [],
   "source": [
    "# run this cell and you'll see the number appear\n",
    "# in the square brackets indicating the cell executed,\n",
    "# but there will be no output underneath the cell \n",
    "# because all these comment lines are ignored\n",
    "\n",
    "# use the hash symbol to create comment lines in a code cell\n",
    "# comments are ignored when executing the cell"
   ]
  },
  {
   "cell_type": "code",
   "execution_count": null,
   "id": "7e38a6e4-84f4-4244-a723-1b15d1a1d78b",
   "metadata": {},
   "outputs": [],
   "source": [
    "# run this code cell\n",
    "\n",
    "# here is an expression that will generate an output\n",
    "\n",
    "4 + 6"
   ]
  },
  {
   "cell_type": "code",
   "execution_count": null,
   "id": "766a7fef-44c6-4661-8d4c-69e0ea82e722",
   "metadata": {
    "editable": true,
    "slideshow": {
     "slide_type": ""
    },
    "tags": []
   },
   "outputs": [],
   "source": [
    "# run this code cell\n",
    "\n",
    "# here is an equation which defines the value of a variable called\n",
    "# myVariable and then prints the value of myVariable as output\n",
    "\n",
    "myVariable = 'A'\n",
    "myVariable"
   ]
  },
  {
   "cell_type": "markdown",
   "id": "dd041d46-2c8d-4e94-88f7-bc4124c5ce47",
   "metadata": {},
   "source": [
    "By the way, our variable ```myVariable``` contains a text \"string\" and the length of the string is one character long. We'll learn much more about the different data types that we can store in variables in the next lesson.\n",
    "\n",
    "The last thing we'll cover here about code cells are **Jupyter's automatic code completion** features. Jupyter offers a few forms of automatic code completion.\n",
    "\n",
    "First, **automatic completion of variable names**. In the code cell below, try typing the first few letters of the variable that we have already created ```myVariable```. Type ```myV```, make sure the cursor is positioned right after the `V`,  and hit the ```Tab``` key. We should see the full variable name pop up. We can enable the auto complete of the variable name by hitting ```Tab``` again or ```Enter```. This comes in handy to save some typing of long variable names or to help you remember the names of the variables you've already created without scrolling back through a notebook.\n",
    "\n",
    "Here's what happens:\n",
    "\n",
    "<video width=\"400\" height=\"250\" loop autoplay src=\"screen_vids/JupyterNB_AutoVarnames.mp4\"></video>\n",
    "\n",
    "Now you try in the code cell below:"
   ]
  },
  {
   "cell_type": "code",
   "execution_count": null,
   "id": "786ef171-7697-457a-a4a2-0d2a747a9bdd",
   "metadata": {},
   "outputs": [],
   "source": [
    "# add your code here\n"
   ]
  },
  {
   "cell_type": "markdown",
   "id": "c87b2c6d-7698-4679-9191-7be61c42327a",
   "metadata": {},
   "source": [
    "Second, **automatic code suggestions**. If we type ```myVariable.``` (adding a period to the end of the variable name) and then hit ```Tab```, we see a list of Python functions that we could apply to that variable. We can use the up/down arrow keys or a mouse to select from the list. Find the function ```islower``` and select it by typing ```Enter```.\n",
    "\n",
    "Here's what happens:\n",
    "\n",
    "<video width=\"250\" height=\"350\" loop autoplay src=\"screen_vids/JupyterNB_AutoCode.mp4\"></video>\n",
    "\n",
    "Give it a shot yourself in the code cell below: "
   ]
  },
  {
   "cell_type": "code",
   "execution_count": null,
   "id": "ff3bec56-2977-43c7-9157-f0b44aee27cc",
   "metadata": {},
   "outputs": [],
   "source": [
    "# add your code here\n"
   ]
  },
  {
   "cell_type": "markdown",
   "id": "f4948322-0f38-4e8f-a60c-9a9d2b6fa6c8",
   "metadata": {},
   "source": [
    "Great, but now what? We don't yet know what ```.islower``` does or how to use it. Don't worry, Jupyter can often times provide us this info. If we type ```myVariable.islower``` and make sure the curser is positioned right after the last ```r```, we can type ```Shift+Tab``` to bring up some brief documentation about the ```.islower``` function.\n",
    "\n",
    "Here's what happens:\n",
    "\n",
    "<video width=\"600\" height=\"200\" loop autoplay src=\"screen_vids/JupyterNB_AutoDoc.mp4\"></video>\n",
    "\n",
    "Try displaying the documentation for the function ```.islower``` on your own in the code cell below:"
   ]
  },
  {
   "cell_type": "code",
   "execution_count": null,
   "id": "0343e8a6-a03c-44d3-b61d-c167778c0f69",
   "metadata": {},
   "outputs": [],
   "source": [
    "# add your code here\n"
   ]
  },
  {
   "cell_type": "markdown",
   "id": "5965d203-92da-47d8-9211-762312697c65",
   "metadata": {},
   "source": [
    "The documentation tell us that ```.islower``` will return True if the value of our variable is all lower case and False otherwise. We can also see from the Signature in the pop-up documentation that in order to execute the function we need parentheses like ```.islower()```. Let's try executing the function. We should expect that since ```myVariable``` equals a capitalized `A` that the function will return False.\n",
    "\n",
    "Here's what happens:\n",
    "\n",
    "<video width=\"200\" height=\"200\" loop autoplay src=\"screen_vids/JupyterNB_islower.mp4\"></video>\n",
    "\n",
    "Now you try in the cell below:"
   ]
  },
  {
   "cell_type": "code",
   "execution_count": null,
   "id": "e041ac71-17fb-476a-829b-f1e1c5f7cd64",
   "metadata": {},
   "outputs": [],
   "source": [
    "# add your code here\n"
   ]
  },
  {
   "cell_type": "markdown",
   "id": "b1a201af-6144-43f1-80ce-a1808e5daee5",
   "metadata": {},
   "source": [
    "Don't worry too much if this feels confusing right now, we'll be learning the basics of Python and looking at many more functions in the next lesson. For now it's good enough if you simply understand that these types of automatic code completion capabilities are available in a Jupyter notebook. \n",
    "\n",
    "# Rearranging Notebook Cells\n",
    "\n",
    "The notebook toolbar has icons for creating new cells, cut, copy, and paste. Take a moment to try each of those icons to see how they work.\n",
    "\n",
    "Here's what happens:\n",
    "\n",
    "<video width=\"400\" height=\"200\" loop autoplay src=\"screen_vids/JupyterNB_NewCutCopyPaste.mp4\"></video>"
   ]
  },
  {
   "cell_type": "markdown",
   "id": "17b0f894-7e7b-4557-8d4d-cffd784bde71",
   "metadata": {},
   "source": [
    "We can move cells by dragging and dropping with a mouse. To drag and drop, first select the cell that will be moved so that it is highlighted in blue. Then hover the mouse a little to the right of the verticle blue highlight line and the cursor should turn into a four-way arrow. Click there and drag the cell up and down. Drop the cell wherever you please. This works for any type of cell.\n",
    "\n",
    "Here's what happens:\n",
    "\n",
    "<video width=\"400\" height=\"200\" loop autoplay src=\"screen_vids/JupyterNB_CellDrag.mp4\"></video>\n",
    "\n",
    "If we have multiple notebooks open, we can copy a cell from one notebook to another by dragging and dropping too.\n",
    "\n",
    "Here's what happens:\n",
    "\n",
    "<video width=\"650\" height=\"200\" loop autoplay src=\"screen_vids/JupyterNB_CellDragCopy.mp4\"></video>\n",
    "\n",
    "Also, cells of all types have a small set of options within the cell itself for cell duplication, moving up and down, creating a new cell above or below, and deleting the cell. Icons for these options are visible in a highlighted cell as long as there is not too much text or code present in the cell.\n",
    "\n",
    "<img src=\"images/JupyterNB_OptionsInCell.png\" width=\"500\"/>\n"
   ]
  },
  {
   "cell_type": "markdown",
   "id": "389bb2f7-904e-4e53-99ad-daeea0d94b21",
   "metadata": {},
   "source": [
    "<div class=\"alert alert-success\">\n",
    "\n",
    "# III. Jupyter: Learning More\n",
    "\n",
    "Congratulations! You've made it through the first lesson. This notebook covered the features of JupyterLab that will be useful for completing this course. The only other Jupyter topic we'll need to tackle is Jupyter kernels, but we'll get to that later in the lesson on creating Python environments. \n",
    "\n",
    "There are plenty of features of JupyterLab that we didn't cover here. If you are interested in learning more about Jupyter, check out the [Jupyter Documentation](https://jupyterlab.readthedocs.io/en/latest/index.html) website where you can find an in-depth user guide and more.\n",
    "</div>"
   ]
  }
 ],
 "metadata": {
  "kernelspec": {
   "display_name": "Python 3 (ipykernel)",
   "language": "python",
   "name": "python3"
  },
  "language_info": {
   "codemirror_mode": {
    "name": "ipython",
    "version": 3
   },
   "file_extension": ".py",
   "mimetype": "text/x-python",
   "name": "python",
   "nbconvert_exporter": "python",
   "pygments_lexer": "ipython3",
   "version": "3.11.7"
  }
 },
 "nbformat": 4,
 "nbformat_minor": 5
}
