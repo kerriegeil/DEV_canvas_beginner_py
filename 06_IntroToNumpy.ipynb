{
 "cells": [
  {
   "cell_type": "markdown",
   "id": "1768413a-c9cc-4d37-85c9-cfe4eb0704d7",
   "metadata": {},
   "source": [
    "# Introduction to NumPy for Working with Numerical Data Arrays"
   ]
  },
  {
   "cell_type": "markdown",
   "id": "db644034-050c-4ae3-b249-80d0b26e714d",
   "metadata": {
    "editable": true,
    "jp-MarkdownHeadingCollapsed": true,
    "slideshow": {
     "slide_type": ""
    },
    "tags": []
   },
   "source": [
    "<div class=\"alert alert-success\">\n",
    "    \n",
    "## This notebook covers\n",
    "- NumPy multidimensional array data structure\n",
    "- NumPy data types\n",
    "- Array creation\n",
    "- Basic and advanced indexing\n",
    "- Elementwise array calculations\n",
    "- Broadcasting\n",
    "- Mathmatical and logic functions\n",
    "- Sorting, searching, and counting functions\n",
    "- Views and copies\n",
    "- Array manipulation\n",
    "- Reading and writing array data\n",
    "</div>"
   ]
  },
  {
   "cell_type": "markdown",
   "id": "cec7f935-a8ca-4192-836f-ba569d498b98",
   "metadata": {
    "editable": true,
    "jp-MarkdownHeadingCollapsed": true,
    "slideshow": {
     "slide_type": ""
    },
    "tags": []
   },
   "source": [
    "<div class=\"alert alert-warning\">\n",
    "\n",
    "## Reminders\n",
    "\n",
    "Remember, you can use Jupyter's built-in table of contents (hamburger on the far left) to jump from heading to heading.\n",
    "\n",
    "---\n",
    "\n",
    "This notebook will run in the MSUpy conda environment, which you created in the previous lesson. To load the MSUpy environment in this notebook go to the Kernel tab, select Change Kernel, then select the MSUpy kernel in the pop up window.\n",
    "\n",
    "---\n",
    "\n",
    "To turn on line numbers for code cells go to View menu and click Show Line Numbers.\n",
    "\n",
    "</div>"
   ]
  },
  {
   "cell_type": "markdown",
   "id": "a7a10e75-ab62-4798-b547-2b80b1e896be",
   "metadata": {},
   "source": [
    "# I. Importing Necessary Packages"
   ]
  },
  {
   "cell_type": "code",
   "execution_count": 1,
   "id": "2082d529-6fc3-4edf-9ade-0f6d3e2f8a26",
   "metadata": {},
   "outputs": [],
   "source": [
    "import numpy as np\n",
    "import pandas as pd\n",
    "import matplotlib.pyplot as plt\n",
    "import glob"
   ]
  },
  {
   "cell_type": "markdown",
   "id": "6343d55f-4c6e-4ae3-a9dd-10264e3aa3fd",
   "metadata": {
    "editable": true,
    "slideshow": {
     "slide_type": ""
    },
    "tags": []
   },
   "source": [
    "# II. Introduction to the NumPy Data Structure\n",
    "\n",
    "The NumPy (**Num**erical **Py**thon) package is widely used in science and engineering for working with data in homogenous (same data type) multidimensional arrays. Using NumPy multidimensional arrays, as opposed to nested Python lists, improves speed, reduces memory consumption, and offers easier syntax for performing a variety of common data processing tasks. \n",
    "\n",
    "This notebook is the longest of all the lessons in the course, but stick with it! NumPy is the basis of many scientific computing Python packages (e.g., Xarray, SciPy, and more) meaning other packages take the NumPy package as their foundation and build additional functionality on top of it. For this reason, it is important to understand NumPy in a little more depth. \n",
    "\n",
    "## Data Structure - ndarray\n",
    "\n",
    "The NumPy data structure is called an *ndarray*, for n-dimensional array, which we may also refer to throughout this notebook as \"NumPy array\" or simply as an \"array\". Below is a schematic of a 1-dimensional, 2-dimensional, and 3-dimensional array. A 1D array looks similar to a list or a single row of data values. A 2D array looks similar to a grid or table with rows and columns. A 3D array looks similar to a cube or cuboid. Each dimension in an ndarray is also called an *axis* and the first axis is always axis zero, keeping consistent with Python's zero-based indexing. Each data value in an ndarray is called an *element* or *cell*. Also, NumPy arrays must be rectangular and not jagged (e.g., each row of a two-dimensional array must have the same number of columns) and all of the data values in each array must be of the same data type. You'll notice below that, similar to Pandas DataFrames, NumPy arrays have a shape attribute where each number in the shape tuple is the length of an array axis. \n",
    "\n",
    "<img src=\"images/numpy_arrays.png\" alt=\"schematic of ndarrays\" width=\"700\"/>\n",
    "\n",
    "It could be helpful to think of array dimensionality in terms of the data our arrays could hold (see image below). A geoscientist, for example, may use a 1D array to hold solar radiation observations over time at a single location (a timeseries). In this case the only axis (axis 0) would represent data values at different times. A 2D array could hold spatially gridded data like a gridded map of annual mean temperature or alternatively it could hold land surface imagery with 1-meter pixel resolution, for example. In this case axis 0 (rows) could represent data values at different latitudes and axis 1 (columns) could represent data values at different longitudes. A 3D array could hold a timeseries of spatially gridded data like daily maximum temperature on a grid. In this case axis 0 (the stack in the image below) could represent different times and axes 1 and 2 could represent different latitudes and longitudes.  \n",
    "\n",
    "<img src=\"images/numpy_geoarrays.png\" alt=\"ndarray data examples\" width=\"700\"/>\n",
    "\n",
    "The above are examples of array data you may encounter frequently, but actually NumPy arrays can have as many axes as you can dream up and each axis can represent whatever you want it to. In this notebook though, we'll think of 1D arrays mostly as timeseries, 2D arrays as latitude-longitude grids, and 3D arrays as timeseries of latitude-longitude grids. \n",
    "\n",
    "We won't get into higher dimensional data arrays and we'll only work with numerical data arrays (integer, float, boolean). Technically, NumPy arrays can contain numerical or non-numerical data (such as strings and bytes) but non-numerical data must be defined as fixed-width data types, which requires knowing or calculating the sizes of the longest text or byte sequence in advance. We will not cover non-numerical NumPy arrays in this course. \n",
    "\n",
    "## NumPy Data Types\n",
    "\n",
    "We'll cover a few, but not all, of the NumPy numerical data types here. NumPy supports a much greater variety of numerical data types than core Python does. NumPy numerical data types are more specific than the core Python numerical data types, allowing for more efficient memory usage and faster computation. More detail can be found in the [NumPy Documentation for Data Types](https://numpy.org/doc/stable/user/basics.types.html#data-types).\n",
    "\n",
    "The NumPy data types below are *concrete* types, meaning that a consistent number of bits are reserved for each individual data value in memory. A bit is the smallest unit of data in a computer's memory (represented by a 0 or a 1) and we need 8 bits (1 byte) to represent one character like a letter or number in memory. Most of the concrete data types below are named by combining the basic numerical type name (e.g., integer, float) with the number of bits that are needed to represent a single value in memory (bitsize).\n",
    "\n",
    "NumPy Data Type | Description | Value Range\n",
    "---|---|---\n",
    "```np.bool_``` | 8-bit Boolean | True/False, not equivalent to 1,0\n",
    "```np.int8``` | 8-bit integer value | -128 to 127\n",
    "```np.int16``` | 16-bit integer value | -32768 to 32767\n",
    "```np.int32``` | 32-bit integer value | -2147483648 to 2147483647\n",
    "```np.int64``` | 64-bit integer value | -9223372036854775808 to 9223372036854775807\n",
    "```np.uint8``` | unsigned 8-bit integer value | 0 to 255\n",
    "```np.uint16``` | unsigned 16-bit integer value | 0 to 65535\n",
    "```np.uint32``` | unsigned 32-bit integer value | 0 to 4294967295\n",
    "```np.uint64``` | unsigned 64-bit integer value | 0 to 18446744073709551615\n",
    "```np.float16``` | half precision float values | Precision: approx. 3 decimal digits<br /> Range: ±6.55040e4 \n",
    "```np.float32``` | single-precision float values | Precision: approx. 6 decimal digits<br /> Range: ±3.4028235e+38, \n",
    "```np.float64``` | double-precision float values | Precision: approx. 15 decimal digits<br /> Range: ±1.7976931348623157e+308 "
   ]
  },
  {
   "cell_type": "markdown",
   "id": "cb00e9bd-4170-457a-8d93-6cb67b780a68",
   "metadata": {},
   "source": [
    "<div class=\"alert alert-danger\">\n",
    "\n",
    "**Sidebar: Pay attention to your data types**\n",
    "\n",
    "When you start working with larger array objects, you will need to be more aware of how much memory your objects are consuming to avoid running into the RAM limitations of your computer. \n",
    "\n",
    "For example, if you obtain daily gridded temperature or precipitation data they are often provided as float64. This is a wildly unneccesary amount of precision for these data. You can certainly convert to float32 which would result in speedier calculations and use only half the memory as float64. For temperature, you can convert to float16 for even faster calculations and 1/4 of the memory use as float64. For precipitation or other data that may require more than 3 decimal places or contain values greater than ~65500 the smallest/fastest data type may be float32.\n",
    "\n",
    "If you try converting your data to a smaller data type and receive an \"overflow\" warning, that means 1 or more of your data values cannot be properly represented with fewer bits. But beware, as we'll cover later, you may not always receive a warning in cases where you choose a data type that is too small, which can result in unexpected changes to your data values.\n",
    "</div>"
   ]
  },
  {
   "cell_type": "markdown",
   "id": "4c240028-9a35-44ab-aab3-46e8d99e3b45",
   "metadata": {},
   "source": [
    "Although not necessary recommended, NumPy arrays can also hold data of built-in Python types. The NumPy aliases to the built-in Python data types for boolean, integer, and float are:\n",
    "\n",
    "Python Built-in Type | NumPy Alias | Description\n",
    "---|---|---\n",
    "bool | ```np.bool``` | boolean True/False, equivalent to 1,0\n",
    "int | ```np.int``` | integer values of variable size in memory\n",
    "float | ```np.float``` | float values of variable size in memory\n",
    "\n",
    "\n",
    "## Creating a NumPy Array from Scratch\n",
    "\n",
    "We'll first create 1D, 2D, and 3D NumPy arrays from scratch. Later, we'll learn how to read data from files into NumPy arrays. \n",
    "\n",
    "First, a 1D array. Create it using the ```np.array()``` function and give the function a Python list of numbers as the input parameter."
   ]
  },
  {
   "cell_type": "code",
   "execution_count": 105,
   "id": "a231a605-7d38-4c28-b394-5b9d4443d87d",
   "metadata": {},
   "outputs": [
    {
     "name": "stdout",
     "output_type": "stream",
     "text": [
      "(10,)\n"
     ]
    },
    {
     "data": {
      "text/plain": [
       "array([ 1,  2,  3,  4,  5,  6,  7,  8,  9, 10])"
      ]
     },
     "execution_count": 105,
     "metadata": {},
     "output_type": "execute_result"
    }
   ],
   "source": [
    "arr_1d = np.array([1,2,3,4,5,6,7,8,9,10])\n",
    "\n",
    "print(arr_1d.shape)\n",
    "arr_1d"
   ]
  },
  {
   "cell_type": "markdown",
   "id": "7d162876-c1d5-4faf-8784-7b93dba078b0",
   "metadata": {},
   "source": [
    "This should be fairly straightforward. Notice that, like Pandas offers the ```.shape``` attribute for its data structure (the DataFrame), NumPy offers the ```.shape``` attribute as well for its data structure (the ndarray). \n",
    "\n",
    "Why the trailing comma in the shape tuple?\n",
    "\n",
    "It's just part of the Python language. The ```.shape``` attribute always returns a tuple and the trailing comma indicates that it is a single-element tuple (we can't have a single-element tuple without the trailing comma). There is only 1 dimension (i.e., axis) in our array so our shape tuple will only have 1 element.\n",
    "\n",
    "Now, we'll create a 2D array by giving the ```np.array()``` function a nested Python list of numbers as the input parameter."
   ]
  },
  {
   "cell_type": "code",
   "execution_count": 106,
   "id": "85178de4-0d73-4913-b26b-3523d1c01a12",
   "metadata": {},
   "outputs": [
    {
     "name": "stdout",
     "output_type": "stream",
     "text": [
      "(2, 5)\n"
     ]
    },
    {
     "data": {
      "text/plain": [
       "array([[ 1,  2,  3,  4,  5],\n",
       "       [ 6,  7,  8,  9, 10]])"
      ]
     },
     "execution_count": 106,
     "metadata": {},
     "output_type": "execute_result"
    }
   ],
   "source": [
    "arr_2d = np.array([[1,2,3,4,5],\n",
    "                   [6,7,8,9,10]])\n",
    "\n",
    "print(arr_2d.shape)\n",
    "arr_2d"
   ]
  },
  {
   "cell_type": "markdown",
   "id": "5259b323-ba84-439b-8b4a-f204379aff9f",
   "metadata": {},
   "source": [
    "The result is an array with 2 rows and 5 columns of data values. \n",
    "\n",
    "The length (5) of the innermost nested list that we provide to ```np.array()``` (e.g., ```[1, 2, 3, 4, 5]``` and ```[6, 7, 8, 9, 10]```) is the last (rightmost) axis in the array shape. It's often helpful to think of the last axis of our arrays with 2 or more axes as our columns.\n",
    "\n",
    "The number of innermost lists (2) is the next axis to the left (second to last axis). It's often helpful to think of the second to last axis of our arrays with 2 or more axes as our rows.\n",
    "\n",
    "Let's try a 3D array."
   ]
  },
  {
   "cell_type": "code",
   "execution_count": 107,
   "id": "762181a8-231b-4ef7-a0a9-b1bcd4124c22",
   "metadata": {},
   "outputs": [
    {
     "name": "stdout",
     "output_type": "stream",
     "text": [
      "(3, 3, 2)\n"
     ]
    },
    {
     "data": {
      "text/plain": [
       "array([[[ 1,  2],\n",
       "        [ 4,  3],\n",
       "        [ 7,  4]],\n",
       "\n",
       "       [[ 2,  8],\n",
       "        [ 9, 10],\n",
       "        [ 7,  5]],\n",
       "\n",
       "       [[ 1,  6],\n",
       "        [ 3, 11],\n",
       "        [ 0,  2]]])"
      ]
     },
     "execution_count": 107,
     "metadata": {},
     "output_type": "execute_result"
    }
   ],
   "source": [
    "arr_3d = np.array([[[1, 2], \n",
    "                    [4,3], \n",
    "                    [7,4]],\n",
    "                   [[2, 8], \n",
    "                    [9, 10], \n",
    "                    [7, 5]],\n",
    "                   [[1, 6], \n",
    "                    [3, 11], \n",
    "                    [0, 2]]])\n",
    "\n",
    "print(arr_3d.shape)\n",
    "arr_3d"
   ]
  },
  {
   "cell_type": "markdown",
   "id": "16165b50-b872-4029-bd0c-70a4b7fd9a54",
   "metadata": {},
   "source": [
    "Again, the length (2) of the innermost nested list that we provide to ```np.array()``` is the last axis in the array shape (axis 2). The number of innermost lists (3) inside the next nest level is the second to last axis (axis 1). The number of 3x2 nested lists (3) inside the next nest level is the next dimension to the left (axis 0). It's often helpful to think of 3D array axes as stack, rows, columns.\n",
    "\n",
    "If we think about this array as having dimensions time, latitude, longitude then this array would contain a 3x2 gridded map of data (3 latitudes by 2 longitudes) at 3 different times. Where longitudes are our columns (last axis), latitudes are our rows (next to last axis), and time is the stack (leftmost axis) of our 3D data cuboid.\n",
    "\n",
    "Let's visualize this array in three dimensions. Look at where the ```[1, 2]``` appears. The ```[1, 2]``` represents the data values at the first time, the first latitude, and all (2) longitudes. \n",
    "\n",
    "<img src=\"images/numpy3D_selection.png\" alt=\"ndarray data examples\" width=\"300\"/>\n",
    "\n",
    "## Array Attributes\n",
    "\n",
    "Each ndarray has a number of *attributes*. These may also be called array *properties*. We've already seen one of these above with ```.shape```. The others we will cover are ```.ndim```, ```.size```, ```.dtype```, ```.itemsize```, and ```.nbytes```. The full list of attributes can be found in the [NumPy API reference for ```np.ndarray()```](https://numpy.org/doc/stable/reference/generated/numpy.ndarray.html)."
   ]
  },
  {
   "cell_type": "code",
   "execution_count": null,
   "id": "8d41404a-4030-4f7f-b71f-75766175b5ea",
   "metadata": {},
   "outputs": [],
   "source": [
    "print(arr_3d.shape)\n",
    "print(arr_3d.ndim)\n",
    "print(arr_3d.size)"
   ]
  },
  {
   "cell_type": "markdown",
   "id": "89005c2d-fbc9-4f12-9e7f-fa88d0371221",
   "metadata": {},
   "source": [
    "```.shape``` returns a tuple with the number of elements along each dimension.\n",
    "\n",
    "```.ndim``` returns the number of dimensions.\n",
    "\n",
    "```.size``` returns the total number of elements in the array. In this case, 3 * 3 * 2 = 18."
   ]
  },
  {
   "cell_type": "code",
   "execution_count": null,
   "id": "ef0a7c8c-7115-4cf9-88cf-57df2613c3b1",
   "metadata": {},
   "outputs": [],
   "source": [
    "print(arr_3d.dtype)\n",
    "print(arr_3d.itemsize)\n",
    "print(arr_3d.nbytes)"
   ]
  },
  {
   "cell_type": "markdown",
   "id": "3578f21c-6acf-46ea-be72-b37a67b31385",
   "metadata": {},
   "source": [
    "```.dtype``` returns the data type.\n",
    "\n",
    "```.itemsize``` returns the bytes consumed by one single element in the array. Remember, NumPy arrays are homogenous, so each element of an array will consume the same number of bytes.\n",
    "\n",
    "```.nbytes``` returns the total bytes consumed by the array. This will be the number of elements in the array (```.size```) times the size in bytes of one element (```.itemsize```). (We can also infer the size of one element in bytes from our data type, e.g., int64 means one element takes up 64 bits of memory which is equivalent to 64 / 8 = 8 bytes)\n",
    "\n",
    "**What is the data type of your ```arr_3D```?** Since we didn't specify a data type when we created ```arr_3D```, NumPy will recognize that the input is integer and the default integer data type that is assigned to the array will be based on the computer where you are running this notebook. If your computer has a 64-bit operating system, the default integer data type will be int64. If your computer has a 32-bit operating system, the default integer data type will be int32. This applies to float data as well. Today, most operating systems are 64-bit, so your ```.dtype``` output above probably says int64 and your ```.nbytes``` output probably says 144. If it doesn't, then your operating system is not 64-bit and that's ok too.  \n",
    "\n",
    "**Using less memory:** If you are always working with small data, then having all your data stored with 64 bits per data value (likely the default on your computer) is fine, but consuming that much memory per array element is likely overkill unless your data contains super large or super small numbers. It's a good idea to get into the habit of including a data type when you create your NumPy arrays. This way you can reduce how much memory your data consumes and your code will run faster. \n",
    "\n",
    "Let's recreate our 1D and 2D arrays using data types that consume less memory."
   ]
  },
  {
   "cell_type": "code",
   "execution_count": 103,
   "id": "4769dcfc-789f-4d06-a01b-b5c1f2f55265",
   "metadata": {},
   "outputs": [
    {
     "name": "stdout",
     "output_type": "stream",
     "text": [
      "arr_1d dtype is int8, arr_2d dtype is int16\n"
     ]
    }
   ],
   "source": [
    "# include the dtype parameter to store data using less memory\n",
    "arr_1d = np.array([1,2,3,4,5,6,7,8,9,10], dtype='int8')\n",
    "\n",
    "arr_2d = np.array([[1,2,3,4,5],\n",
    "                   [6,7,8,9,10]], dtype='int16')\n",
    "\n",
    "print(f'arr_1d dtype is {arr_1d.dtype}, arr_2d dtype is {arr_2d.dtype}')"
   ]
  },
  {
   "cell_type": "markdown",
   "id": "1a5bc2dc-6756-4fb9-858d-0b6cec963c4e",
   "metadata": {},
   "source": [
    "We can also convert the data type after we've created an array with the ndarray function ```.astype()```."
   ]
  },
  {
   "cell_type": "code",
   "execution_count": 104,
   "id": "245723cb-75a1-41c1-aa72-a2a92c847326",
   "metadata": {},
   "outputs": [
    {
     "ename": "NameError",
     "evalue": "name 'arr_3d' is not defined",
     "output_type": "error",
     "traceback": [
      "\u001b[1;31m---------------------------------------------------------------------------\u001b[0m",
      "\u001b[1;31mNameError\u001b[0m                                 Traceback (most recent call last)",
      "Cell \u001b[1;32mIn[104], line 2\u001b[0m\n\u001b[0;32m      1\u001b[0m \u001b[38;5;66;03m# convert dtype of existing array\u001b[39;00m\n\u001b[1;32m----> 2\u001b[0m arr_3d \u001b[38;5;241m=\u001b[39m \u001b[43marr_3d\u001b[49m\u001b[38;5;241m.\u001b[39mastype(\u001b[38;5;124m'\u001b[39m\u001b[38;5;124mint32\u001b[39m\u001b[38;5;124m'\u001b[39m)\n\u001b[0;32m      3\u001b[0m arr_3d\u001b[38;5;241m.\u001b[39mdtype\n",
      "\u001b[1;31mNameError\u001b[0m: name 'arr_3d' is not defined"
     ]
    }
   ],
   "source": [
    "# convert dtype of existing array\n",
    "arr_3d = arr_3d.astype('int32')\n",
    "arr_3d.dtype"
   ]
  },
  {
   "cell_type": "markdown",
   "id": "7a19b1c4-9ffb-4620-a46d-ecf963303042",
   "metadata": {},
   "source": [
    "The choice of which data type to convert each array to in this example is arbitrary. All our example arrays contain only small positive integers that will fit into the smallest integer data types (int8 or uint8).\n",
    "\n",
    "## Unsafe Data Type Conversions and Overflow\n",
    "\n",
    "**One thing you should be careful of is using data types that are too small (meaning not enough bits) to properly represent your data values.** For example, if your data values range from -1000 to 1000, you should not use an 8-bit integer data type because that data type is only able to represent values -127 to 128, as shown in the NumPy data types table earlier in this notebook. Similarly, 16-bit float dtype would not be able to properly represent your data values if they ranged from -70000 to 70000 (outside of range for dtype float16) or if they ranged from, say, 0.00001 to 5.00005 (too many decimal places for dtype float16).\n",
    "\n",
    "Next, we'll take a look at what happens when we try to store or convert data into an inappropriate data type. We'll start with an integer example."
   ]
  },
  {
   "cell_type": "code",
   "execution_count": null,
   "id": "787bbbfb-a88e-4a0c-a3ae-ba61d8d71410",
   "metadata": {},
   "outputs": [],
   "source": [
    "# create integer array with inappropriate dtype\n",
    "values_too_big_for_int8 = np.array([-1000,1000],dtype='int8')"
   ]
  },
  {
   "cell_type": "markdown",
   "id": "434a29d5-fa90-4091-bf33-bd933bd532f1",
   "metadata": {},
   "source": [
    "When we set an integer data type at array creation, if the type is too small to represent our data values we will receive an *overflow* error. Very convenient.\n",
    "\n",
    "But be careful! Look what happens if we try to convert the data type with ```.astype()```."
   ]
  },
  {
   "cell_type": "code",
   "execution_count": null,
   "id": "1d25ec46-9e0d-4c6b-a4eb-d000d78fd81d",
   "metadata": {},
   "outputs": [],
   "source": [
    "# create integer array with appropriate dtype\n",
    "values_int16 = np.array([-1000,1000],dtype='int16')\n",
    "\n",
    "# convert to inappropriate dtype\n",
    "values_too_big_for_int8 = values_int16.astype('int8')\n",
    "values_too_big_for_int8"
   ]
  },
  {
   "cell_type": "markdown",
   "id": "7dee5f0e-29dc-4724-a7b5-f0a99f78f755",
   "metadata": {},
   "source": [
    "Yikes, NumPy allowed the inappropriate or *unsafe* conversion without any warning and now our data values are messed up!\n",
    "\n",
    "We could avoid this behavior by giving the ```casting='safe'``` parameter to the ```.astype()``` function, which means NumPy will only convert to the data type requested if the data values can be preserved. Otherwise, we will get an error."
   ]
  },
  {
   "cell_type": "code",
   "execution_count": null,
   "id": "663dddc3-f89b-4b30-9ff3-0c2f44f5007a",
   "metadata": {},
   "outputs": [],
   "source": [
    "# convert dtype but force an error if dtype is inappropriate\n",
    "values_int16.astype('int8',casting='safe')"
   ]
  },
  {
   "cell_type": "markdown",
   "id": "40bc708e-08f4-4187-a900-3d86d2a06efa",
   "metadata": {},
   "source": [
    "NumPy behaves a bit differently for float values."
   ]
  },
  {
   "cell_type": "code",
   "execution_count": null,
   "id": "c871aaf4-3bb4-4937-961d-3d9e1e022a0c",
   "metadata": {},
   "outputs": [],
   "source": [
    "# create float array with inappropriate dtype \n",
    "too_many_decimals_for_float16 = np.array([1000.12345, 2.23456],dtype='float16')\n",
    "too_many_decimals_for_float16"
   ]
  },
  {
   "cell_type": "markdown",
   "id": "3533c596-61c2-4c6e-b1aa-d0fddf51cac7",
   "metadata": {},
   "source": [
    "Whoops! This time we got no overflow warning. For values in the range of float16, NumPy will truncate without warning us that the precision of float16 is not capable of representing all those decimal places. In situations where we don't really need all that precision, this behavior would be ok, but sometimes it won't be. \n",
    "\n",
    "If we had values outside of the range of float16, we would get an overflow warning indicating an unsafe data type conversion and the data values would be changed to infinity. For example:"
   ]
  },
  {
   "cell_type": "code",
   "execution_count": null,
   "id": "70f0bee1-420b-4f5a-b15b-9be611b37ca5",
   "metadata": {},
   "outputs": [],
   "source": [
    "# create float array with inappropriate dtype \n",
    "outside_range_for_float16 = np.array([-100000.1, 70000.2],dtype='float16')\n",
    "outside_range_for_float16"
   ]
  },
  {
   "cell_type": "markdown",
   "id": "3dcdfa55-4222-43df-80ba-216c24b2478c",
   "metadata": {},
   "source": [
    "NumPy still created our array, but warned us about the overflow and filled the array with ```inf``` because the data values are outside of the range of float16. At least we got a warning this time.\n",
    "\n",
    "What happens with ```.astype()```? You are welcome to try an unsafe float dtype conversion with ```.astype()``` on your own but you will get the same results: truncation with no warning for values in the dtype range, runtime overflow warning and ```inf``` for values outside of the dtype range.\n",
    "\n",
    "We can also run into unsafe data type issues when using arithmetic on our data array if the results of the arithmetic are values that are too large (in bits) to be represented by the data type of our data array. We'll cover this in more detail in a subsequent section."
   ]
  },
  {
   "cell_type": "markdown",
   "id": "2306ba39-77c6-47a2-8887-614073c3c254",
   "metadata": {},
   "source": [
    "<div class=\"alert alert-info\"> \n",
    "\n",
    "## Exercise 1: Create a NumPy Array from Scratch and Access Its Attributes\n",
    "\n",
    "Create a 2-dimensional 32-bit integer array called ```myArr2d``` with 4 rows and 3 columns.\n",
    "</div>"
   ]
  },
  {
   "cell_type": "code",
   "execution_count": null,
   "id": "b220a9dd-413f-4750-a6ae-d8146aa18e59",
   "metadata": {},
   "outputs": [],
   "source": [
    "# add your code here\n",
    "myArr2d = np.array([[1,2,3],\n",
    "                    [4,5,6],\n",
    "                    [7,8,9],\n",
    "                    [10,11,12]],\n",
    "                   dtype='int32')"
   ]
  },
  {
   "cell_type": "markdown",
   "id": "ac47fda1-0351-43dd-9b40-1aa39aa40f40",
   "metadata": {},
   "source": [
    "<div class=\"alert alert-info\"> \n",
    "\n",
    "Programmatically show the following attributes of ```myArr2d```:\n",
    "- its shape\n",
    "- how many total data values there are\n",
    "- its data type\n",
    "- the total number of bytes it consumes\n",
    "</div>"
   ]
  },
  {
   "cell_type": "code",
   "execution_count": null,
   "id": "446f8ac6-4050-4844-9466-aea092141e70",
   "metadata": {},
   "outputs": [],
   "source": [
    "# add your code here\n",
    "print(myArr2d.shape)\n",
    "print(myArr2d.size)\n",
    "print(myArr2d.dtype)\n",
    "print(myArr2d.nbytes)"
   ]
  },
  {
   "cell_type": "markdown",
   "id": "1b97fddb-2ef1-4876-8f80-14ffe345e325",
   "metadata": {},
   "source": [
    "<div class=\"alert alert-info\"> \n",
    "\n",
    "If we had assigned the int8 data type to ```myArr2d``` instead of int32 would we have received an overflow error? Why or why not? In other words, can all the values in ```myArr2d``` be properly represented by an int8 data type?\n",
    "\n",
    "</div>"
   ]
  },
  {
   "cell_type": "markdown",
   "id": "bc5fe738-f617-48db-8a0f-e00ebb9eebaf",
   "metadata": {},
   "source": [
    "Type your answer here:"
   ]
  },
  {
   "cell_type": "markdown",
   "id": "7a3ce3ff-8218-496b-bb02-4699215ae508",
   "metadata": {},
   "source": [
    "# III. Indexing and Slicing Data\n",
    "\n",
    "Indexing and slicing are ways to select elements in our arrays. NumPy offers multiple ways we can index arrays: *basic indexing* and *advanced indexing*, which we will cover, and field access, which we will not cover. \n",
    "\n",
    "## Basic Indexing and Slicing\n",
    "\n",
    "Basic indexing allows us to index and slice NumPy arrays in a way very similar to how we can index and slice Python lists. You will notice the similar syntax and the exclusive slice end index. Basic indexing and slicing result in a view into an existing array, rather than a new array. We'll demonstrate what this means shortly.\n",
    "\n",
    "### Single Cell\n",
    "\n",
    "To select a single element of an array we need to provide an index value for each array axis separated by a comma."
   ]
  },
  {
   "cell_type": "code",
   "execution_count": null,
   "id": "e1eed38b-4967-43b4-a351-9a41869e0052",
   "metadata": {},
   "outputs": [],
   "source": [
    "# single cell basic indexing of 1d array\n",
    "# 1d array, 1 index value\n",
    "print(arr_1d)\n",
    "print(arr_1d[0])  # first element\n",
    "print(arr_1d[-1]) # last element"
   ]
  },
  {
   "cell_type": "code",
   "execution_count": null,
   "id": "04c202fa-b26e-4e5e-ba87-e477d06d853c",
   "metadata": {},
   "outputs": [],
   "source": [
    "# single cell basic indexing of 2d array\n",
    "# 2d array, 2 index values\n",
    "print(arr_2d)\n",
    "print(arr_2d[1,0])"
   ]
  },
  {
   "cell_type": "code",
   "execution_count": null,
   "id": "b71cfce4-d2b5-4f71-a80f-d82b3bf9337b",
   "metadata": {},
   "outputs": [],
   "source": [
    "# single cell basic indexing of 3d array\n",
    "# 3d array, 3 index values\n",
    "print(arr_3d)\n",
    "print(arr_3d[1,2,1])"
   ]
  },
  {
   "cell_type": "markdown",
   "id": "498776e7-0ec1-4871-84b9-333d06eff201",
   "metadata": {},
   "source": [
    "You may not need this very often, but you can also use a tuple for indexing."
   ]
  },
  {
   "cell_type": "code",
   "execution_count": null,
   "id": "1cb65233-9639-45cf-a8a9-b880b15af96a",
   "metadata": {},
   "outputs": [],
   "source": [
    "# select a single value with a tuple\n",
    "arr_2d[(1,0)] # second row, first column"
   ]
  },
  {
   "cell_type": "markdown",
   "id": "c3c6195b-7585-49dc-85e3-8586c46c03ba",
   "metadata": {},
   "source": [
    "### Slice of 1 Row\n",
    "\n",
    "A single colon is used as the index value if we want all of the values along a particular dimension."
   ]
  },
  {
   "cell_type": "code",
   "execution_count": null,
   "id": "9c422440-6820-4ab5-8c56-4e75d28b18c7",
   "metadata": {},
   "outputs": [],
   "source": [
    "# select the second row (all columns)\n",
    "print(arr_2d)\n",
    "print('--------------------')\n",
    "print(arr_2d[1,:])"
   ]
  },
  {
   "cell_type": "code",
   "execution_count": null,
   "id": "1bfd8975-f324-4d3e-ab15-a247f7c8b9e6",
   "metadata": {},
   "outputs": [],
   "source": [
    "# select the first time, first latitude, all longitudes\n",
    "print(arr_3d)\n",
    "print('--------------------')\n",
    "print(arr_3d[0,0,:])"
   ]
  },
  {
   "cell_type": "markdown",
   "id": "7e773f8d-a2fc-4972-b185-8c8f2af1a967",
   "metadata": {},
   "source": [
    "### Slice of 1 Column"
   ]
  },
  {
   "cell_type": "code",
   "execution_count": null,
   "id": "7009e8ea-e136-4dc6-b50d-a61384ab0521",
   "metadata": {},
   "outputs": [],
   "source": [
    "print(arr_2d)\n",
    "print('--------------------')\n",
    "arr_2d[:,0]"
   ]
  },
  {
   "cell_type": "markdown",
   "id": "80cdff2a-1dce-455b-85a3-5a26279d8338",
   "metadata": {},
   "source": [
    "### Slice Along a Single Dimension\n",
    "\n",
    "Providing a start and end index on each side of a colon works to select multiple indexes. Unlike Pandas which is inclusive of the end index in slices, NumPy is exclusive of the end index (similar to how Python lists work). "
   ]
  },
  {
   "cell_type": "code",
   "execution_count": null,
   "id": "5f4b6757-a2bd-415b-bfd9-3602dc604413",
   "metadata": {},
   "outputs": [],
   "source": [
    "# all rows, slice of columns\n",
    "print(arr_2d)\n",
    "print('--------------------')\n",
    "arr_2d[:,1:3]"
   ]
  },
  {
   "cell_type": "markdown",
   "id": "8bcbd548-cc59-4ece-87df-3be9dddea8b1",
   "metadata": {},
   "source": [
    "### Slice Along Multiple Dimensions\n",
    "\n",
    "Selecting the second and third time, first and second latitude, first longitude of ```arr_3d``` (4 total elements).\n",
    "\n",
    "\n",
    "<img src=\"images/numpy3D_multipledims.png\" alt=\"schematic of what to select\" width=\"300\"/>"
   ]
  },
  {
   "cell_type": "code",
   "execution_count": null,
   "id": "96c4d323-0448-451f-a8d6-54d625969b3b",
   "metadata": {},
   "outputs": [],
   "source": [
    "# second and third time, first and second latitude, first longitude\n",
    "arr_3d[1:,0:2,0]"
   ]
  },
  {
   "cell_type": "markdown",
   "id": "3a3a73d9-c1d1-48a9-bca6-56466da21fb0",
   "metadata": {},
   "source": [
    "### Slicing with a Stride\n",
    "\n",
    "To include a stride in a slice we can use the syntax ```start:end:stride```. In this example we take a slice of columns that includes every other column from index 0 to index 2:"
   ]
  },
  {
   "cell_type": "code",
   "execution_count": null,
   "id": "124b113c-0813-4916-81e4-93e1c9b675e0",
   "metadata": {},
   "outputs": [],
   "source": [
    "# all rows, slice of columns\n",
    "print(arr_2d)\n",
    "print('--------------------')\n",
    "arr_2d[:,0:3:2]"
   ]
  },
  {
   "cell_type": "markdown",
   "id": "894d4b14-2f53-4549-bf82-2d60b0bbcda9",
   "metadata": {},
   "source": [
    "An alternative syntax that includes a stride is ```start::stride```. This assumes we want to go all the way to the end of the sliced dimension."
   ]
  },
  {
   "cell_type": "code",
   "execution_count": null,
   "id": "28a0aaa5-3b57-47d2-972f-66b84420ab0b",
   "metadata": {},
   "outputs": [],
   "source": [
    "arr_2d[:,1::2]"
   ]
  },
  {
   "cell_type": "markdown",
   "id": "e22ec476-74ef-400e-a482-9bab1c87fb06",
   "metadata": {},
   "source": [
    "Lastly, if we want to stride along an entire dimension we don't really need to include a start or end index at all. We can use the syntax ```::stride```."
   ]
  },
  {
   "cell_type": "code",
   "execution_count": null,
   "id": "09dc4bd3-923b-4390-a14a-1367d298e0ee",
   "metadata": {},
   "outputs": [],
   "source": [
    "arr_2d[:,::2]"
   ]
  },
  {
   "cell_type": "markdown",
   "id": "637301a6-7674-4a4f-8738-223c39fe93e6",
   "metadata": {},
   "source": [
    "### Indexing with Elipses\n",
    "\n",
    "Elipses are short hand for all values in one or more dimensions. So ```arr_3d[0,...]``` is the same as ```arr_3d[0,:,:]```."
   ]
  },
  {
   "cell_type": "code",
   "execution_count": null,
   "id": "c25296ab-e251-400e-aae6-2a19c9ecc754",
   "metadata": {},
   "outputs": [],
   "source": [
    "# all latitudes and longitudes at time index 0\n",
    "arr_3d[0,...]"
   ]
  },
  {
   "cell_type": "markdown",
   "id": "a6c9d384-a8c2-4812-aaf4-48a9db5cc7ec",
   "metadata": {},
   "source": [
    "### Indexing with Less Dimensions Than Present\n",
    "\n",
    "What happens if we provide indexing for less dimensions than are present in our array? NumPy will assume that the indexing we provide corresponds to the leftmost axis and that we want all of the dimensions we haven't indexed."
   ]
  },
  {
   "cell_type": "code",
   "execution_count": null,
   "id": "65565a6d-71e8-44c5-ae98-36e68c1f3a05",
   "metadata": {},
   "outputs": [],
   "source": [
    "# using 1 index for a 2-dimensional array\n",
    "arr_2d[1]"
   ]
  },
  {
   "cell_type": "markdown",
   "id": "ba3fd9ca-39fd-407c-b47c-8bc57bfaad8c",
   "metadata": {},
   "source": [
    "In the example above we can see that if we only use a single index for a 2-dimensional array, NumPy will use that index value on axis 0 and give us all of the other dimension. In this case, ```arr_2d[1]``` means get the second row, all columns of the array.\n",
    "\n",
    "In other words, all of the following indexing syntax will return the same result:\n",
    "\n",
    "```arr_2d[1]```,   ```arr_2d[1,:]```,   ```arr_2d[1,...]```\n",
    "\n",
    "Now, let's look at what happens with our 3d array."
   ]
  },
  {
   "cell_type": "code",
   "execution_count": null,
   "id": "8ccfd62b-e6a9-4cb4-93b0-d15791be2840",
   "metadata": {},
   "outputs": [],
   "source": [
    "arr_3d[0]"
   ]
  },
  {
   "cell_type": "markdown",
   "id": "7ba8803e-7732-4313-9f13-7cd340b93843",
   "metadata": {},
   "source": [
    "For a 3-dimensional array if there is a single index provided, NumPy again assumes that index corresponds to the leftmost axis (axis 0), which in this case is our time axis. \n",
    "\n",
    "In other words, all of the following indexing syntax will return the same result:\n",
    "\n",
    "```arr_3d[0]```,   ```arr_3d[0,:,:]```,   ```arr_3d[0,...]```\n",
    "\n",
    "If we provide a second index for the 3-dimensional array, NumPy assumes the second index corresponds to the next leftmost axis. So two indexes given to a 3d array would correspond to axis 0 and axis 1. "
   ]
  },
  {
   "cell_type": "code",
   "execution_count": null,
   "id": "c4394023-69ef-40e2-8365-07d5c9f819e5",
   "metadata": {},
   "outputs": [],
   "source": [
    "arr_3d[0,1]"
   ]
  },
  {
   "cell_type": "markdown",
   "id": "420fbb42-dddb-4bf5-9e83-b850574d5473",
   "metadata": {},
   "source": [
    "In other words, all of the following indexing syntax will return the same result:\n",
    "\n",
    "```arr_3d[0,1]```,   ```arr_3d[0,1,:]```,   ```arr_3d[0,1,...]```\n",
    "\n",
    "Your own code will be much more *readable* (easier for yourself and others to understand) if you use an index for every dimension or the elipses method of indexing instead of purposefully using less indexers than axes present, unless you have a good reason to. "
   ]
  },
  {
   "cell_type": "markdown",
   "id": "a783fd69-4dff-4a18-a2a4-78108f96a639",
   "metadata": {},
   "source": [
    "### Basic Indexing Results in a View\n",
    "\n",
    "As mentioned earlier, basic indexing and slicing results in a view into our existing array, not a copy of our array. Here's what that means:"
   ]
  },
  {
   "cell_type": "code",
   "execution_count": null,
   "id": "6c9fe262-3e8a-475e-97a4-1e887be30e54",
   "metadata": {},
   "outputs": [],
   "source": [
    "# creating a view into arr_1d with basic indexing\n",
    "new_arr = arr_1d[0:3]\n",
    "\n",
    "print(new_arr)\n",
    "print(arr_1d)"
   ]
  },
  {
   "cell_type": "markdown",
   "id": "e898521a-0fd7-48f8-a39e-267d39066d25",
   "metadata": {},
   "source": [
    "```arr_1d``` is our original data array and ```new_arr``` is a view into ```arr_1d```. This means that the array data values are stored in only one place in memory and that both ```arr_1d``` and ```new_arr``` point to that same place. If we change a value in ```new_arr```, that same value will change in ```arr_1d``` as well."
   ]
  },
  {
   "cell_type": "code",
   "execution_count": null,
   "id": "76f7f058-c9fd-44c2-840f-a0cbe817d9d5",
   "metadata": {},
   "outputs": [],
   "source": [
    "# changing a value in the view means\n",
    "# changing the value in the original array\n",
    "new_arr[1]=10\n",
    "arr_1d"
   ]
  },
  {
   "cell_type": "markdown",
   "id": "139d7cd2-d6d8-46cf-a5e7-3c7c183683ee",
   "metadata": {},
   "source": [
    "You might not have expected that! We'll cover how to make a copy instead of a view later in the notebook."
   ]
  },
  {
   "cell_type": "markdown",
   "id": "797c9818-2839-40c5-8bdf-ba38f4378796",
   "metadata": {},
   "source": [
    "<div class=\"alert alert-info\"> \n",
    "\n",
    "## Exercise 2: Basic Indexing and Slicing\n",
    "\n",
    "In your ```arr_3d``` make the following selections using indexing and slicing. Note that slicing is never jagged so your data selection for part (d) will include two data values that you cannot see in the image.\n",
    "\n",
    "<table><tr>\n",
    "<td> <img src=\"images/numpy3D_selection1.png\" alt=\"schematic of what to select\" width=\"300\"/> </td>\n",
    "<td> <img src=\"images/numpy3D_selection2.png\" alt=\"schematic of what to select\" width=\"300\"/> </td>\n",
    "<td> <img src=\"images/numpy3D_selection3.png\" alt=\"schematic of what to select\" width=\"300\"/> </td>\n",
    "<td> <img src=\"images/numpy3D_selection4.png\" alt=\"schematic of what to select\" width=\"300\"/> </td>\n",
    "</tr></table\n",
    "\n",
    "</div>\n",
    "\n"
   ]
  },
  {
   "cell_type": "markdown",
   "id": "2439a6c8-8a34-412f-8995-b0adc573933b",
   "metadata": {},
   "source": [
    "<div class=\"alert alert-info\"> \n",
    "\n",
    "**part (a)**\n",
    "</div>\n"
   ]
  },
  {
   "cell_type": "code",
   "execution_count": null,
   "id": "35f51a36-afa5-4411-8df4-894886d206ae",
   "metadata": {},
   "outputs": [],
   "source": [
    "# add your code here\n",
    "arr_3d[1,1,0]"
   ]
  },
  {
   "cell_type": "markdown",
   "id": "41f02238-e1aa-41ab-97ba-f106c2fbaf51",
   "metadata": {},
   "source": [
    "<div class=\"alert alert-info\"> \n",
    "\n",
    "**part (b)**\n",
    "</div>"
   ]
  },
  {
   "cell_type": "code",
   "execution_count": null,
   "id": "4512f07b-20fe-4c13-b3f7-fd8ede02a4cc",
   "metadata": {},
   "outputs": [],
   "source": [
    "# add your code here\n",
    "arr_3d[0:2,1,0] "
   ]
  },
  {
   "cell_type": "markdown",
   "id": "42e8bf38-cbdc-40f8-9fb0-3a15d6385f7b",
   "metadata": {},
   "source": [
    "<div class=\"alert alert-info\"> \n",
    "\n",
    "**part (c)**\n",
    "</div>"
   ]
  },
  {
   "cell_type": "code",
   "execution_count": null,
   "id": "463493a9-ba81-402f-a585-72d056f50703",
   "metadata": {},
   "outputs": [],
   "source": [
    "# add your code here\n",
    "arr_3d[1:,1:,0]"
   ]
  },
  {
   "cell_type": "markdown",
   "id": "ab40ec4b-43cb-433e-9171-c9f7e9fc79f1",
   "metadata": {},
   "source": [
    "<div class=\"alert alert-info\"> \n",
    "\n",
    "**part (d)**\n",
    "</div>"
   ]
  },
  {
   "cell_type": "code",
   "execution_count": null,
   "id": "70c52c96-04a4-4e93-997e-f8a62df6d22c",
   "metadata": {},
   "outputs": [],
   "source": [
    "# add your code here\n",
    "arr_3d[:,1:,:]"
   ]
  },
  {
   "cell_type": "markdown",
   "id": "97238673-8141-4df5-b8ce-24c1e58bdcf8",
   "metadata": {},
   "source": [
    "## Advanced Indexing with Integer Arrays\n",
    "\n",
    "NumPy arrays offer indexing capability beyond what is possible with nested Python lists. Advanced indexing means indexing an array with another array. The array used for indexing can contain either integers or boolean values. This section will cover advanced indexing with integer array indexers. Using advanced indexing results in the creation of a new array (as opposed to a view).\n",
    "\n",
    "### Single- and Multi-Dimensional Examples\n",
    "\n",
    "First, an example with our 1-dimensional array ```arr_1d```."
   ]
  },
  {
   "cell_type": "code",
   "execution_count": 108,
   "id": "4bca5c1c-733e-4446-aa16-c6119454c526",
   "metadata": {},
   "outputs": [
    {
     "name": "stdout",
     "output_type": "stream",
     "text": [
      "[ 1  2  3  4  5  6  7  8  9 10]\n"
     ]
    },
    {
     "data": {
      "text/plain": [
       "array([1, 3, 5, 7])"
      ]
     },
     "execution_count": 108,
     "metadata": {},
     "output_type": "execute_result"
    }
   ],
   "source": [
    "# reminder of what is in arr_1d\n",
    "print(arr_1d)\n",
    "\n",
    "# create an array of indexes\n",
    "indexes = np.array([0,2,4,6])\n",
    "\n",
    "# use the array to select data from arr_1d\n",
    "arr_1d[indexes]"
   ]
  },
  {
   "cell_type": "markdown",
   "id": "7f9db516-d618-49b1-a0e5-54964db1f523",
   "metadata": {},
   "source": [
    "We can do the same thing using a list of index values instead of an array with the following syntax, but note that it's recommended to use arrays as opposed to lists for indexing bigger data. Your code will run faster and be more memory efficient with arrays."
   ]
  },
  {
   "cell_type": "code",
   "execution_count": 109,
   "id": "724736df-a244-430e-a2a2-28221c6ec1ec",
   "metadata": {},
   "outputs": [
    {
     "data": {
      "text/plain": [
       "array([1, 3, 5, 7])"
      ]
     },
     "execution_count": 109,
     "metadata": {},
     "output_type": "execute_result"
    }
   ],
   "source": [
    "# indexing with a list\n",
    "arr_1d[[0,2,4,6]]"
   ]
  },
  {
   "cell_type": "markdown",
   "id": "19feb91d-f546-4892-a129-1f9bd8df9278",
   "metadata": {},
   "source": [
    "An example with our 2-dimensional array ```arr_2d```"
   ]
  },
  {
   "cell_type": "code",
   "execution_count": 110,
   "id": "6c3f37f9-fcc1-4175-b4fb-778b366577e1",
   "metadata": {},
   "outputs": [
    {
     "name": "stdout",
     "output_type": "stream",
     "text": [
      "[[ 1  2  3  4  5]\n",
      " [ 6  7  8  9 10]]\n"
     ]
    },
    {
     "data": {
      "text/plain": [
       "array([2, 4, 6, 8])"
      ]
     },
     "execution_count": 110,
     "metadata": {},
     "output_type": "execute_result"
    }
   ],
   "source": [
    "# reminder of what is in arr_2d\n",
    "print(arr_2d)\n",
    "\n",
    "# selecting the data values 2,4,6,8\n",
    "# create an array of indexes for each dimension\n",
    "row_index = np.array([0,0,1,1])\n",
    "col_index = np.array([1,3,0,2])\n",
    "\n",
    "# use the arrays to select data from arr_2d\n",
    "arr_2d[row_index,col_index]"
   ]
  },
  {
   "cell_type": "markdown",
   "id": "f9597ae2-f156-4172-b70b-fe1c5db58295",
   "metadata": {},
   "source": [
    "And the equivalent using lists:"
   ]
  },
  {
   "cell_type": "code",
   "execution_count": 111,
   "id": "a6aaac10-828e-461f-acb1-367c95f0d45c",
   "metadata": {},
   "outputs": [
    {
     "data": {
      "text/plain": [
       "array([2, 4, 6, 8])"
      ]
     },
     "execution_count": 111,
     "metadata": {},
     "output_type": "execute_result"
    }
   ],
   "source": [
    "# indexing with lists\n",
    "arr_2d[[0,0,1,1],[1,3,0,2]]"
   ]
  },
  {
   "cell_type": "markdown",
   "id": "0f324b59-af0c-4cdb-a740-bd04db6af13b",
   "metadata": {},
   "source": [
    "### Using a Tuple of Index Arrays\n",
    "\n",
    "We can also do advanced indexing with a tuple. Here's how to save our index arrays as a tuple and use it for multi-dimensional indexing."
   ]
  },
  {
   "cell_type": "code",
   "execution_count": 112,
   "id": "ca9279cf-23f8-4274-9009-f5b764b58d36",
   "metadata": {},
   "outputs": [
    {
     "data": {
      "text/plain": [
       "array([2, 4, 6, 8])"
      ]
     },
     "execution_count": 112,
     "metadata": {},
     "output_type": "execute_result"
    }
   ],
   "source": [
    "# multi-dimensional indexing with a tuple of arrays\n",
    "tup_indexes = (row_index,col_index)  # 2,4,6,8 as we did above\n",
    "arr_2d[tup_indexes]"
   ]
  },
  {
   "cell_type": "markdown",
   "id": "dfd83e67-4ae2-42e2-947a-bb1c9a0d48a1",
   "metadata": {},
   "source": [
    "### Advanced Indexing Results in a New Array\n",
    "\n",
    "We'll create ```new_arr``` again from the first three numbers in ```arr_1d```, but this time we'll use advanced indexing to do it."
   ]
  },
  {
   "cell_type": "code",
   "execution_count": 113,
   "id": "dac5d520-17de-4bf3-b175-5b27031b6caf",
   "metadata": {},
   "outputs": [
    {
     "name": "stdout",
     "output_type": "stream",
     "text": [
      "[ 1  2  3  4  5  6  7  8  9 10]\n",
      "[1 2 3]\n"
     ]
    }
   ],
   "source": [
    "# reminder of what is in arr_1d\n",
    "print(arr_1d)\n",
    "\n",
    "# create an array of indexes\n",
    "indexes = np.array([0,1,2])\n",
    "\n",
    "# select data from arr_1d\n",
    "new_arr = arr_1d[indexes]\n",
    "print(new_arr)"
   ]
  },
  {
   "cell_type": "markdown",
   "id": "404950c2-0459-4089-a302-e7b149d7f0dc",
   "metadata": {},
   "source": [
    "```new_arr``` is not a view in this case, it is a whole new array stored in a separate place in memory. So, if we change a value in ```new_arr```, ```arr_1d``` will not be affected."
   ]
  },
  {
   "cell_type": "code",
   "execution_count": 114,
   "id": "ec45a6eb-95fc-4013-ae20-54632ce0ba40",
   "metadata": {},
   "outputs": [
    {
     "data": {
      "text/plain": [
       "array([ 1,  2,  3,  4,  5,  6,  7,  8,  9, 10])"
      ]
     },
     "execution_count": 114,
     "metadata": {},
     "output_type": "execute_result"
    }
   ],
   "source": [
    "# make change to new_arr\n",
    "new_arr[1]=2\n",
    "\n",
    "# there will be no change to arr_1d\n",
    "arr_1d"
   ]
  },
  {
   "cell_type": "markdown",
   "id": "330455b6-29ee-4863-81b8-c5c2ee8616a4",
   "metadata": {},
   "source": [
    "### Indexing with Less Dimensions Than Present\n",
    "\n",
    "What happens if we provide advanced indexing for less dimensions than are present in our array? As we saw earlier, NumPy will assume that our array index corresponds to the leftmost axis and that we want all of the dimensions we haven't indexed.\n",
    "\n",
    "For example, let's take our 2-dimensional array and give it only the row_index values (```row_index = np.array([0,0,1,1])```)."
   ]
  },
  {
   "cell_type": "code",
   "execution_count": 115,
   "id": "c53ab4b5-f005-486f-9e78-c914886903ff",
   "metadata": {},
   "outputs": [
    {
     "name": "stdout",
     "output_type": "stream",
     "text": [
      "[[ 1  2  3  4  5]\n",
      " [ 6  7  8  9 10]]\n"
     ]
    },
    {
     "data": {
      "text/plain": [
       "array([[ 1,  2,  3,  4,  5],\n",
       "       [ 1,  2,  3,  4,  5],\n",
       "       [ 6,  7,  8,  9, 10],\n",
       "       [ 6,  7,  8,  9, 10]])"
      ]
     },
     "execution_count": 115,
     "metadata": {},
     "output_type": "execute_result"
    }
   ],
   "source": [
    "# our 2-dimensional array\n",
    "print(arr_2d)\n",
    "\n",
    "# providing array indexing for less dimensions than are present in arr_2d\n",
    "arr_2d[row_index]"
   ]
  },
  {
   "cell_type": "markdown",
   "id": "34e0252b-5ddf-44da-b072-64081074d1ff",
   "metadata": {},
   "source": [
    "We can see that NumPy returns two of the first row (all columns) and two of the second row (all columns) of data values. You might not expect this to happen, so just be careful and double check yourself as you write your code.\n",
    "\n",
    "All of the following syntax, as we saw earlier in the notebook, will return the same result:\n",
    "\n",
    "```arr_2d[row_index]```,   ```arr_2d[row_index,:]```,   ```arr_2d[row_index,...]```"
   ]
  },
  {
   "cell_type": "markdown",
   "id": "fc4309b8-03d0-43d2-8f7e-e82d2f93f4a5",
   "metadata": {},
   "source": [
    "### Indexing with a Multi-dimensional Array\n",
    "\n",
    "What if we index a 2-dimensional array with another 2-dimensional array?"
   ]
  },
  {
   "cell_type": "code",
   "execution_count": 116,
   "id": "d7007036-b06d-4b06-a922-e7c60b253458",
   "metadata": {},
   "outputs": [
    {
     "name": "stdout",
     "output_type": "stream",
     "text": [
      "(2, 3)\n",
      "(2, 3, 5)\n"
     ]
    },
    {
     "data": {
      "text/plain": [
       "array([[[ 6,  7,  8,  9, 10],\n",
       "        [ 1,  2,  3,  4,  5],\n",
       "        [ 6,  7,  8,  9, 10]],\n",
       "\n",
       "       [[ 1,  2,  3,  4,  5],\n",
       "        [ 6,  7,  8,  9, 10],\n",
       "        [ 1,  2,  3,  4,  5]]])"
      ]
     },
     "execution_count": 116,
     "metadata": {},
     "output_type": "execute_result"
    }
   ],
   "source": [
    "# 2D indexer\n",
    "index_2d = np.array([[1,0,1],\n",
    "                     [0,1,0]])\n",
    "\n",
    "# indexing a 2D array with a 2D indexer\n",
    "result = arr_2d[index_2d]\n",
    "\n",
    "print(index_2d.shape)\n",
    "print(result.shape)\n",
    "result"
   ]
  },
  {
   "cell_type": "markdown",
   "id": "3c75793a-5a4f-4d6b-85fb-a03c856e1bc3",
   "metadata": {},
   "source": [
    "```arr_2d``` has two dimensions but we only provided one indexing array. We've seen what happens when we provide less indexing arrays than there are dimensions. NumPy will use all the values in ```index_2d``` as indexes for the first dimension only (the rows or axis 0) of ```arr_2d```. The result is returned as a 3-dimensional array with shape ```(2, 3, 5)```, which can be a bit confusing. The easiest way to think about this is that the first two dimensions of the result come from the dimensions of the indexer (```index_2d```) and the third dimension of the result comes from the array being indexed (```arr_2d```). \n",
    "\n",
    "For a more in depth explanation of what is going on, focus on what we are asking for from ```arr_2d``` with our index array ```index_2d```. The first row of ```index_2d``` is ```[1,0,1]```. This means, get the second row of ```arr_2d```, then get the first row of ```arr_2d```, then get the second row of ```arr_2d```. So, we asked for 3 rows of ```arr_2d``` and each row has 5 data values (columns). That's where the 3 (rows) and the 5 (columns) come from in the shape ```(2, 3, 5)```. The 2 (stack) in the shape ```(2, 3, 5)``` comes from the fact that with ```index_2d``` ```[0,1,0]```we asked for 3 more rows and 5 more columns from ```arr_2d```.  \n",
    "\n"
   ]
  },
  {
   "cell_type": "markdown",
   "id": "b2ea664c-917f-4e71-84e9-c349ac26fb75",
   "metadata": {},
   "source": [
    "## Advanced Indexing with Boolean Arrays\n",
    "\n",
    "We could also use a boolean array as an indexer for advanced indexing instead of an integer array. Usually, we would generate the boolean array using a conditional statement and then use the boolean array to select data values that satisfy the condition(s).\n",
    "\n",
    "Let's take a look. First, we'll write a conditional statement on a NumPy array. The condition is evaluated *elementwise* meaning on each data value in the array separately, therefore, the conditional statement returns a boolean array of the same shape."
   ]
  },
  {
   "cell_type": "code",
   "execution_count": null,
   "id": "05b73d12-c61c-46f7-8eb4-44f2ea2c8b1f",
   "metadata": {},
   "outputs": [],
   "source": [
    "# print for reference\n",
    "print(arr_2d)\n",
    "\n",
    "# conditional returns boolean array\n",
    "arr_2d > 5"
   ]
  },
  {
   "cell_type": "markdown",
   "id": "526c205d-4e92-472c-a3ea-b49b3c9c6865",
   "metadata": {},
   "source": [
    "If we wanted to select only the values greater than 5 from ```arr_2d``` we can use the boolean array returned from a conditional statement as the indexing array. This is advanced indexing and  will return a brand new array, not a view. We can either put the conditional statement directly inside the square brackets:"
   ]
  },
  {
   "cell_type": "code",
   "execution_count": null,
   "id": "971c46ce-b29e-4db4-9a60-93f9f7b064cd",
   "metadata": {},
   "outputs": [],
   "source": [
    "# indexer is a boolean array generated from conditional statement\n",
    "arr_2d[arr_2d > 5]"
   ]
  },
  {
   "cell_type": "markdown",
   "id": "be07661a-1749-400f-b45d-8ddee28b2cbb",
   "metadata": {},
   "source": [
    "Or, we could assign the result of our conditional statement to a separate variable. Then, index with that variable:"
   ]
  },
  {
   "cell_type": "code",
   "execution_count": null,
   "id": "43eb6dad-ee4e-41c9-9210-06ca5611b148",
   "metadata": {},
   "outputs": [],
   "source": [
    "# indexer is a boolean array generated from conditional statement\n",
    "index_arr = arr_2d > 5\n",
    "arr_2d[index_arr]"
   ]
  },
  {
   "cell_type": "markdown",
   "id": "235280e2-41be-4abf-ade1-44b0523a3b0b",
   "metadata": {},
   "source": [
    "## An Application of Advanced Indexing\n",
    "\n",
    "Let's pretend we have landcover data in a 2-dimensional array. The classes represent:\n",
    "\n",
    "- 0 = open water\n",
    "- 1 = grassland\n",
    "- 2 = shrubland\n",
    "- 3 = deciduous forest\n",
    "- 4 = evergreen forest\n",
    "- 5 = bare soil\n",
    "- 6 = herbaceous wetland"
   ]
  },
  {
   "cell_type": "code",
   "execution_count": null,
   "id": "dd08f899-24c0-4e67-840a-859fce0bd45b",
   "metadata": {},
   "outputs": [],
   "source": [
    "# create landcover data\n",
    "lc_class = np.array([[1,1,1,1,6,0,1,2,2,2],\n",
    "                    [1,1,1,6,0,0,1,2,2,2],\n",
    "                    [1,1,1,0,0,0,0,1,2,2],\n",
    "                    [1,1,1,1,0,0,0,1,2,2],\n",
    "                    [3,1,1,1,6,0,0,1,2,2],\n",
    "                    [3,3,1,1,1,1,1,1,1,2],\n",
    "                    [3,3,3,3,2,2,2,1,2,2],\n",
    "                    [4,4,3,3,3,2,2,1,1,1],\n",
    "                    [4,4,4,3,3,2,2,1,1,1],\n",
    "                    [5,4,4,3,2,2,2,1,1,1]],\n",
    "                    dtype='int8')\n",
    "lc_class.shape"
   ]
  },
  {
   "cell_type": "markdown",
   "id": "9fcda834-173f-4de3-b5f2-168a8ebfacff",
   "metadata": {},
   "source": [
    "We can plot the landcover data with the matplotlib package ```.imshow()``` function which uses a default color map called viridis. (We already imported this package with the alias \"plt\" at the beginning of this notebook.)"
   ]
  },
  {
   "cell_type": "code",
   "execution_count": null,
   "id": "fa2c2a09-b736-494c-b5f3-0d05bd3ee714",
   "metadata": {},
   "outputs": [],
   "source": [
    "# plot landcover data with default color map\n",
    "\n",
    "plt.imshow(lc_class)"
   ]
  },
  {
   "cell_type": "markdown",
   "id": "d06feac9-2f3a-4f11-a93d-5b16d6bc3c04",
   "metadata": {},
   "source": [
    "Notice the values on the y axis correspond to the indexes of the array rows (axis 0) and the values on the x axis correspond to the indexes of the array columns (axis 1). \n",
    "\n",
    "This plot is fine, but what if we wanted to plot the data using colors that make more sense for each landcover class? We can use advanced indexing for that.\n",
    "\n",
    "First, we create an array containing an rgb color for each landcover class."
   ]
  },
  {
   "cell_type": "code",
   "execution_count": null,
   "id": "124c2685-b9fa-4e19-9490-4f1aa900973e",
   "metadata": {},
   "outputs": [],
   "source": [
    "# store rgb colors for each of the classes in a 2-d array\n",
    "\n",
    "rgb_palette = np.array([[70, 107, 159],   # 0 = open water\n",
    "                        [223, 223, 194],  # 1 = grassland\n",
    "                        [204, 184, 121],  # 2 = shrubland\n",
    "                        [104, 171, 95],   # 3 = deciduous forest\n",
    "                        [28, 95, 44],     # 4 = evergreen forest\n",
    "                        [179, 172, 159],  # 5 = barren land\n",
    "                        [108, 159, 184]]) # 6 = herbaceous wetlands \n",
    "rgb_palette.shape"
   ]
  },
  {
   "cell_type": "markdown",
   "id": "91f7f0fc-a381-4365-a2ce-705a61582e30",
   "metadata": {},
   "source": [
    "If we provide a single index to the 2-dimensional ```rgb_palette``` we get the rgb triplet. Notice that the index we provide also matches the landcover class for that rgb color. (i.e., index zero holds the blue color for landcover class 0)"
   ]
  },
  {
   "cell_type": "code",
   "execution_count": null,
   "id": "0677f34f-2380-4bab-a72a-837bea72bb72",
   "metadata": {},
   "outputs": [],
   "source": [
    "# a single index value returns the rgb triplet\n",
    "rgb_palette[0]"
   ]
  },
  {
   "cell_type": "markdown",
   "id": "489afd69-bd57-42c9-a923-26d0ba75efdb",
   "metadata": {},
   "source": [
    "If we use the entire ```lc_class``` array to index the rgb_palette, we will get the rgb triplet for each data value in lc_class.\n",
    "\n",
    "Let's look at the shape of what is returned."
   ]
  },
  {
   "cell_type": "code",
   "execution_count": null,
   "id": "80b8f2bb-d11a-418d-901d-d8979fbacc2a",
   "metadata": {},
   "outputs": [],
   "source": [
    "# using lc_class as the indexer to the rgb colors\n",
    "rgb_palette[lc_class].shape"
   ]
  },
  {
   "cell_type": "markdown",
   "id": "0cd36e37-414f-4ead-870d-4846ac5a960d",
   "metadata": {},
   "source": [
    "Remember as we saw earlier, the first two dimensions come from the indexing array which in this case is ```lc_class```. The third dimension comes from the array being indexed which is ```rgb_palette```. It's a bit confusing to think of this shape as stack, rows, columns. We know the first two dimensions come from the landcover data so in this case it's useful to think of this shape as rows, columns, stack. Where the rows and columns match the shape of the landcover data and each level of the stack contains a component of the rgb color. So, ```rgb_palette[lc_class]``` is storing a 10 x 10 map of rgb triplets.\n",
    "\n",
    "Matplotlib ```.imshow()``` expects 2-dimensional imagery. So if we give ```.imshow()``` data with a third dimension, it automatically assumes that the third dimension is an rgb color. Therefore, we can use ```.imshow()``` to plot our landcover rgb triplets (```rgb_palette[lc_class]```) very easily. "
   ]
  },
  {
   "cell_type": "code",
   "execution_count": null,
   "id": "3289bfcc-3077-4493-992e-33e27935f34a",
   "metadata": {},
   "outputs": [],
   "source": [
    "# plot data as rgb colors\n",
    "plt.imshow(rgb_palette[lc_class])"
   ]
  },
  {
   "cell_type": "markdown",
   "id": "b3d11da1-97cb-4a5b-a82a-b5a653deaeaa",
   "metadata": {},
   "source": [
    "We'll cover much more about creating different types of figures with matplotlib in another lesson. But for now, let's do one more cool thing with our figure. We'll add the land cover class to each pixel. To accomplish this we have to loop through all the ```lc_class``` data values and create a text object for each data value to plot over the image. "
   ]
  },
  {
   "cell_type": "code",
   "execution_count": null,
   "id": "a2bac83f-d5df-4715-b33f-865ef89d5a2d",
   "metadata": {},
   "outputs": [],
   "source": [
    "# add the landcover class to each pixel\n",
    "\n",
    "# first create the plot\n",
    "plt.imshow(rgb_palette[lc_class])\n",
    "\n",
    "# then overlay the text objects\n",
    "for i in range(0, lc_class.shape[0]):\n",
    "    for j in range(0, lc_class.shape[1]):\n",
    "        plt.text(j, i, str(lc_class[i,j]), va='center', ha='center')"
   ]
  },
  {
   "cell_type": "markdown",
   "id": "20daf475-3f72-4624-a30b-c1b68b835fd4",
   "metadata": {},
   "source": [
    "<div class=\"alert alert-info\"> \n",
    "\n",
    "## Exercise 3: Advanced Indexing\n",
    "\n",
    "Using advanced indexing, select the diagonal values (1,7,13,19,25) of the array ```arr```.\n",
    "</div>"
   ]
  },
  {
   "cell_type": "code",
   "execution_count": null,
   "id": "76efba71-e4d0-492c-bca5-629330531f2d",
   "metadata": {},
   "outputs": [],
   "source": [
    "arr = np.array([[1,2,3,4,5],\n",
    "               [6,7,8,9,10],\n",
    "               [11,12,13,14,15],\n",
    "               [16,17,18,19,20],\n",
    "               [21,22,23,24,25]])\n",
    "\n",
    "# add your code here\n",
    "indexes = np.array([0,1,2,3,4])\n",
    "arr[indexes,indexes]"
   ]
  },
  {
   "cell_type": "markdown",
   "id": "5b7960f1-3ee9-4a7b-aa26-dfc897b8ff84",
   "metadata": {},
   "source": [
    "<div class=\"alert alert-info\"> \n",
    "\n",
    "Now, select the same diagonal values using all negative indexes.\n",
    "</div>"
   ]
  },
  {
   "cell_type": "code",
   "execution_count": null,
   "id": "401eaf56-bee1-4e1a-80b0-a3ab7c44f08d",
   "metadata": {},
   "outputs": [],
   "source": [
    "# add your code here\n",
    "indexes = np.array([-5,-4,-3,-2,-1])\n",
    "arr[indexes,indexes]"
   ]
  },
  {
   "cell_type": "markdown",
   "id": "352f02fd-806c-4996-835d-973606b2d46a",
   "metadata": {},
   "source": [
    "<div class=\"alert alert-info\"> \n",
    "    \n",
    "Last, use a conditional statement to generate a boolean array that will select only the even numbers from ```arr```. Hint: Look back to the Python Language Basics lesson if you need to. You'll want the operator that gives you the remainder of division.\n",
    "</div>"
   ]
  },
  {
   "cell_type": "code",
   "execution_count": null,
   "id": "b8ed137e-1046-477a-a474-67c408f8d97f",
   "metadata": {},
   "outputs": [],
   "source": [
    "# add your code here\n",
    "arr[arr % 2 == 0]"
   ]
  },
  {
   "cell_type": "markdown",
   "id": "746e2942-6e2b-4316-83ff-974449fe1ee5",
   "metadata": {},
   "source": [
    "# IV. Elementwise Operations"
   ]
  },
  {
   "cell_type": "markdown",
   "id": "95e13b59-eec4-4931-8489-3174458fba2a",
   "metadata": {},
   "source": [
    "Basic operations on NumPy arrays like ```+```, ```-```, ```*```, ```/```, ```**```, ```%```, and ```//``` operate elementwise meaning NumPy understands that the operation should happen with each element in an array separately. \n",
    "\n",
    "We'll create two NumPy arrays and 2 Python lists to illustrate concepts in this section"
   ]
  },
  {
   "cell_type": "code",
   "execution_count": null,
   "id": "fb3191a8-5fcb-4825-9e1a-5562972738ac",
   "metadata": {},
   "outputs": [],
   "source": [
    "# two 1D arrays of length 5\n",
    "data1 = np.array([1,2,3,4,5], dtype = 'int8')\n",
    "data2 = np.array([.1,.2,.3,.4,.5], dtype = 'float32')\n",
    "\n",
    "# two lists of length 5 with the same data values as the arrays\n",
    "list1 = [1,2,3,4,5]\n",
    "list2 = [.1,.2,.3,.4,.5]"
   ]
  },
  {
   "cell_type": "code",
   "execution_count": null,
   "id": "fd466ca1-25cf-4055-82a1-e26323a86837",
   "metadata": {},
   "outputs": [],
   "source": [
    "# basic operations are elementwise\n",
    "data1 + 1"
   ]
  },
  {
   "cell_type": "markdown",
   "id": "140a0bba-4b76-408b-abec-203de400abb7",
   "metadata": {},
   "source": [
    "See how each element of the array was incremented by 1? Another word you might hear for this type of elementwise operation is *broadcast*, as in the ```+ 1``` operation was broadcast to each element of the array. We'll get into more detailed array broadcasting in a subsequent section.\n",
    "\n",
    "Try this same thing with a Python list."
   ]
  },
  {
   "cell_type": "code",
   "execution_count": null,
   "id": "5203d07e-4584-4198-beae-4f59d9eb6440",
   "metadata": {},
   "outputs": [],
   "source": [
    "list1+1"
   ]
  },
  {
   "cell_type": "markdown",
   "id": "40d9a98f-797a-40df-a3da-440cb9e388ea",
   "metadata": {},
   "source": [
    "Whoops! Lists just don't work that way. If you remember the Python Language Basics lesson, to increment a list we'd have to write a for loop or a list comprehension."
   ]
  },
  {
   "cell_type": "code",
   "execution_count": null,
   "id": "47ab8d86-2c16-48d2-a84e-ac73ce14fc26",
   "metadata": {},
   "outputs": [],
   "source": [
    "# list comprehension to increment elements in a list by 1\n",
    "[x+1 for x in list1]"
   ]
  },
  {
   "cell_type": "markdown",
   "id": "bb6468bb-9745-417d-97f2-90da74dba593",
   "metadata": {},
   "source": [
    "You should immediately see how much simpler it is to work with numerical data stored in NumPy arrays vs Python lists! \n",
    "\n",
    "If our data arrays are the same shape, we can also easily perform elementwise operations using both arrays. "
   ]
  },
  {
   "cell_type": "code",
   "execution_count": null,
   "id": "0dc43136-6078-430f-ae1a-24b9baed2830",
   "metadata": {},
   "outputs": [],
   "source": [
    "data1 / data2"
   ]
  },
  {
   "cell_type": "markdown",
   "id": "67dce42a-50b2-4d26-bc95-bafb31f0aeeb",
   "metadata": {},
   "source": [
    "Notice what happened here. The first element of ```data1``` was divided by the first element of ```data2``` (1 / 0.1), the second element of ```data1``` was divided by the second element of ```data2``` (2 / 0.2), and so on.\n",
    "\n",
    "What happens if we try this on our lists?"
   ]
  },
  {
   "cell_type": "code",
   "execution_count": null,
   "id": "a2a13717-b739-49ec-b049-7adce024241e",
   "metadata": {},
   "outputs": [],
   "source": [
    "list1 / list2"
   ]
  },
  {
   "cell_type": "markdown",
   "id": "4eb7a9f4-0913-4469-8ede-32d03a09544a",
   "metadata": {},
   "source": [
    "Whoops! Again, lists just don't work that way. We would need a for loop or a list comprehension."
   ]
  },
  {
   "cell_type": "code",
   "execution_count": null,
   "id": "42fd57c6-20a4-4d52-8182-3dfda7d3c767",
   "metadata": {},
   "outputs": [],
   "source": [
    "[x/y for x,y in zip(list1,list2)]"
   ]
  },
  {
   "cell_type": "markdown",
   "id": "7e910042-0af2-4be9-a634-0030a02c4c81",
   "metadata": {},
   "source": [
    "Wow! That is so unnecessarily complicated for a simple calculation. Hopefully, you are starting to see the beauty and power of NumPy now. \n",
    "\n",
    "Technically, NumPy is applying a loop behind the scenes for us. And the reason NumPy can provide speed improvements over comparible Python code is that NumPy is heavily based in C and C++ code, which executes much faster than Python.  So, behind the scenes NumPy is executing the loop required for ```data1 / data2``` ultra fast in C! And we don't need to know how to code in C at all to reap the benefits.\n",
    "\n",
    "## Upcasting\n",
    "\n",
    "Let's take a quick look at what happens with data types when we do math with mixed data types."
   ]
  },
  {
   "cell_type": "code",
   "execution_count": null,
   "id": "461d8116-f799-47b0-b161-dd6f03b67bf0",
   "metadata": {},
   "outputs": [],
   "source": [
    "print('data1 dtype is',data1.dtype, 'and data2 dtype is',data2.dtype)"
   ]
  },
  {
   "cell_type": "code",
   "execution_count": null,
   "id": "8d9f2c0a-f7a6-4314-8e02-ba53223357ab",
   "metadata": {},
   "outputs": [],
   "source": [
    "# adding a float value to an int8 array\n",
    "var_add = data1 + 1.\n",
    "\n",
    "# dividing an int8 array by a float32 array\n",
    "var_div = data1 / data2\n",
    "\n",
    "print('var_add dtype is',var_add.dtype)\n",
    "print('var_div dtype is',var_div.dtype)"
   ]
  },
  {
   "cell_type": "markdown",
   "id": "4fe6a69a-d4d8-49e2-8b72-0dd15c385355",
   "metadata": {},
   "source": [
    "This is called *upcasting*. When operating with different data types, the data type of the result corresponds to the larger-memory type. In other words, the result is upcast to the larger-memory type. \n",
    "\n",
    "The int8 data type of the elements in ```data1``` consume 8 bits or 1 byte, but the data type of the value ```1.``` will be based on your computer (probably 64-bit as we discussed earlier). If your computer is 64-bit, the value ```1.``` will have data type float64 which consumes 32 bits or 4 bytes. Adding this value to our int8 array will return an upcast result of data type float64.  \n",
    "\n",
    "The second example shows upcasting when we do an operation involving both ```data1``` and ```data2```. The result is upcast to the larger-memory type, which is float32.\n",
    "\n",
    "All of what we just covered applies to NumPy arrays of any dimension. Basic operations on arrays with any number of dimensions will be elementwise and when on operating mixed data types, the resulting data type will be upcast.\n",
    "\n",
    "What if we want the result of ```data1 + 1.``` to be float16? We have two options:"
   ]
  },
  {
   "cell_type": "code",
   "execution_count": null,
   "id": "12433167-d8e6-40e3-ac02-ee67a1753a70",
   "metadata": {},
   "outputs": [],
   "source": [
    "# tell NumPy upfront that the 1. is float16\n",
    "# upcasting goes to float16\n",
    "var_add = data1 + np.float16(1.)\n",
    "var_add.dtype"
   ]
  },
  {
   "cell_type": "code",
   "execution_count": null,
   "id": "b7d6dd2f-e75c-43f7-b8cb-068c432e6f4a",
   "metadata": {},
   "outputs": [],
   "source": [
    "# tell NumPy after the calculation to convert the result from float64 to float16\n",
    "# upcasting goes to float64, then precision is reduced to float16\n",
    "var_add = (data1 + 1.).astype('float16')\n",
    "var_add.dtype"
   ]
  },
  {
   "cell_type": "markdown",
   "id": "9679ee5a-2e81-4f48-ad23-c10832a88dcb",
   "metadata": {},
   "source": [
    "The first method, where we set the data type of the scalar value, reduces the amount of memory needed for the calculation because it avoids the automatic upcasting to float64. This may become important when you start working with large arrays. Your calculation will be faster and use less memory. We used ```np.float16()```, but you can find all the options for setting a scalar data type in the [NumPy API Reference for Scalars](https://numpy.org/doc/2.1/reference/arrays.scalars.html#sized-aliases). \n",
    "\n",
    "But, if your data is small enough that speed and memory aren't really concerns, you could convert the data type of your results with the function ```.astype()``` (or just leave your result as float64 and not worry about data type at all).\n"
   ]
  },
  {
   "cell_type": "markdown",
   "id": "1637fa44-e885-4f73-9f09-dac4a354316a",
   "metadata": {},
   "source": [
    "## Unsafe Arithmetic\n",
    "\n",
    "We could also run into problems with unsafe data types if the result of our arithmetic is too large (in bits) to be represented by the data type of our data.  For example:"
   ]
  },
  {
   "cell_type": "code",
   "execution_count": 172,
   "id": "0f29b4b7-71bf-42b4-b878-f59c65c7e0ac",
   "metadata": {},
   "outputs": [
    {
     "data": {
      "text/plain": [
       "array([-56,   2,   8,  20,  -6], dtype=int8)"
      ]
     },
     "execution_count": 172,
     "metadata": {},
     "output_type": "execute_result"
    }
   ],
   "source": [
    "# array with appropriate data type\n",
    "a = np.array([100,1,4,10,125],dtype='int8')\n",
    "\n",
    "# unsafe arithmetic can yield unexpected results without warning\n",
    "a+a"
   ]
  },
  {
   "cell_type": "markdown",
   "id": "9b0d5950-05f3-46be-a195-3d6ffa6505c6",
   "metadata": {},
   "source": [
    "Notice that 100+100 should not equal -56 and similarly 125+125 should not equal -6. This happened because 200 and 250 are outside of the range of numbers (-128 to 127) that can be represented properly by data type int8. \n",
    "\n",
    "With float values, we can get the runtime overflow warning and ```inf``` data values when trying to execute arithmetic if the result of the arithmetic is outside of the dtype range."
   ]
  },
  {
   "cell_type": "code",
   "execution_count": 173,
   "id": "a0c48a17-0cce-4934-9e2b-8497fae500e8",
   "metadata": {},
   "outputs": [
    {
     "name": "stderr",
     "output_type": "stream",
     "text": [
      "C:\\Users\\kerrie\\AppData\\Local\\Temp\\ipykernel_3888\\2177713256.py:5: RuntimeWarning: overflow encountered in add\n",
      "  a+a\n"
     ]
    },
    {
     "data": {
      "text/plain": [
       "array([  inf,   2.4,   8.6,  20.8, 251. ], dtype=float16)"
      ]
     },
     "execution_count": 173,
     "metadata": {},
     "output_type": "execute_result"
    }
   ],
   "source": [
    "# array with appropriate data type\n",
    "a = np.array([60000.1,1.2,4.3,10.4,125.5],dtype='float16')\n",
    "\n",
    "# arithmetic that results in inf\n",
    "a+a"
   ]
  },
  {
   "cell_type": "markdown",
   "id": "63606b78-ee54-4357-89ef-e1ad0673c73a",
   "metadata": {},
   "source": [
    "The largest number that float16 can represent properly is 65504, so the result of 60000.1+60000.1 is changed to inf.\n",
    "\n",
    "Unexpected truncation or rounding can occur as well if the result requires more precision than the dtype can handle."
   ]
  },
  {
   "cell_type": "code",
   "execution_count": 177,
   "id": "1a1e0f49-7c04-4bde-b159-dbf2c366b987",
   "metadata": {},
   "outputs": [
    {
     "data": {
      "text/plain": [
       "np.float16(2000.0)"
      ]
     },
     "execution_count": 177,
     "metadata": {},
     "output_type": "execute_result"
    }
   ],
   "source": [
    "a = np.float16(1000.12345)\n",
    "a+a"
   ]
  },
  {
   "cell_type": "markdown",
   "id": "a914d5dc-9a5f-4f86-a3bb-2ff0cbb31c0b",
   "metadata": {},
   "source": [
    "**How to avoid these issues**\n",
    "\n",
    "Before choosing a data type for your data arrays:\n",
    "1) Understand the range and precision of all of your data.\n",
    "2) Take the time to think about the types of calculations you'll need to do with your data. Do you anticipate that you can safely add or multiply your data values together without an overflow problem? If not, use a larger data type for your data.\n",
    "3) Get in the habit of using ```casting='safe'``` with the ```.astype()``` function.\n",
    "4) Don't ignore runtime overflow warnings. Always investigate what caused the warning.\n",
    "5) Check your code as you write it. It's a good idea to build in frequent sanity checks as you develop your code because you may not always get a warning when unsafe data type conversion is happening. You could use assert statements to check for the presence of infinite values, for example.   "
   ]
  },
  {
   "cell_type": "markdown",
   "id": "ef7fbd54-d7ab-4311-9b47-3959b799b6d2",
   "metadata": {},
   "source": [
    "<div class=\"alert alert-info\"> \n",
    "\n",
    "## Exercise 4: Elementwise Operations and Upcasting\n",
    "\n",
    "Show the data type of ```arr_2d```."
   ]
  },
  {
   "cell_type": "code",
   "execution_count": null,
   "id": "6260101b-f0ed-4e18-891b-4b166340e6e7",
   "metadata": {},
   "outputs": [],
   "source": [
    "# add your code here\n",
    "\n",
    "arr_2d.dtype"
   ]
  },
  {
   "cell_type": "markdown",
   "id": "66fc4b8f-29e6-43db-b292-e2ef1918d1aa",
   "metadata": {},
   "source": [
    "<div class=\"alert alert-info\"> \n",
    "    \n",
    "If you multiply every element of ```arr_2d``` by 2.0, what do you expect the resulting data type to be and why?\n",
    "</div>"
   ]
  },
  {
   "cell_type": "markdown",
   "id": "ba6a8f93-ff39-4731-86e4-1e395d9e117b",
   "metadata": {},
   "source": [
    "Type your answer: \n",
    "\n",
    "I expect the resulting data type to be float64. The 2.0 will be assigned type float64 due to my computer's 64-bit operating system. When I multiply the int16 data values in arr_2d by a float64 data value, the result will be upcast to the data type that consumes the larger amount of memory, which is float64."
   ]
  },
  {
   "cell_type": "markdown",
   "id": "922f893f-8beb-42b9-b7f9-13ba318f733c",
   "metadata": {},
   "source": [
    "<div class=\"alert alert-info\"> \n",
    "    \n",
    "Multiply every element of ```arr_2d``` by 2.0 and save the result as a new variable called ```result```. Show the values in your ```result``` array.\n",
    "\n",
    "</div>"
   ]
  },
  {
   "cell_type": "code",
   "execution_count": null,
   "id": "629a02ab-82e6-4662-805d-a5223666fcee",
   "metadata": {},
   "outputs": [],
   "source": [
    "# add your code here\n",
    "result = arr_2d * 2.0\n",
    "result"
   ]
  },
  {
   "cell_type": "markdown",
   "id": "f1c56c1e-d0c1-4a33-952b-68427862762c",
   "metadata": {},
   "source": [
    "<div class=\"alert alert-info\"> \n",
    "\n",
    "Show the data type of your array ```result```.\n",
    "</div>"
   ]
  },
  {
   "cell_type": "code",
   "execution_count": null,
   "id": "d92b3412-a020-48de-86a1-a211f9bdd890",
   "metadata": {},
   "outputs": [],
   "source": [
    "# add your code here\n",
    "result.dtype"
   ]
  },
  {
   "attachments": {
    "4521f9e3-3ee5-430b-8f6d-14e6ed1b8ffb.png": {
     "image/png": "[encoded data removed]"
    }
   },
   "cell_type": "markdown",
   "id": "dc955ec0-a29f-44b1-a1ef-db58d9d4beeb",
   "metadata": {},
   "source": [
    "# V. Broadcasting\n",
    "\n",
    "The term broadcasting describes how NumPy treats arrays with different shapes during arithmetic. Subject to certain constraints, the smaller array is repeated or *broadcast* across the larger array to execute elementwise operations. \n",
    "\n",
    "## The Simplest Example\n",
    "\n",
    "We've seen an example of this in the elementwise operations section where we incremented our array ```data1``` by a scalar value of 1. This is the simplest example of broadcasting. Technically, what's happening behind the scenes when we operate on an array of data with a scalar value is that scalar value is being repeated over and over during the execution of the elementwise arithmetic. \n",
    "\n",
    "![image.png](attachment:4521f9e3-3ee5-430b-8f6d-14e6ed1b8ffb.png)\n",
    "\n",
    "source: [NumPy User Guide](https://numpy.org/devdocs/user/basics.broadcasting.html#basics-broadcasting)\n",
    "\n",
    "In the image we have a 1D array ```a``` of length 3 multiplied by a single scalar value ```b```. In this elementwise calculation, ```b``` is repeated over and over to match the shape of array ```a```. The stretching part of the calculation is the broadcasting. The stretching in the image above is only conceptual though because NumPy is smart enough to broadcast ```b``` to match the shape of ```a``` without actually making ```b``` into its own array. This means broadcasting is fast and memory efficient. The multiplication between ```a``` and ```b``` operates elementwise to return a result that is the same shape as array ```a```. All of this is happening automatically behind the scenes. Our code would look like:"
   ]
  },
  {
   "cell_type": "code",
   "execution_count": null,
   "id": "f775795d-fe4d-4872-ba27-9121676ea292",
   "metadata": {},
   "outputs": [],
   "source": [
    "a = np.array([1, 2, 3])\n",
    "b = 2\n",
    "result = a * b\n",
    "result"
   ]
  },
  {
   "attachments": {
    "6fe717a1-4a7d-45e5-8d82-9b536294ddf4.png": {
     "image/png": "[encoded data removed]"
    }
   },
   "cell_type": "markdown",
   "id": "163b5ed1-1a1b-450f-ad40-7b12e5e54d4e",
   "metadata": {},
   "source": [
    "## With Two Arrays That Have the Same Rightmost Dimension\n",
    "\n",
    "Broadcasting really comes in handy with multidimensional arrays. Imagine we have a 2D data array ```a``` with 4 rows and 3 columns and we need to add a different value to each column of that data. We have the data values we want to add to each column of ```a``` stored in a 1D array ```b``` which has a length of 3 (one value for each of the 3 columns of data array ```a```). Broadcasting makes this operation simple. Our 1D array ```b``` will automatically broadcast to each row of array ```a``` such that the addition will happen elementwise. Here's a visual of it.\n",
    "\n",
    "![image.png](attachment:6fe717a1-4a7d-45e5-8d82-9b536294ddf4.png)\n",
    "\n",
    "source: [NumPy User Guide](https://numpy.org/devdocs/user/basics.broadcasting.html#basics-broadcasting)\n",
    "\n",
    "Our code would look like:"
   ]
  },
  {
   "cell_type": "code",
   "execution_count": null,
   "id": "51e73a4a-f066-42a0-8f7d-db1226fc87ab",
   "metadata": {},
   "outputs": [],
   "source": [
    "a = np.array([[0,0,0],\n",
    "              [10,10,10],\n",
    "              [20,20,20],\n",
    "              [30,30,30]])\n",
    "\n",
    "b = np.array([1,2,3])\n",
    "\n",
    "result = a + b\n",
    "result"
   ]
  },
  {
   "attachments": {
    "eaf3b27c-e2a2-419d-82bf-a057ee812797.png": {
     "image/png": "[encoded data removed]"
    }
   },
   "cell_type": "markdown",
   "id": "71e5c5e2-64fc-4a6f-b39d-3e943d212e4f",
   "metadata": {},
   "source": [
    "Now, this does not work for all arrays. Our array shapes need to be *compatible for broadcasting*. Notice above that the rightmost dimension of both ```a``` and ```b``` is length 3. ```a``` and ```b``` are compatible for broadcasting because their rightmost dimensions match. \n",
    "\n",
    "If we took array ```a``` from above with shape (4,3) and tried a broadcasting operation with an array that has an incompatible rightmost dimension like the 1D array ```b``` below of length 4, we would get an error. \n",
    "![image.png](attachment:eaf3b27c-e2a2-419d-82bf-a057ee812797.png)\n",
    "\n",
    "source: [NumPy User Guide](https://numpy.org/devdocs/user/basics.broadcasting.html#basics-broadcasting)\n",
    "\n",
    "The code would look like:"
   ]
  },
  {
   "cell_type": "code",
   "execution_count": null,
   "id": "4d67ed94-68e7-4e4d-a250-8dfa2688a781",
   "metadata": {},
   "outputs": [],
   "source": [
    "# let's try it, expect an error\n",
    "b = np.array([1,2,3,4])\n",
    "result = a * b"
   ]
  },
  {
   "cell_type": "markdown",
   "id": "34609e6f-997e-41e7-8f7d-c902fbe3280c",
   "metadata": {},
   "source": [
    "## With Two Arrays By Using a Singleton Dimension\n",
    "\n",
    "For arrays to be compatible for broadcasting either their rightmost dimensions need to be the same length as we saw in the previous example OR one of the arrays needs to have the rightmost dimension of length 1. A dimension of length 1 is called a *singleton* dimension. We can create a singleton dimension with ```np.newaxis```. Here's an example:"
   ]
  },
  {
   "cell_type": "code",
   "execution_count": null,
   "id": "6adf3054-0a8d-43ed-80bf-e7d98ca64891",
   "metadata": {},
   "outputs": [],
   "source": [
    "# create a 1D array of length 4\n",
    "a = np.array([0,10,20,30])\n",
    "print(a.shape)\n",
    "a"
   ]
  },
  {
   "cell_type": "code",
   "execution_count": null,
   "id": "36a5988b-7799-4f18-a139-926aa9d9c430",
   "metadata": {},
   "outputs": [],
   "source": [
    "# turn the 1D array into a 2D array without adding any data values\n",
    "a = a[:, np.newaxis]\n",
    "print(a.shape)\n",
    "a"
   ]
  },
  {
   "attachments": {
    "1904b6a9-5627-4745-8542-79091ff17102.png": {
     "image/png": "[encoded data removed]"
    }
   },
   "cell_type": "markdown",
   "id": "6e206108-86db-4488-93aa-33ca1c79d973",
   "metadata": {},
   "source": [
    "Another way to look at this is that we turned a single row of data into a single column of data.\n",
    "\n",
    "Now, we can broadcast a 1D array of any length with array ```a``` because of that singleton dimesion at the righmost axis. In this case, both arrays will be broadcast actually. Here's a visual example:\n",
    "\n",
    "![image.png](attachment:1904b6a9-5627-4745-8542-79091ff17102.png)\n",
    "\n",
    "Our code would look like this:"
   ]
  },
  {
   "cell_type": "code",
   "execution_count": null,
   "id": "73729813-8bd7-4442-ac0a-2b6fd67ab01b",
   "metadata": {},
   "outputs": [],
   "source": [
    "a = np.array([0,10,20,30])\n",
    "b = np.array([1,2,3])\n",
    "result = a + b\n",
    "result"
   ]
  },
  {
   "cell_type": "markdown",
   "id": "63660edf-79bb-4441-afec-9a42c8f65e22",
   "metadata": {},
   "source": [
    "## An Application of Broadcasting\n",
    "\n",
    "In climate science, it is common practice to compare gridded output from climate model simulations to gridded real world observations in order to test how realistic the model simulations are. For this example, let's assume that the grids of the model and observations are the same. For a variable like surface air temperature, before we can compare apples to apples we need to apply an altitude-based correction to the model data. This is because surface altitude in a climate model may be slightly different than surface altitude in the real world. As you may know, air temperature near Earth's surface decreases approximately 6.5 degrees Celsius for every 1000 meter increase in altitude, which is called the environmental or standard lapse rate. Here's a simple illustration.\n",
    "\n",
    "<img src=\"images/numpy_lapseRate.png\" alt=\"picture of a mountain showing decreasing temperature with altitude\" width=\"400\"/>\n",
    "\n",
    "source: [UCAR Center for Science Education](https://scied.ucar.edu/learning-zone/atmosphere/change-atmosphere-altitude)\n",
    "\n",
    "So, any difference in altitude between the climate model and the real world will require an adjustment to the model temperature data so that model temperature and real world temperature can be compared directly.\n",
    "\n",
    "When we code this up, we will apply the altitude-based correction to the model data at every time step, which will involve broadcasting.\n",
    "\n",
    "First, let's create pretend daily climate model 2-meter air temperature data for 4 days over a small 3x3 latitude/longitude grid."
   ]
  },
  {
   "cell_type": "code",
   "execution_count": 178,
   "id": "088a2836-198a-4610-8bd6-bfac548e669f",
   "metadata": {},
   "outputs": [],
   "source": [
    "# daily surface air temperature (C) data from a climate model\n",
    "# dimensions (time, latitude, longitude), shape (4, 3, 3)\n",
    "\n",
    "model_t2m = np.array([[[19.39, 10.30, 16.15],\n",
    "                       [15.16, 19.78, 19.18],\n",
    "                       [12.40, 12.97, 12.03]],\n",
    "                      \n",
    "                      [[29.39, 20.30, 26.15],\n",
    "                       [25.16, 29.78, 29.18],\n",
    "                       [22.40, 22.97, 22.03]],    \n",
    "                      \n",
    "                      [[19.39, 10.30, 16.15],\n",
    "                       [15.16, 19.78, 19.18],\n",
    "                       [12.40, 12.97, 12.03]],\n",
    "\n",
    "                      [[ 9.39,  0.30,  6.15],\n",
    "                       [ 5.16,  9.78,  9.18],\n",
    "                       [ 2.40,  2.97,  2.03]]])"
   ]
  },
  {
   "cell_type": "markdown",
   "id": "970b3964-83e6-45a5-8d92-2148dfcd8a84",
   "metadata": {},
   "source": [
    "Now, we'll create pretend altitude data on the same 3x3 latitude/longitude grid. ```model_alt``` is the altitude from the climate model and ```real_alt``` is the real world altitude."
   ]
  },
  {
   "cell_type": "code",
   "execution_count": null,
   "id": "41357c5a-bd6b-4cb1-bd6b-588fc7402a11",
   "metadata": {},
   "outputs": [],
   "source": [
    "# altitude (m) data for the 3x3 latitude/longitude grid\n",
    "\n",
    "model_alt = np.array([[800.6,  399.7,  799.3],\n",
    "                      [804.4,  901.2,  122.3],\n",
    "                      [512.8,  619.1,  714.8]])\n",
    "\n",
    "real_alt = np.array([[905.25,  425.48,  762.96],\n",
    "                     [896.64,  971.76,  227.23],\n",
    "                     [562.62,  641.23,  789.28]])"
   ]
  },
  {
   "cell_type": "code",
   "execution_count": null,
   "id": "013cd2af-d337-44a4-81c4-b248c5a5b450",
   "metadata": {},
   "outputs": [],
   "source": [
    "# calculate the temperature adjustment needed\n",
    "lapse_rate = .0065 # C/m\n",
    "adj= lapse_rate * (real_alt - model_alt)\n",
    "adj.shape"
   ]
  },
  {
   "cell_type": "markdown",
   "id": "6c32c650-0198-4c99-b734-29e95b3e8e40",
   "metadata": {},
   "source": [
    "Because altitude doesn't change with time, the shape of the temperature adjustment array ```adj``` is 3x3, whereas the shape of the model temperature data that we want to apply the adjustment to ```model_t2m``` is 4x3x3.\n",
    "\n",
    "We can use broadcasting to apply the temperature adjustment to every time step of the model temperature data."
   ]
  },
  {
   "cell_type": "code",
   "execution_count": null,
   "id": "132f58fd-65bc-4720-b9f6-67540b7447f2",
   "metadata": {},
   "outputs": [],
   "source": [
    "# use broadcasting to apply the correction\n",
    "model_t2m_adj = model_t2m - adj\n",
    "model_t2m_adj"
   ]
  },
  {
   "cell_type": "markdown",
   "id": "f7eaf818-48cd-466f-b56c-80cda6c3de4b",
   "metadata": {},
   "source": [
    "Broadcasting allows us to very easily perform mathmatical operations between arrays with different, but compatible, dimensions. We don't need any loops or complex syntax. NumPy is smart enough to recognize that the last two dimensions of arrays ```adj``` and ```model_t2m``` match so it will repeat the ```adj``` array in order to apply the subtraction elementwise for all data values in ```model_t2m```. The resulting array ```model_t2m_adj``` is the same shape as ```model_t2m```.\n",
    "\n",
    "If you often work with data that has dimensions time, latitude, longitude, you will probably use broadcasting along the time dimension like this example all the time. "
   ]
  },
  {
   "cell_type": "markdown",
   "id": "e8b85f97-401e-477e-b2a9-ff789339fae6",
   "metadata": {},
   "source": [
    "<div class=\"alert alert-info\"> \n",
    "\n",
    "## Exercise 5: Broadcasting Practice\n",
    "\n",
    "The array called ```data``` below contains data that needs to be multiplied by a set of scaling factors. A different scale factor should be applied to each column of the ```data``` array. \n",
    "\n",
    "Create a 1D array called ```scale_columns``` containing the pretend scale factors. Your ```scale_columns``` array can contain any values you want, but you will have to decide how many values it should contain to properly broadcast with the ```data``` array as described above. Then, do elementwise multiplication with the arrays using broadcasting to apply the scaling factors to the data.\n",
    "\n",
    "</div>"
   ]
  },
  {
   "cell_type": "code",
   "execution_count": null,
   "id": "f91f25bc-d902-4c48-aa18-ecdcefc5f2ec",
   "metadata": {},
   "outputs": [],
   "source": [
    "data = np.array([[10.2, 9.6, 12.3, 2.7, 5.5],\n",
    "                 [21.3, 3.9, 8.4, 16.3, 1.1],\n",
    "                 [17.6, 23.2, 20.1, 5.7, 19.4]])"
   ]
  },
  {
   "cell_type": "code",
   "execution_count": null,
   "id": "3f723495-0dae-47b7-bfc3-b7f1cc6e0e5e",
   "metadata": {},
   "outputs": [],
   "source": [
    "# add your code here\n",
    "\n",
    "scale_columns = np.array([1,2,3,4,5])\n",
    "\n",
    "data * scale"
   ]
  },
  {
   "cell_type": "markdown",
   "id": "b5101490-bad0-4a59-b2c0-81cc774a9e2b",
   "metadata": {},
   "source": [
    "<div class=\"alert alert-info\"> \n",
    "\n",
    "What if we wanted to apply a different scaling factor to each row instead of each column of the ```data``` array? \n",
    "\n",
    "Create a new array called ```scale_rows``` with the appropriate dimensions to broadcast a different scale factor to each row of the ```data``` array (hint: you'll need a singleton dimension). Multiply the arrays together to apply the scaling factors to the data using broadcasting. \n",
    "\n",
    "</div>"
   ]
  },
  {
   "cell_type": "code",
   "execution_count": null,
   "id": "a9381477-c4b1-444a-a167-5a323cf6991f",
   "metadata": {},
   "outputs": [],
   "source": [
    "# add your code here\n",
    "\n",
    "scale_rows = np.array([[1],[2],[3]])\n",
    "# OR\n",
    "# scale_rows = np.array([1,2,3])\n",
    "# scale_rows = scale_rows[:,np.newaxis]\n",
    "\n",
    "print(scale_rows.shape)\n",
    "\n",
    "data * scale"
   ]
  },
  {
   "cell_type": "markdown",
   "id": "6bff1f25-d4e0-4d53-b59e-4f7ca455c901",
   "metadata": {},
   "source": [
    "# VI. Comparison Operators, Logic Operators, and Logic Functions\n",
    "\n",
    "## Comparison Operators\n",
    "\n",
    "<table style=\"width: 100%; border-collapse: collapse;\">\n",
    "    <tr>\n",
    "        <td style=\"width: 30%; vertical-align: top;\">\n",
    "            <table border=\"1\" style=\"border-collapse: collapse; width: 100%;\">\n",
    "                <tr><th>Comparison Operators</th></tr>\n",
    "                <tr><td>Equal to ==</td></tr>\n",
    "                <tr><td>Not equal to !=</td></tr>\n",
    "                <tr><td>Greater than ></td></tr>\n",
    "                <tr><td>Greater than or equal to >=</td></tr>\n",
    "                <tr><td>Less than or equal to <=</td></tr>\n",
    "            </table>\n",
    "        </td>\n",
    "        <td style=\"width: 70%; vertical-align: top; padding-left: 10px;\">\n",
    "            <p>\n",
    "\n",
    "\n",
    "\n",
    "<br><br>As we saw in the Python Language Basics lesson, the result of using a comparison operator is boolean. For example, if the variable ```x``` equals 5, then the statement ```x < 10``` will evaluate to ```True```. We can use comparison operators on NumPy arrays too. Comparison operators evaluate elementwise and will return a boolean array of the same shape as the input. We saw this earlier in the section Advanced Indexing with Boolean Arrays.\n",
    "            </p>\n",
    "        </td>\n",
    "    </tr>\n",
    "</table>"
   ]
  },
  {
   "cell_type": "code",
   "execution_count": null,
   "id": "215907fe-b46b-4696-9a12-63eed09a979d",
   "metadata": {},
   "outputs": [],
   "source": [
    "# reminder of what is in arr_2d\n",
    "print(arr_2d)\n",
    "\n",
    "# using a comparison operator on an array\n",
    "arr_2d > 5"
   ]
  },
  {
   "cell_type": "markdown",
   "id": "b63f66c4-cf7d-4fff-bd93-e9dcfc8b18af",
   "metadata": {},
   "source": [
    "## Logic Operators and NumPy Logic Functions\n",
    "<table style=\"width: 100%; border-collapse: collapse;\">\n",
    "    <tr>\n",
    "        <td style=\"width: 50%; vertical-align: top; padding-right: 10px;\">\n",
    "            <p>\n",
    "                \n",
    "<br><br>Now, a look at how to use logic operators and logic functions with NumPy arrays. First, here's how to use the logic operator ```&``` with two conditions.\n",
    "            </p>\n",
    "        </td>\n",
    "        <td style=\"width: 50%; vertical-align: top;\">\n",
    "            <table border=\"1\" style=\"border-collapse: collapse; width: 100%;text-align: center;\">\n",
    "                <tr>\n",
    "                    <th>logic operators</th>\n",
    "                    <th>logic functions</th>\n",
    "                </tr>\n",
    "                <tr>\n",
    "                    <td>&</td>\n",
    "                    <td>np.logical_and()</td>\n",
    "                </tr>\n",
    "                <tr>\n",
    "                    <td>|</td>\n",
    "                    <td>np.logical_or()</td>\n",
    "                </tr>\n",
    "                <tr>\n",
    "                    <td>~</td>\n",
    "                    <td>np.logical_not()</td>\n",
    "                </tr>\n",
    "            </table>\n",
    "        </td>\n",
    "    </tr>\n",
    "</table>\n",
    "\n"
   ]
  },
  {
   "cell_type": "code",
   "execution_count": null,
   "id": "66848803-d5f5-4c6a-acbe-bb513a08a57b",
   "metadata": {},
   "outputs": [],
   "source": [
    "# using a logic operator with two conditions\n",
    "(arr_2d > 5) & (arr_2d < 9)"
   ]
  },
  {
   "cell_type": "markdown",
   "id": "5c91177f-764f-4865-b91b-6032bf41ebbe",
   "metadata": {},
   "source": [
    "As mentioned in the Python Language Basics lesson, parentheses around individual conditions are important. If you don't encase each condition in parentheses you may end up with incorrect results without a warning.\n",
    "\n",
    "If you prefer, NumPy offers equivalent logic functions for ```&``` (```np.logical_and()```), ```|``` (```np.logical_or()```), and ```~``` (```np.logical_not()```).  "
   ]
  },
  {
   "cell_type": "code",
   "execution_count": null,
   "id": "3e8b475b-c223-4441-9381-c8fd994ec14f",
   "metadata": {},
   "outputs": [],
   "source": [
    "# the equivalent with numpy logic function\n",
    "np.logical_and(arr_2d>5, arr_2d<9)"
   ]
  },
  {
   "cell_type": "markdown",
   "id": "cec5268f-ed3d-4199-a682-f17186644295",
   "metadata": {},
   "source": [
    "Logic operators and NumPy logic functions offer broadcasting support."
   ]
  },
  {
   "cell_type": "code",
   "execution_count": 180,
   "id": "f7bffdc7-0f95-4007-88ed-885aefbbbc42",
   "metadata": {},
   "outputs": [
    {
     "data": {
      "text/plain": [
       "array([[False, False, False],\n",
       "       [ True,  True, False]])"
      ]
     },
     "execution_count": 180,
     "metadata": {},
     "output_type": "execute_result"
    }
   ],
   "source": [
    "# Define two arrays that are compatible for broadcasting\n",
    "array1 = np.array([15, 0, 55])  # 1D array\n",
    "array2 = np.array([[0, 20, 30], [40, 50, 60]]) # 2D array\n",
    "\n",
    "# Use NumPy logic function with broadcasting\n",
    "np.logical_and(array1 < 40, array2 > 25)"
   ]
  },
  {
   "cell_type": "code",
   "execution_count": null,
   "id": "5dfd4e57-7005-4ff9-9234-d4dfde714f1d",
   "metadata": {},
   "outputs": [],
   "source": [
    "# equivalent logic operator with broadcasting\n",
    "(array1 < 40) & (array2 > 25)"
   ]
  },
  {
   "cell_type": "markdown",
   "id": "71bced48-91f2-4bdd-a055-501cb0124a4c",
   "metadata": {},
   "source": [
    "## np.all() and np.any()\n",
    "\n",
    "These logical functions can apply to an entire array, single, or multiple dimensions of an array. If applying these functions to an entire array the output is a single boolean, not a boolean array. "
   ]
  },
  {
   "cell_type": "code",
   "execution_count": null,
   "id": "d74cecc1-a7e9-4a87-a300-26dde06388cc",
   "metadata": {},
   "outputs": [],
   "source": [
    "# 2D array input, single boolean output\n",
    "print(np.all(array2 > 20))\n",
    "print(np.any(array2 > 20))"
   ]
  },
  {
   "cell_type": "markdown",
   "id": "1d4057f0-13e2-415f-b22f-71f3334b094e",
   "metadata": {},
   "source": [
    "What is happening above? First, the conditional statement ```array2 > 20``` is evaluated: each element of ```array2``` is compared to the value 20 and a boolean array of the same shape is returned. Then, ```np.all()``` let's us know whether all the values in the boolean array are True. If they are all True, the result is True. If not, the result is False. ```np.any()``` works the same way except when evaluating the values in the boolean array, it's looking for whether any value in the array is True.\n",
    "\n",
    "If applying these functions along an array dimension(s), the output will be a boolean array of reduced shape."
   ]
  },
  {
   "cell_type": "code",
   "execution_count": 181,
   "id": "8d1a8e5a-5651-4967-a761-1c7ec8e1ae37",
   "metadata": {},
   "outputs": [
    {
     "name": "stdout",
     "output_type": "stream",
     "text": [
      "(2, 3)\n",
      "(2,)\n",
      "[False  True]\n"
     ]
    }
   ],
   "source": [
    "# 2D array input, apply to each row (across columns)\n",
    "# outputs an array with shape reduced appropriately\n",
    "print(array2.shape)\n",
    "result = np.all(array2 > 20, axis=1)\n",
    "print(result.shape)\n",
    "print(result)"
   ]
  },
  {
   "cell_type": "markdown",
   "id": "07227dac-4e37-4dd3-9930-f769a10ebea6",
   "metadata": {},
   "source": [
    "We asked whether all values in each row are greater than 20, therefore the result will contain the answer to that question for each row. The shape of the result comes from the number of rows there are in the array."
   ]
  },
  {
   "cell_type": "markdown",
   "id": "bedcd5e7-afe3-4ab1-874d-af66de8d342c",
   "metadata": {},
   "source": [
    "# VII. Math Functions\n",
    "## Aggregation and Summary Functions\n",
    "\n",
    "NumPy offers all the usual aggregation and summary functions for arrays. These are simple statistics that can help us learn about our data.\n",
    "- ```np.sum()```,\n",
    "- ```np.mean()```,\n",
    "- ```np.median()```,\n",
    "- ```np.quantile()```\n",
    "- ```np.min()```,\n",
    "- ```np.max()```,\n",
    "- ```np.var()```\n",
    "- ```np.std()```\n",
    "\n",
    "As well as some extras (this list is not exhaustive):\n",
    "- ```np.ptp()``` calculates the data range\n",
    "- ```np.percentile()``` calculates one or more percentiles\n",
    "\n",
    "Additional similar NumPy functions as well as many more statistical and mathmatical functions can be found in the [NumPy API Reference Statistics page](https://numpy.org/doc/stable/reference/routines.statistics.html) and the [NumPy API Reference Mathmatical Functions page](https://numpy.org/doc/2.1/reference/routines.math.html). \n",
    "\n",
    "In general, these functions can apply to an entire array or to any particular dimension(s) of an array. For example, we could use ```np.mean()``` to get the average of all the values in a 3-dimensional array, or to get the average along a single dimesion, or multiple dimensions of the array.\n",
    "\n",
    "Let's take a look using ```arr_2d```."
   ]
  },
  {
   "cell_type": "code",
   "execution_count": null,
   "id": "3246bf59-5ac5-4ee8-950f-681e66491569",
   "metadata": {},
   "outputs": [],
   "source": [
    "# show arr_2d values\n",
    "print(arr_2d)\n",
    "\n",
    "# mean of entire array\n",
    "np.mean(arr_2d)"
   ]
  },
  {
   "cell_type": "markdown",
   "id": "bce591b0-3ca6-4a03-a46b-ef05dfc9022e",
   "metadata": {},
   "source": [
    "If we don't give ```np.mean()``` a parameter called axis, NumPy assumes we want the mean of the entire array, so the result is a single value.\n",
    "\n",
    "Notice how the result of ```np.mean()``` above is float64, which is different than the float16 data type of ```arr_2d```. Just something to be aware of, that any NumPy function may or may not output a different data type than its inputs.\n",
    "\n",
    "If we want the average of each row or of each column, we would provide that information to the ```np.mean()``` function as a parameter."
   ]
  },
  {
   "cell_type": "code",
   "execution_count": null,
   "id": "8971c997-3974-44ed-833d-304a6ea7f563",
   "metadata": {},
   "outputs": [],
   "source": [
    "# mean of rows (average across columns in a row)\n",
    "np.mean(arr_2d, axis=1)"
   ]
  },
  {
   "cell_type": "code",
   "execution_count": null,
   "id": "19155837-1668-4e79-a67d-e77c745afd90",
   "metadata": {},
   "outputs": [],
   "source": [
    "# mean of columns (average across rows in a column)\n",
    "np.mean(arr_2d, axis=0)"
   ]
  },
  {
   "cell_type": "markdown",
   "id": "e82dbcb3-6629-4f82-8d63-13094bb30d56",
   "metadata": {},
   "source": [
    "Which axis to choose to get the results we want can be a little confusing. If we look at the [NumPy API Reference for ```np.mean()```](https://numpy.org/doc/stable/reference/generated/numpy.mean.html) it says \"computes the arithmetic mean along the specified axis\" but this isn't super clear for beginners. \n",
    "\n",
    "Think about it this way. If we want an average value for each row of data, then we want to *average together all the columns* of each row. We want one value for each row, so in the result the columns disappear. The axis we would chose to get this result is axis 1 (the columns) because we want to *average columns together* so that *the columns dimension disappears* in the result. So, for an aggregation function like ```np.mean()```, \"computes along the specified axis\" means specify the axis that we want to disappear in the result.\n",
    "\n",
    "Let's try a 3D example. We'll find the time-mean of ```arr_3d``` which means we want a mean value of all the data in space (latitude, longitude) at each time. Remember ```arr_3d``` has the shape (3, 3, 2) (time, latitude, longitude). We need to average all the data values together at each time step (there are 3x2=6 values at each time). We can visualize this by looking at back at the 3D image of ```arr_3d``` if we need to, each layer in the stack is what we are averaging together. In the result, we want one value for each of the 3 times in the stack, meaning that the latitude and longitude dimensions should disappear. Therefore, latitude (axis 1) and longitude (axis 2) are the dimensions that we need to specify using the axis parameter in ```np.mean()```. We can specify multiple dimensions with a tuple."
   ]
  },
  {
   "cell_type": "code",
   "execution_count": null,
   "id": "1da49223-71f0-436a-b4cc-3263f32c8d49",
   "metadata": {},
   "outputs": [],
   "source": [
    "# time-mean of 3D array with dims (time, latitude, longitude) \n",
    "np.mean(arr_3d,axis=(1,2)) # mean along multiple dimensions"
   ]
  },
  {
   "cell_type": "markdown",
   "id": "6be72484-8c6b-450f-883e-471d2f469d71",
   "metadata": {},
   "source": [
    "All of the other aggregation and summary functions listed at the beginning of this section operate the same way with respect to providing (or not providing) the axis parameter."
   ]
  },
  {
   "cell_type": "markdown",
   "id": "325f9275-624c-4277-8209-dcafb926bf55",
   "metadata": {},
   "source": [
    "<div class=\"alert alert-info\"> \n",
    "\n",
    "## Exercise 6: Summary Functions\n",
    "\n",
    "Use the NumPy API Reference Manual pages for **[np.median()](https://numpy.org/doc/stable/reference/generated/numpy.median.html#numpy.median)**, **[np.min()](https://numpy.org/doc/2.1/reference/generated/numpy.min.html#numpy.min)**, **[np.max()](https://numpy.org/doc/2.1/reference/generated/numpy.max.html#numpy.max)**, **[np.ptp()](https://numpy.org/doc/2.1/reference/generated/numpy.ptp.html#numpy.ptp)** if needed to help you complete the exercise.\n",
    "\n",
    "Use ```arr_2d```, ```arr_3d```, and the functions linked above to execute the following tasks:\n",
    "\n",
    "A) Find the median value of ```arr_2d```.\n",
    "</div>"
   ]
  },
  {
   "cell_type": "code",
   "execution_count": null,
   "id": "2ceb6a08-ec84-41f3-a6b0-fb288e571612",
   "metadata": {},
   "outputs": [],
   "source": [
    "# add your code here\n",
    "\n",
    "np.median(arr_2d)"
   ]
  },
  {
   "cell_type": "markdown",
   "id": "86b5e355-023f-45f3-88ab-f6db05221052",
   "metadata": {},
   "source": [
    "<div class=\"alert alert-info\"> \n",
    "\n",
    "B) Find the minimum data value in each row of ```arr_2d```.\n",
    "</div>"
   ]
  },
  {
   "cell_type": "code",
   "execution_count": null,
   "id": "b1f7ea6c-dae6-4a45-b07e-0f5e85aea9bf",
   "metadata": {},
   "outputs": [],
   "source": [
    "np.min(arr_2d,axis=1)"
   ]
  },
  {
   "cell_type": "markdown",
   "id": "2bfd5fb3-5e28-40ea-bb32-af8218268ccb",
   "metadata": {},
   "source": [
    "<div class=\"alert alert-info\"> \n",
    "\n",
    "C) Find the data range (max minus min) of ```arr_2d``` using ```np.ptp()```.\n",
    "</div>"
   ]
  },
  {
   "cell_type": "code",
   "execution_count": null,
   "id": "b6b0cf2d-e0de-48e7-a5aa-00933629dc93",
   "metadata": {},
   "outputs": [],
   "source": [
    "np.ptp(arr_2d)"
   ]
  },
  {
   "cell_type": "markdown",
   "id": "3c8789d9-70a2-4191-95c0-eab892987136",
   "metadata": {},
   "source": [
    "<div class=\"alert alert-info\"> \n",
    "\n",
    "D) Find the data range of each column of ```arr_2d``` using ```np.ptp()```.\n",
    "</div>"
   ]
  },
  {
   "cell_type": "code",
   "execution_count": null,
   "id": "48fdb4cc-274e-422f-be08-2c97f424cbd5",
   "metadata": {},
   "outputs": [],
   "source": [
    "np.ptp(arr_2d,axis=0)"
   ]
  },
  {
   "cell_type": "markdown",
   "id": "1ac617a5-15de-4d53-aac6-1558abbc9eb7",
   "metadata": {},
   "source": [
    "<div class=\"alert alert-info\"> \n",
    "\n",
    "E) Find the maximum data value in each time (axis 0) of ```arr_3d```.\n",
    "</div>"
   ]
  },
  {
   "cell_type": "code",
   "execution_count": null,
   "id": "bf38d9ce-4b1e-47ad-b897-919beec00ee0",
   "metadata": {},
   "outputs": [],
   "source": [
    "np.max(arr_3d,axis=(1,2))"
   ]
  },
  {
   "cell_type": "markdown",
   "id": "38501d93-cf7c-4fcd-8434-7f80891ad34f",
   "metadata": {},
   "source": [
    "## More Mathmatical Functions\n",
    "\n",
    "NumPy offers many more mathematical functions, a few of which we'll cover here. See the [NumPy API Reference page for mathematical functions](https://numpy.org/doc/2.1/reference/routines.math.html) for additional functions.\n",
    "\n",
    "- ```np.radians()``` convert degrees to radians\n",
    "- ```np.cos()``` trigonometric cosine\n",
    "- ```np.log()``` natural logarithm\n",
    "- ```np.ceil()``` ceiling (next smallest integer rounding)\n",
    "- ```np.trunc()``` truncation\n",
    "- ```np.cumsum()``` cumulative sum\n",
    "- ```np.diff()``` difference of elements along an axis\n",
    "- ```np.sqrt()``` square root\n"
   ]
  },
  {
   "cell_type": "code",
   "execution_count": 182,
   "id": "39c4d9a2-ae94-4bf2-8013-5cdc8aa57b33",
   "metadata": {},
   "outputs": [
    {
     "name": "stdout",
     "output_type": "stream",
     "text": [
      "radians\n",
      "[0.         0.78539816 1.57079633 2.35619449 3.14159265]\n",
      "\n",
      "cosine\n",
      "[ 1.00000000e+00  7.07106781e-01  6.12323400e-17 -7.07106781e-01\n",
      " -1.00000000e+00]\n"
     ]
    }
   ],
   "source": [
    "# 1D array of angles in degrees\n",
    "degrees = np.array([0,45,90,135,180])\n",
    "\n",
    "# convert degrees to radians\n",
    "rads = np.radians(degrees)\n",
    "print('radians')\n",
    "print(rads)\n",
    "\n",
    "# calculate cosine\n",
    "print('\\ncosine')\n",
    "print(np.cos(rads))"
   ]
  },
  {
   "cell_type": "markdown",
   "id": "d72ed4f1-65c4-41d6-bcb5-771a57d6a300",
   "metadata": {},
   "source": [
    "Notice how the functions are operating elementwise. Elementwise operations occur regardless of how many dimensions an array has. Here are examples using some of the other mathematical functions on a 2D array.    "
   ]
  },
  {
   "cell_type": "code",
   "execution_count": 183,
   "id": "c8541b17-74d7-48b2-b058-0b9d7d6b0b75",
   "metadata": {},
   "outputs": [
    {
     "name": "stdout",
     "output_type": "stream",
     "text": [
      "natural log\n",
      "[[ 0.74193734 -0.91629073]\n",
      " [ 4.60816569  1.82454929]]\n",
      "\n",
      "ceiling\n",
      "[[  3.   1.]\n",
      " [101.   7.]]\n",
      "\n",
      "truncation\n",
      "[[  2.   0.]\n",
      " [100.   6.]]\n"
     ]
    }
   ],
   "source": [
    "# 2D array for demonstration\n",
    "data_2d = np.array([[2.1,0.4],[100.3,6.2]])\n",
    "\n",
    "# natural log\n",
    "print('natural log')\n",
    "print(np.log(data_2d))\n",
    "\n",
    "# ceiling\n",
    "print('\\nceiling')\n",
    "print(np.ceil(data_2d))\n",
    "\n",
    "# truncation\n",
    "print('\\ntruncation')\n",
    "print(np.trunc(data_2d))"
   ]
  },
  {
   "cell_type": "markdown",
   "id": "98b05d1e-bb75-4e8b-ad85-69f629e598fa",
   "metadata": {},
   "source": [
    "Now, we'll create a timeseries of daily precipitation at 4 latitude/longitude locations to illustrate how to use ```np.cumsum()``` for calculating the cumulative sum at each location over time."
   ]
  },
  {
   "cell_type": "code",
   "execution_count": null,
   "id": "972f1b17-3e17-4916-b6e3-be42a6756819",
   "metadata": {},
   "outputs": [],
   "source": [
    "# precipitation data (mm/day) with dims (time,latitude,longitude)\n",
    "\n",
    "pr = np.array([[[66.06, 97.4 ],\n",
    "                [22.99, 84.13]],\n",
    "               [[ 5.4 , 49.2 ],\n",
    "                [ 0.28, 48.51]],\n",
    "               [[95.57, 53.93],\n",
    "                [48.67, 83.75]],\n",
    "               [[86.1 , 78.48],\n",
    "                [ 4.36, 63.73]],\n",
    "               [[76.89, 25.84],\n",
    "                [ 1.21, 87.8 ]]], dtype='float32')\n",
    "print(pr.shape)\n",
    "\n",
    "# accumulated pr at each lat/lon point\n",
    "pr_acc = np.cumsum(pr,axis=0)\n",
    "pr_acc"
   ]
  },
  {
   "cell_type": "markdown",
   "id": "be65af8f-ad86-4eba-8c74-5867dee06f06",
   "metadata": {},
   "source": [
    "Axis 0 here represents time, so providing the parameter ```axis=0``` to the ```np.cumsum()``` function will calculate accumulated precipitation at each time step for each latitude/longitude location. To make the result easier to see we can pull out only the first latitide longitude location to look at."
   ]
  },
  {
   "cell_type": "code",
   "execution_count": null,
   "id": "5be3b57f-622c-4ab7-ba44-8b06bdb8c66c",
   "metadata": {},
   "outputs": [],
   "source": [
    "# look at the results for only the first lat/lon location\n",
    "print('pr data for lat/lon index 0,0:  ',pr[:,0,0])\n",
    "print('accumulated pr for lat/lon index 0,0:  ', pr_acc[:,0,0])"
   ]
  },
  {
   "cell_type": "markdown",
   "id": "9d9ded08-9f90-4685-80c6-dcdc0c79c126",
   "metadata": {},
   "source": [
    "Maybe our precipitation data is provided to us as accumulated precipitation but we want to know the daily precipitation amount. We can use the ```np.diff()``` function to calculate the difference between consecutive elements."
   ]
  },
  {
   "cell_type": "code",
   "execution_count": null,
   "id": "b3baa153-1ea4-4d84-9076-4d129adbd5ca",
   "metadata": {},
   "outputs": [],
   "source": [
    "# timeseries of accumulated precip\n",
    "accpr = np.array([1.0, 2.25, 3.75, 6.0, 10.5])\n",
    "\n",
    "# difference between steps in the timeseries\n",
    "diff = np.diff(accpr)\n",
    "diff"
   ]
  },
  {
   "cell_type": "markdown",
   "id": "84c47052-530a-45c7-ae79-82fa3694d1ab",
   "metadata": {},
   "source": [
    "The result is ```diff[i]``` = ```accpr[i+1]``` - ```accpr[i]```.\n",
    "\n",
    "We could also prepend the timeseries with a zero. (To see all the possible parameters look at the [NumPy API Reference for ```np.diff()```](https://numpy.org/doc/2.1/reference/generated/numpy.diff.html#numpy.diff))"
   ]
  },
  {
   "cell_type": "code",
   "execution_count": null,
   "id": "28bf0fab-26a8-42ed-b7e8-6820f2251387",
   "metadata": {},
   "outputs": [],
   "source": [
    "# difference between steps in the timeseries prepended by zero\n",
    "diff = np.diff(accpr, prepend = 0)\n",
    "diff"
   ]
  },
  {
   "cell_type": "markdown",
   "id": "968b8757-f55e-4fd5-9e57-4011d5f86de5",
   "metadata": {},
   "source": [
    "In this case the result is ```diff[i]``` = ```accpr[i]``` - ```accpr[i-1]```\n",
    "\n",
    "Remember, that NumPy will be fastest if we avoid looping and instead use NumPy functions. So, while we could calculate ```diff``` by looping through our array, it's not advisable to do so. **If you find yourself looping through a NumPy array to calculate something, it's best to do a web search or turn to the NumPy documentation to see if there is a NumPy function you can use instead of looping.**"
   ]
  },
  {
   "cell_type": "markdown",
   "id": "688bed96-9e23-4720-80df-b28b46f56d83",
   "metadata": {},
   "source": [
    "<div class=\"alert alert-info\"> \n",
    "\n",
    "## Exercise 7: Mathmatical Functions\n",
    "\n",
    "Use the NumPy API Reference Manual pages for **[np.sin()](https://numpy.org/doc/2.1/reference/generated/numpy.sin.html#numpy.sin)**, **[np.floor()](https://numpy.org/doc/2.1/reference/generated/numpy.floor.html#numpy.floor)**, **[np.round()](https://numpy.org/doc/2.1/reference/generated/numpy.round.html#numpy.round)** to help you complete the following tasks.\n",
    "\n",
    "A) Calculate the trigonometric sine of the ```degrees``` array. Hint: you'll see in the documentation for ```np.sin()``` that the inputs need to be in radians.\n",
    "</div>"
   ]
  },
  {
   "cell_type": "code",
   "execution_count": null,
   "id": "493c46ba-6251-494e-8714-fc1ced83b8b3",
   "metadata": {},
   "outputs": [],
   "source": [
    "degrees = np.array([0,45,90,135,180])\n",
    "\n",
    "# add your code here\n",
    "np.sin(np.radians(degrees))"
   ]
  },
  {
   "cell_type": "markdown",
   "id": "0df7a414-e44a-482b-8fdc-91d9c0cb0c9b",
   "metadata": {},
   "source": [
    "<div class=\"alert alert-info\"> \n",
    "\n",
    "B) Calculate the floor of each value in the ```data_2d``` array.\n",
    "</div>"
   ]
  },
  {
   "cell_type": "code",
   "execution_count": null,
   "id": "35bc3bd8-13ed-4a0f-9049-0d02ff6d3913",
   "metadata": {},
   "outputs": [],
   "source": [
    "data_2d = np.array([[2.16936,0.46812],[100.37213,6.21455]])\n",
    "\n",
    "# add your code here\n",
    "np.floor(data_2d)"
   ]
  },
  {
   "cell_type": "markdown",
   "id": "23f94267-bb09-4659-8b6a-b95f98568594",
   "metadata": {},
   "source": [
    "<div class=\"alert alert-info\"> \n",
    "\n",
    "C) Round each value in the ```data_2d``` array to 2 decimal places."
   ]
  },
  {
   "cell_type": "code",
   "execution_count": null,
   "id": "589fe38e-332e-449b-a7c9-2773392799da",
   "metadata": {},
   "outputs": [],
   "source": [
    "data_2d = np.array([[2.16936,0.46812],[100.37213,6.21455]])\n",
    "\n",
    "# add your code here\n",
    "np.round(data_2d,decimals=2)"
   ]
  },
  {
   "cell_type": "markdown",
   "id": "cfd820f0-4106-4c62-853e-2d181dc4ee54",
   "metadata": {},
   "source": [
    "# VIII. Array Creation Functions\n",
    "\n",
    "There are a lot of ways besides ```np.array()``` to create or initialize NumPy arrays. We'll cover some of the most useful functions in this section.\n",
    "\n",
    "- ```np.zeros()``` array initialized with zeros\n",
    "- ```np.ones()``` array initialized with ones\n",
    "- ```np.full()```  array initialized to any value we want\n",
    "- ```np.empty()``` uninitialized array\n",
    "- ```np.arange()``` array of evenly spaced integers\n",
    "- ```np.linspace()``` array of evenly spaced floats\n",
    "- ```np.random.default_rng()``` creates a random number generator object\n",
    "- ```np.rng.random()``` uses a random number generator to create an array of random floats in the half-open interval [0.0, 1.0)\n",
    "- ```np.rng.uniform()``` uses a random number generator to create an array of random floats in the half-open interval of your choice\n",
    "- ```np.rng.integers()``` uses a random number generator to create an array of random integers\n",
    "\n",
    "\n",
    "## Create Arrays Initialized to a Single Value\n",
    "The first few of these functions take a shape as input and return an array filled with zeros, ones, or a missing value."
   ]
  },
  {
   "cell_type": "code",
   "execution_count": null,
   "id": "ca82eda8-a3f5-41f7-a90c-f23eb0f362f6",
   "metadata": {},
   "outputs": [],
   "source": [
    "# 1D array of zeros\n",
    "print(np.zeros((10,)))\n",
    "\n",
    "# 2D array of ones\n",
    "print(np.ones((2,3), dtype = 'int8'))\n",
    "\n",
    "# 1D array filled with any value you want\n",
    "print(np.full(arr_1d.shape, np.nan))"
   ]
  },
  {
   "cell_type": "markdown",
   "id": "7124df43-fe99-4dee-ab8b-def022e07b98",
   "metadata": {},
   "source": [
    "Notice above that instead of typing the tuple for the input shape we can also use the ```.shape``` attribute to grab the shape tuple from an array that we've already created.\n",
    "\n",
    "## Create Arrays Uninitialized\n",
    "\n",
    "```np.empty()``` will create an array of the shape specified and fill it with whatever values NumPy finds in memory. Because these values will almost always be different, this is considered an *unitialized* array, meaning we are not initializing to any particular value but also the values are not totally random. If you're following along with the video for this lesson, your output below will likely look different than the instructor's, but that is expected behavior. "
   ]
  },
  {
   "cell_type": "code",
   "execution_count": null,
   "id": "023323e9-5fe3-449a-a15f-3eb3831cedf0",
   "metadata": {},
   "outputs": [],
   "source": [
    "# 2D array without a specified initialization value\n",
    "print(np.empty(arr_2d.shape, dtype = 'float32'))"
   ]
  },
  {
   "cell_type": "markdown",
   "id": "8b038799-4fbc-425c-a093-46e861f04afa",
   "metadata": {},
   "source": [
    "In general, we would use ```np.empty()``` when we plan on immediately overwriting all the unitialized values with something else. The benefit of this function is that it can be slightly faster than ```np.zeros()```, ```np.ones()```, and ```np.full()```. If you aren't working with large data though, this small potential speed increase will not be a concern.\n",
    "\n",
    "We can fill an entire array with a specific value after we've created it with syntax like this:"
   ]
  },
  {
   "cell_type": "code",
   "execution_count": null,
   "id": "103b4222-7469-4ac4-b535-869defb84cc2",
   "metadata": {},
   "outputs": [],
   "source": [
    "# 2D array without a specified initialization value\n",
    "myArr = np.empty(arr_2d.shape, dtype = 'float32')\n",
    "\n",
    "# initialization value\n",
    "myArr[:] = np.nan\n",
    "myArr"
   ]
  },
  {
   "cell_type": "markdown",
   "id": "645958ac-7841-46a6-8c6f-e09d3ccb2e5b",
   "metadata": {},
   "source": [
    "## Create Arrays of Integer and Float Sequences\n",
    "\n",
    "To create an array containing an evenly spaced sequence of integers (as opposed to a range object like we saw with Python ```range()``` in a previous lesson), we can use ```np.arange()```. This function takes various parameters as input. If we input a single integer parameter, it will be interpreted as the exclusive stop value. If we input two integer parameters, they will be interpreted as the inclusive start and exclusive stop. If we input three integer parameters, they will be interpreted as the inclusive start, exclusive stop, and step. See the [NumPy API Reference for ```np.arange()```](https://numpy.org/doc/2.1/reference/generated/numpy.arange.html) for more information."
   ]
  },
  {
   "cell_type": "code",
   "execution_count": null,
   "id": "9f2afac5-1d6e-4fe9-a415-6f4859916091",
   "metadata": {},
   "outputs": [],
   "source": [
    "# create array with integer sequence\n",
    "# parameter: exclusive stop\n",
    "print(np.arange(10))\n",
    "\n",
    "# create array with integer sequence\n",
    "# parameters: inclusive start, exclusive stop\n",
    "print(np.arange(2,10))\n",
    "\n",
    "# create array with integer sequence\n",
    "# parameters: inclusive start, exclusive stop, step\n",
    "print(np.arange(2,10,2))"
   ]
  },
  {
   "cell_type": "markdown",
   "id": "886bda4f-0eb6-4ff1-9cc7-022a274a5258",
   "metadata": {},
   "source": [
    "To create an array containing an evenly spaced sequence of float values, we can use ```np.linspace(start,stop,num)```. Default behavior is that the stop value is **inclusive** but we can force it to be exclusive with the parameter ```endpoint=False```."
   ]
  },
  {
   "cell_type": "code",
   "execution_count": 184,
   "id": "776e9101-f273-482b-988c-7fefe18dcd1c",
   "metadata": {},
   "outputs": [
    {
     "name": "stdout",
     "output_type": "stream",
     "text": [
      "[ 0.   0.5  1.   1.5  2.   2.5  3.   3.5  4.   4.5  5.   5.5  6.   6.5\n",
      "  7.   7.5  8.   8.5  9.   9.5 10. ]\n",
      "(21,)\n"
     ]
    }
   ],
   "source": [
    "# create float sequence\n",
    "print(np.linspace(0,10,21))\n",
    "print(np.linspace(0,10,21).shape)"
   ]
  },
  {
   "cell_type": "code",
   "execution_count": 185,
   "id": "5012de30-8be6-40bc-a58a-8bb1c14e256c",
   "metadata": {},
   "outputs": [
    {
     "name": "stdout",
     "output_type": "stream",
     "text": [
      "[0.  0.5 1.  1.5 2.  2.5 3.  3.5 4.  4.5 5.  5.5 6.  6.5 7.  7.5 8.  8.5\n",
      " 9.  9.5]\n",
      "(20,)\n"
     ]
    }
   ],
   "source": [
    "# using the endpoint parameter\n",
    "print(np.linspace(0,10,20,endpoint=False))\n",
    "print(np.linspace(0,10,20,endpoint=False).shape)"
   ]
  },
  {
   "cell_type": "markdown",
   "id": "764adc05-0c1e-4233-a549-3aabf709ba08",
   "metadata": {},
   "source": [
    "## Create Arrays of Random Numbers with a Random Number Generator\n",
    "\n",
    "The final thing we'll cover in this section is how to create arrays of random numbers. Arrays of random numbers are important for implementing certain statistical techniques. \n",
    "\n",
    "First, we need to create a random number generator (rng) object. Then, we can use that rng object to generate arrays of random numbers."
   ]
  },
  {
   "cell_type": "code",
   "execution_count": null,
   "id": "74c206e3-6cea-4791-bacb-c39df2a97ac7",
   "metadata": {},
   "outputs": [],
   "source": [
    "# first, create a random number generator object\n",
    "\n",
    "rng = np.random.default_rng()\n",
    "rng"
   ]
  },
  {
   "cell_type": "markdown",
   "id": "6458861f-6fad-41e8-9e42-5a84a923f864",
   "metadata": {},
   "source": [
    "Now we can create arrays of random numbers using the rng object. Using the function ```.random(shape)``` on a random number generator object will return random floats in the half-open interval [0.0, 1.0)."
   ]
  },
  {
   "cell_type": "code",
   "execution_count": null,
   "id": "195bac75-c5ee-4412-abc8-b1e4ce5a5d4d",
   "metadata": {},
   "outputs": [],
   "source": [
    "# 1D array of random floats\n",
    "print(rng.random(10))\n",
    "\n",
    "# 1D array of random floats\n",
    "print(rng.random(10))"
   ]
  },
  {
   "cell_type": "markdown",
   "id": "732c8c76-6bd2-436a-bf6c-f32eb92c7024",
   "metadata": {},
   "source": [
    "Notice how each random array generated is different. We'll cover how to generate the same array of random numbers in a minute.\n",
    "\n",
    "We can generate random float arrays of any shape we want."
   ]
  },
  {
   "cell_type": "code",
   "execution_count": 186,
   "id": "9c245eb1-500f-46d8-adf3-d07777efefab",
   "metadata": {},
   "outputs": [
    {
     "name": "stdout",
     "output_type": "stream",
     "text": [
      "[[0.3439275  0.2925195  0.01574277]\n",
      " [0.19451692 0.80578305 0.7807256 ]]\n"
     ]
    }
   ],
   "source": [
    "# 2D array of random floats\n",
    "print(rng.random((2,3)))"
   ]
  },
  {
   "cell_type": "markdown",
   "id": "52602c69-fe9d-42a2-bd00-1f31fab79d71",
   "metadata": {},
   "source": [
    "If we want a random array of floats in a half-open interval other than [0.0, 1.0), we can use ```.uniform(low,high,shape)```."
   ]
  },
  {
   "cell_type": "code",
   "execution_count": 187,
   "id": "8b344f90-3544-4e5f-a78f-f05161d146d4",
   "metadata": {},
   "outputs": [
    {
     "name": "stdout",
     "output_type": "stream",
     "text": [
      "[[10.93714719 77.52069401 68.21898037 11.35622771]\n",
      " [78.62764412 35.88490075 73.32969982 76.68538933]\n",
      " [25.51238268  1.05487893 38.4244718  37.10417004]\n",
      " [74.99086358 94.04406905 54.2395338  57.82855186]]\n"
     ]
    }
   ],
   "source": [
    "print(rng.uniform(1,100,(4,4)))"
   ]
  },
  {
   "cell_type": "markdown",
   "id": "c0b1a5ab-6412-47e8-a730-ca85dfc79b7d",
   "metadata": {},
   "source": [
    "If we want a random array of integers we can use ```.integers(low,high,shape)``` on our random number generator object."
   ]
  },
  {
   "cell_type": "code",
   "execution_count": 188,
   "id": "b0e8ee0e-7743-44ce-bd94-f6837e4141eb",
   "metadata": {},
   "outputs": [
    {
     "name": "stdout",
     "output_type": "stream",
     "text": [
      "[[18  9  6  7]\n",
      " [14 10  7 15]\n",
      " [10  5 18  7]\n",
      " [ 8  7  8 18]]\n"
     ]
    }
   ],
   "source": [
    "print(rng.integers(1,20,(4,4)))"
   ]
  },
  {
   "cell_type": "markdown",
   "id": "59984c03-a39e-4a54-a272-6af65ae214cb",
   "metadata": {},
   "source": [
    "If we wanted to generate the same random array of numbers multiple times, we would have to create a new random number generator object with the same *seed* each time we generate an array. The seed will ensure that, for example, an array of length 5 will always contain the same 5 random numbers."
   ]
  },
  {
   "cell_type": "code",
   "execution_count": null,
   "id": "b9dceeb3-43b9-4ce2-86b7-5dde942911be",
   "metadata": {},
   "outputs": [],
   "source": [
    "seed = 10\n",
    "\n",
    "# 1D array of random floats\n",
    "print(np.random.default_rng(seed=seed).random(5))\n",
    "\n",
    "# generate the same 1D array of random floats\n",
    "print(np.random.default_rng(seed=seed).random(5))"
   ]
  },
  {
   "cell_type": "markdown",
   "id": "dafecc93-407c-44e2-8443-c58f64746fe4",
   "metadata": {},
   "source": [
    "<div class=\"alert alert-info\"> \n",
    "\n",
    "## Exercise 8: Array Creation Functions\n",
    "\n",
    "Use the NumPy array creation functions described in this section to complete the following tasks.\n",
    "\n",
    "A) Create a 2D array with 5 rows and 4 columns where all the data values are -9999.0.\n",
    "\n",
    "</div>"
   ]
  },
  {
   "cell_type": "code",
   "execution_count": null,
   "id": "59c3e57f-8493-427d-93b7-9b508da9f085",
   "metadata": {},
   "outputs": [],
   "source": [
    "# add your code here\n",
    "\n",
    "np.full((5,4),-9999.0)"
   ]
  },
  {
   "cell_type": "markdown",
   "id": "22bc4960-1995-4471-9d41-6f9047ff2a03",
   "metadata": {},
   "source": [
    "<div class=\"alert alert-info\"> \n",
    "\n",
    "B) Create a 1D array of northern hemisphere latitudes with 1/4 degree spatial resolution starting at 30.0 degrees and ending at 60.0 degrees. \n",
    "</div>"
   ]
  },
  {
   "cell_type": "code",
   "execution_count": null,
   "id": "5e1fc7c5-1a4a-450f-96de-ea1da15019ab",
   "metadata": {},
   "outputs": [],
   "source": [
    "# add your code here\n",
    "\n",
    "np.linspace(30,60,121)"
   ]
  },
  {
   "cell_type": "markdown",
   "id": "13c611e1-024e-4934-a4a2-5fefd815c3c7",
   "metadata": {},
   "source": [
    "<div class=\"alert alert-info\"> \n",
    "\n",
    "C) Create a random number generator and use it to create an array with 5 rows and 3 columns filled with random integer values from 1 to 100.\n",
    "</div>"
   ]
  },
  {
   "cell_type": "code",
   "execution_count": null,
   "id": "6996f85c-c4a8-4a76-b85c-faf73e1c4603",
   "metadata": {},
   "outputs": [],
   "source": [
    "# add your code here\n",
    "\n",
    "np.random.default_rng().integers(1,100,(5,3))"
   ]
  },
  {
   "cell_type": "markdown",
   "id": "b6498cb8-f265-4456-b742-92773b2ecb2f",
   "metadata": {},
   "source": [
    "# IX. Sorting, Searching, and Counting Functions\n",
    "\n",
    "We'll cover the following NumPy sorting, searching, and counting functions. For additional functions see the [NumPy API Reference page for sorting, searching, and counting](https://numpy.org/doc/stable/reference/routines.sort.html#sorting-searching-and-counting).\n",
    "\n",
    "- ```np.sort()```\n",
    "- ```np.argsort()```\n",
    "- ```np.where()```\n",
    "- ```np.unique()```\n",
    "\n",
    "## Sorting\n",
    "\n",
    "```np.sort()``` is the function to use for sorting along an axis. For multidimensional arrays, sorting happens along the rightmost axis by default unless we indicate otherwise with the axis parameter."
   ]
  },
  {
   "cell_type": "code",
   "execution_count": null,
   "id": "b63071e5-f8d0-42ca-afd0-52366372828f",
   "metadata": {},
   "outputs": [],
   "source": [
    "# create arrays for demonstration\n",
    "\n",
    "arr_1d = np.array([5,2,6,7,3,8,1,9,4,10,0])\n",
    "\n",
    "arr_2d = np.array([[5,2,6,7,3,8,1,9,4,10,0],\n",
    "                   [3,2,10,0,5,8,1,9,4,6,7]])\n",
    "\n",
    "arr_3d = np.array([[[5,2,6,7,3,8,1,9,4,10,0],\n",
    "                   [3,2,10,0,5,8,1,9,4,6,7]],\n",
    "                  [[5,2,6,7,3,8,1,9,4,10,0],\n",
    "                   [3,2,10,0,5,8,1,9,4,6,7]],\n",
    "                  [[5,2,6,7,3,8,1,9,4,10,0],\n",
    "                   [3,2,10,0,5,8,1,9,4,6,7]]])"
   ]
  },
  {
   "cell_type": "code",
   "execution_count": null,
   "id": "a4b9f070-e6a2-4d6a-b9da-57513fa5607d",
   "metadata": {},
   "outputs": [],
   "source": [
    "# 1D example\n",
    "np.sort(arr_1d)"
   ]
  },
  {
   "cell_type": "code",
   "execution_count": null,
   "id": "a0b944e3-5fcb-4d33-a948-f777cc8de64a",
   "metadata": {},
   "outputs": [],
   "source": [
    "# 2D example, sorting across columns\n",
    "# (each row will contain sorted values)\n",
    "np.sort(arr_2d,axis=1)"
   ]
  },
  {
   "cell_type": "code",
   "execution_count": null,
   "id": "d26e9de9-5400-4c83-94bb-cfddacc622fd",
   "metadata": {},
   "outputs": [],
   "source": [
    "# 2D example, sort across default axis\n",
    "np.sort(arr_2d)"
   ]
  },
  {
   "cell_type": "markdown",
   "id": "8f74147a-8666-42c9-837d-bb5773fb083b",
   "metadata": {},
   "source": [
    "Notice, that by not providing the axis parameter we are asking ```np.sort()``` to use the default sorting behaviour, which is to sort along the rightmost axis (columns). Because ```arr_2d``` is 2-dimensional, this result is identical to the previous result where we specified ```axis=1```"
   ]
  },
  {
   "cell_type": "code",
   "execution_count": null,
   "id": "ba19bb9c-05af-4053-91a5-1f7d7722faaa",
   "metadata": {},
   "outputs": [],
   "source": [
    "# 3D example, sort across default axis\n",
    "np.sort(arr_3d)"
   ]
  },
  {
   "cell_type": "markdown",
   "id": "5c7e9c34-3922-4f28-8a8f-d24e8288ab10",
   "metadata": {},
   "source": [
    "Again, the default behavior sorts along the rightmost axis (across columns, in this case axis 2), so the result is that each row in each level of the stack contains sorted values (the columns get sorted). \n",
    "\n",
    "If we want to sort an array by another array, we can use ```np.argsort()```. To demonstrate this function we'll use a potential application.  \n",
    "\n",
    "Let's pretend we have monthly mean temperature (F) from 10 different weather stations. We have these data stored in an array of shape (10,12) where each row is a different weather station and each column is a the mean temperature for a different month. "
   ]
  },
  {
   "cell_type": "code",
   "execution_count": 2,
   "id": "a01ec6c2-aa18-4f5d-a44b-baca687794ac",
   "metadata": {},
   "outputs": [],
   "source": [
    "t_mon = np.array([\n",
    " [39.02, 46.58, 53.02, 67.46, 77.70, 87.05, 91.73, 86.88, 78.14, 68.03, 52.94, 42.55],  # Las Vegas, station 100441\n",
    " [32.87, 33.24, 44.52, 52.60, 63.07, 77.38, 86.79, 80.60, 67.25, 60.35, 45.64, 32.50],  # Denver, station 100550\n",
    " [25.85, 29.41, 40.77, 48.34, 61.48, 71.98, 80.74, 73.79, 68.32, 53.36, 39.11, 31.58],  # Boston, station 100105\n",
    " [32.69, 37.63, 47.02, 52.47, 66.94, 77.12, 78.10, 77.97, 68.91, 56.97, 46.16, 35.59],  # NYC, station 100489\n",
    " [39.49, 44.85, 49.80, 56.81, 65.21, 74.73, 80.95, 75.09, 69.36, 60.90, 50.33, 47.40],  # Sacramento, station 100472\n",
    " [21.18, 24.31, 37.95, 50.16, 61.20, 72.38, 76.71, 76.00, 65.36, 54.25, 39.67, 30.56],  # Chicago, station 100872\n",
    " [47.39, 53.20, 52.34, 60.93, 60.49, 66.80, 68.82, 67.85, 65.02, 57.91, 52.14, 49.91],  # San Francisco, station 100514\n",
    " [37.13, 43.00, 52.34, 61.52, 72.23, 77.02, 83.13, 78.90, 74.37, 62.47, 52.82, 38.80],  # Charlotte, station 100111\n",
    " [57.68, 61.94, 65.26, 65.59, 74.52, 74.31, 75.95, 77.25, 77.32, 68.11, 63.24, 59.42],  # Los Angeles, station 100546\n",
    " [51.87, 57.80, 65.26, 73.61, 80.79, 86.59, 88.84, 89.54, 81.14, 75.56, 65.68, 54.30]])  # Austin, station 100646"
   ]
  },
  {
   "cell_type": "markdown",
   "id": "d04a1aaa-bbad-4df7-8e9b-f4da648f36ca",
   "metadata": {},
   "source": [
    "We have separate arrays containing latitude, longitude, and elevation information for each weather station."
   ]
  },
  {
   "cell_type": "code",
   "execution_count": 3,
   "id": "ac9e8d20-3781-41f7-b413-451cfce0259f",
   "metadata": {},
   "outputs": [],
   "source": [
    "station_number = np.array([100441, 100550, 100105, 100489, 100472, 100872, 100514, 100111, 100546, 100646])\n",
    "station_lat = np.array([36.16, 39.74, 42.36, 40.71, 38.58, 41.88, 37.77, 35.23, 34.05, 30.27])\n",
    "station_lon = np.array([-115.15, -104.99, -71.06, -74.01, -121.49, -87.63, -122.42, -80.84, -118.25, -97.74])\n",
    "station_elev = np.array([ 610, 1609, 43, 10, 9, 181, 16, 229, 71, 149])"
   ]
  },
  {
   "cell_type": "markdown",
   "id": "402dd9b5-14ef-44c4-9789-536dcb7cc36f",
   "metadata": {},
   "source": [
    "We can sort the rows of our temperature data by increasing latitude using ```np.argsort()```. First, we'll create an array of indexes that describe how to sort ```station_lat``` from lowest to highest latitude."
   ]
  },
  {
   "cell_type": "code",
   "execution_count": null,
   "id": "8a624452-0d0e-4566-b4ab-2953d5fdc412",
   "metadata": {},
   "outputs": [],
   "source": [
    "# use np.argsort() to get the indices of the sort order \n",
    "sorted_lat = np.argsort(station_lat)\n",
    "sorted_lat"
   ]
  },
  {
   "cell_type": "markdown",
   "id": "5406c333-2635-44de-8e28-7184558c70bc",
   "metadata": {},
   "source": [
    "The values in ```sorted_lat``` indicate how we would sort ```station_lat``` to order the latitudes from lowest to highest. For example, the results tell us that the 9th index of ```station_lat``` is the lowest latitude (Austin), the 8th index of ```station_lat``` is the second lowest latitude (Los Angeles), etc, etc, through to the highest latitude which is index 2 of ```station_lat``` (Boston).\n",
    "\n",
    "If we wanted to double check that ```sorted_lat``` is correct we can use advanced indexing (using an array as an indexer to another array). This should look familiar to things we covered in the advanced indexing section."
   ]
  },
  {
   "cell_type": "code",
   "execution_count": null,
   "id": "9a7da8c7-0c9e-44f7-824b-05f69bb847fb",
   "metadata": {},
   "outputs": [],
   "source": [
    "# show latitudes sorted ascending\n",
    "station_lat[sorted_lat]"
   ]
  },
  {
   "cell_type": "markdown",
   "id": "2e0246b6-4eb5-44fd-ac5c-71bdbd7e85da",
   "metadata": {},
   "source": [
    "We can use advanced indexing to sort other arrays by using the ```sorted_lat``` array as an indexer.\n",
    "\n",
    "Sorting ```station_number``` by latitude:"
   ]
  },
  {
   "cell_type": "code",
   "execution_count": null,
   "id": "163c787e-658c-4fb9-aee0-6790245ee5b6",
   "metadata": {},
   "outputs": [],
   "source": [
    "# station numbers sorted by latitude\n",
    "station_number[sorted_lat]"
   ]
  },
  {
   "cell_type": "markdown",
   "id": "8f2b9f11-3af7-419e-a386-0d2948091c4b",
   "metadata": {},
   "source": [
    "We saw that Austin is the lowest latitude and Boston is the highest latitude. We can double check ourselves by verifying that the first number in this result matches the station number for Austin and the last number matches the station number for Boston.\n",
    "\n",
    "We can also sort the 2D temperature array by latitude with advanced indexing. The following will reorder our data rows so that the first row of temperature data comes from the station with the lowest latitude (Austin), the last row of data comes from the station with the highest latitude (Boston), and the rows in between are sorted appropriately by ascending station latitude."
   ]
  },
  {
   "cell_type": "code",
   "execution_count": null,
   "id": "95bfccf2-d74b-4809-b54e-ac318916331c",
   "metadata": {},
   "outputs": [],
   "source": [
    "# temperature data sorted by station latitude\n",
    "t_mon[sorted_lat]"
   ]
  },
  {
   "cell_type": "markdown",
   "id": "5af80c9e-ee05-4be7-baa4-21e474fed053",
   "metadata": {},
   "source": [
    "<div class=\"alert alert-info\"> \n",
    "\n",
    "## Exercise 9: np.sort() and np.argsort()\n",
    "\n",
    "A) Sort the Denver row of the ```t_mon``` array.\n",
    "</div>"
   ]
  },
  {
   "cell_type": "code",
   "execution_count": null,
   "id": "43600ec9-e65b-43af-bf47-136656637837",
   "metadata": {},
   "outputs": [],
   "source": [
    "# add your code here\n",
    "\n",
    "np.sort(t_mon[1,:])"
   ]
  },
  {
   "cell_type": "markdown",
   "id": "e2f89920-f47f-42fd-990d-5a11ab616b93",
   "metadata": {},
   "source": [
    "<div class=\"alert alert-info\"> \n",
    "\n",
    "    \n",
    "B) Sort all rows of the ```t_mon``` array by ascending station elevation.\n",
    "</div>"
   ]
  },
  {
   "cell_type": "code",
   "execution_count": null,
   "id": "5769d952-570d-45e2-965f-e90b8ff575d4",
   "metadata": {},
   "outputs": [],
   "source": [
    "# add your code here\n",
    "\n",
    "sorted_elev = np.argsort(station_elev)\n",
    "t_mon[sorted_elev]"
   ]
  },
  {
   "cell_type": "markdown",
   "id": "a06c8c0e-812a-40d8-a1ac-95213edcedf4",
   "metadata": {},
   "source": [
    "<div class=\"alert alert-info\"> \n",
    "    \n",
    "C) Sort all rows of the ```t_mon``` array by descending station elevation. Hint: Use basic indexing to reverse your sorted elevations (or do a web search for how to reverse the order of an array using another NumPy function we haven't covered).\n",
    "</div>"
   ]
  },
  {
   "cell_type": "code",
   "execution_count": null,
   "id": "0f2bec93-7c18-4882-ba19-7ddff166daf8",
   "metadata": {},
   "outputs": [],
   "source": [
    "# add your code here\n",
    "\n",
    "sorted_elev = np.argsort(station_elev)[::-1]\n",
    "# sorted_elev = np.flip(np.argsort(station_elev))\n",
    "t_mon[sorted_elev]"
   ]
  },
  {
   "cell_type": "markdown",
   "id": "283f044f-7e6e-4acd-91b6-1b4bc45b4bb4",
   "metadata": {},
   "source": [
    "## Searching\n",
    "\n",
    "Any code written for data analysis with NumPy will probably use ```np.where()``` at some point. This is a powerful function that you will almost certainly use often. It is used to find, select, or find and replace elements in arrays that meet specified conditions.\n",
    "\n",
    "We'll go through some examples of how to use ```np.where()``` using the pretend weather data and station information arrays we created above.\n",
    "\n",
    "First, if we provide a conditional statement as a parameter to ```np.where()```, what is returned is a tuple with an array(s) of the indexes where that condition is True."
   ]
  },
  {
   "cell_type": "code",
   "execution_count": 23,
   "id": "968f39b6-bb3a-4821-b174-ec96c9dd8ed1",
   "metadata": {},
   "outputs": [
    {
     "name": "stdout",
     "output_type": "stream",
     "text": [
      "[ 610 1609   43   10    9  181   16  229   71  149]\n"
     ]
    },
    {
     "data": {
      "text/plain": [
       "(array([0, 1]),)"
      ]
     },
     "execution_count": 23,
     "metadata": {},
     "output_type": "execute_result"
    }
   ],
   "source": [
    "# reminder of what's in station_elev\n",
    "print(station_elev)\n",
    "\n",
    "# find elements in station_elev greater than 500m\n",
    "np.where(station_elev > 500)"
   ]
  },
  {
   "cell_type": "markdown",
   "id": "b000f585-1abb-4497-abee-b56dbd33a9bc",
   "metadata": {},
   "source": [
    "We can also use the array of indexes that is returned from ```np.where()``` to select elements where the condition is True and hold them in a new array."
   ]
  },
  {
   "cell_type": "code",
   "execution_count": 24,
   "id": "a06ae966-f45d-43b5-a6dc-0afd6d479679",
   "metadata": {},
   "outputs": [
    {
     "data": {
      "text/plain": [
       "array([ 610, 1609])"
      ]
     },
     "execution_count": 24,
     "metadata": {},
     "output_type": "execute_result"
    }
   ],
   "source": [
    "# find elements in station_elev greater than 500m\n",
    "indices = np.where(station_elev > 500)\n",
    "\n",
    "# create new array with selected elements\n",
    "elev_subset = station_elev[indices] # advanced indexing\n",
    "elev_subset"
   ]
  },
  {
   "cell_type": "markdown",
   "id": "bea30145-d03e-461c-bb8d-77caad869075",
   "metadata": {},
   "source": [
    "We can find or find and select with more than one condition. Be sure to put parentheses around each condition."
   ]
  },
  {
   "cell_type": "code",
   "execution_count": 25,
   "id": "94bf40fa-9294-4de0-88e7-7d2e703f48ec",
   "metadata": {},
   "outputs": [
    {
     "data": {
      "text/plain": [
       "array([610, 181, 229, 149])"
      ]
     },
     "execution_count": 25,
     "metadata": {},
     "output_type": "execute_result"
    }
   ],
   "source": [
    "# find elements in station_elev greater than 500m and less than 1000m\n",
    "indices = np.where((station_elev > 100) & (station_elev<1000))\n",
    "\n",
    "# create new array with selected elements\n",
    "elev_subset = station_elev[indices] # advanced indexing\n",
    "elev_subset"
   ]
  },
  {
   "cell_type": "markdown",
   "id": "129c3623-0301-4f44-82cb-9c3d1ec3a8c8",
   "metadata": {},
   "source": [
    "We can find an replace elements in an array by providing more inputs: ```np.where(condition, value if True, value if False)```"
   ]
  },
  {
   "cell_type": "code",
   "execution_count": 26,
   "id": "742adc2d-a9e9-4636-8ce0-4e9ac4e0f1ea",
   "metadata": {},
   "outputs": [
    {
     "name": "stdout",
     "output_type": "stream",
     "text": [
      "[ 610 1609   43   10    9  181   16  229   71  149]\n"
     ]
    },
    {
     "data": {
      "text/plain": [
       "array([ 610, 1000,   43,   10,    9,  181,   16,  229,   71,  149])"
      ]
     },
     "execution_count": 26,
     "metadata": {},
     "output_type": "execute_result"
    }
   ],
   "source": [
    "# reminder of what's in station_elev\n",
    "print(station_elev)\n",
    "\n",
    "# replace elements greater than 1000 with 1000\n",
    "np.where(station_elev>1000, 1000, station_elev)"
   ]
  },
  {
   "cell_type": "markdown",
   "id": "caf3978b-edc5-4664-b78b-3e0aa0b860f3",
   "metadata": {},
   "source": [
    "In words, the above ```np.where()``` statement would be \"where station_elev values are greater than 1000, replace with 1000, otherwise keep the station_elev value the same\".\n",
    "\n",
    "Something you may do frequently is use ```np.where()``` to create a 0/1 mask."
   ]
  },
  {
   "cell_type": "code",
   "execution_count": 27,
   "id": "4ec35df3-e4d2-4860-b0b5-343456ce5b5c",
   "metadata": {},
   "outputs": [
    {
     "data": {
      "text/plain": [
       "array([1, 1, 0, 0, 0, 0, 0, 0, 0, 0])"
      ]
     },
     "execution_count": 27,
     "metadata": {},
     "output_type": "execute_result"
    }
   ],
   "source": [
    "# find and replace elements >= 500 with 1\n",
    "# replace all other elements with 0\n",
    "mask = np.where(station_elev>=500,1,0)\n",
    "mask"
   ]
  },
  {
   "attachments": {},
   "cell_type": "markdown",
   "id": "598d8c4f-31ab-450c-90c8-f790ba24150f",
   "metadata": {},
   "source": [
    "<div class=\"alert alert-info\"> \n",
    "\n",
    "## Exercise 10: Using np.where() with Mutliple Array Inputs\n",
    "\n",
    "Imagine you are working with gridded output from a land surface model (such as the [VIC model](https://vic.readthedocs.io/en/master/Overview/ModelOverview/)). You have the following data on the same grid:\n",
    "\n",
    "var name | units | description | shape | axes represent\n",
    "---|---|---|---|---\n",
    "landfrac | unitless | fraction of each grid cell that is land<br>(1. minus landfrac is grid cell water fraction) | (5,5) | latitude and longitude\n",
    "t2m | C | 2-meter air temperature | (5,5) | latitude and longitude\n",
    "\n",
    "<br>\n",
    "\n",
    "A) Create an array called ```landmask``` of zero's and one's from the array of land fractions below. In your ```landmask``` array, one's should represent grid cells that are mostly land (at least 50%) and zero's should represent grid cells that are mostly water. Print your results.\n",
    "\n",
    "</div>"
   ]
  },
  {
   "cell_type": "code",
   "execution_count": null,
   "id": "e14bb2b5-e10f-45e8-a97e-b3a65c4568f1",
   "metadata": {},
   "outputs": [],
   "source": [
    "landfrac = np.array([[1.,.98,.97,1.,.96],\n",
    "                     [.92,.97,1.,.96,.98],\n",
    "                     [.88,.7,.82,.9,1.],\n",
    "                     [.6,.49,.5,.63,.8],\n",
    "                     [.12,0.,0.,.25,.3]])\n",
    "\n",
    "# add your code here\n",
    "landmask = np.where(landfrac>=.5,1,0)\n",
    "landmask"
   ]
  },
  {
   "cell_type": "markdown",
   "id": "25427a94-a176-4bb1-ae5d-3c8464c4a7d3",
   "metadata": {},
   "source": [
    "<div class=\"alert alert-info\"> \n",
    "\n",
    "B) Imagine you have a calculation that you want to execute differently based on whether each grid is mostly land or mostly water. Use ```np.where()``` to add 1 degree C to the array ```t2m``` for grids that are mostly water and add 3 degrees C for grids that are mostly land. Save your result as a new variable ```t2m_adj``` and print the result."
   ]
  },
  {
   "cell_type": "code",
   "execution_count": null,
   "id": "14ecd626-9e2e-4f4d-a6bb-a88b0a20fcea",
   "metadata": {},
   "outputs": [],
   "source": [
    "t2m = np.array([[26,27,28,29,30],\n",
    "                [26,27,28,29,30],\n",
    "                [26,27,28,29,30],\n",
    "                [26,27,28,29,30],\n",
    "                [26,27,28,29,30]])\n",
    "\n",
    "# add your code here\n",
    "\n",
    "t2m_adj = np.where(landmask==1,t2m+3,t2m+1)\n",
    "t2m_adj"
   ]
  },
  {
   "cell_type": "markdown",
   "id": "089aab85-dcf0-4e6a-8c0b-0c6b997e4ddf",
   "metadata": {},
   "source": [
    "## Counting\n",
    "\n",
    "A function that is particularly useful, especially for debugging and checking yourself as you write your code is ```np.unique()```. This function can show us all the unique values in an array and optionally return the count of each value as well.\n",
    "\n",
    "Imagine we downloaded a landcover dataset from the web. The metadata on the website we downloaded it from said the data has 7 landcover classes 1 through 7. Before we get too far into any analysis using this data, we may want to verify that there are indeed only 7 different values in the dataset. We can use ```np.unique()``` to see all the data values present in our data."
   ]
  },
  {
   "cell_type": "code",
   "execution_count": null,
   "id": "81233e4e-5452-4634-923a-5e6ff3abc30f",
   "metadata": {},
   "outputs": [],
   "source": [
    "# landcover data that should have only classes 1-7\n",
    "lc_class = np.array([[1.,1.,1.,2.,2.],\n",
    "                    [3.,4.,4.,18.,4.],\n",
    "                    [5.,5.,6.,6.,6.],\n",
    "                    [7.,7.,7.,12.,7.]])\n",
    "\n",
    "np.unique(lc_class)                    "
   ]
  },
  {
   "cell_type": "markdown",
   "id": "653341c8-da03-43c4-8a24-7125b001213d",
   "metadata": {},
   "source": [
    "Now, we can clearly see that the ```lc_class``` array contains more than the values 1-7, but imagine how helpful this function would be if our ```lc_class``` array was much larger.\n",
    "\n",
    "We can optionally return the count of each value by including an additional parameter."
   ]
  },
  {
   "cell_type": "code",
   "execution_count": null,
   "id": "41f34903-5624-4cf4-bc62-9e0927b9afdc",
   "metadata": {},
   "outputs": [],
   "source": [
    "np.unique(lc_class,return_counts=True)"
   ]
  },
  {
   "cell_type": "markdown",
   "id": "65a71c6f-7143-492d-8b1c-f3ab18eaa676",
   "metadata": {},
   "source": [
    "Seems like we should do a little data cleaning since our data contains values that it shouldn't. Let's replace any number that's not 1-7 with ```np.nan``` to indicate missing or spurious data values."
   ]
  },
  {
   "cell_type": "code",
   "execution_count": null,
   "id": "a3494b88-f816-4633-8b86-57136ddff633",
   "metadata": {},
   "outputs": [],
   "source": [
    "# clean data using np.where()\n",
    "lc_class = np.where(lc_class>7,np.nan,lc_class)\n",
    "\n",
    "# double check ourselves that the data cleaning worked correctly\n",
    "np.unique(lc_class,return_counts=True)"
   ]
  },
  {
   "cell_type": "markdown",
   "id": "9a8610db-465c-4a72-af02-3965c14bb7eb",
   "metadata": {},
   "source": [
    "We can see the same counts for values 1-7 as before as well as a count of 2 NaNs. \n",
    "\n",
    "As you are writing your data analysis code it can be very beneficial to include little checks like this to discover problems with your code that may not be producing errors. For example, if we had written the condition incorrectly in the ```np.where()``` function we may have never noticed if we hadn't used ```np.unique()``` (or some other self-check method like data visualization) to double check our results."
   ]
  },
  {
   "cell_type": "markdown",
   "id": "5d5253ef-87e4-4ef0-856e-1482aa25bbdf",
   "metadata": {},
   "source": [
    "# X. Handling Missing Values\n",
    "\n",
    "Real world datasets often have at least some missing data. The placeholder or value used to indicate missing data varies depending on data source, data type, and data file format. Integer datasets often use a number like -9999 to indicate missing data. Float datasets often use NaN (\"not a number\"). NumPy NaN is written as ```np.nan```. We've seen this briefly above. In this section we'll learn how to find, count, and replace missing and infinite data values in NumPy arrays.\n",
    "\n",
    "To find NaNs in a NumPy array we can use the ```np.isnan()``` function which will return a boolean array."
   ]
  },
  {
   "cell_type": "code",
   "execution_count": 6,
   "id": "26002d55-94bb-4d19-8998-710809182563",
   "metadata": {},
   "outputs": [
    {
     "data": {
      "text/plain": [
       "array([False,  True, False, False,  True, False, False, False])"
      ]
     },
     "execution_count": 6,
     "metadata": {},
     "output_type": "execute_result"
    }
   ],
   "source": [
    "# create an array\n",
    "data = np.array([1.0,np.nan,3.5,4.2,np.nan,np.inf,8.1,0])\n",
    "\n",
    "# determine NaN or not NaN\n",
    "np.isnan(data)"
   ]
  },
  {
   "cell_type": "markdown",
   "id": "a9c69b4d-f51b-41b2-8052-4173d31d5e40",
   "metadata": {},
   "source": [
    "We can count the number of NaNs in an array by summing the result of ```np.isnan()```"
   ]
  },
  {
   "cell_type": "code",
   "execution_count": 7,
   "id": "d1aa1abd-de73-4e35-bc29-08da99bca6e4",
   "metadata": {},
   "outputs": [
    {
     "name": "stdout",
     "output_type": "stream",
     "text": [
      "2\n"
     ]
    }
   ],
   "source": [
    "# count NaNs\n",
    "print(np.isnan(data).sum())"
   ]
  },
  {
   "cell_type": "markdown",
   "id": "d67ab2ed-8482-41b8-a182-15fa26432fd4",
   "metadata": {},
   "source": [
    "We can convert all NaNs to a finite data value."
   ]
  },
  {
   "cell_type": "code",
   "execution_count": 8,
   "id": "1565c558-df9f-4dfd-a5e2-11d778ef4b86",
   "metadata": {},
   "outputs": [
    {
     "data": {
      "text/plain": [
       "array([ 1.000e+00, -9.999e+03,  3.500e+00,  4.200e+00, -9.999e+03,\n",
       "              inf,  8.100e+00,  0.000e+00])"
      ]
     },
     "execution_count": 8,
     "metadata": {},
     "output_type": "execute_result"
    }
   ],
   "source": [
    "# fill NaNs with -9999.\n",
    "\n",
    "data = np.where(np.isnan(data),-9999.,data) # using np.where()\n",
    "# data[np.isnan(data)] = -9999.  # the equivalent using advanced indexing\n",
    "\n",
    "data"
   ]
  },
  {
   "cell_type": "markdown",
   "id": "aefc108e-3431-440f-9524-fed0040e91f2",
   "metadata": {},
   "source": [
    "Or do the reverse where we fill finite data values with NaN."
   ]
  },
  {
   "cell_type": "code",
   "execution_count": 9,
   "id": "c294c5b4-b50b-4a01-814e-e0a6e75c2169",
   "metadata": {},
   "outputs": [
    {
     "data": {
      "text/plain": [
       "array([1. , nan, 3.5, 4.2, nan, inf, 8.1, 0. ])"
      ]
     },
     "execution_count": 9,
     "metadata": {},
     "output_type": "execute_result"
    }
   ],
   "source": [
    "# fill -9999. with NaN\n",
    "\n",
    "data = np.where(data==-9999.,np.nan,data)  # using np.where()\n",
    "# data[data==-9999.] = np.nan   # the equivalent using advanced indexing\n",
    "\n",
    "data"
   ]
  },
  {
   "cell_type": "markdown",
   "id": "d718e5b5-7917-4e05-85f5-6f31a673e1d0",
   "metadata": {},
   "source": [
    "```np.isfinite()``` is used for similar purposes as ```np.isnan()``` but it will evaluate to True for values in our data that are not NaN or Inf. In other words, it will determine if each element is finite or not and return a boolean array.  "
   ]
  },
  {
   "cell_type": "code",
   "execution_count": 10,
   "id": "c8696af6-0647-4b2a-b0f3-c4d840e8d274",
   "metadata": {},
   "outputs": [
    {
     "data": {
      "text/plain": [
       "array([ True, False,  True,  True, False, False,  True,  True])"
      ]
     },
     "execution_count": 10,
     "metadata": {},
     "output_type": "execute_result"
    }
   ],
   "source": [
    "# determine finite or non-finite\n",
    "np.isfinite(data)"
   ]
  },
  {
   "cell_type": "markdown",
   "id": "2820f736-a1d3-44c0-942d-4a5e06d533d9",
   "metadata": {},
   "source": [
    "To identify the NaN and Inf values with True we can simply use the boolean operator ```~``` (not)."
   ]
  },
  {
   "cell_type": "code",
   "execution_count": 11,
   "id": "b6aaee81-0d92-4a3c-8902-bbabed7eb70e",
   "metadata": {},
   "outputs": [
    {
     "data": {
      "text/plain": [
       "array([False,  True, False, False,  True,  True, False, False])"
      ]
     },
     "execution_count": 11,
     "metadata": {},
     "output_type": "execute_result"
    }
   ],
   "source": [
    "# determine finite or non-finite\n",
    "~np.isfinite(data)"
   ]
  },
  {
   "cell_type": "markdown",
   "id": "bf29eaed-787d-47c8-a3ca-98674e4b3cf6",
   "metadata": {},
   "source": [
    "We can replace all NaN and Inf values in an array with ```np.nan_to_num()```. Here we'll replace NaN with 0 and Inf with 1000000."
   ]
  },
  {
   "cell_type": "code",
   "execution_count": 12,
   "id": "5bdc2932-1632-457d-b791-699f5ee01898",
   "metadata": {},
   "outputs": [
    {
     "data": {
      "text/plain": [
       "array([1.0e+00, 0.0e+00, 3.5e+00, 4.2e+00, 0.0e+00, 1.0e+06, 8.1e+00,\n",
       "       0.0e+00])"
      ]
     },
     "execution_count": 12,
     "metadata": {},
     "output_type": "execute_result"
    }
   ],
   "source": [
    "# replacing NaN and Inf with finite values\n",
    "np.nan_to_num(data, nan=0., posinf=1E6)"
   ]
  },
  {
   "cell_type": "markdown",
   "id": "705d9bcb-2830-4b1c-9a01-0f3f835b85ef",
   "metadata": {},
   "source": [
    "What if we want to replace NaN and Inf values in our data in a more sophisticated manner than simply filling all NaN to the same finite value and all Inf to the same finite value? Imagine we have a timeseries of data and want to fill both NaN and Inf values by copying the preceding finite value in the timeseries. Here's how we could do it."
   ]
  },
  {
   "cell_type": "code",
   "execution_count": 29,
   "id": "e90d5ae1-ea02-4b03-b7b8-011fb4f5f0d3",
   "metadata": {},
   "outputs": [
    {
     "data": {
      "text/plain": [
       "array([1. , 1. , 3.5, 4.2, 4.2, 4.2, 8.1, 0. ])"
      ]
     },
     "execution_count": 29,
     "metadata": {},
     "output_type": "execute_result"
    }
   ],
   "source": [
    "# fill NaN and Inf with the preceding finite value\n",
    "\n",
    "while np.any(~np.isfinite(data)):\n",
    "    not_finite = np.where(~np.isfinite(data)) # find indexes of non-finite data\n",
    "    data[not_finite] = data[not_finite[0] - 1] # fill non-finite with the preceding data value\n",
    "    \n",
    "data"
   ]
  },
  {
   "cell_type": "markdown",
   "id": "a3a28290-c0e0-44ba-9826-c80549d46bc2",
   "metadata": {},
   "source": [
    "To accomplish the task, the small block of code above uses a while loop, three NumPy functions which we have covered in this notebook, and advanced indexing.\n",
    "\n",
    "While there are any data values that are non-finite, find the indexes of those values, then replace those values with the preceding index's data value. In the case that there are back to back values that are non-finite, one pass through the loop won't be enough to fill all non finite values with finite values (because the preceding non-finite value will be propagated forward). This is why we use a while loop which tests if there are any non-finite values present and then if True repeats the filling process.\n",
    "\n",
    "The last thing we'll cover in this section is what happens if we try to use ```np.nan``` as a missing value in an integer array. ```np.nan``` has a float data type. NumPy doesn't have a specific value like ```np.nan``` to represent missing values in integer data. For this reason, if we have an integer data array and fill any of the values with ```np.nan```, NumPy will either throw an error or automatically convert our array to float. It's just something to be aware of."
   ]
  },
  {
   "cell_type": "code",
   "execution_count": null,
   "id": "3aebdc88-de69-4cc4-9f02-bd5a36b17e57",
   "metadata": {},
   "outputs": [],
   "source": [
    "# create an integer array\n",
    "data = np.array([1,2,-9999,3,4,5,-9999],dtype='int32')\n",
    "\n",
    "# int to NaN using advanced indexing throws error\n",
    "data[data==-9999] = np.nan\n",
    "data"
   ]
  },
  {
   "cell_type": "code",
   "execution_count": null,
   "id": "9963e52f-311e-4a78-9b7d-b84fc0d3db8e",
   "metadata": {},
   "outputs": [],
   "source": [
    "# int to NaN using np.where() coverts int data to float\n",
    "data = np.where(data==-9999,np.nan,data)\n",
    "print(data.dtype)\n",
    "data"
   ]
  },
  {
   "cell_type": "markdown",
   "id": "041f580e-91e8-428c-aa04-96b0003f1742",
   "metadata": {},
   "source": [
    "<div class=\"alert alert-info\"> \n",
    "\n",
    "## Exercise 11: Practice Handling NaN\n",
    "\n",
    "You have the follow 2D array called ```data``` that should contain only float values ranging from -100 to +100. Execute the following data cleaning steps using techniques you've learned in this and previous sections.\n",
    "\n",
    "A) Programmatically count how many missing values (NaN) are present in the data.\n",
    "\n",
    "</div>"
   ]
  },
  {
   "cell_type": "code",
   "execution_count": 30,
   "id": "9f3afad5-1db8-41ba-a9e1-43826adf2ae3",
   "metadata": {},
   "outputs": [
    {
     "data": {
      "text/plain": [
       "array([[ 1.000e+00,  2.000e+00,        nan,  4.000e+00,  5.000e+00],\n",
       "       [-9.999e+03, -9.990e+02,  3.500e+00,  1.070e+01,  9.990e+01],\n",
       "       [-9.990e+01,        inf, -6.020e+01,       -inf,  8.330e+01]],\n",
       "      dtype=float32)"
      ]
     },
     "execution_count": 30,
     "metadata": {},
     "output_type": "execute_result"
    }
   ],
   "source": [
    "data = np.array([[1.,2.,np.nan,4.,5.],\n",
    "                 [-9999.,-999.,3.5,10.7,99.9],\n",
    "                 [-99.9, np.inf, -60.2,-np.inf,83.3]], dtype=np.float32)\n",
    "\n",
    "# add your code here\n",
    "\n",
    "print(np.isnan(data).sum())"
   ]
  },
  {
   "cell_type": "markdown",
   "id": "7fc75e78-534f-4bd1-88ab-6f888111d5f3",
   "metadata": {},
   "source": [
    "<div class=\"alert alert-info\"> \n",
    "\n",
    "B) Programmatically count how many values in the data are non-finite (NaN and Inf).\n",
    "</div>"
   ]
  },
  {
   "cell_type": "code",
   "execution_count": 35,
   "id": "30cdf0a2-036a-4d09-ad6e-f1754146535c",
   "metadata": {},
   "outputs": [
    {
     "name": "stdout",
     "output_type": "stream",
     "text": [
      "3\n"
     ]
    }
   ],
   "source": [
    "# add your code here\n",
    "\n",
    "print((~np.isfinite(data)).sum())"
   ]
  },
  {
   "cell_type": "markdown",
   "id": "6abb1d80-b7ea-4242-a0d0-3a54aa61e556",
   "metadata": {},
   "source": [
    "<div class=\"alert alert-info\"> \n",
    "C) Programmatically count how many values are finite but not within the data range -100 to +100. Hint: this will require the use of multiple conditions.\n",
    "</div>"
   ]
  },
  {
   "cell_type": "code",
   "execution_count": 46,
   "id": "47697597-6836-4be9-8461-f1421e59203e",
   "metadata": {},
   "outputs": [
    {
     "name": "stdout",
     "output_type": "stream",
     "text": [
      "0\n",
      "0\n"
     ]
    }
   ],
   "source": [
    "# add your code here\n",
    "\n",
    "print(( (np.isfinite(data)) & ((data>100) | (data<-100)) ).sum())\n",
    "print(np.where( (np.isfinite(data)) & ((data>100) | (data<-100)), 1, 0).sum())"
   ]
  },
  {
   "cell_type": "markdown",
   "id": "4c5a6ade-c2f9-46d0-8bc1-72b6a6a46aa8",
   "metadata": {},
   "source": [
    "<div class=\"alert alert-info\"> \n",
    "D) Replace all data values that are not within the data range with the missing value ```np.nan```.\n",
    "</div>"
   ]
  },
  {
   "cell_type": "code",
   "execution_count": 41,
   "id": "ed5f76e3-8b86-467f-8a64-0d1b53218dcf",
   "metadata": {},
   "outputs": [
    {
     "data": {
      "text/plain": [
       "array([[  1. ,   2. ,   nan,   4. ,   5. ],\n",
       "       [  nan,   nan,   3.5,  10.7,  99.9],\n",
       "       [-99.9,   nan, -60.2,   nan,  83.3]], dtype=float32)"
      ]
     },
     "execution_count": 41,
     "metadata": {},
     "output_type": "execute_result"
    }
   ],
   "source": [
    "# add your code here\n",
    "\n",
    "data = np.where((data>100) | (data<-100), np.nan, data)\n",
    "data"
   ]
  },
  {
   "cell_type": "markdown",
   "id": "9dc8d7c6-9b01-48a7-af0c-16988608d911",
   "metadata": {},
   "source": [
    "<div class=\"alert alert-info\"> \n",
    "    \n",
    "E) Select only the finite values and save them to a new variable called ```data_clean```.\n",
    "</div>"
   ]
  },
  {
   "cell_type": "code",
   "execution_count": 42,
   "id": "12003e7f-cb95-4ab7-8e99-8dbd773d0ef0",
   "metadata": {},
   "outputs": [
    {
     "data": {
      "text/plain": [
       "array([  1. ,   2. ,   4. ,   5. ,   3.5,  10.7,  99.9, -99.9, -60.2,\n",
       "        83.3], dtype=float32)"
      ]
     },
     "execution_count": 42,
     "metadata": {},
     "output_type": "execute_result"
    }
   ],
   "source": [
    "# add your code here\n",
    "\n",
    "finite = np.where(np.isfinite(data))\n",
    "data_clean = data[finite]\n",
    "data_clean"
   ]
  },
  {
   "cell_type": "markdown",
   "id": "8db4d1c3-c892-472f-84d4-bdf8620e0dda",
   "metadata": {},
   "source": [
    "<div class=\"alert alert-info\"> \n",
    "    \n",
    "E) Fill all NaNs in the ```data``` array with zero.\n",
    "</div>"
   ]
  },
  {
   "cell_type": "code",
   "execution_count": 44,
   "id": "f4f10773-eef3-466a-a56b-7baebf3e19c1",
   "metadata": {},
   "outputs": [
    {
     "data": {
      "text/plain": [
       "array([[  1. ,   2. ,   0. ,   4. ,   5. ],\n",
       "       [  0. ,   0. ,   3.5,  10.7,  99.9],\n",
       "       [-99.9,   0. , -60.2,   0. ,  83.3]], dtype=float32)"
      ]
     },
     "execution_count": 44,
     "metadata": {},
     "output_type": "execute_result"
    }
   ],
   "source": [
    "# add your code here\n",
    "\n",
    "data = np.where(np.isnan(data), 0, data)\n",
    "data"
   ]
  },
  {
   "cell_type": "markdown",
   "id": "0fafc77f-1828-454c-9a0e-3b11232131b2",
   "metadata": {},
   "source": [
    "# XI. Input/Output (I/O) with NumPy\n",
    "\n",
    "Up to this point in this notebook we've been learning how to work with NumPy arrays by creating them from scratch as opposed to reading data from a file into a NumPy array. In this section we will cover how to read data from a file into a NumPy array, how to write a NumPy array to a file, and what types of files NumPy can read/write from/to.\n",
    "\n",
    "NumPy can read/write 1D and 2D arrays from/to plain text file formats like .txt, .dat, and .csv files. We'll cover how to do this, but in practice it's often easier to use Pandas to read and write from/to plain text files. We'll cover how to convert between NumPy and Pandas data structures here too.\n",
    "\n",
    "NumPy's native format for saving arrays of any dimension to your computer is a binary file with a .npy or .npz extension. We can write a single NumPy array to a .npy file or we can write mutliple NumPy arrays to .npz (a zipped archive of multiple .npy files). \n",
    "\n",
    "Let's start by reading the plain text data file ```data/NOAA_ClimateIndex/NOAAClimateIndex_Nino34.txt```. The file was obtained online from the NOAA Physical Sciences Laboratory webpage of climate indices [https://psl.noaa.gov/data/climateindices/list/](https://psl.noaa.gov/data/climateindices/list/). It contains monthly values of the Nino 3.4 Index from 1948 to 2024. The Nino 3.4 climate index is the mean monthly sea surface temperature over a particular area in the equatorial Pacific ocean which can indicate whether the Earth is experiencing El Nino or La Nina climate conditions. We'll learn more about the El Nino Southern Oscillation (ENSO) climate pattern and work more with this data in a subsequent lesson. But for now, we'll use the data file to practice input/output with NumPy tools.   \n",
    "\n",
    "## Read Data with No Missing Values (\"Holes\") from a Plain Text File\n",
    "\n",
    "We can use ```np.loadtxt()``` to load data with no missing values from a plain text file into a NumPy array. Our data file has a .txt extension but this also applies to other plain text files like .dat or .csv.  \"Missing values\" here means no \"holes\" in the data. Particular values that indicate missing data (like NaN) are ok, but empty spaces to indicate missing values are not ok with ```np.loadtxt()```. Before we proceed, go to the data folder and open the ```NOAAClimateIndex_Nino34.txt``` file to see what is inside. The file is formatted like: \n",
    "\n",
    "```\n",
    "year1 yearN\n",
    "year1 janval febval marval aprval mayval junval julval augval sepval octval novval decval\n",
    "year2 janval febval marval aprval mayval junval julval augval sepval octval novval decval\n",
    "...\n",
    "yearN janval febval marval aprval mayval junval julval augval sepval octval novval decval\n",
    "  missing_value\n",
    "  additional lines of metadata\n",
    "```  \n",
    "Data values are separated by one or more spaces, all missing data is indicated with the value -99.99, and there is one row at the top (year1 yearN) and at least two rows at the bottom (missing_value and additional metadata) that shouldn't be read into our NumPy array."
   ]
  },
  {
   "cell_type": "code",
   "execution_count": null,
   "id": "4708f062-67f3-4136-9a79-e5b8dafec421",
   "metadata": {},
   "outputs": [],
   "source": [
    "# read file into an array\n",
    "# exclude non-data rows with skiprows, maxrows\n",
    "nino = np.loadtxt('data/NOAA_ClimateIndex/NOAAClimateIndex_Nino34.txt',\n",
    "                  skiprows=1,\n",
    "                  max_rows=77,\n",
    "                  dtype='float32')\n",
    "print(nino.shape)\n",
    "nino[:5,:]"
   ]
  },
  {
   "cell_type": "markdown",
   "id": "4fda6e9d-4c88-4abf-9bbb-d32626cd0a3e",
   "metadata": {},
   "source": [
    "The first column of this array (year) is like an index as opposed to a data value so it would make sense to copy the year into its own array and delete the year from the nino array. We'll also replace the missing value -99.99 with ```np.nan```. "
   ]
  },
  {
   "cell_type": "code",
   "execution_count": null,
   "id": "57f0c0ff-ef68-4fa9-b8ab-f21f6977c508",
   "metadata": {},
   "outputs": [],
   "source": [
    "# copy year into its own array\n",
    "year = nino[:,0].astype('int32')\n",
    "\n",
    "# remove year from the nino array\n",
    "nino = nino[:,1:]\n",
    "\n",
    "# fill missing value with NaN\n",
    "nino = np.where(nino==-99.99,np.nan,nino)\n",
    "\n",
    "# see result\n",
    "print('year\\n',year)\n",
    "print(year.shape)\n",
    "print('nino data\\n',nino[:5,:])\n",
    "print(nino.shape)"
   ]
  },
  {
   "cell_type": "markdown",
   "id": "45de9fac-7527-478e-b126-8622a2ad4b97",
   "metadata": {},
   "source": [
    "We now have NumPy data arrays ```year``` and ```nino``` that are ready to work with.\n",
    "\n",
    "## Read Data with Missing Values (\"Holes\") from a Plain Text File\n",
    "\n",
    "If the plain text data file contains empty spaces for missing data we must use ```np.genfromtxt()``` to read the file because ```np.loadtxt()``` will throw an error. The file ```data/NOAA_ClimateIndex/NOAAClimateIndex_Nino34.csv``` is the .csv equivalent of the .txt file we read above. You can go to the data folder and open the .csv file to see its contents. Inside you will find:\n",
    "\n",
    "```\n",
    "colname,colname,colname,colname,colname,colname,colname,colname,colname,colname,colname,colname,colname\n",
    "year1,janval,febval,marval,aprval,mayval,junval,julval,augval,sepval,octval,novval,decval\n",
    "year2,janval,febval,marval,aprval,mayval,junval,julval,augval,sepval,octval,novval,decval\n",
    "...\n",
    "yearN,janval,febval,marval,aprval,mayval,junval,julval,augval,sepval,octval,novval,decval\n",
    "additional lines of metadata\n",
    "```  \n",
    "Data values are separated by a comma, all missing data is indicated with no value at all, and there is a header row at the top and metadata rows at the bottom that shouldn't be read into a NumPy array. We must use ```np.genfromtxt()``` to read this file with NumPy."
   ]
  },
  {
   "cell_type": "code",
   "execution_count": null,
   "id": "d33197ba-1775-48cb-a1c3-ab99c842fbca",
   "metadata": {},
   "outputs": [],
   "source": [
    "# read file into an array\n",
    "# exclude non-data rows with skip_header, skip_footer\n",
    "# specify the comma delimiter\n",
    "nino = np.genfromtxt('data/NOAA_ClimateIndex/NOAAClimateIndex_Nino34.csv',\n",
    "                     skip_header=1,\n",
    "                     skip_footer=3,\n",
    "                     delimiter=',',\n",
    "                     dtype='float32')\n",
    "print(nino.shape)\n",
    "nino[:5,:]"
   ]
  },
  {
   "cell_type": "markdown",
   "id": "160ac21d-975d-41e2-bcdd-fd98a732d295",
   "metadata": {},
   "source": [
    "```np.genfromtxt()``` automatically converts empty space to NaN for us, similar to the way ```pandas.read_csv()``` works. We can separate out the year from the data values in the same way we did before."
   ]
  },
  {
   "cell_type": "code",
   "execution_count": null,
   "id": "76fb0c43-3b82-4de0-a32b-1a8555cc4d40",
   "metadata": {},
   "outputs": [],
   "source": [
    "# copy year into its own array\n",
    "year = nino[:,0].astype('int32')\n",
    "\n",
    "# remove year from the nino array\n",
    "nino = nino[:,1:]\n",
    "\n",
    "# see result\n",
    "print('year\\n',year)\n",
    "print(year.shape)\n",
    "print('nino data\\n',nino[:5,:])\n",
    "print(nino.shape)"
   ]
  },
  {
   "cell_type": "markdown",
   "id": "03cee3df-911b-4407-8d46-ef028ee4ee59",
   "metadata": {},
   "source": [
    "## Write Data to Plain Text File\n",
    "\n",
    "We can use ```np.savetxt()``` to write 1D or 2D arrays to a plain text file."
   ]
  },
  {
   "cell_type": "code",
   "execution_count": null,
   "id": "1a3a677a-4fc0-4d25-a185-d1b2034bfc93",
   "metadata": {},
   "outputs": [],
   "source": [
    "# write data to csv file\n",
    "np.savetxt('np_practice_nino34.csv', nino, delimiter=',', fmt='%.2f')"
   ]
  },
  {
   "cell_type": "markdown",
   "id": "7531f722-1932-4285-b7ba-63c1ae6ea177",
   "metadata": {},
   "source": [
    "The [NumPy API Reference page for ```np.savetxt()```](https://numpy.org/doc/stable/reference/generated/numpy.savetxt.html) explains the components of the ```fmt``` (format) parameter. The format above of ```'%.2f'``` means write each data value as a floating point number with 2 decimal places. \n",
    "\n",
    "Open the ```np_practice_nino34.csv``` file to check out what's inside. It's just the data values (12 months per row), no header, no footer, no years, and the missing values are written to file as NaN. We could include a header and/or footer with additional parameters. See the NumPy API Reference for details."
   ]
  },
  {
   "cell_type": "code",
   "execution_count": null,
   "id": "0945b431-8da2-4f19-816e-5390fcb79389",
   "metadata": {},
   "outputs": [],
   "source": [
    "# write header and data to csv file\n",
    "header = 'JAN,FEB,MAR,APR,MAY,JUN,JUL,AUG,SEP,OCT,NOV,DEC'\n",
    "np.savetxt('np_practice_nino34.csv', nino, delimiter=',', fmt='%.2f', header=header, comments='')"
   ]
  },
  {
   "cell_type": "markdown",
   "id": "b74ed344-865e-4a13-b032-040c112f9505",
   "metadata": {},
   "source": [
    "If you close, then re-open the ```np_practice_nino34.csv``` file you should now see a header in the file. \n",
    "\n",
    "How would we include the year as the first value of each data row? \n",
    "\n",
    "Using only NumPy tools, this gets a little more complicated because ```np.savetxt()``` can write only a single array to file. But it's likely that in a NumPy data analysis you'll be working multiple arrays like we have with the Nino 3.4 Index data values in one array and the years in a separate array. We'd have to combine multiple arrays into a single array and use a more complicated ```fmt``` parameter to write the years as well as the data values into a single file. We can use the array manipulation function ```np.concatenate()``` to stack multiple arrays in sequence horizontally. In this case ```np.concatenate()``` will allow us to add the ```year``` array as a column to the ```nino``` array. We'll learn more about array manipulation techniques in the next section."
   ]
  },
  {
   "cell_type": "code",
   "execution_count": null,
   "id": "f75e7449-2f81-4547-a7ef-6adc64c0858e",
   "metadata": {},
   "outputs": [],
   "source": [
    "# combine arrays together\n",
    "data_out = np.concatenate([year[:,np.newaxis], nino], axis=1)\n",
    "data_out"
   ]
  },
  {
   "cell_type": "markdown",
   "id": "388b0126-dd99-4ed0-8c4a-411dea89f354",
   "metadata": {},
   "source": [
    "Now that we have everything in a single array we need to figure out the format string to write 1 integer year and 12 float data values per row of the file."
   ]
  },
  {
   "cell_type": "code",
   "execution_count": null,
   "id": "06adbf17-6b17-46dd-b39d-10dd529c1c0b",
   "metadata": {},
   "outputs": [],
   "source": [
    "# create format string to write 1 integer and 12 floats per line\n",
    "\n",
    "nfloatvals = 12  \n",
    "fmt = '%i' + ', %.2f' * nfloatvals\n",
    "fmt"
   ]
  },
  {
   "cell_type": "code",
   "execution_count": null,
   "id": "0b6d60bf-4a0b-4519-a8db-b547fb404098",
   "metadata": {},
   "outputs": [],
   "source": [
    "# write csv file with year and data values plus header\n",
    "np.savetxt('np_practice_nino34.csv', data_out, \n",
    "           delimiter=',', fmt=fmt, \n",
    "           header='YEAR,'+header, comments='')"
   ]
  },
  {
   "cell_type": "markdown",
   "id": "7dbe61c4-8657-456f-927d-afb7a284ed72",
   "metadata": {},
   "source": [
    "If you close, then re-open the ```np_practice_nino34.csv``` file again you will see each row of the file now contains the year written as an integer and 12 data values written as floats with two decimal places."
   ]
  },
  {
   "cell_type": "markdown",
   "id": "7857a649-cf93-421f-b9e5-cc01abb6e916",
   "metadata": {},
   "source": [
    "## Converting between Pandas and NumPy Data Structures\n",
    "\n",
    "You may find that reading and writing plain text files is easier with Pandas functions as opposed to NumPy. It's easy to convert Pandas DataFrames to NumPy arrays and vice versa, which enables us to use Pandas functions for reading and writing data even if we plan to conduct most of our data analysis with NumPy.\n",
    "\n",
    "You may remember how to use ```pandas.read_csv()``` from the Introduction to Pandas lesson. This function has a lot more functionality (check out all the available parameters in the [Pandas API Reference for ```pandas.read_csv()```](https://pandas.pydata.org/docs/reference/api/pandas.read_csv.html)) than the NumPy functions for reading plain text files do. Here's how we could read the ```data/NOAA_ClimateIndex/NOAAClimateIndex_Nino34.txt``` file with Pandas and then convert to NumPy arrays."
   ]
  },
  {
   "cell_type": "code",
   "execution_count": null,
   "id": "30a5997d-de68-43d6-b240-fbe695aa1bc4",
   "metadata": {},
   "outputs": [],
   "source": [
    "nino_df = pd.read_csv('data/NOAA_ClimateIndex/NOAAClimateIndex_Nino34.txt',\n",
    "                   header=None,\n",
    "                   skiprows=1,\n",
    "                   skipfooter=3,\n",
    "                   na_values=-99.99,\n",
    "                   delimiter=r'\\s+',\n",
    "                   names=np.arange(1,13),\n",
    "                   engine='python')\n",
    "nino_df"
   ]
  },
  {
   "cell_type": "code",
   "execution_count": null,
   "id": "f76828b8-7fca-4ba6-82ed-525dd688e042",
   "metadata": {},
   "outputs": [],
   "source": [
    "# convert pandas dataframe columns to 2D numpy array\n",
    "nino = nino_df.to_numpy()\n",
    "\n",
    "# convert pandas index to 1D numpy array\n",
    "year = nino_df.index.to_numpy()\n",
    "\n",
    "# print array info\n",
    "print('nino\\n',nino[:5,:])\n",
    "print(nino.shape)\n",
    "print('year\\n',year)\n",
    "print(year.shape)"
   ]
  },
  {
   "cell_type": "markdown",
   "id": "5f61b81c-baf4-4b22-805b-31e9d8208b39",
   "metadata": {},
   "source": [
    "Now let's build a Pandas DataFrame from our NumPy arrays and use ```pandas.DataFrame.to_csv()``` to write a csv file."
   ]
  },
  {
   "cell_type": "code",
   "execution_count": null,
   "id": "ff6bd30d-b907-4d7c-8d28-f05279166acd",
   "metadata": {},
   "outputs": [],
   "source": [
    "# build a pandas dataframe from two numpy arrays\n",
    "\n",
    "colnames = ['JAN','FEB','MAR','APR','MAY','JUN','JUL','AUG','SEP','OCT','NOV','DEC']\n",
    "data_out = pd.DataFrame(nino, index=year, columns=colnames)\n",
    "data_out"
   ]
  },
  {
   "cell_type": "code",
   "execution_count": null,
   "id": "4fb1f734-4bef-47bb-9237-525f42040613",
   "metadata": {},
   "outputs": [],
   "source": [
    "# use pandas function to write csv file\n",
    "data_out.to_csv('np_practice_nino34.csv', index_label='YEAR')"
   ]
  },
  {
   "cell_type": "markdown",
   "id": "911a252e-5f8f-4069-87c7-48faab3d1857",
   "metadata": {},
   "source": [
    "## Read and Write NumPy's Native Format\n",
    "\n",
    "NumPy's native format can be used to store arrays of any number of dimensions. There are both pros and cons of using NumPy's native format to store your data. A pro is that I/O (reading/writing) is very fast. Another pro is that the I/O functions for saving and loading NumPy native format are super simple to use. A con is that there is no metadata written in or alongside the file to document what is inside it so you will have to be deligent about creating text files of metadata for yourself and collaborators. Another con is that if you use NumPy's native format to store your data, you are likely limiting yourself and your collaborators to using Python and NumPy to read that data later. Technically, .npy files can be read with languages like C or Fortran but it's not nearly as simple as reading the files with NumPy.\n",
    "\n",
    "We'll start by writing the ```nino``` and ```year``` arrays to separate .npy files using ```np.save()```."
   ]
  },
  {
   "cell_type": "code",
   "execution_count": null,
   "id": "5c9d6e82-54c8-4186-ab3a-57e900d21bac",
   "metadata": {},
   "outputs": [],
   "source": [
    "# write two .npy files\n",
    "np.save('nino.npy',nino)\n",
    "np.save('year.npy',year)"
   ]
  },
  {
   "cell_type": "markdown",
   "id": "e2d63e83-6861-4a9e-aeb5-44b8f0aa6284",
   "metadata": {},
   "source": [
    "The .npy files we have just written are binary files. You cannot click to open them and view the contents like you can with a plain text file. To view the contents you must write some code. This may sound inconvenient, but it is normal practice to store larger datasets or data with more than two dimensions in binary formats. For some binary formats, such as netcdf (.nc files), tools have been developed that you can execute at a terminal or command line to view the file contents. Technically, there is a tool called npyshow that you can install to view limited information about .npy files from the command line, but it doesn't offer much functionality or benefit so we will not cover it.\n",
    "\n",
    "To load data into a NumPy array from a .npy file we can use ```np.load()```."
   ]
  },
  {
   "cell_type": "code",
   "execution_count": null,
   "id": "ba80cf0e-aca2-4226-9c78-12c865620b68",
   "metadata": {},
   "outputs": [],
   "source": [
    "# load data into array from .npy file\n",
    "nino = np.load('nino.npy')\n",
    "year = np.load('year.npy')\n",
    "\n",
    "# print array info\n",
    "print('nino\\n',nino[:5,:])\n",
    "print(nino.shape)\n",
    "print('year\\n',year)\n",
    "print(year.shape)"
   ]
  },
  {
   "cell_type": "markdown",
   "id": "fadbe12a-001e-4ce4-8d5a-7e132a31e383",
   "metadata": {},
   "source": [
    "To write the ```nino``` and ```year``` arrays to .npz (a zipped archive of .npy files) we can use ```np.savez()```."
   ]
  },
  {
   "cell_type": "code",
   "execution_count": null,
   "id": "e7a5c783-8101-4de7-8eb5-ccc2be01d6e4",
   "metadata": {},
   "outputs": [],
   "source": [
    "# write data to .npz archive\n",
    "np.savez('nino34data.npz',nino=nino,year=year)"
   ]
  },
  {
   "cell_type": "markdown",
   "id": "79ca0b57-cfc7-4c12-99e4-3b658b8bb037",
   "metadata": {},
   "source": [
    "```np.savez()``` uses the parameter ```key=array``` to name the different arrays inside the zipped archive.\n",
    "\n",
    "Loading data from .npz is a bit different. When we use ```np.load()``` on a .npz archive, we get a special npz file object which contains the names of the data arrays inside the archive. So first, we'll save the npz file object to a variable called ```npz_archive```. When we print the object contents we can see the names of the arrays (keys) inside the archive.  "
   ]
  },
  {
   "cell_type": "code",
   "execution_count": null,
   "id": "c0f8b741-d588-43b6-ba54-b94598a0956c",
   "metadata": {},
   "outputs": [],
   "source": [
    "npz_archive = np.load('nino34data.npz')\n",
    "npz_archive"
   ]
  },
  {
   "cell_type": "markdown",
   "id": "b3f5c766-60b1-41b9-b4f5-ba316205b6f6",
   "metadata": {},
   "source": [
    "Now we can use the keys on the npz file object to access the data arrays."
   ]
  },
  {
   "cell_type": "code",
   "execution_count": null,
   "id": "1835f25e-665f-40be-8315-c8910cfb13f3",
   "metadata": {},
   "outputs": [],
   "source": [
    "# get arrays from npz file object\n",
    "nino = npz_archive['nino']\n",
    "year = npz_archive['year']\n",
    "\n",
    "# print array info\n",
    "print('nino\\n',nino[:5,:])\n",
    "print(nino.shape)\n",
    "print('year\\n',year)\n",
    "print(year.shape)"
   ]
  },
  {
   "cell_type": "markdown",
   "id": "2a20cf22-0bc1-4b9a-827f-88f33de62338",
   "metadata": {},
   "source": [
    "<div class=\"alert alert-info\"> \n",
    "\n",
    "## Exercise 12: Read and Write NumPy's Native Data Format\n",
    "\n",
    "A) Create an array called ```arr``` with shape (100,100,100) of random numbers between 0 and 1. Write that array to a file called ```random_numbers.npy```.\n",
    "\n",
    "</div>"
   ]
  },
  {
   "cell_type": "code",
   "execution_count": 47,
   "id": "5ebc30c8-860a-448a-9215-8f8190c904a1",
   "metadata": {},
   "outputs": [
    {
     "name": "stdout",
     "output_type": "stream",
     "text": [
      "(100, 100, 100)\n",
      "1.1361187417513463e-06\n",
      "0.9999986375077172\n"
     ]
    }
   ],
   "source": [
    "rng = np.random.default_rng()\n",
    "arr = rng.random((100,100,100))"
   ]
  },
  {
   "cell_type": "code",
   "execution_count": 48,
   "id": "cee0ddf7-8dc8-4c90-80f4-8765d5bffeaa",
   "metadata": {},
   "outputs": [],
   "source": [
    "np.save('random_numbers.npy',arr)"
   ]
  },
  {
   "cell_type": "markdown",
   "id": "4b4a6a74-ae49-4b2c-b024-f584884c3ea6",
   "metadata": {},
   "source": [
    "<div class=\"alert alert-info\"> \n",
    "\n",
    "B) Read the file you just wrote ```random_numbers.npy``` into an array called ```rand_arr```. Print the shape, min, and max values of ```rand_arr```.\n",
    "\n",
    "</div>"
   ]
  },
  {
   "cell_type": "code",
   "execution_count": 51,
   "id": "bb4f2aba-fe2d-45f6-920f-580c023cb7b3",
   "metadata": {},
   "outputs": [
    {
     "name": "stdout",
     "output_type": "stream",
     "text": [
      "(100, 100, 100)\n",
      "1.1361187417513463e-06\n",
      "0.9999986375077172\n"
     ]
    }
   ],
   "source": [
    "rand_arr = np.load('random_numbers.npy')\n",
    "print(rand_arr.shape)\n",
    "print(rand_arr.min())\n",
    "print(rand_arr.max())"
   ]
  },
  {
   "cell_type": "markdown",
   "id": "9ca802a6-5577-420d-b57a-f7e95e9c438a",
   "metadata": {},
   "source": [
    "# XII. Array Manipulation\n",
    "\n",
    "Array manipulation functions are those that change an array's shape which can including stacking, splitting, concatenating, and changing the number, order, or length of array dimensions. We'll cover the following functions, but this list is not exhaustive. For more functions, see the [NumPy API Reference page for array manipulation](https://numpy.org/devdocs/reference/routines.array-manipulation.html).\n",
    "\n",
    "- ```np.newaxis```\n",
    "- ```np.expand_dims()```\n",
    "- ```np.squeeze()```\n",
    "- ```np.flatten()```\n",
    "- ```np.concatenate()```\n",
    "- ```np.stack()```\n",
    "- ```np.reshape()```\n",
    "\n",
    "## Creating Additional Dimensions\n",
    "\n",
    "```np.newaxis``` is used as an indexer to expand array dimensions, usually to enable automatic broadcasting. We covered this in the section on broadcasting when we used it to add a singleton dimension to an array to enable broadcasting. We used it again in the previous section for the same purpose when we concatenated arrays. An alternative to using ```np.newaxis``` is the ```np.expand_dims()``` function. "
   ]
  },
  {
   "cell_type": "code",
   "execution_count": 52,
   "id": "c7389567-89ad-4ab0-9d51-5f6833ea6212",
   "metadata": {},
   "outputs": [
    {
     "name": "stdout",
     "output_type": "stream",
     "text": [
      "[ 1  2  3  4  5  6  7  8  9 10 11 12] (12,)\n",
      "[[ 1  2  3  4  5  6  7  8  9 10 11 12]] (1, 12)\n",
      "[[ 1]\n",
      " [ 2]\n",
      " [ 3]\n",
      " [ 4]\n",
      " [ 5]\n",
      " [ 6]\n",
      " [ 7]\n",
      " [ 8]\n",
      " [ 9]\n",
      " [10]\n",
      " [11]\n",
      " [12]] (12, 1)\n"
     ]
    }
   ],
   "source": [
    "# create array\n",
    "arr_1d = np.arange(1,13)\n",
    "print(arr_1d, arr_1d.shape)\n",
    "\n",
    "# 1D to 2D array, adding singleton dimension on the left\n",
    "arr_2d = np.expand_dims(arr_1d,axis=0)\n",
    "print(arr_2d, arr_2d.shape)\n",
    "\n",
    "# 1D to 2D array, adding singleton dimension on the right (data row --> data column)\n",
    "arr_2d = np.expand_dims(arr_1d,axis=1)\n",
    "print(arr_2d, arr_2d.shape)"
   ]
  },
  {
   "cell_type": "markdown",
   "id": "333cc542-d891-41a3-8697-2a273a9649ab",
   "metadata": {},
   "source": [
    "## Removing and Collapsing Dimensions\n",
    "\n",
    "To remove singleton dimensions we can use ```np.squeeze()```. This is useful, for example, when working with imagery data. Often times when you obtain a single band from an imagery dataset the dimensions will be (band, y, x) where band is a singleton dimension that you may want to remove."
   ]
  },
  {
   "cell_type": "code",
   "execution_count": null,
   "id": "eb37301c-9bb1-4826-9293-d2e870e3cb57",
   "metadata": {},
   "outputs": [],
   "source": [
    "arr_1d = np.squeeze(arr_2d)\n",
    "arr_1d"
   ]
  },
  {
   "cell_type": "markdown",
   "id": "0e6a2c54-2505-4f34-aa29-a3aac8d8c03b",
   "metadata": {},
   "source": [
    "We can use ```np.ndarray.flatten()``` to collapse all dimensions of a multi-dimensional array to a single dimension.\n",
    "\n",
    "When would you need to do this? Sometimes certain functions, especially statistical functions, may only be able to accept inputs with less dimensions than your data arrays have. In many cases, you can collapse all or some of the dimensions in your arrays temporarily, apply these functions, then uncollapse the results. Another example would be if your data comes with multiple dimensions that really should be collapsed into one like if timeseries data is provided in a 2D array as (year, month). It's likely easier to collapse this 2D timeseries to a single dimension with ```np.ndarray.flatten()```: (year,month)-->(time).\n",
    "\n",
    "Notice that this function operates directly on a NumPy array, meaning we chain it to the end of an existing array. Other functions that work directly on NumPy arrays can be found in the methods section of the [numpy.ndarray page in the NumPy API Reference](https://numpy.org/devdocs/reference/generated/numpy.ndarray.html).   \n",
    "\n",
    "Let's pretend we have a 2D timeseries of data with dims representing (year, month). Here's how we could collapse those dimensions into a single dimension (time)"
   ]
  },
  {
   "cell_type": "code",
   "execution_count": null,
   "id": "f0408739-5447-47e5-9838-9c1355da488e",
   "metadata": {},
   "outputs": [],
   "source": [
    "# 2D timeseries dims (year, month)\n",
    "arr_2d = np.array([[1,2,3,4,5,6,7,8,9,10,11,12],\n",
    "                   [1,2,3,4,5,6,7,8,9,10,11,12],\n",
    "                   [1,2,3,4,5,6,7,8,9,10,11,12]])\n",
    "\n",
    "# 1D timeseries\n",
    "arr_2d.flatten()"
   ]
  },
  {
   "cell_type": "markdown",
   "id": "2198dfa1-9329-48a5-9dbe-6fed88cec11d",
   "metadata": {},
   "source": [
    "The default behaviour of ```np.ndarray.flatten()``` is to collapse in *row-major* order, meaning that the rows are chained together one after the next in the flattening process.\n",
    "\n",
    "## An Application of np.concatenate()\n",
    "We've used ```np.concatenate()``` briefly in a prior section. This function can join a sequence of arrays along an existing axis. The arrays must have the same number of dimensions but can differ in the length on the dimension we concatenate along. We saw this in action earlier when we had to use ```np.newaxis``` to convert the 1D ```year``` array to 2D in order to concatenate it as a column of the ```nino``` array. \n",
    "\n",
    "A common application of ```np.concatenate()``` is joining data that has been split into multiple files, which often occurs with larger data or data that has a time dimension. Let's look at how to use ```np.concatenate()``` to join data from multiple files together into a single array. In the ```data/pretend/weather/``` folder there are three files called ```tmax_daily_Starkville_2020.csv```, ```tmax_daily_Starkville_2021.csv```, and ```tmax_daily_Starkville_2022.csv```."
   ]
  },
  {
   "cell_type": "code",
   "execution_count": null,
   "id": "03d39b2b-227a-4e2f-83d7-5349028a9ea6",
   "metadata": {},
   "outputs": [],
   "source": [
    "# load data from 3 different files into 3 different 1D arrays\n",
    "data2020 = np.loadtxt('data/pretend/weather/tmax_daily_Starkville_2020.csv',skiprows=1,delimiter=',',usecols=1,dtype='float32')\n",
    "data2021 = np.loadtxt('data/pretend/weather/tmax_daily_Starkville_2021.csv',skiprows=1,delimiter=',',usecols=1,dtype='float32')\n",
    "data2022 = np.loadtxt('data/pretend/weather/tmax_daily_Starkville_2022.csv',skiprows=1,delimiter=',',usecols=1,dtype='float32')\n",
    "\n",
    "print(data2020.shape,data2021.shape,data2022.shape)\n",
    "\n",
    "# concatenate the arrays together\n",
    "tmax = np.concatenate([data2020,data2021,data2022])\n",
    "tmax.shape"
   ]
  },
  {
   "cell_type": "markdown",
   "id": "574d56e8-355a-4fc6-8cc5-ec05dcddb826",
   "metadata": {},
   "source": [
    "If our data is split across files, chances are there will be way more than 3 files to concatenate. To minimize writing repetitive lines of code we can use a loop to load data with the help of a package called glob. We'll first get a list of file names (with glob), then loop the file reading, and finally concatenate the data together. \n",
    "\n",
    "First, we'll use the ```glob.glob()``` function to get a list of file names that match a certain pattern."
   ]
  },
  {
   "cell_type": "code",
   "execution_count": null,
   "id": "09c1e130-33b4-4d96-b3e6-1de9fa3efbdb",
   "metadata": {},
   "outputs": [],
   "source": [
    "# get a list of file names\n",
    "file_list = glob.glob('data/pretend/weather/tmax_daily_Starkville_*.csv')\n",
    "file_list"
   ]
  },
  {
   "cell_type": "markdown",
   "id": "a3c69414-2b64-44e1-9136-68331c0b901a",
   "metadata": {},
   "source": [
    "If you are on a windows computer the glob results may include file paths with double backslashes instead of single forward slashes. That's ok.\n",
    "\n",
    "Now we can loop through the files, appending the data arrays into a list, then concatenate the entire list of arrays together."
   ]
  },
  {
   "cell_type": "code",
   "execution_count": null,
   "id": "00353406-5beb-4de9-a7b3-c067f837abb1",
   "metadata": {},
   "outputs": [],
   "source": [
    "array_list = [] # an empty list\n",
    "\n",
    "for f in file_list:\n",
    "    array_list.append(np.loadtxt(f,skiprows=1,delimiter=',',usecols=1,dtype='float32'))\n",
    "\n",
    "tmax = np.concatenate(array_list)\n",
    "tmax.shape    "
   ]
  },
  {
   "cell_type": "markdown",
   "id": "d980478f-6ffd-4db2-b599-04b0dc79680d",
   "metadata": {},
   "source": [
    "## An Application of np.stack()\n",
    "\n",
    "The ```np.stack()``` function can be applied to accomplish similar tasks as ```np.concatenate()```. The difference is that ```np.stack()``` will join arrays along a new axis, as opposed to an existing axis. Similar to concatenate, one use for this function is to join together data that is split across multiple files into a single array. Imagine we are given gridded annual mean tmax data for the state of Mississippi split into multiple files where each file contains data for one year. The rows of the files represent different latitudes on the grid and the columns represent longitudes. In the folder ```data/pretend/weather/``` we'll use the files ```tmax_annual_Mississippi_2020.csv```, ```tmax_annual_Mississippi_2021.csv```, and ```tmax_annual_Mississippi_2022.csv``` to demonstrate how we can stack 2D spatial data along a new time dimension to obtain a 3D data array (time, lat, lon)."
   ]
  },
  {
   "cell_type": "code",
   "execution_count": null,
   "id": "d0201955-89a7-474f-ac6e-fffa43046b6e",
   "metadata": {},
   "outputs": [],
   "source": [
    "# read data files into separate arrays\n",
    "data2020 = np.loadtxt('data/pretend/weather/tmax_annual_Mississippi_2020.csv',delimiter=',',dtype='float32')\n",
    "data2021 = np.loadtxt('data/pretend/weather/tmax_annual_Mississippi_2021.csv',delimiter=',',dtype='float32')\n",
    "data2022 = np.loadtxt('data/pretend/weather/tmax_annual_Mississippi_2022.csv',delimiter=',',dtype='float32')\n",
    "\n",
    "# look at array shapes\n",
    "print(data2020.shape,data2021.shape,data2022.shape)"
   ]
  },
  {
   "cell_type": "code",
   "execution_count": null,
   "id": "ef45e9cf-d6eb-4175-8f75-5ab3f30eca5c",
   "metadata": {},
   "outputs": [],
   "source": [
    "# stack the arrays along a new dimension\n",
    "tmax = np.stack([data2020,data2021,data2022],axis=0)\n",
    "tmax.shape"
   ]
  },
  {
   "cell_type": "markdown",
   "id": "09e2800e-0c71-41e1-880c-5c5343245767",
   "metadata": {},
   "source": [
    "We've used ```np.stack()``` to create a third dimension that represents time and placed that dimension first with the parameter ```axis=0```.\n",
    "\n",
    "## Reshaping Arrays\n",
    "\n",
    "The ```np.reshape()``` function allows us to play with how the elements of an array are ordered into dimensions. Look at how we can change this 1D array into a 2D array just by changing the array shape, not changing any of the array values. "
   ]
  },
  {
   "cell_type": "code",
   "execution_count": null,
   "id": "7b22da59-1293-4ed7-9bd8-daf302ffd8dc",
   "metadata": {},
   "outputs": [],
   "source": [
    "# remember what's inside arr_1d\n",
    "print(arr_1d)\n",
    "\n",
    "# change arr_1d shape (12,) to shape (3,4)\n",
    "np.reshape(arr_1d,(3,4))"
   ]
  },
  {
   "cell_type": "markdown",
   "id": "4868015a-f562-4fcf-a2ec-76267fdb7538",
   "metadata": {},
   "source": [
    "This function may be useful for collapsing selected dimensions of an array. Imagine we have a 3D array with dimensions (time, lat, lon) and we need to use a function that only accepts 2-dimensional inputs. This often happens with statistical functions from various Python packages. Just because our array is 3-dimensional doesn't mean we can't use functions that only accept 2-dimensional inputs. We can collapse our spatial dimensions (time,lat,lon) --> (time,space), execute our calculations, then convert the results back to 3-dimensional. Here's an example of using ```np.reshape()``` to collapse lat,lon dimensions to a space dimension and back."
   ]
  },
  {
   "cell_type": "code",
   "execution_count": null,
   "id": "8f9cbbc3-e2f3-4d09-b331-ac887a1a6261",
   "metadata": {},
   "outputs": [],
   "source": [
    "# array with dims representing (time,lat,lon)\n",
    "arr_3d = np.array([[[1,2,3],\n",
    "                     [1,2,3]],\n",
    "                    [[4,5,6],\n",
    "                     [4,5,6]],\n",
    "                    [[7,8,9],\n",
    "                     [7,8,9]]])\n",
    "arr_3d.shape"
   ]
  },
  {
   "cell_type": "markdown",
   "id": "81ba040a-f2b8-48b7-87f7-1df40a57ce54",
   "metadata": {},
   "source": [
    "```arr_3d``` contains data for 3 times, 2 latitudes, and 3 longitudes. We can collapse the latitude and longitude dimensions into a single spatial dimension (3,2,3) --> (3,6)"
   ]
  },
  {
   "cell_type": "code",
   "execution_count": null,
   "id": "91e24b0b-65f4-49f0-b53a-559e8e493ffd",
   "metadata": {},
   "outputs": [],
   "source": [
    "# reshape array with dims (time,lat,lon) --> (time,space)\n",
    "arr_2d = np.reshape(arr_3d,(3,-1))\n",
    "print(arr_2d.shape)\n",
    "arr_2d"
   ]
  },
  {
   "cell_type": "markdown",
   "id": "6049a38a-fb69-4315-9463-b304b3bad13c",
   "metadata": {},
   "source": [
    "The ```(3,-1)``` shape parameter is telling ```np.reshape()``` that we want a 2D result where the first dimension has length 3 (time) and the second dimension length (space) is inferred from the other dimensions of the input array ```arr_3d```. Notice how the reshape is happening in row-major order.\n",
    "\n",
    "After reshaping this data to two dimensions, we could apply any statistical (or other) functions requiring 2D inputs. Then, we could shape the results back into 3 dimensions like:"
   ]
  },
  {
   "cell_type": "code",
   "execution_count": null,
   "id": "11a73b30-0157-4eb8-8411-d717c7e9b352",
   "metadata": {},
   "outputs": [],
   "source": [
    "# reshape array with dims (time,shape) back to dims (time,lat,lon)\n",
    "arr_3d = np.reshape(arr_2d,(3,2,3))\n",
    "arr_3d"
   ]
  },
  {
   "cell_type": "markdown",
   "id": "442e70f9-8aec-4d26-8c38-a9bca4259c0c",
   "metadata": {},
   "source": [
    "<div class=\"alert alert-info\"> \n",
    "\n",
    "## Exercise 13: Join and Reshape Data from Multiple Files\n",
    "\n",
    "There are 30 files named like ```data/pretend/landcover/landcover_yyyy.csv``` for the years 1995 through 2023 containing annual landcover data. Each file contains data for a single year with 10 rows (representing latitudes) and 20 columns (representing longitudes). \n",
    "\n",
    "A) Read these files into a 3D array called ```landcover``` with data type int32 and dimensions that represent (time, latitude, longitude) . You'll need to use the glob package, append a list with an array of the contents of each file, and then use the appropriate NumPy function to join your list of arrays together. Print your 3D array shape and data type.  \n",
    "\n",
    "</div>"
   ]
  },
  {
   "cell_type": "code",
   "execution_count": 69,
   "id": "36c7aa8b-4f8c-492a-a6b2-9f690e4e9ffb",
   "metadata": {},
   "outputs": [
    {
     "name": "stdout",
     "output_type": "stream",
     "text": [
      "(30, 10, 20)\n",
      "int32\n"
     ]
    }
   ],
   "source": [
    "# add your code here\n",
    "\n",
    "file_list = glob.glob('data/pretend/landcover/landcover_*.csv')\n",
    "\n",
    "array_list = []\n",
    "for f in file_list:\n",
    "    array_list.append(np.loadtxt(f,delimiter=',', dtype='int32'))\n",
    "\n",
    "landcover = np.stack(array_list, axis=0)\n",
    "\n",
    "print(landcover.shape)\n",
    "print(landcover.dtype)"
   ]
  },
  {
   "cell_type": "markdown",
   "id": "5d4fadfc-b50c-4de7-8c1f-fd7a2d6604ab",
   "metadata": {},
   "source": [
    "<div class=\"alert alert-info\"> \n",
    "\n",
    "B) Reshape your 3D array with dimensions representing (time, latitude, longitude) to a 2D array called ```landcover_2d``` with dimensions representing (time, space). Print the shape of ```landcover_2d```.\n",
    "\n",
    "</div>"
   ]
  },
  {
   "cell_type": "code",
   "execution_count": 70,
   "id": "14ed064a-d684-4d45-b4cd-dea0c83f018d",
   "metadata": {},
   "outputs": [
    {
     "data": {
      "text/plain": [
       "(30, 200)"
      ]
     },
     "execution_count": 70,
     "metadata": {},
     "output_type": "execute_result"
    }
   ],
   "source": [
    "# add your code here\n",
    "\n",
    "landcover_2d = np.reshape(landcover,(30,-1))\n",
    "landcover_2d.shape"
   ]
  },
  {
   "cell_type": "markdown",
   "id": "d8a45846-c1be-4610-88f1-f670ae97a98e",
   "metadata": {},
   "source": [
    "# XIII. Views and Copies\n",
    "\n",
    "Understanding when a new variable is a view of an existing variable vs when it's a copy can help you avoid mistakes in your data analysis. \n",
    "\n",
    "A copy means that the data values in an existing variable are copied to a new place in your computer's memory and that memory space is renamed to whatever new variable name you choose. A view is when you create a new variable that is simply pointing to the same location of where an existing variable is held in memory. In this case your new variable's name is like an alias to your existing variable. \n",
    "\n",
    "In this section we will look back over many of the things we have learned in previous sections to better understand when we are working with views and when we are working with copies.\n",
    "\n",
    "NumPy code that can produce views includes:\n",
    "- basic indexing\n",
    "- copying arrays through assignment without the ```.copy()``` function\n",
    "- ```np.reshape()```, ```np.transpose()```, ```np.ravel()```\n",
    "  \n",
    "Most everything else will not produce views, but we'll cover how we can check just to be certain."
   ]
  },
  {
   "cell_type": "markdown",
   "id": "38364421-13cc-4f56-9e25-670673217052",
   "metadata": {},
   "source": [
    "## Basic Indexing Produces Views\n",
    "\n",
    "We covered most of this in the basic indexing section, so this should look familiar."
   ]
  },
  {
   "cell_type": "code",
   "execution_count": 142,
   "id": "cdecdbcd-102d-4b50-9ba5-d93bae6e25d6",
   "metadata": {},
   "outputs": [
    {
     "name": "stdout",
     "output_type": "stream",
     "text": [
      "[1 2 3 4 5]\n",
      "[10  2  3  4  5]\n"
     ]
    }
   ],
   "source": [
    "# 2D array for demonstration\n",
    "arr_2d = np.array([[1,2,3,4,5],\n",
    "                   [6,7,8,9,10]])\n",
    "\n",
    "# new variable is a view of a slice of arr_2d\n",
    "new_var = arr_2d[0,:] \n",
    "print(new_var)\n",
    "\n",
    "# update arr_2d and new_var will reflect the change\n",
    "arr_2d[0,0] = 10\n",
    "print(new_var)"
   ]
  },
  {
   "cell_type": "markdown",
   "id": "421f5906-a89e-488b-b254-0ee817b3d489",
   "metadata": {},
   "source": [
    "We can also check if ```new_var``` is a view or copy with the function  ```np.shares_memory()```. If this function returns True then ```new_var``` is a view of another array. If it returns False then ```new_var``` is stored in a new place in memory and is not pointing to any other array (not a view)."
   ]
  },
  {
   "cell_type": "code",
   "execution_count": 152,
   "id": "ce4a1caa-aad5-4a6d-9d76-fab75138aaf8",
   "metadata": {},
   "outputs": [
    {
     "data": {
      "text/plain": [
       "True"
      ]
     },
     "execution_count": 152,
     "metadata": {},
     "output_type": "execute_result"
    }
   ],
   "source": [
    "# check if view\n",
    "np.shares_memory(new_var,arr_2d)"
   ]
  },
  {
   "cell_type": "markdown",
   "id": "effeb16a-2b87-4dc0-a9a4-b41fb64e4b17",
   "metadata": {},
   "source": [
    "The True result above tells us that ```new_var``` and ```arr_2d``` point to the same location in memory, meaning one array is a view into the other and that changing values in one array will result in changes to the other.\n",
    "\n",
    "In the example above we made a change to ```arr_2d``` and saw it reflected in ```new_var```. But since both variables point to the same data in memory, changes work the other way around too, i.e., changes to ```new_var``` will reflect in ```arr_2d```. "
   ]
  },
  {
   "cell_type": "code",
   "execution_count": 151,
   "id": "32e239be-9536-4723-94e2-a5580f9846ba",
   "metadata": {},
   "outputs": [
    {
     "name": "stdout",
     "output_type": "stream",
     "text": [
      "[[ 1  2  3  4  5]\n",
      " [ 6  7  8  9 10]]\n",
      "[[10  2  3  4  5]\n",
      " [ 6  7  8  9 10]]\n"
     ]
    },
    {
     "data": {
      "text/plain": [
       "True"
      ]
     },
     "execution_count": 151,
     "metadata": {},
     "output_type": "execute_result"
    }
   ],
   "source": [
    "# 2D array for demonstration\n",
    "arr_2d = np.array([[1,2,3,4,5],\n",
    "                   [6,7,8,9,10]])\n",
    "\n",
    "# creating new_var through assignment like this results in a view\n",
    "new_var = arr_2d \n",
    "print(new_var)\n",
    "\n",
    "# this time update new_var, arr_2d will reflect the change\n",
    "new_var[0,0] = 10\n",
    "print(arr_2d)\n",
    "\n",
    "# check if view\n",
    "np.shares_memory(new_var,arr_2d)"
   ]
  },
  {
   "cell_type": "markdown",
   "id": "629417bc-a0e7-4960-86e5-31991cf558ed",
   "metadata": {},
   "source": [
    "If we want to ensure that ```new_var``` is copied into its own memory space so that changing the values of either array will not affect the other, we can use the array function ```.copy()```."
   ]
  },
  {
   "cell_type": "code",
   "execution_count": 161,
   "id": "67494fae-c035-4ef4-b698-142f71ecc77c",
   "metadata": {},
   "outputs": [
    {
     "name": "stdout",
     "output_type": "stream",
     "text": [
      "[[ 1  2  3  4  5]\n",
      " [ 6  7  8  9 10]]\n",
      "[[ 1  2  3  4  5]\n",
      " [ 6  7  8  9 10]]\n"
     ]
    },
    {
     "data": {
      "text/plain": [
       "False"
      ]
     },
     "execution_count": 161,
     "metadata": {},
     "output_type": "execute_result"
    }
   ],
   "source": [
    "# same code as above except using .copy()\n",
    "\n",
    "# 2D array for demonstration\n",
    "arr_2d = np.array([[1,2,3,4,5],\n",
    "                   [6,7,8,9,10]])\n",
    "\n",
    "# new variable is a view of arr_2d\n",
    "new_var = arr_2d.copy()\n",
    "print(new_var)\n",
    "\n",
    "# this time update new_var, arr_2d will reflect the change\n",
    "new_var[0,0] = 10\n",
    "print(arr_2d)\n",
    "\n",
    "# check if view\n",
    "np.shares_memory(new_var,arr_2d)"
   ]
  },
  {
   "cell_type": "markdown",
   "id": "f6bd625d-cc75-4ff0-881c-f09423bf494d",
   "metadata": {},
   "source": [
    "## Advanced Indexing Produces Copies\n",
    "\n",
    "We covered most of this in the advanced indexing section, so this should look familiar."
   ]
  },
  {
   "cell_type": "code",
   "execution_count": 153,
   "id": "cff9debe-6282-4695-9b90-456580efd095",
   "metadata": {},
   "outputs": [
    {
     "name": "stdout",
     "output_type": "stream",
     "text": [
      "new_var\n",
      " [[1 2 3 4 5]]\n",
      "arr_2d\n",
      " [[10  2  3  4  5]\n",
      " [ 6  7  8  9 10]]\n",
      "new_var\n",
      " [[1 2 3 4 5]]\n"
     ]
    },
    {
     "data": {
      "text/plain": [
       "False"
      ]
     },
     "execution_count": 153,
     "metadata": {},
     "output_type": "execute_result"
    }
   ],
   "source": [
    "# 2D array for demonstration\n",
    "arr_2d = np.array([[1,2,3,4,5],\n",
    "                   [6,7,8,9,10]])\n",
    "\n",
    "# new_var is a copy of a slice of arr_2d\n",
    "indexes = np.array([0]) # array of indexes\n",
    "new_var = arr_2d[indexes] # advanced indexing\n",
    "print('new_var\\n',new_var)\n",
    "\n",
    "# update arr_2d and new_var is not affected\n",
    "arr_2d[0,0] = 10\n",
    "print('arr_2d\\n',arr_2d)\n",
    "print('new_var\\n',new_var)\n",
    "\n",
    "# check if view\n",
    "np.shares_memory(new_arr,arr_2d)"
   ]
  },
  {
   "cell_type": "markdown",
   "id": "f335e153-a684-4f85-8298-e1847821c054",
   "metadata": {},
   "source": [
    "## Functions that can Produce Views\n",
    "\n",
    "```np.reshape()```, ```np.transpose()```, and ```np.ravel()``` may produce views, not copies. While we didn't specifically cover the latter two of these functions, their use is common enough that it warrents mentioning here. Since we learned about ```np.reshape()``` we'll use it to demonstrate below."
   ]
  },
  {
   "cell_type": "code",
   "execution_count": 163,
   "id": "930376cc-4cee-4515-95be-dd1947522735",
   "metadata": {},
   "outputs": [
    {
     "name": "stdout",
     "output_type": "stream",
     "text": [
      "[[ 1  2  3  4  5]\n",
      " [ 6  7  8  9 10]]\n",
      "[[ 1  2]\n",
      " [ 3  4]\n",
      " [ 5  6]\n",
      " [ 7  8]\n",
      " [ 9 10]]\n"
     ]
    },
    {
     "data": {
      "text/plain": [
       "True"
      ]
     },
     "execution_count": 163,
     "metadata": {},
     "output_type": "execute_result"
    }
   ],
   "source": [
    "# 2D array for demonstration\n",
    "arr_2d = np.array([[1,2,3,4,5],\n",
    "                   [6,7,8,9,10]])\n",
    "\n",
    "new_var = np.reshape(arr_2d, (5,2))\n",
    "\n",
    "print(arr_2d)\n",
    "print(new_var)\n",
    "np.shares_memory(new_var,arr_2d)"
   ]
  },
  {
   "cell_type": "markdown",
   "id": "49a24b6e-c9b9-4efd-9005-d2b533a19383",
   "metadata": {},
   "source": [
    "## Things that Don't Produce Views\n",
    "\n",
    "Most other NumPy code will produce copies, not views, so we don't have to worry about unintentional modifications. Let's look at a few examples."
   ]
  },
  {
   "cell_type": "code",
   "execution_count": 171,
   "id": "69f8d945-0c9a-468e-8ee3-d7476c004945",
   "metadata": {},
   "outputs": [
    {
     "name": "stdout",
     "output_type": "stream",
     "text": [
      "False\n",
      "False\n",
      "False\n",
      "False\n",
      "False\n",
      "False\n"
     ]
    }
   ],
   "source": [
    "# elementwise operations\n",
    "\n",
    "new_var = arr_2d + 1 \n",
    "print(np.shares_memory(new_var,arr_2d))\n",
    "\n",
    "new_var = arr_2d * 0.25 \n",
    "print(np.shares_memory(new_var,arr_2d))\n",
    "\n",
    "\n",
    "# various functions\n",
    "\n",
    "new_var = np.sum(arr_2d)\n",
    "print(np.shares_memory(new_var,arr_2d))\n",
    "\n",
    "new_var = arr_2d.sum()\n",
    "print(np.shares_memory(new_var,arr_2d))\n",
    "\n",
    "new_var = np.where(arr_2d<5, 0, arr_2d)\n",
    "print(np.shares_memory(new_var,arr_2d))\n",
    "\n",
    "new_var = arr_2d.flatten()\n",
    "print(np.shares_memory(new_var,arr_2d))"
   ]
  },
  {
   "cell_type": "markdown",
   "id": "fbfbda7a-bb54-4eb9-bc49-5227096141a5",
   "metadata": {},
   "source": [
    "# XIV. At a Glance: Language Covered\n",
    "\n",
    "The NumPy functionality that we covered at a glance...\n",
    "\n",
    "## NumPy Functions\n",
    "\n",
    "```np.all()```, ```np.any()```, ```np.arange()```, ```np.argsort()```, ```np.argwhere()```,  ```np.array()```, ```np.ceil()```, ```np.cos()```, ```np.concatenate()```, ```np.cumsum()```, ```np.diff()```, ```np.empty()```, ```np.expand_dims()```, ```np.flatten()```, ```np.float16()```, ```np.floor()```, ```np.full()```, ```np.genfromtxt()```, ```np.isfinite()```, ```np.isnan()```,\n",
    "```np.linspace()```,  ```np.load()```, ```np.loadtxt()```, ```np.log()```, ```np.logical_and()```, ```np.logical_or()```, ```np.logical_not()```, ```np.max()```, ```np.mean()```, ```np.median()```,  ```np.min()```, ```np.nan_to_num()```, ```np.ones()```, ```np.percentile()```, ```np.ptp()```, ```np.quantile()```, ```np.radians()```, ```np.random_default_rng()```, ```np.reshape()```, ```np.round()```, ```np.save()```, ```np.savetxt()```, ```np.savez()```, ```np.sin()```, ```np.sort()```, ```np.squeeze()```, ```np.stack()```, ```np.std()```, ```np.sum()```, ```np.trunc()```, ```np.unique()```, ```np.var()```, ```np.where()```, ```np.zeros()```,\n"
   ]
  },
  {
   "cell_type": "markdown",
   "id": "56e800bd-ead8-4f2a-823b-ea12985ff3ca",
   "metadata": {
    "jp-MarkdownHeadingCollapsed": true
   },
   "source": [
    "## NumPy data structure (ndarray) methods\n",
    "```.astype()```, ```.sum()```"
   ]
  },
  {
   "cell_type": "markdown",
   "id": "a294e5f3-859a-42e9-82ce-6b1e85e0f2eb",
   "metadata": {
    "jp-MarkdownHeadingCollapsed": true
   },
   "source": [
    "## NumPy data structure (ndarray) attributes\n",
    "\n",
    "```.dtype```, ```.itemsize```, ```.nbytes```, ```.ndim```, ```.shape```, ```.size```  \n"
   ]
  },
  {
   "cell_type": "markdown",
   "id": "08ae19b5-4b02-4948-82e7-05347c3460da",
   "metadata": {},
   "source": [
    "## NumPy random number generator object (rng) methods\n",
    "```.integers()```, ```.random()```, ```.uniform()``` \n"
   ]
  },
  {
   "cell_type": "markdown",
   "id": "58f5c598-06a8-4a53-9c6a-3591d34453bb",
   "metadata": {},
   "source": [
    "## NumPy constants\n",
    "\n",
    "```np.inf```, ```np.nan```, ```np.newaxis```"
   ]
  },
  {
   "cell_type": "markdown",
   "id": "45718b4e-a570-43ac-bbe4-6d90a13c2c03",
   "metadata": {},
   "source": [
    "## Functions from other packages\n",
    "```glob.glob()```, ```matplotlib.pyplot.imshow()```, ```matplotlib.pyplot.text()```, ```pandas.DataFrame()```, ```pandas.read_csv()```, ```pandas.dataframe.to_csv()```, ```pandas.dataframe.to_numpy()``` "
   ]
  },
  {
   "cell_type": "markdown",
   "id": "009ad9d1-3a62-47e2-ad70-3308f1050dc4",
   "metadata": {},
   "source": [
    "<div class=\"alert alert-success\">\n",
    "\n",
    "# XV. Learning More About NumPy\n",
    "\n",
    "For more about NumPy, start on the [NumPy website](https://numpy.org/) where you can find:\n",
    "\n",
    "- the getting started doc, user guide, and API reference documentation https://numpy.org/doc/stable/\n",
    "- beginner and advanced tutorials, book suggestions, and videos links https://numpy.org/learn/\n",
    "\n",
    "</div>"
   ]
  }
 ],
 "metadata": {
  "kernelspec": {
   "display_name": "canvas_beginner",
   "language": "python",
   "name": "canvas_beginner"
  },
  "language_info": {
   "codemirror_mode": {
    "name": "ipython",
    "version": 3
   },
   "file_extension": ".py",
   "mimetype": "text/x-python",
   "name": "python",
   "nbconvert_exporter": "python",
   "pygments_lexer": "ipython3",
   "version": "3.13.0"
  }
 },
 "nbformat": 4,
 "nbformat_minor": 5
}
