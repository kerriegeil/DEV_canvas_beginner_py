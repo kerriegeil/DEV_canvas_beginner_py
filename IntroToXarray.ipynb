{
 "cells": [
  {
   "cell_type": "markdown",
   "id": "1768413a-c9cc-4d37-85c9-cfe4eb0704d7",
   "metadata": {},
   "source": [
    "# Introduction to Xarray for Working with Labeled Numerical Data Arrays"
   ]
  },
  {
   "cell_type": "markdown",
   "id": "db644034-050c-4ae3-b249-80d0b26e714d",
   "metadata": {
    "editable": true,
    "slideshow": {
     "slide_type": ""
    },
    "tags": []
   },
   "source": [
    "<div class=\"alert alert-success\">\n",
    "    \n",
    "## This notebook covers\n",
    "- NumPy multidimensional array data structure\n",
    "- NumPy data types\n",
    "- Array creation\n",
    "- Basic and advanced indexing\n",
    "- Elementwise array calculations\n",
    "- Broadcasting\n",
    "- Mathmatical and logic functions\n",
    "- Sorting, searching, and counting functions\n",
    "- Views and copies\n",
    "- Array manipulation\n",
    "- Reading and writing array data\n",
    "</div>"
   ]
  },
  {
   "cell_type": "markdown",
   "id": "cec7f935-a8ca-4192-836f-ba569d498b98",
   "metadata": {
    "editable": true,
    "slideshow": {
     "slide_type": ""
    },
    "tags": []
   },
   "source": [
    "<div class=\"alert alert-warning\">\n",
    "\n",
    "## Reminders\n",
    "\n",
    "Remember, you can use Jupyter's built-in table of contents (hamburger on the far left) to jump from heading to heading.\n",
    "\n",
    "---\n",
    "\n",
    "This notebook will run in the MSUpy conda environment, which you created in a previous lesson. To load the MSUpy environment in this notebook go to the Kernel tab, select Change Kernel, then select the MSUpy kernel in the pop up window.\n",
    "\n",
    "---\n",
    "\n",
    "To turn on line numbers for code cells go to View menu and click Show Line Numbers.\n",
    "\n",
    "</div>"
   ]
  },
  {
   "cell_type": "markdown",
   "id": "a7a10e75-ab62-4798-b547-2b80b1e896be",
   "metadata": {},
   "source": [
    "# I. Importing Necessary Packages"
   ]
  },
  {
   "cell_type": "code",
   "execution_count": null,
   "id": "2082d529-6fc3-4edf-9ade-0f6d3e2f8a26",
   "metadata": {},
   "outputs": [],
   "source": [
    "import xarray as xr\n",
    "import numpy as np\n",
    "import pandas as pd\n",
    "import matplotlib.pyplot as plt\n",
    "import glob"
   ]
  },
  {
   "cell_type": "markdown",
   "id": "6343d55f-4c6e-4ae3-a9dd-10264e3aa3fd",
   "metadata": {
    "editable": true,
    "slideshow": {
     "slide_type": ""
    },
    "tags": []
   },
   "source": [
    "# II. Introduction to the Xarray Data Structure\n",
    "\n",
    "Xarray builds upon many other Python packages, including Numpy, Pandas, Scipy, netCDF4, Matplotlib and more. The Xarray package is most convenient when working with multi-dimensional data stored in netcdf data files. Xarray can also handle zarr, tiff, csv, hdf, and grib files but may require additional dependencies to be installed. \n",
    "\n",
    "From the [Xarray documentation](https://docs.xarray.dev/en/stable): \"Xarray introduces labels in the form of dimensions, coordinates, and attributes on top of raw Numpy-like multidimensional arrays, which allows for a more intuitive, more concise, and less error-prone developer experience\".\n",
    "\n",
    "We'll cover what all that means shortly! Another gigantic benefit of Xarray is that it integrates well with the Dask package for parallel and distributed computing, which enables fast computation on large data. This aspect of Xarray is a bit too advanced for this course, but it's worth mentioning here, regardless. \n",
    "\n",
    "Xarray is under active community development and pushes new updates approximately monthly. This means that developers are actively working on improvements and expanded capabilities and that there will probably be useful updates more frequently than you may be used to.\n",
    "\n",
    "## Data Structures - DataArray and Dataset\n",
    "\n",
    "Xarray's core data structures are called the *DataArray* and the *Dataset*. A DataArray is an N-dimensional array of a single data variable with *labels* (metadata) that describe the array *dimensions*, *coordinates*, and *attributes* of the data. A Dataset contains one or more DataArrays which share one or more dimensions and coordinates. We will cover what all this Xarray terminology means below, but you can also find more detail in the [Xarray User Guide Terminology page](https://docs.xarray.dev/en/stable/user-guide/terminology.html).\n",
    "\n",
    "Let's look at an Xarray Dataset object and walk through all its components. We'll load data from the file ```data/nclimgrid/nclimgrid_tmax_199401-202312.nc```. This netcdf file contains the monthly averages of daily maximum surface air temperature (tmax) for 30 years on a spatial grid. The original source of this data is [NOAA Monthly U.S. Climate Gridded Dataset (NClimGrid)](https://www.ncei.noaa.gov/access/metadata/landing-page/bin/iso?id=gov.noaa.ncdc:C00332) but the file we are working with has been subset in time and clipped to the state of Mississippi.\n",
    "\n",
    "We can use the function ```xr.open_dataset()``` to easily load data from the netcdf file into an Xarray Dataset object. As you can see below, when we print the Dataset object ```ds``` to the screen, we get a ton of information. This information is what we meant above by the terms \"metadata\" or \"labels\"."
   ]
  },
  {
   "cell_type": "code",
   "execution_count": null,
   "id": "8ea09dd5-1089-46bc-90a2-93d574b9d008",
   "metadata": {},
   "outputs": [],
   "source": [
    "# read contents of netcdf file into a Dataset object\n",
    "ds = xr.open_dataset('data/nclimgrid/nclimgrid_tmax_199401-202312.nc')\n",
    "ds"
   ]
  },
  {
   "cell_type": "markdown",
   "id": "30629322-8539-4f62-b52d-38022c8264ff",
   "metadata": {},
   "source": [
    "A Dataset object will contain one or more DataArrays, which are listed under the \"Data variables\" section of the info printed to the screen. Our Dataset object ```ds``` contains one DataArray called ```tmax```. \n",
    "\n",
    "Click on the paper icon to the right of the DataArray ```tmax``` and you will see even more metadata labels. These are called *variable attributes*. Variable attributes are contained in a Python dictionary where the dictionary keys are the attribute names (\"units\", \"standard_name\", etc.) and the dictionary values are the attribute values (e.g., \"degree_Celsius\",\"air_temperature\"). If we were writing our own data to a netcdf file, we could include any variable attributes we want to help describe the data. But generally, when you are working with climate data, the convention is to use the Climate and Forecast (CF) Metadata Conventions."
   ]
  },
  {
   "cell_type": "markdown",
   "id": "8ba33609-1434-4497-a0ab-dc03e881f7f1",
   "metadata": {},
   "source": [
    "<div class=\"alert alert-danger\">\n",
    "\n",
    "**Sidebar: [Climate and Forecast (CF) Metadata Conventions](https://cfconventions.org)** \n",
    "\n",
    "The CF Conventions are essentially a set of rules for how climate data should be described and written to data files in order to promote standardized data processing, eliminate ambiguities, and facilitate data sharing. The data file we are working with uses the CF Conventions and that is why the ```tmax``` variable attributes have those specific names (e.g., \"standard_name\")- they come from the list of attributes in the [CF Metadata Conventions Appendix A: Attributes](https://cfconventions.org/cf-conventions/cf-conventions.html#attribute-appendix).  \n",
    "</div>"
   ]
  },
  {
   "cell_type": "markdown",
   "id": "e5f9a58f-26dc-49f0-ab8a-6b5cd9de064c",
   "metadata": {},
   "source": [
    "Now, the data file itself may also have attributes called *file attributes* or *global attributes* that are separate from variable attributes. We can find these attributes in the print out above under the \"Attributes\" section. This particular file doesn't have any file attributes as indicated by the zero next to the Attributes section. You can imagine, though, that if you were to write your own netcdf file of data, you may want to include file attributes like \"institution\" or \"Conventions\" (these examples come from Appendix A of the CF Conventions linked above) to indicate inside your data file what institution created that file and what version of the CF Conventions was used.\n",
    "\n",
    "Other information we can see about the ```tmax``` DataArray includes the data type (float32) and the dimension names and order (time,lat,lon). Unlike NumPy arrays, where axis 0, axis 1, axis 2, etc can represent anything, there is no ambiguity about what each dimension represents with Xarray data structures because they are labeled. If we look toward the top of the print out we can see each dimension length. The ```tmax``` DataArray, which is stored inside the ```ds``` Dataset, contains temperature data for 360 times at 116 latitudes and 85 longitudes.   \n",
    "\n",
    "Each of our three dimensions is associated with a *coordinate variable*. Coordinate variables (or simply \"coordinates\") enable us to include very useful metadata about the dimensions of our DataArrays. Click the data stack icon next to any of the coordinates in the print out above and you will see the time, latitude, and longitude arrays of values that are associated with each dimension of the DataArray ```tmax```. For example, we can see that our ```tmax``` data begins in January 1994 and ends in December 2023. Click the paper icon next to the time coordinate and you will see that each coordinate variable also has its own attributes! This is because coordinates are DataArray structures. Coordinate variables hold the dimension values and dimension attributes. Coordinates are super important as they allow us to select data using labels instead of index positions as we will see shortly.   \n",
    "\n",
    "Now let's pull the ```tmax``` DataArray out of the Dataset into a new variable in our notebook called ```tx```. We can access the variables in a dataset using a dot and the variable name."
   ]
  },
  {
   "cell_type": "code",
   "execution_count": null,
   "id": "0b939ae4-7103-4c5b-8bf3-f29e34685864",
   "metadata": {},
   "outputs": [],
   "source": [
    "tx = ds.tmax\n",
    "tx"
   ]
  },
  {
   "cell_type": "markdown",
   "id": "3ae73076-5c84-44e7-ac84-5a5bbb73a81d",
   "metadata": {},
   "source": [
    "The print out tells us that our new variable ```tx``` is an Xarray DataArray object. Notice that all of the variable attributes and coordinates that we saw associated with ```tmax``` inside the Dataset are still attached. We also get a little preview of some of the data values (which isn't too useful in this case since the preview is all nan).\n",
    "\n",
    "An alternative syntax for the above looks a lot like how we accessed a single Series from a Pandas DataFrame."
   ]
  },
  {
   "cell_type": "code",
   "execution_count": null,
   "id": "243bd826-d7e6-49a3-b506-2ae2254f6198",
   "metadata": {},
   "outputs": [],
   "source": [
    "tx = ds['tmax']\n",
    "tx"
   ]
  },
  {
   "cell_type": "markdown",
   "id": "21336025-e11d-427b-9d29-d7f5e94c22d0",
   "metadata": {},
   "source": [
    "You can get a ```something``` of the data variables within a Dataset object using the Dataset property ```.data_vars```"
   ]
  },
  {
   "cell_type": "code",
   "execution_count": null,
   "id": "c4042dfe-d289-4ccc-966b-905063146d7a",
   "metadata": {},
   "outputs": [],
   "source": [
    "ds.data_vars"
   ]
  },
  {
   "cell_type": "markdown",
   "id": "5011d159-61bf-4278-9246-f8d7c36fe83e",
   "metadata": {},
   "source": [
    "```may need to show the list() of the above depending on what object that returns```\n",
    "\n",
    "This may be helpful if you need to automate the processing (using a loop) of multiple data variables within a Dataset. You could use the code above to get a list of variable names and then use those variable names one by one to access different data variables inside the Dataset."
   ]
  },
  {
   "cell_type": "markdown",
   "id": "bca5446d-5ac8-4844-a5cd-ccd92f383e1e",
   "metadata": {},
   "source": [
    "## Accessing the Components of DataArray Objects\n",
    "\n",
    "As we saw above, the main components in a DataArray structure are dimensions, coordinates, attributes, and the array of data values. We can access these components using various DataArray properties.\n",
    "- ```.name``` returns the string name of the DataArray as it was named in the netcdf file\n",
    "- ```.dims``` returns a tuple of dimension names\n",
    "- ```.sizes``` returns a dictionary of dimension names and lengths\n",
    "- ```.coords``` returns a dictionary-like object of coordinate information\n",
    "- ```.attrs``` returns a dictionary of attributes\n",
    "- ```.data``` returns the underlying NumPy array of data values "
   ]
  },
  {
   "cell_type": "code",
   "execution_count": null,
   "id": "574f588a-8730-4eb6-b904-506c620b6a65",
   "metadata": {},
   "outputs": [],
   "source": [
    "# get DataArray name string\n",
    "tx.name"
   ]
  },
  {
   "cell_type": "code",
   "execution_count": null,
   "id": "9f791ac1-4df7-4e87-b283-a2ff5904b598",
   "metadata": {},
   "outputs": [],
   "source": [
    "# get tuple of dimension names\n",
    "tx.dims"
   ]
  },
  {
   "cell_type": "code",
   "execution_count": null,
   "id": "e093ce7f-5d05-4736-93b9-0354d49953ae",
   "metadata": {},
   "outputs": [],
   "source": [
    "# get dictionary of dimension info\n",
    "tx.sizes"
   ]
  },
  {
   "cell_type": "code",
   "execution_count": null,
   "id": "41b76e47-74a9-403d-b820-13adad6a6804",
   "metadata": {},
   "outputs": [],
   "source": [
    "# get dictionary of coordinate info\n",
    "tx.coords"
   ]
  },
  {
   "cell_type": "code",
   "execution_count": null,
   "id": "0728e579-4dc7-41ab-ac9a-404bb22fcfc7",
   "metadata": {},
   "outputs": [],
   "source": [
    "# get all variable attributes\n",
    "tx.attrs"
   ]
  },
  {
   "cell_type": "markdown",
   "id": "dacb8bde-1fbb-472c-bd0f-8a775af050d7",
   "metadata": {},
   "source": [
    "To access only the data values in a DataArray without all the additional metadata attached we can use the ```.data``` property. Run the code cell below to see that the underlying structure holding the data values is a NumPy ndarray! We can think of the ```.data``` property as a conversion from an Xarray data structure to a NumPy data structure."
   ]
  },
  {
   "cell_type": "code",
   "execution_count": null,
   "id": "b96d36bf-aa81-44ae-895f-d76aa77b535e",
   "metadata": {},
   "outputs": [],
   "source": [
    "# get the underlying NumPy array of data values\n",
    "print(type(tx.data))\n",
    "tx.data"
   ]
  },
  {
   "cell_type": "markdown",
   "id": "ae566ce4-22d0-4cc9-a803-8e77bee24bb6",
   "metadata": {},
   "source": [
    "Because coordinate information is attached to each data variable in a DataArray, **we can use coordinate names and attribute names to access specific coordinates and attributes directly from the data variable.** \n",
    "\n",
    "For example, we can access the DataArray object for a specific coordinate by using a dot and the coordinate name on our data variable."
   ]
  },
  {
   "cell_type": "code",
   "execution_count": null,
   "id": "1a87e8ca-4a02-4121-aad3-7d110022f541",
   "metadata": {},
   "outputs": [],
   "source": [
    "# get a specific coordinate DataArray object\n",
    "tx.lat"
   ]
  },
  {
   "cell_type": "markdown",
   "id": "25aa386b-94bc-4d67-9513-5b075c5b3ecb",
   "metadata": {},
   "source": [
    "To access the attributes of a coordinate we can use the ```.attrs``` property on a coordinate DataArray object."
   ]
  },
  {
   "cell_type": "code",
   "execution_count": null,
   "id": "0b5bfc72-fe8e-40f4-83c4-bd78a4ea3273",
   "metadata": {},
   "outputs": [],
   "source": [
    "# get coordinate attributes\n",
    "tx.lat.attrs"
   ]
  },
  {
   "cell_type": "markdown",
   "id": "373afee1-344a-4c5f-9232-3e354a97cf2f",
   "metadata": {},
   "source": [
    "Dictionary syntax will get us the attribute value paired to a particular attribute key."
   ]
  },
  {
   "cell_type": "code",
   "execution_count": null,
   "id": "ce34ab31-f006-494a-a8d2-d4fbaad5cd2d",
   "metadata": {},
   "outputs": [],
   "source": [
    "tx.lat.attrs['standard_name']"
   ]
  },
  {
   "cell_type": "markdown",
   "id": "6fb2f873-5280-42e1-819c-8e2625733fe8",
   "metadata": {},
   "source": [
    "Of course this also works for accessing any of the variable attributes attached to ```tmax```."
   ]
  },
  {
   "cell_type": "code",
   "execution_count": null,
   "id": "6cad2b54-b24d-442f-b162-67489c04525d",
   "metadata": {},
   "outputs": [],
   "source": [
    "# get a specific variable attribute\n",
    "tx.attrs['units']"
   ]
  },
  {
   "cell_type": "markdown",
   "id": "675801a5-18a3-4ed0-8488-1f9dd261ae4b",
   "metadata": {},
   "source": [
    "Quick review of the syntax we've used and what type of object is returned:\n",
    "- ```ds``` is a Dataset object\n",
    "- ```tx = ds.tmax``` is a DataArray object \n",
    "- ```tx.data``` is a NumPy ndarray object\n",
    "- ```tx.lat``` is a DataArray object\n",
    "- ```tx.lat.attrs``` is a dictionary\n",
    "- ```tx.lat.attrs['standard_name']``` is a string\n",
    "\n",
    "Before we move on, you may have noticed that there is an \"Indexes\" section in the print out of each DataArray and Dataset we've looked at. Indexes are associated with coordinate variables. Coordinate variables are special in that their data values are held in two underlying data structures: a NumPy array and a Pandas Index. This is so the Xarray package can build functionality on top of both the NumPy and Pandas packages. The coordinate variable indexes in a DataArray enable fast label-based indexing as we'll see next. These indexes are working behind the scenes and we don't have to worry at all about accessing these indexes directly.\n",
    "\n",
    "You are probably realizing by now that the Xarray data structures are very complex as compared to the other data structures we've learned about thus far in the course. But this complexity will actually make data analysis a lot simpler and less error prone."
   ]
  },
  {
   "cell_type": "markdown",
   "id": "05281c90-451b-49fe-9b7f-f3ee0fddcae2",
   "metadata": {},
   "source": [
    "<div class=\"alert alert-info\"> \n",
    "\n",
    "## Exercise 1: Getting Familiar with the Components of a DataArray\n",
    "\n",
    "Use the variable ```tx``` that we've already created to complete the exercise.\n",
    "\n",
    "A) What is the terminology for  ```insert pic with variable attributes circled```?\n",
    "</div>"
   ]
  },
  {
   "cell_type": "markdown",
   "id": "4d562f1d-9e47-4b5a-a4fb-8defbaa1823f",
   "metadata": {},
   "source": [
    "Type your answer here: "
   ]
  },
  {
   "cell_type": "markdown",
   "id": "3262060a-25dd-4b70-a9e7-32b8b1b8986a",
   "metadata": {},
   "source": [
    "<div class=\"alert alert-info\"> \n",
    "\n",
    "B) What type of object will ```tx.time``` return?\n",
    "</div>"
   ]
  },
  {
   "cell_type": "markdown",
   "id": "5de8a7a2-fe96-4555-b036-56c93685f01b",
   "metadata": {},
   "source": [
    "Type your answer here:"
   ]
  },
  {
   "cell_type": "markdown",
   "id": "9aeba374-bd37-4d2a-992d-613bf75ebed6",
   "metadata": {},
   "source": [
    "<div class=\"alert alert-info\"> \n",
    "\n",
    "C) What type of object will ```tx.time.data``` return?\n",
    "</div>"
   ]
  },
  {
   "cell_type": "markdown",
   "id": "2dfec71b-a0c9-4780-9167-2b77720ca4a0",
   "metadata": {},
   "source": [
    "Type your answer here:"
   ]
  },
  {
   "cell_type": "markdown",
   "id": "90a83a18-ad61-4c7c-8f0d-f37e61f19812",
   "metadata": {},
   "source": [
    "<div class=\"alert alert-info\"> \n",
    "\n",
    "D) What type of object will ```tx.time.attrs``` return?\n",
    "</div>"
   ]
  },
  {
   "cell_type": "markdown",
   "id": "09b45c18-f4da-47f0-9ef2-0baf2d77bbae",
   "metadata": {},
   "source": [
    "Type your answer here:"
   ]
  },
  {
   "cell_type": "markdown",
   "id": "e28925d1-326b-4601-953f-3bb5a306652f",
   "metadata": {},
   "source": [
    "<div class=\"alert alert-info\"> \n",
    "\n",
    "E) Save the ```tx``` longitude values to a new DataArray variable called ```lon```.\n",
    "</div>"
   ]
  },
  {
   "cell_type": "code",
   "execution_count": null,
   "id": "3259ec7f-7b26-424e-8b7c-96b6ec7252a5",
   "metadata": {},
   "outputs": [],
   "source": [
    "# add your code here\n"
   ]
  },
  {
   "cell_type": "markdown",
   "id": "802c6715-ee40-4368-8b78-07af3322f469",
   "metadata": {},
   "source": [
    "<div class=\"alert alert-info\"> \n",
    "\n",
    "F) Print the value of the ```tx``` variable attribute ```long_name```.\n",
    "</div>"
   ]
  },
  {
   "cell_type": "code",
   "execution_count": null,
   "id": "30042521-74fd-440d-955a-4b56ff112114",
   "metadata": {},
   "outputs": [],
   "source": [
    "# add your code here\n"
   ]
  },
  {
   "cell_type": "markdown",
   "id": "bf2430fe-67d7-4e66-b810-a782695da170",
   "metadata": {},
   "source": [
    "<div class=\"alert alert-info\"> \n",
    "\n",
    "G) Print the value of the ```tx``` time coordinate attribute ```calendar```.\n",
    "</div>"
   ]
  },
  {
   "cell_type": "code",
   "execution_count": null,
   "id": "ef2d452c-d65e-424a-b3ef-b541912feb03",
   "metadata": {},
   "outputs": [],
   "source": [
    "# add your code here\n"
   ]
  },
  {
   "cell_type": "markdown",
   "id": "c7ff9fa0-8ddb-4b4e-a35b-331b90942406",
   "metadata": {},
   "source": [
    "<div class=\"alert alert-info\"> \n",
    "\n",
    "H) Convert the values of the ```tx``` time coordinate to a NumPy ndarray and save them to a new variable called ```time```.\n",
    "</div>"
   ]
  },
  {
   "cell_type": "code",
   "execution_count": null,
   "id": "805ef417-9fd5-4110-9339-65e1d8eec81f",
   "metadata": {},
   "outputs": [],
   "source": [
    "# add your code here\n"
   ]
  },
  {
   "cell_type": "markdown",
   "id": "a8dbe496-cac4-42b0-b006-ec1f49f0b9b3",
   "metadata": {},
   "source": [
    "## Properties of Xarray DataArrays that Come from NumPy\n",
    "\n",
    "The Xarray package incorporates much of the same functionality for its DataArray structure that NumPy has for its ndarray data structure. Here are some of the array properties we covered in the NumPy lesson that are also available with Xarray. These Xarray properties provide information only about an underlying NumPy array of data inside an Xarray DataArray structure. Documentation can be found in the [Xarray API Reference](https://docs.xarray.dev/en/latest/api.html#ndarray-attributes).\n",
    "\n",
    "- ```xr.DataArray.shape```, tuple of dimension lengths\n",
    "- ```xr.DataArray.ndim```, number of dimensions\n",
    "- ```xr.DataArray.size```, total number of elements\n",
    "- ```xr.DataArray.dtype```, data type\n",
    "- ```xr.DataArray.nbytes```, total bytes consumed by the NumPy array"
   ]
  },
  {
   "cell_type": "code",
   "execution_count": null,
   "id": "8ed97289-60aa-4325-8c0d-a3c45d333c65",
   "metadata": {},
   "outputs": [],
   "source": [
    "# tmax is a DataArray\n",
    "# get information about the underlying NumPy Array of data\n",
    "\n",
    "print(tmax.shape)   # tuple of dimension lengths\n",
    "print(tmax.ndim)    # number of dimensions\n",
    "print(tmax.size)    # total number of elements (360*116*85)\n",
    "print(tmax.dtype)   # data type\n",
    "print(tmax.nbytes)  # total bytes consumed by the NumPy array"
   ]
  },
  {
   "cell_type": "code",
   "execution_count": null,
   "id": "da89f008-8800-4318-b703-2a6897e3e908",
   "metadata": {},
   "outputs": [],
   "source": [
    "# the coordinate tmax.time is a DataArray\n",
    "# get information about the underlying NumPy Array of data\n",
    "\n",
    "print(tmax.time.shape)   # tuple of dimension lengths\n",
    "print(tmax.time.ndim)    # number of dimensions\n",
    "print(tmax.time.size)    # total number of elements \n",
    "print(tmax.time.dtype)   # data type\n",
    "print(tmax.time.nbytes)  # total bytes consumed by the NumPy array"
   ]
  },
  {
   "cell_type": "markdown",
   "id": "65a8a0f3-87b1-4da8-a7e5-b1fc610d12e7",
   "metadata": {},
   "source": [
    "## Estimating Memory Usage\n",
    "\n",
    "Notice how the properties above provide information about a single underyling NumPy array within an Xarray DataArray structure. What if we want to know how much memory is consumed by the entire ```tx``` DataArray structure? Because there are so many components of a DataArray structure, we would need the ```.nbytes``` of the underlying NumPy array of temperature data, the ```.nbytes``` of underlying NumPy arrays for all the coordinates, and the ```pd.index.memory_usage()``` of the underlying Pandas Indexes of all the coordinates. We would also need to know how much memory is consumed by all of the attributes and other labels. **There is no convenient function for estimating the memory consumption of an entire DataArray object.** The best we can do is sum the ```.nbytes``` of all the underlying NumPy arrays. But this shouldn't be too much of an inconvenience since generally, attributes and other labels take up a negligible amount of memory anyway. "
   ]
  },
  {
   "cell_type": "code",
   "execution_count": null,
   "id": "7343dd6c-0486-4d31-a220-0aaff6ddfc05",
   "metadata": {},
   "outputs": [],
   "source": [
    "print('tx array',tx.nbytes/1E6,'MB')\n",
    "print('time array'tx.time.nbytes/1E6,'MB')\n",
    "print('lat array'tx.lat.nbytes/1E6,'MB')\n",
    "print('lon array'tx.lon.nbytes/1E6,'MB')\n",
    "\n",
    "# add Pandas Index estimates here\n",
    "\n",
    "array_MBs = (tx.nbytes + tx.time.nbytes + tx.lat.nbytes + tx.lon.nbytes)/1E6\n",
    "print('entire tx DataArray structure is approximately',array_MBs,'MB')"
   ]
  },
  {
   "cell_type": "markdown",
   "id": "fabc796a-a599-460a-b5eb-a67b5e5d6efd",
   "metadata": {},
   "source": [
    "## Data Types and Conversion\n",
    "\n",
    "Netcdf files can contain binary, numeric, and string data, so Xarray is built to handle all these data types as well. When reading data from a netcdf file with Xarray, a lot happens behind the scenes as the file contents are divvied up into the different components of an Xarray data structure. Climate data variables and their coordinates from a netcdf file are usually interpreted as a NumPy numeric or datetime data type when they are read from a file into NumPy arrays (within the DataArray structure). Labels and attributes from a file are read into strings, tuples of strings, and dictionaries of strings as we've already seen.\n",
    "\n",
    "Xarray has implemented the ```.astype()``` function from NumPy for Xarray DataArrays so we can easily convert data types just as we did with NumPy. The same potential pitfalls about unsafe data type conversions apply with data in Xarray structures just as they did with NumPy. We won't cover that again here, but look back to the NumPy lesson if you need a refresher.\n",
    "\n",
    "Let's convert ```tx``` from data type float32 to type float16."
   ]
  },
  {
   "cell_type": "code",
   "execution_count": null,
   "id": "206c0df2-a051-4170-98e3-25d31b60b185",
   "metadata": {},
   "outputs": [],
   "source": [
    "tx = tx.astype(np.float16)\n",
    "tx"
   ]
  },
  {
   "cell_type": "markdown",
   "id": "6b299797-e072-4cf3-ade1-141a28d84543",
   "metadata": {},
   "source": [
    "Notice how the data type of the ```tx``` array changed but the data types of its coordinates remained the same. The temperature data and the coordinates that are indexed to that data are all stored in separate NumPy arrays within the Xarray DataArray structure. This is why changing the data type of one underlying NumPy array will not affect the type of any other underlying NumPy array within a DataArray object. We could also change the data type of a coordinate if we wanted to."
   ]
  },
  {
   "cell_type": "code",
   "execution_count": null,
   "id": "0bc655be-8255-48b2-a6ed-7c93238a58e2",
   "metadata": {},
   "outputs": [],
   "source": [
    "tx.lat = tx.lat.astype(np.float16)\n",
    "tx"
   ]
  },
  {
   "cell_type": "markdown",
   "id": "0944a09c-796e-427c-8609-68ecf43891c8",
   "metadata": {},
   "source": [
    "# III. Indexing and Slicing\n",
    "\n",
    "Now we're getting to the good stuff! Let's look at how the dimension labels and coordinates of a DataArray allow us to use label-based indexing and slicing.\n",
    "\n",
    "Here's a reminder of what our DataArray ```tx``` contains."
   ]
  },
  {
   "cell_type": "code",
   "execution_count": null,
   "id": "86058c79-306a-4558-a978-4a9d8cea6e42",
   "metadata": {},
   "outputs": [],
   "source": [
    "tx"
   ]
  },
  {
   "cell_type": "markdown",
   "id": "2ca98a8f-243c-4051-9cb6-a9924e4b77fb",
   "metadata": {},
   "source": [
    "## Label-based Selection with .sel()\n",
    "\n",
    "The DataArray function [```.sel()```](https://docs.xarray.dev/en/latest/generated/xarray.DataArray.sel.html#xarray.DataArray.sel) allows us to use dimension names and coordinate values to select parts of an array.\n",
    "\n",
    "### Indexing\n",
    "\n",
    "Let's select temperature data at a single time."
   ]
  },
  {
   "cell_type": "code",
   "execution_count": null,
   "id": "e7eb0b47-8e86-4623-a381-b3df0a84cdcc",
   "metadata": {},
   "outputs": [],
   "source": [
    "tx.sel(time='2000-01-01')"
   ]
  },
  {
   "cell_type": "markdown",
   "id": "e79f064b-beb4-4642-93b2-99d3d8c9df6e",
   "metadata": {},
   "source": [
    "Notice what was returned. We recieved a 2-dimensional array: all the latitudes and longitudes of data for January 2000. If we think of our data as spatial maps of temperature arranged in a stack, where each map in the stack represents a different point in time, then we just selected a single map from the stack. This is similar to what we did in the NumPy lesson, except this time we have labels that make this selection much more clear. We don't have to know which axis (0, 1, or 2) represents time because now there is a label 'time'. And we don't have to figure out what index along the time dimension represents January 2020 because there is a label for that too. Notice that when we select a single time, we do not get a singleton dimension (time dimension dissapears), but we do retain the coordinate label in case we need it later- very convenient. \n",
    "\n",
    "We can provide more dimension labels and coordinate values to ```.sel()``` if we want to further subselect data from the ```tx``` array."
   ]
  },
  {
   "cell_type": "code",
   "execution_count": null,
   "id": "d436a2c6-4d4c-4304-af85-d11a795c5923",
   "metadata": {},
   "outputs": [],
   "source": [
    "# select all longitudes at a single latitude and single time\n",
    "tx.sel(time='2000-01-01',lat='xxxx')"
   ]
  },
  {
   "cell_type": "code",
   "execution_count": null,
   "id": "e9313b32-43ee-4827-ac56-c5917900b7dd",
   "metadata": {},
   "outputs": [],
   "source": [
    "# select 1 data value given then time, lat, and lon\n",
    "tx.sel(time='2000-01-01',lat='xxxx',lon='xxx')"
   ]
  },
  {
   "cell_type": "markdown",
   "id": "8a196dc6-c067-4aaa-b790-00ef3888d3c5",
   "metadata": {},
   "source": [
    "We can select with a list of labels as well. This is helpful, for example, if we want to select multiple times that aren't sequential."
   ]
  },
  {
   "cell_type": "code",
   "execution_count": null,
   "id": "07932534-2f45-4993-8e04-aa1bc8f30b71",
   "metadata": {},
   "outputs": [],
   "source": [
    "# select multiple times that are not consecutive\n",
    "tx.sel(time=['2000-01','2000-04','2000-07','2000-10'])"
   ]
  },
  {
   "cell_type": "code",
   "execution_count": null,
   "id": "1958b09f-4d40-4f93-ba28-696c94f7d853",
   "metadata": {},
   "outputs": [],
   "source": [
    "# select multiple times that are not consecutive in whatever order\n",
    "tx.sel(time=['2000-01','2000-10',,'2000-07','2000-04'])"
   ]
  },
  {
   "cell_type": "markdown",
   "id": "34893903-027d-4fd4-b28f-ee79c8ce2f7c",
   "metadata": {},
   "source": [
    "Want to select all data for a single year? Easy! (Because our times are datetimes objects) "
   ]
  },
  {
   "cell_type": "code",
   "execution_count": null,
   "id": "e3cc286a-654e-4c33-ba6f-48bc5db6b6a6",
   "metadata": {},
   "outputs": [],
   "source": [
    "# select one full year\n",
    "tx.sel(time='2000')"
   ]
  },
  {
   "cell_type": "markdown",
   "id": "d4f2931f-aa43-4579-b8ae-8d0716a48385",
   "metadata": {},
   "source": [
    "### Slicing\n",
    "\n",
    "We can also slice data using labels. Notice that just like we saw with Pandas DataFrames in the Pandas lesson, label-based selection with Xarray is inclusive of the ending label.\n",
    "\n",
    "Let's select all data for 6 months in time."
   ]
  },
  {
   "cell_type": "code",
   "execution_count": null,
   "id": "f75ffe58-9e42-498f-a136-662cdffad6a2",
   "metadata": {},
   "outputs": [],
   "source": [
    "# a slice of 6 months\n",
    "tx.sel(time=slice('2000-02','2000-07'))"
   ]
  },
  {
   "cell_type": "markdown",
   "id": "df44f431-9d57-4120-9b8f-8bf098832fd5",
   "metadata": {},
   "source": [
    "Let's continue slicing... we can slice as many dimensions as we want."
   ]
  },
  {
   "cell_type": "code",
   "execution_count": null,
   "id": "215ad335-dc8e-4514-b3dc-370625f44f43",
   "metadata": {},
   "outputs": [],
   "source": [
    "# a slice of every dimension\n",
    "tx.sel(time=slice('2000-02','2000-07'), lat=slice(), lon=slice())"
   ]
  },
  {
   "cell_type": "markdown",
   "id": "2bf53145-0e8e-4408-a334-15d0a54eb97a",
   "metadata": {},
   "source": [
    "We can also combine label-based indexing and slicing together."
   ]
  },
  {
   "cell_type": "code",
   "execution_count": null,
   "id": "9180b4db-1980-4814-822d-8b8fc99de383",
   "metadata": {},
   "outputs": [],
   "source": [
    "# one time, slice of lats and lons\n",
    "tx.sel(time='2020-01',lat=slice(),lon=slice())"
   ]
  },
  {
   "cell_type": "markdown",
   "id": "c9b4b04f-2ab9-48e4-8a0e-90a6814ad486",
   "metadata": {},
   "source": [
    "If we had very high resolution and didn't want to type out all the decimal places to slice latitude or longitude, we could provide the ```.sel()``` function with the ```method=\"nearest\"``` parameter to slice with inexact matches. "
   ]
  },
  {
   "cell_type": "code",
   "execution_count": null,
   "id": "7d90653a-d4c8-4ff3-a5b9-50c29fce5055",
   "metadata": {},
   "outputs": [],
   "source": [
    "# slice with inexact latitude, longitude values \n",
    "tx.sel(time='2020-01',lat=slice(),lon=slice(), method=\"nearest\")"
   ]
  },
  {
   "cell_type": "markdown",
   "id": "e5f73b21-6d06-4d06-b5a5-9cc42feeedfd",
   "metadata": {},
   "source": [
    "### When Order Does and Does Not Matter with Label-based Selection\n",
    "\n",
    "An important thing to note is that the order of the dimension names inside ```.sel()``` is irrelevant. For example, our ```tx``` array dimensions are ordered (time, lat, lon) but as long as we are using labels we can make selections with the dimension names in any order. This feature, in particular, can help you avoid a lot of coding mistakes."
   ]
  },
  {
   "cell_type": "code",
   "execution_count": null,
   "id": "b332385c-4967-490a-9416-02f2c3af63a4",
   "metadata": {},
   "outputs": [],
   "source": [
    "tx.sel(lon=slice(),lat=slice(),time='2020-01')"
   ]
  },
  {
   "cell_type": "markdown",
   "id": "8c8730fa-56a3-440e-95d8-facdc8036ea4",
   "metadata": {},
   "source": [
    "However, order is important inside of the ```slice()``` function. The slice needs to be ordered from left to right according to the order of the coordinate values. For example, if our latitudes are ordered from xx to xx we could not slice from xx to xx. We would get an error. This applies to slices based on any coordinate."
   ]
  },
  {
   "cell_type": "code",
   "execution_count": null,
   "id": "a47c7d88-a060-47aa-98d8-15cbdb9fdd2b",
   "metadata": {},
   "outputs": [],
   "source": [
    "tx.sel(lat=slice())"
   ]
  },
  {
   "cell_type": "markdown",
   "id": "0084161f-4d27-4d81-9b53-268e96df3b6d",
   "metadata": {},
   "source": [
    "If the latitude coordinate in our data was descending instead of ascending (which you will find is the case with plenty of data), the values you put into ```slice()``` would still go from left to right, meaning the larger latitude would come first, followed by the smaller latitude in ```slice()```. Although, it may be a better idea just to reorder all your coordinates so that they are all ascending to reduce confusion.\n",
    "\n",
    "Let's reorder latitude so we can see how this works. To reorder your data along a coordinate you can use Xarray's ```.reindex()``` function in combination with the Python built-in function ```reversed()```."
   ]
  },
  {
   "cell_type": "code",
   "execution_count": null,
   "id": "172e715e-5494-437b-b884-7969ae4a0689",
   "metadata": {},
   "outputs": [],
   "source": [
    "tx_reordered = tx.reindex(lat=reversed(tx.lat))\n",
    "tx_reordered"
   ]
  },
  {
   "cell_type": "markdown",
   "id": "f67031d5-1f60-426f-942a-cf7a506d2a6c",
   "metadata": {},
   "source": [
    "Now, if we want to make the same selection as we did a few notebook cells up, we'd have to enter the slice values for latitude in the opposite order, following the order of our reordered latitudes."
   ]
  },
  {
   "cell_type": "code",
   "execution_count": null,
   "id": "ff99a337-2a8c-42e5-9546-21e2a0c2442c",
   "metadata": {},
   "outputs": [],
   "source": [
    "tx_reordered.sel(lon=slice(),lat=slice(),time='2020-01')"
   ]
  },
  {
   "cell_type": "markdown",
   "id": "754d181d-c4a1-4948-9ae6-5ac8b87d5633",
   "metadata": {},
   "source": [
    "When we use ```.reindex()``` not only is the coordinate reordered, but the temperature data values are also reordered. This is because the coordinates of out ```tx``` data variable are attached as a Pandas Index where each value of the coordinate references a particular position in the ```tx``` data array. This is a very convenient feature of Xarray. \n",
    "\n",
    "Let's verify that the data was in fact reordered when we reindexed the latitude coordinate. We can check this by plotting tx and tx_reordered for a single time. ```tx``` should be a normal looking map of temperature over Missippi, whereas tx_reordered will be Mississippi upside down."
   ]
  },
  {
   "cell_type": "code",
   "execution_count": null,
   "id": "2e21f637-61f5-461d-b59d-ce7c3566ef68",
   "metadata": {},
   "outputs": [],
   "source": [
    "tx.sel(time='2000-01').plot()"
   ]
  },
  {
   "cell_type": "code",
   "execution_count": null,
   "id": "6a3783a5-d592-46f6-a93b-8f919a74f6dc",
   "metadata": {},
   "outputs": [],
   "source": [
    "tx_reordered.sel(time='2000-01').plot()"
   ]
  },
  {
   "cell_type": "markdown",
   "id": "70136bd2-6864-4e00-b30d-8a07a1bb8e8e",
   "metadata": {},
   "source": [
    "By the way, these are the simplest plots possible with Xarray which uses the matplotlib package for the base of its plotting functionality. We'll get more into plotting Xarray data structures (including adding a projection to the figures and lots of other figure details) in the lesson on data visualization.\n",
    "\n",
    "## Integer-based Selection\n",
    "\n",
    "There are multiple other ways you can select data from Xarray data structures. \n",
    "\n",
    "### .isel()\n",
    "\n",
    "The first method we'll cover is ```.isel()```. This function allows us to use dimension labels with integer positions (as opposed to coordinate values). For example, if we want to select the first time of a DataArray without having to know the label for that particular time we could do:"
   ]
  },
  {
   "cell_type": "code",
   "execution_count": null,
   "id": "c79bdfc6-ed63-4439-bd2c-c5d891f1c763",
   "metadata": {},
   "outputs": [],
   "source": [
    "# select with dim name and integer position\n",
    "tx.isel(time=0)"
   ]
  },
  {
   "cell_type": "markdown",
   "id": "aa7a7965-c5c6-42c5-b162-e54dd14edf42",
   "metadata": {},
   "source": [
    "Slices with ```.isel()``` work the same way. Use the dimension name and integer positions:"
   ]
  },
  {
   "cell_type": "code",
   "execution_count": null,
   "id": "b81be69d-ef95-4e37-a118-3e109f20eb43",
   "metadata": {},
   "outputs": [],
   "source": [
    "# slice of every other month of the first year\n",
    "tx.isel(time=slice(0,12,2))"
   ]
  },
  {
   "cell_type": "markdown",
   "id": "43f8e73c-2a48-4b9c-b972-e5ef6f849684",
   "metadata": {},
   "source": [
    "### Basic Indexing like NumPy\n",
    "\n",
    "The other way to select with integer positions is to use no labels at all. This is the same as NumPy basic indexing. For example, to select the first time, first lat, first lon:"
   ]
  },
  {
   "cell_type": "code",
   "execution_count": null,
   "id": "8e55d4a3-1bcc-4c23-85b4-3da35b71aa70",
   "metadata": {},
   "outputs": [],
   "source": [
    "tx[0,0,0]"
   ]
  },
  {
   "cell_type": "markdown",
   "id": "c2e20e52-0a6c-47d2-ae9b-cf7f96761489",
   "metadata": {},
   "source": [
    "Now, let's select a slice in time. Remember, this type of indexing, just like NumPy, is exclusive of the ending index."
   ]
  },
  {
   "cell_type": "code",
   "execution_count": null,
   "id": "051f269e-206f-4a28-a003-9f11aba8b670",
   "metadata": {},
   "outputs": [],
   "source": [
    "tx[0:12,0,0]"
   ]
  },
  {
   "cell_type": "markdown",
   "id": "5b7417ed-5b73-4ceb-b383-fdf164690b48",
   "metadata": {},
   "source": [
    "Of course, just like we learned in the NumPy lesson, the order of the dimensions matters when using this indexing method. If we want to slice times, we need to know that the time dimension is the first axis."
   ]
  },
  {
   "cell_type": "markdown",
   "id": "269c0b9a-0d2e-4245-abae-d7f5f3045d5e",
   "metadata": {},
   "source": [
    "## Combining Label-based and Position-based Selection\n",
    "\n",
    "Xarray is very flexible when it comes to different ways to select data within the DataArray structure. We can even combine different selection methods by stringing them together. Let's look at how to select the first time by position and latitude/longitude by label."
   ]
  },
  {
   "cell_type": "code",
   "execution_count": null,
   "id": "1c0e8697-c885-4e66-8b9f-84feac251ca3",
   "metadata": {},
   "outputs": [],
   "source": [
    "tx.isel(time=0).sel(lat=slice(),lon=slice())"
   ]
  },
  {
   "cell_type": "code",
   "execution_count": null,
   "id": "93c1ae79-ca5b-40cc-8da5-18c07648c384",
   "metadata": {},
   "outputs": [],
   "source": [
    "tx.sel(lat=slice(),lon=slice())[0,...]"
   ]
  },
  {
   "cell_type": "markdown",
   "id": "af4c1870-b541-4f80-9856-a739491da8b1",
   "metadata": {},
   "source": [
    "# IV. Elementwise Operations, Broadcasting, Comparison Operators, Logic Operators, and Logic Functions"
   ]
  },
  {
   "cell_type": "code",
   "execution_count": null,
   "id": "284f0abc-3d1f-4a57-91c5-14fa035f08bd",
   "metadata": {},
   "outputs": [],
   "source": []
  },
  {
   "cell_type": "code",
   "execution_count": null,
   "id": "ffd1dd46-dd3e-451f-8fe2-aaca92fed349",
   "metadata": {},
   "outputs": [],
   "source": []
  },
  {
   "cell_type": "code",
   "execution_count": null,
   "id": "8691c839-b4c6-47da-9b7f-f374517eab5c",
   "metadata": {},
   "outputs": [],
   "source": []
  },
  {
   "cell_type": "code",
   "execution_count": null,
   "id": "5188abcb-e2a5-4097-a804-316c4052f742",
   "metadata": {},
   "outputs": [],
   "source": []
  },
  {
   "cell_type": "markdown",
   "id": "8ad28ba4-b8d2-4d9a-81df-149f1fb8dd5f",
   "metadata": {},
   "source": [
    "A dimension of a Xarray DataArray is the same as an axis of a NumPy ndarray except that each dimension of a DataArray is labeled with a name. For example, a 3D NumPy array would have the dimensions axis 0, axis 1, and axis 2 where each axis would represent something like time, latitude, and longitude. The equivalent Xarray 3D DataArray would have dimensions with actual names \"time\", \"latitude\", and \"longitude\"   \n",
    "\n",
    "\n",
    "Datasets contain one or more DataArrays which share one or more dimensions and coordinates. Each variable in a Dataset has its own attributes and the Dataset itself can have its own attributes as well (which come from the file attributes in each netcdf). \n",
    "\n",
    "Details of all xarray functions (including what parameters to include as function inputs and what each function returns) can be found in the **[xarray API reference](https://docs.xarray.dev/en/stable/api.html)**. Xarray has pretty great documentation with usage examples, definitely check the **[xarray getting started](https://docs.xarray.dev/en/stable/getting-started-guide/index.html)** and **[xarray user guide](https://docs.xarray.dev/en/stable/user-guide/index.html)** documentation for help as you are learning. If you are stuck on something, stack overflow and xarray's issue documentation on github is also useful. I personally often end up at those sites from google searches \"python xarray how to ___\". \n",
    "\n",
    "\n",
    "\n",
    "\n",
    "## Data Types\n",
    "\n",
    "\n",
    "\n",
    "# Intro to Netcdf\n",
    "especially files that are written using Climate and Forecast Metadata Conventions ([CF Metadata Conventions](https://cfconventions.org)). These metadata conventions are essentially a set of rules for how climate data should be described and written to data files in order to promote standardized data processing, eliminate ambiguities, and facilitate data sharing.\n",
    "\n",
    "\n",
    "\n",
    "\n",
    "With xarray, when we print a variable, instead of getting the values of that variable what we get (usually) is a view of all the metadata labels that are attached to the variable. The information above shows us that our pr data is the daily total precipitation aggregated from midnight to midnight local time each day, has units of mm per day, and is called 'prcp' in the netcdf file.  \n",
    "\n",
    "We can also see that the data has 3 dimensions (time, lat, lon), the length of each dimension, and that each dimension is a \"coordinate\", which are essentially additional labels. Click on the paper and data stack icons to the right of each coordinate. Using the paper icon, you can see that each coordinate has its own attributes (standard_name, units, etc.). Using the data stack icon, you can see that each coordinate is also an array of values, similar to an index in Pandas. The beauty of coordinates is that they allow us to easily select a subset of the data variable using labels that correspond to the coordinate values. \n",
    "\n",
    "Definitions for xarray terminology such as DataArray, Dataset, variable, dimension, coordinate, attribute can all be found in xarray's user guide on the **[xarray terminology page](https://docs.xarray.dev/en/stable/user-guide/terminology.html)**."
   ]
  },
  {
   "cell_type": "code",
   "execution_count": null,
   "id": "e0ea30ae-7758-4b3b-a8c9-7aeb35545770",
   "metadata": {},
   "outputs": [],
   "source": []
  },
  {
   "cell_type": "markdown",
   "id": "8258b723-092d-4946-a9f6-ae931df88cb0",
   "metadata": {},
   "source": [
    "## Array Attributes\n",
    "\n",
    "Each ndarray has a number of *attributes*. These may also be called array *properties*. We've already seen one of these above with ```.shape```. The others we will cover are ```.ndim```, ```.size```, ```.dtype```, ```.itemsize```, and ```.nbytes```. The full list of attributes can be found in"
   ]
  },
  {
   "cell_type": "code",
   "execution_count": null,
   "id": "cc820c28-0800-4ae2-a21a-3c7b907b38fc",
   "metadata": {},
   "outputs": [],
   "source": []
  },
  {
   "cell_type": "code",
   "execution_count": null,
   "id": "3ef7131a-3e04-46f4-928d-bab2239a7e9d",
   "metadata": {},
   "outputs": [],
   "source": []
  },
  {
   "cell_type": "code",
   "execution_count": null,
   "id": "d4d8525e-092b-4eb1-9ee0-7455d0fc8b94",
   "metadata": {},
   "outputs": [],
   "source": []
  },
  {
   "cell_type": "code",
   "execution_count": null,
   "id": "94321b82-d268-475d-9edb-498da87a2144",
   "metadata": {},
   "outputs": [],
   "source": []
  },
  {
   "cell_type": "code",
   "execution_count": null,
   "id": "2a32b2e7-0155-4b8a-abf8-514bb5857293",
   "metadata": {},
   "outputs": [],
   "source": []
  },
  {
   "cell_type": "code",
   "execution_count": null,
   "id": "28efe791-0ce1-4c31-a981-432d4ca0c0c3",
   "metadata": {},
   "outputs": [],
   "source": []
  },
  {
   "cell_type": "code",
   "execution_count": null,
   "id": "113cdf77-194f-416c-a19d-50f5cd8054a4",
   "metadata": {},
   "outputs": [],
   "source": []
  },
  {
   "cell_type": "markdown",
   "id": "a77505eb-d2e1-43ec-9380-5f0ac8afa6e0",
   "metadata": {},
   "source": [
    "# V. Math Functions, Array Creation Functions"
   ]
  },
  {
   "cell_type": "code",
   "execution_count": null,
   "id": "032ccafe-f05a-402f-b654-91b87f4efee5",
   "metadata": {},
   "outputs": [],
   "source": []
  },
  {
   "cell_type": "markdown",
   "id": "1b68c54b-ada9-478a-8499-857779135365",
   "metadata": {},
   "source": [
    "# VI. Useful Xarray Functions for Geosciences"
   ]
  },
  {
   "cell_type": "code",
   "execution_count": null,
   "id": "d5b8c7d8-13a8-42a8-8185-5c205cd2da60",
   "metadata": {},
   "outputs": [],
   "source": []
  },
  {
   "cell_type": "markdown",
   "id": "dfcf4388-2867-4715-8781-e8c78cea488e",
   "metadata": {},
   "source": [
    "# VII. Array Manipulation"
   ]
  },
  {
   "cell_type": "code",
   "execution_count": null,
   "id": "af1d176d-134c-450e-b9b4-7e0d57c64586",
   "metadata": {},
   "outputs": [],
   "source": []
  },
  {
   "cell_type": "code",
   "execution_count": null,
   "id": "c104ff21-d2f5-4318-a920-6c962bae031f",
   "metadata": {},
   "outputs": [],
   "source": []
  },
  {
   "cell_type": "code",
   "execution_count": null,
   "id": "e9d74566-d168-495b-9864-edae0ed95277",
   "metadata": {},
   "outputs": [],
   "source": []
  },
  {
   "cell_type": "code",
   "execution_count": null,
   "id": "aea87625-182c-4b0b-83a2-884f92d0aa79",
   "metadata": {},
   "outputs": [],
   "source": []
  },
  {
   "cell_type": "markdown",
   "id": "e1c57e23-a47c-4ff4-862b-937c1ca0d00d",
   "metadata": {},
   "source": [
    "# VIII. Converting Numpy and Pandas Data Structures to Xarray Data Structures\n",
    "\n",
    "Your data doesn't need to be provided in netcdf format in order to use xarray data structures. You can hold any numerical data array in an Xarray DataArray or Dataset. If you have metadata (or labels) for the dimensions of your data, you can add that into the DataArray or Dataset object. Here we'll read in data that is provided in a csv file and create an Xarray DataArray.\n",
    "\n",
    "Why would you want to do this?"
   ]
  },
  {
   "cell_type": "code",
   "execution_count": null,
   "id": "d452b8ff-f221-44ee-9d25-b878fde84568",
   "metadata": {},
   "outputs": [],
   "source": []
  },
  {
   "cell_type": "markdown",
   "id": "958aa067-d651-43a0-bd17-9e9f1f5a434a",
   "metadata": {},
   "source": [
    "# IX. Input/Output (I/O) with Xarray"
   ]
  },
  {
   "cell_type": "code",
   "execution_count": null,
   "id": "3a2b45d5-1f92-4f88-a9b8-49c927650c30",
   "metadata": {},
   "outputs": [],
   "source": []
  },
  {
   "cell_type": "markdown",
   "id": "81a2d713-2804-41d1-9094-496240171311",
   "metadata": {},
   "source": [
    "# X. Exercise: Putting it All Together"
   ]
  },
  {
   "cell_type": "code",
   "execution_count": null,
   "id": "b635d6fc-a8d1-4005-8c2f-91a55f8cf8f9",
   "metadata": {},
   "outputs": [],
   "source": []
  },
  {
   "cell_type": "markdown",
   "id": "fbfbda7a-bb54-4eb9-bc49-5227096141a5",
   "metadata": {},
   "source": [
    "# XI. At a Glance: Language Covered\n",
    "\n",
    "The NumPy functionality that we covered at a glance...\n",
    "\n",
    "## NumPy Functions\n",
    "\n",
    "```np.all()```, ```np.any()```, ```np.arange()```, ```np.argsort()```, ```np.argwhere()```,  ```np.array()```, ```np.ceil()```, ```np.cos()```, ```np.concatenate()```, ```np.cumsum()```, ```np.diff()```, ```np.empty()```, ```np.expand_dims()```, ```np.flatten()```, ```np.float16()```, ```np.floor()```, ```np.full()```, ```np.genfromtxt()```, ```np.isfinite()```, ```np.isnan()```,\n",
    "```np.linspace()```,  ```np.load()```, ```np.loadtxt()```, ```np.log()```, ```np.logical_and()```, ```np.logical_or()```, ```np.logical_not()```, ```np.max()```, ```np.mean()```, ```np.median()```,  ```np.min()```, ```np.nan_to_num()```, ```np.ones()```, ```np.percentile()```, ```np.ptp()```, ```np.quantile()```, ```np.radians()```, ```np.random_default_rng()```, ```np.reshape()```, ```np.round()```, ```np.save()```, ```np.savetxt()```, ```np.savez()```, ```np.sin()```, ```np.sort()```, ```np.squeeze()```, ```np.stack()```, ```np.std()```, ```np.sum()```, ```np.trunc()```, ```np.unique()```, ```np.var()```, ```np.where()```, ```np.zeros()```,\n"
   ]
  },
  {
   "cell_type": "markdown",
   "id": "56e800bd-ead8-4f2a-823b-ea12985ff3ca",
   "metadata": {
    "jp-MarkdownHeadingCollapsed": true
   },
   "source": [
    "## NumPy data structure (ndarray) methods\n",
    "```.astype()```, ```.sum()```"
   ]
  },
  {
   "cell_type": "markdown",
   "id": "a294e5f3-859a-42e9-82ce-6b1e85e0f2eb",
   "metadata": {
    "jp-MarkdownHeadingCollapsed": true
   },
   "source": [
    "## NumPy data structure (ndarray) attributes\n",
    "\n",
    "```.dtype```, ```.itemsize```, ```.nbytes```, ```.ndim```, ```.shape```, ```.size```  \n"
   ]
  },
  {
   "cell_type": "markdown",
   "id": "08ae19b5-4b02-4948-82e7-05347c3460da",
   "metadata": {},
   "source": [
    "## NumPy random number generator object (rng) methods\n",
    "```.integers()```, ```.random()```, ```.uniform()``` \n"
   ]
  },
  {
   "cell_type": "markdown",
   "id": "58f5c598-06a8-4a53-9c6a-3591d34453bb",
   "metadata": {},
   "source": [
    "## NumPy constants\n",
    "\n",
    "```np.inf```, ```np.nan```, ```np.newaxis```"
   ]
  },
  {
   "cell_type": "markdown",
   "id": "45718b4e-a570-43ac-bbe4-6d90a13c2c03",
   "metadata": {},
   "source": [
    "## Functions from other packages\n",
    "```glob.glob()```, ```matplotlib.pyplot.imshow()```, ```matplotlib.pyplot.text()```, ```pandas.DataFrame()```, ```pandas.read_csv()```, ```pandas.dataframe.to_csv()```, ```pandas.dataframe.to_numpy()``` "
   ]
  },
  {
   "cell_type": "markdown",
   "id": "009ad9d1-3a62-47e2-ad70-3308f1050dc4",
   "metadata": {},
   "source": [
    "<div class=\"alert alert-success\">\n",
    "\n",
    "# XV. Learning More About NumPy\n",
    "\n",
    "For more about NumPy, start on the [NumPy website](https://numpy.org/) where you can find:\n",
    "\n",
    "- the getting started doc, user guide, and API reference documentation https://numpy.org/doc/stable/\n",
    "- beginner and advanced tutorials, book suggestions, and videos links https://numpy.org/learn/\n",
    "\n",
    "</div>"
   ]
  }
 ],
 "metadata": {
  "kernelspec": {
   "display_name": "pyworkshop",
   "language": "python",
   "name": "pyworkshop"
  },
  "language_info": {
   "codemirror_mode": {
    "name": "ipython",
    "version": 3
   },
   "file_extension": ".py",
   "mimetype": "text/x-python",
   "name": "python",
   "nbconvert_exporter": "python",
   "pygments_lexer": "ipython3",
   "version": "3.12.4"
  }
 },
 "nbformat": 4,
 "nbformat_minor": 5
}
