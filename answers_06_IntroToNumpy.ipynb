{
 "cells": [
  {
   "cell_type": "markdown",
   "id": "d7865082-594c-4f3c-99c2-688de3a2b278",
   "metadata": {},
   "source": [
    "# Answer Key\n",
    "\n",
    "This answer key contains a copy of each exercise text as well as the solutions, but you will not be able to run solution cells here. Copy each solution from this answer key into the main notebook for this learning module and run the code there. "
   ]
  },
  {
   "cell_type": "markdown",
   "id": "2306ba39-77c6-47a2-8887-614073c3c254",
   "metadata": {},
   "source": [
    "<div class=\"alert alert-info\"> \n",
    "\n",
    "## Exercise 1: Create a NumPy Array from Scratch and Access Its Attributes\n",
    "\n",
    "Create a 2-dimensional 32-bit integer array called ```myArr2d``` with 4 rows and 3 columns.\n",
    "</div>"
   ]
  },
  {
   "cell_type": "code",
   "execution_count": 16,
   "id": "b220a9dd-413f-4750-a6ae-d8146aa18e59",
   "metadata": {},
   "outputs": [
    {
     "data": {
      "text/plain": [
       "array([[ 1,  2,  3],\n",
       "       [ 4,  5,  6],\n",
       "       [ 7,  8,  9],\n",
       "       [10, 11, 12]])"
      ]
     },
     "execution_count": 16,
     "metadata": {},
     "output_type": "execute_result"
    }
   ],
   "source": [
    "# add your code here\n",
    "myArr2d = np.array([[1,2,3],\n",
    "                    [4,5,6],\n",
    "                    [7,8,9],\n",
    "                    [10,11,12]],\n",
    "                   dtype='int32')\n",
    "myArr2d"
   ]
  },
  {
   "cell_type": "markdown",
   "id": "ac47fda1-0351-43dd-9b40-1aa39aa40f40",
   "metadata": {},
   "source": [
    "<div class=\"alert alert-info\"> \n",
    "\n",
    "Programmatically show the following attributes of ```myArr2d```:\n",
    "- its shape\n",
    "- how many total data values there are\n",
    "- its data type\n",
    "- the total number of bytes it consumes\n",
    "</div>"
   ]
  },
  {
   "cell_type": "code",
   "execution_count": 17,
   "id": "446f8ac6-4050-4844-9466-aea092141e70",
   "metadata": {},
   "outputs": [
    {
     "name": "stdout",
     "output_type": "stream",
     "text": [
      "(4, 3)\n",
      "12\n",
      "int32\n",
      "48\n"
     ]
    }
   ],
   "source": [
    "# add your code here\n",
    "print(myArr2d.shape)\n",
    "print(myArr2d.size)\n",
    "print(myArr2d.dtype)\n",
    "print(myArr2d.nbytes)"
   ]
  },
  {
   "cell_type": "markdown",
   "id": "1b97fddb-2ef1-4876-8f80-14ffe345e325",
   "metadata": {},
   "source": [
    "<div class=\"alert alert-info\"> \n",
    "\n",
    "If we had assigned the int8 data type to ```myArr2d``` instead of int32 would we have received an overflow error? Why or why not? In other words, can all the values in ```myArr2d``` be properly represented by an int8 data type?\n",
    "\n",
    "</div>"
   ]
  },
  {
   "cell_type": "markdown",
   "id": "bc5fe738-f617-48db-8a0f-e00ebb9eebaf",
   "metadata": {},
   "source": [
    "Type your answer here: No we would not have received an overflow error because all the values of myArr2D are within the range of data type int8 (-128 to 127)."
   ]
  },
  {
   "cell_type": "markdown",
   "id": "797c9818-2839-40c5-8bdf-ba38f4378796",
   "metadata": {},
   "source": [
    "<div class=\"alert alert-info\"> \n",
    "\n",
    "## Exercise 2: Basic Indexing and Slicing\n",
    "\n",
    "In your ```arr_3d``` make the following selections using indexing and slicing. Note that slicing is never jagged so your data selection for part (d) will include two data values that you cannot see in the image.\n",
    "\n",
    "<table><tr>\n",
    "<td> <img src=\"images/numpy3D_selection1.png\" alt=\"schematic of what to select\" width=\"300\"/> </td>\n",
    "<td> <img src=\"images/numpy3D_selection2.png\" alt=\"schematic of what to select\" width=\"300\"/> </td>\n",
    "<td> <img src=\"images/numpy3D_selection3.png\" alt=\"schematic of what to select\" width=\"300\"/> </td>\n",
    "<td> <img src=\"images/numpy3D_selection4.png\" alt=\"schematic of what to select\" width=\"300\"/> </td>\n",
    "</tr></table\n",
    "\n",
    "</div>\n",
    "\n"
   ]
  },
  {
   "cell_type": "markdown",
   "id": "2439a6c8-8a34-412f-8995-b0adc573933b",
   "metadata": {},
   "source": [
    "<div class=\"alert alert-info\"> \n",
    "\n",
    "**part (a)**\n",
    "</div>\n"
   ]
  },
  {
   "cell_type": "code",
   "execution_count": 36,
   "id": "35f51a36-afa5-4411-8df4-894886d206ae",
   "metadata": {},
   "outputs": [
    {
     "data": {
      "text/plain": [
       "9"
      ]
     },
     "execution_count": 36,
     "metadata": {},
     "output_type": "execute_result"
    }
   ],
   "source": [
    "# add your code here\n",
    "arr_3d[1,1,0]"
   ]
  },
  {
   "cell_type": "markdown",
   "id": "41f02238-e1aa-41ab-97ba-f106c2fbaf51",
   "metadata": {},
   "source": [
    "<div class=\"alert alert-info\"> \n",
    "\n",
    "**part (b)**\n",
    "</div>"
   ]
  },
  {
   "cell_type": "code",
   "execution_count": 37,
   "id": "4512f07b-20fe-4c13-b3f7-fd8ede02a4cc",
   "metadata": {},
   "outputs": [
    {
     "data": {
      "text/plain": [
       "array([4, 9])"
      ]
     },
     "execution_count": 37,
     "metadata": {},
     "output_type": "execute_result"
    }
   ],
   "source": [
    "# add your code here\n",
    "arr_3d[0:2,1,0] "
   ]
  },
  {
   "cell_type": "markdown",
   "id": "42e8bf38-cbdc-40f8-9fb0-3a15d6385f7b",
   "metadata": {},
   "source": [
    "<div class=\"alert alert-info\"> \n",
    "\n",
    "**part (c)**\n",
    "</div>"
   ]
  },
  {
   "cell_type": "code",
   "execution_count": 38,
   "id": "463493a9-ba81-402f-a585-72d056f50703",
   "metadata": {},
   "outputs": [
    {
     "data": {
      "text/plain": [
       "array([[9, 7],\n",
       "       [3, 0]])"
      ]
     },
     "execution_count": 38,
     "metadata": {},
     "output_type": "execute_result"
    }
   ],
   "source": [
    "# add your code here\n",
    "arr_3d[1:,1:,0]"
   ]
  },
  {
   "cell_type": "markdown",
   "id": "ab40ec4b-43cb-433e-9171-c9f7e9fc79f1",
   "metadata": {},
   "source": [
    "<div class=\"alert alert-info\"> \n",
    "\n",
    "**part (d)**\n",
    "</div>"
   ]
  },
  {
   "cell_type": "code",
   "execution_count": 39,
   "id": "70c52c96-04a4-4e93-997e-f8a62df6d22c",
   "metadata": {},
   "outputs": [
    {
     "data": {
      "text/plain": [
       "array([[[ 4,  3],\n",
       "        [ 7,  4]],\n",
       "\n",
       "       [[ 9, 10],\n",
       "        [ 7,  5]],\n",
       "\n",
       "       [[ 3, 11],\n",
       "        [ 0,  2]]])"
      ]
     },
     "execution_count": 39,
     "metadata": {},
     "output_type": "execute_result"
    }
   ],
   "source": [
    "# add your code here\n",
    "arr_3d[:,1:,:]"
   ]
  },
  {
   "cell_type": "markdown",
   "id": "20daf475-3f72-4624-a30b-c1b68b835fd4",
   "metadata": {},
   "source": [
    "<div class=\"alert alert-info\"> \n",
    "\n",
    "## Exercise 3: Advanced Indexing\n",
    "\n",
    "Using advanced indexing, select the diagonal values (1,7,13,19,25) of the array ```arr```.\n",
    "</div>"
   ]
  },
  {
   "cell_type": "code",
   "execution_count": 59,
   "id": "76efba71-e4d0-492c-bca5-629330531f2d",
   "metadata": {},
   "outputs": [
    {
     "data": {
      "text/plain": [
       "array([ 1,  7, 13, 19, 25])"
      ]
     },
     "execution_count": 59,
     "metadata": {},
     "output_type": "execute_result"
    }
   ],
   "source": [
    "arr = np.array([[1,2,3,4,5],\n",
    "               [6,7,8,9,10],\n",
    "               [11,12,13,14,15],\n",
    "               [16,17,18,19,20],\n",
    "               [21,22,23,24,25]])\n",
    "\n",
    "# add your code here\n",
    "indexes = np.array([0,1,2,3,4])\n",
    "arr[indexes,indexes]"
   ]
  },
  {
   "cell_type": "markdown",
   "id": "5b7960f1-3ee9-4a7b-aa26-dfc897b8ff84",
   "metadata": {},
   "source": [
    "<div class=\"alert alert-info\"> \n",
    "\n",
    "Now, select the same diagonal values using all negative indexes.\n",
    "</div>"
   ]
  },
  {
   "cell_type": "code",
   "execution_count": 60,
   "id": "401eaf56-bee1-4e1a-80b0-a3ab7c44f08d",
   "metadata": {},
   "outputs": [
    {
     "data": {
      "text/plain": [
       "array([ 1,  7, 13, 19, 25])"
      ]
     },
     "execution_count": 60,
     "metadata": {},
     "output_type": "execute_result"
    }
   ],
   "source": [
    "# add your code here\n",
    "indexes = np.array([-5,-4,-3,-2,-1])\n",
    "arr[indexes,indexes]"
   ]
  },
  {
   "cell_type": "markdown",
   "id": "352f02fd-806c-4996-835d-973606b2d46a",
   "metadata": {},
   "source": [
    "<div class=\"alert alert-info\"> \n",
    "    \n",
    "Last, use a conditional statement to generate a boolean array that will select only the even numbers from ```arr```. Hint: Look back to the Python Language Basics lesson if you need to. You'll want the operator that gives you the remainder of division.\n",
    "</div>"
   ]
  },
  {
   "cell_type": "code",
   "execution_count": 61,
   "id": "b8ed137e-1046-477a-a474-67c408f8d97f",
   "metadata": {},
   "outputs": [
    {
     "data": {
      "text/plain": [
       "array([ 2,  4,  6,  8, 10, 12, 14, 16, 18, 20, 22, 24])"
      ]
     },
     "execution_count": 61,
     "metadata": {},
     "output_type": "execute_result"
    }
   ],
   "source": [
    "# add your code here\n",
    "arr[arr % 2 == 0]"
   ]
  },
  {
   "cell_type": "markdown",
   "id": "ef7fbd54-d7ab-4311-9b47-3959b799b6d2",
   "metadata": {},
   "source": [
    "<div class=\"alert alert-info\"> \n",
    "\n",
    "## Exercise 4: Elementwise Operations and Upcasting\n",
    "\n",
    "Show the data type of ```arr_2d```."
   ]
  },
  {
   "cell_type": "code",
   "execution_count": 76,
   "id": "6260101b-f0ed-4e18-891b-4b166340e6e7",
   "metadata": {},
   "outputs": [
    {
     "data": {
      "text/plain": [
       "dtype('int16')"
      ]
     },
     "execution_count": 76,
     "metadata": {},
     "output_type": "execute_result"
    }
   ],
   "source": [
    "# add your code here\n",
    "\n",
    "arr_2d.dtype"
   ]
  },
  {
   "cell_type": "markdown",
   "id": "66fc4b8f-29e6-43db-b292-e2ef1918d1aa",
   "metadata": {},
   "source": [
    "<div class=\"alert alert-info\"> \n",
    "    \n",
    "If you multiply every element of ```arr_2d``` by 2.0, what do you expect the resulting data type to be and why?\n",
    "</div>"
   ]
  },
  {
   "cell_type": "markdown",
   "id": "ba6a8f93-ff39-4731-86e4-1e395d9e117b",
   "metadata": {},
   "source": [
    "Type your answer: \n",
    "\n",
    "I expect the resulting data type to be float64. The 2.0 will be assigned type float64 due to my computer's 64-bit operating system. When I multiply the int16 data values in arr_2d by a float64 data value, the result will be upcast to the data type that consumes the larger amount of memory, which is float64."
   ]
  },
  {
   "cell_type": "markdown",
   "id": "922f893f-8beb-42b9-b7f9-13ba318f733c",
   "metadata": {},
   "source": [
    "<div class=\"alert alert-info\"> \n",
    "    \n",
    "Multiply every element of ```arr_2d``` by 2.0 and save the result as a new variable called ```result```. Show the values in your ```result``` array.\n",
    "\n",
    "</div>"
   ]
  },
  {
   "cell_type": "code",
   "execution_count": 77,
   "id": "629a02ab-82e6-4662-805d-a5223666fcee",
   "metadata": {},
   "outputs": [
    {
     "data": {
      "text/plain": [
       "array([[ 2.,  4.,  6.,  8., 10.],\n",
       "       [12., 14., 16., 18., 20.]])"
      ]
     },
     "execution_count": 77,
     "metadata": {},
     "output_type": "execute_result"
    }
   ],
   "source": [
    "# add your code here\n",
    "result = arr_2d * 2.0\n",
    "result"
   ]
  },
  {
   "cell_type": "markdown",
   "id": "f1c56c1e-d0c1-4a33-952b-68427862762c",
   "metadata": {},
   "source": [
    "<div class=\"alert alert-info\"> \n",
    "\n",
    "Show the data type of your array ```result```.\n",
    "</div>"
   ]
  },
  {
   "cell_type": "code",
   "execution_count": 78,
   "id": "d92b3412-a020-48de-86a1-a211f9bdd890",
   "metadata": {},
   "outputs": [
    {
     "data": {
      "text/plain": [
       "dtype('float64')"
      ]
     },
     "execution_count": 78,
     "metadata": {},
     "output_type": "execute_result"
    }
   ],
   "source": [
    "# add your code here\n",
    "result.dtype"
   ]
  },
  {
   "cell_type": "markdown",
   "id": "e8b85f97-401e-477e-b2a9-ff789339fae6",
   "metadata": {},
   "source": [
    "<div class=\"alert alert-info\"> \n",
    "\n",
    "## Exercise 5: Broadcasting Practice\n",
    "\n",
    "The array called ```data``` below contains data that needs to be multiplied by a set of scaling factors. A different scale factor should be applied to each column of the ```data``` array. \n",
    "\n",
    "Create a 1D array called ```scale_columns``` containing the pretend scale factors. Your ```scale_columns``` array can contain any values you want, but you will have to decide how many values it should contain to properly broadcast with the ```data``` array as described above. Then, do elementwise multiplication with the arrays using broadcasting to apply the scaling factors to the data.\n",
    "\n",
    "</div>"
   ]
  },
  {
   "cell_type": "code",
   "execution_count": 96,
   "id": "3f723495-0dae-47b7-bfc3-b7f1cc6e0e5e",
   "metadata": {},
   "outputs": [
    {
     "data": {
      "text/plain": [
       "array([[10.2, 19.2, 36.9, 10.8, 27.5],\n",
       "       [21.3,  7.8, 25.2, 65.2,  5.5],\n",
       "       [17.6, 46.4, 60.3, 22.8, 97. ]])"
      ]
     },
     "execution_count": 96,
     "metadata": {},
     "output_type": "execute_result"
    }
   ],
   "source": [
    "data = np.array([[10.2, 9.6, 12.3, 2.7, 5.5],\n",
    "                 [21.3, 3.9, 8.4, 16.3, 1.1],\n",
    "                 [17.6, 23.2, 20.1, 5.7, 19.4]])\n",
    "\n",
    "# add your code here\n",
    "\n",
    "scale_columns = np.array([1,2,3,4,5])\n",
    "\n",
    "data * scale_columns"
   ]
  },
  {
   "cell_type": "markdown",
   "id": "b5101490-bad0-4a59-b2c0-81cc774a9e2b",
   "metadata": {},
   "source": [
    "<div class=\"alert alert-info\"> \n",
    "\n",
    "What if we wanted to apply a different scaling factor to each row instead of each column of the ```data``` array? \n",
    "\n",
    "Create a new array called ```scale_rows``` with the appropriate dimensions to broadcast a different scale factor to each row of the ```data``` array (hint: you'll need a singleton dimension). Multiply the arrays together to apply the scaling factors to the data using broadcasting. \n",
    "\n",
    "</div>"
   ]
  },
  {
   "cell_type": "code",
   "execution_count": 97,
   "id": "a9381477-c4b1-444a-a167-5a323cf6991f",
   "metadata": {},
   "outputs": [
    {
     "name": "stdout",
     "output_type": "stream",
     "text": [
      "(3, 1)\n"
     ]
    },
    {
     "data": {
      "text/plain": [
       "array([[10.2,  9.6, 12.3,  2.7,  5.5],\n",
       "       [42.6,  7.8, 16.8, 32.6,  2.2],\n",
       "       [52.8, 69.6, 60.3, 17.1, 58.2]])"
      ]
     },
     "execution_count": 97,
     "metadata": {},
     "output_type": "execute_result"
    }
   ],
   "source": [
    "# add your code here\n",
    "\n",
    "scale_rows = np.array([[1],[2],[3]])\n",
    "# OR\n",
    "# scale_rows = np.array([1,2,3])[:,np.newaxis]\n",
    "\n",
    "print(scale_rows.shape)\n",
    "\n",
    "data * scale_rows"
   ]
  },
  {
   "cell_type": "markdown",
   "id": "325f9275-624c-4277-8209-dcafb926bf55",
   "metadata": {},
   "source": [
    "<div class=\"alert alert-info\"> \n",
    "\n",
    "## Exercise 6: Summary Functions\n",
    "\n",
    "Use the NumPy API Reference Manual pages for **[np.median()](https://numpy.org/doc/stable/reference/generated/numpy.median.html#numpy.median)**, **[np.min()](https://numpy.org/doc/2.1/reference/generated/numpy.min.html#numpy.min)**, **[np.max()](https://numpy.org/doc/2.1/reference/generated/numpy.max.html#numpy.max)**, **[np.ptp()](https://numpy.org/doc/2.1/reference/generated/numpy.ptp.html#numpy.ptp)** if needed to help you complete the exercise.\n",
    "\n",
    "Use ```arr_2d```, ```arr_3d```, and the functions linked above to execute the following tasks:\n",
    "\n",
    "A) Find the median value of ```arr_2d```.\n",
    "</div>"
   ]
  },
  {
   "cell_type": "code",
   "execution_count": 109,
   "id": "2ceb6a08-ec84-41f3-a6b0-fb288e571612",
   "metadata": {},
   "outputs": [
    {
     "data": {
      "text/plain": [
       "5.5"
      ]
     },
     "execution_count": 109,
     "metadata": {},
     "output_type": "execute_result"
    }
   ],
   "source": [
    "# add your code here\n",
    "\n",
    "np.median(arr_2d)"
   ]
  },
  {
   "cell_type": "markdown",
   "id": "86b5e355-023f-45f3-88ab-f6db05221052",
   "metadata": {},
   "source": [
    "<div class=\"alert alert-info\"> \n",
    "\n",
    "B) Find the minimum data value in each row of ```arr_2d```.\n",
    "</div>"
   ]
  },
  {
   "cell_type": "code",
   "execution_count": 110,
   "id": "b1f7ea6c-dae6-4a45-b07e-0f5e85aea9bf",
   "metadata": {},
   "outputs": [
    {
     "data": {
      "text/plain": [
       "array([1, 6], dtype=int16)"
      ]
     },
     "execution_count": 110,
     "metadata": {},
     "output_type": "execute_result"
    }
   ],
   "source": [
    "np.min(arr_2d,axis=1)"
   ]
  },
  {
   "cell_type": "markdown",
   "id": "2bfd5fb3-5e28-40ea-bb32-af8218268ccb",
   "metadata": {},
   "source": [
    "<div class=\"alert alert-info\"> \n",
    "\n",
    "C) Find the data range (max minus min) of ```arr_2d``` using ```np.ptp()```.\n",
    "</div>"
   ]
  },
  {
   "cell_type": "code",
   "execution_count": 111,
   "id": "b6b0cf2d-e0de-48e7-a5aa-00933629dc93",
   "metadata": {},
   "outputs": [
    {
     "data": {
      "text/plain": [
       "9"
      ]
     },
     "execution_count": 111,
     "metadata": {},
     "output_type": "execute_result"
    }
   ],
   "source": [
    "np.ptp(arr_2d)"
   ]
  },
  {
   "cell_type": "markdown",
   "id": "3c8789d9-70a2-4191-95c0-eab892987136",
   "metadata": {},
   "source": [
    "<div class=\"alert alert-info\"> \n",
    "\n",
    "D) Find the data range of each column of ```arr_2d``` using ```np.ptp()```.\n",
    "</div>"
   ]
  },
  {
   "cell_type": "code",
   "execution_count": 112,
   "id": "48fdb4cc-274e-422f-be08-2c97f424cbd5",
   "metadata": {},
   "outputs": [
    {
     "data": {
      "text/plain": [
       "array([5, 5, 5, 5, 5], dtype=int16)"
      ]
     },
     "execution_count": 112,
     "metadata": {},
     "output_type": "execute_result"
    }
   ],
   "source": [
    "np.ptp(arr_2d,axis=0)"
   ]
  },
  {
   "cell_type": "markdown",
   "id": "1ac617a5-15de-4d53-aac6-1558abbc9eb7",
   "metadata": {},
   "source": [
    "<div class=\"alert alert-info\"> \n",
    "\n",
    "E) Find the maximum data value in each time (axis 0) of ```arr_3d```.\n",
    "</div>"
   ]
  },
  {
   "cell_type": "code",
   "execution_count": 113,
   "id": "bf38d9ce-4b1e-47ad-b897-919beec00ee0",
   "metadata": {},
   "outputs": [
    {
     "data": {
      "text/plain": [
       "array([ 7, 10, 11])"
      ]
     },
     "execution_count": 113,
     "metadata": {},
     "output_type": "execute_result"
    }
   ],
   "source": [
    "np.max(arr_3d,axis=(1,2))"
   ]
  },
  {
   "cell_type": "markdown",
   "id": "688bed96-9e23-4720-80df-b28b46f56d83",
   "metadata": {},
   "source": [
    "<div class=\"alert alert-info\"> \n",
    "\n",
    "## Exercise 7: Mathmatical Functions\n",
    "\n",
    "Use the NumPy API Reference Manual pages for **[np.sin()](https://numpy.org/doc/2.1/reference/generated/numpy.sin.html#numpy.sin)**, **[np.floor()](https://numpy.org/doc/2.1/reference/generated/numpy.floor.html#numpy.floor)**, **[np.round()](https://numpy.org/doc/2.1/reference/generated/numpy.round.html#numpy.round)** to help you complete the following tasks.\n",
    "\n",
    "A) Calculate the trigonometric sine of the ```degrees``` array. Hint: you'll see in the documentation for ```np.sin()``` that the inputs need to be in radians.\n",
    "</div>"
   ]
  },
  {
   "cell_type": "code",
   "execution_count": 120,
   "id": "493c46ba-6251-494e-8714-fc1ced83b8b3",
   "metadata": {},
   "outputs": [
    {
     "data": {
      "text/plain": [
       "array([0.00000000e+00, 7.07106781e-01, 1.00000000e+00, 7.07106781e-01,\n",
       "       1.22464680e-16])"
      ]
     },
     "execution_count": 120,
     "metadata": {},
     "output_type": "execute_result"
    }
   ],
   "source": [
    "degrees = np.array([0,45,90,135,180])\n",
    "\n",
    "# add your code here\n",
    "np.sin(np.radians(degrees))"
   ]
  },
  {
   "cell_type": "markdown",
   "id": "0df7a414-e44a-482b-8fdc-91d9c0cb0c9b",
   "metadata": {},
   "source": [
    "<div class=\"alert alert-info\"> \n",
    "\n",
    "B) Calculate the floor of each value in the ```data_2d``` array.\n",
    "</div>"
   ]
  },
  {
   "cell_type": "code",
   "execution_count": 121,
   "id": "35bc3bd8-13ed-4a0f-9049-0d02ff6d3913",
   "metadata": {},
   "outputs": [
    {
     "data": {
      "text/plain": [
       "array([[  2.,   0.],\n",
       "       [100.,   6.]])"
      ]
     },
     "execution_count": 121,
     "metadata": {},
     "output_type": "execute_result"
    }
   ],
   "source": [
    "data_2d = np.array([[2.16936,0.46812],[100.37213,6.21455]])\n",
    "\n",
    "# add your code here\n",
    "np.floor(data_2d)"
   ]
  },
  {
   "cell_type": "markdown",
   "id": "23f94267-bb09-4659-8b6a-b95f98568594",
   "metadata": {},
   "source": [
    "<div class=\"alert alert-info\"> \n",
    "\n",
    "C) Round each value in the ```data_2d``` array to 2 decimal places."
   ]
  },
  {
   "cell_type": "code",
   "execution_count": 122,
   "id": "589fe38e-332e-449b-a7c9-2773392799da",
   "metadata": {},
   "outputs": [
    {
     "data": {
      "text/plain": [
       "array([[  2.17,   0.47],\n",
       "       [100.37,   6.21]])"
      ]
     },
     "execution_count": 122,
     "metadata": {},
     "output_type": "execute_result"
    }
   ],
   "source": [
    "data_2d = np.array([[2.16936,0.46812],[100.37213,6.21455]])\n",
    "\n",
    "# add your code here\n",
    "np.round(data_2d,decimals=2)"
   ]
  },
  {
   "cell_type": "markdown",
   "id": "dafecc93-407c-44e2-8443-c58f64746fe4",
   "metadata": {},
   "source": [
    "<div class=\"alert alert-info\"> \n",
    "\n",
    "## Exercise 8: Array Creation Functions\n",
    "\n",
    "Use the NumPy array creation functions described in this section to complete the following tasks.\n",
    "\n",
    "A) Create a 2D array with 5 rows and 4 columns where all the data values are -9999.0.\n",
    "\n",
    "</div>"
   ]
  },
  {
   "cell_type": "code",
   "execution_count": 135,
   "id": "59c3e57f-8493-427d-93b7-9b508da9f085",
   "metadata": {},
   "outputs": [
    {
     "data": {
      "text/plain": [
       "array([[-9999., -9999., -9999., -9999.],\n",
       "       [-9999., -9999., -9999., -9999.],\n",
       "       [-9999., -9999., -9999., -9999.],\n",
       "       [-9999., -9999., -9999., -9999.],\n",
       "       [-9999., -9999., -9999., -9999.]])"
      ]
     },
     "execution_count": 135,
     "metadata": {},
     "output_type": "execute_result"
    }
   ],
   "source": [
    "# add your code here\n",
    "\n",
    "np.full((5,4),-9999.0)"
   ]
  },
  {
   "cell_type": "markdown",
   "id": "22bc4960-1995-4471-9d41-6f9047ff2a03",
   "metadata": {},
   "source": [
    "<div class=\"alert alert-info\"> \n",
    "\n",
    "B) Create a 1D array of northern hemisphere latitudes with 1/4 degree spatial resolution starting at 30.0 degrees and ending at 60.0 degrees. \n",
    "</div>"
   ]
  },
  {
   "cell_type": "code",
   "execution_count": 136,
   "id": "5e1fc7c5-1a4a-450f-96de-ea1da15019ab",
   "metadata": {},
   "outputs": [
    {
     "data": {
      "text/plain": [
       "array([30.  , 30.25, 30.5 , 30.75, 31.  , 31.25, 31.5 , 31.75, 32.  ,\n",
       "       32.25, 32.5 , 32.75, 33.  , 33.25, 33.5 , 33.75, 34.  , 34.25,\n",
       "       34.5 , 34.75, 35.  , 35.25, 35.5 , 35.75, 36.  , 36.25, 36.5 ,\n",
       "       36.75, 37.  , 37.25, 37.5 , 37.75, 38.  , 38.25, 38.5 , 38.75,\n",
       "       39.  , 39.25, 39.5 , 39.75, 40.  , 40.25, 40.5 , 40.75, 41.  ,\n",
       "       41.25, 41.5 , 41.75, 42.  , 42.25, 42.5 , 42.75, 43.  , 43.25,\n",
       "       43.5 , 43.75, 44.  , 44.25, 44.5 , 44.75, 45.  , 45.25, 45.5 ,\n",
       "       45.75, 46.  , 46.25, 46.5 , 46.75, 47.  , 47.25, 47.5 , 47.75,\n",
       "       48.  , 48.25, 48.5 , 48.75, 49.  , 49.25, 49.5 , 49.75, 50.  ,\n",
       "       50.25, 50.5 , 50.75, 51.  , 51.25, 51.5 , 51.75, 52.  , 52.25,\n",
       "       52.5 , 52.75, 53.  , 53.25, 53.5 , 53.75, 54.  , 54.25, 54.5 ,\n",
       "       54.75, 55.  , 55.25, 55.5 , 55.75, 56.  , 56.25, 56.5 , 56.75,\n",
       "       57.  , 57.25, 57.5 , 57.75, 58.  , 58.25, 58.5 , 58.75, 59.  ,\n",
       "       59.25, 59.5 , 59.75, 60.  ])"
      ]
     },
     "execution_count": 136,
     "metadata": {},
     "output_type": "execute_result"
    }
   ],
   "source": [
    "# add your code here\n",
    "\n",
    "np.linspace(30,60,121)"
   ]
  },
  {
   "cell_type": "markdown",
   "id": "13c611e1-024e-4934-a4a2-5fefd815c3c7",
   "metadata": {},
   "source": [
    "<div class=\"alert alert-info\"> \n",
    "\n",
    "C) Create a random number generator and use it to create an array with 5 rows and 3 columns filled with random integer values from 1 to 100.\n",
    "</div>"
   ]
  },
  {
   "cell_type": "code",
   "execution_count": 137,
   "id": "6996f85c-c4a8-4a76-b85c-faf73e1c4603",
   "metadata": {},
   "outputs": [
    {
     "data": {
      "text/plain": [
       "array([[59, 73, 42],\n",
       "       [62, 37, 64],\n",
       "       [94, 86, 23],\n",
       "       [10, 79, 43],\n",
       "       [ 1,  3, 47]], dtype=int64)"
      ]
     },
     "execution_count": 137,
     "metadata": {},
     "output_type": "execute_result"
    }
   ],
   "source": [
    "# add your code here\n",
    "\n",
    "np.random.default_rng().integers(1,100,(5,3))"
   ]
  },
  {
   "cell_type": "markdown",
   "id": "5af80c9e-ee05-4be7-baa4-21e474fed053",
   "metadata": {},
   "source": [
    "<div class=\"alert alert-info\"> \n",
    "\n",
    "## Exercise 9: np.sort() and np.argsort()\n",
    "\n",
    "A) Sort the Denver row of the ```t_mon``` array.\n",
    "</div>"
   ]
  },
  {
   "cell_type": "code",
   "execution_count": 149,
   "id": "43600ec9-e65b-43af-bf47-136656637837",
   "metadata": {},
   "outputs": [
    {
     "data": {
      "text/plain": [
       "array([32.5 , 32.87, 33.24, 44.52, 45.64, 52.6 , 60.35, 63.07, 67.25,\n",
       "       77.38, 80.6 , 86.79])"
      ]
     },
     "execution_count": 149,
     "metadata": {},
     "output_type": "execute_result"
    }
   ],
   "source": [
    "# add your code here\n",
    "\n",
    "np.sort(t_mon[1,:])"
   ]
  },
  {
   "cell_type": "markdown",
   "id": "e2f89920-f47f-42fd-990d-5a11ab616b93",
   "metadata": {},
   "source": [
    "<div class=\"alert alert-info\"> \n",
    "\n",
    "    \n",
    "B) Sort all rows of the ```t_mon``` array by ascending station elevation.\n",
    "</div>"
   ]
  },
  {
   "cell_type": "code",
   "execution_count": 150,
   "id": "5769d952-570d-45e2-965f-e90b8ff575d4",
   "metadata": {},
   "outputs": [
    {
     "data": {
      "text/plain": [
       "array([[39.49, 44.85, 49.8 , 56.81, 65.21, 74.73, 80.95, 75.09, 69.36,\n",
       "        60.9 , 50.33, 47.4 ],\n",
       "       [32.69, 37.63, 47.02, 52.47, 66.94, 77.12, 78.1 , 77.97, 68.91,\n",
       "        56.97, 46.16, 35.59],\n",
       "       [47.39, 53.2 , 52.34, 60.93, 60.49, 66.8 , 68.82, 67.85, 65.02,\n",
       "        57.91, 52.14, 49.91],\n",
       "       [25.85, 29.41, 40.77, 48.34, 61.48, 71.98, 80.74, 73.79, 68.32,\n",
       "        53.36, 39.11, 31.58],\n",
       "       [57.68, 61.94, 65.26, 65.59, 74.52, 74.31, 75.95, 77.25, 77.32,\n",
       "        68.11, 63.24, 59.42],\n",
       "       [51.87, 57.8 , 65.26, 73.61, 80.79, 86.59, 88.84, 89.54, 81.14,\n",
       "        75.56, 65.68, 54.3 ],\n",
       "       [21.18, 24.31, 37.95, 50.16, 61.2 , 72.38, 76.71, 76.  , 65.36,\n",
       "        54.25, 39.67, 30.56],\n",
       "       [37.13, 43.  , 52.34, 61.52, 72.23, 77.02, 83.13, 78.9 , 74.37,\n",
       "        62.47, 52.82, 38.8 ],\n",
       "       [39.02, 46.58, 53.02, 67.46, 77.7 , 87.05, 91.73, 86.88, 78.14,\n",
       "        68.03, 52.94, 42.55],\n",
       "       [32.87, 33.24, 44.52, 52.6 , 63.07, 77.38, 86.79, 80.6 , 67.25,\n",
       "        60.35, 45.64, 32.5 ]])"
      ]
     },
     "execution_count": 150,
     "metadata": {},
     "output_type": "execute_result"
    }
   ],
   "source": [
    "# add your code here\n",
    "\n",
    "sorted_elev = np.argsort(station_elev)\n",
    "t_mon[sorted_elev]"
   ]
  },
  {
   "cell_type": "markdown",
   "id": "a06c8c0e-812a-40d8-a1ac-95213edcedf4",
   "metadata": {},
   "source": [
    "<div class=\"alert alert-info\"> \n",
    "    \n",
    "C) Sort all rows of the ```t_mon``` array by descending station elevation. Hint: Use basic indexing to reverse your sorted elevations (or do a web search for how to reverse the order of an array using another NumPy function we haven't covered).\n",
    "</div>"
   ]
  },
  {
   "cell_type": "code",
   "execution_count": 151,
   "id": "0f2bec93-7c18-4882-ba19-7ddff166daf8",
   "metadata": {},
   "outputs": [
    {
     "data": {
      "text/plain": [
       "array([[32.87, 33.24, 44.52, 52.6 , 63.07, 77.38, 86.79, 80.6 , 67.25,\n",
       "        60.35, 45.64, 32.5 ],\n",
       "       [39.02, 46.58, 53.02, 67.46, 77.7 , 87.05, 91.73, 86.88, 78.14,\n",
       "        68.03, 52.94, 42.55],\n",
       "       [37.13, 43.  , 52.34, 61.52, 72.23, 77.02, 83.13, 78.9 , 74.37,\n",
       "        62.47, 52.82, 38.8 ],\n",
       "       [21.18, 24.31, 37.95, 50.16, 61.2 , 72.38, 76.71, 76.  , 65.36,\n",
       "        54.25, 39.67, 30.56],\n",
       "       [51.87, 57.8 , 65.26, 73.61, 80.79, 86.59, 88.84, 89.54, 81.14,\n",
       "        75.56, 65.68, 54.3 ],\n",
       "       [57.68, 61.94, 65.26, 65.59, 74.52, 74.31, 75.95, 77.25, 77.32,\n",
       "        68.11, 63.24, 59.42],\n",
       "       [25.85, 29.41, 40.77, 48.34, 61.48, 71.98, 80.74, 73.79, 68.32,\n",
       "        53.36, 39.11, 31.58],\n",
       "       [47.39, 53.2 , 52.34, 60.93, 60.49, 66.8 , 68.82, 67.85, 65.02,\n",
       "        57.91, 52.14, 49.91],\n",
       "       [32.69, 37.63, 47.02, 52.47, 66.94, 77.12, 78.1 , 77.97, 68.91,\n",
       "        56.97, 46.16, 35.59],\n",
       "       [39.49, 44.85, 49.8 , 56.81, 65.21, 74.73, 80.95, 75.09, 69.36,\n",
       "        60.9 , 50.33, 47.4 ]])"
      ]
     },
     "execution_count": 151,
     "metadata": {},
     "output_type": "execute_result"
    }
   ],
   "source": [
    "# add your code here\n",
    "\n",
    "sorted_elev = np.argsort(station_elev)[::-1]\n",
    "# sorted_elev = np.flip(np.argsort(station_elev))\n",
    "t_mon[sorted_elev]"
   ]
  },
  {
   "attachments": {},
   "cell_type": "markdown",
   "id": "598d8c4f-31ab-450c-90c8-f790ba24150f",
   "metadata": {},
   "source": [
    "<div class=\"alert alert-info\"> \n",
    "\n",
    "## Exercise 10: Using np.where() with Mutliple Array Inputs\n",
    "\n",
    "Imagine you are working with gridded output from a land surface model (such as the [VIC model](https://vic.readthedocs.io/en/master/Overview/ModelOverview/)). You have the following data on the same grid:\n",
    "\n",
    "var name | units | description | shape | axes represent\n",
    "---|---|---|---|---\n",
    "landfrac | unitless | fraction of each grid cell that is land<br>(1. minus landfrac is grid cell water fraction) | (5,5) | latitude and longitude\n",
    "t2m | C | 2-meter air temperature | (5,5) | latitude and longitude\n",
    "\n",
    "<br>\n",
    "\n",
    "A) Create an array called ```landmask``` of zero's and one's from the array of land fractions below. In your ```landmask``` array, one's should represent grid cells that are mostly land (at least 50%) and zero's should represent grid cells that are mostly water. Print your results.\n",
    "\n",
    "</div>"
   ]
  },
  {
   "cell_type": "code",
   "execution_count": 157,
   "id": "e14bb2b5-e10f-45e8-a97e-b3a65c4568f1",
   "metadata": {},
   "outputs": [
    {
     "data": {
      "text/plain": [
       "array([[1, 1, 1, 1, 1],\n",
       "       [1, 1, 1, 1, 1],\n",
       "       [1, 1, 1, 1, 1],\n",
       "       [1, 0, 1, 1, 1],\n",
       "       [0, 0, 0, 0, 0]])"
      ]
     },
     "execution_count": 157,
     "metadata": {},
     "output_type": "execute_result"
    }
   ],
   "source": [
    "landfrac = np.array([[1.,.98,.97,1.,.96],\n",
    "                     [.92,.97,1.,.96,.98],\n",
    "                     [.88,.7,.82,.9,1.],\n",
    "                     [.6,.49,.5,.63,.8],\n",
    "                     [.12,0.,0.,.25,.3]])\n",
    "\n",
    "# add your code here\n",
    "landmask = np.where(landfrac>=.5,1,0)\n",
    "landmask"
   ]
  },
  {
   "cell_type": "markdown",
   "id": "25427a94-a176-4bb1-ae5d-3c8464c4a7d3",
   "metadata": {},
   "source": [
    "<div class=\"alert alert-info\"> \n",
    "\n",
    "B) Imagine you have a calculation that you want to execute differently based on whether each grid is mostly land or mostly water. Use ```np.where()``` to add 1 degree C to the array ```t2m``` for grids that are mostly water and add 3 degrees C for grids that are mostly land. Save your result as a new variable ```t2m_adj``` and print the result."
   ]
  },
  {
   "cell_type": "code",
   "execution_count": 158,
   "id": "14ecd626-9e2e-4f4d-a6bb-a88b0a20fcea",
   "metadata": {},
   "outputs": [
    {
     "data": {
      "text/plain": [
       "array([[29, 30, 31, 32, 33],\n",
       "       [29, 30, 31, 32, 33],\n",
       "       [29, 30, 31, 32, 33],\n",
       "       [29, 28, 31, 32, 33],\n",
       "       [27, 28, 29, 30, 31]])"
      ]
     },
     "execution_count": 158,
     "metadata": {},
     "output_type": "execute_result"
    }
   ],
   "source": [
    "t2m = np.array([[26,27,28,29,30],\n",
    "                [26,27,28,29,30],\n",
    "                [26,27,28,29,30],\n",
    "                [26,27,28,29,30],\n",
    "                [26,27,28,29,30]])\n",
    "\n",
    "# add your code here\n",
    "\n",
    "t2m_adj = np.where(landmask==1,t2m+3,t2m+1)\n",
    "t2m_adj"
   ]
  },
  {
   "cell_type": "markdown",
   "id": "041f580e-91e8-428c-aa04-96b0003f1742",
   "metadata": {},
   "source": [
    "<div class=\"alert alert-info\"> \n",
    "\n",
    "## Exercise 11: Practice Handling NaN\n",
    "\n",
    "You have the follow 2D array called ```data``` that should contain only float values ranging from -100 to +100. Execute the following data cleaning steps using techniques you've learned in this and previous sections.\n",
    "\n",
    "A) Programmatically count how many missing values (NaN) are present in the data.\n",
    "\n",
    "</div>"
   ]
  },
  {
   "cell_type": "code",
   "execution_count": 172,
   "id": "9f3afad5-1db8-41ba-a9e1-43826adf2ae3",
   "metadata": {},
   "outputs": [
    {
     "name": "stdout",
     "output_type": "stream",
     "text": [
      "1\n"
     ]
    }
   ],
   "source": [
    "data = np.array([[1.,2.,np.nan,4.,5.],\n",
    "                 [-9999.,-999.,3.5,10.7,99.9],\n",
    "                 [-99.9, np.inf, -60.2,-np.inf,83.3]], dtype=np.float32)\n",
    "\n",
    "# add your code here\n",
    "\n",
    "print(np.isnan(data).sum())"
   ]
  },
  {
   "cell_type": "markdown",
   "id": "7fc75e78-534f-4bd1-88ab-6f888111d5f3",
   "metadata": {},
   "source": [
    "<div class=\"alert alert-info\"> \n",
    "\n",
    "B) Programmatically count how many values in the data are non-finite (NaN and Inf).\n",
    "</div>"
   ]
  },
  {
   "cell_type": "code",
   "execution_count": 173,
   "id": "30cdf0a2-036a-4d09-ad6e-f1754146535c",
   "metadata": {},
   "outputs": [
    {
     "name": "stdout",
     "output_type": "stream",
     "text": [
      "3\n"
     ]
    }
   ],
   "source": [
    "# add your code here\n",
    "\n",
    "print((~np.isfinite(data)).sum())"
   ]
  },
  {
   "cell_type": "markdown",
   "id": "6abb1d80-b7ea-4242-a0d0-3a54aa61e556",
   "metadata": {},
   "source": [
    "<div class=\"alert alert-info\"> \n",
    "C) Programmatically count how many values are finite but not within the data range -100 to +100. Hint: this will require the use of multiple conditions.\n",
    "</div>"
   ]
  },
  {
   "cell_type": "code",
   "execution_count": 174,
   "id": "47697597-6836-4be9-8461-f1421e59203e",
   "metadata": {},
   "outputs": [
    {
     "name": "stdout",
     "output_type": "stream",
     "text": [
      "2\n",
      "2\n"
     ]
    }
   ],
   "source": [
    "# add your code here\n",
    "\n",
    "print(( (np.isfinite(data)) & ((data>100) | (data<-100)) ).sum())\n",
    "print(np.where( (np.isfinite(data)) & ((data>100) | (data<-100)), 1, 0).sum())"
   ]
  },
  {
   "cell_type": "markdown",
   "id": "4c5a6ade-c2f9-46d0-8bc1-72b6a6a46aa8",
   "metadata": {},
   "source": [
    "<div class=\"alert alert-info\"> \n",
    "D) Replace all data values that are not within the data range with the missing value ```np.nan```.\n",
    "</div>"
   ]
  },
  {
   "cell_type": "code",
   "execution_count": 175,
   "id": "ed5f76e3-8b86-467f-8a64-0d1b53218dcf",
   "metadata": {},
   "outputs": [
    {
     "data": {
      "text/plain": [
       "array([[  1. ,   2. ,   nan,   4. ,   5. ],\n",
       "       [  nan,   nan,   3.5,  10.7,  99.9],\n",
       "       [-99.9,   nan, -60.2,   nan,  83.3]], dtype=float32)"
      ]
     },
     "execution_count": 175,
     "metadata": {},
     "output_type": "execute_result"
    }
   ],
   "source": [
    "# add your code here\n",
    "\n",
    "data = np.where((data>100) | (data<-100), np.nan, data)\n",
    "data"
   ]
  },
  {
   "cell_type": "markdown",
   "id": "9dc8d7c6-9b01-48a7-af0c-16988608d911",
   "metadata": {},
   "source": [
    "<div class=\"alert alert-info\"> \n",
    "    \n",
    "E) Select only the finite values and save them to a new variable called ```data_clean```.\n",
    "</div>"
   ]
  },
  {
   "cell_type": "code",
   "execution_count": 176,
   "id": "12003e7f-cb95-4ab7-8e99-8dbd773d0ef0",
   "metadata": {},
   "outputs": [
    {
     "data": {
      "text/plain": [
       "array([  1. ,   2. ,   4. ,   5. ,   3.5,  10.7,  99.9, -99.9, -60.2,\n",
       "        83.3], dtype=float32)"
      ]
     },
     "execution_count": 176,
     "metadata": {},
     "output_type": "execute_result"
    }
   ],
   "source": [
    "# add your code here\n",
    "\n",
    "finite = np.where(np.isfinite(data))\n",
    "data_clean = data[finite]\n",
    "data_clean"
   ]
  },
  {
   "cell_type": "markdown",
   "id": "8db4d1c3-c892-472f-84d4-bdf8620e0dda",
   "metadata": {},
   "source": [
    "<div class=\"alert alert-info\"> \n",
    "    \n",
    "F) Fill all NaNs in the ```data``` array with zero.\n",
    "</div>"
   ]
  },
  {
   "cell_type": "code",
   "execution_count": 177,
   "id": "f4f10773-eef3-466a-a56b-7baebf3e19c1",
   "metadata": {},
   "outputs": [
    {
     "data": {
      "text/plain": [
       "array([[  1. ,   2. ,   0. ,   4. ,   5. ],\n",
       "       [  0. ,   0. ,   3.5,  10.7,  99.9],\n",
       "       [-99.9,   0. , -60.2,   0. ,  83.3]], dtype=float32)"
      ]
     },
     "execution_count": 177,
     "metadata": {},
     "output_type": "execute_result"
    }
   ],
   "source": [
    "# add your code here\n",
    "\n",
    "data = np.where(np.isnan(data), 0, data)\n",
    "data"
   ]
  },
  {
   "cell_type": "markdown",
   "id": "2a20cf22-0bc1-4b9a-827f-88f33de62338",
   "metadata": {},
   "source": [
    "<div class=\"alert alert-info\"> \n",
    "\n",
    "## Exercise 12: Read and Write NumPy's Native Data Format\n",
    "\n",
    "A) Create an array called ```arr``` with shape (100,100,100) of random numbers between 0 and 1. Write that array to a file called ```random_numbers.npy```.\n",
    "\n",
    "</div>"
   ]
  },
  {
   "cell_type": "code",
   "execution_count": 197,
   "id": "cee0ddf7-8dc8-4c90-80f4-8765d5bffeaa",
   "metadata": {},
   "outputs": [],
   "source": [
    "# add your code here\n",
    "\n",
    "rng = np.random.default_rng()\n",
    "arr = rng.random((100,100,100))\n",
    "np.save('random_numbers.npy',arr)"
   ]
  },
  {
   "cell_type": "markdown",
   "id": "4b4a6a74-ae49-4b2c-b024-f584884c3ea6",
   "metadata": {},
   "source": [
    "<div class=\"alert alert-info\"> \n",
    "\n",
    "B) Read the file you just wrote ```random_numbers.npy``` into an array called ```rand_arr```. Print the shape, min, and max values of ```rand_arr```.\n",
    "\n",
    "</div>"
   ]
  },
  {
   "cell_type": "code",
   "execution_count": 198,
   "id": "bb4f2aba-fe2d-45f6-920f-580c023cb7b3",
   "metadata": {},
   "outputs": [
    {
     "name": "stdout",
     "output_type": "stream",
     "text": [
      "(100, 100, 100)\n",
      "2.6597487591262237e-06\n",
      "0.9999998520108317\n"
     ]
    }
   ],
   "source": [
    "# add your code here\n",
    "\n",
    "rand_arr = np.load('random_numbers.npy')\n",
    "print(rand_arr.shape)\n",
    "print(rand_arr.min())\n",
    "print(rand_arr.max())"
   ]
  },
  {
   "cell_type": "markdown",
   "id": "442e70f9-8aec-4d26-8c38-a9bca4259c0c",
   "metadata": {},
   "source": [
    "<div class=\"alert alert-info\"> \n",
    "\n",
    "## Exercise 13: Join and Reshape Data from Multiple Files\n",
    "\n",
    "There are 30 files named like ```data/pretend/landcover/landcover_yyyy.csv``` for the years 1995 through 2023 containing annual landcover data. Each file contains data for a single year with 10 rows (representing latitudes) and 20 columns (representing longitudes). \n",
    "\n",
    "A) Read these files into a 3D array called ```landcover``` with data type int32 and dimensions that represent (time, latitude, longitude) . You'll need to use the glob package, append a list with an array of the contents of each file, and then use the appropriate NumPy function to join your list of arrays together. Print your 3D array shape and data type.  \n",
    "\n",
    "</div>"
   ]
  },
  {
   "cell_type": "code",
   "execution_count": 211,
   "id": "36c7aa8b-4f8c-492a-a6b2-9f690e4e9ffb",
   "metadata": {},
   "outputs": [
    {
     "name": "stdout",
     "output_type": "stream",
     "text": [
      "(30, 10, 20)\n",
      "int32\n"
     ]
    }
   ],
   "source": [
    "# add your code here\n",
    "\n",
    "file_list = glob.glob('data/pretend/landcover/landcover_*.csv')\n",
    "\n",
    "array_list = []\n",
    "for f in file_list:\n",
    "    array_list.append(np.loadtxt(f,delimiter=',', dtype='int32'))\n",
    "\n",
    "landcover = np.stack(array_list, axis=0)\n",
    "\n",
    "print(landcover.shape)\n",
    "print(landcover.dtype)"
   ]
  },
  {
   "cell_type": "markdown",
   "id": "5d4fadfc-b50c-4de7-8c1f-fd7a2d6604ab",
   "metadata": {},
   "source": [
    "<div class=\"alert alert-info\"> \n",
    "\n",
    "B) Reshape your 3D array with dimensions representing (time, latitude, longitude) to a 2D array called ```landcover_2d``` with dimensions representing (time, space). Print the shape of ```landcover_2d```.\n",
    "\n",
    "</div>"
   ]
  },
  {
   "cell_type": "code",
   "execution_count": 212,
   "id": "14ed064a-d684-4d45-b4cd-dea0c83f018d",
   "metadata": {},
   "outputs": [
    {
     "data": {
      "text/plain": [
       "(30, 200)"
      ]
     },
     "execution_count": 212,
     "metadata": {},
     "output_type": "execute_result"
    }
   ],
   "source": [
    "# add your code here\n",
    "\n",
    "landcover_2d = np.reshape(landcover,(30,-1))\n",
    "landcover_2d.shape"
   ]
  },
  {
   "cell_type": "code",
   "execution_count": null,
   "id": "ce94c6d6-3748-4be2-8210-2ca6ddc6012a",
   "metadata": {},
   "outputs": [],
   "source": []
  }
 ],
 "metadata": {
  "kernelspec": {
   "display_name": "Python [conda env:rgmg_test2] *",
   "language": "python",
   "name": "conda-env-rgmg_test2-py"
  },
  "language_info": {
   "codemirror_mode": {
    "name": "ipython",
    "version": 3
   },
   "file_extension": ".py",
   "mimetype": "text/x-python",
   "name": "python",
   "nbconvert_exporter": "python",
   "pygments_lexer": "ipython3",
   "version": "3.13.0"
  }
 },
 "nbformat": 4,
 "nbformat_minor": 5
}
