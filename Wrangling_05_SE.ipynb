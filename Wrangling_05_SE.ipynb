{
 "cells": [
  {
   "cell_type": "markdown",
   "metadata": {
    "id": "K3dcd7EhhvNI"
   },
   "source": [
    "MSU-USDA Python Workshop\n",
    "\n",
    "# Python for Data Science: Geographical Data\n",
    "\n",
    "# Geographical Data\n",
    "\n",
    "Being able to work with data that has a geographical component is an extremely important skill. GIS software is very common, but you can use also Python and a version of pandas called \"Geopandas\" to do analysis in which you align tabular data with geographical data.\n",
    "\n",
    "Where Pandas has \"Data Frames,\" geopandas has \"Geographical Data Frames\" that add one or more geometry columns or geoseries.\n",
    "\n",
    "<img src=\"https://geopandas.org/en/stable/_images/dataframe.svg\"></img>\n",
    "\n",
    "So, if you're using GeoPandas, you'll usually have a normal pandas dataframe (dataframes are collections of pandas series) and you'll have one or more GeoPandas geoseries columns. \n",
    "\n",
    "The Geopandas site is here: https://geopandas.org/en/stable/\n",
    "\n",
    "# I. Importing Libraries\n",
    "\n",
    "First, let's import the libraries needed."
   ]
  },
  {
   "cell_type": "code",
   "execution_count": 1,
   "metadata": {},
   "outputs": [],
   "source": [
    "# Import the necessary libraries for Data Wrangling\n",
    "import pandas as pd\n",
    "import numpy as np\n",
    "\n",
    "# Matplot Lib is for drawing plots, graphs, etc. and Seaborn is another package\n",
    "# that makes matplotlib easier to use and create more attractive graphics\n",
    "import matplotlib.pyplot as plt \n",
    "import matplotlib.image as mpimg \n",
    "import seaborn as sns \n",
    "\n",
    "# Import geopandas\n",
    "import geopandas as gpd\n"
   ]
  },
  {
   "cell_type": "markdown",
   "metadata": {
    "id": "K3dcd7EhhvNI"
   },
   "source": [
    "# II. Loading a ShapeFile\n",
    "\n",
    "Most of the time you'll probably start a geo-analysis with some kind of shapefile. Three components are mandatory: \n",
    "- a main file that contains the feature geometry (.shp),\n",
    "- an index file that stores the index of the feature geometry (.shx), and\n",
    "- a dBASE table (.dbf) that stores the attribute information of features.\n",
    "\n",
    "This lab will use data from the [Mississippi Automated Resource Information System (MARIS)](https://maris.mississippi.edu/HTML/Data.html) website that contains shapefiles for many things.\n",
    "\n",
    "Other states in the US have great geoportals too. Take [California's site](https://gis.data.ca.gov/), for example: \n",
    "\n",
    "Let's load the Mississippi congressional district shapefile. "
   ]
  },
  {
   "cell_type": "code",
   "execution_count": 2,
   "metadata": {},
   "outputs": [
    {
     "name": "stderr",
     "output_type": "stream",
     "text": [
      "C:\\Users\\kerrie\\anaconda3\\envs\\pyworkshop\\Lib\\site-packages\\pyogrio\\core.py:26: RuntimeWarning: Could not detect GDAL data files.  Set GDAL_DATA environment variable to the correct path.\n",
      "  _init_gdal_data()\n"
     ]
    },
    {
     "data": {
      "text/plain": [
       "(4, 23)"
      ]
     },
     "execution_count": 2,
     "metadata": {},
     "output_type": "execute_result"
    }
   ],
   "source": [
    "# load the file\n",
    "msCongress = gpd.read_file(\"data/MS_CongressionalDistricts_2022/MS_CongressionalDistricts_2022.shp\")\n",
    "\n",
    "# check it out just like you would with pandas\n",
    "msCongress.shape"
   ]
  },
  {
   "cell_type": "markdown",
   "metadata": {},
   "source": [
    "Notice that there are 4 rows. Mississippi has four congressional districts, so that makes sense.\n",
    "\n",
    "Let's look at the data."
   ]
  },
  {
   "cell_type": "code",
   "execution_count": 3,
   "metadata": {},
   "outputs": [
    {
     "data": {
      "text/html": [
       "<div>\n",
       "<style scoped>\n",
       "    .dataframe tbody tr th:only-of-type {\n",
       "        vertical-align: middle;\n",
       "    }\n",
       "\n",
       "    .dataframe tbody tr th {\n",
       "        vertical-align: top;\n",
       "    }\n",
       "\n",
       "    .dataframe thead th {\n",
       "        text-align: right;\n",
       "    }\n",
       "</style>\n",
       "<table border=\"1\" class=\"dataframe\">\n",
       "  <thead>\n",
       "    <tr style=\"text-align: right;\">\n",
       "      <th></th>\n",
       "      <th>ID</th>\n",
       "      <th>AREA</th>\n",
       "      <th>DISTRICT</th>\n",
       "      <th>MEMBERS</th>\n",
       "      <th>LOCKED</th>\n",
       "      <th>NAME</th>\n",
       "      <th>POPULATION</th>\n",
       "      <th>WHITE</th>\n",
       "      <th>BLACK</th>\n",
       "      <th>F18_POP</th>\n",
       "      <th>...</th>\n",
       "      <th>DEVIATION</th>\n",
       "      <th>F_DEVIATIO</th>\n",
       "      <th>F_WHITE</th>\n",
       "      <th>F_BLACK</th>\n",
       "      <th>F_18_POP</th>\n",
       "      <th>F_18_WHT</th>\n",
       "      <th>F_18_BLK</th>\n",
       "      <th>MULTIPLE_F</th>\n",
       "      <th>DISTRICT_L</th>\n",
       "      <th>geometry</th>\n",
       "    </tr>\n",
       "  </thead>\n",
       "  <tbody>\n",
       "    <tr>\n",
       "      <th>0</th>\n",
       "      <td>1</td>\n",
       "      <td>10096.88</td>\n",
       "      <td>2801</td>\n",
       "      <td>1.0</td>\n",
       "      <td>None</td>\n",
       "      <td>Trent Kelly</td>\n",
       "      <td>740319</td>\n",
       "      <td>483849</td>\n",
       "      <td>202327</td>\n",
       "      <td>570086</td>\n",
       "      <td>...</td>\n",
       "      <td>-1.0</td>\n",
       "      <td>-0.0</td>\n",
       "      <td>0.6536</td>\n",
       "      <td>0.2733</td>\n",
       "      <td>0.7701</td>\n",
       "      <td>0.6751</td>\n",
       "      <td>0.2632</td>\n",
       "      <td>2801|740319|26.32%</td>\n",
       "      <td>2801|-0%</td>\n",
       "      <td>POLYGON ((634634.996 1388344.465, 634617.019 1...</td>\n",
       "    </tr>\n",
       "    <tr>\n",
       "      <th>1</th>\n",
       "      <td>2</td>\n",
       "      <td>18413.48</td>\n",
       "      <td>2802</td>\n",
       "      <td>1.0</td>\n",
       "      <td>None</td>\n",
       "      <td>Bennie Thompson</td>\n",
       "      <td>740319</td>\n",
       "      <td>238483</td>\n",
       "      <td>468074</td>\n",
       "      <td>571715</td>\n",
       "      <td>...</td>\n",
       "      <td>-1.0</td>\n",
       "      <td>-0.0</td>\n",
       "      <td>0.3221</td>\n",
       "      <td>0.6323</td>\n",
       "      <td>0.7723</td>\n",
       "      <td>0.3482</td>\n",
       "      <td>0.6105</td>\n",
       "      <td>2802|740319|61.05%</td>\n",
       "      <td>2802|-0%</td>\n",
       "      <td>POLYGON ((472223.111 1307531.387, 472198.844 1...</td>\n",
       "    </tr>\n",
       "    <tr>\n",
       "      <th>2</th>\n",
       "      <td>3</td>\n",
       "      <td>11830.83</td>\n",
       "      <td>2803</td>\n",
       "      <td>1.0</td>\n",
       "      <td>None</td>\n",
       "      <td>Michael Guest</td>\n",
       "      <td>740320</td>\n",
       "      <td>442249</td>\n",
       "      <td>244759</td>\n",
       "      <td>568068</td>\n",
       "      <td>...</td>\n",
       "      <td>0.0</td>\n",
       "      <td>0.0</td>\n",
       "      <td>0.5974</td>\n",
       "      <td>0.3306</td>\n",
       "      <td>0.7673</td>\n",
       "      <td>0.6202</td>\n",
       "      <td>0.3179</td>\n",
       "      <td>2803|740320|31.79%</td>\n",
       "      <td>2803|0%</td>\n",
       "      <td>POLYGON ((434276.811 1308397.064, 434276.86 13...</td>\n",
       "    </tr>\n",
       "    <tr>\n",
       "      <th>3</th>\n",
       "      <td>4</td>\n",
       "      <td>8121.62</td>\n",
       "      <td>2804</td>\n",
       "      <td>1.0</td>\n",
       "      <td>None</td>\n",
       "      <td>Steven Palazzo</td>\n",
       "      <td>740321</td>\n",
       "      <td>494312</td>\n",
       "      <td>169321</td>\n",
       "      <td>567730</td>\n",
       "      <td>...</td>\n",
       "      <td>1.0</td>\n",
       "      <td>0.0</td>\n",
       "      <td>0.6677</td>\n",
       "      <td>0.2287</td>\n",
       "      <td>0.7669</td>\n",
       "      <td>0.6914</td>\n",
       "      <td>0.2171</td>\n",
       "      <td>2804|740321|21.71%</td>\n",
       "      <td>2804|0%</td>\n",
       "      <td>POLYGON ((502089.331 1133959.147, 502189.018 1...</td>\n",
       "    </tr>\n",
       "  </tbody>\n",
       "</table>\n",
       "<p>4 rows × 23 columns</p>\n",
       "</div>"
      ],
      "text/plain": [
       "   ID      AREA DISTRICT  MEMBERS LOCKED             NAME  POPULATION   WHITE  \\\n",
       "0   1  10096.88     2801      1.0   None      Trent Kelly      740319  483849   \n",
       "1   2  18413.48     2802      1.0   None  Bennie Thompson      740319  238483   \n",
       "2   3  11830.83     2803      1.0   None    Michael Guest      740320  442249   \n",
       "3   4   8121.62     2804      1.0   None   Steven Palazzo      740321  494312   \n",
       "\n",
       "    BLACK  F18_POP  ...  DEVIATION  F_DEVIATIO  F_WHITE  F_BLACK  F_18_POP  \\\n",
       "0  202327   570086  ...       -1.0        -0.0   0.6536   0.2733    0.7701   \n",
       "1  468074   571715  ...       -1.0        -0.0   0.3221   0.6323    0.7723   \n",
       "2  244759   568068  ...        0.0         0.0   0.5974   0.3306    0.7673   \n",
       "3  169321   567730  ...        1.0         0.0   0.6677   0.2287    0.7669   \n",
       "\n",
       "   F_18_WHT  F_18_BLK          MULTIPLE_F  DISTRICT_L  \\\n",
       "0    0.6751    0.2632  2801|740319|26.32%    2801|-0%   \n",
       "1    0.3482    0.6105  2802|740319|61.05%    2802|-0%   \n",
       "2    0.6202    0.3179  2803|740320|31.79%     2803|0%   \n",
       "3    0.6914    0.2171  2804|740321|21.71%     2804|0%   \n",
       "\n",
       "                                            geometry  \n",
       "0  POLYGON ((634634.996 1388344.465, 634617.019 1...  \n",
       "1  POLYGON ((472223.111 1307531.387, 472198.844 1...  \n",
       "2  POLYGON ((434276.811 1308397.064, 434276.86 13...  \n",
       "3  POLYGON ((502089.331 1133959.147, 502189.018 1...  \n",
       "\n",
       "[4 rows x 23 columns]"
      ]
     },
     "execution_count": 3,
     "metadata": {},
     "output_type": "execute_result"
    }
   ],
   "source": [
    "msCongress.head(4)"
   ]
  },
  {
   "cell_type": "markdown",
   "metadata": {},
   "source": [
    "Each row is a different congressional district and you can see normal tabular data such as the name of the congressional representative on each row. \n",
    "\n",
    "Scroll to the right and check out the \"geometry\" column. It contains a polygon defined by as many points as it takes to describe the shape of the district. Since there was just one geometry column, geopandas made that one the \"active geometry column.\" You can have more than one column that contains geometry, but only one active at a time. That list of points looks weird and it doesn't look like latitude and longitude. That's because it is using a state projection system.\n",
    "\n",
    "# III. Projections\n",
    "\n",
    "Every map has a projection; it's how we take something on a spherical earth and flatten it out. Let's see which projection our data from MARIS uses:"
   ]
  },
  {
   "cell_type": "code",
   "execution_count": 4,
   "metadata": {},
   "outputs": [
    {
     "data": {
      "text/plain": [
       "<Projected CRS: EPSG:3814>\n",
       "Name: NAD83 / Mississippi TM\n",
       "Axis Info [cartesian]:\n",
       "- X[east]: Easting (metre)\n",
       "- Y[north]: Northing (metre)\n",
       "Area of Use:\n",
       "- name: United States (USA) - Mississippi.\n",
       "- bounds: (-91.65, 30.01, -88.09, 35.01)\n",
       "Coordinate Operation:\n",
       "- name: Mississippi Transverse Mercator\n",
       "- method: Transverse Mercator\n",
       "Datum: North American Datum 1983\n",
       "- Ellipsoid: GRS 1980\n",
       "- Prime Meridian: Greenwich"
      ]
     },
     "execution_count": 4,
     "metadata": {},
     "output_type": "execute_result"
    }
   ],
   "source": [
    "# .crs for 'coordinate reference system'\n",
    "msCongress.crs"
   ]
  },
  {
   "cell_type": "markdown",
   "metadata": {},
   "source": [
    "Notice that it's called EPSG:3814 (first line).\n",
    "\n",
    "The Coordinate Reference System (CRS) tells GeoPandas where the coordinates of the geometries are located on the earth’s surface. In some cases, the CRS is geographic, which means that the coordinates are in latitude and longitude.\n",
    "\n",
    "NAD83 (second line) is the national reference system used for georeferencing by most federal and provincial/state agencies in Canada and the U.S. \n",
    "\n",
    "A more common one you'll experience in other data is WGS84 - the default \"native\" system used by the Global Positioning System (GPS) and commercial GPS receivers.\n",
    "\n",
    "Finally, a very important thing, is that the projection uses meters for distance (Axis Info).\n",
    "\n",
    "# IV. Visualizing the Plot\n",
    "\n",
    "Let's visualize the districts and color code them by that \"AREA\" column."
   ]
  },
  {
   "cell_type": "code",
   "execution_count": 5,
   "metadata": {},
   "outputs": [
    {
     "data": {
      "text/plain": [
       "<Axes: >"
      ]
     },
     "execution_count": 5,
     "metadata": {},
     "output_type": "execute_result"
    },
    {
     "data": {
      "image/png": "[encoded data removed]",
      "text/plain": [
       "<Figure size 640x480 with 2 Axes>"
      ]
     },
     "metadata": {},
     "output_type": "display_data"
    }
   ],
   "source": [
    "msCongress.plot(\"AREA\", legend=True)"
   ]
  },
  {
   "cell_type": "markdown",
   "metadata": {},
   "source": [
    "Hey, that looks just like Mississsippi. We just have loaded the correct file and everything geographical is in square meters and it uses the state reference system.\n",
    "\n",
    "We could change the coordinate reference system to the more common one used by GPS (4326)."
   ]
  },
  {
   "cell_type": "code",
   "execution_count": 6,
   "metadata": {},
   "outputs": [
    {
     "data": {
      "text/plain": [
       "<Axes: >"
      ]
     },
     "execution_count": 6,
     "metadata": {},
     "output_type": "execute_result"
    },
    {
     "data": {
      "image/png": "[encoded data removed]",
      "text/plain": [
       "<Figure size 640x480 with 2 Axes>"
      ]
     },
     "metadata": {},
     "output_type": "display_data"
    }
   ],
   "source": [
    "# convert the CRS\n",
    "msCongress = msCongress.to_crs(\"EPSG:4326\")\n",
    "\n",
    "# show it again\n",
    "msCongress.plot(\"AREA\", legend=True)"
   ]
  },
  {
   "cell_type": "code",
   "execution_count": 7,
   "metadata": {},
   "outputs": [
    {
     "data": {
      "text/plain": [
       "<Geographic 2D CRS: EPSG:4326>\n",
       "Name: WGS 84\n",
       "Axis Info [ellipsoidal]:\n",
       "- Lat[north]: Geodetic latitude (degree)\n",
       "- Lon[east]: Geodetic longitude (degree)\n",
       "Area of Use:\n",
       "- name: World.\n",
       "- bounds: (-180.0, -90.0, 180.0, 90.0)\n",
       "Datum: World Geodetic System 1984 ensemble\n",
       "- Ellipsoid: WGS 84\n",
       "- Prime Meridian: Greenwich"
      ]
     },
     "execution_count": 7,
     "metadata": {},
     "output_type": "execute_result"
    }
   ],
   "source": [
    "# what does the CRS look like?\n",
    "msCongress.crs"
   ]
  },
  {
   "cell_type": "markdown",
   "metadata": {},
   "source": [
    "Notice that the Axis info is in degrees now, not meters. We went from rectangular to polar coordinates, essentially."
   ]
  },
  {
   "cell_type": "code",
   "execution_count": 8,
   "metadata": {},
   "outputs": [
    {
     "data": {
      "text/html": [
       "<div>\n",
       "<style scoped>\n",
       "    .dataframe tbody tr th:only-of-type {\n",
       "        vertical-align: middle;\n",
       "    }\n",
       "\n",
       "    .dataframe tbody tr th {\n",
       "        vertical-align: top;\n",
       "    }\n",
       "\n",
       "    .dataframe thead th {\n",
       "        text-align: right;\n",
       "    }\n",
       "</style>\n",
       "<table border=\"1\" class=\"dataframe\">\n",
       "  <thead>\n",
       "    <tr style=\"text-align: right;\">\n",
       "      <th></th>\n",
       "      <th>ID</th>\n",
       "      <th>AREA</th>\n",
       "      <th>DISTRICT</th>\n",
       "      <th>MEMBERS</th>\n",
       "      <th>LOCKED</th>\n",
       "      <th>NAME</th>\n",
       "      <th>POPULATION</th>\n",
       "      <th>WHITE</th>\n",
       "      <th>BLACK</th>\n",
       "      <th>F18_POP</th>\n",
       "      <th>...</th>\n",
       "      <th>DEVIATION</th>\n",
       "      <th>F_DEVIATIO</th>\n",
       "      <th>F_WHITE</th>\n",
       "      <th>F_BLACK</th>\n",
       "      <th>F_18_POP</th>\n",
       "      <th>F_18_WHT</th>\n",
       "      <th>F_18_BLK</th>\n",
       "      <th>MULTIPLE_F</th>\n",
       "      <th>DISTRICT_L</th>\n",
       "      <th>geometry</th>\n",
       "    </tr>\n",
       "  </thead>\n",
       "  <tbody>\n",
       "    <tr>\n",
       "      <th>0</th>\n",
       "      <td>1</td>\n",
       "      <td>10096.88</td>\n",
       "      <td>2801</td>\n",
       "      <td>1.0</td>\n",
       "      <td>None</td>\n",
       "      <td>Trent Kelly</td>\n",
       "      <td>740319</td>\n",
       "      <td>483849</td>\n",
       "      <td>202327</td>\n",
       "      <td>570086</td>\n",
       "      <td>...</td>\n",
       "      <td>-1.0</td>\n",
       "      <td>-0.0</td>\n",
       "      <td>0.6536</td>\n",
       "      <td>0.2733</td>\n",
       "      <td>0.7701</td>\n",
       "      <td>0.6751</td>\n",
       "      <td>0.2632</td>\n",
       "      <td>2801|740319|26.32%</td>\n",
       "      <td>2801|-0%</td>\n",
       "      <td>POLYGON ((-88.30443 33.28832, -88.30463 33.288...</td>\n",
       "    </tr>\n",
       "    <tr>\n",
       "      <th>1</th>\n",
       "      <td>2</td>\n",
       "      <td>18413.48</td>\n",
       "      <td>2802</td>\n",
       "      <td>1.0</td>\n",
       "      <td>None</td>\n",
       "      <td>Bennie Thompson</td>\n",
       "      <td>740319</td>\n",
       "      <td>238483</td>\n",
       "      <td>468074</td>\n",
       "      <td>571715</td>\n",
       "      <td>...</td>\n",
       "      <td>-1.0</td>\n",
       "      <td>-0.0</td>\n",
       "      <td>0.3221</td>\n",
       "      <td>0.6323</td>\n",
       "      <td>0.7723</td>\n",
       "      <td>0.3482</td>\n",
       "      <td>0.6105</td>\n",
       "      <td>2802|740319|61.05%</td>\n",
       "      <td>2802|-0%</td>\n",
       "      <td>POLYGON ((-90.04584 32.56758, -90.0461 32.5680...</td>\n",
       "    </tr>\n",
       "    <tr>\n",
       "      <th>2</th>\n",
       "      <td>3</td>\n",
       "      <td>11830.83</td>\n",
       "      <td>2803</td>\n",
       "      <td>1.0</td>\n",
       "      <td>None</td>\n",
       "      <td>Michael Guest</td>\n",
       "      <td>740320</td>\n",
       "      <td>442249</td>\n",
       "      <td>244759</td>\n",
       "      <td>568068</td>\n",
       "      <td>...</td>\n",
       "      <td>0.0</td>\n",
       "      <td>0.0</td>\n",
       "      <td>0.5974</td>\n",
       "      <td>0.3306</td>\n",
       "      <td>0.7673</td>\n",
       "      <td>0.6202</td>\n",
       "      <td>0.3179</td>\n",
       "      <td>2803|740320|31.79%</td>\n",
       "      <td>2803|0%</td>\n",
       "      <td>POLYGON ((-90.45004 32.57378, -90.45004 32.573...</td>\n",
       "    </tr>\n",
       "    <tr>\n",
       "      <th>3</th>\n",
       "      <td>4</td>\n",
       "      <td>8121.62</td>\n",
       "      <td>2804</td>\n",
       "      <td>1.0</td>\n",
       "      <td>None</td>\n",
       "      <td>Steven Palazzo</td>\n",
       "      <td>740321</td>\n",
       "      <td>494312</td>\n",
       "      <td>169321</td>\n",
       "      <td>567730</td>\n",
       "      <td>...</td>\n",
       "      <td>1.0</td>\n",
       "      <td>0.0</td>\n",
       "      <td>0.6677</td>\n",
       "      <td>0.2287</td>\n",
       "      <td>0.7669</td>\n",
       "      <td>0.6914</td>\n",
       "      <td>0.2171</td>\n",
       "      <td>2804|740321|21.71%</td>\n",
       "      <td>2804|0%</td>\n",
       "      <td>POLYGON ((-89.72812 31.0023, -89.72708 31.0023...</td>\n",
       "    </tr>\n",
       "  </tbody>\n",
       "</table>\n",
       "<p>4 rows × 23 columns</p>\n",
       "</div>"
      ],
      "text/plain": [
       "   ID      AREA DISTRICT  MEMBERS LOCKED             NAME  POPULATION   WHITE  \\\n",
       "0   1  10096.88     2801      1.0   None      Trent Kelly      740319  483849   \n",
       "1   2  18413.48     2802      1.0   None  Bennie Thompson      740319  238483   \n",
       "2   3  11830.83     2803      1.0   None    Michael Guest      740320  442249   \n",
       "3   4   8121.62     2804      1.0   None   Steven Palazzo      740321  494312   \n",
       "\n",
       "    BLACK  F18_POP  ...  DEVIATION  F_DEVIATIO  F_WHITE  F_BLACK  F_18_POP  \\\n",
       "0  202327   570086  ...       -1.0        -0.0   0.6536   0.2733    0.7701   \n",
       "1  468074   571715  ...       -1.0        -0.0   0.3221   0.6323    0.7723   \n",
       "2  244759   568068  ...        0.0         0.0   0.5974   0.3306    0.7673   \n",
       "3  169321   567730  ...        1.0         0.0   0.6677   0.2287    0.7669   \n",
       "\n",
       "   F_18_WHT  F_18_BLK          MULTIPLE_F  DISTRICT_L  \\\n",
       "0    0.6751    0.2632  2801|740319|26.32%    2801|-0%   \n",
       "1    0.3482    0.6105  2802|740319|61.05%    2802|-0%   \n",
       "2    0.6202    0.3179  2803|740320|31.79%     2803|0%   \n",
       "3    0.6914    0.2171  2804|740321|21.71%     2804|0%   \n",
       "\n",
       "                                            geometry  \n",
       "0  POLYGON ((-88.30443 33.28832, -88.30463 33.288...  \n",
       "1  POLYGON ((-90.04584 32.56758, -90.0461 32.5680...  \n",
       "2  POLYGON ((-90.45004 32.57378, -90.45004 32.573...  \n",
       "3  POLYGON ((-89.72812 31.0023, -89.72708 31.0023...  \n",
       "\n",
       "[4 rows x 23 columns]"
      ]
     },
     "execution_count": 8,
     "metadata": {},
     "output_type": "execute_result"
    }
   ],
   "source": [
    "# Let's see the data\n",
    "msCongress"
   ]
  },
  {
   "cell_type": "markdown",
   "metadata": {},
   "source": [
    "That geometry column is looking much more like we'd expect - a set of latitude/longitude pairs for the points."
   ]
  },
  {
   "cell_type": "markdown",
   "metadata": {},
   "source": [
    "# V. Calculating Area\n",
    "\n",
    "Geopandas makes it easy to find the area of any geometry. \n",
    "\n",
    "What's the area of each district? Let's pretend there wasn't already an \"AREA\" column and see how easy it is to calculate it. We can add a column that contains it.\n",
    "\n",
    "GeoDataFrame.area is just GeoSeries.area applied to the active geometry column."
   ]
  },
  {
   "cell_type": "code",
   "execution_count": null,
   "metadata": {},
   "outputs": [],
   "source": [
    "msCongress[\"calculatedArea\"] = msCongress.area\n"
   ]
  },
  {
   "cell_type": "markdown",
   "metadata": {},
   "source": [
    "Oh wow, we got our first projection warning. Right now we're still in EPSG:4326 which is all about geography and mapping. We need to convert back to the coordinate system using rectangular coordinates (in meters, not degrees) before we can get accurate estimates of area."
   ]
  },
  {
   "cell_type": "code",
   "execution_count": null,
   "metadata": {},
   "outputs": [],
   "source": [
    "# convert back\n",
    "msCongress = msCongress.to_crs(\"EPSG:3814\")\n",
    "\n",
    "# now we can try to calculate area again\n",
    "msCongress[\"calculatedArea\"] = msCongress.area\n",
    "\n",
    "msCongress"
   ]
  },
  {
   "cell_type": "markdown",
   "metadata": {},
   "source": [
    "Nice! No errors or warnings.\n",
    "\n",
    "Do you see our new column, \"calculatedArea\"? Geopandas uses this projection's units (meters) for area and distance. The existing database had an informational column called AREA with a different number. Can you figure out what units it uses?\n",
    "\n",
    "I think it uses square miles, even though the data dictionary says this is supposed to be square kilometers.\n",
    "\n",
    "### Exercise 1: Units and Interpreting the Data\n",
    "\n",
    "Answer the following questions; you won't need python for this:"
   ]
  },
  {
   "cell_type": "code",
   "execution_count": null,
   "metadata": {},
   "outputs": [],
   "source": [
    "# a. What units are used by the file we downloaded from MARIS \n",
    "# for the area of each congressional district?\n",
    "# Put Answer Here: \n",
    "\n",
    "# b. Which member of congress serves the largest geographical district?\n",
    "# Put Answer Here: \n",
    "\n",
    "# c. Do a google search and figure out why geopandas gave us that warning \n",
    "# \"Geometry is in a geographic CRS. Results from 'area' are likely incorrect.\"\n",
    "# Why does it make a difference?\n",
    "# Put Answer Here: "
   ]
  },
  {
   "cell_type": "markdown",
   "metadata": {},
   "source": [
    "# VI. Centroids\n",
    "\n",
    "A \"centroid\" is the point at the center of a geometric shape. Very often if you're dealing with geographical data you need a point to define so you can calculate distances relative to it. For example, the centroid of county is a good way to figure out how central some other point is relative to it.\n",
    "\n",
    "Let's add a column with the centroid of each district.\n"
   ]
  },
  {
   "cell_type": "code",
   "execution_count": null,
   "metadata": {},
   "outputs": [],
   "source": [
    "# add centroid column\n",
    "msCongress['centroid'] = msCongress.centroid\n",
    "\n",
    "# let's view two columns - our district number and its centroid\n",
    "#\n",
    "# look at this cool loc syntax\n",
    "# we're saying give me all the rows min:max, if just \":\" it means everything.\n",
    "# if we had put 1:3 it would be the range of rows from 1 to 3\n",
    "# and then we said, just give us the two columns ID and distance.\n",
    "msCongress.loc[:, ['ID', 'centroid']]\n"
   ]
  },
  {
   "cell_type": "markdown",
   "metadata": {},
   "source": [
    "So, the Mississippi 2nd district has a centroid at point 434797.571, 1348954.177.\n",
    "\n",
    "# VII. Calculating Distance\n",
    "\n",
    "For each district, let's figure out how far its centroid is from the centroid of District 1.\n"
   ]
  },
  {
   "cell_type": "code",
   "execution_count": null,
   "metadata": {},
   "outputs": [],
   "source": [
    "# get the centroid point where index is 0\n",
    "centroidOfDistrict1 =  msCongress['centroid'].iloc[0]\n",
    "\n",
    "# add a column that, for each row, contains distance between that\n",
    "# row's centroid and the centroid of the first district.\n",
    "msCongress['distance'] = msCongress['centroid'].distance(centroidOfDistrict1)\n",
    "\n",
    "# show the district ID and our distance column\n",
    "msCongress.loc[:, ['ID', 'distance']]"
   ]
  },
  {
   "cell_type": "markdown",
   "metadata": {},
   "source": [
    "Perfect - we can see that the distance between district one's centroid and itself is 0. That makes sense.\n",
    "\n",
    "The center of MS four (ID=4) is the farthest from MS one (ID=1)."
   ]
  },
  {
   "cell_type": "markdown",
   "metadata": {},
   "source": [
    "# VIII. Showing Boundaries\n",
    "\n",
    "Let's calculate the boundary of each district. A boundary is a line, unlike a polygon which is a shape. Boundaries don't even have to connect to form a continuous loop.\n"
   ]
  },
  {
   "cell_type": "code",
   "execution_count": null,
   "metadata": {},
   "outputs": [],
   "source": [
    "msCongress['boundary'] = msCongress.boundary\n",
    "\n",
    "msCongress"
   ]
  },
  {
   "cell_type": "markdown",
   "metadata": {},
   "source": [
    "The boundary is saved as a \"line string\" and now our geodata frame has two geometry columns. The difference between a line string and the polygon of the original geometry column is that line strings may or may not connect to form an enclosed area. In this case they are equivalent since our line represents the county's polygon.\n",
    "\n",
    "# IX. Different Geometries\n",
    "\n",
    "What if we just want to plot the centroids? We need to tell geopandas which column to use for geometry."
   ]
  },
  {
   "cell_type": "code",
   "execution_count": null,
   "metadata": {},
   "outputs": [],
   "source": [
    "msCongress = msCongress.set_geometry(\"centroid\")\n",
    "msCongress.plot(\"AREA\", legend=True)"
   ]
  },
  {
   "cell_type": "markdown",
   "metadata": {},
   "source": [
    "We could also plot two geometries together. For example, the centroid and the shapes. In this case the shapes of the districts will be an \"axis\" for the points."
   ]
  },
  {
   "cell_type": "code",
   "execution_count": null,
   "metadata": {},
   "outputs": [],
   "source": [
    "shapes = msCongress[\"geometry\"].plot(figsize=(10, 10))\n",
    "\n",
    "msCongress[\"centroid\"].plot(ax=shapes, color=\"black\", figsize=(10, 10))\n"
   ]
  },
  {
   "cell_type": "markdown",
   "metadata": {},
   "source": [
    "# X. Creating a Buffer Geometry\n",
    "\n",
    "How about we buffer our centroids so that they extend out 10,000 meters in all directions? Maybe we are trying to figure out a fuzzy boundary where we want the policians in each district to overlap in their concerns. But a more realistic scenario would be to figure out what businesses are within a certain distance from a river, so you can build a buffer."
   ]
  },
  {
   "cell_type": "code",
   "execution_count": null,
   "metadata": {},
   "outputs": [],
   "source": [
    "# Let's set our geometry column back to the shapes\n",
    "msCongress = msCongress.set_geometry(\"geometry\")\n",
    "\n",
    "# buffering the active geometry by 10,000 meters \n",
    "msCongress[\"buffered\"] = msCongress.buffer(10000)\n",
    "\n",
    "# buffering the centroid geometry by 30,000 meters\n",
    "msCongress[\"buffered_centroid\"] = msCongress[\"centroid\"].buffer(30000)\n",
    "\n",
    "# saving the first plot as an axis and setting alpha (transparency) to 0.5\n",
    "ax = msCongress[\"buffered\"].plot(alpha=.5, figsize=(15, 15))  \n",
    "\n",
    "# passing the first plot as an axis to the second\n",
    "msCongress[\"buffered_centroid\"].plot(ax=ax, color=\"red\", alpha=.5, figsize=(15, 15))  \n",
    "\n",
    "# passing the first plot and setting linewitdth to 0.5\n",
    "# and we can use the boundary now that we created above\n",
    "msCongress[\"boundary\"].plot(ax=ax, color=\"white\", linewidth=.5, figsize=(15, 15))  \n",
    "\n",
    "# Let's put the number of the district as a label using .apply to\n",
    "# stick the label as an annotation in the centroid location for each \n",
    "# district\n",
    "msCongress.apply(lambda x: ax.annotate(text=x['ID'], xy=x.geometry.centroid.coords[0], ha='center'), axis=1);"
   ]
  },
  {
   "cell_type": "markdown",
   "metadata": {},
   "source": [
    "# XI. Finding Relationships Between Geographies\n",
    "\n",
    "Let's see if one of our districts overlaps any other buffered districts (e.g., is within 10,000 meters of another district)."
   ]
  },
  {
   "cell_type": "code",
   "execution_count": null,
   "metadata": {},
   "outputs": [],
   "source": [
    "# grab out district 2\n",
    "\n",
    "# remember that the index of district 2 is \"1\". \"2\" is in the ID column but\n",
    "# that's not the index\n",
    "district2 = msCongress.loc[1, \"geometry\"]\n",
    "district2"
   ]
  },
  {
   "cell_type": "code",
   "execution_count": null,
   "metadata": {},
   "outputs": [],
   "source": [
    "# use the geopandas \"intersects\" method to see\n",
    "# if any of the buffered districts intersects \n",
    "# district 2\n",
    "msCongress[\"buffered\"].intersects(district2)"
   ]
  },
  {
   "cell_type": "markdown",
   "metadata": {},
   "source": [
    "Cool, right? We can see that 1,2, and 3 intersect 2, but 2 doesn't intersect the fourth congressional district.\n",
    "\n",
    "## Using Two Geo DataFrames\n",
    "\n",
    "Let's now load up information on communication infrastructure. In this case, cell towers. This data was updated in 2024 and came from the [MARIS page](https://maris.mississippi.edu/HTML/DATA/data_UtilityTelecom/FCCCellTowers.html)."
   ]
  },
  {
   "cell_type": "code",
   "execution_count": null,
   "metadata": {},
   "outputs": [],
   "source": [
    "msCellTowers = gpd.read_file(\"data/MS_CellTowers_2024/MS_CellTowers_2024.shp\")\n",
    "\n",
    "msCellTowers"
   ]
  },
  {
   "cell_type": "markdown",
   "metadata": {},
   "source": [
    "Let's check to be sure the towers are in the same coordinate system as our districts."
   ]
  },
  {
   "cell_type": "code",
   "execution_count": null,
   "metadata": {},
   "outputs": [],
   "source": [
    "msCellTowers.crs\n"
   ]
  },
  {
   "cell_type": "markdown",
   "metadata": {},
   "source": [
    "Nice, EPSG:3814 is exactly what we're using with our congressional districts.\n",
    "    \n",
    "First, let's plot our cell towers together with our congressional districts and boundaries."
   ]
  },
  {
   "cell_type": "code",
   "execution_count": null,
   "metadata": {},
   "outputs": [],
   "source": [
    "# saving the first plot as an axis and setting alpha (transparency) to 0.5\n",
    "ax = msCongress[\"geometry\"].plot(alpha=.5, figsize=(15, 15))  \n",
    "\n",
    "# passing the first plot as an axis to the second\n",
    "msCellTowers[\"geometry\"].plot(ax=ax, color=\"black\", alpha=.5, figsize=(15, 15))  \n",
    "\n",
    "# passing the first plot and setting linewitdth to 0.5\n",
    "# and we can use the boundary now that we created above\n",
    "msCongress[\"boundary\"].plot(ax=ax, color=\"white\", linewidth=.5, figsize=(15, 15))  \n",
    "\n",
    "# Let's put the number of the district as a label using .apply to\n",
    "# stick the label as an annotation in the centroid location for each \n",
    "# district\n",
    "msCongress.apply(lambda x: ax.annotate(text=x['ID'], xy=x.geometry.centroid.coords[0], ha='center'), axis=1);"
   ]
  },
  {
   "cell_type": "markdown",
   "metadata": {},
   "source": [
    "## Counting Things in Things\n",
    "\n",
    "Let's find geographical things in things.\n",
    "\n",
    "How many cell towers are in district two?\n",
    "\n",
    "Well, let's add a column and figure that out."
   ]
  },
  {
   "cell_type": "code",
   "execution_count": null,
   "metadata": {},
   "outputs": [],
   "source": [
    "msCellTowers['isInDistrictTwo'] = msCellTowers[\"geometry\"].intersects(district2)\n",
    "\n",
    "msCellTowers"
   ]
  },
  {
   "cell_type": "markdown",
   "metadata": {},
   "source": [
    "Cool, we have a column. Let's use it to find out how many we have in district 2. That is, for how many rows is there a \"true\" in the \"isInDistrictTwo\" column?"
   ]
  },
  {
   "cell_type": "code",
   "execution_count": null,
   "metadata": {},
   "outputs": [],
   "source": [
    "numInTwo = msCellTowers.query(\"isInDistrictTwo == True\").shape[0]\n",
    "\n",
    "print(f\"There are {numInTwo} cell towers in District Two\")"
   ]
  },
  {
   "cell_type": "markdown",
   "metadata": {},
   "source": [
    "# Exercise 2: Putting it All Together"
   ]
  },
  {
   "cell_type": "code",
   "execution_count": null,
   "metadata": {},
   "outputs": [],
   "source": [
    "## Exercise 2: Putting it All Together\n",
    "\n",
    "# STATE SHAPE\n",
    "# Visit this page on the MARIS site: \n",
    "# https://maris.mississippi.edu/HTML/DATA/Boundaries.html#gsc.tab=0\n",
    "# and choose the state boundary file\n",
    "\n",
    "# a. download it, load it up here with geopandas\n",
    "\n",
    "# b. Show the CRS\n",
    "\n",
    "# c. display a plot of it. This should just be the MS state boundary.\n",
    "\n",
    "# d. calculate the area of MS and output this here with proper units\n",
    "# e.g., \"Mississippi is [X] square [units]\"\n",
    "\n",
    "# d.2 does this value make sense when comparing with online info?\n",
    "# put answer here: \n",
    "\n",
    "# e. create a column that has the outline of MS\n",
    "\n",
    "# SUB-BOUNDARIES\n",
    "# On the same web page, download a sub-boundary of your choice from\n",
    "# something that has districts or subdivisions. Examples would include\n",
    "# courts, wildlife, tribal boundaries, zip codes, etc.\n",
    "# Note: in the video, your instructor chose zip codes\n",
    "\n",
    "# f. Type here which one you chose: \n",
    "\n",
    "# g. download it, load it up here with geopandas\n",
    "\n",
    "# h. Show its CRS and make sure it is the same as the state boundary\n",
    "\n",
    "# i. display a plot of it on top of the *outline* of Mississippi and\n",
    "# put a label in the centroid of each sub-divided shape\n",
    "\n",
    "# j. add a column to your sub-boundary dataframe that contains the centroid\n",
    "# of each thing and print out the name of the thing and its centroid column\n",
    "\n",
    "# FEATURES OR INFRASTRUCTURE\n",
    "# Go to this page on the MARIS site: \n",
    "# https://maris.mississippi.edu/HTML/DATA/Utility.html#gsc.tab=0\n",
    "# Choose something other than the location of cell towers\n",
    "# and download the file.\n",
    "# Note: in the video, your instructor chose power plants\n",
    "\n",
    "# k. Type here which one you chose: \n",
    "\n",
    "# l. Download it, load it up here with geopandas\n",
    "\n",
    "# m. Show its CRS and make sure it is the same as the state boundary\n",
    "\n",
    "# n. Display a plot of it on top of the outline of Mississippi and on top of\n",
    "# the shapes of your subdivision.\n",
    "\n",
    "# o. Add a column to your sub-boundary dataframe that, for each \"thing\" \n",
    "# in your sub-boundaries (zip codes, court districts, tribal lands, etc.)\n",
    "# you record the number of infrastructure things intersecting that sub-boundary\n",
    "\n",
    "# p. Output which of your subdivisions contains the most of the things in your\n",
    "# feature or infrastructure data set? \n"
   ]
  },
  {
   "cell_type": "markdown",
   "metadata": {},
   "source": [
    "# XII. What to Learn Next\n",
    "\n",
    "Generally, what you'll need to try next is taking a normal dataframe that has latitude and longitude columns. Then, you can convert this into a geopandas dataframe. Then, since lattitude and longitude are polar coordinates, you'll just assign a CRS to it (EPSG:4326). Then, you'll use to_crs() to convert that frame into rectangular coordinates (EPSG:3814) for more calculations. That's it. You don't have to start from shapefiles."
   ]
  }
 ],
 "metadata": {
  "colab": {
   "collapsed_sections": [],
   "provenance": []
  },
  "kernelspec": {
   "display_name": "pyworkshop",
   "language": "python",
   "name": "pyworkshop"
  },
  "language_info": {
   "codemirror_mode": {
    "name": "ipython",
    "version": 3
   },
   "file_extension": ".py",
   "mimetype": "text/x-python",
   "name": "python",
   "nbconvert_exporter": "python",
   "pygments_lexer": "ipython3",
   "version": "3.12.4"
  }
 },
 "nbformat": 4,
 "nbformat_minor": 4
}
