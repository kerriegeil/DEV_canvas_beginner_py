{
 "cells": [
  {
   "cell_type": "markdown",
   "id": "1768413a-c9cc-4d37-85c9-cfe4eb0704d7",
   "metadata": {},
   "source": [
    "# Introduction to NumPy for Working with Numerical Data Arrays"
   ]
  },
  {
   "cell_type": "markdown",
   "id": "db644034-050c-4ae3-b249-80d0b26e714d",
   "metadata": {
    "editable": true,
    "slideshow": {
     "slide_type": ""
    },
    "tags": []
   },
   "source": [
    "<div class=\"alert alert-success\">\n",
    "    \n",
    "## This notebook covers\n",
    "- NumPy multidimensional array data structure\n",
    "- NumPy data types\n",
    "- Selecting, slicing, and querying dataframes\n",
    "- Simple calculations with summary functions\n",
    "- Sorting and grouping data\n",
    "- Copying and renaming dataframe columns\n",
    "- Handling missing values\n",
    "- Merging dataframes and writing to file\n",
    "</div>"
   ]
  },
  {
   "cell_type": "markdown",
   "id": "cec7f935-a8ca-4192-836f-ba569d498b98",
   "metadata": {
    "editable": true,
    "slideshow": {
     "slide_type": ""
    },
    "tags": []
   },
   "source": [
    "<div class=\"alert alert-warning\">\n",
    "\n",
    "## Reminders\n",
    "\n",
    "Remember, you can use Jupyter's built-in table of contents (hamburger on the far left) to jump from heading to heading.\n",
    "\n",
    "---\n",
    "\n",
    "This notebook will run in the MSUpy conda environment, which you create in the previous lesson. To select the Jupyter kernel the MSUpy environment go to the Kernel tab, select Change Kernel, then select the MSUpy kernel in the pop up window.\n",
    "\n",
    "---\n",
    "\n",
    "To turn on line number for code cells go to View menu and click Show Line Numbers.\n",
    "\n",
    "</div>"
   ]
  },
  {
   "cell_type": "markdown",
   "id": "a7a10e75-ab62-4798-b547-2b80b1e896be",
   "metadata": {},
   "source": [
    "# I. Importing Necessary Packages"
   ]
  },
  {
   "cell_type": "code",
   "execution_count": 1,
   "id": "2082d529-6fc3-4edf-9ade-0f6d3e2f8a26",
   "metadata": {},
   "outputs": [],
   "source": [
    "import numpy as np"
   ]
  },
  {
   "cell_type": "markdown",
   "id": "6343d55f-4c6e-4ae3-a9dd-10264e3aa3fd",
   "metadata": {
    "editable": true,
    "slideshow": {
     "slide_type": ""
    },
    "tags": []
   },
   "source": [
    "# II. Introduction to the NumPy Data Structure\n",
    "\n",
    "The NumPy (**Num**erical **Py**thon) package is widely used in science and engineering for working with data in homogenous (same data type) multidimensional arrays. Using NumPy multidimensional arrays, as opposed to nested Python lists, improves speed, reduces memory consumption, and offers easier syntax for performing a variety of common data processing tasks. \n",
    "\n",
    "## Data Structure - ndarray\n",
    "\n",
    "The NumPy data structure is called an *ndarray*, for n-dimensional array, which we may refer to throughout this notebook simply as an \"array\". Below is a schematic of a 1-d, 2-d, and 3-d array. A 1-d array looks similar to a list or a single row of data values. A 2-d array looks similar to a grid or table with rows and columns. A 3-d array looks similar to a cube or cuboid. Each dimension in an ndarray is called an *axis* and the first axis is always axis zero, keeping consistent with Python's zero-based indexing. Also, NumPy arrays must be rectangular and not jagged (i.e., each row of a two-dimensional array must have the same number of columns) and all of the data values in each array must be of the same data type. You'll notice below that similar to Pandas DataFrames, NumPy arrays have a shape attribute where each number in the shape tuple is the length of an array axis. \n",
    "\n",
    "<img src=\"images/numpy_arrays.png\" alt=\"schematic of ndarrays\" width=\"700\"/>\n",
    "\n",
    "It could be helpful to think of array dimensionality in terms of the data your arrays could hold (see image below). A geoscientist, for example, may use a 1-d array to hold solar radiation observations over time at a single location (a timeseries). In this case the only axis (axis 0) would represent data values at different times. A 2-d array could hold spatially gridded data like a gridded map of annual mean temperature or alternatively it could hold land surface imagery with 1-meter pixel resolution, for example. In this case axis 0 (rows) could represent data values at different latitudes and axis 1 (columns) could represent data values at different longitudes. A 3-d array could hold a timeseries of spatially gridded data like daily gridded maximum temperature. In this case axis 0 (the stack in the image below) could represent different times and axes 1 and 2 could represent different latitudes and longitudes.  \n",
    "\n",
    "<img src=\"images/numpy_geoarrays.png\" alt=\"ndarray data examples\" width=\"700\"/>\n",
    "\n",
    "The above are examples of array data you may encounter frequently, but actually NumPy arrays can have as many axes as you can dream up and each axis can represent whatever you want it to. In this notebook though, we'll think of 1-d arrays mostly as timeseries, 2-d arrays as latitude-longitude grids, and 3-d arrays as timeseries of latitude-longitude grids. \n",
    "\n",
    "We won't get into higher dimensional data arrays and we'll only work with numerical data arrays (integer, float, boolean). Technically, NumPy arrays can contain numerical or non-numerical data (such as strings and bytes) but non-numerical data must be defined as fixed-width data types, which requires knowing or calculating the sizes of the longest text or byte sequence in advance. We will not cover non-numerical NumPy arrays in this course. \n",
    "\n",
    "## NumPy Data Types\n",
    "\n",
    "We'll cover a few, but not all, of the NumPy numerical data types here. NumPy supports a much greater variety of numerical data types than core Python does. NumPy numerical data types are more specific than the core Python numerical data types, allowing for more efficient memory usage and faster computation. More detail can be found in the [NumPy Documentation for Data Types](https://numpy.org/doc/stable/user/basics.types.html#data-types).\n",
    "\n",
    "The NumPy data types below are *concrete* types, meaning that a consistent number of bits are reserved for each individual data value in memory. A bit is the smallest unit of data in a computer (represented by a 0 or a 1) and you need 8 bits (1 byte) to represent one character like a letter or number in memory. The concrete data types below are named by combining the basic numerical type name (e.g., integer, float) with the number of bits that are needed to represent a single value in memory (bitsize).\n",
    "\n",
    "NumPy Data Type | Description | Value Range\n",
    "---|---|---\n",
    "np.bool_ | 8-bit Boolean | True/False, not equivalent to 1,0\n",
    "np.int8 | 8-bit integer value | -128 to 127\n",
    "np.int16 | 16-bit integer value | -32768 to 32767\n",
    "np.int32 | 32-bit integer value | -2147483648 to 2147483647\n",
    "np.int64 | 64-bit integer value | -9223372036854775808 to 9223372036854775807\n",
    "np.uint8 | unsigned 8-bit integer value | 0 to 255\n",
    "np.uint16 | unsigned 16-bit integer value | 0 to 65535\n",
    "np.uint32 | unsigned 32-bit integer value | 0 to 4294967295\n",
    "np.uint64 | unsigned 64-bit integer value | 0 to 18446744073709551615\n",
    "np.float16 | half precision float values | Precision: 3 decimal digits<br /> Range: ±6.55040e4 \n",
    "np.float32 | single-precision float values | Precision: 6 decimal digits<br /> Range: ±3.4028235e+38, \n",
    "np.float64 | double-precision float values | Precision: 15 decimal digits<br /> Range: ±1.7976931348623157e+308 "
   ]
  },
  {
   "cell_type": "markdown",
   "id": "cb00e9bd-4170-457a-8d93-6cb67b780a68",
   "metadata": {},
   "source": [
    "<div class=\"alert alert-danger\">\n",
    "\n",
    "**Sidebar: Pay attention to your data types**\n",
    "\n",
    "When you start working with larger array objects, you will need to be more aware of how much memory your objects are consuming to avoid running into the RAM limitations of your computer. \n",
    "\n",
    "For example, if you obtain daily gridded temperature or precipitation data they are often provided as float64. This is a wildly unneccesary amount of precision for these data. You can certainly covert to float32 which would result in speedier calculations and use only half the memory as float64. For temperature, you can convert to float16 for even faster calculations and 1/4 of the memory use as float64. For precipitation or other data that may require more than 3 decimal places or contain values greater than ~65500 the smallest/fastest data type may be float32.\n",
    "\n",
    "If you try converting your data to a smaller data type and receive an \"overflow\" warning, that means 1 or more of your data values cannot be properly represented with fewer bits. We'll cover an example of this later.\n",
    "</div>"
   ]
  },
  {
   "cell_type": "markdown",
   "id": "4c240028-9a35-44ab-aab3-46e8d99e3b45",
   "metadata": {},
   "source": [
    "Although not necessary recommended, NumPy arrays can also hold data of built-in Python types. The NumPy aliases to the built-in python data types for boolean, integer, and float are:\n",
    "\n",
    "Python Built-in Type | NumPy Alias | Description\n",
    "---|---|---\n",
    "bool | np.bool | boolean True/False, equivalent to 1,0\n",
    "int | np.int | integer values of variable size in memory\n",
    "float | np.float | float values of variable size in memory\n",
    "\n",
    "\n",
    "## Creating a NumPy Array from Scratch\n",
    "\n",
    "We'll first create 1-D, 2-D, and 3-D NumPy arrays and later we'll learn how to read data from file into NumPy arrays. \n",
    "\n",
    "First, a 1-D array. Create it using the ```numpy.array()``` function and give the function a Python list of numbers as the input parameter."
   ]
  },
  {
   "cell_type": "code",
   "execution_count": 2,
   "id": "a231a605-7d38-4c28-b394-5b9d4443d87d",
   "metadata": {},
   "outputs": [
    {
     "name": "stdout",
     "output_type": "stream",
     "text": [
      "(10,)\n"
     ]
    },
    {
     "data": {
      "text/plain": [
       "array([ 1,  2,  3,  4,  5,  6,  7,  8,  9, 10])"
      ]
     },
     "execution_count": 2,
     "metadata": {},
     "output_type": "execute_result"
    }
   ],
   "source": [
    "arr_1d = np.array([1,2,3,4,5,6,7,8,9,10])\n",
    "\n",
    "print(arr_1d.shape)\n",
    "arr_1d"
   ]
  },
  {
   "cell_type": "markdown",
   "id": "7d162876-c1d5-4faf-8784-7b93dba078b0",
   "metadata": {},
   "source": [
    "This should be fairly straightforward. Notice that, like Pandas offers the ```.shape``` attribute for its data structure (the dataframe), NumPy offers the ```.shape``` attribute as well for its data structure (the ndarray). \n",
    "\n",
    "Why the trailing comma in the shape tuple?\n",
    "\n",
    "It's just part of the Python language. The ```.shape``` attribute always returns a tuple and the trailing comma indicates that it is a single-element tuple (you can't have a single-element tuple without the trailing comma). There is only 1 dimension (i.e., axis) in our array so our shape tuple will only have 1 element.\n",
    "\n",
    "Now, we'll create a 2-D array by giving the ```numpy.array()``` function a nested Python list of numbers as the input parameter."
   ]
  },
  {
   "cell_type": "code",
   "execution_count": 3,
   "id": "85178de4-0d73-4913-b26b-3523d1c01a12",
   "metadata": {},
   "outputs": [
    {
     "name": "stdout",
     "output_type": "stream",
     "text": [
      "(2, 5)\n"
     ]
    },
    {
     "data": {
      "text/plain": [
       "array([[ 1,  2,  3,  4,  5],\n",
       "       [ 6,  7,  8,  9, 10]])"
      ]
     },
     "execution_count": 3,
     "metadata": {},
     "output_type": "execute_result"
    }
   ],
   "source": [
    "arr_2d = np.array([[1,2,3,4,5],\n",
    "                   [6,7,8,9,10]])\n",
    "\n",
    "print(arr_2d.shape)\n",
    "arr_2d"
   ]
  },
  {
   "cell_type": "markdown",
   "id": "5259b323-ba84-439b-8b4a-f204379aff9f",
   "metadata": {},
   "source": [
    "The result is an array with 2 rows and 5 columns of data values. \n",
    "\n",
    "The length (5) of the innermost nested list that you provide to ```numpy.array()``` (e.g., ```[1, 2, 3, 4, 5]``` and ```[6, 7, 8, 9, 10]```) is the last (rightmost) axis in the array shape. You can think of the last axis of your arrays with 2 or more axes as your columns.\n",
    "\n",
    "The number of innermost lists (2) is the next axis to the left (second to last axis). You can think of the second to last axis of your arrays with 2 or more axes as your rows.\n",
    "\n",
    "Let's try a 3-D array."
   ]
  },
  {
   "cell_type": "code",
   "execution_count": 15,
   "id": "762181a8-231b-4ef7-a0a9-b1bcd4124c22",
   "metadata": {},
   "outputs": [
    {
     "name": "stdout",
     "output_type": "stream",
     "text": [
      "(3, 3, 2)\n"
     ]
    },
    {
     "data": {
      "text/plain": [
       "array([[[ 1,  2],\n",
       "        [ 4,  3],\n",
       "        [ 7,  4]],\n",
       "\n",
       "       [[ 2,  8],\n",
       "        [ 9, 10],\n",
       "        [ 7,  5]],\n",
       "\n",
       "       [[ 1,  6],\n",
       "        [ 3, 11],\n",
       "        [ 0,  2]]])"
      ]
     },
     "execution_count": 15,
     "metadata": {},
     "output_type": "execute_result"
    }
   ],
   "source": [
    "arr_3d = np.array([[[1, 2], \n",
    "                    [4,3], \n",
    "                    [7,4]],\n",
    "                   [[2, 8], \n",
    "                    [9, 10], \n",
    "                    [7, 5]],\n",
    "                   [[1, 6], \n",
    "                    [3, 11], \n",
    "                    [0, 2]]])\n",
    "\n",
    "print(arr_3d.shape)\n",
    "arr_3d"
   ]
  },
  {
   "cell_type": "markdown",
   "id": "16165b50-b872-4029-bd0c-70a4b7fd9a54",
   "metadata": {},
   "source": [
    "Again, the length (2) of the innermost nested list that you provide to ```numpy.array()``` is the last axis in the array shape (axis 2). The number of innermost lists inside the next nest level (3) is the second to last axis (axis 1). The number of 3x2 nested lists inside the next nest level (3) is the next dimension to the left (axis 0).\n",
    "\n",
    "If we think about this array as having dimensions (time, latitude, longitude) then this array would contain a 3x2 gridded map of data (3 latitudes by 2 longitudes) at 3 different times. Where longitudes are your columns (last axis), latitudes are your rows (next to last axis), and time is the stack (leftmost axis) of your 3-D data \"cube\".\n",
    "\n",
    "The ```[1, 2]``` in our array represents the data values at the first time, the first latitude, and all (2) longitudes. \n",
    "\n",
    "Let's look at where this ```[1, 2]``` appears in the NumPy array if we visualize the 3 dimensions\n",
    "\n",
    "<img src=\"images/numpy3D_selection.png\" alt=\"ndarray data examples\" width=\"700\"/>\n",
    "\n",
    "## Array Attributes\n",
    "\n",
    "Each ndarray has a number of *attributes*. We've already seen one of these above with ```.shape```. The others we will cover are ```.ndim```, ```.size```, ```.dtype```, ```.itemsize```, and ```.nbytes```. The full list of attributes can be found in the [NumPy API reference for numpy.ndarray](https://numpy.org/doc/stable/reference/generated/numpy.ndarray.html)."
   ]
  },
  {
   "cell_type": "code",
   "execution_count": 19,
   "id": "8d41404a-4030-4f7f-b71f-75766175b5ea",
   "metadata": {},
   "outputs": [
    {
     "name": "stdout",
     "output_type": "stream",
     "text": [
      "(3, 3, 2)\n",
      "3\n",
      "18\n"
     ]
    }
   ],
   "source": [
    "print(arr_3d.shape)\n",
    "print(arr_3d.ndim)\n",
    "print(arr_3d.size)"
   ]
  },
  {
   "cell_type": "markdown",
   "id": "89005c2d-fbc9-4f12-9e7f-fa88d0371221",
   "metadata": {},
   "source": [
    "```.shape``` returns a tuple with the number of elements along each dimension.\n",
    "\n",
    "```.ndim``` returns the number of dimensions.\n",
    "\n",
    "```.size``` returns the total number of elements in the array. In this case, 3 * 3 * 2 = 18."
   ]
  },
  {
   "cell_type": "code",
   "execution_count": 20,
   "id": "ef0a7c8c-7115-4cf9-88cf-57df2613c3b1",
   "metadata": {},
   "outputs": [
    {
     "name": "stdout",
     "output_type": "stream",
     "text": [
      "int32\n",
      "4\n",
      "72\n"
     ]
    }
   ],
   "source": [
    "print(arr_3d.dtype)\n",
    "print(arr_3d.itemsize)\n",
    "print(arr_3d.nbytes)"
   ]
  },
  {
   "cell_type": "markdown",
   "id": "3578f21c-6acf-46ea-be72-b37a67b31385",
   "metadata": {},
   "source": [
    "```.dtype``` returns the data type.\n",
    "\n",
    "```.itemsize``` returns the bytes consumed by one single element in the array. Remember, NumPy arrays are homogenous, so each element of an array will consume the same number of bytes.\n",
    "\n",
    "```.nbytes``` returns the total bytes consumed by the array. This will be the number of elements in the array (```.size```) times the size in bytes of one element (```.itemsize```). (You can also infer the size of one element in bytes from your data type, e.g., int64 means one element takes up 64 bits of memory which is equivalent to 64 / 8 = 8 bytes)\n",
    "\n",
    "**What is the data type of your ```arr_3D```?** Since we didn't specify a data type when we created ```arr_3D```, NumPy will recognize that the input is integer and the default integer data type that is assigned to the array will be based on the computer where you are running this notebook. If your computer has a 64-bit operating system, the default integer data type will be int64. If your computer has a 32-bit operating system, the default integer data type will be int32. This applies to float data as well. Today, most operating systems are 64-bit, so your ```.dtype``` output above probably says int64 and your ```.nbytes``` output probably says 144. If it doesn't, then your operating system is not 64-bit and that's ok too.  \n",
    "\n",
    "**Using less memory:** If you are always working with small data, then having all your data stored with 64 bits per data value (likely the default on your computer) is fine, but consuming that much memory per array element is likely overkill unless your data contains super large or super small numbers. It's a good idea to get into the habit of including a data type when you create your NumPy arrays. This way you can reduce how much memory your data consumes and your code will run faster. \n",
    "\n",
    "Let's recreate our 1-D and 2-D arrays using data types that consume less memory."
   ]
  },
  {
   "cell_type": "code",
   "execution_count": 17,
   "id": "4769dcfc-789f-4d06-a01b-b5c1f2f55265",
   "metadata": {},
   "outputs": [
    {
     "name": "stdout",
     "output_type": "stream",
     "text": [
      "arr_1d dtype is int8, arr_2d dtype is int16\n"
     ]
    }
   ],
   "source": [
    "# include the dtype parameter to store data using less memory\n",
    "arr_1d = np.array([1,2,3,4,5,6,7,8,9,10], dtype='int8')\n",
    "\n",
    "arr_2d = np.array([[1,2,3,4,5],\n",
    "                   [6,7,8,9,10]], dtype='int16')\n",
    "\n",
    "print(f'arr_1d dtype is {arr_1d.dtype}, arr_2d dtype is {arr_2d.dtype}')"
   ]
  },
  {
   "cell_type": "markdown",
   "id": "1a5bc2dc-6756-4fb9-858d-0b6cec963c4e",
   "metadata": {},
   "source": [
    "You can also convert the data type after you've created an array with the ndarray function ```.astype()```."
   ]
  },
  {
   "cell_type": "code",
   "execution_count": 18,
   "id": "245723cb-75a1-41c1-aa72-a2a92c847326",
   "metadata": {},
   "outputs": [
    {
     "data": {
      "text/plain": [
       "dtype('int32')"
      ]
     },
     "execution_count": 18,
     "metadata": {},
     "output_type": "execute_result"
    }
   ],
   "source": [
    "# convert dtype of existing array\n",
    "arr_3d = arr_3d.astype('int32')\n",
    "arr_3d.dtype"
   ]
  },
  {
   "cell_type": "markdown",
   "id": "7a3ce3ff-8218-496b-bb02-4699215ae508",
   "metadata": {},
   "source": [
    "The choice of which data type to convert each array to in this example is arbitrary. All our example arrays contain only small integers that will fit into the smallest integer data types (int8 or uint8).\n",
    "\n",
    "# III. Indexing and Slicing Data\n",
    "\n",
    "## Basic Indexing and Slicing\n",
    "\n",
    "You can index and slice NumPy arrays in the same way you can slice Python lists. You will notice the syntax looks very similar and that again, the end index of a slice is exclusive.\n",
    "\n",
    "### Single Cell\n",
    "\n",
    "To select a single cell of an array you need to provide an index value for each array axis separated by a comma."
   ]
  },
  {
   "cell_type": "code",
   "execution_count": 24,
   "id": "e1eed38b-4967-43b4-a351-9a41869e0052",
   "metadata": {},
   "outputs": [
    {
     "name": "stdout",
     "output_type": "stream",
     "text": [
      "10\n",
      "6\n",
      "5\n"
     ]
    }
   ],
   "source": [
    "print(arr_1d[-1]) # last element\n",
    "print(arr_2d[1,0])\n",
    "print(arr_3d[1,2,1])"
   ]
  },
  {
   "cell_type": "markdown",
   "id": "498776e7-0ec1-4871-84b9-333d06eff201",
   "metadata": {},
   "source": [
    "You may not need this very often, but you can also use a tuple for indexing."
   ]
  },
  {
   "cell_type": "code",
   "execution_count": 94,
   "id": "1cb65233-9639-45cf-a8a9-b880b15af96a",
   "metadata": {},
   "outputs": [
    {
     "data": {
      "text/plain": [
       "np.int16(6)"
      ]
     },
     "execution_count": 94,
     "metadata": {},
     "output_type": "execute_result"
    }
   ],
   "source": [
    "# select a single value with a tuple\n",
    "arr_2d[(1,0)] # second row, first column"
   ]
  },
  {
   "cell_type": "markdown",
   "id": "c3c6195b-7585-49dc-85e3-8586c46c03ba",
   "metadata": {},
   "source": [
    "### Slice of 1 Row\n",
    "\n",
    "A single colon is used as the index value if you want all of the values along a particular dimension."
   ]
  },
  {
   "cell_type": "code",
   "execution_count": 61,
   "id": "9c422440-6820-4ab5-8c56-4e75d28b18c7",
   "metadata": {},
   "outputs": [
    {
     "name": "stdout",
     "output_type": "stream",
     "text": [
      "[[ 1  2  3  4  5]\n",
      " [ 6  7  8  9 10]]\n",
      "--------------------\n",
      "[ 6  7  8  9 10]\n"
     ]
    }
   ],
   "source": [
    "# select the second row (all columns)\n",
    "print(arr_2d)\n",
    "print('--------------------')\n",
    "print(arr_2d[1,:])"
   ]
  },
  {
   "cell_type": "code",
   "execution_count": 62,
   "id": "1bfd8975-f324-4d3e-ab15-a247f7c8b9e6",
   "metadata": {},
   "outputs": [
    {
     "name": "stdout",
     "output_type": "stream",
     "text": [
      "[[[ 1  2]\n",
      "  [ 4  3]\n",
      "  [ 7  4]]\n",
      "\n",
      " [[ 2  8]\n",
      "  [ 9 10]\n",
      "  [ 7  5]]\n",
      "\n",
      " [[ 1  6]\n",
      "  [ 3 11]\n",
      "  [ 0  2]]]\n",
      "--------------------\n",
      "[1 2]\n"
     ]
    }
   ],
   "source": [
    "# select the first time, first latitude, all longitudes\n",
    "print(arr_3d)\n",
    "print('--------------------')\n",
    "print(arr_3d[0,0,:])"
   ]
  },
  {
   "cell_type": "markdown",
   "id": "7e773f8d-a2fc-4972-b185-8c8f2af1a967",
   "metadata": {},
   "source": [
    "### Slice of 1 Column"
   ]
  },
  {
   "cell_type": "code",
   "execution_count": 63,
   "id": "7009e8ea-e136-4dc6-b50d-a61384ab0521",
   "metadata": {},
   "outputs": [
    {
     "name": "stdout",
     "output_type": "stream",
     "text": [
      "[[ 1  2  3  4  5]\n",
      " [ 6  7  8  9 10]]\n",
      "--------------------\n"
     ]
    },
    {
     "data": {
      "text/plain": [
       "array([1, 6], dtype=int16)"
      ]
     },
     "execution_count": 63,
     "metadata": {},
     "output_type": "execute_result"
    }
   ],
   "source": [
    "print(arr_2d)\n",
    "print('--------------------')\n",
    "arr_2d[:,0]"
   ]
  },
  {
   "cell_type": "markdown",
   "id": "80cdff2a-1dce-455b-85a3-5a26279d8338",
   "metadata": {},
   "source": [
    "### Slice Along a Single Dimension\n",
    "\n",
    "Providing a start and end index on each side of a colon works to select multiple indexes, exclusive of the end index."
   ]
  },
  {
   "cell_type": "code",
   "execution_count": 64,
   "id": "5f4b6757-a2bd-415b-bfd9-3602dc604413",
   "metadata": {},
   "outputs": [
    {
     "name": "stdout",
     "output_type": "stream",
     "text": [
      "[[ 1  2  3  4  5]\n",
      " [ 6  7  8  9 10]]\n",
      "--------------------\n"
     ]
    },
    {
     "data": {
      "text/plain": [
       "array([[2, 3],\n",
       "       [7, 8]], dtype=int16)"
      ]
     },
     "execution_count": 64,
     "metadata": {},
     "output_type": "execute_result"
    }
   ],
   "source": [
    "# all rows, slice of columns\n",
    "print(arr_2d)\n",
    "print('--------------------')\n",
    "arr_2d[:,1:3]"
   ]
  },
  {
   "cell_type": "code",
   "execution_count": 105,
   "id": "c25296ab-e251-400e-aae6-2a19c9ecc754",
   "metadata": {},
   "outputs": [
    {
     "data": {
      "text/plain": [
       "array([[1, 2],\n",
       "       [4, 3],\n",
       "       [7, 4]], dtype=int32)"
      ]
     },
     "execution_count": 105,
     "metadata": {},
     "output_type": "execute_result"
    }
   ],
   "source": [
    "# all latitudes and longitudes at time index 0\n",
    "arr_3d[0,...]"
   ]
  },
  {
   "cell_type": "markdown",
   "id": "a6c9d384-a8c2-4812-aaf4-48a9db5cc7ec",
   "metadata": {},
   "source": [
    "The elipses above are short hand for all values in one or more dimensions. So ```arr_3d[0,...]``` above is the same as ```arr_3d[0,:,:]```"
   ]
  },
  {
   "cell_type": "markdown",
   "id": "8bcbd548-cc59-4ece-87df-3be9dddea8b1",
   "metadata": {},
   "source": [
    "### Slice Along Multiple Dimensions\n",
    "\n",
    "Selecting the second and third time, first and second latitude, first longitude of ```arr_3d```\n",
    "\n",
    "\n",
    "<img src=\"images/numpy3D_multipledims.png\" alt=\"schematic of what to select\" width=\"300\"/>"
   ]
  },
  {
   "cell_type": "code",
   "execution_count": 66,
   "id": "96c4d323-0448-451f-a8d6-54d625969b3b",
   "metadata": {},
   "outputs": [
    {
     "data": {
      "text/plain": [
       "array([[2, 9],\n",
       "       [1, 3]], dtype=int32)"
      ]
     },
     "execution_count": 66,
     "metadata": {},
     "output_type": "execute_result"
    }
   ],
   "source": [
    "# second and third time, first and second latitude, first longitude\n",
    "arr_3d[1:,0:2,0]"
   ]
  },
  {
   "cell_type": "markdown",
   "id": "797c9818-2839-40c5-8bdf-ba38f4378796",
   "metadata": {},
   "source": [
    "<div class=\"alert alert-info\"> \n",
    "\n",
    "### Exercise 1: Indexing and Slicing\n",
    "\n",
    "In your ```arr_3d``` make the following selections using indexing and slicing. Note that slicing is never jagged so your selection for part (d) will include two data values that you cannot see in the image.\n",
    "\n",
    "<table><tr>\n",
    "<td> <img src=\"images/numpy3D_selection1.png\" alt=\"schematic of what to select\" width=\"300\"/> </td>\n",
    "<td> <img src=\"images/numpy3D_selection2.png\" alt=\"schematic of what to select\" width=\"300\"/> </td>\n",
    "<td> <img src=\"images/numpy3D_selection3.png\" alt=\"schematic of what to select\" width=\"300\"/> </td>\n",
    "<td> <img src=\"images/numpy3D_selection4.png\" alt=\"schematic of what to select\" width=\"300\"/> </td>\n",
    "</tr></table\n",
    "\n",
    "</div>\n",
    "\n"
   ]
  },
  {
   "cell_type": "markdown",
   "id": "2439a6c8-8a34-412f-8995-b0adc573933b",
   "metadata": {},
   "source": [
    "<div class=\"alert alert-info\"> \n",
    "\n",
    "#### part (a)\n",
    "</div>\n"
   ]
  },
  {
   "cell_type": "code",
   "execution_count": 67,
   "id": "35f51a36-afa5-4411-8df4-894886d206ae",
   "metadata": {},
   "outputs": [],
   "source": [
    "# add your code here\n"
   ]
  },
  {
   "cell_type": "markdown",
   "id": "41f02238-e1aa-41ab-97ba-f106c2fbaf51",
   "metadata": {},
   "source": [
    "<div class=\"alert alert-info\"> \n",
    "\n",
    "#### part (b)\n",
    "</div>"
   ]
  },
  {
   "cell_type": "code",
   "execution_count": 68,
   "id": "4512f07b-20fe-4c13-b3f7-fd8ede02a4cc",
   "metadata": {},
   "outputs": [],
   "source": [
    "# add your code here\n"
   ]
  },
  {
   "cell_type": "markdown",
   "id": "42e8bf38-cbdc-40f8-9fb0-3a15d6385f7b",
   "metadata": {},
   "source": [
    "<div class=\"alert alert-info\"> \n",
    "\n",
    "#### part (c)\n",
    "</div>"
   ]
  },
  {
   "cell_type": "code",
   "execution_count": 69,
   "id": "463493a9-ba81-402f-a585-72d056f50703",
   "metadata": {},
   "outputs": [],
   "source": [
    "# add your code here\n"
   ]
  },
  {
   "cell_type": "markdown",
   "id": "ab40ec4b-43cb-433e-9171-c9f7e9fc79f1",
   "metadata": {},
   "source": [
    "<div class=\"alert alert-info\"> \n",
    "\n",
    "#### part (d)\n",
    "</div>"
   ]
  },
  {
   "cell_type": "code",
   "execution_count": 70,
   "id": "70c52c96-04a4-4e93-997e-f8a62df6d22c",
   "metadata": {},
   "outputs": [],
   "source": [
    "# add your code here\n"
   ]
  },
  {
   "cell_type": "markdown",
   "id": "97238673-8141-4df5-b8ce-24c1e58bdcf8",
   "metadata": {},
   "source": [
    "## Advanced Indexing\n",
    "\n",
    "NumPy arrays offer indexing capability beyond what is possible with nested Python lists. We can index an array with an array of integers or booleans.\n",
    "\n",
    "### Advanced Indexing with Integer Arrays\n",
    "\n",
    "First, an example with our 1-dimensional array ```arr_1d```"
   ]
  },
  {
   "cell_type": "code",
   "execution_count": 39,
   "id": "4bca5c1c-733e-4446-aa16-c6119454c526",
   "metadata": {},
   "outputs": [
    {
     "name": "stdout",
     "output_type": "stream",
     "text": [
      "[ 1  2  3  4  5  6  7  8  9 10]\n"
     ]
    },
    {
     "data": {
      "text/plain": [
       "array([1, 3, 5, 7], dtype=int8)"
      ]
     },
     "execution_count": 39,
     "metadata": {},
     "output_type": "execute_result"
    }
   ],
   "source": [
    "# reminder of what is in arr_1d\n",
    "print(arr_1d)\n",
    "\n",
    "# create an array of indexes\n",
    "indexes = np.array([0,2,4,6])\n",
    "\n",
    "# use the array to select data from arr_1d\n",
    "arr_1d[indexes]"
   ]
  },
  {
   "cell_type": "markdown",
   "id": "7f9db516-d618-49b1-a0e5-54964db1f523",
   "metadata": {},
   "source": [
    "You can do the same thing using a list of index values instead of an array with the following syntax, but note that it's recommended to use arrays as opposed to lists for indexing bigger data. Your code will run faster and be more memory efficient with arrays."
   ]
  },
  {
   "cell_type": "code",
   "execution_count": 51,
   "id": "724736df-a244-430e-a2a2-28221c6ec1ec",
   "metadata": {},
   "outputs": [
    {
     "data": {
      "text/plain": [
       "array([1, 3, 5, 7], dtype=int8)"
      ]
     },
     "execution_count": 51,
     "metadata": {},
     "output_type": "execute_result"
    }
   ],
   "source": [
    "# indexing with a list\n",
    "arr_1d[[0,2,4,6]]"
   ]
  },
  {
   "cell_type": "markdown",
   "id": "19feb91d-f546-4892-a129-1f9bd8df9278",
   "metadata": {},
   "source": [
    "An example with our 2-dimensional array ```arr_2d```"
   ]
  },
  {
   "cell_type": "code",
   "execution_count": 49,
   "id": "6c3f37f9-fcc1-4175-b4fb-778b366577e1",
   "metadata": {},
   "outputs": [
    {
     "name": "stdout",
     "output_type": "stream",
     "text": [
      "[[ 1  2  3  4  5]\n",
      " [ 6  7  8  9 10]]\n"
     ]
    },
    {
     "data": {
      "text/plain": [
       "array([2, 4, 6, 8], dtype=int16)"
      ]
     },
     "execution_count": 49,
     "metadata": {},
     "output_type": "execute_result"
    }
   ],
   "source": [
    "# reminder of what is in arr_2d\n",
    "print(arr_2d)\n",
    "\n",
    "# selecting the data values 2,4,6,8\n",
    "# create an array of indexes for each dimension\n",
    "row_index = np.array([0,0,1,1])\n",
    "col_index = np.array([1,3,0,2])\n",
    "\n",
    "# use the arrays to select data from arr_2d\n",
    "arr_2d[row_index,col_index]"
   ]
  },
  {
   "cell_type": "markdown",
   "id": "f9597ae2-f156-4172-b70b-fe1c5db58295",
   "metadata": {},
   "source": [
    "And the equivalent using lists:"
   ]
  },
  {
   "cell_type": "code",
   "execution_count": 52,
   "id": "a6aaac10-828e-461f-acb1-367c95f0d45c",
   "metadata": {},
   "outputs": [
    {
     "data": {
      "text/plain": [
       "array([2, 4, 6, 8], dtype=int16)"
      ]
     },
     "execution_count": 52,
     "metadata": {},
     "output_type": "execute_result"
    }
   ],
   "source": [
    "# indexing with lists\n",
    "arr_2d[[0,0,1,1],[1,3,0,2]]"
   ]
  },
  {
   "cell_type": "markdown",
   "id": "0f324b59-af0c-4cdb-a740-bd04db6af13b",
   "metadata": {},
   "source": [
    "You can also do advanced indexing with a tuple. Here's how to save your index arrays as a tuple and use it for multi-dimensional indexing."
   ]
  },
  {
   "cell_type": "code",
   "execution_count": 88,
   "id": "ca9279cf-23f8-4274-9009-f5b764b58d36",
   "metadata": {},
   "outputs": [
    {
     "data": {
      "text/plain": [
       "array([2, 4, 6, 8], dtype=int16)"
      ]
     },
     "execution_count": 88,
     "metadata": {},
     "output_type": "execute_result"
    }
   ],
   "source": [
    "# multi-dimensional indexing with a tuple of arrays\n",
    "tup_indexes = (row_index,col_index)  # 2,4,6,8 as we did above\n",
    "arr_2d[tup_indexes]"
   ]
  },
  {
   "cell_type": "markdown",
   "id": "330455b6-29ee-4863-81b8-c5c2ee8616a4",
   "metadata": {},
   "source": [
    "What happens if you provide array indexing for less dimensions than are present in your array? NumPy will assume that your array index corresponds to axis zero and that you want all of the dimensions you haven't indexed.\n",
    "\n",
    "For example, let's take our 2-dimensional array and give it only the row_index values (```row_index = np.array([0,0,1,1])```)."
   ]
  },
  {
   "cell_type": "code",
   "execution_count": 112,
   "id": "c53ab4b5-f005-486f-9e78-c914886903ff",
   "metadata": {},
   "outputs": [
    {
     "name": "stdout",
     "output_type": "stream",
     "text": [
      "[[ 1  2  3  4  5]\n",
      " [ 6  7  8  9 10]]\n"
     ]
    },
    {
     "data": {
      "text/plain": [
       "array([[ 1,  2,  3,  4,  5],\n",
       "       [ 1,  2,  3,  4,  5],\n",
       "       [ 6,  7,  8,  9, 10],\n",
       "       [ 6,  7,  8,  9, 10]], dtype=int16)"
      ]
     },
     "execution_count": 112,
     "metadata": {},
     "output_type": "execute_result"
    }
   ],
   "source": [
    "# our 2-dimensional array\n",
    "print(arr_2d)\n",
    "\n",
    "# providing array indexing for less dimensions than are present in arr_2d\n",
    "arr_2d[row_index]"
   ]
  },
  {
   "cell_type": "markdown",
   "id": "34e0252b-5ddf-44da-b072-64081074d1ff",
   "metadata": {},
   "source": [
    "You can see that NumPy returns two of the first row (all columns) and two of the second row (all columns) of data values.\n",
    "\n",
    "The line of code above ```arr_2d[row_index]``` is the same as ```arr_2d[row_index,:]```.\n",
    "\n",
    "You might not expect this to happen, so just be careful and double check yourself as you write your code.\n",
    "\n",
    "\n",
    "### Advanced Indexing with Boolean Arrays"
   ]
  },
  {
   "cell_type": "code",
   "execution_count": null,
   "id": "66261673-9ec7-4102-aa50-961518032189",
   "metadata": {},
   "outputs": [],
   "source": []
  },
  {
   "cell_type": "code",
   "execution_count": null,
   "id": "228cec40-ef48-4b8d-8929-8ef21ae41dc0",
   "metadata": {},
   "outputs": [],
   "source": []
  },
  {
   "cell_type": "code",
   "execution_count": null,
   "id": "2b5aceae-7efc-46ba-975e-ec032dcc6b9e",
   "metadata": {},
   "outputs": [],
   "source": []
  },
  {
   "cell_type": "code",
   "execution_count": null,
   "id": "2ebeacea-77c9-4285-9133-47c9c4cae034",
   "metadata": {},
   "outputs": [],
   "source": []
  },
  {
   "cell_type": "markdown",
   "id": "746e2942-6e2b-4316-83ff-974449fe1ee5",
   "metadata": {},
   "source": [
    "## Query\n",
    "\n",
    "### Selecting Cells With Conditionals\n",
    "\n",
    "Examples of selecting from an array the data values that fullfill certain conditions."
   ]
  },
  {
   "cell_type": "code",
   "execution_count": 37,
   "id": "05b73d12-c61c-46f7-8eb4-44f2ea2c8b1f",
   "metadata": {},
   "outputs": [
    {
     "data": {
      "text/plain": [
       "array([ 7,  8,  9, 10,  7,  6, 11], dtype=int32)"
      ]
     },
     "execution_count": 37,
     "metadata": {},
     "output_type": "execute_result"
    }
   ],
   "source": [
    "# values greater than 5\n",
    "arr_3d[arr_3d > 5]"
   ]
  },
  {
   "cell_type": "code",
   "execution_count": null,
   "id": "79db06b4-0590-474b-8eec-63fafbed2b2b",
   "metadata": {},
   "outputs": [],
   "source": []
  },
  {
   "cell_type": "code",
   "execution_count": null,
   "id": "971c46ce-b29e-4db4-9a60-93f9f7b064cd",
   "metadata": {},
   "outputs": [],
   "source": []
  },
  {
   "cell_type": "code",
   "execution_count": 58,
   "id": "89fb2f99-4c0b-499c-9838-2a4f90e4c8c0",
   "metadata": {},
   "outputs": [
    {
     "ename": "IndexError",
     "evalue": "too many indices for array: array is 2-dimensional, but 3 were indexed",
     "output_type": "error",
     "traceback": [
      "\u001b[1;31m---------------------------------------------------------------------------\u001b[0m",
      "\u001b[1;31mIndexError\u001b[0m                                Traceback (most recent call last)",
      "Cell \u001b[1;32mIn[58], line 3\u001b[0m\n\u001b[0;32m      1\u001b[0m x \u001b[38;5;241m=\u001b[39m np\u001b[38;5;241m.\u001b[39marray([[\u001b[38;5;241m1\u001b[39m, \u001b[38;5;241m2\u001b[39m], [\u001b[38;5;241m3\u001b[39m, \u001b[38;5;241m4\u001b[39m], [\u001b[38;5;241m5\u001b[39m, \u001b[38;5;241m6\u001b[39m]])\n\u001b[0;32m      2\u001b[0m \u001b[38;5;66;03m# print(x[(1,2,3),])\u001b[39;00m\n\u001b[1;32m----> 3\u001b[0m \u001b[38;5;28mprint\u001b[39m(\u001b[43mx\u001b[49m\u001b[43m[\u001b[49m\u001b[43m(\u001b[49m\u001b[38;5;241;43m1\u001b[39;49m\u001b[43m,\u001b[49m\u001b[38;5;241;43m2\u001b[39;49m\u001b[43m,\u001b[49m\u001b[38;5;241;43m3\u001b[39;49m\u001b[43m)\u001b[49m\u001b[43m]\u001b[49m)\n",
      "\u001b[1;31mIndexError\u001b[0m: too many indices for array: array is 2-dimensional, but 3 were indexed"
     ]
    }
   ],
   "source": [
    "x = np.array([[1, 2], [3, 4], [5, 6]])\n",
    "# print(x[(1,2,3),])\n",
    "print(x[(1,2,3)])"
   ]
  },
  {
   "cell_type": "code",
   "execution_count": null,
   "id": "5367d4f6-74ca-4fc4-ae6e-32d9d8fc5305",
   "metadata": {},
   "outputs": [],
   "source": []
  },
  {
   "cell_type": "code",
   "execution_count": 35,
   "id": "873cab18-f084-4975-8aa4-73e69948b211",
   "metadata": {},
   "outputs": [
    {
     "data": {
      "text/plain": [
       "(array([0, 0, 0, 0, 0, 0, 1, 1, 1, 1, 1, 1, 2, 2, 2, 2, 2]),\n",
       " array([0, 0, 1, 1, 2, 2, 0, 0, 1, 1, 2, 2, 0, 0, 1, 1, 2]),\n",
       " array([0, 1, 0, 1, 0, 1, 0, 1, 0, 1, 0, 1, 0, 1, 0, 1, 1]))"
      ]
     },
     "execution_count": 35,
     "metadata": {},
     "output_type": "execute_result"
    }
   ],
   "source": [
    "test=arr_3d.nonzero()\n",
    "test"
   ]
  },
  {
   "cell_type": "code",
   "execution_count": 36,
   "id": "66d5f941-40fe-489a-b0ef-2736cd2b93c9",
   "metadata": {},
   "outputs": [
    {
     "data": {
      "text/plain": [
       "array([ 1,  2,  4,  3,  7,  4,  2,  8,  9, 10,  7,  5,  1,  6,  3, 11,  2],\n",
       "      dtype=int32)"
      ]
     },
     "execution_count": 36,
     "metadata": {},
     "output_type": "execute_result"
    }
   ],
   "source": [
    "arr_3d[test]"
   ]
  },
  {
   "cell_type": "code",
   "execution_count": null,
   "id": "98b7a85d-12ad-45cb-8c07-18cfd0a47b2b",
   "metadata": {},
   "outputs": [],
   "source": []
  },
  {
   "cell_type": "markdown",
   "id": "0c5534b8-6381-444e-8d00-40253329e12d",
   "metadata": {},
   "source": [
    "# by values with conditionals\n",
    "\n",
    "# nonzero?\n",
    "\n",
    "# argmin, argmax\n",
    "\n",
    "# selecting with less indexes than dims and use of ...?\n",
    "\n",
    "# advanced indexing, indexing arrays with arrays\n",
    "\n",
    "# where?"
   ]
  },
  {
   "cell_type": "code",
   "execution_count": null,
   "id": "060f8af1-c55b-411d-aab4-140435d68303",
   "metadata": {},
   "outputs": [],
   "source": [
    "#1 Elementwise Array Math Operations\n",
    "###addition, subtraction, multiplication, division,exp, sqrt\n",
    "### when operating with arrays of different types the type of the resulting array corresponds to the larger-memory type (upcasting)\n",
    "\n",
    "### broadcasting\n",
    "\n",
    "## aggregation functions\n",
    "###sum,mean,median,min,max,prod,std etc.\n",
    "\n",
    "\n",
    "#2 copies and views, deep copy with .copy\n",
    "\n",
    "#3 query\n",
    "# np.unique, all, any, where, nonzero, fill\n",
    "\n",
    "#4 np.zeros, ones, empty, arange, linspace, random.default_rng, rng.integers\n",
    "\n",
    "#5 manipulations\n",
    "##reshape, newaxis, expand_dims, vstack, hstack, hsplit, transpose, flatten,  concatenate, np.sort\n",
    "\n",
    "#6 I/O\n",
    "# formats numpy can handle\n",
    "# npy format, save and load\n",
    "    # use temperature data for the example, show all different files with metadata \n",
    "# loadtxt, savetxt\n",
    "# using pandas to read into numpy array and write to csv\n"
   ]
  },
  {
   "cell_type": "code",
   "execution_count": null,
   "id": "83afe3e1-5ad8-430c-92b9-9a8c9908c037",
   "metadata": {},
   "outputs": [],
   "source": [
    "\n",
    "\n",
    "\n",
    "\n",
    "\n",
    "\n"
   ]
  },
  {
   "cell_type": "code",
   "execution_count": null,
   "id": "3c014e0c-a7c4-4371-9661-56644bfa5e24",
   "metadata": {},
   "outputs": [],
   "source": []
  },
  {
   "cell_type": "code",
   "execution_count": null,
   "id": "1206ff74-bb3e-4b6e-92c3-6aa2d530a9d6",
   "metadata": {},
   "outputs": [],
   "source": []
  },
  {
   "cell_type": "code",
   "execution_count": null,
   "id": "a4720b9d-a6cf-4bae-a5df-c9febcea158a",
   "metadata": {},
   "outputs": [],
   "source": []
  },
  {
   "cell_type": "code",
   "execution_count": null,
   "id": "5d063411-c488-4e82-bd41-605b8fe6c702",
   "metadata": {},
   "outputs": [],
   "source": []
  },
  {
   "cell_type": "code",
   "execution_count": null,
   "id": "116a391d-6463-4766-916a-a89db3e2a0a1",
   "metadata": {},
   "outputs": [],
   "source": []
  },
  {
   "cell_type": "code",
   "execution_count": null,
   "id": "c7bc1903-11a5-4242-91ec-06d2edd0730c",
   "metadata": {},
   "outputs": [],
   "source": []
  },
  {
   "cell_type": "code",
   "execution_count": null,
   "id": "5d6f70d7-1b43-4e6d-8ddb-8fa6e9961289",
   "metadata": {},
   "outputs": [],
   "source": []
  },
  {
   "cell_type": "code",
   "execution_count": null,
   "id": "a706f5e5-2452-4f04-90e3-5db971596eda",
   "metadata": {},
   "outputs": [],
   "source": [
    "np.finfo(np.float64)"
   ]
  },
  {
   "cell_type": "code",
   "execution_count": null,
   "id": "2563708e-cf4e-4809-b5cc-a216598d45cd",
   "metadata": {},
   "outputs": [],
   "source": [
    "np.finfo(np.float64).precision"
   ]
  },
  {
   "cell_type": "code",
   "execution_count": null,
   "id": "61bacef5-80ab-43dc-ba39-c0b18f99e67e",
   "metadata": {},
   "outputs": [],
   "source": [
    "np.sctypeDict"
   ]
  },
  {
   "cell_type": "code",
   "execution_count": null,
   "id": "527a97e6-e22b-4240-b343-d7df13ffa6e5",
   "metadata": {},
   "outputs": [],
   "source": []
  }
 ],
 "metadata": {
  "kernelspec": {
   "display_name": "canvas_beginner",
   "language": "python",
   "name": "canvas_beginner"
  },
  "language_info": {
   "codemirror_mode": {
    "name": "ipython",
    "version": 3
   },
   "file_extension": ".py",
   "mimetype": "text/x-python",
   "name": "python",
   "nbconvert_exporter": "python",
   "pygments_lexer": "ipython3",
   "version": "3.13.0"
  }
 },
 "nbformat": 4,
 "nbformat_minor": 5
}
