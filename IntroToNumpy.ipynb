{
 "cells": [
  {
   "cell_type": "markdown",
   "id": "1768413a-c9cc-4d37-85c9-cfe4eb0704d7",
   "metadata": {},
   "source": [
    "# Introduction to NumPy for Working with Numerical Data Arrays"
   ]
  },
  {
   "cell_type": "markdown",
   "id": "db644034-050c-4ae3-b249-80d0b26e714d",
   "metadata": {
    "editable": true,
    "slideshow": {
     "slide_type": ""
    },
    "tags": []
   },
   "source": [
    "<div class=\"alert alert-success\">\n",
    "    \n",
    "## This notebook covers\n",
    "- NumPy multidimensional array data structure\n",
    "- NumPy data types\n",
    "- Array creation\n",
    "- Basic and advanced indexing\n",
    "- Elementwise array calculations\n",
    "- Array aggregation functions\n",
    "- Broadcasting\n",
    "- Views and copies\n",
    "- Query functions\n",
    "- Array manipulation\n",
    "- Reading and writing array data\n",
    "</div>"
   ]
  },
  {
   "cell_type": "markdown",
   "id": "cec7f935-a8ca-4192-836f-ba569d498b98",
   "metadata": {
    "editable": true,
    "slideshow": {
     "slide_type": ""
    },
    "tags": []
   },
   "source": [
    "<div class=\"alert alert-warning\">\n",
    "\n",
    "## Reminders\n",
    "\n",
    "Remember, you can use Jupyter's built-in table of contents (hamburger on the far left) to jump from heading to heading.\n",
    "\n",
    "---\n",
    "\n",
    "This notebook will run in the MSUpy conda environment, which you create in the previous lesson. To select the Jupyter kernel the MSUpy environment go to the Kernel tab, select Change Kernel, then select the MSUpy kernel in the pop up window.\n",
    "\n",
    "---\n",
    "\n",
    "To turn on line number for code cells go to View menu and click Show Line Numbers.\n",
    "\n",
    "</div>"
   ]
  },
  {
   "cell_type": "markdown",
   "id": "a7a10e75-ab62-4798-b547-2b80b1e896be",
   "metadata": {},
   "source": [
    "# I. Importing Necessary Packages"
   ]
  },
  {
   "cell_type": "code",
   "execution_count": 180,
   "id": "2082d529-6fc3-4edf-9ade-0f6d3e2f8a26",
   "metadata": {},
   "outputs": [],
   "source": [
    "import numpy as np\n",
    "import matplotlib.pyplot as plt"
   ]
  },
  {
   "cell_type": "markdown",
   "id": "6343d55f-4c6e-4ae3-a9dd-10264e3aa3fd",
   "metadata": {
    "editable": true,
    "slideshow": {
     "slide_type": ""
    },
    "tags": []
   },
   "source": [
    "# II. Introduction to the NumPy Data Structure\n",
    "\n",
    "The NumPy (**Num**erical **Py**thon) package is widely used in science and engineering for working with data in homogenous (same data type) multidimensional arrays. Using NumPy multidimensional arrays, as opposed to nested Python lists, improves speed, reduces memory consumption, and offers easier syntax for performing a variety of common data processing tasks. \n",
    "\n",
    "## Data Structure - ndarray\n",
    "\n",
    "The NumPy data structure is called an *ndarray*, for n-dimensional array, which we may refer to throughout this notebook simply as an \"array\". Below is a schematic of a 1-d, 2-d, and 3-d array. A 1-d array looks similar to a list or a single row of data values. A 2-d array looks similar to a grid or table with rows and columns. A 3-d array looks similar to a cube or cuboid. Each dimension in an ndarray is called an *axis* and the first axis is always axis zero, keeping consistent with Python's zero-based indexing. Also, NumPy arrays must be rectangular and not jagged (i.e., each row of a two-dimensional array must have the same number of columns) and all of the data values in each array must be of the same data type. You'll notice below that similar to Pandas DataFrames, NumPy arrays have a shape attribute where each number in the shape tuple is the length of an array axis. \n",
    "\n",
    "<img src=\"images/numpy_arrays.png\" alt=\"schematic of ndarrays\" width=\"700\"/>\n",
    "\n",
    "It could be helpful to think of array dimensionality in terms of the data your arrays could hold (see image below). A geoscientist, for example, may use a 1-d array to hold solar radiation observations over time at a single location (a timeseries). In this case the only axis (axis 0) would represent data values at different times. A 2-d array could hold spatially gridded data like a gridded map of annual mean temperature or alternatively it could hold land surface imagery with 1-meter pixel resolution, for example. In this case axis 0 (rows) could represent data values at different latitudes and axis 1 (columns) could represent data values at different longitudes. A 3-d array could hold a timeseries of spatially gridded data like daily gridded maximum temperature. In this case axis 0 (the stack in the image below) could represent different times and axes 1 and 2 could represent different latitudes and longitudes.  \n",
    "\n",
    "<img src=\"images/numpy_geoarrays.png\" alt=\"ndarray data examples\" width=\"700\"/>\n",
    "\n",
    "The above are examples of array data you may encounter frequently, but actually NumPy arrays can have as many axes as you can dream up and each axis can represent whatever you want it to. In this notebook though, we'll think of 1-d arrays mostly as timeseries, 2-d arrays as latitude-longitude grids, and 3-d arrays as timeseries of latitude-longitude grids. \n",
    "\n",
    "We won't get into higher dimensional data arrays and we'll only work with numerical data arrays (integer, float, boolean). Technically, NumPy arrays can contain numerical or non-numerical data (such as strings and bytes) but non-numerical data must be defined as fixed-width data types, which requires knowing or calculating the sizes of the longest text or byte sequence in advance. We will not cover non-numerical NumPy arrays in this course. \n",
    "\n",
    "## NumPy Data Types\n",
    "\n",
    "We'll cover a few, but not all, of the NumPy numerical data types here. NumPy supports a much greater variety of numerical data types than core Python does. NumPy numerical data types are more specific than the core Python numerical data types, allowing for more efficient memory usage and faster computation. More detail can be found in the [NumPy Documentation for Data Types](https://numpy.org/doc/stable/user/basics.types.html#data-types).\n",
    "\n",
    "The NumPy data types below are *concrete* types, meaning that a consistent number of bits are reserved for each individual data value in memory. A bit is the smallest unit of data in a computer (represented by a 0 or a 1) and you need 8 bits (1 byte) to represent one character like a letter or number in memory. The concrete data types below are named by combining the basic numerical type name (e.g., integer, float) with the number of bits that are needed to represent a single value in memory (bitsize).\n",
    "\n",
    "NumPy Data Type | Description | Value Range\n",
    "---|---|---\n",
    "np.bool_ | 8-bit Boolean | True/False, not equivalent to 1,0\n",
    "np.int8 | 8-bit integer value | -128 to 127\n",
    "np.int16 | 16-bit integer value | -32768 to 32767\n",
    "np.int32 | 32-bit integer value | -2147483648 to 2147483647\n",
    "np.int64 | 64-bit integer value | -9223372036854775808 to 9223372036854775807\n",
    "np.uint8 | unsigned 8-bit integer value | 0 to 255\n",
    "np.uint16 | unsigned 16-bit integer value | 0 to 65535\n",
    "np.uint32 | unsigned 32-bit integer value | 0 to 4294967295\n",
    "np.uint64 | unsigned 64-bit integer value | 0 to 18446744073709551615\n",
    "np.float16 | half precision float values | Precision: 3 decimal digits<br /> Range: ±6.55040e4 \n",
    "np.float32 | single-precision float values | Precision: 6 decimal digits<br /> Range: ±3.4028235e+38, \n",
    "np.float64 | double-precision float values | Precision: 15 decimal digits<br /> Range: ±1.7976931348623157e+308 "
   ]
  },
  {
   "cell_type": "markdown",
   "id": "cb00e9bd-4170-457a-8d93-6cb67b780a68",
   "metadata": {},
   "source": [
    "<div class=\"alert alert-danger\">\n",
    "\n",
    "**Sidebar: Pay attention to your data types**\n",
    "\n",
    "When you start working with larger array objects, you will need to be more aware of how much memory your objects are consuming to avoid running into the RAM limitations of your computer. \n",
    "\n",
    "For example, if you obtain daily gridded temperature or precipitation data they are often provided as float64. This is a wildly unneccesary amount of precision for these data. You can certainly covert to float32 which would result in speedier calculations and use only half the memory as float64. For temperature, you can convert to float16 for even faster calculations and 1/4 of the memory use as float64. For precipitation or other data that may require more than 3 decimal places or contain values greater than ~65500 the smallest/fastest data type may be float32.\n",
    "\n",
    "If you try converting your data to a smaller data type and receive an \"overflow\" warning, that means 1 or more of your data values cannot be properly represented with fewer bits. We'll cover an example of this later.\n",
    "</div>"
   ]
  },
  {
   "cell_type": "markdown",
   "id": "4c240028-9a35-44ab-aab3-46e8d99e3b45",
   "metadata": {},
   "source": [
    "Although not necessary recommended, NumPy arrays can also hold data of built-in Python types. The NumPy aliases to the built-in Python data types for boolean, integer, and float are:\n",
    "\n",
    "Python Built-in Type | NumPy Alias | Description\n",
    "---|---|---\n",
    "bool | np.bool | boolean True/False, equivalent to 1,0\n",
    "int | np.int | integer values of variable size in memory\n",
    "float | np.float | float values of variable size in memory\n",
    "\n",
    "\n",
    "## Creating a NumPy Array from Scratch\n",
    "\n",
    "We'll first create 1-D, 2-D, and 3-D NumPy arrays and later we'll learn how to read data from file into NumPy arrays. \n",
    "\n",
    "First, a 1-D array. Create it using the ```numpy.array()``` function and give the function a Python list of numbers as the input parameter."
   ]
  },
  {
   "cell_type": "code",
   "execution_count": 2,
   "id": "a231a605-7d38-4c28-b394-5b9d4443d87d",
   "metadata": {},
   "outputs": [
    {
     "name": "stdout",
     "output_type": "stream",
     "text": [
      "(10,)\n"
     ]
    },
    {
     "data": {
      "text/plain": [
       "array([ 1,  2,  3,  4,  5,  6,  7,  8,  9, 10])"
      ]
     },
     "execution_count": 2,
     "metadata": {},
     "output_type": "execute_result"
    }
   ],
   "source": [
    "arr_1d = np.array([1,2,3,4,5,6,7,8,9,10])\n",
    "\n",
    "print(arr_1d.shape)\n",
    "arr_1d"
   ]
  },
  {
   "cell_type": "markdown",
   "id": "7d162876-c1d5-4faf-8784-7b93dba078b0",
   "metadata": {},
   "source": [
    "This should be fairly straightforward. Notice that, like Pandas offers the ```.shape``` attribute for its data structure (the dataframe), NumPy offers the ```.shape``` attribute as well for its data structure (the ndarray). \n",
    "\n",
    "Why the trailing comma in the shape tuple?\n",
    "\n",
    "It's just part of the Python language. The ```.shape``` attribute always returns a tuple and the trailing comma indicates that it is a single-element tuple (you can't have a single-element tuple without the trailing comma). There is only 1 dimension (i.e., axis) in our array so our shape tuple will only have 1 element.\n",
    "\n",
    "Now, we'll create a 2-D array by giving the ```numpy.array()``` function a nested Python list of numbers as the input parameter."
   ]
  },
  {
   "cell_type": "code",
   "execution_count": 3,
   "id": "85178de4-0d73-4913-b26b-3523d1c01a12",
   "metadata": {},
   "outputs": [
    {
     "name": "stdout",
     "output_type": "stream",
     "text": [
      "(2, 5)\n"
     ]
    },
    {
     "data": {
      "text/plain": [
       "array([[ 1,  2,  3,  4,  5],\n",
       "       [ 6,  7,  8,  9, 10]])"
      ]
     },
     "execution_count": 3,
     "metadata": {},
     "output_type": "execute_result"
    }
   ],
   "source": [
    "arr_2d = np.array([[1,2,3,4,5],\n",
    "                   [6,7,8,9,10]])\n",
    "\n",
    "print(arr_2d.shape)\n",
    "arr_2d"
   ]
  },
  {
   "cell_type": "markdown",
   "id": "5259b323-ba84-439b-8b4a-f204379aff9f",
   "metadata": {},
   "source": [
    "The result is an array with 2 rows and 5 columns of data values. \n",
    "\n",
    "The length (5) of the innermost nested list that you provide to ```numpy.array()``` (e.g., ```[1, 2, 3, 4, 5]``` and ```[6, 7, 8, 9, 10]```) is the last (rightmost) axis in the array shape. It's often helpful to think of the last axis of your arrays with 2 or more axes as your columns.\n",
    "\n",
    "The number of innermost lists (2) is the next axis to the left (second to last axis). It's often helpful to think of the second to last axis of your arrays with 2 or more axes as your rows.\n",
    "\n",
    "Let's try a 3-D array."
   ]
  },
  {
   "cell_type": "code",
   "execution_count": 15,
   "id": "762181a8-231b-4ef7-a0a9-b1bcd4124c22",
   "metadata": {},
   "outputs": [
    {
     "name": "stdout",
     "output_type": "stream",
     "text": [
      "(3, 3, 2)\n"
     ]
    },
    {
     "data": {
      "text/plain": [
       "array([[[ 1,  2],\n",
       "        [ 4,  3],\n",
       "        [ 7,  4]],\n",
       "\n",
       "       [[ 2,  8],\n",
       "        [ 9, 10],\n",
       "        [ 7,  5]],\n",
       "\n",
       "       [[ 1,  6],\n",
       "        [ 3, 11],\n",
       "        [ 0,  2]]])"
      ]
     },
     "execution_count": 15,
     "metadata": {},
     "output_type": "execute_result"
    }
   ],
   "source": [
    "arr_3d = np.array([[[1, 2], \n",
    "                    [4,3], \n",
    "                    [7,4]],\n",
    "                   [[2, 8], \n",
    "                    [9, 10], \n",
    "                    [7, 5]],\n",
    "                   [[1, 6], \n",
    "                    [3, 11], \n",
    "                    [0, 2]]])\n",
    "\n",
    "print(arr_3d.shape)\n",
    "arr_3d"
   ]
  },
  {
   "cell_type": "markdown",
   "id": "16165b50-b872-4029-bd0c-70a4b7fd9a54",
   "metadata": {},
   "source": [
    "Again, the length (2) of the innermost nested list that you provide to ```numpy.array()``` is the last axis in the array shape (axis 2). The number of innermost lists (3) inside the next nest level is the second to last axis (axis 1). The number of 3x2 nested lists (3) inside the next nest level is the next dimension to the left (axis 0). It's often helpful to think of 3-D arrays as stack, rows, columns.\n",
    "\n",
    "If we think about this array as having dimensions time, latitude, longitude then this array would contain a 3x2 gridded map of data (3 latitudes by 2 longitudes) at 3 different times. Where longitudes are your columns (last axis), latitudes are your rows (next to last axis), and time is the stack (leftmost axis) of your 3-D data \"cube\".\n",
    "\n",
    "Let's visualize this array in three dimensions. Look at where the ```[1, 2]``` appears. The ```[1, 2]``` represents the data values at the first time, the first latitude, and all (2) longitudes. \n",
    "\n",
    "<img src=\"images/numpy3D_selection.png\" alt=\"ndarray data examples\" width=\"300\"/>\n",
    "\n",
    "## Array Attributes\n",
    "\n",
    "Each ndarray has a number of *attributes*. We've already seen one of these above with ```.shape```. The others we will cover are ```.ndim```, ```.size```, ```.dtype```, ```.itemsize```, and ```.nbytes```. The full list of attributes can be found in the [NumPy API reference for numpy.ndarray](https://numpy.org/doc/stable/reference/generated/numpy.ndarray.html)."
   ]
  },
  {
   "cell_type": "code",
   "execution_count": 19,
   "id": "8d41404a-4030-4f7f-b71f-75766175b5ea",
   "metadata": {},
   "outputs": [
    {
     "name": "stdout",
     "output_type": "stream",
     "text": [
      "(3, 3, 2)\n",
      "3\n",
      "18\n"
     ]
    }
   ],
   "source": [
    "print(arr_3d.shape)\n",
    "print(arr_3d.ndim)\n",
    "print(arr_3d.size)"
   ]
  },
  {
   "cell_type": "markdown",
   "id": "89005c2d-fbc9-4f12-9e7f-fa88d0371221",
   "metadata": {},
   "source": [
    "```.shape``` returns a tuple with the number of elements along each dimension.\n",
    "\n",
    "```.ndim``` returns the number of dimensions.\n",
    "\n",
    "```.size``` returns the total number of elements in the array. In this case, 3 * 3 * 2 = 18."
   ]
  },
  {
   "cell_type": "code",
   "execution_count": 20,
   "id": "ef0a7c8c-7115-4cf9-88cf-57df2613c3b1",
   "metadata": {},
   "outputs": [
    {
     "name": "stdout",
     "output_type": "stream",
     "text": [
      "int32\n",
      "4\n",
      "72\n"
     ]
    }
   ],
   "source": [
    "print(arr_3d.dtype)\n",
    "print(arr_3d.itemsize)\n",
    "print(arr_3d.nbytes)"
   ]
  },
  {
   "cell_type": "markdown",
   "id": "3578f21c-6acf-46ea-be72-b37a67b31385",
   "metadata": {},
   "source": [
    "```.dtype``` returns the data type.\n",
    "\n",
    "```.itemsize``` returns the bytes consumed by one single element in the array. Remember, NumPy arrays are homogenous, so each element of an array will consume the same number of bytes.\n",
    "\n",
    "```.nbytes``` returns the total bytes consumed by the array. This will be the number of elements in the array (```.size```) times the size in bytes of one element (```.itemsize```). (You can also infer the size of one element in bytes from your data type, e.g., int64 means one element takes up 64 bits of memory which is equivalent to 64 / 8 = 8 bytes)\n",
    "\n",
    "**What is the data type of your ```arr_3D```?** Since we didn't specify a data type when we created ```arr_3D```, NumPy will recognize that the input is integer and the default integer data type that is assigned to the array will be based on the computer where you are running this notebook. If your computer has a 64-bit operating system, the default integer data type will be int64. If your computer has a 32-bit operating system, the default integer data type will be int32. This applies to float data as well. Today, most operating systems are 64-bit, so your ```.dtype``` output above probably says int64 and your ```.nbytes``` output probably says 144. If it doesn't, then your operating system is not 64-bit and that's ok too.  \n",
    "\n",
    "**Using less memory:** If you are always working with small data, then having all your data stored with 64 bits per data value (likely the default on your computer) is fine, but consuming that much memory per array element is likely overkill unless your data contains super large or super small numbers. It's a good idea to get into the habit of including a data type when you create your NumPy arrays. This way you can reduce how much memory your data consumes and your code will run faster. \n",
    "\n",
    "Let's recreate our 1-D and 2-D arrays using data types that consume less memory."
   ]
  },
  {
   "cell_type": "code",
   "execution_count": 17,
   "id": "4769dcfc-789f-4d06-a01b-b5c1f2f55265",
   "metadata": {},
   "outputs": [
    {
     "name": "stdout",
     "output_type": "stream",
     "text": [
      "arr_1d dtype is int8, arr_2d dtype is int16\n"
     ]
    }
   ],
   "source": [
    "# include the dtype parameter to store data using less memory\n",
    "arr_1d = np.array([1,2,3,4,5,6,7,8,9,10], dtype='int8')\n",
    "\n",
    "arr_2d = np.array([[1,2,3,4,5],\n",
    "                   [6,7,8,9,10]], dtype='int16')\n",
    "\n",
    "print(f'arr_1d dtype is {arr_1d.dtype}, arr_2d dtype is {arr_2d.dtype}')"
   ]
  },
  {
   "cell_type": "markdown",
   "id": "1a5bc2dc-6756-4fb9-858d-0b6cec963c4e",
   "metadata": {},
   "source": [
    "You can also convert the data type after you've created an array with the ndarray function ```.astype()```."
   ]
  },
  {
   "cell_type": "code",
   "execution_count": 18,
   "id": "245723cb-75a1-41c1-aa72-a2a92c847326",
   "metadata": {},
   "outputs": [
    {
     "data": {
      "text/plain": [
       "dtype('int32')"
      ]
     },
     "execution_count": 18,
     "metadata": {},
     "output_type": "execute_result"
    }
   ],
   "source": [
    "# convert dtype of existing array\n",
    "arr_3d = arr_3d.astype('int32')\n",
    "arr_3d.dtype"
   ]
  },
  {
   "cell_type": "markdown",
   "id": "7a19b1c4-9ffb-4620-a46d-ecf963303042",
   "metadata": {},
   "source": [
    "The choice of which data type to convert each array to in this example is arbitrary. All our example arrays contain only small positive integers that will fit into the smallest integer data types (int8 or uint8)."
   ]
  },
  {
   "cell_type": "markdown",
   "id": "2306ba39-77c6-47a2-8887-614073c3c254",
   "metadata": {},
   "source": [
    "<div class=\"alert alert-info\"> \n",
    "\n",
    "## Exercise 1: Create a NumPy Array from Scratch and Access Its Attributes\n",
    "\n",
    "Create a 2-dimensional 32-bit integer array called ```myArr2d``` with 4 rows and 3 columns.\n",
    "</div>"
   ]
  },
  {
   "cell_type": "code",
   "execution_count": 118,
   "id": "b220a9dd-413f-4750-a6ae-d8146aa18e59",
   "metadata": {},
   "outputs": [],
   "source": [
    "# add your code here\n",
    "myArr2d = np.array([[1,2,3],\n",
    "                    [4,5,6],\n",
    "                    [7,8,9],\n",
    "                    [10,11,12]],\n",
    "                   dtype='int32')"
   ]
  },
  {
   "cell_type": "markdown",
   "id": "ac47fda1-0351-43dd-9b40-1aa39aa40f40",
   "metadata": {},
   "source": [
    "<div class=\"alert alert-info\"> \n",
    "\n",
    "Programatically show the following attributes of ```myArr2d```:\n",
    "- its shape\n",
    "- how many total data values there are\n",
    "- its data type\n",
    "- the total number of bytes it consumes\n",
    "</div>"
   ]
  },
  {
   "cell_type": "code",
   "execution_count": 119,
   "id": "446f8ac6-4050-4844-9466-aea092141e70",
   "metadata": {},
   "outputs": [
    {
     "name": "stdout",
     "output_type": "stream",
     "text": [
      "(4, 3)\n",
      "12\n",
      "int32\n",
      "48\n"
     ]
    }
   ],
   "source": [
    "# add your code here\n",
    "print(myArr2d.shape)\n",
    "print(myArr2d.size)\n",
    "print(myArr2d.dtype)\n",
    "print(myArr2d.nbytes)"
   ]
  },
  {
   "cell_type": "markdown",
   "id": "7a3ce3ff-8218-496b-bb02-4699215ae508",
   "metadata": {},
   "source": [
    "# III. Indexing and Slicing Data\n",
    "\n",
    "Indexing and slicing are ways to select data values in your arrays. NumPy offers multiple ways you can index arrays: *basic indexing* and *advanced indexing*, which we will cover, and field access, which we will not cover. \n",
    "\n",
    "## Basic Indexing and Slicing\n",
    "\n",
    "Basic indexing allows you to index and slice NumPy arrays in a way very similar to how you can index and slice Python lists. You will notice the similar syntax and the exclusive slice end index. Basic indexing and slicing result in a view into an existing array, rather than a new array. We'll demonstrate what this means shortly.\n",
    "\n",
    "### Single Cell\n",
    "\n",
    "To select a single cell of an array you need to provide an index value for each array axis separated by a comma."
   ]
  },
  {
   "cell_type": "code",
   "execution_count": 123,
   "id": "e1eed38b-4967-43b4-a351-9a41869e0052",
   "metadata": {},
   "outputs": [
    {
     "name": "stdout",
     "output_type": "stream",
     "text": [
      "[ 1  2  3  4  5  6  7  8  9 10]\n",
      "1\n",
      "10\n"
     ]
    }
   ],
   "source": [
    "# single cell basic indexing of 1d array\n",
    "# 1d array, 1 index value\n",
    "print(arr_1d)\n",
    "print(arr_1d[0])  # first element\n",
    "print(arr_1d[-1]) # last element"
   ]
  },
  {
   "cell_type": "code",
   "execution_count": 121,
   "id": "04c202fa-b26e-4e5e-ba87-e477d06d853c",
   "metadata": {},
   "outputs": [
    {
     "name": "stdout",
     "output_type": "stream",
     "text": [
      "[[ 1  2  3  4  5]\n",
      " [ 6  7  8  9 10]]\n",
      "6\n"
     ]
    }
   ],
   "source": [
    "# single cell basic indexing of 2d array\n",
    "# 2d array, 2 index values\n",
    "print(arr_2d)\n",
    "print(arr_2d[1,0])"
   ]
  },
  {
   "cell_type": "code",
   "execution_count": 122,
   "id": "b71cfce4-d2b5-4f71-a80f-d82b3bf9337b",
   "metadata": {},
   "outputs": [
    {
     "name": "stdout",
     "output_type": "stream",
     "text": [
      "[[[ 1  2]\n",
      "  [ 4  3]\n",
      "  [ 7  4]]\n",
      "\n",
      " [[ 2  8]\n",
      "  [ 9 10]\n",
      "  [ 7  5]]\n",
      "\n",
      " [[ 1  6]\n",
      "  [ 3 11]\n",
      "  [ 0  2]]]\n",
      "5\n"
     ]
    }
   ],
   "source": [
    "# single cell basic indexing of 3d array\n",
    "# 3d array, 3 index values\n",
    "print(arr_3d)\n",
    "print(arr_3d[1,2,1])"
   ]
  },
  {
   "cell_type": "markdown",
   "id": "498776e7-0ec1-4871-84b9-333d06eff201",
   "metadata": {},
   "source": [
    "You may not need this very often, but you can also use a tuple for indexing."
   ]
  },
  {
   "cell_type": "code",
   "execution_count": 94,
   "id": "1cb65233-9639-45cf-a8a9-b880b15af96a",
   "metadata": {},
   "outputs": [
    {
     "data": {
      "text/plain": [
       "np.int16(6)"
      ]
     },
     "execution_count": 94,
     "metadata": {},
     "output_type": "execute_result"
    }
   ],
   "source": [
    "# select a single value with a tuple\n",
    "arr_2d[(1,0)] # second row, first column"
   ]
  },
  {
   "cell_type": "markdown",
   "id": "c3c6195b-7585-49dc-85e3-8586c46c03ba",
   "metadata": {},
   "source": [
    "### Slice of 1 Row\n",
    "\n",
    "A single colon is used as the index value if you want all of the values along a particular dimension."
   ]
  },
  {
   "cell_type": "code",
   "execution_count": 61,
   "id": "9c422440-6820-4ab5-8c56-4e75d28b18c7",
   "metadata": {},
   "outputs": [
    {
     "name": "stdout",
     "output_type": "stream",
     "text": [
      "[[ 1  2  3  4  5]\n",
      " [ 6  7  8  9 10]]\n",
      "--------------------\n",
      "[ 6  7  8  9 10]\n"
     ]
    }
   ],
   "source": [
    "# select the second row (all columns)\n",
    "print(arr_2d)\n",
    "print('--------------------')\n",
    "print(arr_2d[1,:])"
   ]
  },
  {
   "cell_type": "code",
   "execution_count": 62,
   "id": "1bfd8975-f324-4d3e-ab15-a247f7c8b9e6",
   "metadata": {},
   "outputs": [
    {
     "name": "stdout",
     "output_type": "stream",
     "text": [
      "[[[ 1  2]\n",
      "  [ 4  3]\n",
      "  [ 7  4]]\n",
      "\n",
      " [[ 2  8]\n",
      "  [ 9 10]\n",
      "  [ 7  5]]\n",
      "\n",
      " [[ 1  6]\n",
      "  [ 3 11]\n",
      "  [ 0  2]]]\n",
      "--------------------\n",
      "[1 2]\n"
     ]
    }
   ],
   "source": [
    "# select the first time, first latitude, all longitudes\n",
    "print(arr_3d)\n",
    "print('--------------------')\n",
    "print(arr_3d[0,0,:])"
   ]
  },
  {
   "cell_type": "markdown",
   "id": "7e773f8d-a2fc-4972-b185-8c8f2af1a967",
   "metadata": {},
   "source": [
    "### Slice of 1 Column"
   ]
  },
  {
   "cell_type": "code",
   "execution_count": 63,
   "id": "7009e8ea-e136-4dc6-b50d-a61384ab0521",
   "metadata": {},
   "outputs": [
    {
     "name": "stdout",
     "output_type": "stream",
     "text": [
      "[[ 1  2  3  4  5]\n",
      " [ 6  7  8  9 10]]\n",
      "--------------------\n"
     ]
    },
    {
     "data": {
      "text/plain": [
       "array([1, 6], dtype=int16)"
      ]
     },
     "execution_count": 63,
     "metadata": {},
     "output_type": "execute_result"
    }
   ],
   "source": [
    "print(arr_2d)\n",
    "print('--------------------')\n",
    "arr_2d[:,0]"
   ]
  },
  {
   "cell_type": "markdown",
   "id": "80cdff2a-1dce-455b-85a3-5a26279d8338",
   "metadata": {},
   "source": [
    "### Slice Along a Single Dimension\n",
    "\n",
    "Providing a start and end index on each side of a colon works to select multiple indexes, exclusive of the end index."
   ]
  },
  {
   "cell_type": "code",
   "execution_count": 64,
   "id": "5f4b6757-a2bd-415b-bfd9-3602dc604413",
   "metadata": {},
   "outputs": [
    {
     "name": "stdout",
     "output_type": "stream",
     "text": [
      "[[ 1  2  3  4  5]\n",
      " [ 6  7  8  9 10]]\n",
      "--------------------\n"
     ]
    },
    {
     "data": {
      "text/plain": [
       "array([[2, 3],\n",
       "       [7, 8]], dtype=int16)"
      ]
     },
     "execution_count": 64,
     "metadata": {},
     "output_type": "execute_result"
    }
   ],
   "source": [
    "# all rows, slice of columns\n",
    "print(arr_2d)\n",
    "print('--------------------')\n",
    "arr_2d[:,1:3]"
   ]
  },
  {
   "cell_type": "markdown",
   "id": "8bcbd548-cc59-4ece-87df-3be9dddea8b1",
   "metadata": {},
   "source": [
    "### Slice Along Multiple Dimensions\n",
    "\n",
    "Selecting the second and third time, first and second latitude, first longitude of ```arr_3d```\n",
    "\n",
    "\n",
    "<img src=\"images/numpy3D_multipledims.png\" alt=\"schematic of what to select\" width=\"300\"/>"
   ]
  },
  {
   "cell_type": "code",
   "execution_count": 66,
   "id": "96c4d323-0448-451f-a8d6-54d625969b3b",
   "metadata": {},
   "outputs": [
    {
     "data": {
      "text/plain": [
       "array([[2, 9],\n",
       "       [1, 3]], dtype=int32)"
      ]
     },
     "execution_count": 66,
     "metadata": {},
     "output_type": "execute_result"
    }
   ],
   "source": [
    "# second and third time, first and second latitude, first longitude\n",
    "arr_3d[1:,0:2,0]"
   ]
  },
  {
   "cell_type": "markdown",
   "id": "3a3a73d9-c1d1-48a9-bca6-56466da21fb0",
   "metadata": {},
   "source": [
    "### Slicing with a Stride\n",
    "\n",
    "To include a stride in a slice you can use the syntax ```start:end:stride```. In this example we take a slice of columns that includes every other column from index 0 to index 2:"
   ]
  },
  {
   "cell_type": "code",
   "execution_count": 134,
   "id": "124b113c-0813-4916-81e4-93e1c9b675e0",
   "metadata": {},
   "outputs": [
    {
     "name": "stdout",
     "output_type": "stream",
     "text": [
      "[[ 1  2  3  4  5]\n",
      " [ 6  7  8  9 10]]\n",
      "--------------------\n"
     ]
    },
    {
     "data": {
      "text/plain": [
       "array([[1, 3],\n",
       "       [6, 8]], dtype=int16)"
      ]
     },
     "execution_count": 134,
     "metadata": {},
     "output_type": "execute_result"
    }
   ],
   "source": [
    "# all rows, slice of columns\n",
    "print(arr_2d)\n",
    "print('--------------------')\n",
    "arr_2d[:,0:3:2]"
   ]
  },
  {
   "cell_type": "markdown",
   "id": "894d4b14-2f53-4549-bf82-2d60b0bbcda9",
   "metadata": {},
   "source": [
    "An alternative syntax that includes a stride is ```start::stride```. This assumes you want to go all the way to the end of the sliced dimension."
   ]
  },
  {
   "cell_type": "code",
   "execution_count": 135,
   "id": "28a0aaa5-3b57-47d2-972f-66b84420ab0b",
   "metadata": {},
   "outputs": [
    {
     "data": {
      "text/plain": [
       "array([[2, 4],\n",
       "       [7, 9]], dtype=int16)"
      ]
     },
     "execution_count": 135,
     "metadata": {},
     "output_type": "execute_result"
    }
   ],
   "source": [
    "arr_2d[:,1::2]"
   ]
  },
  {
   "cell_type": "markdown",
   "id": "e22ec476-74ef-400e-a482-9bab1c87fb06",
   "metadata": {},
   "source": [
    "Lastly, if you want to stride along an entire dimension you don't really need to include a start or end index at all. You can use the syntax ```::stride```."
   ]
  },
  {
   "cell_type": "code",
   "execution_count": 137,
   "id": "09dc4bd3-923b-4390-a14a-1367d298e0ee",
   "metadata": {},
   "outputs": [
    {
     "data": {
      "text/plain": [
       "array([[ 1,  3,  5],\n",
       "       [ 6,  8, 10]], dtype=int16)"
      ]
     },
     "execution_count": 137,
     "metadata": {},
     "output_type": "execute_result"
    }
   ],
   "source": [
    "arr_2d[:,::2]"
   ]
  },
  {
   "cell_type": "markdown",
   "id": "637301a6-7674-4a4f-8738-223c39fe93e6",
   "metadata": {},
   "source": [
    "### Indexing with Elipses\n",
    "\n",
    "Elipses are short hand for all values in one or more dimensions. So ```arr_3d[0,...]``` is the same as ```arr_3d[0,:,:]```."
   ]
  },
  {
   "cell_type": "code",
   "execution_count": 105,
   "id": "c25296ab-e251-400e-aae6-2a19c9ecc754",
   "metadata": {},
   "outputs": [
    {
     "data": {
      "text/plain": [
       "array([[1, 2],\n",
       "       [4, 3],\n",
       "       [7, 4]], dtype=int32)"
      ]
     },
     "execution_count": 105,
     "metadata": {},
     "output_type": "execute_result"
    }
   ],
   "source": [
    "# all latitudes and longitudes at time index 0\n",
    "arr_3d[0,...]"
   ]
  },
  {
   "cell_type": "markdown",
   "id": "a6c9d384-a8c2-4812-aaf4-48a9db5cc7ec",
   "metadata": {},
   "source": [
    "### Indexing with Less Dimensions Than Present\n",
    "\n",
    "What happens if you provide indexing for less dimensions than are present in your array? NumPy will assume that the indexing you provide corresponds to leftmost axis and that you want all of the dimensions you haven't indexed."
   ]
  },
  {
   "cell_type": "code",
   "execution_count": 115,
   "id": "65565a6d-71e8-44c5-ae98-36e68c1f3a05",
   "metadata": {},
   "outputs": [
    {
     "data": {
      "text/plain": [
       "array([ 6,  7,  8,  9, 10], dtype=int16)"
      ]
     },
     "execution_count": 115,
     "metadata": {},
     "output_type": "execute_result"
    }
   ],
   "source": [
    "# using 1 index for a 2-dimensional array\n",
    "arr_2d[1]"
   ]
  },
  {
   "cell_type": "markdown",
   "id": "ba3fd9ca-39fd-407c-b47c-8bc57bfaad8c",
   "metadata": {},
   "source": [
    "In the example above you can see that if we only use a single index for a 2-dimensional array, NumPy will use that index value on axis 0 and give us all of the other dimension. In this case, ```arr_2d``` of index 1 means get the second row, all columns of the array.\n",
    "\n",
    "In other words, all of the following index syntax will return the same result:\n",
    "\n",
    "```arr_2d[1]```,   ```arr_2d[1,:]```,   ```arr_2d[1,...]```\n",
    "\n",
    "Now, let's look at what happens with our 3d array."
   ]
  },
  {
   "cell_type": "code",
   "execution_count": 116,
   "id": "8ccfd62b-e6a9-4cb4-93b0-d15791be2840",
   "metadata": {},
   "outputs": [
    {
     "data": {
      "text/plain": [
       "array([[1, 2],\n",
       "       [4, 3],\n",
       "       [7, 4]], dtype=int32)"
      ]
     },
     "execution_count": 116,
     "metadata": {},
     "output_type": "execute_result"
    }
   ],
   "source": [
    "arr_3d[0]"
   ]
  },
  {
   "cell_type": "markdown",
   "id": "7ba8803e-7732-4313-9f13-7cd340b93843",
   "metadata": {},
   "source": [
    "For a 3-dimensional array if there is a single index provided, NumPy assumes that index corresponds to the leftmost axis (axis 0), which in this case is our time axis. \n",
    "\n",
    "In other words, all of the following index syntax will return the same result:\n",
    "\n",
    "```arr_3d[0]```,   ```arr_3d[0,:,:]```,   ```arr_3d[0,...]```\n",
    "\n",
    "If we provide a second index for the 3-dimensional array, NumPy assumes the second index corresponds to the next leftmost axis. So two indexes given to a 3d array would correspond to axis 0 and axis 1. "
   ]
  },
  {
   "cell_type": "code",
   "execution_count": 117,
   "id": "c4394023-69ef-40e2-8365-07d5c9f819e5",
   "metadata": {},
   "outputs": [
    {
     "data": {
      "text/plain": [
       "array([4, 3], dtype=int32)"
      ]
     },
     "execution_count": 117,
     "metadata": {},
     "output_type": "execute_result"
    }
   ],
   "source": [
    "arr_3d[0,1]"
   ]
  },
  {
   "cell_type": "markdown",
   "id": "420fbb42-dddb-4bf5-9e83-b850574d5473",
   "metadata": {},
   "source": [
    "In other words, all of the following index syntax will return the same result:\n",
    "\n",
    "```arr_3d[0,1]```,   ```arr_3d[0,1,:]```,   ```arr_3d[0,1,...]```"
   ]
  },
  {
   "cell_type": "markdown",
   "id": "a783fd69-4dff-4a18-a2a4-78108f96a639",
   "metadata": {},
   "source": [
    "### Basic Indexing Results in a View\n",
    "\n",
    "As mentioned earlier, basic indexing and slicing results in a view into your existing array, not a copy of your array. Here's what that means:"
   ]
  },
  {
   "cell_type": "code",
   "execution_count": 203,
   "id": "6c9fe262-3e8a-475e-97a4-1e887be30e54",
   "metadata": {},
   "outputs": [
    {
     "name": "stdout",
     "output_type": "stream",
     "text": [
      "[1 2 3]\n",
      "[ 1  2  3  4  5  6  7  8  9 10]\n"
     ]
    }
   ],
   "source": [
    "# creating a view into arr_1d with basic indexing\n",
    "new_arr = arr_1d[0:3]\n",
    "\n",
    "print(new_arr)\n",
    "print(arr_1d)"
   ]
  },
  {
   "cell_type": "markdown",
   "id": "e898521a-0fd7-48f8-a39e-267d39066d25",
   "metadata": {},
   "source": [
    "```arr_1d``` is our original data array and ```new_arr``` is a view into ```arr_1d```. This means if we change a value in ```new_arr```, that same value will change in ```arr_1d``` as well."
   ]
  },
  {
   "cell_type": "code",
   "execution_count": 204,
   "id": "76f7f058-c9fd-44c2-840f-a0cbe817d9d5",
   "metadata": {},
   "outputs": [
    {
     "data": {
      "text/plain": [
       "array([ 1, 10,  3,  4,  5,  6,  7,  8,  9, 10], dtype=int8)"
      ]
     },
     "execution_count": 204,
     "metadata": {},
     "output_type": "execute_result"
    }
   ],
   "source": [
    "# changing a value in the view means\n",
    "# changing the value in the original array\n",
    "new_arr[1]=10\n",
    "arr_1d"
   ]
  },
  {
   "cell_type": "markdown",
   "id": "139d7cd2-d6d8-46cf-a5e7-3c7c183683ee",
   "metadata": {},
   "source": [
    "You might not have expected that! We'll cover how to make a copy instead of a view later in the notebook."
   ]
  },
  {
   "cell_type": "markdown",
   "id": "797c9818-2839-40c5-8bdf-ba38f4378796",
   "metadata": {},
   "source": [
    "<div class=\"alert alert-info\"> \n",
    "\n",
    "### Exercise 2: Basic Indexing and Slicing\n",
    "\n",
    "In your ```arr_3d``` make the following selections using indexing and slicing. Note that slicing is never jagged so your data selection for part (d) will include two data values that you cannot see in the image.\n",
    "\n",
    "<table><tr>\n",
    "<td> <img src=\"images/numpy3D_selection1.png\" alt=\"schematic of what to select\" width=\"300\"/> </td>\n",
    "<td> <img src=\"images/numpy3D_selection2.png\" alt=\"schematic of what to select\" width=\"300\"/> </td>\n",
    "<td> <img src=\"images/numpy3D_selection3.png\" alt=\"schematic of what to select\" width=\"300\"/> </td>\n",
    "<td> <img src=\"images/numpy3D_selection4.png\" alt=\"schematic of what to select\" width=\"300\"/> </td>\n",
    "</tr></table\n",
    "\n",
    "</div>\n",
    "\n"
   ]
  },
  {
   "cell_type": "markdown",
   "id": "2439a6c8-8a34-412f-8995-b0adc573933b",
   "metadata": {},
   "source": [
    "<div class=\"alert alert-info\"> \n",
    "\n",
    "**part (a)**\n",
    "</div>\n"
   ]
  },
  {
   "cell_type": "code",
   "execution_count": 205,
   "id": "35f51a36-afa5-4411-8df4-894886d206ae",
   "metadata": {},
   "outputs": [
    {
     "data": {
      "text/plain": [
       "np.int32(9)"
      ]
     },
     "execution_count": 205,
     "metadata": {},
     "output_type": "execute_result"
    }
   ],
   "source": [
    "# add your code here\n",
    "arr_3d[1,1,0]"
   ]
  },
  {
   "cell_type": "markdown",
   "id": "41f02238-e1aa-41ab-97ba-f106c2fbaf51",
   "metadata": {},
   "source": [
    "<div class=\"alert alert-info\"> \n",
    "\n",
    "**part (b)**\n",
    "</div>"
   ]
  },
  {
   "cell_type": "code",
   "execution_count": 207,
   "id": "4512f07b-20fe-4c13-b3f7-fd8ede02a4cc",
   "metadata": {},
   "outputs": [
    {
     "data": {
      "text/plain": [
       "array([4, 9], dtype=int32)"
      ]
     },
     "execution_count": 207,
     "metadata": {},
     "output_type": "execute_result"
    }
   ],
   "source": [
    "# add your code here\n",
    "arr_3d[0:2,1,0] "
   ]
  },
  {
   "cell_type": "markdown",
   "id": "42e8bf38-cbdc-40f8-9fb0-3a15d6385f7b",
   "metadata": {},
   "source": [
    "<div class=\"alert alert-info\"> \n",
    "\n",
    "**part (c)**\n",
    "</div>"
   ]
  },
  {
   "cell_type": "code",
   "execution_count": 208,
   "id": "463493a9-ba81-402f-a585-72d056f50703",
   "metadata": {},
   "outputs": [
    {
     "data": {
      "text/plain": [
       "array([[9, 7],\n",
       "       [3, 0]], dtype=int32)"
      ]
     },
     "execution_count": 208,
     "metadata": {},
     "output_type": "execute_result"
    }
   ],
   "source": [
    "# add your code here\n",
    "arr_3d[1:,1:,0]"
   ]
  },
  {
   "cell_type": "markdown",
   "id": "ab40ec4b-43cb-433e-9171-c9f7e9fc79f1",
   "metadata": {},
   "source": [
    "<div class=\"alert alert-info\"> \n",
    "\n",
    "**part (d)**\n",
    "</div>"
   ]
  },
  {
   "cell_type": "code",
   "execution_count": 209,
   "id": "70c52c96-04a4-4e93-997e-f8a62df6d22c",
   "metadata": {},
   "outputs": [
    {
     "data": {
      "text/plain": [
       "array([[[ 4,  3],\n",
       "        [ 7,  4]],\n",
       "\n",
       "       [[ 9, 10],\n",
       "        [ 7,  5]],\n",
       "\n",
       "       [[ 3, 11],\n",
       "        [ 0,  2]]], dtype=int32)"
      ]
     },
     "execution_count": 209,
     "metadata": {},
     "output_type": "execute_result"
    }
   ],
   "source": [
    "# add your code here\n",
    "arr_3d[:,1:,:]"
   ]
  },
  {
   "cell_type": "markdown",
   "id": "97238673-8141-4df5-b8ce-24c1e58bdcf8",
   "metadata": {},
   "source": [
    "## Advanced Indexing with Integer Arrays\n",
    "\n",
    "NumPy arrays offer indexing capability beyond what is possible with nested Python lists. We can index any NumPy array with another NumPy array of integers. Using advanced indexing results in the creation of a new array (as opposed to a view).\n",
    "\n",
    "### Single- and Multi-Dimensional Examples\n",
    "\n",
    "First, an example with our 1-dimensional array ```arr_1d```."
   ]
  },
  {
   "cell_type": "code",
   "execution_count": 210,
   "id": "4bca5c1c-733e-4446-aa16-c6119454c526",
   "metadata": {},
   "outputs": [
    {
     "name": "stdout",
     "output_type": "stream",
     "text": [
      "[ 1 10  3  4  5  6  7  8  9 10]\n"
     ]
    },
    {
     "data": {
      "text/plain": [
       "array([1, 3, 5, 7], dtype=int8)"
      ]
     },
     "execution_count": 210,
     "metadata": {},
     "output_type": "execute_result"
    }
   ],
   "source": [
    "# reminder of what is in arr_1d\n",
    "print(arr_1d)\n",
    "\n",
    "# create an array of indexes\n",
    "indexes = np.array([0,2,4,6])\n",
    "\n",
    "# use the array to select data from arr_1d\n",
    "arr_1d[indexes]"
   ]
  },
  {
   "cell_type": "markdown",
   "id": "7f9db516-d618-49b1-a0e5-54964db1f523",
   "metadata": {},
   "source": [
    "You can do the same thing using a list of index values instead of an array with the following syntax, but note that it's recommended to use arrays as opposed to lists for indexing bigger data. Your code will run faster and be more memory efficient with arrays."
   ]
  },
  {
   "cell_type": "code",
   "execution_count": 51,
   "id": "724736df-a244-430e-a2a2-28221c6ec1ec",
   "metadata": {},
   "outputs": [
    {
     "data": {
      "text/plain": [
       "array([1, 3, 5, 7], dtype=int8)"
      ]
     },
     "execution_count": 51,
     "metadata": {},
     "output_type": "execute_result"
    }
   ],
   "source": [
    "# indexing with a list\n",
    "arr_1d[[0,2,4,6]]"
   ]
  },
  {
   "cell_type": "markdown",
   "id": "19feb91d-f546-4892-a129-1f9bd8df9278",
   "metadata": {},
   "source": [
    "An example with our 2-dimensional array ```arr_2d```"
   ]
  },
  {
   "cell_type": "code",
   "execution_count": 211,
   "id": "6c3f37f9-fcc1-4175-b4fb-778b366577e1",
   "metadata": {},
   "outputs": [
    {
     "name": "stdout",
     "output_type": "stream",
     "text": [
      "[[ 1  2  3  4  5]\n",
      " [ 6  7  8  9 10]]\n"
     ]
    },
    {
     "data": {
      "text/plain": [
       "array([2, 4, 6, 8], dtype=int16)"
      ]
     },
     "execution_count": 211,
     "metadata": {},
     "output_type": "execute_result"
    }
   ],
   "source": [
    "# reminder of what is in arr_2d\n",
    "print(arr_2d)\n",
    "\n",
    "# selecting the data values 2,4,6,8\n",
    "# create an array of indexes for each dimension\n",
    "row_index = np.array([0,0,1,1])\n",
    "col_index = np.array([1,3,0,2])\n",
    "\n",
    "# use the arrays to select data from arr_2d\n",
    "arr_2d[row_index,col_index]"
   ]
  },
  {
   "cell_type": "markdown",
   "id": "f9597ae2-f156-4172-b70b-fe1c5db58295",
   "metadata": {},
   "source": [
    "And the equivalent using lists:"
   ]
  },
  {
   "cell_type": "code",
   "execution_count": 52,
   "id": "a6aaac10-828e-461f-acb1-367c95f0d45c",
   "metadata": {},
   "outputs": [
    {
     "data": {
      "text/plain": [
       "array([2, 4, 6, 8], dtype=int16)"
      ]
     },
     "execution_count": 52,
     "metadata": {},
     "output_type": "execute_result"
    }
   ],
   "source": [
    "# indexing with lists\n",
    "arr_2d[[0,0,1,1],[1,3,0,2]]"
   ]
  },
  {
   "cell_type": "markdown",
   "id": "0f324b59-af0c-4cdb-a740-bd04db6af13b",
   "metadata": {},
   "source": [
    "### With a Tuple\n",
    "\n",
    "You can also do advanced indexing with a tuple. Here's how to save your index arrays as a tuple and use it for multi-dimensional indexing."
   ]
  },
  {
   "cell_type": "code",
   "execution_count": 88,
   "id": "ca9279cf-23f8-4274-9009-f5b764b58d36",
   "metadata": {},
   "outputs": [
    {
     "data": {
      "text/plain": [
       "array([2, 4, 6, 8], dtype=int16)"
      ]
     },
     "execution_count": 88,
     "metadata": {},
     "output_type": "execute_result"
    }
   ],
   "source": [
    "# multi-dimensional indexing with a tuple of arrays\n",
    "tup_indexes = (row_index,col_index)  # 2,4,6,8 as we did above\n",
    "arr_2d[tup_indexes]"
   ]
  },
  {
   "cell_type": "markdown",
   "id": "dfd83e67-4ae2-42e2-947a-bb1c9a0d48a1",
   "metadata": {},
   "source": [
    "### Advanced Indexing Results in a New Array\n",
    "\n",
    "We'll create ```new_arr``` again from the first three numbers in ```arr_1d```, but this time we'll use advanced indexing to do it."
   ]
  },
  {
   "cell_type": "code",
   "execution_count": 213,
   "id": "dac5d520-17de-4bf3-b175-5b27031b6caf",
   "metadata": {},
   "outputs": [
    {
     "name": "stdout",
     "output_type": "stream",
     "text": [
      "[ 1 10  3  4  5  6  7  8  9 10]\n",
      "[ 1 10  3]\n"
     ]
    }
   ],
   "source": [
    "# reminder of what is in arr_1d\n",
    "print(arr_1d)\n",
    "\n",
    "# create an array of indexes\n",
    "indexes = np.array([0,1,2])\n",
    "\n",
    "# select data from arr_1d\n",
    "new_arr = arr_1d[indexes]\n",
    "print(new_arr)"
   ]
  },
  {
   "cell_type": "markdown",
   "id": "404950c2-0459-4089-a302-e7b149d7f0dc",
   "metadata": {},
   "source": [
    "```new_arr``` is not a view in this case, it is a whole new array stored in a separate place in memory. So, if we change a value in ```new_arr```, ```arr_1d``` will not be affected."
   ]
  },
  {
   "cell_type": "code",
   "execution_count": 214,
   "id": "ec45a6eb-95fc-4013-ae20-54632ce0ba40",
   "metadata": {},
   "outputs": [
    {
     "data": {
      "text/plain": [
       "array([ 1, 10,  3,  4,  5,  6,  7,  8,  9, 10], dtype=int8)"
      ]
     },
     "execution_count": 214,
     "metadata": {},
     "output_type": "execute_result"
    }
   ],
   "source": [
    "# make change to new_arr\n",
    "new_arr[1]=2\n",
    "\n",
    "# there will be no change to arr_1d\n",
    "arr_1d"
   ]
  },
  {
   "cell_type": "code",
   "execution_count": 194,
   "id": "5f65ae26-0236-41c1-906a-cc9d728b1499",
   "metadata": {},
   "outputs": [
    {
     "name": "stdout",
     "output_type": "stream",
     "text": [
      "(2, 3, 5)\n"
     ]
    },
    {
     "data": {
      "text/plain": [
       "array([[[ 6,  7,  8,  9, 10],\n",
       "        [ 1,  2,  3,  4,  5],\n",
       "        [ 6,  7,  8,  9, 10]],\n",
       "\n",
       "       [[ 1,  2,  3,  4,  5],\n",
       "        [ 6,  7,  8,  9, 10],\n",
       "        [ 1,  2,  3,  4,  5]]], dtype=int16)"
      ]
     },
     "execution_count": 194,
     "metadata": {},
     "output_type": "execute_result"
    }
   ],
   "source": [
    "test=np.array([[1,0,1],[0,1,0]])\n",
    "result = arr_2d[test]\n",
    "print(result.shape)\n",
    "result"
   ]
  },
  {
   "cell_type": "markdown",
   "id": "330455b6-29ee-4863-81b8-c5c2ee8616a4",
   "metadata": {},
   "source": [
    "### With Less Dimensions Than Present\n",
    "\n",
    "What happens if you provide array indexing for less dimensions than are present in your array? As we saw earlier, NumPy will assume that your array index corresponds to the leftmost axis and that you want all of the dimensions you haven't indexed.\n",
    "\n",
    "For example, let's take our 2-dimensional array and give it only the row_index values (```row_index = np.array([0,0,1,1])```)."
   ]
  },
  {
   "cell_type": "code",
   "execution_count": 112,
   "id": "c53ab4b5-f005-486f-9e78-c914886903ff",
   "metadata": {},
   "outputs": [
    {
     "name": "stdout",
     "output_type": "stream",
     "text": [
      "[[ 1  2  3  4  5]\n",
      " [ 6  7  8  9 10]]\n"
     ]
    },
    {
     "data": {
      "text/plain": [
       "array([[ 1,  2,  3,  4,  5],\n",
       "       [ 1,  2,  3,  4,  5],\n",
       "       [ 6,  7,  8,  9, 10],\n",
       "       [ 6,  7,  8,  9, 10]], dtype=int16)"
      ]
     },
     "execution_count": 112,
     "metadata": {},
     "output_type": "execute_result"
    }
   ],
   "source": [
    "# our 2-dimensional array\n",
    "print(arr_2d)\n",
    "\n",
    "# providing array indexing for less dimensions than are present in arr_2d\n",
    "arr_2d[row_index]"
   ]
  },
  {
   "cell_type": "markdown",
   "id": "34e0252b-5ddf-44da-b072-64081074d1ff",
   "metadata": {},
   "source": [
    "You can see that NumPy returns two of the first row (all columns) and two of the second row (all columns) of data values. You might not expect this to happen, so just be careful and double check yourself as you write your code.\n",
    "\n",
    "All of the following syntax, as we saw earlier in the notebook, will return the same result:\n",
    "\n",
    "```arr_2d[row_index]```,   ```arr_2d[row_index,:]```,   ```arr_2d[row_index,...]```"
   ]
  },
  {
   "cell_type": "markdown",
   "id": "fc4309b8-03d0-43d2-8f7e-e82d2f93f4a5",
   "metadata": {},
   "source": [
    "### With a Multi-dimensional Array\n",
    "\n",
    "What if we index a 2-dimensional array with another 2-dimensional array?"
   ]
  },
  {
   "cell_type": "code",
   "execution_count": 202,
   "id": "d7007036-b06d-4b06-a922-e7c60b253458",
   "metadata": {},
   "outputs": [
    {
     "name": "stdout",
     "output_type": "stream",
     "text": [
      "(2, 3)\n",
      "(2, 3, 5)\n"
     ]
    },
    {
     "data": {
      "text/plain": [
       "array([[[ 6,  7,  8,  9, 10],\n",
       "        [ 1,  2,  3,  4,  5],\n",
       "        [ 6,  7,  8,  9, 10]],\n",
       "\n",
       "       [[ 1,  2,  3,  4,  5],\n",
       "        [ 6,  7,  8,  9, 10],\n",
       "        [ 1,  2,  3,  4,  5]]], dtype=int16)"
      ]
     },
     "execution_count": 202,
     "metadata": {},
     "output_type": "execute_result"
    }
   ],
   "source": [
    "index_2d = np.array([[1,0,1],\n",
    "                     [0,1,0]])\n",
    "\n",
    "result = arr_2d[index_2d]\n",
    "\n",
    "print(index_2d.shape)\n",
    "print(result.shape)\n",
    "result"
   ]
  },
  {
   "cell_type": "markdown",
   "id": "3c75793a-5a4f-4d6b-85fb-a03c856e1bc3",
   "metadata": {},
   "source": [
    "```arr_2d``` has two dimensions but we only provided one indexing array. We've seen what happens when we provide less indexing arrays than there are dimensions. NumPy will use all the values in ```index_2d``` as indexes for the first dimension (the rows or axis 0) of ```arr_2d```. The result is returned as a 3-dimensional array with shape ```(2, 3, 5)```, which is a bit confusing. The easiest way to think about this is that the first two dimensions of the result come from the dimensions of the ```index_2d``` array and the third dimension of the result comes from ```arr_2d```. \n",
    "\n",
    "For a more in depth explanation of what is going on, focus on what we are asking for from ```arr_2d``` with our index array ```index_2d```. The first row of ```index_2d``` is ```[1,0,1]```. This means, get the second row of ```arr_2d```, then get the first row of ```arr_2d```, then get the second row of ```arr_2d```. So, we asked for 3 rows of ```arr_2d``` and each row has 5 data values (columns). That's where the 3 (rows) and the 5 (columns) come from in the shape ```(2, 3, 5)```. The 2 (stack) in the shape ```(2, 3, 5)``` comes from the fact that with ```index_2d``` ```[0,1,0]```we asked for 3 more rows and 5 more columns from ```arr_2d```.  \n",
    "\n"
   ]
  },
  {
   "cell_type": "markdown",
   "id": "235280e2-41be-4abf-ade1-44b0523a3b0b",
   "metadata": {},
   "source": [
    "### An Application of Advanced Indexing\n",
    "\n",
    "Let's pretend we have landcover data in a 2-dimensional array. The classes represent:\n",
    "\n",
    "- 0 = open water\n",
    "- 1 = grassland\n",
    "- 2 = shrubland\n",
    "- 3 = deciduous forest\n",
    "- 4 = evergreen forest\n",
    "- 5 = bare soil\n",
    "- 6 = herbaceous wetland"
   ]
  },
  {
   "cell_type": "code",
   "execution_count": 189,
   "id": "dd08f899-24c0-4e67-840a-859fce0bd45b",
   "metadata": {},
   "outputs": [
    {
     "data": {
      "text/plain": [
       "(10, 10)"
      ]
     },
     "execution_count": 189,
     "metadata": {},
     "output_type": "execute_result"
    }
   ],
   "source": [
    "lc_class = np.array([[1,1,1,1,6,0,1,2,2,2],\n",
    "                    [1,1,1,6,0,0,1,2,2,2],\n",
    "                    [1,1,1,0,0,0,0,1,2,2],\n",
    "                    [1,1,1,1,0,0,0,1,2,2],\n",
    "                    [3,1,1,1,6,0,0,1,2,2],\n",
    "                    [3,3,1,1,1,1,1,1,1,2],\n",
    "                    [3,3,3,3,2,2,2,1,2,2],\n",
    "                    [4,4,3,3,3,2,2,1,1,1],\n",
    "                    [4,4,4,3,3,2,2,1,1,1],\n",
    "                    [5,4,4,3,2,2,2,1,1,1]],\n",
    "                    dtype='int8')\n",
    "lc_class.shape"
   ]
  },
  {
   "cell_type": "markdown",
   "id": "9fcda834-173f-4de3-b5f2-168a8ebfacff",
   "metadata": {},
   "source": [
    "We can plot the landcover data with matplotlib ```imshow``` using the default color map called viridis."
   ]
  },
  {
   "cell_type": "code",
   "execution_count": 190,
   "id": "fa2c2a09-b736-494c-b5f3-0d05bd3ee714",
   "metadata": {},
   "outputs": [
    {
     "data": {
      "text/plain": [
       "<matplotlib.image.AxesImage at 0x1b912ce5f90>"
      ]
     },
     "execution_count": 190,
     "metadata": {},
     "output_type": "execute_result"
    },
    {
     "data": {
      "image/png": "[encoded data removed]",
      "text/plain": [
       "<Figure size 640x480 with 1 Axes>"
      ]
     },
     "metadata": {},
     "output_type": "display_data"
    }
   ],
   "source": [
    "# plot landcover data with default color map\n",
    "\n",
    "plt.imshow(lc_class)"
   ]
  },
  {
   "cell_type": "markdown",
   "id": "d06feac9-2f3a-4f11-a93d-5b16d6bc3c04",
   "metadata": {},
   "source": [
    "Notice the values on the y axis correspond to the indexes of the array rows (axis 0) and the values on the x axis correspond to the indexes of the array columns (axis 1). \n",
    "\n",
    "This plot is fine, but what if we wanted to plot the data using colors that make more sense for each landcover class? We can use advanced indexing for that.\n",
    "\n",
    "First, we create an array containing an rgb color for each landcover class."
   ]
  },
  {
   "cell_type": "code",
   "execution_count": 191,
   "id": "124c2685-b9fa-4e19-9490-4f1aa900973e",
   "metadata": {},
   "outputs": [
    {
     "data": {
      "text/plain": [
       "(7, 3)"
      ]
     },
     "execution_count": 191,
     "metadata": {},
     "output_type": "execute_result"
    }
   ],
   "source": [
    "# store rgb colors for each of the classes in a 2-d array\n",
    "\n",
    "rgb_palette = np.array([[70, 107, 159],   # 0 = open water\n",
    "                        [223, 223, 194],  # 1 = grassland\n",
    "                        [204, 184, 121],  # 2 = shrubland\n",
    "                        [104, 171, 95],   # 3 = deciduous forest\n",
    "                        [28, 95, 44],     # 4 = evergreen forest\n",
    "                        [179, 172, 159],  # 5 = barren land\n",
    "                        [108, 159, 184]]) # 6 = herbaceous wetlands \n",
    "rgb_palette.shape"
   ]
  },
  {
   "cell_type": "markdown",
   "id": "91f7f0fc-a381-4365-a2ce-705a61582e30",
   "metadata": {},
   "source": [
    "If we provide a single index to the 2-dimensional ```rgb_palette``` we get the rgb triplet. Notice that the index we provide also matches the landcover class for that rgb color. (i.e., index zero holds the blue color for landcover class 0)"
   ]
  },
  {
   "cell_type": "code",
   "execution_count": 192,
   "id": "0677f34f-2380-4bab-a72a-837bea72bb72",
   "metadata": {},
   "outputs": [
    {
     "data": {
      "text/plain": [
       "array([ 70, 107, 159])"
      ]
     },
     "execution_count": 192,
     "metadata": {},
     "output_type": "execute_result"
    }
   ],
   "source": [
    "# a single index value returns the rgb triplet\n",
    "rgb_palette[0]"
   ]
  },
  {
   "cell_type": "markdown",
   "id": "489afd69-bd57-42c9-a923-26d0ba75efdb",
   "metadata": {},
   "source": [
    "If we use the entire ```lc_class``` array to index the rgb_palette, we will get the rgb triplet for each data value in lc_class.\n",
    "\n",
    "Let's look at the shape of what is returned."
   ]
  },
  {
   "cell_type": "code",
   "execution_count": 183,
   "id": "80b8f2bb-d11a-418d-901d-d8979fbacc2a",
   "metadata": {},
   "outputs": [
    {
     "data": {
      "text/plain": [
       "(10, 10, 3)"
      ]
     },
     "execution_count": 183,
     "metadata": {},
     "output_type": "execute_result"
    }
   ],
   "source": [
    "rgb_palette[lc_class].shape"
   ]
  },
  {
   "cell_type": "markdown",
   "id": "0cd36e37-414f-4ead-870d-4846ac5a960d",
   "metadata": {},
   "source": [
    "Remember as we saw earlier, the first two dimensions come from the indexing array which in this case is ```lc_class```. The third dimension comes from the array being indexed which is ```rgb_palette```. It's a bit confusing to think of this shape as stack, rows, columns. We know the first two dimensions come from the landcover data so in this case it's useful to think of this shape as rows, columns, stack. Where the rows and columns match the shape of the landcover data and each level of the stack contains a component of the rgb color. So, ```rgb_palette[lc_class]``` is storing a 10 x 10 map of rgb triplets.\n",
    "\n",
    "Matplotlib ```imshow``` expects 2-dimensional imagery. So if you give ```imshow``` data with a third dimension, it automatically assumes that the third dimension is an rgb color. Therefore, we can use ```imshow``` to plot our landcover rgb triplets (```rgb_palette[lc_class]```) very easily. "
   ]
  },
  {
   "cell_type": "code",
   "execution_count": 184,
   "id": "3289bfcc-3077-4493-992e-33e27935f34a",
   "metadata": {},
   "outputs": [
    {
     "data": {
      "text/plain": [
       "<matplotlib.image.AxesImage at 0x1b91340da90>"
      ]
     },
     "execution_count": 184,
     "metadata": {},
     "output_type": "execute_result"
    },
    {
     "data": {
      "image/png": "[encoded data removed]",
      "text/plain": [
       "<Figure size 640x480 with 1 Axes>"
      ]
     },
     "metadata": {},
     "output_type": "display_data"
    }
   ],
   "source": [
    "plt.imshow(rgb_palette[lc_class])"
   ]
  },
  {
   "cell_type": "markdown",
   "id": "b3d11da1-97cb-4a5b-a82a-b5a653deaeaa",
   "metadata": {},
   "source": [
    "We'll cover much more about creating different types of figures in another lesson. But for now, let's do one more cool thing with our figure. We'll add the land cover class to each pixel. To accomplish this we have to loop through all the ```lc_class``` data values and create a text object for each data value to plot over the image. "
   ]
  },
  {
   "cell_type": "code",
   "execution_count": 215,
   "id": "a2bac83f-d5df-4715-b33f-865ef89d5a2d",
   "metadata": {},
   "outputs": [
    {
     "data": {
      "image/png": "[encoded data removed]",
      "text/plain": [
       "<Figure size 640x480 with 1 Axes>"
      ]
     },
     "metadata": {},
     "output_type": "display_data"
    }
   ],
   "source": [
    "# add the landcover class to each pixel\n",
    "\n",
    "plt.imshow(rgb_palette[lc_class])\n",
    "\n",
    "for i in range(0, lc_class.shape[0]):\n",
    "    for j in range(0, lc_class.shape[1]):\n",
    "        plt.text(j, i, str(lc_class[i,j]), va='center', ha='center')"
   ]
  },
  {
   "cell_type": "markdown",
   "id": "b2ea664c-917f-4e71-84e9-c349ac26fb75",
   "metadata": {},
   "source": [
    "## Advanced Indexing with Boolean Arrays\n",
    "\n",
    "You could also use a boolean array as an indexer for advanced indexing instead of an integer array. Usually, you would generate a boolean array using a conditional statement and then use the boolean array to select data values that satisfy the condition(s).\n",
    "\n",
    "Let's take a look. First, we'll write a conditional statement on a NumPy array. The condition is evaluated on each data value in the array separately, therefore, the conditional statement returns a boolean array of the same shape."
   ]
  },
  {
   "cell_type": "code",
   "execution_count": 224,
   "id": "05b73d12-c61c-46f7-8eb4-44f2ea2c8b1f",
   "metadata": {},
   "outputs": [
    {
     "name": "stdout",
     "output_type": "stream",
     "text": [
      "[[ 1  2  3  4  5]\n",
      " [ 6  7  8  9 10]]\n"
     ]
    },
    {
     "data": {
      "text/plain": [
       "array([[False, False, False, False, False],\n",
       "       [ True,  True,  True,  True,  True]])"
      ]
     },
     "execution_count": 224,
     "metadata": {},
     "output_type": "execute_result"
    }
   ],
   "source": [
    "# print for reference\n",
    "print(arr_2d)\n",
    "\n",
    "# conditional returns boolean array\n",
    "arr_2d > 5"
   ]
  },
  {
   "cell_type": "markdown",
   "id": "526c205d-4e92-472c-a3ea-b49b3c9c6865",
   "metadata": {},
   "source": [
    "If we wanted to select only the values greater than 5 from ```arr_2d``` we can use the boolean array returned from a conditional statement as the indexing array. This is advanced indexing and  will return a brand new array, not a view. You can either put the conditional statement directly inside the square brackets:"
   ]
  },
  {
   "cell_type": "code",
   "execution_count": 223,
   "id": "971c46ce-b29e-4db4-9a60-93f9f7b064cd",
   "metadata": {},
   "outputs": [
    {
     "data": {
      "text/plain": [
       "array([ 6,  7,  8,  9, 10], dtype=int16)"
      ]
     },
     "execution_count": 223,
     "metadata": {},
     "output_type": "execute_result"
    }
   ],
   "source": [
    "arr_2d[arr_2d > 5]"
   ]
  },
  {
   "cell_type": "markdown",
   "id": "be07661a-1749-400f-b45d-8ddee28b2cbb",
   "metadata": {},
   "source": [
    "Or, you could assign the result of your conditional statement to a separate variable. Then, index with that variable:"
   ]
  },
  {
   "cell_type": "code",
   "execution_count": 225,
   "id": "43eb6dad-ee4e-41c9-9210-06ca5611b148",
   "metadata": {},
   "outputs": [
    {
     "data": {
      "text/plain": [
       "array([ 6,  7,  8,  9, 10], dtype=int16)"
      ]
     },
     "execution_count": 225,
     "metadata": {},
     "output_type": "execute_result"
    }
   ],
   "source": [
    "index_arr = arr_2d > 5\n",
    "arr_2d[index_arr]"
   ]
  },
  {
   "cell_type": "markdown",
   "id": "20daf475-3f72-4624-a30b-c1b68b835fd4",
   "metadata": {},
   "source": [
    "<div class=\"alert alert-info\"> \n",
    "\n",
    "## Exercise 3: Advanced Indexing\n",
    "\n",
    "Using advanced indexing, select the diagonal values (1,7,13,19,25) of the array ```arr```.\n",
    "</div>"
   ]
  },
  {
   "cell_type": "code",
   "execution_count": 216,
   "id": "76efba71-e4d0-492c-bca5-629330531f2d",
   "metadata": {},
   "outputs": [
    {
     "data": {
      "text/plain": [
       "array([ 1,  7, 13, 19, 25])"
      ]
     },
     "execution_count": 216,
     "metadata": {},
     "output_type": "execute_result"
    }
   ],
   "source": [
    "arr = np.array([[1,2,3,4,5],\n",
    "               [6,7,8,9,10],\n",
    "               [11,12,13,14,15],\n",
    "               [16,17,18,19,20],\n",
    "               [21,22,23,24,25]])\n",
    "\n",
    "# add your code here\n",
    "indexes = np.array([0,1,2,3,4])\n",
    "arr[indexes,indexes]"
   ]
  },
  {
   "cell_type": "markdown",
   "id": "5b7960f1-3ee9-4a7b-aa26-dfc897b8ff84",
   "metadata": {},
   "source": [
    "<div class=\"alert alert-info\"> \n",
    "\n",
    "Now, select the same diagonal values using all negative indexes.\n",
    "</div>"
   ]
  },
  {
   "cell_type": "code",
   "execution_count": 217,
   "id": "401eaf56-bee1-4e1a-80b0-a3ab7c44f08d",
   "metadata": {},
   "outputs": [
    {
     "data": {
      "text/plain": [
       "array([ 1,  7, 13, 19, 25])"
      ]
     },
     "execution_count": 217,
     "metadata": {},
     "output_type": "execute_result"
    }
   ],
   "source": [
    "# add your code here\n",
    "indexes = np.array([-5,-4,-3,-2,-1])\n",
    "arr[indexes,indexes]"
   ]
  },
  {
   "cell_type": "markdown",
   "id": "352f02fd-806c-4996-835d-973606b2d46a",
   "metadata": {},
   "source": [
    "<div class=\"alert alert-info\"> \n",
    "    \n",
    "Last, use a conditional statement to generate a boolean array that will select only the even numbers from ```arr```.\n",
    "</div>"
   ]
  },
  {
   "cell_type": "code",
   "execution_count": 228,
   "id": "b8ed137e-1046-477a-a474-67c408f8d97f",
   "metadata": {},
   "outputs": [
    {
     "data": {
      "text/plain": [
       "array([ 2,  4,  6,  8, 10, 12, 14, 16, 18, 20, 22, 24])"
      ]
     },
     "execution_count": 228,
     "metadata": {},
     "output_type": "execute_result"
    }
   ],
   "source": [
    "# add your code here\n",
    "arr[arr % 2 == 0]"
   ]
  },
  {
   "cell_type": "markdown",
   "id": "746e2942-6e2b-4316-83ff-974449fe1ee5",
   "metadata": {},
   "source": [
    "# IV. Math Operations\n",
    "\n",
    "We'll create two NumPy arrays and 2 Python lists to illustrate concepts in this section"
   ]
  },
  {
   "cell_type": "code",
   "execution_count": 241,
   "id": "fb3191a8-5fcb-4825-9e1a-5562972738ac",
   "metadata": {},
   "outputs": [],
   "source": [
    "# two 1d arrays of length 5\n",
    "data1 = np.array([1,2,3,4,5], dtype = 'int8')\n",
    "data2 = np.array([.1,.2,.3,.4,.5], dtype = 'float32')\n",
    "\n",
    "# two lists of length 5 with the same data values\n",
    "list1 = [1,2,3,4,5]\n",
    "list2 = [.1,.2,.3,.4,.5]"
   ]
  },
  {
   "cell_type": "markdown",
   "id": "95e13b59-eec4-4931-8489-3174458fba2a",
   "metadata": {},
   "source": [
    "## Elementwise Operations\n",
    "\n",
    "Basic operations on NumPy arrays like ```+```, ```-```, ```*```, ```/```, ```**```, ```%```, ```//```, and ```np.sqrt()``` operate elementwise meaning the calculation is applied separately to each element in the array. "
   ]
  },
  {
   "cell_type": "code",
   "execution_count": 230,
   "id": "fd466ca1-25cf-4055-82a1-e26323a86837",
   "metadata": {},
   "outputs": [
    {
     "data": {
      "text/plain": [
       "array([2, 3, 4, 5, 6])"
      ]
     },
     "execution_count": 230,
     "metadata": {},
     "output_type": "execute_result"
    }
   ],
   "source": [
    "# basic operations are elementwise\n",
    "data1+1"
   ]
  },
  {
   "cell_type": "markdown",
   "id": "140a0bba-4b76-408b-abec-203de400abb7",
   "metadata": {},
   "source": [
    "See how each element of the array was incremented by 1. Try this same thing with a Python list."
   ]
  },
  {
   "cell_type": "code",
   "execution_count": 231,
   "id": "5203d07e-4584-4198-beae-4f59d9eb6440",
   "metadata": {},
   "outputs": [
    {
     "ename": "TypeError",
     "evalue": "can only concatenate list (not \"int\") to list",
     "output_type": "error",
     "traceback": [
      "\u001b[1;31m---------------------------------------------------------------------------\u001b[0m",
      "\u001b[1;31mTypeError\u001b[0m                                 Traceback (most recent call last)",
      "Cell \u001b[1;32mIn[231], line 1\u001b[0m\n\u001b[1;32m----> 1\u001b[0m \u001b[43mlist1\u001b[49m\u001b[38;5;241;43m+\u001b[39;49m\u001b[38;5;241;43m1\u001b[39;49m\n",
      "\u001b[1;31mTypeError\u001b[0m: can only concatenate list (not \"int\") to list"
     ]
    }
   ],
   "source": [
    "list1+1"
   ]
  },
  {
   "cell_type": "markdown",
   "id": "40d9a98f-797a-40df-a3da-440cb9e388ea",
   "metadata": {},
   "source": [
    "Whoops! Lists just don't work that way. If you remember the Python Language Basics lesson, to increment a list we'd have to write a for loop or a list comprehension."
   ]
  },
  {
   "cell_type": "code",
   "execution_count": 232,
   "id": "47ab8d86-2c16-48d2-a84e-ac73ce14fc26",
   "metadata": {},
   "outputs": [
    {
     "data": {
      "text/plain": [
       "[2, 3, 4, 5, 6]"
      ]
     },
     "execution_count": 232,
     "metadata": {},
     "output_type": "execute_result"
    }
   ],
   "source": [
    "# list comprehension to increment elements in a list by 1\n",
    "[x+1 for x in list1]"
   ]
  },
  {
   "cell_type": "markdown",
   "id": "bb6468bb-9745-417d-97f2-90da74dba593",
   "metadata": {},
   "source": [
    "You should immediately see how much simpler it is to work with numerical data stored in NumPy arrays vs Python lists! \n",
    "\n",
    "If our data arrays are the same shape, we can also easily perform elementwise operations using both arrays. "
   ]
  },
  {
   "cell_type": "code",
   "execution_count": 233,
   "id": "0dc43136-6078-430f-ae1a-24b9baed2830",
   "metadata": {},
   "outputs": [
    {
     "data": {
      "text/plain": [
       "array([10., 10., 10., 10., 10.])"
      ]
     },
     "execution_count": 233,
     "metadata": {},
     "output_type": "execute_result"
    }
   ],
   "source": [
    "data1 / data2"
   ]
  },
  {
   "cell_type": "markdown",
   "id": "67dce42a-50b2-4d26-bc95-bafb31f0aeeb",
   "metadata": {},
   "source": [
    "Notice what happened here. The first element of ```data1``` was divided by the first element of ```data2``` (1 / 0.1), the second element of ```data1``` was divided by the second element of ```data2``` (2 / 0.2), and so on.\n",
    "\n",
    "What happens if we try this on our lists?"
   ]
  },
  {
   "cell_type": "code",
   "execution_count": 234,
   "id": "a2a13717-b739-49ec-b049-7adce024241e",
   "metadata": {},
   "outputs": [
    {
     "ename": "TypeError",
     "evalue": "unsupported operand type(s) for /: 'list' and 'list'",
     "output_type": "error",
     "traceback": [
      "\u001b[1;31m---------------------------------------------------------------------------\u001b[0m",
      "\u001b[1;31mTypeError\u001b[0m                                 Traceback (most recent call last)",
      "Cell \u001b[1;32mIn[234], line 1\u001b[0m\n\u001b[1;32m----> 1\u001b[0m \u001b[43mlist1\u001b[49m\u001b[43m \u001b[49m\u001b[38;5;241;43m/\u001b[39;49m\u001b[43m \u001b[49m\u001b[43mlist2\u001b[49m\n",
      "\u001b[1;31mTypeError\u001b[0m: unsupported operand type(s) for /: 'list' and 'list'"
     ]
    }
   ],
   "source": [
    "list1 / list2"
   ]
  },
  {
   "cell_type": "markdown",
   "id": "4eb7a9f4-0913-4469-8ede-32d03a09544a",
   "metadata": {},
   "source": [
    "Whoops! Again, lists just don't work that way. We would need a for loop or a list comprehension."
   ]
  },
  {
   "cell_type": "code",
   "execution_count": 236,
   "id": "42fd57c6-20a4-4d52-8182-3dfda7d3c767",
   "metadata": {},
   "outputs": [
    {
     "data": {
      "text/plain": [
       "[10.0, 10.0, 10.0, 10.0, 10.0]"
      ]
     },
     "execution_count": 236,
     "metadata": {},
     "output_type": "execute_result"
    }
   ],
   "source": [
    "[x/y for x,y in zip(list1,list2)]"
   ]
  },
  {
   "cell_type": "markdown",
   "id": "7e910042-0af2-4be9-a634-0030a02c4c81",
   "metadata": {},
   "source": [
    "Wow! That is so unnecessarily complicated for a simple calculation. Hopefully, you are starting to see the beauty and power of NumPy now. \n",
    "\n",
    "Technically, NumPy is applying a loop behind the scenes for you. And the reason NumPy can provide speed improvements over comparible Python code is that NumPy is heavily based in C and C++ code, which executes much faster than Python.  So, behind the scenes NumPy is executing the loop required for ```data1 / data2``` ultra fast in C! And you don't need to know how to code in C at all to reap the benefits.\n",
    "\n",
    "Let's take a quick look at what happened with our data types for the calculations we just did."
   ]
  },
  {
   "cell_type": "code",
   "execution_count": 247,
   "id": "461d8116-f799-47b0-b161-dd6f03b67bf0",
   "metadata": {},
   "outputs": [
    {
     "name": "stdout",
     "output_type": "stream",
     "text": [
      "data1 dtype is int8 and data2 dtype is float32\n",
      "var_add dtype is float32\n",
      "var_div dtype is float32\n"
     ]
    }
   ],
   "source": [
    "print('data1 dtype is',data1.dtype, 'and data2 dtype is',data2.dtype)\n",
    "\n",
    "var_add = data1 + data2\n",
    "var_div = data1 / data2\n",
    "\n",
    "print('var_add dtype is',var_add.dtype)\n",
    "print('var_div dtype is',var_div.dtype)"
   ]
  },
  {
   "cell_type": "markdown",
   "id": "4fe6a69a-d4d8-49e2-8b72-0dd15c385355",
   "metadata": {},
   "source": [
    "This is called *upcasting*. When operating with arrays of different types the type of the resulting array corresponds to the larger-memory type. \n",
    "\n",
    "The int8 data type of elements in ```data1``` consume 8 bits or 1 byte, but the float32 elements in ```data2``` consume 32 bits or 4 bytes. When we do an operation that involves both ```data1``` and ```data2``` the result will be upcast to the larger-memory type, which is float32. \n",
    "\n",
    "All of what we just covered applies to NumPy arrays of any dimension. Basic operations on 2D, 3D, 4D, etc. arrays will be elementwise and when operating with arrays of different data types the resulting data type is upcasted."
   ]
  },
  {
   "cell_type": "markdown",
   "id": "bedcd5e7-afe3-4ab1-874d-af66de8d342c",
   "metadata": {},
   "source": [
    "## Aggregation and Summary Functions\n",
    "\n",
    "NumPy offers all the usual aggregation and summary functions for arrays.\n",
    "- .sum(),\n",
    "- .mean(),\n",
    "- .median(),\n",
    "- .quantile()\n",
    "- .min(),\n",
    "- .max(),\n",
    "- .var()\n",
    "- .std()\n",
    "\n",
    "As well as some extras (this list is not exhaustive):\n",
    "- .ptp()\n",
    "- .percentile()\n",
    "- np.unique()"
   ]
  },
  {
   "cell_type": "code",
   "execution_count": null,
   "id": "3246bf59-5ac5-4ee8-950f-681e66491569",
   "metadata": {},
   "outputs": [],
   "source": []
  },
  {
   "cell_type": "code",
   "execution_count": null,
   "id": "6e890f55-24ea-4e61-aee2-320b37b518de",
   "metadata": {},
   "outputs": [],
   "source": []
  },
  {
   "cell_type": "code",
   "execution_count": null,
   "id": "8971c997-3974-44ed-833d-304a6ea7f563",
   "metadata": {},
   "outputs": [],
   "source": []
  },
  {
   "cell_type": "code",
   "execution_count": null,
   "id": "19155837-1668-4e79-a67d-e77c745afd90",
   "metadata": {},
   "outputs": [],
   "source": []
  },
  {
   "cell_type": "markdown",
   "id": "dc955ec0-a29f-44b1-a1ef-db58d9d4beeb",
   "metadata": {},
   "source": [
    "# V. Broadcasting"
   ]
  },
  {
   "cell_type": "code",
   "execution_count": null,
   "id": "644f49cd-c8c5-4b6a-ba94-796013daec8c",
   "metadata": {},
   "outputs": [],
   "source": []
  },
  {
   "cell_type": "code",
   "execution_count": null,
   "id": "39c4d9a2-ae94-4bf2-8013-5cdc8aa57b33",
   "metadata": {},
   "outputs": [],
   "source": []
  },
  {
   "cell_type": "code",
   "execution_count": null,
   "id": "fc2e7a8a-f58c-4b88-94ad-770933e2f1ae",
   "metadata": {},
   "outputs": [],
   "source": []
  },
  {
   "cell_type": "markdown",
   "id": "d8a45846-c1be-4610-88f1-f670ae97a98e",
   "metadata": {},
   "source": [
    "# VI. Views and Copies"
   ]
  },
  {
   "cell_type": "code",
   "execution_count": null,
   "id": "d1d1a7c9-14ff-4489-99b5-e63fc8f421d3",
   "metadata": {},
   "outputs": [],
   "source": []
  },
  {
   "cell_type": "code",
   "execution_count": null,
   "id": "90ab1b44-b623-4c7f-9a6f-3a7424dd1499",
   "metadata": {},
   "outputs": [],
   "source": []
  },
  {
   "cell_type": "code",
   "execution_count": null,
   "id": "553a8461-1be5-4e76-a148-826496ff211d",
   "metadata": {},
   "outputs": [],
   "source": []
  },
  {
   "cell_type": "markdown",
   "id": "e7016250-e383-4093-9f77-98443ef88cbf",
   "metadata": {},
   "source": [
    "# VII. Query\n",
    "\n",
    "#np.unique, all, any, where, nonzero, fill"
   ]
  },
  {
   "cell_type": "code",
   "execution_count": null,
   "id": "8623c43e-5d18-457c-9dcf-fab9ef010aaf",
   "metadata": {},
   "outputs": [],
   "source": []
  },
  {
   "cell_type": "code",
   "execution_count": null,
   "id": "f9cc3d16-631c-4a4c-a680-ce0c038f838d",
   "metadata": {},
   "outputs": [],
   "source": []
  },
  {
   "cell_type": "code",
   "execution_count": null,
   "id": "7b09cb61-ad9a-4380-98ed-54373377f63b",
   "metadata": {},
   "outputs": [],
   "source": []
  },
  {
   "cell_type": "markdown",
   "id": "cfd820f0-4106-4c62-853e-2d181dc4ee54",
   "metadata": {},
   "source": [
    "# VIII. Array Creation Functions\n",
    "\n",
    "#np.zeros, ones, empty, arange, linspace, random.default_rng, rng.integers\n"
   ]
  },
  {
   "cell_type": "code",
   "execution_count": null,
   "id": "ca82eda8-a3f5-41f7-a90c-f23eb0f362f6",
   "metadata": {},
   "outputs": [],
   "source": []
  },
  {
   "cell_type": "code",
   "execution_count": null,
   "id": "51011e1e-8206-4dde-ba3f-5851a4229e18",
   "metadata": {},
   "outputs": [],
   "source": []
  },
  {
   "cell_type": "code",
   "execution_count": null,
   "id": "103b4222-7469-4ac4-b535-869defb84cc2",
   "metadata": {},
   "outputs": [],
   "source": []
  },
  {
   "cell_type": "markdown",
   "id": "9ca802a6-5577-420d-b57a-f7e95e9c438a",
   "metadata": {},
   "source": [
    "# IX. Array Manipulation\n",
    "\n",
    "##reshape, newaxis, expand_dims, vstack, hstack, hsplit, transpose, flatten,  concatenate, np.sort\n"
   ]
  },
  {
   "cell_type": "code",
   "execution_count": null,
   "id": "c7389567-89ad-4ab0-9d51-5f6833ea6212",
   "metadata": {},
   "outputs": [],
   "source": []
  },
  {
   "cell_type": "code",
   "execution_count": null,
   "id": "99803fef-b3b1-4fb8-8d0f-11ed8bdc8b84",
   "metadata": {},
   "outputs": [],
   "source": []
  },
  {
   "cell_type": "code",
   "execution_count": null,
   "id": "26002d55-94bb-4d19-8998-710809182563",
   "metadata": {},
   "outputs": [],
   "source": []
  },
  {
   "cell_type": "markdown",
   "id": "0fafc77f-1828-454c-9a0e-3b11232131b2",
   "metadata": {},
   "source": [
    "# X. Input/Output\n",
    "\n",
    "#formats numpy can handle\n",
    "\n",
    "#npy format, save and load\n",
    "    #use temperature data for the example, show all different files with metadata \n",
    "\n",
    "#loadtxt, savetxt\n",
    "\n",
    "#using pandas to read into numpy array and write to csv"
   ]
  },
  {
   "cell_type": "code",
   "execution_count": null,
   "id": "cdecdbcd-102d-4b50-9ba5-d93bae6e25d6",
   "metadata": {},
   "outputs": [],
   "source": []
  },
  {
   "cell_type": "code",
   "execution_count": null,
   "id": "92c1f7e5-3425-4157-b601-988c36062545",
   "metadata": {},
   "outputs": [],
   "source": []
  },
  {
   "cell_type": "code",
   "execution_count": null,
   "id": "e8da0e85-136e-4dfb-8ffa-7fadec02bdc1",
   "metadata": {},
   "outputs": [],
   "source": []
  },
  {
   "cell_type": "markdown",
   "id": "3059e6a4-b747-4d62-b55e-d0c8606d1713",
   "metadata": {},
   "source": [
    "<div class=\"alert alert-info\"> \n",
    "\n",
    "# XI. Exercise: Putting it All Together\n",
    "</div>"
   ]
  },
  {
   "cell_type": "code",
   "execution_count": null,
   "id": "a4720b9d-a6cf-4bae-a5df-c9febcea158a",
   "metadata": {},
   "outputs": [],
   "source": []
  },
  {
   "cell_type": "code",
   "execution_count": null,
   "id": "5d063411-c488-4e82-bd41-605b8fe6c702",
   "metadata": {},
   "outputs": [],
   "source": []
  },
  {
   "cell_type": "code",
   "execution_count": null,
   "id": "116a391d-6463-4766-916a-a89db3e2a0a1",
   "metadata": {},
   "outputs": [],
   "source": []
  },
  {
   "cell_type": "markdown",
   "id": "fbfbda7a-bb54-4eb9-bc49-5227096141a5",
   "metadata": {},
   "source": [
    "# XII. At a Glance: Language Covered\n",
    "\n",
    "The NumPy functionality that we covered at a glance...\n",
    "\n",
    "## NumPy Functions"
   ]
  },
  {
   "cell_type": "markdown",
   "id": "56e800bd-ead8-4f2a-823b-ea12985ff3ca",
   "metadata": {},
   "source": [
    "## NumPy data structure (ndarray) methods"
   ]
  },
  {
   "cell_type": "markdown",
   "id": "a294e5f3-859a-42e9-82ce-6b1e85e0f2eb",
   "metadata": {},
   "source": [
    "## NumPy data structure (ndarray) attributes"
   ]
  },
  {
   "cell_type": "markdown",
   "id": "009ad9d1-3a62-47e2-ad70-3308f1050dc4",
   "metadata": {},
   "source": [
    "<div class=\"alert alert-success\">\n",
    "\n",
    "# XIII. Learning More About Pandas\n",
    "\n",
    "For more about Pandas, start on the Pandas website where you can find:\n",
    "\n",
    "- a nice cheat sheet https://pandas.pydata.org/docs/getting_started/index.html\n",
    "- a long list of community developed tutorials https://pandas.pydata.org/docs/getting_started/tutorials.html#communitytutorials\n",
    "- the user guide, which contains a bunch of 10 minute learning guides as well as more in-depth guides by topic https://pandas.pydata.org/docs/user_guide/index.html\n",
    "</div>"
   ]
  },
  {
   "cell_type": "code",
   "execution_count": null,
   "id": "84348964-5fda-488a-81f1-153d1130e3f0",
   "metadata": {},
   "outputs": [],
   "source": []
  }
 ],
 "metadata": {
  "kernelspec": {
   "display_name": "canvas_beginner",
   "language": "python",
   "name": "canvas_beginner"
  },
  "language_info": {
   "codemirror_mode": {
    "name": "ipython",
    "version": 3
   },
   "file_extension": ".py",
   "mimetype": "text/x-python",
   "name": "python",
   "nbconvert_exporter": "python",
   "pygments_lexer": "ipython3",
   "version": "3.13.0"
  }
 },
 "nbformat": 4,
 "nbformat_minor": 5
}
