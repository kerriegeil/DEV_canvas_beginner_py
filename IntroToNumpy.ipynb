{
 "cells": [
  {
   "cell_type": "markdown",
   "id": "1768413a-c9cc-4d37-85c9-cfe4eb0704d7",
   "metadata": {},
   "source": [
    "# Introduction to NumPy for Working with Numerical Data Arrays"
   ]
  },
  {
   "cell_type": "markdown",
   "id": "db644034-050c-4ae3-b249-80d0b26e714d",
   "metadata": {
    "editable": true,
    "slideshow": {
     "slide_type": ""
    },
    "tags": []
   },
   "source": [
    "<div class=\"alert alert-success\">\n",
    "    \n",
    "## This notebook covers\n",
    "- NumPy multidimensional array data structure\n",
    "- NumPy data types\n",
    "- Selecting, slicing, and querying dataframes\n",
    "- Simple calculations with summary functions\n",
    "- Sorting and grouping data\n",
    "- Copying and renaming dataframe columns\n",
    "- Handling missing values\n",
    "- Merging dataframes and writing to file\n",
    "</div>"
   ]
  },
  {
   "cell_type": "markdown",
   "id": "cec7f935-a8ca-4192-836f-ba569d498b98",
   "metadata": {
    "editable": true,
    "slideshow": {
     "slide_type": ""
    },
    "tags": []
   },
   "source": [
    "<div class=\"alert alert-warning\">\n",
    "\n",
    "## Reminders\n",
    "\n",
    "Remember, you can use Jupyter's built-in table of contents (hamburger on the far left) to jump from heading to heading.\n",
    "\n",
    "---\n",
    "\n",
    "This notebook will run in the MSUpy conda environment, which you create in the previous lesson. To select the Jupyter kernel the MSUpy environment go to the Kernel tab, select Change Kernel, then select the MSUpy kernel in the pop up window.\n",
    "\n",
    "---\n",
    "\n",
    "To turn on line number for code cells go to View menu and click Show Line Numbers.\n",
    "\n",
    "</div>"
   ]
  },
  {
   "cell_type": "markdown",
   "id": "a7a10e75-ab62-4798-b547-2b80b1e896be",
   "metadata": {},
   "source": [
    "# I. Importing Necessary Packages"
   ]
  },
  {
   "cell_type": "code",
   "execution_count": 1,
   "id": "2082d529-6fc3-4edf-9ade-0f6d3e2f8a26",
   "metadata": {},
   "outputs": [],
   "source": [
    "import numpy as np"
   ]
  },
  {
   "cell_type": "markdown",
   "id": "6343d55f-4c6e-4ae3-a9dd-10264e3aa3fd",
   "metadata": {
    "editable": true,
    "slideshow": {
     "slide_type": ""
    },
    "tags": []
   },
   "source": [
    "# II. Introduction to the NumPy Data Structure\n",
    "\n",
    "The NumPy (**Num**erical **Py**thon) package is widely used in science and engineering for working with data in homogenous (same data type) multidimensional arrays. Using NumPy multidimensional arrays, as opposed to nested Python lists, improves speed, reduces memory consumption, and offers easier syntax for performing a variety of common data processing tasks. \n",
    "\n",
    "The NumPy data structure is called an *ndarray*, for n-dimensional array, which we may refer to throughout this notebook simply as an \"array\". Below is a schematic of a 1-d, 2-d, and 3-d array. A 1-d array looks similar to a list or a single row of data values. A 2-d array looks similar to a grid or table with rows and columns. A 3-d array looks similar to a cube or cuboid. Each dimension in an ndarray is called an *axis* and the first axis is always axis zero, keeping consistent with Python's zero-based indexing. Also, NumPy arrays must be rectangular and not jagged (i.e., each row of a two-dimensional array must have the same number of columns) and all of the data values in each array must be of the same data type. You'll notice below that similar to Pandas DataFrames, NumPy arrays have a shape attribute where each number in the shape tuple is the length of an array axis. \n",
    "\n",
    "<img src=\"images/numpy_arrays.png\" alt=\"schematic of ndarrays\" width=\"700\"/>\n",
    "\n",
    "It could be helpful to think of array dimensionality in terms of the data your arrays could hold (see image below). A geoscientist, for example, may use a 1-d array to hold solar radiation observations over time at a single location (a timeseries). In this case the only axis (axis 0) would represent data values at different times. A 2-d array could hold spatially gridded data like a gridded map of annual mean temperature or alternatively it could hold land surface imagery with 1-meter pixel resolution, for example. In this case axis 0 (rows) could represent data values at different latitudes and axis 1 (columns) could represent data values at different longitudes. A 3-d array could hold a timeseries of spatially gridded data like daily gridded maximum temperature. In this case axis 0 (the stack in the image below) could represent different times and axes 1 and 2 could represent different latitudes and longitudes.  \n",
    "\n",
    "<img src=\"images/numpy_geoarrays.png\" alt=\"ndarray data examples\" width=\"700\"/>\n",
    "\n",
    "The above are examples of array data you may encounter frequently, but actually NumPy arrays can have as many axes as you can dream up and each axis can represent whatever you want it to. In this notebook though, we'll think of 1-d arrays mostly as timeseries, 2-d arrays as latitude-longitude grids, and 3-d arrays as timeseries of latitude-longitude grids. \n",
    "\n",
    "We won't get into higher dimensional data arrays and we'll only work with numerical data arrays (integer, float, boolean). Technically, NumPy arrays can contain numerical or non-numerical data (such as strings and bytes) but non-numerical data must be defined as fixed-width data types, which requires knowing or calculating the sizes of the longest text or byte sequence in advance. We will not cover non-numerical NumPy arrays in this course. \n",
    "\n",
    "# III. NumPy Data Types\n",
    "\n",
    "We'll cover a few of the numerical NumPy data types here. NumPy supports a much greater variety of numerical data types than core Python does.\n",
    "NumPy numerical data types are more specific than the core Python numerical data types, allowing for more efficient memory usage and faster computation. More detail can be found in the [NumPy Documentation for Data Types](https://numpy.org/doc/stable/user/basics.types.html#data-types).\n",
    "\n",
    "The NumPy data types below are *concrete* types, meaning that a consistent number of bits are reserved for each individual data value in memory. A bit is the smallest unit of data in a computer (represented by a 0 or a 1) and you need 8 bits (1 byte) to represent one character like a letter or number in memory. The concrete data types below are named by combining the basic numerical type name (e.g., integer, float) with the number of bits that are needed to represent a single value in memory (bitsize).\n",
    "\n",
    "np.bool 8-bit Boolean (True/False, 1/0)\n",
    "\n",
    "np.int8 8-bit integer value (-128 to 127)\n",
    "\n",
    "np.int16 16-bit integer value (-32768 to 32767)\n",
    "\n",
    "np.int32 32-bit integer value (-2147483648 to 2147483647)\n",
    "\n",
    "np.int64 64-bit integer value (-9223372036854775808 to 9223372036854775807)\n",
    "\n",
    "np.uint8 Unsigned 8-bit integer value (0 to 255)\n",
    "\n",
    "np.uint16 Unsigned 16-bit integer value (0 to 65535)\n",
    "\n",
    "np.uint32 Unsigned 32-bit integer value (0 to 4294967295)\n",
    "\n",
    "np.uint64 Unsigned 64-bit integer value (0 to 18446744073709551615)\n",
    "\n",
    "np.float16 Half precision float values\n",
    "\n",
    "np.float32 Single-precision float values\n",
    "\n",
    "np.float64 Double-precision float values\n",
    "\n",
    "\n",
    "\n",
    "\n",
    "\n",
    "*When you start working larger array objects, you may need to be more aware of how much memory your objects are consuming. You may want to convert your data to a type that consumes less memory.*"
   ]
  },
  {
   "cell_type": "code",
   "execution_count": null,
   "id": "a706f5e5-2452-4f04-90e3-5db971596eda",
   "metadata": {},
   "outputs": [],
   "source": []
  }
 ],
 "metadata": {
  "kernelspec": {
   "display_name": "Python [conda env:MSUpy] *",
   "language": "python",
   "name": "conda-env-MSUpy-py"
  },
  "language_info": {
   "codemirror_mode": {
    "name": "ipython",
    "version": 3
   },
   "file_extension": ".py",
   "mimetype": "text/x-python",
   "name": "python",
   "nbconvert_exporter": "python",
   "pygments_lexer": "ipython3",
   "version": "3.13.0"
  }
 },
 "nbformat": 4,
 "nbformat_minor": 5
}
