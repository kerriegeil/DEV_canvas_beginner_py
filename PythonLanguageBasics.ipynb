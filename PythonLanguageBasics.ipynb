{
 "cells": [
  {
   "cell_type": "markdown",
   "id": "db644034-050c-4ae3-b249-80d0b26e714d",
   "metadata": {},
   "source": [
    "# Python Language Basics: \n",
    "\n",
    "Data Types, Data Structures, Variables, Comparison Operations, Boolean Opeerators, Control Flow"
   ]
  },
  {
   "cell_type": "markdown",
   "id": "1c83efea-6182-4f5b-a336-26a68860d45c",
   "metadata": {},
   "source": [
    "Reminder: To run cells in this notebook you have three options. Place your cursor in the cell you want to run, then:\n",
    "1) hold down the shift key while hitting the enter key (Shift+Enter),\n",
    "2) click the play button that you should see on the notebook's tab just under the notebook name, or\n",
    "3) click on the Run menu and click Run Selected Cell."
   ]
  },
  {
   "cell_type": "markdown",
   "id": "ba6be924-8419-4586-b19d-f3c8cc3fba04",
   "metadata": {},
   "source": [
    "# I. Importing Necessary Packages\n",
    "\n",
    "The first thing we should do in every notebook is import all the packages needed to run the notebook content. Packages are collections of third-party code that provide additional functionality to the core Python language. You may hear packages also referred to as \"libraries\", \"extension modules\", or simply \"modules\".\n",
    "\n",
    "Since this first notebook is introductory, we don't need any additional functionality beyond the core Python language (no package imports necessary). This is highly unusual, as using Python almost always requires importing packages. We'll import packages in all other course notebooks and will cover how to do it near the end of this lesson."
   ]
  },
  {
   "cell_type": "markdown",
   "id": "73c31eed-5b7c-4676-8ea1-3ce0ae3ad668",
   "metadata": {},
   "source": [
    "# II. Hello World\n",
    "It's traditional for your first code in any language to be a \"hello world.\" So, let's store \"Hello, World!\" in a variable and then print it out with python. \n",
    "\n",
    "This is a good time to turn on your line numbers through View menu -> Show Line Numbers.\n",
    "\n",
    "Also, let's experiment with commenting out code using a pound symbol (#). You can also select multiple lines and hit CTRL+/ in windows or Command+/ on Mac."
   ]
  },
  {
   "cell_type": "code",
   "execution_count": null,
   "id": "ef2fc64f-48e4-45cf-a80f-5ea75848c45c",
   "metadata": {},
   "outputs": [],
   "source": [
    "myMessage = \"Hello, World!\"\n",
    "print(myMessage)"
   ]
  },
  {
   "cell_type": "markdown",
   "id": "49712b58-cc4b-4dd1-9777-57efdcba039e",
   "metadata": {},
   "source": [
    "# III. Python Variables and Types\n",
    "In the previous section we stored the phrase \"Hello World\" in a variable named `myMessage`. A variable is a container for data. Variables have *names* and they can contain data of many different *types* (numbers, character strings, etc.)\n",
    "\n",
    "## What Types Does Python Support?\n",
    "We won't cover all of these data types but Python supports the following types by default:\n",
    "\n",
    "| Kind of Data | Python Types | Examples |\n",
    "| :----------- | :----------- | :----------- |\n",
    "|Text|str|varName = \"I love milkshakes.\"|\n",
    "|Numeric|int,<br /> float,<br /> complex|varName = 3<br />varName = 3.0<br />varName = 3j|\n",
    "|Sequence|list,<br /> tuple,<br /> range|varName = [\"chocolate\", \"strawberry\", \"vanilla\"]<br />varName = (\"chocolate\", \"strawberry\", \"vanilla\")<br />varName = range(6)\n",
    "|Mapping|dict|varName = {\"name\" : \"Bully\", \"species\" : \"Dog\"}|\n",
    "|Set|set,<br /> frozenset|varName = {\"strawberry\", \"vanilla\", \"chocolate\"}<br />varName = frozenset({\"strawberry\", \"vanilla\", \"chocolate\"})|\n",
    "|Boolean|bool|varName = True|\n",
    "|Binary|bytes,<br /> bytearray,<br /> memoryview|varName = b\"hello\"<br />varName=bytearray(5)<br />varName=memoryview(bytes(5))|\n",
    "|None|NoneType|varName=None|\n",
    "\n",
    "\n",
    "If you've programmed in another language, you will probably know what the following types are without any explanation:\n",
    "- Text - str (text goes in what programmers call 'strings')\n",
    "- Numeric - int (integers are whole numbers)\n",
    "- Numeric - float (floating point numbers have a decimal and some amount of precision)\n",
    "- Boolean - bool (boolean values are either True/1 or False/0)\n",
    "\n",
    "Other data types we'll use in this course that may need more explanation are:\n",
    "- Sequence - list, tuple, and range (iterable objects containing values) \n",
    "- Mapping - dict (dictionary of \"key/value\" pairs)\n",
    "- NoneType (a special data type representing the absence of a value)\n",
    "\n",
    "Links to more info about data types we won't cover:\n",
    "- Complex numbers [Real Python: Simplify Complex Numbers with Python](https://realpython.com/python-complex-numbers/)\n",
    "- Sets and frozen sets [Real Python: Sets in Python](https://realpython.com/python-sets/)\n",
    "- Bytes and byte arrays (as well as other data types) [Real Python: Basic Data Types in Python: A Quick Exploration](https://realpython.com/python-data-types/) \n",
    "- Memoryview [CodeAcademy: Memoryview](https://www.codecademy.com/resources/docs/python/built-in-functions/memoryview), [Python 3 Documentation: Built-in Types, Memoryview](https://docs.python.org/3/library/stdtypes.html#memory-views)"
   ]
  },
  {
   "cell_type": "markdown",
   "id": "5650f31f-f87b-4481-bcf0-27d05a0885a4",
   "metadata": {},
   "source": [
    "### Sequences - list [] and tuple ()\n",
    "Lists and tuples (pronounced too-pulls) are used to store a collection of values like the integer values 1,2,3,4 or the strings \"dog\",\"cat\",\"horse\",\"zebra\". The difference is that lists can be changed after you create them (they are *mutable*) and tuples cannot be changed (they are *immutable*). Lists and tuples, as well as dictionaries which we'll cover below, are also called \"collections\" since they are containers that hold multiple values or items. \n",
    "\n",
    "The code below initializes a list and a tuple and illustrates how Python also lets you figure out what type any variable is."
   ]
  },
  {
   "cell_type": "code",
   "execution_count": null,
   "id": "f4fcbaa3-3c4e-40db-86d3-8a5bd4750891",
   "metadata": {},
   "outputs": [],
   "source": [
    "# initialize a list with square brackets\n",
    "myList = [8,7,19,9]\n",
    "# initialize a tuple with parentheses\n",
    "myTuple = (8,7,19,9)\n",
    "\n",
    "# print out the type of each\n",
    "print(type(myList))\n",
    "print(type(myTuple))"
   ]
  },
  {
   "cell_type": "code",
   "execution_count": null,
   "id": "1defefed-745c-4d3b-a812-946a1d425a51",
   "metadata": {},
   "outputs": [],
   "source": [
    "#let's try to change a list; you should have no problem\n",
    "myList[0] = 9\n",
    "\n",
    "# print out that changed list - you'll see a 9 in the first position since you changed it\n",
    "print(myList)"
   ]
  },
  {
   "cell_type": "code",
   "execution_count": null,
   "id": "832e3919-658e-496f-aff6-322078333d8d",
   "metadata": {},
   "outputs": [],
   "source": [
    "# you can also print out just the first member of the tuple or list like this\n",
    "print(myTuple[0])"
   ]
  },
  {
   "cell_type": "code",
   "execution_count": null,
   "id": "b8fb6b9a-31ea-4c83-a8a5-d6879289b215",
   "metadata": {},
   "outputs": [],
   "source": [
    "# but, let's try to change a tuple -  you should see an error\n",
    "myTuple[0] = 9\n",
    "\n",
    "# and so because of the error, this line will not execute at all\n",
    "print(myTuple)"
   ]
  },
  {
   "cell_type": "markdown",
   "id": "f050d00c-0909-402b-adfb-58d3856eecd8",
   "metadata": {},
   "source": [
    "Notice a few things about the code we've written:\n",
    "- Lists are assigned using square brackets ```[]``` and tuples are created using parentheses ```()```\n",
    "- The ```type()``` method returns what type of variable something is\n",
    "- Access an individual member of a list using brackets ```myList[0]``` and the position index of the item. In the example above, we assign a new value to the first item in the list and it switches from 8 to 9. Notice that the first item is accessed with an index of 0. Python and many other programming languages start counting from zero and not one. You can access the second member of the list using ```myList[1]```, the third with ```myList[2]```, and so on. \n",
    "- Tuples are not changeable. Even though we can access the first item using ```myTuple[0]``` the same way we did with lists, when we try to change myTuple, we get a \"TypeError\" - because you can can't change tuples once they are created, i.e. they are *immutable*. This is why ```myTuple[0] = 9``` generates an error.\n",
    "\n",
    "Tuples exist because they are much faster to process than lists. If you have a list of things that won't change while a program runs, storing it as a tuple means faster code.\n",
    "\n",
    "There are a few more really handy things you can do with lists. "
   ]
  },
  {
   "cell_type": "code",
   "execution_count": null,
   "id": "80049c60-9821-45d2-a328-8671a9e4930c",
   "metadata": {},
   "outputs": [],
   "source": [
    "# You can repeat a list by multiplying it.\n",
    "myList = myList*3\n",
    "myList"
   ]
  },
  {
   "cell_type": "markdown",
   "id": "cf204964-0c9f-4625-8d52-c31c170274ae",
   "metadata": {},
   "source": [
    "Notice what did NOT happen. The numbers in the list did NOT all get multiplied by 3. Instead the list sequence was repeated 3 times so now the length of our list is 3 times as long as it was before. This trick also works with Tuples.\n",
    "\n",
    "By the way, to get the length of a list or tuple (i.e., the number of members or values within the list or tuple) you can use the ```len()``` function."
   ]
  },
  {
   "cell_type": "code",
   "execution_count": null,
   "id": "6a3098fd-c4de-4857-8d54-4357282c5bd0",
   "metadata": {},
   "outputs": [],
   "source": [
    "len(myList)"
   ]
  },
  {
   "cell_type": "markdown",
   "id": "2397c7bc-14fb-49b4-967f-5d661d65f65c",
   "metadata": {},
   "source": [
    "What if I want to append or prepend values to a list? We can use the functions ```append()``` and ```insert()``` for that."
   ]
  },
  {
   "cell_type": "code",
   "execution_count": null,
   "id": "6644c337-00c6-4be0-821e-c122a9cac13d",
   "metadata": {},
   "outputs": [],
   "source": [
    "# appending a list\n",
    "myList.append(100)\n",
    "myList"
   ]
  },
  {
   "cell_type": "code",
   "execution_count": null,
   "id": "c8da9603-32d6-4d18-ac3a-394ad70618a2",
   "metadata": {},
   "outputs": [],
   "source": [
    "# prepending a list\n",
    "myList.insert(0,200)\n",
    "myList"
   ]
  },
  {
   "cell_type": "markdown",
   "id": "45602043-f1f7-4aa8-9172-a3b2434f1be7",
   "metadata": {},
   "source": [
    "```insert()``` enters an additional number into the list at a specific position index. We can use it to prepend a list as we did above using an index of 0, or we can use it to insert an additional value into the list at any index we want:"
   ]
  },
  {
   "cell_type": "code",
   "execution_count": null,
   "id": "2b4dc706-c638-48fc-b346-c181a055010e",
   "metadata": {},
   "outputs": [],
   "source": [
    "# inserting a new value at a specific list index\n",
    "myList.insert(4,500)\n",
    "print(myList)\n",
    "print(len(myList))"
   ]
  },
  {
   "cell_type": "markdown",
   "id": "88237a40-ec91-4b07-acae-8be871c1563c",
   "metadata": {},
   "source": [
    "Notice how when we use ```insert()```, none of the existing numbers in the list are deleted. We are simply entering additional numbers into the list. Remember, if you want to replace a number in the list, you would use square brackets as we covered earlier."
   ]
  },
  {
   "cell_type": "markdown",
   "id": "b7802a40-cd48-4d2e-99d7-5653d12dce90",
   "metadata": {},
   "source": [
    "### Sequences  - range (start,stop,step)\n",
    "The built-in function ```range()``` is used to hold a series of numbers. ```range()``` returns a range object that contains an immutable sequence of integers and is often used for looping through a specific number of iterations in a for loop. \n",
    "\n",
    "```range(start,stop,step)``` is exclusive of the stop value, like in the example given below range(10,15,1) the stop value of 15 won't be included. "
   ]
  },
  {
   "cell_type": "code",
   "execution_count": null,
   "id": "2dedffdf-d791-42ed-b608-9e5600adda4f",
   "metadata": {},
   "outputs": [],
   "source": [
    "# see what the range function returns (a range object)\n",
    "range(10,15,1) # range(start,stop,step)"
   ]
  },
  {
   "cell_type": "code",
   "execution_count": null,
   "id": "7c85c7c6-f5fe-4f78-8cd8-242a2f6dfa3d",
   "metadata": {},
   "outputs": [],
   "source": [
    "# how to see all the values in the range object?\n",
    "# loop through the range object and print out every number.\n",
    "# notice that at each iteration of the loop, the variable \"number\" \n",
    "# will contain the next number in the range\n",
    "for number in range(10,15,1):\n",
    "  print(number)"
   ]
  },
  {
   "cell_type": "markdown",
   "id": "f1dba561-3347-4908-9e6b-1c532c7fa87d",
   "metadata": {},
   "source": [
    "As you can see, our range sequence goes from 10 to 14 incremented by 1.  \n",
    "\n",
    "This example also used a for loop, meaning that the block of code indented below the for loop executes multiple times (i.e. multiple iterations). In this case the number of iterations is determined by how many members there are in the range sequence.\n",
    "\n",
    "If you leave out the start number and the step size in the range function, Python assumes you want to start at 0 and increment by 1. Here's an example:"
   ]
  },
  {
   "cell_type": "code",
   "execution_count": null,
   "id": "41c2b964-8679-47dd-929f-ac1b76770799",
   "metadata": {},
   "outputs": [],
   "source": [
    "# when one number is given to the range function\n",
    "# python infers that it is the stop value (exclusive)\n",
    "# and that the start=0 and the step=1\n",
    "for number in range(7):\n",
    "    print(number)"
   ]
  },
  {
   "cell_type": "markdown",
   "id": "8a6704e7-eb9b-4d3c-b543-635915d5e892",
   "metadata": {},
   "source": [
    "### Sidebar: Indentation in Python\n",
    "\n",
    "Notice that after the for loop starts there is a colon and then the lines contained within the loop are indented by four spaces. Python doesn't use curly brackets like C-like languages do, but uses indentation to mark out blocks of code. Jupyter will take care of this for you for the most part, automatically indenting when you type Enter after a colon. If you are using a plain text editor though, just be consistent, you have to use tab or a consistent number of spaces for the indent, but you can't mix styles or you will get errors."
   ]
  },
  {
   "cell_type": "markdown",
   "id": "cfaa3bf6-03d7-4417-8122-08fda26eec97",
   "metadata": {},
   "source": [
    "### Mapping - Dictionary {\"key\":\"value\",\"key2\":\"value2\"}\n",
    "\n",
    "Dictionaries are very useful for data science. They consist of a list of key:value pairs. Just like a dictionary has a word (key) and a definition (value), Python dictionaries have these pairs of keys and values. Another word for a key:value pair in a python dictionary is \"item\". \n",
    "\n",
    "Dictionaries are enclosed by curly brackets, use colons between each key and its associated value, and use commas between each key:value pair. For example, here's a dictionary that stores US Department of Labor occupation codes in a dictionary:"
   ]
  },
  {
   "cell_type": "code",
   "execution_count": null,
   "id": "d00e4778-4dad-4ed4-8eda-3efbd5d54a76",
   "metadata": {},
   "outputs": [],
   "source": [
    "# let's initialize our dictionary to contain three occupations\n",
    "# there are 3 key:value pairs (i.e., 3 items) in the dictionary\n",
    "# notice that dictionaries use curly brackets\n",
    "occupationCodes = {\"welder\" : \"51-4121.00\", \"nurse\" : \"29-1141.00\", \"computer programmer\" : \"15-1251.00\"}\n",
    "\n",
    "occupationCodes"
   ]
  },
  {
   "cell_type": "code",
   "execution_count": null,
   "id": "f264a60d-ff26-4726-8b9a-405b908050e4",
   "metadata": {},
   "outputs": [],
   "source": [
    "# we can also add one at at a time with this syntax\n",
    "# dictionaryName[\"key\"] = \"value\"\n",
    "occupationCodes[\"accountant\"] = \"13-2011.00\"\n",
    "\n",
    "occupationCodes"
   ]
  },
  {
   "cell_type": "markdown",
   "id": "a834b637-c5ea-4252-8905-3787e8f4a6d0",
   "metadata": {},
   "source": [
    "Imagine our dictionary was very large, containing all occupations and labor codes. How can we search the dictionary for a specific occupation and its code? "
   ]
  },
  {
   "cell_type": "code",
   "execution_count": null,
   "id": "952653c6-c7d6-4c7c-9738-7f98c0b81722",
   "metadata": {},
   "outputs": [],
   "source": [
    "# let's search for welder\n",
    "keyword = \"welder\"\n",
    "\n",
    "# check if the key \"welder\" exists in the dictionary\n",
    "# if so, print the labor code for welder\n",
    "# if not, print a different reponse\n",
    "if keyword in occupationCodes:\n",
    "    print(f\"The occupation code for {keyword} is {occupationCodes[keyword]}\")\n",
    "else:\n",
    "    print(f\"Sorry, there is no information for {keyword}\")"
   ]
  },
  {
   "cell_type": "markdown",
   "id": "3eb82440-9d8e-42ff-9ad6-35f2c9fbfa45",
   "metadata": {},
   "source": [
    "There are lots of cool things to notice in this code:\n",
    "- You can modify dictionaries (as we did when we added \"accountant\" and its labor code)\n",
    "- You can check to see whether a key exists in the dictionary (as we did with \"welder\")\n",
    "- You can use plain brackets and the key (```occupationCodes[\"welder\"]```) to retrieve the corresponding value from a dictionary\n",
    "- The f inside the print statement before the quotations indicates a formatted string. Formatted strings allow you to use curly brackets inside the string to print variables or execute expressions.\n",
    "\n",
    "Try modifying the keyword to something like \"firefighter\" that we know isn't in the dictionary and then running it.\n",
    "\n",
    "This code snippet above also uses the \"if ... else\" functionality in Python. This is called a conditional statement and is a way to check conditions before executing code. We'll cover more about this in Section V. Control Flow.\n",
    "\n",
    "Dictionaries, starting in Python 3.7 are *ordered* collections which means you can count on key:value pairs being stored in the order in which you added them to the dictionary."
   ]
  },
  {
   "cell_type": "markdown",
   "id": "2e8eba62-c814-4c46-9466-e165995d0ad0",
   "metadata": {},
   "source": [
    "# IV. Comparison Operations and Boolean Operators\n",
    "\n",
    "Let's take a quick look at comparison operations in python and how to use them.\n",
    "\n",
    "Comparison operations:\n",
    "- Equal to ```==```\n",
    "- Not equal to ```!=```\n",
    "- Greater than ```>```\n",
    "- Less than ```<```\n",
    "- Greater than or equal to ```>=```\n",
    "- Less than or equal to ```<=```\n",
    "\n",
    "When comparing one value against another with a comparison operation the result will be boolean (True/False):"
   ]
  },
  {
   "cell_type": "code",
   "execution_count": null,
   "id": "7cfcb40a-4f7e-4c5e-981d-0cadfa6e5019",
   "metadata": {},
   "outputs": [],
   "source": [
    "x = 5\n",
    "y = 10\n",
    "\n",
    "print(x == y)  # False\n",
    "print(x != y)  # True\n",
    "print(x > y)   # False\n",
    "print(x < y)   # True\n",
    "print(x >= y)  # False\n",
    "print(x <= y)  # True"
   ]
  },
  {
   "cell_type": "markdown",
   "id": "1aaa77ec-c33a-4c8a-999f-88330ac524b2",
   "metadata": {},
   "source": [
    "Python boolean operators are ```and```, ```or```, and ```not```. These words operate on boolean values and return boolean values. Let's see how they work:"
   ]
  },
  {
   "cell_type": "code",
   "execution_count": null,
   "id": "38d07d90-af8d-4325-8cea-d60a6c288b8b",
   "metadata": {},
   "outputs": [],
   "source": [
    "x = True\n",
    "y = False\n",
    "\n",
    "# are x and y equal to True\n",
    "print(x and y) # False\n",
    "\n",
    "# is x or y equal to True\n",
    "print(x or y) # True\n",
    "\n",
    "# the boolean opposite of x\n",
    "print(not x) # False\n",
    "\n",
    "# the boolean opposite of y\n",
    "print(not y) # True\n",
    "\n"
   ]
  },
  {
   "cell_type": "markdown",
   "id": "5714807b-accc-4561-8f5f-beb9db720c9c",
   "metadata": {},
   "source": [
    "It might be hard to see immediately how this will be useful. Let's take it one step further. We can use comparison operations to generate boolean values which we can then use boolean operators on. For example:"
   ]
  },
  {
   "cell_type": "code",
   "execution_count": null,
   "id": "58128b1c-6793-40d5-b556-76e76cad4d23",
   "metadata": {},
   "outputs": [],
   "source": [
    "# combining comparison operations and boolean operators\n",
    "\n",
    "x=5\n",
    "y=10\n",
    "\n",
    "print( (x>0) and (x!=y) ) # True\n",
    "\n",
    "print( (x<0) or (x==y) ) # False\n",
    "\n",
    "print( not((x<0) or (x==y)) ) # True"
   ]
  },
  {
   "cell_type": "markdown",
   "id": "d7efd9f8-b7f2-44c1-aab7-9022589ad70f",
   "metadata": {},
   "source": [
    "Comparison operations and boolean operators are often used in if statements, like in the code below. More to come about if statements and other control flow tools in the next section."
   ]
  },
  {
   "cell_type": "code",
   "execution_count": null,
   "id": "84315b6a-0642-42bd-b5c2-004585dac26f",
   "metadata": {},
   "outputs": [],
   "source": [
    "# if two conditions are met, then do a calculation\n",
    "if (x>0) and (x!=y):\n",
    "    z=x+y\n",
    "\n",
    "z"
   ]
  },
  {
   "cell_type": "markdown",
   "id": "885377d6-59d5-42ff-bfe4-82bbe50f0d52",
   "metadata": {},
   "source": [
    "A quick note about comparison operations, boolean operators, and the use of parentheses. In Python, when using more than one condition connected with a boolean operator it is very important to enclose each condition in parentheses (e.g., ```(x>0) and (x!=y)```). If you remove the parenthesis from any of the code above, the results will be identical but this is not always the case. \n",
    "\n",
    "When you get into more complicated code or begin using packages such as Numpy, parentheses around multiple conditions are critical for generating correct results. Often, if you do not use parentheses around conditions, Python will not evaluate the condition as expected but will not throw an error either, which means you've got incorrect results and no warning about it. \n",
    "\n",
    "**Always use parentheses with multiple conditions!** Plus, it makes your code much more readable."
   ]
  },
  {
   "cell_type": "markdown",
   "id": "7b36e4ae-9a84-4ed7-acbf-113b7b2a19e1",
   "metadata": {},
   "source": [
    "# V. Control Flow\n",
    "\n",
    "Control flow is the order in which individual statements, operations, or function calls in your code are executed. The control flow of Python code is regulated by conditional statements, loops, function calls, and keywords.\n",
    "\n",
    "This section introduces for loops, while loops, if statements, the keywords break, continue, and pass, user created functions, list comprehension, and lambda functions.\n",
    "\n",
    "## For loops\n",
    "\n",
    "Something for loops are useful for is iterating through values in a list."
   ]
  },
  {
   "cell_type": "code",
   "execution_count": null,
   "id": "005d0c0a-68f3-4648-bb47-94ac8b13c747",
   "metadata": {},
   "outputs": [],
   "source": [
    "# Create a List\n",
    "greatLanguages = [\"Python\", \"R\", \"Java\", \"C++\"]\n",
    "\n",
    "# iterate over the list using a for loop\n",
    "for language in greatLanguages:\n",
    "    print(f\"{language} is a great language.\")"
   ]
  },
  {
   "cell_type": "markdown",
   "id": "b10b68f5-bb18-4dd4-b683-ba90aca1833b",
   "metadata": {},
   "source": [
    "Notice that:\n",
    "- The variable ```language``` stores, one by one, the values in the list ```greatLanguages```\n",
    "- During each iteration of the loop, you can use the variable ```language``` within the loop code (the indented part). Here we do a simple print statement\n",
    "\n",
    "Sometimes you may need to iterate through each value in a list but also know the position index of that value within the list as well. Python has the convenient built-it function ```enumerate()``` for that:"
   ]
  },
  {
   "cell_type": "code",
   "execution_count": null,
   "id": "553b5c20-573e-47b0-a2c2-6c8192d4dfe8",
   "metadata": {},
   "outputs": [],
   "source": [
    "for position, language in enumerate(greatLanguages):\n",
    "    print(position, language)"
   ]
  },
  {
   "cell_type": "markdown",
   "id": "14ee3b9f-64d9-4299-8410-911ae6e54b3f",
   "metadata": {},
   "source": [
    "In the example above:\n",
    "- The variable ```position``` contains the index number of the item at each iteration (0-3)\n",
    "- The variable ```language``` contains the value of the item (just as before)\n",
    "- The ```enumerate()``` function is what extracts the value of the ```position``` and ```language``` variables"
   ]
  },
  {
   "cell_type": "markdown",
   "id": "34caa6be-de8c-4cc7-82d4-602ea9250aa0",
   "metadata": {},
   "source": [
    "If you have two lists containing the same number of values (same list length), you can even iterate through both lists simultaneously using the built-in function ```zip()```. This is useful, for example, if you have data stored in separate lists of the same length but the lists are somehow related to each other. "
   ]
  },
  {
   "cell_type": "code",
   "execution_count": null,
   "id": "f639a301-44ca-487d-92ab-1538d4e0c60b",
   "metadata": {},
   "outputs": [],
   "source": [
    "greatLanguages = [\"Python\", \"R\", \"Java\", \"C++\"]\n",
    "numberOfUsers = [\"10 million\",\"2 million\",\"9 million\",\"4 million\"]\n",
    "for language,users in zip(greatLanguages,numberOfUsers):\n",
    "    print(language,users)"
   ]
  },
  {
   "cell_type": "markdown",
   "id": "ed389a60-671e-4598-a113-4343bf9407e4",
   "metadata": {},
   "source": [
    "You can also combine using ```zip()``` and ```enumerate()``` as long as you add parenthesis around the zipped loop variables."
   ]
  },
  {
   "cell_type": "code",
   "execution_count": null,
   "id": "f473b22a-51ad-41a8-9a12-50e9e80e61ae",
   "metadata": {},
   "outputs": [],
   "source": [
    "for position,(language,users) in enumerate(zip(greatLanguages,numberOfUsers)):\n",
    "    print(position,language,users)"
   ]
  },
  {
   "cell_type": "markdown",
   "id": "d96550b1-ee8f-476f-9868-62bbf28dc5be",
   "metadata": {},
   "source": [
    "Really, you can zip up as many list variables as you want to iterate over them simultaneously, as long as they all have the same length. Notice your lists don't always have to contain strings. This also works in combination with ```enumerate()```, but again, as long as you enclose the zipped variables in parentheses like above."
   ]
  },
  {
   "cell_type": "code",
   "execution_count": null,
   "id": "1e745a44-5843-4915-bbd4-4aa127d68d18",
   "metadata": {},
   "outputs": [],
   "source": [
    "thirdList = [10,3,12,30]\n",
    "forthList = [9.0,6.3,52.8,0.1]\n",
    "for language,users,var3,var4 in zip(greatLanguages,numberOfUsers,thirdList,forthList):\n",
    "    print(language,users,var3,var4)"
   ]
  },
  {
   "cell_type": "markdown",
   "id": "2bca025f-3248-4489-8b99-9bb6bc1350be",
   "metadata": {},
   "source": [
    "You can do the same type of iteration over a dictionary, as opposed to a list. You'll notice that iterating over a dictionary can be much like iterating over two lists zipped together, except we don't have to use the zip function on a dictionary because the keys and values are already paired. The dictionary ```languageUsage``` below contains 4 items (i.e. 4 key:value pairs). We can use a for loop to iterate over the items:"
   ]
  },
  {
   "cell_type": "code",
   "execution_count": null,
   "id": "bd77b665-ad3a-4d51-9a3e-8dc96b998288",
   "metadata": {},
   "outputs": [],
   "source": [
    "languageUsage = {\"Python\": \"10 million\", \n",
    "                 \"R\" : \"2 million\", \n",
    "                 \"Java\" : \"9 million\",\n",
    "                 \"C++\":\"4 million\"}\n",
    "\n",
    "for key, value in languageUsage.items():\n",
    "    print(key, \"has\", value, \"users\")"
   ]
  },
  {
   "cell_type": "markdown",
   "id": "0dcca66a-e795-49ad-8335-4295321725fe",
   "metadata": {},
   "source": [
    "### Exercise 1: Iterate through a list with a for loop\n",
    "\n",
    "Create a list of your favorite musicians or band names and then iterate through the list and output each one in the format like \"I love The Rolling Stones\"."
   ]
  },
  {
   "cell_type": "code",
   "execution_count": null,
   "id": "8b14c8ca-de77-47f4-b6e2-e4ed310e6305",
   "metadata": {},
   "outputs": [],
   "source": [
    "# add your code here"
   ]
  },
  {
   "cell_type": "markdown",
   "id": "d85f7776-679e-4266-b28d-be27368ccd4d",
   "metadata": {},
   "source": [
    "## While loops\n",
    "\n",
    "As opposed to a for loop that iterates through an iterable object like a list, a while loop simply executes a loop until a condition is False. While loops are usually less common than for loops in Python for scientific programming."
   ]
  },
  {
   "cell_type": "code",
   "execution_count": null,
   "id": "ad04e4ee-b44b-4b9f-b104-0471f5958475",
   "metadata": {},
   "outputs": [],
   "source": [
    "# integer example\n",
    "x = 0\n",
    "\n",
    "while x <= 5:\n",
    "    x = x + 1\n",
    "    print(x)"
   ]
  },
  {
   "cell_type": "markdown",
   "id": "d20383c8-07bb-4ed9-95be-587bb0eb32b8",
   "metadata": {},
   "source": [
    "### Exercise 2: Write a while loop to iterate through characters in a string\n",
    "\n",
    "Iterate through and print out each character of the string ```text``` below using a while loop. Hint: start at index 0 and iterate while the index is less than the length of the ```text``` variable."
   ]
  },
  {
   "cell_type": "code",
   "execution_count": null,
   "id": "3630ce3b-f229-4e6f-8040-c560fab1d419",
   "metadata": {},
   "outputs": [],
   "source": [
    "text = \"Hello, World!\"\n",
    "index = 0\n",
    "\n",
    "# add your code here"
   ]
  },
  {
   "cell_type": "markdown",
   "id": "29122307-eb5f-4a0b-83de-7e2b51afc540",
   "metadata": {},
   "source": [
    "## If statements\n",
    "\n",
    "if, if-elif, if-elif-else, if-else blocks\n",
    "\n",
    "An if statement tests whether a condition is True or False and then executes code (indented on subsequent lines) only if the condition is True."
   ]
  },
  {
   "cell_type": "code",
   "execution_count": null,
   "id": "a3648011-5a5b-4d4c-928a-e800979829ee",
   "metadata": {},
   "outputs": [],
   "source": [
    "# test one condition and execute code if True\n",
    "x=5\n",
    "y=10\n",
    "\n",
    "if x<y:\n",
    "    print('x is less than y')"
   ]
  },
  {
   "cell_type": "code",
   "execution_count": null,
   "id": "3ae4d28e-4a92-4e96-9a1a-4d997aa16e3e",
   "metadata": {},
   "outputs": [],
   "source": [
    "# test two conditions and execute code if both conditions are True\n",
    "if (x<y) and (y>20):\n",
    "    print('both conditions are True')"
   ]
  },
  {
   "cell_type": "markdown",
   "id": "8e03fb50-84be-450e-bd80-3e0910bb1390",
   "metadata": {},
   "source": [
    "Nothing printed, why? Because ```x<y``` is True but ```y>20``` is False. Both conditions need to be True for the code inside the if block (the indented line) to execute. Otherwise, the line(s) of code inside the block are skipped.\n",
    "\n",
    "Next, let's look at using if in combination with elif (else if). "
   ]
  },
  {
   "cell_type": "code",
   "execution_count": null,
   "id": "4f84f089-bb4a-47e5-b5bf-c26b642a8c89",
   "metadata": {},
   "outputs": [],
   "source": [
    "# test multiple conditions separately\n",
    "if y<x:\n",
    "    print('y is less than x')\n",
    "elif y>x:\n",
    "    print('y is greater than x')"
   ]
  },
  {
   "cell_type": "markdown",
   "id": "bcdd6521-ad8f-493a-9677-f985c9d95f0d",
   "metadata": {},
   "source": [
    "When an elif statement (or an else statement) immediately follows the if statement like above and below, the statements are chained together into a \"block\". What I mean by this is that the if and elif conditions are tested one at a time, but as soon as one of the conditions is True, the remainder of block will not be tested. Let's take a look. "
   ]
  },
  {
   "cell_type": "code",
   "execution_count": null,
   "id": "ecf179a3-3298-46e1-8ade-be7c1be4ff44",
   "metadata": {},
   "outputs": [],
   "source": [
    "# test multiple conditions separately\n",
    "if y>x:\n",
    "    print('y is greater than x')\n",
    "elif y>6:\n",
    "    print('y is greater than 6')"
   ]
  },
  {
   "cell_type": "markdown",
   "id": "f410e74b-413a-4564-8d7c-c03473aa18a5",
   "metadata": {},
   "source": [
    "In the above code, both conditions are True. y=10, so y is greater than x (5) and y is also greater than 6. But because this is a single block of code, the second condition is never tested because the first condition was True. In this type of code block, subsequent conditions will only be tested if previously tested conditions were False.\n",
    "\n",
    "Let's look at an example with else."
   ]
  },
  {
   "cell_type": "code",
   "execution_count": null,
   "id": "4472092d-6a7e-44fc-93cd-0e79721b49d8",
   "metadata": {},
   "outputs": [],
   "source": [
    "x=5\n",
    "y=5\n",
    "\n",
    "if y<x:\n",
    "    print('y is less than x')\n",
    "elif y>x:\n",
    "    print('y is greater than x')\n",
    "else:\n",
    "    print(f'x and y are equal. x={x}, y={y}')"
   ]
  },
  {
   "cell_type": "markdown",
   "id": "4b29b71e-fd5a-4543-800e-83c9cd4c16c4",
   "metadata": {},
   "source": [
    "Talking our way through the code above would sound like:\n",
    "\n",
    "\"If this first condition is True, print this string and that's it. If the first condition is False but this second condition is True, print this other string and that's it. And for all other situations where neither of the first two conditions are True, print a different string that includes the values of x and y\"\n",
    "\n",
    "Also, you can add as many elif statements as you have conditions to test into your if block, or you can have no elif statements at all (e.g. simple if statements of if-else blocks). "
   ]
  },
  {
   "cell_type": "markdown",
   "id": "d4499a24-862c-461d-8d6d-b0d39f5d9245",
   "metadata": {},
   "source": [
    "### Exercise 3: Write if statements\n",
    "\n",
    "Create the variable ```myAge``` and set it equal to your age as an integer. Use any combination of if, elif, and else statements to accomplish the following:\n",
    "\n",
    "- If ```myAge``` is less than 13, print \"You are a child.\"\n",
    "- If ```myAge``` is between 13 and 19 (inclusive), print \"You are a teenager.\"\n",
    "- If ```myAge``` is between 20 and 64 (inclusive), print \"You are an adult.\"\n",
    "- If ```myAge``` is 65 or older, print \"You are a senior.\""
   ]
  },
  {
   "cell_type": "code",
   "execution_count": null,
   "id": "86689f6e-2a16-4a7a-b7dd-d6660e55f8cc",
   "metadata": {},
   "outputs": [],
   "source": [
    "# add your code here"
   ]
  },
  {
   "cell_type": "markdown",
   "id": "1635567d-df19-44df-8211-878d45ef977e",
   "metadata": {},
   "source": [
    "## Break, Continue, and Pass\n",
    "\n",
    "You may not have frequent reason to use these but they can be helpful for debugging code so we'll cover them briefly. Break, continue, and pass are used incombination with for loops and if statements.\n",
    "\n",
    "Break is used for early termination of a for loop. The code below shows how break causes the execution of the for loop to stop immediately."
   ]
  },
  {
   "cell_type": "code",
   "execution_count": null,
   "id": "1563fdfa-05f3-4f72-b413-aefa1b9adbb6",
   "metadata": {},
   "outputs": [],
   "source": [
    "# an example of break\n",
    "\n",
    "languageUsage = {\"Python\": \"10 million\", \n",
    "                 \"R\" : \"2 million\", \n",
    "                 \"Java\" : \"9 million\",\n",
    "                 \"C++\":\"4 million\"}\n",
    "\n",
    "for key,value in languageUsage.items():\n",
    "    print(key, \"has\", value, \"users\")\n",
    "    if key==\"Java\":\n",
    "        break\n",
    "    print(key, \"has\", value, \"users\")"
   ]
  },
  {
   "cell_type": "markdown",
   "id": "94af5156-3cc0-44af-b5d6-b1b38a92e861",
   "metadata": {},
   "source": [
    "Notice how when the key=\"Java\", the break causes the second print statement to not execute and the remaining iteration (\"C++\") of the for loop to not execute either. The loop immediately terminates when the key equals Java.\n",
    "\n",
    "Also, notice the indentation of the code above. Everything indented at least one level is inside the for loop. The keyword break is indendent two levels which indicates that it is also inside the if block. Is the second print statement inside the if block?\n",
    "\n",
    "Moving on to the keyword continue. which works a bit differently. Continue is used to immediately terminate a single loop iteration and advance the loop to the next iteration."
   ]
  },
  {
   "cell_type": "code",
   "execution_count": null,
   "id": "50b510a4-869d-4e7d-b431-7859a2f26c09",
   "metadata": {},
   "outputs": [],
   "source": [
    "# this is the same code as above except with continue instead of break\n",
    "languageUsage = {\"Python\": \"10 million\", \n",
    "                 \"R\" : \"2 million\", \n",
    "                 \"Java\" : \"9 million\",\n",
    "                 \"C++\":\"4 million\"}\n",
    "\n",
    "for key,value in languageUsage.items():\n",
    "    print(key, \"has\", value, \"users\")\n",
    "    if key==\"Java\":\n",
    "        continue\n",
    "    print(key, \"has\", value, \"users\")"
   ]
  },
  {
   "cell_type": "markdown",
   "id": "f95da904-d12d-4d71-8294-83b92a248774",
   "metadata": {},
   "source": [
    "Notice how continue caused the loop to stop executing the rest of the \"Java\" iteration, but continued the remaining iteration of the loop (\"C++\") instead of terminating the loop altogether like break did.\n",
    "\n",
    "The keyword pass is similar to continue but it acts like a placeholder in an if block indicating \"do nothing\" while allowing subsequent code in the for loop to execute rather than skipping immediately to the next iteration like continue would do."
   ]
  },
  {
   "cell_type": "code",
   "execution_count": null,
   "id": "ed4e1b63-4288-4019-81bf-155df86d279e",
   "metadata": {},
   "outputs": [],
   "source": [
    "languageUsage = {\"Python\": \"10 million\", \n",
    "                 \"R\" : \"2 million\", \n",
    "                 \"Java\" : \"9 million\",\n",
    "                 \"C++\":\"4 million\"}\n",
    "\n",
    "for key,value in languageUsage.items():\n",
    "    if key in [\"R\",\"Java\"]:\n",
    "        print(f\"I do not like {key}\")\n",
    "    else:\n",
    "        pass\n",
    "    print(key, \"has\", value, \"users\")"
   ]
  },
  {
   "cell_type": "markdown",
   "id": "e3075e9d-63a5-4bd0-9952-56705b158b82",
   "metadata": {},
   "source": [
    "Notice the new keyword we're using \"in\". We're using \"in\" to search a list of strings for a match. In our case, this line of code would be the same as:\n",
    "\n",
    "```if (key==\"R\") or (key==\"Java\"):```\n",
    "\n",
    "Sidebar: Not only does \"in\" find whether a value matches any of multiple values in a list, you can also search for a substring within a string using \"in\"."
   ]
  },
  {
   "cell_type": "code",
   "execution_count": null,
   "id": "e646c1a2-edb4-48b1-a1dc-08ed71df1dcb",
   "metadata": {},
   "outputs": [],
   "source": [
    "print(\"Py\" in \"Python\") # True\n",
    "print(\"z\" in \"Java\") # False\n",
    "\n",
    "# case sensitive!\n",
    "print(\"py\" in \"Python\") # False"
   ]
  },
  {
   "cell_type": "markdown",
   "id": "ce60511a-6abc-40f1-9281-bf321e57cec3",
   "metadata": {},
   "source": [
    "### Exercise 4: Break on condition in a for loop\n",
    "\n",
    "Loop through numbers from 1 to 10 and print each number. However, if the number is 7, the loop should stop immediately and print \"Loop ended at 7.\""
   ]
  },
  {
   "cell_type": "code",
   "execution_count": null,
   "id": "18d0709b-4169-4227-838f-9d8a3c6a6eff",
   "metadata": {},
   "outputs": [],
   "source": [
    "# add your code here"
   ]
  },
  {
   "cell_type": "markdown",
   "id": "6eb07d6f-eb1a-41d8-a3f2-2684f0e3012d",
   "metadata": {},
   "source": [
    "## User created functions"
   ]
  },
  {
   "cell_type": "markdown",
   "id": "274bc840-45ce-41f1-be64-b4f3aa32602e",
   "metadata": {},
   "source": [
    "You're familiar now with some of Python's built-in functions like ```print()```, ```enumerate()```, and ```zip()```. Sometimes you'll need to create your own custom functions. Custom functions can be used over and over again, saving you from repetitive lines of code.\n",
    "\n",
    "For example, let's create and use a trivial function that takes three values and returns their average."
   ]
  },
  {
   "cell_type": "code",
   "execution_count": null,
   "id": "6c0494d9-d897-4fbc-9bb5-1f32e7ecfa39",
   "metadata": {},
   "outputs": [],
   "source": [
    "# define our function\n",
    "def averageThreeVars(var1,var2,var3):\n",
    "    # calculate the average of the three\n",
    "    average = (var1 + var2 + var3) / 3\n",
    "    # return the average\n",
    "    return average\n",
    "\n",
    "# let's find the average height of the three highest mountains in the world\n",
    "# store the height in feet of three mountains in separate variables\n",
    "everestHeight = 29032 \n",
    "k2Height = 28251\n",
    "kangchenjungaHeight = 28169\n",
    "\n",
    "# call the function averageThreeVars and pass in our three peaks, store the\n",
    "# result in a variable called averageHeightThreePeaks\n",
    "averageHeightThreePeaks = averageThreeVars(everestHeight,k2Height,kangchenjungaHeight)\n",
    "\n",
    "# print out our variable\n",
    "print(f\"The average height of our three peaks is {averageHeightThreePeaks}\")\n"
   ]
  },
  {
   "cell_type": "markdown",
   "id": "3c6649fa-3344-4f47-9f98-76e14f692a73",
   "metadata": {},
   "source": [
    "Notice that our function received the three mountain heights, calculated an average, and then \"returned\" that average where we stored it into a variable called ```averageHeightThreePeaks```.\n",
    "\n",
    "Also note that in this example, our function returns only a single variable, but Python allows you to return multiple values or collections (e.g., a list) from a single function. Here's a quick example:"
   ]
  },
  {
   "cell_type": "code",
   "execution_count": null,
   "id": "e2450b6d-baef-4bf6-a6e6-521393481789",
   "metadata": {},
   "outputs": [],
   "source": [
    "def avgAndHeightRange(var1,var2,var3):\n",
    "    # calculate the average of the three\n",
    "    avg = (var1 + var2 + var3) / 3\n",
    "    hRange = max(var1,var2,var3) - min(var1,var2,var3)\n",
    "    # return multiple values\n",
    "    return avg,hRange\n",
    "\n",
    "avgHeight, heightRange = avgAndHeightRange(everestHeight,k2Height,kangchenjungaHeight)\n",
    "\n",
    "# print out our variables\n",
    "print(f\"The average height of our three peaks is {avgHeight} ft and the \\\n",
    "difference between the tallest and shortest is {heightRange} ft\")"
   ]
  },
  {
   "cell_type": "markdown",
   "id": "c9c42a60-c688-47de-8a16-9437fa84753e",
   "metadata": {},
   "source": [
    "Some things to note about the above code:\n",
    "- we've encountered two new built-in functions ```max()``` and ```min()```\n",
    "- we can use a backslash ```\\``` to break up code over multiple lines (even in the middle of strings as shown above)\n",
    "- the terminology for ```var1```, ```var2```, ```var3``` is \"parameters\", \"arguments\", or \"input variables\"\n",
    "- the variables inside of custom functions (e.g., ```var1```, ```var2```, ```var3```, ```avg```,  ```hRange```) are called \"local\" variables meaning that they only exist inside the function when it is executing and then they get deleted. All other variables in our notebook are called \"global\" variables (e.g., ```avgHeight```, ```heightRange```, etc)."
   ]
  },
  {
   "cell_type": "markdown",
   "id": "5cf589d8-d69f-4fcd-890c-8f209691ca9b",
   "metadata": {},
   "source": [
    "### Exercise 5: Write a custom function\n",
    "\n",
    "Write a function to return the maximum and minimum values of five integer inputs."
   ]
  },
  {
   "cell_type": "code",
   "execution_count": null,
   "id": "99f8fbb0-a16b-4f04-bb8e-8d8f3e4778c3",
   "metadata": {},
   "outputs": [],
   "source": []
  },
  {
   "cell_type": "markdown",
   "id": "ef18a252-2191-458c-80cd-6ab13a272957",
   "metadata": {},
   "source": [
    "## List Comprehension\n",
    "\n",
    "A list comprehension is a concise way to create a list. It replaces a for loop in a single line of code.\n",
    "\n",
    "Remember when we used the ```range()``` function to loop through a series of integers?"
   ]
  },
  {
   "cell_type": "code",
   "execution_count": null,
   "id": "3da8644c-7789-4bdd-8136-caee358f7fad",
   "metadata": {},
   "outputs": [],
   "source": [
    "# a repeat of code from earlier in the notebook\n",
    "for number in range(7):\n",
    "    print(number)"
   ]
  },
  {
   "cell_type": "markdown",
   "id": "fed57398-fc15-4094-9f43-0ccc9ababf8d",
   "metadata": {},
   "source": [
    "There is another way to write this for loop and save the values in the range object to a list."
   ]
  },
  {
   "cell_type": "code",
   "execution_count": null,
   "id": "1181efa7-ecce-4c2e-8586-d565bd411d1e",
   "metadata": {},
   "outputs": [],
   "source": [
    "number = [x for x in range(7)]\n",
    "number"
   ]
  },
  {
   "cell_type": "markdown",
   "id": "cf34cd9c-936f-4460-88a0-328b3d97efd5",
   "metadata": {},
   "source": [
    "For each value x in the range, append the value x to a list and save it as a variable called number. \n",
    "\n",
    "Sidebar: The above is a very simple example meant just to illustrate what a list comprehension is but actually it is a bit of overkill because there is an easier way to generate a list containing a sequence of numbers and that is to use the ```list()``` function on a ```range()``` object."
   ]
  },
  {
   "cell_type": "code",
   "execution_count": null,
   "id": "a1386e0e-4d9d-4e9e-b53b-474f28d8bfb1",
   "metadata": {},
   "outputs": [],
   "source": [
    "list(range(7))"
   ]
  },
  {
   "cell_type": "markdown",
   "id": "a8b74052-0062-404f-a41b-cfece89a55c3",
   "metadata": {},
   "source": [
    "Let's look at a slightly more complicated list comprehension. Let's use a list comprehension to square each value in our list variable ```number```"
   ]
  },
  {
   "cell_type": "code",
   "execution_count": null,
   "id": "7a6551d1-04fe-4946-9eed-018c6fba91fa",
   "metadata": {},
   "outputs": [],
   "source": [
    "numberSquared = [x**2 for x in number]\n",
    "numberSquared"
   ]
  },
  {
   "cell_type": "markdown",
   "id": "db48d7cc-ed56-4407-a19f-96316242edd7",
   "metadata": {},
   "source": [
    "The code above does the same thing as the less concise code below:"
   ]
  },
  {
   "cell_type": "code",
   "execution_count": null,
   "id": "08bdb1d6-17de-4634-a355-02a564e26545",
   "metadata": {},
   "outputs": [],
   "source": [
    "numberSquared=[] # initialize an empty list\n",
    "\n",
    "# loop thru and square\n",
    "for x in number:\n",
    "    numberSquared.append(x**2)\n",
    "\n",
    "numberSquared"
   ]
  },
  {
   "cell_type": "markdown",
   "id": "89fac14a-89ce-4dae-ac12-d16190545520",
   "metadata": {},
   "source": [
    "### Exercise 6: Write a list comprehension\n",
    "\n",
    "Write a list comprehension to add 10 to each value in the list below."
   ]
  },
  {
   "cell_type": "code",
   "execution_count": null,
   "id": "f935edee-f14b-4dc0-b800-d28c4b6a95c9",
   "metadata": {},
   "outputs": [],
   "source": [
    "myList=[3,5,7,9,2,4,6,8]\n",
    "\n",
    "# add your code here"
   ]
  },
  {
   "cell_type": "markdown",
   "id": "02455c3c-d970-4c96-86e5-67b5e87424eb",
   "metadata": {},
   "source": [
    "## Lambda functions\n",
    "\n",
    "The built-in and custom functions we have used so far in this notebook are \"defined\" functions. But there is another kind of function in Python called a \"Lambda\" function. This is probably the most advanced topic we cover here, but you'll see us use it later and may want to come back to review this.\n",
    "\n",
    "The following sample code will call a traditional function and a lambda version of the same function to add three to the number we give the function."
   ]
  },
  {
   "cell_type": "code",
   "execution_count": null,
   "id": "c03baeff-a641-42eb-a096-a3a6d6585a7d",
   "metadata": {},
   "outputs": [],
   "source": [
    "# we start with a variable\n",
    "myVariable = 7\n",
    "\n",
    "# define a traditional function\n",
    "def squareTraditional(number):\n",
    "    return number**2\n",
    "\n",
    "# call the function using myVariable as the input parameter\n",
    "myResult = squareTraditional(myVariable)\n",
    "\n",
    "# print the result\n",
    "print(myResult)\n",
    "\n",
    "# now let's see a lambda version\n",
    "# squareLambda is a new function, a lambda function\n",
    "squareLambda = lambda x: x**2\n",
    "\n",
    "# call the lambda\n",
    "myResult = squareLambda(myVariable)\n",
    "\n",
    "# print the result\n",
    "print(myResult)"
   ]
  },
  {
   "cell_type": "markdown",
   "id": "940bd121-d931-403d-9878-52a10ea6761e",
   "metadata": {},
   "source": [
    "Note that you should get the same result for both the regular and lambda versions of the function.\n",
    "\n",
    "Why on earth would we use lambdas? Well, a key reason would be that we don't have to define them ahead of time like we did above. The following is equivalent but it uses what are called \"anonymous\" functions - a lambda with no name.\n"
   ]
  },
  {
   "cell_type": "code",
   "execution_count": null,
   "id": "d7704307-62e8-46a5-81ab-31992e322fc7",
   "metadata": {},
   "outputs": [],
   "source": [
    "# get a result by, instead of using \"squareLambda\", just put the lambda \n",
    "# in parentheses and call with the argument also in parentheses\n",
    "\n",
    "myResult = (lambda x:x**2)(myVariable)\n",
    "print(myResult)\n"
   ]
  },
  {
   "cell_type": "markdown",
   "id": "f6c83596-aa46-4185-8449-357ef94465e3",
   "metadata": {},
   "source": [
    "Amazing, right? You can also pass in multiple variables just like with a defined function."
   ]
  },
  {
   "cell_type": "code",
   "execution_count": null,
   "id": "480079fa-ae06-4754-ae5b-7e5bc33a59cd",
   "metadata": {},
   "outputs": [],
   "source": [
    "var1 = \"Amazing\"\n",
    "var2 = \"Spiderman\"\n",
    "\n",
    "# notice our lambda has two variables - x and y\n",
    "# and so we pass in the arguments in order\n",
    "superhero = (lambda x,y:x + \" \" + y)(var1,var2)\n",
    "\n",
    "print(superhero)"
   ]
  },
  {
   "cell_type": "markdown",
   "id": "583ab839-2c65-44e5-8fbf-9e9c58eaffd3",
   "metadata": {},
   "source": [
    "So we passed in two variables to the lambda, it squished them together with a space between and then returned them as a single string.\n",
    "\n",
    "Now, just so you know the terminology of the parts of a lambda:"
   ]
  },
  {
   "cell_type": "markdown",
   "id": "fca7e601-cc0f-4df7-99c7-e0ac55bb7795",
   "metadata": {},
   "source": [
    "<img src=\"images/lambda.png\" style=\"width:400px\" />   "
   ]
  },
  {
   "cell_type": "markdown",
   "id": "75cd65c3-fe8c-4ecb-ab0a-cca3f43bf441",
   "metadata": {},
   "source": [
    "### Exercise 7: Write a lambda function\n",
    "\n",
    "Write a lambda function to add 10 to ```myVariable``` below"
   ]
  },
  {
   "cell_type": "code",
   "execution_count": null,
   "id": "abbc266b-0a63-46b7-974f-645915a5d72a",
   "metadata": {},
   "outputs": [],
   "source": [
    "myVariable = 100\n",
    "\n",
    "# add your code here"
   ]
  },
  {
   "cell_type": "markdown",
   "id": "0929b825-aac3-4713-a015-8a43436e87e9",
   "metadata": {},
   "source": [
    "# VI. Other Useful Keywords\n",
    "\n",
    "import/from, del, assert\n",
    "\n",
    "## assert\n",
    "```assert``` is helpful for debugging your code, meaning you can use it to test if your code is behaving as expected. ```assert``` is used in combination with a conditional expression and optionally, an error message. If the condition evaluates to True, you will receive no output. But if the condition evaluates to False, an assertion error will be raised. The conditional expression you use can be anything that evaluates to True or False. \n",
    "\n",
    "Here's a simple example to test whether x equals y"
   ]
  },
  {
   "cell_type": "code",
   "execution_count": null,
   "id": "934278b1-66bd-4068-8358-86d222a0e64c",
   "metadata": {},
   "outputs": [],
   "source": [
    "x=5\n",
    "y=5\n",
    "\n",
    "assert x==y"
   ]
  },
  {
   "cell_type": "markdown",
   "id": "cd30fa57-32e7-4e38-8da6-e38897ac2d99",
   "metadata": {},
   "source": [
    "We got no output in our notebook which means the conditional expression ```x==y``` is True. Let's see what happens if the condition evaluates to False."
   ]
  },
  {
   "cell_type": "code",
   "execution_count": null,
   "id": "171388b5-986f-43b8-8876-421a62b29917",
   "metadata": {},
   "outputs": [],
   "source": [
    "x=5\n",
    "y=10\n",
    "\n",
    "assert x==y"
   ]
  },
  {
   "cell_type": "markdown",
   "id": "b7ee20b7-ad18-4767-9633-c3a9d6288810",
   "metadata": {},
   "source": [
    "Now we get an assertion error telling us that ```x==y``` is not True. To add more information to the assertion error you can include an error message in your assert statement."
   ]
  },
  {
   "cell_type": "code",
   "execution_count": null,
   "id": "7ab9ef85-f421-406f-8f49-332f05c406ce",
   "metadata": {},
   "outputs": [],
   "source": [
    "assert x==y, 'x does not equal y'"
   ]
  },
  {
   "cell_type": "markdown",
   "id": "de5d7850-9119-4fd3-a2d3-f5da3888bba9",
   "metadata": {},
   "source": [
    "You can get even fancier with your error message if you want, like this:"
   ]
  },
  {
   "cell_type": "code",
   "execution_count": null,
   "id": "765151c6-7f99-479a-b565-2900f20c7d0a",
   "metadata": {},
   "outputs": [],
   "source": [
    "assert x==y, f'x should equal y, but x={x} y={y}'"
   ]
  },
  {
   "cell_type": "markdown",
   "id": "12829500-617e-41a3-a805-637bf3d4790d",
   "metadata": {},
   "source": [
    "You can use assert to test lots of things, ensuring as you build your code up that it is working as you intend. Something that might be useful is checking the data type of a variable using ```assert``` in combination with the python built-in function ```isinstance()```."
   ]
  },
  {
   "cell_type": "code",
   "execution_count": null,
   "id": "2336be4e-1c04-408e-b85a-e0c2159da0ff",
   "metadata": {},
   "outputs": [],
   "source": [
    "# test if x is an integer\n",
    "assert isinstance(x,int), f'x is a {type(x)} but should be an integer'"
   ]
  },
  {
   "cell_type": "code",
   "execution_count": null,
   "id": "44e00420-922f-43f1-a140-40c1fb33d7aa",
   "metadata": {},
   "outputs": [],
   "source": [
    "# test if x is a float\n",
    "assert isinstance(x,float), f'x is a {type(x)} but should be float'"
   ]
  },
  {
   "cell_type": "markdown",
   "id": "71a04d38-26e3-4834-bb59-803c98ff32c0",
   "metadata": {},
   "source": [
    "Let's do something a little more complicated. We'll use ```assert``` to check that a certain value is present in a list."
   ]
  },
  {
   "cell_type": "code",
   "execution_count": null,
   "id": "05b76611-ebf2-443f-8ca9-94662750be1d",
   "metadata": {},
   "outputs": [],
   "source": [
    "students = ['Tracey','John','Russel','Kate','Claire']\n",
    "\n",
    "assert 'Kate' in students, 'Kate was not found in students'\n",
    "assert 'Chris' in students, 'Chris was not found in students'"
   ]
  },
  {
   "cell_type": "markdown",
   "id": "a17618d1-dc55-4533-9d95-e83c740f4f0b",
   "metadata": {},
   "source": [
    "Our first check for the name 'Kate' in our list of students passed, but the second assert statement raised an error because 'Chris' was not found in the list of students.\n",
    "\n",
    "Let's next check whether all numbers in a list are positive. We can use Python's built in function ```all()``` but we'll need to iterate over our list items using syntax similar to a list comprehension.\n"
   ]
  },
  {
   "cell_type": "code",
   "execution_count": null,
   "id": "a6ca2e83-e89d-4477-9554-bce73e0e6580",
   "metadata": {},
   "outputs": [],
   "source": [
    "myList = [1,2,3,4,5]\n",
    "\n",
    "assert all(x>0 for x in myList),'there are negative values in your list'"
   ]
  },
  {
   "cell_type": "markdown",
   "id": "23a93775-565a-4a80-bb0f-6381f2e27c09",
   "metadata": {},
   "source": [
    "No output means the assert statement evaluated to True (myList passed our test).\n",
    "\n",
    "```all(x>0 for x in myList)``` will iterate through every value in myList and return True for values greater than zero, False for values less than or equal to zero. Then, if *all* the True/False results returned from the iterations are True, the conditional expression evaluates to True like it did here. If one or more values in myList were less than or equal to zero, then the expression would evaluate to False and the assert statement would raise an error.\n",
    "\n",
    "What about checking the contents of one list against the contents of another list. We can use ```all()``` for that too."
   ]
  },
  {
   "cell_type": "code",
   "execution_count": null,
   "id": "f0348335-a214-433d-a75c-8d009ec67e14",
   "metadata": {},
   "outputs": [],
   "source": [
    "full_list = [1,2,3,4,5,6,7,8,9,10]\n",
    "subset_list = [2,4,6,8,10]\n",
    "\n",
    "assert all(x in full_list for x in subset_list), 'not all items in subset_list were found in full_list'\n",
    "\n",
    "assert all(x in subset_list for x in full_list), 'not all items in full_list were found in subset_list'"
   ]
  },
  {
   "cell_type": "markdown",
   "id": "6d022109-be41-43d6-8bb6-ddc8e033f257",
   "metadata": {},
   "source": [
    "The Python built-in function ```any()``` can also be useful, let's see how it works."
   ]
  },
  {
   "cell_type": "code",
   "execution_count": null,
   "id": "771c2199-15e7-40f9-aca1-6be14a043466",
   "metadata": {},
   "outputs": [],
   "source": [
    "# repeating the last assert except with any() instead of all()\n",
    "assert any(x in subset_list for x in full_list), 'not all items in full_list were found in subset_list'"
   ]
  },
  {
   "cell_type": "markdown",
   "id": "db095ffd-e0e7-4512-802e-fff4502002fd",
   "metadata": {},
   "source": [
    "This conditional expression evaluates to True. Why?\n",
    "\n",
    "Because our condition expression is testing whether *any* of the values in full_list exist in subset_list. For the expression to evaluate to True it only needs to find a single value from full_list in subset_list. In our case, 5 out of the 10 values from full_list exist in subset_list."
   ]
  },
  {
   "cell_type": "markdown",
   "id": "fe6c2f1c-ce62-4c37-b8aa-cd9a14d0b3cf",
   "metadata": {},
   "source": [
    "### Exercise 8: Write assert statements\n",
    "\n",
    "Use the lists below to test the following using assert statements. Include an error message in your assert statements. If you write your assert statements correctly, they should not raise any errors.\n",
    "\n",
    "- assert that list1 equals list2\n",
    "- assert that all values in pets are type string (str)\n",
    "- assert that at least one value from pets exists in animals"
   ]
  },
  {
   "cell_type": "code",
   "execution_count": null,
   "id": "977e5531-5ff3-407e-9f9a-decc12491e47",
   "metadata": {},
   "outputs": [],
   "source": [
    "list1 = [1,2,3,4,5]\n",
    "list2 = [1,2,3,4,5]\n",
    "pets = ['dog','cat','bird','snake']\n",
    "animals = ['giraffe','horse','snake','elephant','tortoise','dog']"
   ]
  },
  {
   "cell_type": "code",
   "execution_count": null,
   "id": "63a19e0f-17d7-4113-8daf-b9fa2e7e6ac2",
   "metadata": {},
   "outputs": [],
   "source": [
    "# add your code here\n"
   ]
  },
  {
   "cell_type": "code",
   "execution_count": null,
   "id": "ceda6af5-4518-4503-80fa-666d884cb937",
   "metadata": {},
   "outputs": [],
   "source": [
    "# add your code here\n"
   ]
  },
  {
   "cell_type": "code",
   "execution_count": null,
   "id": "e9dbc86b-1530-49f3-bf52-8678eb808b2e",
   "metadata": {},
   "outputs": [],
   "source": [
    "# add your code here\n"
   ]
  },
  {
   "cell_type": "markdown",
   "id": "df16e0cd-fd02-49bc-8a57-c98cc6ff18a6",
   "metadata": {},
   "source": [
    "## del\n",
    "\n",
    "Any global variables that you create in a Jupyter notebook are saved in memory unless you delete them. For example, the occupationCodes variable we made in the beginning of this notebook is still held in memory and available if we need it. "
   ]
  },
  {
   "cell_type": "code",
   "execution_count": null,
   "id": "d27a8003-6ec3-4a4e-af2d-0a16604415a0",
   "metadata": {},
   "outputs": [],
   "source": [
    "# look at an old variable still held in memory\n",
    "occupationCodes"
   ]
  },
  {
   "cell_type": "markdown",
   "id": "6bbdfe1a-4efa-4b82-82cd-49704b59e5a5",
   "metadata": {},
   "source": [
    "You may find that you need to release some of the memory that old variables are consuming. This is will definitely be true when you start working with datasets and larger variables of sizes on the order of gigabytes. The keyword ```del``` will delete a variable, removing it from memory. "
   ]
  },
  {
   "cell_type": "code",
   "execution_count": null,
   "id": "3f0c822f-afa3-4a29-bcb2-7a0b29493ed8",
   "metadata": {},
   "outputs": [],
   "source": [
    "# delete the variable\n",
    "del occupationCodes"
   ]
  },
  {
   "cell_type": "code",
   "execution_count": null,
   "id": "2a7b922a-20b2-4ad9-85f4-e417badfee17",
   "metadata": {},
   "outputs": [],
   "source": [
    "# try to access the variable after deletion\n",
    "occupationCodes"
   ]
  },
  {
   "cell_type": "markdown",
   "id": "d003bb21-b8c3-4ff4-be55-ae589a58437c",
   "metadata": {},
   "source": [
    "This error verifies to us that the variable has been deleted.\n",
    "\n",
    "One other thing to note is that Python will reassign variables if you ask it to without raising any warning or error. We've done this multiple times in our notebook already. For example:"
   ]
  },
  {
   "cell_type": "code",
   "execution_count": null,
   "id": "9e4cd432-3fba-42cf-849c-42d69a90c752",
   "metadata": {},
   "outputs": [],
   "source": [
    "x=3\n",
    "x"
   ]
  },
  {
   "cell_type": "code",
   "execution_count": null,
   "id": "2a5b058d-2b6c-431d-b353-dd35636608eb",
   "metadata": {},
   "outputs": [],
   "source": [
    "x=5\n",
    "x"
   ]
  },
  {
   "cell_type": "markdown",
   "id": "40f43c18-e137-463d-9833-b3b122c37564",
   "metadata": {},
   "source": [
    "This is something to be aware of, especially if you get in the habit of using generic variable names. You may forget that you've already defined a variable x and then accidentally overwrite the value of x. Here's another example"
   ]
  },
  {
   "cell_type": "code",
   "execution_count": null,
   "id": "7c02cdcc-c4d9-47a5-9aa4-ab32fd47aa0b",
   "metadata": {},
   "outputs": [],
   "source": [
    "y=[10,9,8]\n",
    "yvalues=[1,2,3,4,5]\n",
    "\n",
    "for y in yvalues:\n",
    "    pass\n",
    "y"
   ]
  },
  {
   "cell_type": "markdown",
   "id": "3fca5125-dee8-4eb7-bb03-1fe3a469df6d",
   "metadata": {},
   "source": [
    "Whoops! I forgot I already had a list called y, so when I also used the name y for my for loop variable, my list y was overwritten.\n",
    "\n",
    "Just be careful and try to use unique variable names if you care about them being overwritten."
   ]
  },
  {
   "cell_type": "markdown",
   "id": "793d8b64-adde-4883-8778-5389b4a535ca",
   "metadata": {},
   "source": [
    "## import, from, as\n",
    "\n",
    "Now we're going to learn how to add functionality to Python by importing packages. As mentioned at the top of this notebook, it's standard practice to do this at the very beginning of your code, which is what we will do in all subsequent notebooks.\n",
    "\n",
    "Here's a simple example: say we want to take the square root of a number. The Python core language does not have a built-in function for that. So we need to extend Python functionality with a package that offers a square root function. The math package has this function. We'll import the math package so that we can use its ```sqrt()``` function. \n",
    "\n",
    "I called this a simple example because we don't have the extra step of downloading the math package. This is one of many packages that was downloaded automatically when we installed Anaconda. We'll cover more about packages that need to be downloaded as well as Anaconda python environments in a future lesson."
   ]
  },
  {
   "cell_type": "code",
   "execution_count": null,
   "id": "67cdcd9d-2493-49ca-8ff1-ffe48d02cdd4",
   "metadata": {},
   "outputs": [],
   "source": [
    "# import the math package\n",
    "import math"
   ]
  },
  {
   "cell_type": "code",
   "execution_count": null,
   "id": "f0e5d230-c30c-4480-925d-3496e4498aee",
   "metadata": {},
   "outputs": [],
   "source": [
    "# use the sqrt() function from the math package\n",
    "math.sqrt(9)"
   ]
  },
  {
   "cell_type": "markdown",
   "id": "c1fc90d0-1ec0-4299-9af9-16cac3019584",
   "metadata": {},
   "source": [
    "All the functions that are available through the math package are accessible with the above syntax. You add a period after the package name followed immediately by the function name. What other functions are available in the math package? Check out the [documentation page for the math package](https://docs.python.org/3/library/math.html)\n",
    "\n",
    "The math package actually is relatively small. Sometimes packages you may need to import offer tons of functionality but you may only want one or two functions. There's a way to import specific functions from a package with ```from``` and ```import```."
   ]
  },
  {
   "cell_type": "code",
   "execution_count": null,
   "id": "a8facd20-469b-453f-9135-24c8c32955ae",
   "metadata": {},
   "outputs": [],
   "source": [
    "# import two specific functions from the math package\n",
    "from math import sqrt,ceil"
   ]
  },
  {
   "cell_type": "code",
   "execution_count": null,
   "id": "0241afc0-f308-4261-8dea-4622c16ad15d",
   "metadata": {},
   "outputs": [],
   "source": [
    "# now you can use the functions directly without needing the package name in front\n",
    "sqrt(9), ceil(9.7)"
   ]
  },
  {
   "cell_type": "markdown",
   "id": "1cdfd747-f320-45ae-b6cb-121e65bcf5ce",
   "metadata": {},
   "source": [
    "The last thing we'll cover about importing packages is assigning aliases. Sometimes the package name is long and it gets annoying to type the package name in front of each function over and over again. It's common practice to assign a shorter 'alias' name to the package when you import. Now, in this case math is pretty short. But for demonstration purposes, we'll assign the alias 'm' to the math package."
   ]
  },
  {
   "cell_type": "code",
   "execution_count": null,
   "id": "143201e5-97f0-4358-91ac-3b5be555873c",
   "metadata": {},
   "outputs": [],
   "source": [
    "# use 'as' to assign an alias to the package name\n",
    "import math as m\n",
    "\n",
    "# now it's the alias that goes in front of the functions\n",
    "# instead of the full package name\n",
    "m.sqrt(9)"
   ]
  },
  {
   "cell_type": "markdown",
   "id": "5dd7e1e2-7133-429d-9ac2-1b3505c16cd4",
   "metadata": {},
   "source": [
    "# VII. Python: Learning More\n",
    "\n",
    "There's a lot more to Python, but the above gives you a start.\n",
    "\n",
    "How do you get help figuring out how to code something up that we didn't cover? The great thing about Python is that the user base is large, which has resulted in many websites where you can find example code or people posting about similar problems that you may also have encountered.\n",
    "\n",
    "**So, the first place to start finding Python help is on the web. Just google \"How do I (do whatever) in python?\" and you'll get help in many places!**"
   ]
  }
 ],
 "metadata": {
  "kernelspec": {
   "display_name": "Python 3 (ipykernel)",
   "language": "python",
   "name": "python3"
  },
  "language_info": {
   "codemirror_mode": {
    "name": "ipython",
    "version": 3
   },
   "file_extension": ".py",
   "mimetype": "text/x-python",
   "name": "python",
   "nbconvert_exporter": "python",
   "pygments_lexer": "ipython3",
   "version": "3.11.7"
  }
 },
 "nbformat": 4,
 "nbformat_minor": 5
}
