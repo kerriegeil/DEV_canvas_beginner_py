{
 "cells": [
  {
   "cell_type": "markdown",
   "id": "db644034-050c-4ae3-b249-80d0b26e714d",
   "metadata": {},
   "source": [
    "# Python Language Basics: \n",
    "\n",
    "Data Types, Data Structures, Variables, Control Flow, Generator Objects, Assert Statements"
   ]
  },
  {
   "cell_type": "markdown",
   "id": "ba6be924-8419-4586-b19d-f3c8cc3fba04",
   "metadata": {},
   "source": [
    "# I. Importing Necessary Packages\n",
    "\n",
    "The following code will include the packages you'll need for this notebook. Packages are collections of third-party code that add additional functionality to the core Python language.\n",
    "\n",
    "Reminder: To run cells in this notebook you have three options. Place your cursor in the cell you want to run, then:\n",
    "1) hold down the shift key while hitting the enter key (Shift+Enter),\n",
    "2) click the play button that you should see on the notebook's tab just under the notebook name, or\n",
    "3) click on the Run menu and click Run Selected Cell."
   ]
  },
  {
   "cell_type": "code",
   "execution_count": null,
   "id": "f016bcf3-b1f7-4af9-98f9-219771a4a6a0",
   "metadata": {},
   "outputs": [],
   "source": [
    "# # Numpy supports multidimensional arrays and has a lot of math functions.\n",
    "# import numpy as np \n",
    "\n",
    "# # Pandas is great for tabular data (data in rows and columns)\n",
    "# import pandas as pd\n",
    "\n",
    "# # Matplot Lib is for drawing plots, graphs, etc. and Seaborn is another package\n",
    "# # that makes matplotlib easier to use and create more attractive graphics\n",
    "# import matplotlib.pyplot as plt \n",
    "# import matplotlib.image as mpimg \n",
    "# import seaborn as sns \n",
    "\n",
    "# # Geopandas adds geographical analysis capabilities to Pandas - one or more of your\n",
    "# # columns can be geographical (points, lines, shapes, etc.)\n",
    "# import geopandas as gpd\n",
    "# from geopandas import GeoDataFrame \n",
    "\n",
    "# # These are built into core python but you have to include them to use them\n",
    "# import random \n",
    "# import os \n",
    "# import json \n",
    "\n",
    "# # This package adds the ability to work with Excel files\n",
    "# import openpyxl"
   ]
  },
  {
   "cell_type": "markdown",
   "id": "73c31eed-5b7c-4676-8ea1-3ce0ae3ad668",
   "metadata": {},
   "source": [
    "# II. Hello World\n",
    "It's traditional for your first code in any language to be a \"hello world.\" So, let's store \"Hello World\" in a variable and then print it out with python. \n",
    "\n",
    "This is a good time to turn on your line numbers through View menu -> Show Line Numbers.\n",
    "\n",
    "Also, let's experiment with commenting out code using a pound symbol (#). You can also select multiple lines and hit CTRL+/ in windows or Command+/ on Mac."
   ]
  },
  {
   "cell_type": "code",
   "execution_count": 1,
   "id": "ef2fc64f-48e4-45cf-a80f-5ea75848c45c",
   "metadata": {},
   "outputs": [
    {
     "name": "stdout",
     "output_type": "stream",
     "text": [
      "Hello World\n"
     ]
    }
   ],
   "source": [
    "myMessage = \"Hello World\"\n",
    "print(myMessage)"
   ]
  },
  {
   "cell_type": "markdown",
   "id": "49712b58-cc4b-4dd1-9777-57efdcba039e",
   "metadata": {},
   "source": [
    "# III. Python Variables and Types\n",
    "In the previous section we stored the phrase \"Hello World\" in a variable named `myMessage`. A variable is a container for data. Variables have *names* and they can contain data of many different *types* (numbers, character strings, etc.)\n",
    "\n",
    "## What Types Does Python Support?\n",
    "We won't cover all of these data types but Python supports the following types by default:\n",
    "\n",
    "| Kind of Data | Python Types | Examples |\n",
    "| :----------- | :----------- | :----------- |\n",
    "|Text|str|varName = \"I love milkshakes.\"|\n",
    "|Numeric|int,<br /> float,<br /> complex|varName = 3<br />varName = 3.0<br />varName = 3j|\n",
    "|Sequence|list,<br /> tuple,<br /> range|varName = [\"chocolate\", \"strawberry\", \"vanilla\"]<br />varName = (\"chocolate\", \"strawberry\", \"vanilla\")<br />varName = range(6)\n",
    "|Mapping|dict|varName = {\"name\" : \"Bully\", \"species\" : \"Dog\"}|\n",
    "|Set|set,<br /> frozenset|varName = {\"strawberry\", \"vanilla\", \"chocolate\"}<br />varName = frozenset({\"strawberry\", \"vanilla\", \"chocolate\"})|\n",
    "|Boolean|bool|varName = True|\n",
    "|Binary|bytes,<br /> bytearray,<br /> memoryview|varName = b\"hello\"<br />varName=bytearray(5)<br />varName=memoryview(bytes(5))|\n",
    "|None|NoneType|varName=None|\n",
    "\n",
    "\n",
    "If you've programmed in another language, you will probably know what the following types are without any explanation:\n",
    "- Text - str (text goes in what programmers call 'strings')\n",
    "- Numeric - int (integers are whole numbers)\n",
    "- Numeric - float (floating point numbers have a decimal and some amount of precision)\n",
    "- Boolean - bool (boolean values are either True/1 or False/0)\n",
    "\n",
    "Other data types we'll use in this course that may need more explanation are:\n",
    "- Sequence - list, tuple, and range (iterable objects of items) \n",
    "- Mapping - dict (dictionary of \"key/value\" pairs)\n",
    "- NoneType (a special data type representing the absence of a value)\n",
    "\n",
    "Links to more info about data types we won't cover:\n",
    "- Complex numbers [Real Python: Simplify Complex Numbers with Python](https://realpython.com/python-complex-numbers/)\n",
    "- Sets and frozen sets [Real Python: Sets in Python](https://realpython.com/python-sets/)\n",
    "- Bytes and byte arrays (as well as other data types) [Real Python: Basic Data Types in Python: A Quick Exploration](https://realpython.com/python-data-types/) \n",
    "- Memoryview [CodeAcademy: Memoryview](https://www.codecademy.com/resources/docs/python/built-in-functions/memoryview), [Python 3 Documentation: Built-in Types, Memoryview](https://docs.python.org/3/library/stdtypes.html#memory-views)"
   ]
  },
  {
   "cell_type": "markdown",
   "id": "5650f31f-f87b-4481-bcf0-27d05a0885a4",
   "metadata": {},
   "source": [
    "### Sequences - list [] and tuple ()\n",
    "Lists and tuples (pronounced too-pulls) are used to store lists of things like \"1,2,3,4\" or \"dog,cat,horse,zebra\". The difference is that lists can be changed after you create them (they are *mutable*) and tuples cannot be changed (they are *immutable*). The code below initializes a list and a tuple and illustrates how Python also lets you figure out what type any variable is."
   ]
  },
  {
   "cell_type": "code",
   "execution_count": null,
   "id": "832e3919-658e-496f-aff6-322078333d8d",
   "metadata": {},
   "outputs": [],
   "source": [
    "# initialize a list with square brackets\n",
    "myList = [8,7,19,9]\n",
    "# initialize a tuple with parentheses\n",
    "myTuple = (8,7,19,9)\n",
    "\n",
    "# print out the type of each\n",
    "print(type(myList))\n",
    "print(type(myTuple))\n",
    "\n",
    "#let's try to change a list; you should have no problem\n",
    "myList[0] = 9\n",
    "\n",
    "# print out that changed list - you'll see a 9 in the first position since you changed it\n",
    "print(myList)\n",
    "\n",
    "# you can also print out just the first member of the tuple or list like this\n",
    "print(myTuple[0])\n",
    "\n",
    "# but, let's try to change a tuple -  you should see an error\n",
    "myTuple[0] = 9\n",
    "\n",
    "# and so because of the error, this line will not execute at all\n",
    "print(myTuple)"
   ]
  },
  {
   "cell_type": "code",
   "execution_count": null,
   "id": "b8fb6b9a-31ea-4c83-a8a5-d6879289b215",
   "metadata": {},
   "outputs": [],
   "source": []
  },
  {
   "cell_type": "code",
   "execution_count": null,
   "id": "4f57de18-acba-4cc9-8e45-420a00d30529",
   "metadata": {},
   "outputs": [],
   "source": []
  },
  {
   "cell_type": "code",
   "execution_count": null,
   "id": "3fd2a758-1afe-4eb9-ab10-6dbed9f20d60",
   "metadata": {},
   "outputs": [],
   "source": []
  },
  {
   "cell_type": "code",
   "execution_count": null,
   "id": "2dedffdf-d791-42ed-b608-9e5600adda4f",
   "metadata": {},
   "outputs": [],
   "source": []
  },
  {
   "cell_type": "code",
   "execution_count": null,
   "id": "7c85c7c6-f5fe-4f78-8cd8-242a2f6dfa3d",
   "metadata": {},
   "outputs": [],
   "source": []
  },
  {
   "cell_type": "code",
   "execution_count": null,
   "id": "41c2b964-8679-47dd-929f-ac1b76770799",
   "metadata": {},
   "outputs": [],
   "source": []
  },
  {
   "cell_type": "code",
   "execution_count": null,
   "id": "0beea724-7787-4d80-bb80-573ceb8f30b4",
   "metadata": {},
   "outputs": [],
   "source": [
    "don't forget boolean operators\n",
    "and comparison operations"
   ]
  }
 ],
 "metadata": {
  "kernelspec": {
   "display_name": "learnbydoing",
   "language": "python",
   "name": "learnbydoing"
  },
  "language_info": {
   "codemirror_mode": {
    "name": "ipython",
    "version": 3
   },
   "file_extension": ".py",
   "mimetype": "text/x-python",
   "name": "python",
   "nbconvert_exporter": "python",
   "pygments_lexer": "ipython3",
   "version": "3.12.3"
  }
 },
 "nbformat": 4,
 "nbformat_minor": 5
}
