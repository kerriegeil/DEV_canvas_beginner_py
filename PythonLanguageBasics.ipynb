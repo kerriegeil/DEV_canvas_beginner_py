{
 "cells": [
  {
   "cell_type": "markdown",
   "id": "db644034-050c-4ae3-b249-80d0b26e714d",
   "metadata": {},
   "source": [
    "# Python Language Basics: \n",
    "\n",
    "Data Types, Data Structures, Variables, Control Flow, Generator Objects, Assert Statements"
   ]
  },
  {
   "cell_type": "markdown",
   "id": "ba6be924-8419-4586-b19d-f3c8cc3fba04",
   "metadata": {},
   "source": [
    "# I. Importing Necessary Packages\n",
    "\n",
    "The following code will include the packages you'll need for this notebook. Packages are collections of third-party code that add additional functionality to the core Python language.\n",
    "\n",
    "Reminder: To run cells in this notebook you have three options. Place your cursor in the cell you want to run, then:\n",
    "1) hold down the shift key while hitting the enter key (Shift+Enter),\n",
    "2) click the play button that you should see on the notebook's tab just under the notebook name, or\n",
    "3) click on the Run menu and click Run Selected Cell."
   ]
  },
  {
   "cell_type": "code",
   "execution_count": null,
   "id": "f016bcf3-b1f7-4af9-98f9-219771a4a6a0",
   "metadata": {},
   "outputs": [],
   "source": [
    "# # Numpy supports multidimensional arrays and has a lot of math functions.\n",
    "# import numpy as np \n",
    "\n",
    "# # Pandas is great for tabular data (data in rows and columns)\n",
    "# import pandas as pd\n",
    "\n",
    "# # Matplot Lib is for drawing plots, graphs, etc. and Seaborn is another package\n",
    "# # that makes matplotlib easier to use and create more attractive graphics\n",
    "# import matplotlib.pyplot as plt \n",
    "# import matplotlib.image as mpimg \n",
    "# import seaborn as sns \n",
    "\n",
    "# # Geopandas adds geographical analysis capabilities to Pandas - one or more of your\n",
    "# # columns can be geographical (points, lines, shapes, etc.)\n",
    "# import geopandas as gpd\n",
    "# from geopandas import GeoDataFrame \n",
    "\n",
    "# # These are built into core python but you have to include them to use them\n",
    "# import random \n",
    "# import os \n",
    "# import json \n",
    "\n",
    "# # This package adds the ability to work with Excel files\n",
    "# import openpyxl"
   ]
  },
  {
   "cell_type": "markdown",
   "id": "73c31eed-5b7c-4676-8ea1-3ce0ae3ad668",
   "metadata": {},
   "source": [
    "# II. Hello World\n",
    "It's traditional for your first code in any language to be a \"hello world.\" So, let's store \"Hello World\" in a variable and then print it out with python. \n",
    "\n",
    "This is a good time to turn on your line numbers through View menu -> Show Line Numbers.\n",
    "\n",
    "Also, let's experiment with commenting out code using a pound symbol (#). You can also select multiple lines and hit CTRL+/ in windows or Command+/ on Mac."
   ]
  },
  {
   "cell_type": "code",
   "execution_count": 1,
   "id": "ef2fc64f-48e4-45cf-a80f-5ea75848c45c",
   "metadata": {},
   "outputs": [
    {
     "name": "stdout",
     "output_type": "stream",
     "text": [
      "Hello World\n"
     ]
    }
   ],
   "source": [
    "myMessage = \"Hello World\"\n",
    "print(myMessage)"
   ]
  },
  {
   "cell_type": "markdown",
   "id": "49712b58-cc4b-4dd1-9777-57efdcba039e",
   "metadata": {},
   "source": [
    "# III. Python Variables and Types\n",
    "In the previous section we stored the phrase \"Hello World\" in a variable named `myMessage`. A variable is a container for data. Variables have *names* and they can contain data of many different *types* (numbers, character strings, etc.)\n",
    "\n",
    "## What Types Does Python Support?\n",
    "We won't cover all of these data types but Python supports the following types by default:\n",
    "\n",
    "| Kind of Data | Python Types | Examples |\n",
    "| :----------- | :----------- | :----------- |\n",
    "|Text|str|varName = \"I love milkshakes.\"|\n",
    "|Numeric|int,<br /> float,<br /> complex|varName = 3<br />varName = 3.0<br />varName = 3j|\n",
    "|Sequence|list,<br /> tuple,<br /> range|varName = [\"chocolate\", \"strawberry\", \"vanilla\"]<br />varName = (\"chocolate\", \"strawberry\", \"vanilla\")<br />varName = range(6)\n",
    "|Mapping|dict|varName = {\"name\" : \"Bully\", \"species\" : \"Dog\"}|\n",
    "|Set|set,<br /> frozenset|varName = {\"strawberry\", \"vanilla\", \"chocolate\"}<br />varName = frozenset({\"strawberry\", \"vanilla\", \"chocolate\"})|\n",
    "|Boolean|bool|varName = True|\n",
    "|Binary|bytes,<br /> bytearray,<br /> memoryview|varName = b\"hello\"<br />varName=bytearray(5)<br />varName=memoryview(bytes(5))|\n",
    "|None|NoneType|varName=None|\n",
    "\n",
    "\n",
    "If you've programmed in another language, you will probably know what the following types are without any explanation:\n",
    "- Text - str (text goes in what programmers call 'strings')\n",
    "- Numeric - int (integers are whole numbers)\n",
    "- Numeric - float (floating point numbers have a decimal and some amount of precision)\n",
    "- Boolean - bool (boolean values are either True/1 or False/0)\n",
    "\n",
    "Other data types we'll use in this course that may need more explanation are:\n",
    "- Sequence - list, tuple, and range (iterable objects containing values) \n",
    "- Mapping - dict (dictionary of \"key/value\" pairs)\n",
    "- NoneType (a special data type representing the absence of a value)\n",
    "\n",
    "Links to more info about data types we won't cover:\n",
    "- Complex numbers [Real Python: Simplify Complex Numbers with Python](https://realpython.com/python-complex-numbers/)\n",
    "- Sets and frozen sets [Real Python: Sets in Python](https://realpython.com/python-sets/)\n",
    "- Bytes and byte arrays (as well as other data types) [Real Python: Basic Data Types in Python: A Quick Exploration](https://realpython.com/python-data-types/) \n",
    "- Memoryview [CodeAcademy: Memoryview](https://www.codecademy.com/resources/docs/python/built-in-functions/memoryview), [Python 3 Documentation: Built-in Types, Memoryview](https://docs.python.org/3/library/stdtypes.html#memory-views)"
   ]
  },
  {
   "cell_type": "markdown",
   "id": "5650f31f-f87b-4481-bcf0-27d05a0885a4",
   "metadata": {},
   "source": [
    "### Sequences - list [] and tuple ()\n",
    "Lists and tuples (pronounced too-pulls) are used to store lists of things like the integer values 1,2,3,4 or the strings \"dog\",\"cat\",\"horse\",\"zebra\". The difference is that lists can be changed after you create them (they are *mutable*) and tuples cannot be changed (they are *immutable*). The code below initializes a list and a tuple and illustrates how Python also lets you figure out what type any variable is."
   ]
  },
  {
   "cell_type": "code",
   "execution_count": 19,
   "id": "f4fcbaa3-3c4e-40db-86d3-8a5bd4750891",
   "metadata": {},
   "outputs": [
    {
     "name": "stdout",
     "output_type": "stream",
     "text": [
      "<class 'list'>\n",
      "<class 'tuple'>\n"
     ]
    }
   ],
   "source": [
    "# initialize a list with square brackets\n",
    "myList = [8,7,19,9]\n",
    "# initialize a tuple with parentheses\n",
    "myTuple = (8,7,19,9)\n",
    "\n",
    "# print out the type of each\n",
    "print(type(myList))\n",
    "print(type(myTuple))"
   ]
  },
  {
   "cell_type": "code",
   "execution_count": 20,
   "id": "1defefed-745c-4d3b-a812-946a1d425a51",
   "metadata": {},
   "outputs": [
    {
     "name": "stdout",
     "output_type": "stream",
     "text": [
      "[9, 7, 19, 9]\n"
     ]
    }
   ],
   "source": [
    "#let's try to change a list; you should have no problem\n",
    "myList[0] = 9\n",
    "\n",
    "# print out that changed list - you'll see a 9 in the first position since you changed it\n",
    "print(myList)"
   ]
  },
  {
   "cell_type": "code",
   "execution_count": 21,
   "id": "832e3919-658e-496f-aff6-322078333d8d",
   "metadata": {},
   "outputs": [
    {
     "name": "stdout",
     "output_type": "stream",
     "text": [
      "8\n"
     ]
    }
   ],
   "source": [
    "# you can also print out just the first member of the tuple or list like this\n",
    "print(myTuple[0])"
   ]
  },
  {
   "cell_type": "code",
   "execution_count": 22,
   "id": "b8fb6b9a-31ea-4c83-a8a5-d6879289b215",
   "metadata": {},
   "outputs": [
    {
     "ename": "TypeError",
     "evalue": "'tuple' object does not support item assignment",
     "output_type": "error",
     "traceback": [
      "\u001b[1;31m---------------------------------------------------------------------------\u001b[0m",
      "\u001b[1;31mTypeError\u001b[0m                                 Traceback (most recent call last)",
      "Cell \u001b[1;32mIn[22], line 2\u001b[0m\n\u001b[0;32m      1\u001b[0m \u001b[38;5;66;03m# but, let's try to change a tuple -  you should see an error\u001b[39;00m\n\u001b[1;32m----> 2\u001b[0m \u001b[43mmyTuple\u001b[49m\u001b[43m[\u001b[49m\u001b[38;5;241;43m0\u001b[39;49m\u001b[43m]\u001b[49m \u001b[38;5;241m=\u001b[39m \u001b[38;5;241m9\u001b[39m\n\u001b[0;32m      4\u001b[0m \u001b[38;5;66;03m# and so because of the error, this line will not execute at all\u001b[39;00m\n\u001b[0;32m      5\u001b[0m \u001b[38;5;28mprint\u001b[39m(myTuple)\n",
      "\u001b[1;31mTypeError\u001b[0m: 'tuple' object does not support item assignment"
     ]
    }
   ],
   "source": [
    "# but, let's try to change a tuple -  you should see an error\n",
    "myTuple[0] = 9\n",
    "\n",
    "# and so because of the error, this line will not execute at all\n",
    "print(myTuple)"
   ]
  },
  {
   "cell_type": "markdown",
   "id": "f050d00c-0909-402b-adfb-58d3856eecd8",
   "metadata": {},
   "source": [
    "Hey, don't worry about that error - I *knew* that would happen. Notice a few things about that code:\n",
    "- Lists are assigned using square brackets ```[]``` and tuples are created using parentheses ```()```\n",
    "- The ```type()``` method returns what type of variable something is\n",
    "- I can access an individual member of a list using brackets ```myList[0]``` and the position index of the item. In the example above, I assign a new value to the first item in the list and it switches from 8 to 9. Notice that the first item is accessed with an index of 0. Python and many other programming languages start counting from zero and not one. You can access the second member of the list using ```myList[1]```, the third with ```myList[2]```, and so on. \n",
    "- Tuples are not changeable. Even though I can access the first item using ```myTuple[0]``` the same way I did with lists, when I try to change myTuple, I get a \"TypeError\" - because you can can't change tuples once they are created, i.e. they are *immutable*. This is why ```myTuple[0] = 9``` generates an error.\n",
    "\n",
    "Tuples exist because they are much faster to process than lists. If you have a list of things that won't change while a program runs, storing it as a tuple means faster code."
   ]
  },
  {
   "cell_type": "markdown",
   "id": "b7802a40-cd48-4d2e-99d7-5653d12dce90",
   "metadata": {},
   "source": [
    "### Sequences  - range (start,stop,step)\n",
    "The built-in function ```range``` is used to hold a series of numbers. ```range``` returns a range object that contains an immutable sequence of integers and is often used for looping through a specific number of iterations in a ```for``` loop. \n",
    "\n",
    "```range(start,stop,step)``` is exclusive of the stop value, like in the example given below range(10,15,1) the stop value of 15 won't be included. "
   ]
  },
  {
   "cell_type": "code",
   "execution_count": 8,
   "id": "2dedffdf-d791-42ed-b608-9e5600adda4f",
   "metadata": {},
   "outputs": [
    {
     "data": {
      "text/plain": [
       "range(10, 15)"
      ]
     },
     "execution_count": 8,
     "metadata": {},
     "output_type": "execute_result"
    }
   ],
   "source": [
    "# see what the range function returns (a range object)\n",
    "range(10,15) # range(start,stop,step)"
   ]
  },
  {
   "cell_type": "code",
   "execution_count": 5,
   "id": "7c85c7c6-f5fe-4f78-8cd8-242a2f6dfa3d",
   "metadata": {},
   "outputs": [
    {
     "name": "stdout",
     "output_type": "stream",
     "text": [
      "10\n",
      "11\n",
      "12\n",
      "13\n",
      "14\n"
     ]
    }
   ],
   "source": [
    "# how to see all the values in the range object?\n",
    "# loop through the range object and print out every number.\n",
    "# notice that at each iteration of the loop, the variable \"number\" \n",
    "# will contain the next number in the range\n",
    "for number in range(10,15,1):\n",
    "  print(number)"
   ]
  },
  {
   "cell_type": "markdown",
   "id": "f1dba561-3347-4908-9e6b-1c532c7fa87d",
   "metadata": {},
   "source": [
    "As you can see, our range sequence goes from 10 to 14 incremented by 1.  \n",
    "\n",
    "This example also used a ```for``` loop, meaning that the block of code indented below the ```for``` loop executes multiple times (i.e. multiple iterations). In this case the number of iterations is determined by how many members there are in the range sequence.\n",
    "\n",
    "If you leave out the start number and the step size in the range function, Python assumes you want to start at 0 and increment by 1. Here's an example:"
   ]
  },
  {
   "cell_type": "code",
   "execution_count": 6,
   "id": "41c2b964-8679-47dd-929f-ac1b76770799",
   "metadata": {},
   "outputs": [
    {
     "name": "stdout",
     "output_type": "stream",
     "text": [
      "0\n",
      "1\n",
      "2\n",
      "3\n",
      "4\n",
      "5\n",
      "6\n"
     ]
    }
   ],
   "source": [
    "# when one number is given to the range function\n",
    "# python infers that it is the stop value (exclusive)\n",
    "# and that the start=0 and the step=1\n",
    "for number in range(7):\n",
    "    print(number)"
   ]
  },
  {
   "cell_type": "markdown",
   "id": "8a6704e7-eb9b-4d3c-b543-635915d5e892",
   "metadata": {},
   "source": [
    "### Sidebar: Indentation in Python\n",
    "\n",
    "Notice that after the ```for``` loop starts there is a colon and then the lines contained within the loop are indented by four spaces. Python doesn't use curly brackets like C-like languages do, but uses indentation to mark out blocks of code. Jupyter will take care of this for you for the most part, automatically indenting when you type Enter after a colon. If you are using a plain text editor though, just be consistent, you have to use tab or a consistent number of spaces for the indent, but you can't mix styles or you will get errors."
   ]
  },
  {
   "cell_type": "markdown",
   "id": "cfaa3bf6-03d7-4417-8122-08fda26eec97",
   "metadata": {},
   "source": [
    "### Mapping - Dictionary {\"key\":\"value\",\"key2\":\"value2\"}\n",
    "\n",
    "Dictionaries are very useful for data science. They consist of a list of \"key / value\" pairs. Just like a dictionary has a word (key) and a definition (value), Python dictionaries have these pairs of keys/values. \n",
    "\n",
    "Dictionaries are enclosed by curly brackets, use colons between each key and its associated value, and use commas between each key/value pair. For example, here's a dictionary that stores US Department of Labor occupation codes in a dictionary:"
   ]
  },
  {
   "cell_type": "code",
   "execution_count": 10,
   "id": "d00e4778-4dad-4ed4-8eda-3efbd5d54a76",
   "metadata": {},
   "outputs": [
    {
     "data": {
      "text/plain": [
       "{'welder': '51-4121.00',\n",
       " 'nurse': '29-1141.00',\n",
       " 'computer programmer': '15-1251.00'}"
      ]
     },
     "execution_count": 10,
     "metadata": {},
     "output_type": "execute_result"
    }
   ],
   "source": [
    "#lets initialize our dictionary to contain three occupations\n",
    "# notice that dictionaries use curly brackets\n",
    "occupationCodes = {\"welder\" : \"51-4121.00\", \"nurse\" : \"29-1141.00\", \"computer programmer\" : \"15-1251.00\"}\n",
    "\n",
    "occupationCodes"
   ]
  },
  {
   "cell_type": "code",
   "execution_count": 11,
   "id": "f264a60d-ff26-4726-8b9a-405b908050e4",
   "metadata": {},
   "outputs": [
    {
     "data": {
      "text/plain": [
       "{'welder': '51-4121.00',\n",
       " 'nurse': '29-1141.00',\n",
       " 'computer programmer': '15-1251.00',\n",
       " 'accountant': '13-2011.00'}"
      ]
     },
     "execution_count": 11,
     "metadata": {},
     "output_type": "execute_result"
    }
   ],
   "source": [
    "# oops, I forgot one, I can also add one at at a time with this syntax\n",
    "occupationCodes[\"accountant\"] = \"13-2011.00\"\n",
    "\n",
    "occupationCodes"
   ]
  },
  {
   "cell_type": "markdown",
   "id": "a834b637-c5ea-4252-8905-3787e8f4a6d0",
   "metadata": {},
   "source": [
    "Imagine our dictionary was very large, containing all occupations and labor codes. How can we search the dictionary for a specific occupation and its code? "
   ]
  },
  {
   "cell_type": "code",
   "execution_count": 12,
   "id": "952653c6-c7d6-4c7c-9738-7f98c0b81722",
   "metadata": {},
   "outputs": [
    {
     "name": "stdout",
     "output_type": "stream",
     "text": [
      "The occupation code for welder is 51-4121.00\n"
     ]
    }
   ],
   "source": [
    "# let's search for welder\n",
    "keyword = \"welder\"\n",
    "\n",
    "# check if the key \"welder\" exists in the dictionary\n",
    "# if so, print the labor code for welder\n",
    "# if not, print a different reponse\n",
    "if keyword in occupationCodes:\n",
    "    print(f\"The occupation code for {keyword} is {occupationCodes[keyword]}\")\n",
    "else:\n",
    "    print(f\"Sorry, don't have information on {keyword}\")"
   ]
  },
  {
   "cell_type": "markdown",
   "id": "3eb82440-9d8e-42ff-9ad6-35f2c9fbfa45",
   "metadata": {},
   "source": [
    "There are lots of cool things to notice in this code:\n",
    "- You can modify dictionaries (as we did when we added \"accountant\" and its labor code)\n",
    "- You can check to see whether a key exists in the dictionary (as we did with \"welder\")\n",
    "- You can use plain brackets and the key (```occupationCodes[\"welder\"]```) to retrieve the corresponding value from a dictionary\n",
    "- The f inside the print statement before the quotations indicates a formatted string. Formatted strings allow you to use curly brackets inside the string to print variables or execute expressions.\n",
    "\n",
    "Try modifying the keyword to something like \"firefighter\" that we know isn't in the dictionary and then running it.\n",
    "\n",
    "This code snippet above also uses the \"if ... else\" functionality in Python. This is called a conditional statement and is a way to check conditions before executing code. We'll cover more about this and other \"control flow\" functionality in the next section.\n",
    "\n",
    "Dictionaries, starting in Python 3.7 are *ordered* collections which means you can count on key/value pairs being stored in the order in which you added them to the dictionary."
   ]
  },
  {
   "cell_type": "markdown",
   "id": "f4607dbf-ec53-4359-b960-4c5e0f9346e3",
   "metadata": {},
   "source": [
    "# IV. Iterating through Lists and Dictionaries\n",
    "One thing you'll need to do quite frequently in data science is to iterate through the values in a list, one by one. There are a few ways to do this. Here's the first:"
   ]
  },
  {
   "cell_type": "code",
   "execution_count": null,
   "id": "1c96c28c-d60c-41fd-b6f4-45f31666c0cf",
   "metadata": {},
   "outputs": [],
   "source": [
    "# Create a List\n",
    "greatLanguages = [\"Python\", \"R\", \"Rust\", \"C++\"]\n",
    "for language in greatLanguages:\n",
    "    print(f\"{language} is a great language.\")"
   ]
  },
  {
   "cell_type": "markdown",
   "id": "b10b68f5-bb18-4dd4-b683-ba90aca1833b",
   "metadata": {},
   "source": [
    "Notice that:\n",
    "- The variable \"language\" stores, one by one, the words in the greatLanguages collection (Line 2)\n",
    "- Within the for loop, at each step, you can operate against the variable language and do things like printing (Line 4)\n",
    "\n",
    "Sometimes you want to iterate in such a way as to store the index of each item and not just get the value of each item in the list:"
   ]
  },
  {
   "cell_type": "code",
   "execution_count": null,
   "id": "553b5c20-573e-47b0-a2c2-6c8192d4dfe8",
   "metadata": {},
   "outputs": [],
   "source": [
    "greatLanguages = [\"Python\", \"R\", \"Rust\", \"C++\"]\n",
    "for position, language in enumerate(greatLanguages):\n",
    "    print(position, language)"
   ]
  },
  {
   "cell_type": "markdown",
   "id": "14ee3b9f-64d9-4299-8410-911ae6e54b3f",
   "metadata": {},
   "source": [
    "In the example above:\n",
    "- The variable *position* contains the index number of the item at each iteration (0-3)\n",
    "- The variable *language* contains the value of the item (just as before)\n",
    "- The \"enumerate\" method is what extracts the value of the *position* and the *language variables*\n",
    "\n",
    "Iterating through a dictionary works similarly:"
   ]
  },
  {
   "cell_type": "code",
   "execution_count": null,
   "id": "bd77b665-ad3a-4d51-9a3e-8dc96b998288",
   "metadata": {},
   "outputs": [],
   "source": [
    "#lets initialize our dictionary to contain three occupation titles with their corresponding codes\n",
    "occupationCodes = {\"welder\" : \"51-4121.00\", \"nurse\" : \"29-1141.00\", \"computer programmer\" : \"15-1251.00\"}\n",
    "\n",
    "for key, value in occupationCodes.items():\n",
    "    print(key, \" is coded as \", value)\n"
   ]
  },
  {
   "cell_type": "markdown",
   "id": "0dcca66a-e795-49ad-8335-4295321725fe",
   "metadata": {},
   "source": [
    "### Exercise 1: Iterate through a list\n",
    "\n",
    "Create a list of your favorite band names and then iterate through the list and output each one in the format like \"I love The Rolling Stones\"."
   ]
  },
  {
   "cell_type": "code",
   "execution_count": null,
   "id": "8b14c8ca-de77-47f4-b6e2-e4ed310e6305",
   "metadata": {},
   "outputs": [],
   "source": [
    "# add your code here"
   ]
  },
  {
   "cell_type": "markdown",
   "id": "a199fc24-9b75-4c62-9293-4ed4582970c5",
   "metadata": {},
   "source": [
    "# V. Boolean Operators and Comparison Operations"
   ]
  },
  {
   "cell_type": "code",
   "execution_count": null,
   "id": "a7caad14-a435-41fd-ae31-f1b66dca4721",
   "metadata": {},
   "outputs": [],
   "source": []
  },
  {
   "cell_type": "code",
   "execution_count": null,
   "id": "7cfcb40a-4f7e-4c5e-981d-0cadfa6e5019",
   "metadata": {},
   "outputs": [],
   "source": []
  },
  {
   "cell_type": "code",
   "execution_count": null,
   "id": "84315b6a-0642-42bd-b5c2-004585dac26f",
   "metadata": {},
   "outputs": [],
   "source": []
  },
  {
   "cell_type": "markdown",
   "id": "7b36e4ae-9a84-4ed7-acbf-113b7b2a19e1",
   "metadata": {},
   "source": [
    "# VI. Control Flow\n",
    "\n",
    "for loops, while loops, if statements, break and continue, user created functions, lambda functions, list comprehension \n",
    "\n",
    "## For loops"
   ]
  },
  {
   "cell_type": "code",
   "execution_count": null,
   "id": "005d0c0a-68f3-4648-bb47-94ac8b13c747",
   "metadata": {},
   "outputs": [],
   "source": []
  },
  {
   "cell_type": "code",
   "execution_count": null,
   "id": "0904f0be-e6cd-488d-8d2a-e74209c9f79e",
   "metadata": {},
   "outputs": [],
   "source": []
  },
  {
   "cell_type": "markdown",
   "id": "d85f7776-679e-4266-b28d-be27368ccd4d",
   "metadata": {},
   "source": [
    "## While loops"
   ]
  },
  {
   "cell_type": "code",
   "execution_count": null,
   "id": "ad04e4ee-b44b-4b9f-b104-0471f5958475",
   "metadata": {},
   "outputs": [],
   "source": []
  },
  {
   "cell_type": "code",
   "execution_count": null,
   "id": "3630ce3b-f229-4e6f-8040-c560fab1d419",
   "metadata": {},
   "outputs": [],
   "source": []
  },
  {
   "cell_type": "markdown",
   "id": "29122307-eb5f-4a0b-83de-7e2b51afc540",
   "metadata": {},
   "source": [
    "## If statements"
   ]
  },
  {
   "cell_type": "code",
   "execution_count": null,
   "id": "a3648011-5a5b-4d4c-928a-e800979829ee",
   "metadata": {},
   "outputs": [],
   "source": []
  },
  {
   "cell_type": "code",
   "execution_count": null,
   "id": "4472092d-6a7e-44fc-93cd-0e79721b49d8",
   "metadata": {},
   "outputs": [],
   "source": []
  },
  {
   "cell_type": "markdown",
   "id": "1635567d-df19-44df-8211-878d45ef977e",
   "metadata": {},
   "source": [
    "## Break"
   ]
  },
  {
   "cell_type": "code",
   "execution_count": null,
   "id": "1563fdfa-05f3-4f72-b413-aefa1b9adbb6",
   "metadata": {},
   "outputs": [],
   "source": []
  },
  {
   "cell_type": "code",
   "execution_count": null,
   "id": "50b510a4-869d-4e7d-b431-7859a2f26c09",
   "metadata": {},
   "outputs": [],
   "source": []
  },
  {
   "cell_type": "markdown",
   "id": "32b4ae05-d5b7-4926-bc1f-620a75ec1e53",
   "metadata": {},
   "source": [
    "## Continue"
   ]
  },
  {
   "cell_type": "code",
   "execution_count": null,
   "id": "e36b109f-fda0-4163-b40f-4b79f322ddaf",
   "metadata": {},
   "outputs": [],
   "source": []
  },
  {
   "cell_type": "code",
   "execution_count": null,
   "id": "e646c1a2-edb4-48b1-a1dc-08ed71df1dcb",
   "metadata": {},
   "outputs": [],
   "source": []
  },
  {
   "cell_type": "markdown",
   "id": "6eb07d6f-eb1a-41d8-a3f2-2684f0e3012d",
   "metadata": {},
   "source": [
    "## User created functions"
   ]
  },
  {
   "cell_type": "markdown",
   "id": "274bc840-45ce-41f1-be64-b4f3aa32602e",
   "metadata": {},
   "source": [
    "You're familiar now with Python's built-in functions like \"print.\" Sometimes you'll need to create custom functions.\n",
    "\n",
    "For example, let's create and use a trivial function that takes three values and returns their average."
   ]
  },
  {
   "cell_type": "code",
   "execution_count": null,
   "id": "6c0494d9-d897-4fbc-9bb5-1f32e7ecfa39",
   "metadata": {},
   "outputs": [],
   "source": [
    "# define our function\n",
    "def averageThreeVars(var1,var2,var3):\n",
    "    # calculate the average of the three\n",
    "    average = (var1 + var2 + var3) / 3\n",
    "    # return the average\n",
    "    return(average)\n",
    "\n",
    "# let's find the average height of the three highest mountains in the world\n",
    "\n",
    "# store the height in feet of three mountains in separate variables\n",
    "everestHeight = 29032\n",
    "k2Height = 28251\n",
    "kangchenjungaHeight = 28169\n",
    "\n",
    "# call the function averageThreeVars and pass in our three peaks, store the\n",
    "# result in a global variable called averageHeightThreePeaks\n",
    "averageHeightThreePeaks = averageThreeVars(everestHeight,k2Height,kangchenjungaHeight)\n",
    "\n",
    "# print out our global variable\n",
    "print(f\"The average height of our three peaks is {averageHeightThreePeaks}\")\n"
   ]
  },
  {
   "cell_type": "markdown",
   "id": "3c6649fa-3344-4f47-9f98-76e14f692a73",
   "metadata": {},
   "source": [
    "Notice that our function received the three mountain heights, calculated an average, and then \"returned\" that average where we stored it into a global variable called \"averageHeightThreePeaks.\"\n",
    "\n",
    "In most languages, you can only return one variable from a function. That variable can be a collection (e.g., a list) and so this isn't very limiting, but Python is pretty unique in being able to return multiple values from one function. We won't go into that today, but keep that in mind for the future."
   ]
  },
  {
   "cell_type": "code",
   "execution_count": null,
   "id": "e2450b6d-baef-4bf6-a6e6-521393481789",
   "metadata": {},
   "outputs": [],
   "source": []
  },
  {
   "cell_type": "markdown",
   "id": "02455c3c-d970-4c96-86e5-67b5e87424eb",
   "metadata": {},
   "source": [
    "## Lambda functions\n",
    "\n",
    "So far, this notebook has focused on defined functions. But there is another kind of function in Python called a \"Lambda\" function. This is probably the most advanced topic we cover here, but you'll see us use it later and may want to come back to review this.\n",
    "\n",
    "The following sample code will call a traditional function and a lambda version of the same function to add three to the number we give the function."
   ]
  },
  {
   "cell_type": "code",
   "execution_count": null,
   "id": "c03baeff-a641-42eb-a096-a3a6d6585a7d",
   "metadata": {},
   "outputs": [],
   "source": [
    "# we have some variable we want to change\n",
    "myVariable = 7\n",
    "\n",
    "# define a traditional function\n",
    "def addThreeTraditional(number):\n",
    "    return number+3\n",
    "\n",
    "# call it and pass in myVariable to add 3\n",
    "myResult = addThreeTraditional(myVariable)\n",
    "\n",
    "# print the result\n",
    "print(myResult)\n",
    "\n",
    "# now let's see a lambda version\n",
    "addThreeLambda = lambda x: x + 3\n",
    "\n",
    "# call the lambda\n",
    "myResult = addThreeLambda(myVariable)\n",
    "\n",
    "# print the result\n",
    "print(myResult)"
   ]
  },
  {
   "cell_type": "markdown",
   "id": "940bd121-d931-403d-9878-52a10ea6761e",
   "metadata": {},
   "source": [
    "Note that you should get the same result for both the regular and lambda versions of the function (10).\n",
    "\n",
    "Why on earth would we use lambdas? Well, a key reason would be that we don't have to define them ahead of time like we did above. The following is equivalent but it uses what are called \"anonymous\" functions - a lambda with no name.\n"
   ]
  },
  {
   "cell_type": "code",
   "execution_count": null,
   "id": "d7704307-62e8-46a5-81ab-31992e322fc7",
   "metadata": {},
   "outputs": [],
   "source": [
    "# get a result by, instead of using \"addThreeLambda\", just put the lambda \n",
    "# in parentheses and call with an argument in parentheses\n",
    "\n",
    "myResult = (lambda x:x+3)(myVariable)\n",
    "print(myResult)\n"
   ]
  },
  {
   "cell_type": "markdown",
   "id": "f6c83596-aa46-4185-8449-357ef94465e3",
   "metadata": {},
   "source": [
    "Amazing, right? You can also pass in multiple variables just like with a defined function."
   ]
  },
  {
   "cell_type": "code",
   "execution_count": null,
   "id": "480079fa-ae06-4754-ae5b-7e5bc33a59cd",
   "metadata": {},
   "outputs": [],
   "source": [
    "var1 = \"Amazing\"\n",
    "var2 = \"Spiderman\"\n",
    "\n",
    "# notice our lambda has two variables - x and y\n",
    "# and so we pass in the arguments in order\n",
    "superhero = (lambda x,y:x + \" \" + y)(var1,var2)\n",
    "\n",
    "print(superhero)"
   ]
  },
  {
   "cell_type": "markdown",
   "id": "583ab839-2c65-44e5-8fbf-9e9c58eaffd3",
   "metadata": {},
   "source": [
    "So we passed in two variables to the lambda, it squished them together with a space between and then returned them. You should see \"Amazing Spiderman.\"\n",
    "\n",
    "Now, just so you know the terminology of the parts of a lambda:\n",
    "\n",
    "<img src=\"https://dsci.msstate.edu/downloads/wrangling/lab6/lambda.png\" alt=\"parts of a lambda\" width=\"400\"/>\n"
   ]
  },
  {
   "cell_type": "code",
   "execution_count": null,
   "id": "7e5fe4dd-0dc2-4c64-a600-a2391564896c",
   "metadata": {},
   "outputs": [],
   "source": []
  },
  {
   "cell_type": "code",
   "execution_count": null,
   "id": "abbc266b-0a63-46b7-974f-645915a5d72a",
   "metadata": {},
   "outputs": [],
   "source": []
  },
  {
   "cell_type": "markdown",
   "id": "ef18a252-2191-458c-80cd-6ab13a272957",
   "metadata": {},
   "source": [
    "## List Comprehension"
   ]
  },
  {
   "cell_type": "code",
   "execution_count": null,
   "id": "5d6189ab-0335-4d22-bc23-3228123e08f0",
   "metadata": {},
   "outputs": [],
   "source": []
  },
  {
   "cell_type": "code",
   "execution_count": null,
   "id": "6a4cf660-2fa2-482f-a174-b2eb425c7464",
   "metadata": {},
   "outputs": [],
   "source": []
  },
  {
   "cell_type": "markdown",
   "id": "5dd7e1e2-7133-429d-9ac2-1b3505c16cd4",
   "metadata": {},
   "source": [
    "# VII. Python: Learning More\n",
    "\n",
    "Well, there's a lot more to Python, but the above gives you a start on variables, loops, collections, and iterating through collections.\n",
    "\n",
    "The great thing about Python is that you can google \"How do I (do whatever) in python?\" and you'll get help in many places."
   ]
  },
  {
   "cell_type": "code",
   "execution_count": null,
   "id": "b669c31c-82ff-4306-9006-6128e2c6b20d",
   "metadata": {},
   "outputs": [],
   "source": []
  },
  {
   "cell_type": "code",
   "execution_count": null,
   "id": "5d7a894c-b745-4508-94b7-99836fd5a059",
   "metadata": {},
   "outputs": [],
   "source": []
  },
  {
   "cell_type": "code",
   "execution_count": null,
   "id": "f1b3ba62-5dde-4188-9bd9-b1f4093e4dda",
   "metadata": {},
   "outputs": [],
   "source": []
  },
  {
   "cell_type": "code",
   "execution_count": null,
   "id": "d341cdff-052f-48e8-9e68-1f82cb208254",
   "metadata": {},
   "outputs": [],
   "source": []
  },
  {
   "cell_type": "code",
   "execution_count": null,
   "id": "787ed9e8-03ea-43fd-9bcb-270450042dc5",
   "metadata": {},
   "outputs": [],
   "source": []
  },
  {
   "cell_type": "code",
   "execution_count": null,
   "id": "e245d17b-5bbd-4d00-ba63-491f8faf4d01",
   "metadata": {},
   "outputs": [],
   "source": []
  }
 ],
 "metadata": {
  "kernelspec": {
   "display_name": "pyworkshop",
   "language": "python",
   "name": "pyworkshop"
  },
  "language_info": {
   "codemirror_mode": {
    "name": "ipython",
    "version": 3
   },
   "file_extension": ".py",
   "mimetype": "text/x-python",
   "name": "python",
   "nbconvert_exporter": "python",
   "pygments_lexer": "ipython3",
   "version": "3.12.4"
  }
 },
 "nbformat": 4,
 "nbformat_minor": 5
}
