{
 "cells": [
  {
   "cell_type": "markdown",
   "id": "033dea65-ed15-412d-81f0-17e5b10fa332",
   "metadata": {},
   "source": [
    "# Jupyter Notebook Basics"
   ]
  },
  {
   "cell_type": "code",
   "execution_count": null,
   "id": "766a7fef-44c6-4661-8d4c-69e0ea82e722",
   "metadata": {
    "editable": true,
    "slideshow": {
     "slide_type": ""
    },
    "tags": []
   },
   "outputs": [],
   "source": []
  },
  {
   "cell_type": "code",
   "execution_count": null,
   "id": "346c1529-b94e-46fe-afdb-d36075bc2b00",
   "metadata": {},
   "outputs": [],
   "source": []
  },
  {
   "cell_type": "code",
   "execution_count": null,
   "id": "786ef171-7697-457a-a4a2-0d2a747a9bdd",
   "metadata": {},
   "outputs": [],
   "source": []
  },
  {
   "cell_type": "code",
   "execution_count": null,
   "id": "9e184c09-e4a2-471a-ad05-a443390dc1d3",
   "metadata": {},
   "outputs": [],
   "source": []
  },
  {
   "cell_type": "code",
   "execution_count": null,
   "id": "ff3bec56-2977-43c7-9157-f0b44aee27cc",
   "metadata": {},
   "outputs": [],
   "source": []
  },
  {
   "cell_type": "code",
   "execution_count": null,
   "id": "27d35890-7c94-47ab-9858-3624dec30ee4",
   "metadata": {},
   "outputs": [],
   "source": []
  },
  {
   "cell_type": "code",
   "execution_count": null,
   "id": "0343e8a6-a03c-44d3-b61d-c167778c0f69",
   "metadata": {},
   "outputs": [],
   "source": []
  },
  {
   "cell_type": "markdown",
   "id": "1e85ab96-d2e6-4cc8-ab56-9f8ab3ee4c26",
   "metadata": {
    "editable": true,
    "slideshow": {
     "slide_type": ""
    },
    "tags": []
   },
   "source": [
    "## Jupyter Notebook Automatic Code Completion\n",
    "\n",
    "Jupyter Notebooks feature a few forms of automatic code completion.\n",
    "\n",
    "First, try typing the first few letters of a variable that we have already created ```myList```. If you position your cursor after the ```myL``` below and hit Tab you should see the full variable name pop up. You can enable the auto complete of the variable name by hitting Tab again or Enter. This comes in handy to save some typing of long variable names or to help you remember the names of the variables you've already created without scrolling back in the notebook."
   ]
  },
  {
   "cell_type": "code",
   "execution_count": null,
   "id": "cba10210-2f53-40c5-b869-ee9a9f721a75",
   "metadata": {},
   "outputs": [],
   "source": [
    "myL"
   ]
  },
  {
   "cell_type": "markdown",
   "id": "8633d342-9e99-4f73-b236-70f16a7b66fe",
   "metadata": {},
   "source": [
    "It should look like this:\n",
    "\n",
    "<img src=\"images/auto_complete_0.png\" style=\"width:400px\" />   "
   ]
  },
  {
   "cell_type": "markdown",
   "id": "593f56a3-e598-440d-9151-fb840ed49abc",
   "metadata": {},
   "source": [
    "Now type the ```myList``` variable name again but with a period after it, then hit Tab. You'll see a list of possible functions that are available for that variable instance. Give it a shot: "
   ]
  },
  {
   "cell_type": "code",
   "execution_count": null,
   "id": "444a6b13-791b-4f26-8b02-a231bbae4962",
   "metadata": {},
   "outputs": [],
   "source": [
    "myList."
   ]
  },
  {
   "attachments": {},
   "cell_type": "markdown",
   "id": "5a0dd950-40ed-4207-bb59-1879a6afd660",
   "metadata": {},
   "source": [
    "It should look like this:\n",
    "\n",
    "<img src=\"images/auto_complete_1.png\" style=\"width:300px\" />    \n"
   ]
  },
  {
   "cell_type": "markdown",
   "id": "84d42430-b063-4f22-8773-572c2945af44",
   "metadata": {},
   "source": [
    "Say I want to use the ```count``` function on the variable ```myList```. How would I know what this function does and how to use it? Jupyter Notebooks can provide you this info. Select the count function from the pop up list with your mouse or down arrow or just type count ```myList.count```, then Shift+Tab."
   ]
  },
  {
   "cell_type": "code",
   "execution_count": null,
   "id": "0bcbc173-c3af-48db-8591-57b4a2176482",
   "metadata": {},
   "outputs": [],
   "source": [
    "myList.count"
   ]
  },
  {
   "cell_type": "markdown",
   "id": "4c9a3318-89f7-4f3d-b5d5-2a4d0df1052f",
   "metadata": {},
   "source": [
    "It should look like this:\n",
    "\n",
    "<img src=\"images/auto_complete_2.png\" style=\"width:500px\" />    \n",
    "\n"
   ]
  },
  {
   "cell_type": "markdown",
   "id": "1ec8dd14-c2c5-4b7a-91f8-89aaf1504120",
   "metadata": {},
   "source": [
    "From this information we now know that the function takes 1 argument and will count the number of occurances of that argument's value in the list.\n",
    "\n",
    "A quick note on terminology: \"value\" in the above function signature can be referred to as an function argument, a parameter, or simply an input. In this course we may use these terms interchageably.\n",
    "\n",
    "Let's count the occurrences of the number 9 in ```myList```:"
   ]
  },
  {
   "cell_type": "code",
   "execution_count": 27,
   "id": "86d9ad6d-44f2-45c7-8acf-a84157f4fd91",
   "metadata": {},
   "outputs": [
    {
     "name": "stdout",
     "output_type": "stream",
     "text": [
      "2\n"
     ]
    },
    {
     "data": {
      "text/plain": [
       "[9, 7, 19, 9]"
      ]
     },
     "execution_count": 27,
     "metadata": {},
     "output_type": "execute_result"
    }
   ],
   "source": [
    "# how many 9's are in the list\n",
    "print(myList.count(9))\n",
    "\n",
    "# remind ourselves what myList contains\n",
    "myList"
   ]
  },
  {
   "cell_type": "markdown",
   "id": "aeef8118-d20e-44e5-8777-40893704e49b",
   "metadata": {},
   "source": [
    "What is the meaning of the slash in the function signature?\n",
    "\n",
    "Some functions accept more than one argument. Arguments that come before the slash are positional and must be given in the exact order described in the signature and without keywords. The list count function is an example of this. Arguments that come after the slash can be given either by position or by keyword (i.e. ```function(keyword=value)```). Don't worry about this too much now, we'll cover much more about functions and arguments later."
   ]
  },
  {
   "cell_type": "code",
   "execution_count": null,
   "id": "ff2b4beb-09a7-4b34-9935-7ccad37341d6",
   "metadata": {},
   "outputs": [],
   "source": []
  },
  {
   "cell_type": "code",
   "execution_count": null,
   "id": "a4205b19-e930-4b4a-88bc-d215e33a8951",
   "metadata": {},
   "outputs": [],
   "source": []
  },
  {
   "cell_type": "code",
   "execution_count": null,
   "id": "6be181dc-55df-4c5c-80a4-bc6063132d7a",
   "metadata": {},
   "outputs": [],
   "source": []
  },
  {
   "cell_type": "code",
   "execution_count": null,
   "id": "d5525d05-7864-4357-9b87-491d80bbb958",
   "metadata": {},
   "outputs": [],
   "source": []
  }
 ],
 "metadata": {
  "kernelspec": {
   "display_name": "Python 3 (ipykernel)",
   "language": "python",
   "name": "python3"
  },
  "language_info": {
   "codemirror_mode": {
    "name": "ipython",
    "version": 3
   },
   "file_extension": ".py",
   "mimetype": "text/x-python",
   "name": "python",
   "nbconvert_exporter": "python",
   "pygments_lexer": "ipython3",
   "version": "3.11.7"
  }
 },
 "nbformat": 4,
 "nbformat_minor": 5
}
