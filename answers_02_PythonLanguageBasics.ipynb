{
 "cells": [
  {
   "cell_type": "markdown",
   "id": "d7865082-594c-4f3c-99c2-688de3a2b278",
   "metadata": {},
   "source": [
    "# Answer Key\n",
    "\n",
    "This answer key contains a copy of each exercise text as well as the solutions, but you will not be able to run solution cells here. Copy each solution from this answer key into the main notebook for this learning module and run the code there. "
   ]
  },
  {
   "cell_type": "markdown",
   "id": "22aed536-c2b5-484a-8377-60f48086c443",
   "metadata": {},
   "source": [
    "<div class=\"alert alert-info\">    \n",
    "\n",
    "## Exercise 1: Get data type\n",
    "\n",
    "Assign a floating point value to a variable named ```z``` and use ```type()``` to see the data type.\n",
    "</div>"
   ]
  },
  {
   "cell_type": "code",
   "execution_count": 9,
   "id": "f2040985-7802-48bf-80a3-80abd5950b36",
   "metadata": {},
   "outputs": [
    {
     "data": {
      "text/plain": [
       "float"
      ]
     },
     "execution_count": 9,
     "metadata": {},
     "output_type": "execute_result"
    }
   ],
   "source": [
    "# add your code here\n",
    "\n",
    "z=1.0\n",
    "type(z)"
   ]
  },
  {
   "cell_type": "markdown",
   "id": "7fe93d64-1da3-483c-99f7-aa098805eeb6",
   "metadata": {},
   "source": [
    "<div class=\"alert alert-info\">    \n",
    "\n",
    "## Exercise 2: Manipulate a list\n",
    "\n",
    "Using the list ```practiceList``` below, do the following in this order:\n",
    "1) replace the element at the third index of the list with \"index3\" (remember the third index is not the same as the third number in the list)\n",
    "2) append the list with an additional element, the integer 100\n",
    "3) prepend the list with an additional element, the integer 1000\n",
    "4) remove the 8 from the list\n",
    "</div>"
   ]
  },
  {
   "cell_type": "code",
   "execution_count": 21,
   "id": "e194fd1f-ea1b-4b5d-a59f-4c1ba011fba7",
   "metadata": {},
   "outputs": [
    {
     "data": {
      "text/plain": [
       "[1000, 1, 2, 3, 'index3', 6, 10, 100]"
      ]
     },
     "execution_count": 21,
     "metadata": {},
     "output_type": "execute_result"
    }
   ],
   "source": [
    "practiceList = [1,2,3,4,6,8,10]\n",
    "\n",
    "# add your code here\n",
    "\n",
    "practiceList[3] = \"index3\"\n",
    "practiceList.append(100)\n",
    "practiceList.insert(0,1000)\n",
    "del practiceList[6]\n",
    "\n",
    "practiceList"
   ]
  },
  {
   "cell_type": "markdown",
   "id": "24703f6c-2836-4277-9989-9fe1fe85e93c",
   "metadata": {},
   "source": [
    "<div class=\"alert alert-info\">    \n",
    "\n",
    "Show programatically (using code) how many elements are now in your list.\n",
    "</div>"
   ]
  },
  {
   "cell_type": "code",
   "execution_count": 22,
   "id": "95464e5d-3c02-4417-aca0-72e64e18ec4d",
   "metadata": {},
   "outputs": [
    {
     "data": {
      "text/plain": [
       "8"
      ]
     },
     "execution_count": 22,
     "metadata": {},
     "output_type": "execute_result"
    }
   ],
   "source": [
    "# add your code here\n",
    "\n",
    "len(practiceList)"
   ]
  },
  {
   "cell_type": "markdown",
   "id": "ed20590c-1e4e-46d7-8920-ec9dad4c39f1",
   "metadata": {},
   "source": [
    "<div class=\"alert alert-info\">    \n",
    "\n",
    "## Exercise 3: Manipulate a dictionary\n",
    "\n",
    "First, write a new dictionary called ```studentGrades``` that contains the first names of 3 students and their letter grade for a pretend course.\n",
    "</div>"
   ]
  },
  {
   "cell_type": "code",
   "execution_count": 26,
   "id": "5a725ada-92e5-4e53-910b-833b448033b6",
   "metadata": {},
   "outputs": [
    {
     "name": "stdout",
     "output_type": "stream",
     "text": [
      "{'Jack': 'B', 'Jill': 'A', 'Steve': 'A'}\n"
     ]
    }
   ],
   "source": [
    "# add your code here\n",
    "studentGrades = {\"Jack\":\"B\", \"Jill\":\"A\", \"Steve\":\"A\"}\n",
    "print(studentGrades)"
   ]
  },
  {
   "cell_type": "markdown",
   "id": "44b17620-87db-4427-9e07-c12849249294",
   "metadata": {},
   "source": [
    "<div class=\"alert alert-info\">    \n",
    "\n",
    "Now add an additional key:value pair into your dictionary where the key is \"Heather\" and the value is \"C\".\n",
    "</div>"
   ]
  },
  {
   "cell_type": "code",
   "execution_count": 27,
   "id": "cb0a135a-a624-4846-9a52-1432b5e0248c",
   "metadata": {},
   "outputs": [
    {
     "data": {
      "text/plain": [
       "{'Jack': 'B', 'Jill': 'A', 'Steve': 'A', 'Heather': 'C'}"
      ]
     },
     "execution_count": 27,
     "metadata": {},
     "output_type": "execute_result"
    }
   ],
   "source": [
    "# add your code here\n",
    "studentGrades[\"Heather\"] = \"C\"\n",
    "studentGrades"
   ]
  },
  {
   "cell_type": "markdown",
   "id": "476d62da-3500-4a81-b375-bdd1fabc67f9",
   "metadata": {},
   "source": [
    "<div class=\"alert alert-info\">    \n",
    "\n",
    "Finally, use the keyword ```in``` to programmatically determine whether \"Heather\" is in the dictionary. No need to write an ```if...else``` statement here, just use ```in``` to get a True/False result.\n",
    "</div>"
   ]
  },
  {
   "cell_type": "code",
   "execution_count": 28,
   "id": "6398f93a-b1f3-49c2-a4d1-8a49dcb2d611",
   "metadata": {},
   "outputs": [
    {
     "data": {
      "text/plain": [
       "True"
      ]
     },
     "execution_count": 28,
     "metadata": {},
     "output_type": "execute_result"
    }
   ],
   "source": [
    "# add your code here\n",
    "\"Heather\" in studentGrades"
   ]
  },
  {
   "cell_type": "markdown",
   "id": "689ac1c6-d1ae-47d0-a476-060c38261841",
   "metadata": {},
   "source": [
    "<div class=\"alert alert-info\">    \n",
    "\n",
    "## Exercise 4: Iterate through a list with a for loop\n",
    "\n",
    "Create a list of your favorite musicians or band names and then iterate through the list and output each one in the format like \"I love The Rolling Stones\".\n",
    "</div>"
   ]
  },
  {
   "cell_type": "code",
   "execution_count": 49,
   "id": "8b14c8ca-de77-47f4-b6e2-e4ed310e6305",
   "metadata": {},
   "outputs": [
    {
     "name": "stdout",
     "output_type": "stream",
     "text": [
      "I love The Rolling Stones\n",
      "I love Pink Floyd\n",
      "I love Harry Styles\n",
      "I love Kacey Musgraves\n"
     ]
    }
   ],
   "source": [
    "# add your code here\n",
    "\n",
    "musicians = [\"The Rolling Stones\", \"Pink Floyd\", \"Harry Styles\", \"Kacey Musgraves\"]\n",
    "\n",
    "for musician in musicians:\n",
    "    print(f\"I love {musician}\")"
   ]
  },
  {
   "cell_type": "markdown",
   "id": "36b2a7e4-9820-4b5e-bd0a-172be032deb1",
   "metadata": {},
   "source": [
    "<div class=\"alert alert-info\">    \n",
    "\n",
    "## Exercise 5: Write a while loop to iterate through characters in a string\n",
    "\n",
    "Iterate through and print out each character of the string ```text``` below using a while loop. Hint: start at index 0 and iterate while the index is less than the length of the ```text``` variable.\n",
    "</div>"
   ]
  },
  {
   "cell_type": "code",
   "execution_count": 53,
   "id": "3630ce3b-f229-4e6f-8040-c560fab1d419",
   "metadata": {},
   "outputs": [
    {
     "name": "stdout",
     "output_type": "stream",
     "text": [
      "H\n",
      "e\n",
      "l\n",
      "l\n",
      "o\n",
      ",\n",
      " \n",
      "W\n",
      "o\n",
      "r\n",
      "l\n",
      "d\n",
      "!\n"
     ]
    }
   ],
   "source": [
    "text = \"Hello, World!\"\n",
    "index = 0\n",
    "\n",
    "# add your code here\n",
    "\n",
    "while index < len(text):\n",
    "    print(text[index])\n",
    "    index += 1"
   ]
  },
  {
   "cell_type": "markdown",
   "id": "b8a6be57-c3d3-4639-a340-fd1d4145f98b",
   "metadata": {},
   "source": [
    "<div class=\"alert alert-info\">    \n",
    "\n",
    "## Exercise 6: Write if statements\n",
    "\n",
    "Create the variable ```myAge``` and set it equal to your age as an integer. Use any combination of ```if```, ```elif```, and ```else``` statements to accomplish the following:\n",
    "\n",
    "- If ```myAge``` is less than 13, print \"You are a child.\"\n",
    "- If ```myAge``` is between 13 and 19 (inclusive), print \"You are a teenager.\"\n",
    "- If ```myAge``` is between 20 and 64 (inclusive), print \"You are an adult.\"\n",
    "- If ```myAge``` is 65 or older, print \"You are a senior.\"\n",
    "</div>"
   ]
  },
  {
   "cell_type": "code",
   "execution_count": 60,
   "id": "86689f6e-2a16-4a7a-b7dd-d6660e55f8cc",
   "metadata": {},
   "outputs": [
    {
     "name": "stdout",
     "output_type": "stream",
     "text": [
      "You are an adult\n"
     ]
    }
   ],
   "source": [
    "# add your code here\n",
    "\n",
    "myAge = 42\n",
    "\n",
    "if myAge < 13:\n",
    "    print(\"You are a child\")\n",
    "elif 13< myAge <=19:\n",
    "    print(\"You are a teenager\")\n",
    "elif (myAge>20) and (myAge<=64):\n",
    "    print(\"You are an adult\")\n",
    "else:\n",
    "    print(\"You are a senior\")"
   ]
  },
  {
   "cell_type": "markdown",
   "id": "610d6871-3e65-41bf-bd0c-7b124646dd8f",
   "metadata": {},
   "source": [
    "<div class=\"alert alert-info\">    \n",
    "\n",
    "## Exercise 7: Break on condition in a for loop\n",
    "\n",
    "Loop through numbers from 1 to 10 (use ```range()```) and print each number. However, if the number is 7, the loop should stop immediately and print \"Loop ended at 7.\"\n",
    "</div>"
   ]
  },
  {
   "cell_type": "code",
   "execution_count": 65,
   "id": "18d0709b-4169-4227-838f-9d8a3c6a6eff",
   "metadata": {},
   "outputs": [
    {
     "name": "stdout",
     "output_type": "stream",
     "text": [
      "1\n",
      "2\n",
      "3\n",
      "4\n",
      "5\n",
      "6\n",
      "Loop ended at 7\n"
     ]
    }
   ],
   "source": [
    "# add your code here\n",
    "\n",
    "for x in range(1,11):\n",
    "    if x!=7:\n",
    "        print(x)\n",
    "    else:\n",
    "        print(\"Loop ended at 7\")\n",
    "        break"
   ]
  },
  {
   "cell_type": "markdown",
   "id": "047b8519-1ffb-4aab-9433-7e7c26c0e5d1",
   "metadata": {},
   "source": [
    "<div class=\"alert alert-info\">    \n",
    "\n",
    "## Exercise 8: Write a custom function\n",
    "\n",
    "Write a function to return the maximum and minimum values of five integer inputs.\n",
    "</div>"
   ]
  },
  {
   "cell_type": "code",
   "execution_count": 69,
   "id": "99f8fbb0-a16b-4f04-bb8e-8d8f3e4778c3",
   "metadata": {},
   "outputs": [
    {
     "name": "stdout",
     "output_type": "stream",
     "text": [
      "1\n",
      "5\n"
     ]
    }
   ],
   "source": [
    "# add your code here\n",
    "\n",
    "def minmax(var1,var2,var3,var4,var5):\n",
    "    minval = min(var1,var2,var3,var4,var5)\n",
    "    maxval = max(var1,var2,var3,var4,var5)\n",
    "    return minval,maxval\n",
    "\n",
    "minval,maxval = minmax(1,2,3,4,5)\n",
    "print(minval)\n",
    "print(maxval)"
   ]
  },
  {
   "cell_type": "markdown",
   "id": "b503290c-2063-4cd9-8bc7-b600978c1eb4",
   "metadata": {},
   "source": [
    "<div class=\"alert alert-info\">    \n",
    "\n",
    "## Exercise 9: Write a list comprehension\n",
    "\n",
    "Write a list comprehension to add 10 to each value in the list below.\n",
    "</div>"
   ]
  },
  {
   "cell_type": "code",
   "execution_count": 76,
   "id": "f935edee-f14b-4dc0-b800-d28c4b6a95c9",
   "metadata": {},
   "outputs": [
    {
     "data": {
      "text/plain": [
       "[13, 15, 17, 19, 12, 14, 16, 18]"
      ]
     },
     "execution_count": 76,
     "metadata": {},
     "output_type": "execute_result"
    }
   ],
   "source": [
    "myList=[3, 5, 7, 9, 2, 4, 6, 8]\n",
    "\n",
    "# add your code here\n",
    "\n",
    "[x+10 for x in myList]"
   ]
  },
  {
   "cell_type": "markdown",
   "id": "e86b399d-4c32-42c2-a0eb-f1d24c039c4d",
   "metadata": {},
   "source": [
    "<div class=\"alert alert-info\">    \n",
    "\n",
    "## Exercise 10: Write a lambda function\n",
    "\n",
    "Write an \"anonymous\" ```lambda``` function to add 10 to ```myVariable``` below\n",
    "</div>"
   ]
  },
  {
   "cell_type": "code",
   "execution_count": 82,
   "id": "abbc266b-0a63-46b7-974f-645915a5d72a",
   "metadata": {},
   "outputs": [
    {
     "data": {
      "text/plain": [
       "110"
      ]
     },
     "execution_count": 82,
     "metadata": {},
     "output_type": "execute_result"
    }
   ],
   "source": [
    "myVariable = 100\n",
    "\n",
    "# add your code here\n",
    "\n",
    "(lambda x: x+10)(myVariable)"
   ]
  },
  {
   "cell_type": "markdown",
   "id": "fe6c2f1c-ce62-4c37-b8aa-cd9a14d0b3cf",
   "metadata": {},
   "source": [
    "<div class=\"alert alert-info\">    \n",
    "\n",
    "## Exercise 11: Write assert statements\n",
    "\n",
    "Use the lists below to test the following using assert statements. Include an error message in your assert statements. If you write your assert statements correctly, they should not raise any errors.\n",
    "\n",
    "- assert that list1 equals list2\n",
    "- assert that all values in pets are type string (str)\n",
    "- assert that at least one value from pets exists in animals\n",
    "</div>"
   ]
  },
  {
   "cell_type": "code",
   "execution_count": 95,
   "id": "977e5531-5ff3-407e-9f9a-decc12491e47",
   "metadata": {},
   "outputs": [],
   "source": [
    "list1 = [1, 2, 3, 4, 5]\n",
    "list2 = [1, 2, 3, 4, 5]\n",
    "pets = ['dog', 'cat', 'bird', 'snake']\n",
    "animals = ['giraffe', 'horse', 'snake', 'elephant', 'tortoise', 'dog']\n",
    "\n",
    "# add your code here\n",
    "\n",
    "assert list1==list2, 'list1 is not equal to list2'"
   ]
  },
  {
   "cell_type": "code",
   "execution_count": 97,
   "id": "ceda6af5-4518-4503-80fa-666d884cb937",
   "metadata": {},
   "outputs": [],
   "source": [
    "# add your code here\n",
    "\n",
    "assert all(isinstance(pet,str) for pet in pets), 'not all values in pets are string'"
   ]
  },
  {
   "cell_type": "code",
   "execution_count": 98,
   "id": "e9dbc86b-1530-49f3-bf52-8678eb808b2e",
   "metadata": {},
   "outputs": [],
   "source": [
    "# add your code here\n",
    "\n",
    "assert any(animal in pets for animal in animals), 'no values from the pets list are found in the animals list'"
   ]
  }
 ],
 "metadata": {
  "kernelspec": {
   "display_name": "Python [conda env:rgmg_test2] *",
   "language": "python",
   "name": "conda-env-rgmg_test2-py"
  },
  "language_info": {
   "codemirror_mode": {
    "name": "ipython",
    "version": 3
   },
   "file_extension": ".py",
   "mimetype": "text/x-python",
   "name": "python",
   "nbconvert_exporter": "python",
   "pygments_lexer": "ipython3",
   "version": "3.13.0"
  }
 },
 "nbformat": 4,
 "nbformat_minor": 5
}
