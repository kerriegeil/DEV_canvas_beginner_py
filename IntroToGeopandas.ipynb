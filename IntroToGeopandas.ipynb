{
 "cells": [
  {
   "cell_type": "markdown",
   "id": "526f0a68-fd5e-4953-864b-1c6f66a96535",
   "metadata": {},
   "source": [
    "# Introduction to GeoPandas for Working with Geospatial Vector Data (i.e., shapes: points, lines, and polygons)"
   ]
  },
  {
   "cell_type": "markdown",
   "id": "db644034-050c-4ae3-b249-80d0b26e714d",
   "metadata": {
    "editable": true,
    "slideshow": {
     "slide_type": ""
    },
    "tags": []
   },
   "source": [
    "<div class=\"alert alert-success\">\n",
    "    \n",
    "## This notebook covers\n",
    "- x\n",
    "</div>"
   ]
  },
  {
   "cell_type": "markdown",
   "id": "cec7f935-a8ca-4192-836f-ba569d498b98",
   "metadata": {
    "editable": true,
    "slideshow": {
     "slide_type": ""
    },
    "tags": []
   },
   "source": [
    "<div class=\"alert alert-warning\">\n",
    "\n",
    "## Reminders\n",
    "\n",
    "Remember, you can use Jupyter's built-in table of contents (hamburger on the far left) to jump from heading to heading.\n",
    "\n",
    "---\n",
    "\n",
    "This notebook will run in the MSUpy conda environment, which you create in the previous lesson. To select the Jupyter kernel the MSUpy environment go to the Kernel tab, select Change Kernel, then select the MSUpy kernel in the pop up window.\n",
    "\n",
    "---\n",
    "\n",
    "To turn on line number for code cells go to View menu and click Show Line Numbers.\n",
    "\n",
    "</div>"
   ]
  },
  {
   "cell_type": "markdown",
   "id": "a7a10e75-ab62-4798-b547-2b80b1e896be",
   "metadata": {
    "editable": true,
    "slideshow": {
     "slide_type": ""
    },
    "tags": []
   },
   "source": [
    "# I. Importing Necessary Packages"
   ]
  },
  {
   "cell_type": "code",
   "execution_count": 1,
   "id": "eb74e754-e313-4365-b6f0-ff58f88b352c",
   "metadata": {},
   "outputs": [],
   "source": [
    "import geopandas as gpd\n",
    "import pyogrio"
   ]
  },
  {
   "cell_type": "markdown",
   "id": "d31a24d0-81df-4ce7-a616-4ea366a42987",
   "metadata": {},
   "source": [
    "<div class=\"alert alert-danger\">\n",
    "\n",
    "**Sidebar: Avoiding GDAL and PROJ import errors**\n",
    "\n",
    "You may see an error above about GDAL_DATA or that you need to set a environmental variable for the GDAL package to work properly. If you don't see the error, great! Just file this info in the back of your mind for if you ever run into this problem.\n",
    "\n",
    "GDAL is a powerful package for translating raster and vector geospatial data formats. While we don't have to import GDAL directly here, both geopandas and pyogrio depend on the GDAL package to work correctly (i.e., GDAL is a dependency of geopandas and pyogrio). To import these packages in a way that Python knows where to look for GDAL information, you must first activate your conda environment where all these packages are installed and then launch Jupyter Lab from within the active environment. This is because activating the environment sets off the creation of a few necessary GDAL settings behind the scenes. The solution is the same for a dependency called PROJ if you ever run into similar errors with that dependency. **If you proceed past the error without fixing it your code may not give you further errors but it also may not be working as you expect.** \n",
    "\n",
    "Usually, Anaconda makes our life simple enough that we don't have to worry about anything to do with dependencies but GDAL (and PROJ) are special. It could be that in the future this issue is resolved by developers. But for now, if you get a GDAL (or PROJ) import error, the solution is:\n",
    "\n",
    "1) Close down Jupyter Lab (File menu --> Shutdown)\n",
    "2) Go to Anaconda Prompt (or Terminal for Mac/Linux users) and activate the environment you want to use by typing at the prompt. Our environment is called MSUpy:\n",
    "  \n",
    "      ```conda activate MSUpy```\n",
    "  \n",
    "3) In Anaconda Prompt (or Terminal for Mac/Linux users), launch Jupyter Lab from within the MSUpy environment by typing at the prompt:\n",
    "\n",
    "      ```jupyter lab```\n",
    "\n",
    "After these steps, ensure that the MSUpy kernel is selected in your notebook (Kernel menu --> Change kernel --> MSUpy). You should then be error-free when you run the import cell above.  \n",
    "\n",
    "</div>"
   ]
  },
  {
   "cell_type": "markdown",
   "id": "2e586a73-49a4-43a1-a68f-e8b0963ce420",
   "metadata": {
    "editable": true,
    "slideshow": {
     "slide_type": ""
    },
    "tags": []
   },
   "source": [
    "# II. Why use Python GeoPandas for geospatial data analysis as opposed to ArcGIS or other GIS software?\n",
    "\n",
    "If most or all of the data you work with are vector-based spatial data formats such as shapefiles, GeoJSON, or geodatabases, using GIS software will be more desirable and efficient!\n",
    "\n",
    "On the other hand, if most of the data you work with are not in these formats and your workflow is primarily in Python, GeoPandas may be the tool for you. For example, for a geoscientist (earth, environmental, climate sciences) who works most often with large multi-dimensional data arrays (time,level,lat,lon) in formats like .nc, .tif, .grib, .hdf, .csv, Python will usually be much more efficient and reproducible for scientific analysis as compared to GIS. For this use case, packages like GeoPandas make working with the occasional shapefile or geodatabase very easy within your existing Python workflow instead of having to use a separate GIS tool for part of your analysis.\n",
    "\n",
    "As we proceed through this notebook, we'll be looking at just of few of Python's geospatial analysis capabilities, mainly in the context that use of these tools is likely a minor part of a larger analysis using Python."
   ]
  },
  {
   "cell_type": "markdown",
   "id": "6343d55f-4c6e-4ae3-a9dd-10264e3aa3fd",
   "metadata": {},
   "source": [
    "# III. Introduction to GeoPandas Data Structures\n",
    "\n",
    "GeoPandas extends the Pandas package by adding support for geospatial vector data (i.e., shapes: points, lines, polygons). Under the hood, GeoPandas uses geometric operations from another Python package called [Shapely](https://shapely.readthedocs.io/en/stable/manual.html).\n",
    "\n",
    "The core data structure in GeoPandas is the *GeoDataFrame*, which is similar to a Pandas DataFrame made up of an index and collection of *Series* (columns) as well as a special column named \"geometry\". The geometery column is a *GeoSeries* which is a special structure that can handle shapes like points, lines, and polygons (a.k.a. geometries). Each shape object in a GeoSeries is a Shapely geometry object. A GeoDataFrame can contain as many Series and GeoSeries as you want, but only one GeoSeries (column of shape objects) can be activate at a time. We'll get into what that means later.        \n",
    "\n",
    "Below is a schematic of what a GeoPandas GeoDataFrame looks like, where the green boxes indicate the index, yellow boxes indicate numerical or text data (with column names) in Series and pink boxes show a single GeoSeries which would contain shapes and have the column name \"geometry\".\n",
    "\n",
    "\n",
    "<img src=\"images/geodataframe.svg\" alt=\"schematic of a dataframe\" width=\"700\"/> \n",
    "         \n",
    "(Image Source: [GeoPandas Docs Getting Started Tutorial](https://geopandas.org/en/stable/getting_started/introduction.html#Concepts)"
   ]
  },
  {
   "cell_type": "code",
   "execution_count": null,
   "id": "be414b1d-5cf3-42ee-ba7a-a0acab7c36b0",
   "metadata": {},
   "outputs": [],
   "source": [
    "# pyogrio.list_layers('data/census_ACS_2021/ACS_2021_5YR_COUSUB_28_MISSISSIPPI.gdb')"
   ]
  },
  {
   "cell_type": "code",
   "execution_count": null,
   "id": "173694ee-12f6-4184-af3a-1a63def119fc",
   "metadata": {},
   "outputs": [],
   "source": [
    "# meta=gpd.read_file('data/census_ACS_2021/ACS_2021_5YR_COUSUB_28_MISSISSIPPI.gdb', layer='COUSUB_METADATA_2021')\n",
    "# meta"
   ]
  },
  {
   "cell_type": "code",
   "execution_count": null,
   "id": "560e2339-7810-4dd3-9bfe-f93b9c79cd7d",
   "metadata": {},
   "outputs": [],
   "source": [
    "# import pandas as pd\n",
    "# pd.set_option('display.max_colwidth', None)\n",
    "# meta.loc[meta.Short_Name.str.contains('B17002')]"
   ]
  },
  {
   "cell_type": "code",
   "execution_count": null,
   "id": "b66783bd-a2af-4068-a538-2a97497f40d8",
   "metadata": {},
   "outputs": [],
   "source": [
    "# test=gpd.read_file('data/census_ACS_2021/ACS_2021_5YR_COUSUB_28_MISSISSIPPI.gdb', layer='X17_POVERTY')\n",
    "# test"
   ]
  },
  {
   "cell_type": "code",
   "execution_count": null,
   "id": "8eeb736f-c9ed-4b3f-8a68-e8e2bf1cccb8",
   "metadata": {},
   "outputs": [],
   "source": []
  },
  {
   "cell_type": "markdown",
   "id": "68cb7fa4-2890-446a-ba4a-f87b5fb35b63",
   "metadata": {},
   "source": [
    "# IV. Loading a ShapeFile into a GeoDataFrame\n",
    "\n",
    "Most of the time you'll probably start a geospatial analysis with a shapefile or geodatabase, both of which are comprised of multiple components. Three components are mandatory for shapefiles: \n",
    "- a main file that contains the feature geometry (.shp),\n",
    "- an index file that stores the index of the feature geometry (.shx), and\n",
    "- a dBASE table (.dbf) that stores the attribute information of features.\n",
    "\n",
    "The shapefiles we'll load contain the boundaries for a few US states and the centerlines for some large rivers. The files we're using contain subsets of data from larger files that are publicly available from the US Census Bureau and Natural Earth data project. If you're interested, the full data files are cb_2023_us_state_500k.shp from the [Census Bureau cartographic boundary files](https://www.census.gov/geographies/mapping-files/time-series/geo/cartographic-boundary.html) and ne_10m_rivers_lake_centerlines.shp, ne_10m_rivers_north_america.shp from the [Natural Earth data project](https://www.naturalearthdata.com/downloads/10m-physical-vectors/10m-rivers-lake-centerlines/).\n",
    "\n",
    "```geopandas.read_file()``` can read almost any vector-based spatial data format."
   ]
  },
  {
   "cell_type": "code",
   "execution_count": 2,
   "id": "882f7965-36b2-42ce-8bab-de166a0da408",
   "metadata": {},
   "outputs": [
    {
     "data": {
      "text/html": [
       "<div>\n",
       "<style scoped>\n",
       "    .dataframe tbody tr th:only-of-type {\n",
       "        vertical-align: middle;\n",
       "    }\n",
       "\n",
       "    .dataframe tbody tr th {\n",
       "        vertical-align: top;\n",
       "    }\n",
       "\n",
       "    .dataframe thead th {\n",
       "        text-align: right;\n",
       "    }\n",
       "</style>\n",
       "<table border=\"1\" class=\"dataframe\">\n",
       "  <thead>\n",
       "    <tr style=\"text-align: right;\">\n",
       "      <th></th>\n",
       "      <th>STATEFP</th>\n",
       "      <th>STATENS</th>\n",
       "      <th>GEOIDFQ</th>\n",
       "      <th>GEOID</th>\n",
       "      <th>STUSPS</th>\n",
       "      <th>NAME</th>\n",
       "      <th>LSAD</th>\n",
       "      <th>ALAND</th>\n",
       "      <th>AWATER</th>\n",
       "      <th>geometry</th>\n",
       "    </tr>\n",
       "  </thead>\n",
       "  <tbody>\n",
       "    <tr>\n",
       "      <th>0</th>\n",
       "      <td>01</td>\n",
       "      <td>01779775</td>\n",
       "      <td>0400000US01</td>\n",
       "      <td>01</td>\n",
       "      <td>AL</td>\n",
       "      <td>Alabama</td>\n",
       "      <td>00</td>\n",
       "      <td>131185049346</td>\n",
       "      <td>4582326383</td>\n",
       "      <td>MULTIPOLYGON (((760323.731 857474.728, 760524....</td>\n",
       "    </tr>\n",
       "    <tr>\n",
       "      <th>1</th>\n",
       "      <td>05</td>\n",
       "      <td>00068085</td>\n",
       "      <td>0400000US05</td>\n",
       "      <td>05</td>\n",
       "      <td>AR</td>\n",
       "      <td>Arkansas</td>\n",
       "      <td>00</td>\n",
       "      <td>134660466558</td>\n",
       "      <td>3122251184</td>\n",
       "      <td>POLYGON ((122656.347 1495564.869, 122680.321 1...</td>\n",
       "    </tr>\n",
       "    <tr>\n",
       "      <th>2</th>\n",
       "      <td>47</td>\n",
       "      <td>01325873</td>\n",
       "      <td>0400000US47</td>\n",
       "      <td>47</td>\n",
       "      <td>TN</td>\n",
       "      <td>Tennessee</td>\n",
       "      <td>00</td>\n",
       "      <td>106792311478</td>\n",
       "      <td>2322248149</td>\n",
       "      <td>POLYGON ((514676.039 1342513.625, 514738.015 1...</td>\n",
       "    </tr>\n",
       "    <tr>\n",
       "      <th>3</th>\n",
       "      <td>28</td>\n",
       "      <td>01779790</td>\n",
       "      <td>0400000US28</td>\n",
       "      <td>28</td>\n",
       "      <td>MS</td>\n",
       "      <td>Mississippi</td>\n",
       "      <td>00</td>\n",
       "      <td>121533540877</td>\n",
       "      <td>3914738613</td>\n",
       "      <td>MULTIPOLYGON (((719751.38 821718.593, 721088.0...</td>\n",
       "    </tr>\n",
       "    <tr>\n",
       "      <th>4</th>\n",
       "      <td>22</td>\n",
       "      <td>01629543</td>\n",
       "      <td>0400000US22</td>\n",
       "      <td>22</td>\n",
       "      <td>LA</td>\n",
       "      <td>Louisiana</td>\n",
       "      <td>00</td>\n",
       "      <td>111930452904</td>\n",
       "      <td>23721187320</td>\n",
       "      <td>MULTIPOLYGON (((687937.424 779840.415, 688125....</td>\n",
       "    </tr>\n",
       "  </tbody>\n",
       "</table>\n",
       "</div>"
      ],
      "text/plain": [
       "  STATEFP   STATENS      GEOIDFQ GEOID STUSPS         NAME LSAD         ALAND  \\\n",
       "0      01  01779775  0400000US01    01     AL      Alabama   00  131185049346   \n",
       "1      05  00068085  0400000US05    05     AR     Arkansas   00  134660466558   \n",
       "2      47  01325873  0400000US47    47     TN    Tennessee   00  106792311478   \n",
       "3      28  01779790  0400000US28    28     MS  Mississippi   00  121533540877   \n",
       "4      22  01629543  0400000US22    22     LA    Louisiana   00  111930452904   \n",
       "\n",
       "        AWATER                                           geometry  \n",
       "0   4582326383  MULTIPOLYGON (((760323.731 857474.728, 760524....  \n",
       "1   3122251184  POLYGON ((122656.347 1495564.869, 122680.321 1...  \n",
       "2   2322248149  POLYGON ((514676.039 1342513.625, 514738.015 1...  \n",
       "3   3914738613  MULTIPOLYGON (((719751.38 821718.593, 721088.0...  \n",
       "4  23721187320  MULTIPOLYGON (((687937.424 779840.415, 688125....  "
      ]
     },
     "execution_count": 2,
     "metadata": {},
     "output_type": "execute_result"
    }
   ],
   "source": [
    "# load state boundaries from shapefile\n",
    "gdf_states = gpd.read_file('data/state_boundaries/MS_LA_AR_AL_TN_cb_2023_us_state_500km.shp')\n",
    "gdf_states"
   ]
  },
  {
   "cell_type": "markdown",
   "id": "a553a52d-bb85-47dd-be20-eefb48ada01c",
   "metadata": {},
   "source": [
    "This is a GeoPandas GeoDataFrame and as you can see, it looks a lot like a Pandas DataFrame. Each row is a data entry for a different state. Notice the rightmost column named \"geometry\". It contains geospatial shapes that represent the boundaries of each state. \n",
    "\n",
    "Let's look at the data type of each column"
   ]
  },
  {
   "cell_type": "code",
   "execution_count": 3,
   "id": "e13d8017-440a-4283-a79a-0722778f63d1",
   "metadata": {},
   "outputs": [
    {
     "data": {
      "text/plain": [
       "STATEFP       object\n",
       "STATENS       object\n",
       "GEOIDFQ       object\n",
       "GEOID         object\n",
       "STUSPS        object\n",
       "NAME          object\n",
       "LSAD          object\n",
       "ALAND          int64\n",
       "AWATER         int64\n",
       "geometry    geometry\n",
       "dtype: object"
      ]
     },
     "execution_count": 3,
     "metadata": {},
     "output_type": "execute_result"
    }
   ],
   "source": [
    "gdf_states.dtypes"
   ]
  },
  {
   "cell_type": "markdown",
   "id": "7f20e2cd-600d-4b7c-bd28-3067a2971016",
   "metadata": {},
   "source": [
    "You should remember seeing most of these data types from the Pandas notebook, but GeoPandas adds a new data type \"geometry\". This is indicating that the column named \"geometry\" is a GeoSeries that contains geospatial shapes.\n",
    "\n",
    "Since there is only one column of type geometry, GeoPandas makes that column the *active geometry column*. You can have more than one GeoSeries column that contain shapes, but only one active at a time. This doesn't really come into  play until it's time to create figures. \n",
    "\n",
    "Look once again at the geometry column of the GeoDataFrame. Notice the values inside the geospatial shapes. What are those numbers? Each set of numbers (separated by commas) is a x,y node (point) that make up the shape. Large numbers, like we have, usually indicate that the data is in a coordinate reference system that has units of meters (as opposed to degrees latitude and longitude). We'll talk about coordinate reference systems next."
   ]
  },
  {
   "cell_type": "markdown",
   "id": "50b7d520-0c86-4a57-b4bb-e5d7c825ddef",
   "metadata": {},
   "source": [
    "# V. Coordinate Reference Systems (CRS)\n",
    "\n",
    "A *coordinate reference system* is a framework used to locate and map geographic features on the Earth's surface. The key components of a CRS are:\n",
    "\n",
    "- **Coordinate System:** Defines the grid used to specify locations on the Earth, including the axes (like latitude/longitude or X/Y) and distance units of measurement (degrees or meters, for example). \n",
    "\n",
    "- **Datum:** The modeled version of the shape of the earth (usually represented by an ellipsoid). The datum also defines the origin (or reference point) of the coordinate system.\n",
    "\n",
    "- **Projection:** A mathematical transformation that translates the spherical or ellipsoidal coordinates on the Earth's surface onto a flat surface like a map (Cartesian coordinates). No projection is perfect. Each will have different distortions which can affect area, shape, distance, and/or direction. Different projections are used based on geographic area of interest and the purpose of the map. Some coordinate reference systems do not have a projection, meaning their coordinate system and datum define locations on a 3-dimensional Earth rather than a 2-dimensional map. \n",
    "\n",
    "\n",
    "As mentioned above, there are actually two types of CRS's: *geographic coordinate reference systems* and *projected coordinate reference systems*.\n",
    "\n",
    "- **Geographic coordinate reference systems** are used to locate places on a 3-dimensional Earth surface based on two values, longitude and latitude, usually with units of decimal degrees. Units of angular distances are not linear due to the polar convergence of longitudes and the slight bulge of the earth at the equator. Therefore, a geographic CRS is not suitable to calculate or compare distances between locations. A common geographic CRS would be EPSG:4326, which uses a latitude and longitude coordinate system and the WGS84 datum (an ellipsoid) to represent locations on a 3-dimensional Earth. Confusingly, sometimes this CRS is referred to as the WGS84 CRS. I like to use the EPSG codes when discussing CRS's because they are unique identifiers that can eliminate a lot of confusion. EPSG:4326 is the default CRS used in many GPS systems and is also used by Google Earth.\n",
    "- **Projected coordinate reference systems** are based on a Cartesian coordinate system on a flat surface. Map projections are used to convert the 3D surface of the Earth into x and y coordinates of the projected CRS. A common projected CRS that you may encounter is EPSG:3857, also known as the Web Mercator projection. This CRS is used for many web mapping applications include Google Maps and Apple Map.\n",
    "\n",
    "\n",
    "**Your choice of CRS will depend on how big your area of interest is, the region of the globe where it is located, and whether preserving shape, area, distance, or direction is most important to what you want to calculate.** Projections that preserve shape are called *conformal*; those that preserve area are called *equal-area*; those that preserve distance are called *equidistant*; and those that preserve direction are called *azimuthal*. These words might assist you in finding a projected CRS that preserves that geospatial properties most important to your analysis. Also, keep in mind that you can *reproject* from one CRS to another to increase the accuracy of calculations that require preservation of different geospatial properties (e.g. area vs distance).\n",
    "\n",
    "**Where can you find information on different coordinate reference systems including the EPSG codes?** [https://spatialreference.org](https://spatialreference.org/), [https://epsg.io](https://epsg.io/), or simply type your CRS question into Google and see what helpful websites pop up.\n",
    "\n",
    "\n",
    "Let's see what CRS our state boundaries use:"
   ]
  },
  {
   "cell_type": "code",
   "execution_count": 4,
   "id": "1c91faf5-7997-4a28-970f-3e41c73e5452",
   "metadata": {},
   "outputs": [
    {
     "data": {
      "text/plain": [
       "<Projected CRS: EPSG:5070>\n",
       "Name: NAD83 / Conus Albers\n",
       "Axis Info [cartesian]:\n",
       "- X[east]: Easting (metre)\n",
       "- Y[north]: Northing (metre)\n",
       "Area of Use:\n",
       "- name: United States (USA) - CONUS onshore - Alabama; Arizona; Arkansas; California; Colorado; Connecticut; Delaware; Florida; Georgia; Idaho; Illinois; Indiana; Iowa; Kansas; Kentucky; Louisiana; Maine; Maryland; Massachusetts; Michigan; Minnesota; Mississippi; Missouri; Montana; Nebraska; Nevada; New Hampshire; New Jersey; New Mexico; New York; North Carolina; North Dakota; Ohio; Oklahoma; Oregon; Pennsylvania; Rhode Island; South Carolina; South Dakota; Tennessee; Texas; Utah; Vermont; Virginia; Washington; West Virginia; Wisconsin; Wyoming.\n",
       "- bounds: (-124.79, 24.41, -66.91, 49.38)\n",
       "Coordinate Operation:\n",
       "- name: Conus Albers\n",
       "- method: Albers Equal Area\n",
       "Datum: North American Datum 1983\n",
       "- Ellipsoid: GRS 1980\n",
       "- Prime Meridian: Greenwich"
      ]
     },
     "execution_count": 4,
     "metadata": {},
     "output_type": "execute_result"
    }
   ],
   "source": [
    "gdf_states.crs"
   ]
  },
  {
   "cell_type": "markdown",
   "id": "2417d153-1501-4bc9-b1e4-61cbbe2a2e5d",
   "metadata": {},
   "source": [
    "The CRS of this data is EPSG:5070, which uses the NAD83 datum and an X/Y Cartesian coordinate system with units in meters. The information GeoPandas gives us let's us know that this CRS is equal-area and is appropriate for areas of interest in the contiguous United States (CONUS).\n",
    "\n",
    "Now, let's plot our state shapes."
   ]
  },
  {
   "cell_type": "code",
   "execution_count": 5,
   "id": "20f329ea-ad24-4d94-b8ee-dd03ddd3e790",
   "metadata": {},
   "outputs": [
    {
     "data": {
      "text/plain": [
       "<Axes: >"
      ]
     },
     "execution_count": 5,
     "metadata": {},
     "output_type": "execute_result"
    },
    {
     "data": {
      "image/png": "[encoded data removed]",
      "text/plain": [
       "<Figure size 640x480 with 1 Axes>"
      ]
     },
     "metadata": {},
     "output_type": "display_data"
    }
   ],
   "source": [
    "# plot geospatial data from our GeoDataFrame\n",
    "gdf_states.plot()"
   ]
  },
  {
   "cell_type": "markdown",
   "id": "4a957ddd-c0b0-49b4-b553-6282b66675a2",
   "metadata": {},
   "source": [
    "Notice the units of the axes. These are the same units as described in the CRS, Cartesian X/Y in meters.\n",
    "\n",
    "Also notice how we didn't specify which column of the ```gdf_states``` GeoDataFrame to plot. GeoPandas automatically plots the column named geometry because, by default, that column is the active GeoSeries. If we had multiple GeoSeries columns (containing geospatial shapes) we would need to specify the column name if we wanted to override the default plotting of the geometery column.\n",
    "\n",
    "What if we wanted to plot our data such that the axes show latitude and longitude instead of meters? We could reproject to the geographic CRS EPSG:4326 for the plot like this: "
   ]
  },
  {
   "cell_type": "code",
   "execution_count": 6,
   "id": "2464f396-d8af-47a0-aeaa-35888e73df4e",
   "metadata": {},
   "outputs": [
    {
     "data": {
      "text/plain": [
       "<Axes: >"
      ]
     },
     "execution_count": 6,
     "metadata": {},
     "output_type": "execute_result"
    },
    {
     "data": {
      "image/png": "[encoded data removed]",
      "text/plain": [
       "<Figure size 640x480 with 1 Axes>"
      ]
     },
     "metadata": {},
     "output_type": "display_data"
    }
   ],
   "source": [
    "# plot geospatial data from our GeoDataFrame in a new CRS\n",
    "gdf_states.to_crs('EPSG:4326').plot()"
   ]
  },
  {
   "cell_type": "markdown",
   "id": "afbfc8e4-b43b-4c8d-93d6-44c256b8b1bc",
   "metadata": {},
   "source": [
    "Note that we didn't overwrite our GeoDataFrame with a new CRS here, we are simply reprojecting for the plot and not saving the result. You can double check this if you want by looking at the output of ```gdf_states.crs``` again, as we did earlier. We'll see how to reproject a GeoDataFrame \"in place\" (overwriting the data) a little later.\n",
    "\n",
    "<div class=\"alert alert-info\"> \n",
    "    \n",
    "# Exercise 1: Read, check CRS, and plot shapefile data\n",
    "\n",
    "kerrie: prepare another shapefile of states in a different crs\n",
    "\n",
    "- load the shapefile into a geodataframe\n",
    "- show the crs information of the geodataframe\n",
    "- plot the geodataframe in crs 4326"
   ]
  },
  {
   "cell_type": "code",
   "execution_count": null,
   "id": "343269a2-05e0-4c9a-a05e-01db1f1b05bf",
   "metadata": {},
   "outputs": [],
   "source": []
  },
  {
   "cell_type": "code",
   "execution_count": null,
   "id": "522ae106-5dce-43bf-8895-94e7376b763d",
   "metadata": {},
   "outputs": [],
   "source": []
  },
  {
   "cell_type": "code",
   "execution_count": null,
   "id": "7d04035c-cdb1-4269-b0fe-b38dcc8fddfc",
   "metadata": {},
   "outputs": [],
   "source": []
  },
  {
   "cell_type": "markdown",
   "id": "e277104e-b6cb-4f0b-8cf3-2a89eb61e2e3",
   "metadata": {},
   "source": [
    "# VI. General Methods and Attributes of GeoSeries\n",
    "\n",
    "There is a lot of information you can pull out of the shape objects in a GeoSeries. Let's look at a few of the available options that may be useful. These methods work on the entire GeoSeries (all the shapes at once) and some of them also work on individual shapes from the GeoSeries. We'll only cover a few here.\n",
    "\n",
    "First, let's look at a single shape object in the GeoSeries. We'll grab the Mississippi multipolygon and show that it is a Shapely geometry object."
   ]
  },
  {
   "cell_type": "code",
   "execution_count": 7,
   "id": "5ff73b1c-5e6f-432b-a395-9b1a39a829c7",
   "metadata": {},
   "outputs": [
    {
     "data": {
      "image/svg+xml": [
       "<svg xmlns=\"http://www.w3.org/2000/svg\" xmlns:xlink=\"http://www.w3.org/1999/xlink\" width=\"300\" height=\"300\" viewBox=\"390479.73360554385 788498.8516342608 360464.132429959 588571.7386993071\" preserveAspectRatio=\"xMinYMin meet\"><g transform=\"matrix(1,0,0,-1,0,2165569.4419678287)\"><g><path fill-rule=\"evenodd\" fill=\"#66cc99\" stroke=\"#555555\" stroke-width=\"3923.811591328714\" opacity=\"0.6\" d=\"M 719751.3798814471,821718.5928733781 L 721088.0706856416,821136.9478578507 L 722609.6779746099,820837.00655686 L 724821.8406591588,820505.2584119388 L 725231.5356305483,820585.8738267049 L 725846.4932827385,820706.9154718473 L 726972.3894310788,821491.022456925 L 728309.219080737,821604.5119314236 L 728644.5552224811,821379.1765511979 L 728541.4834256917,821070.1027477497 L 725294.2096204124,820120.7207757838 L 724842.6815391121,819988.8169008325 L 720939.1632015178,820721.555171198 L 720014.7228603587,821156.3850783394 L 719618.0377047424,821520.6192767065 L 719751.3798814471,821718.5928733781 z\" /><path fill-rule=\"evenodd\" fill=\"#66cc99\" stroke=\"#555555\" stroke-width=\"3923.811591328714\" opacity=\"0.6\" d=\"M 711098.3284444257,834567.7002612305 L 711151.5772592868,834658.7505999467 L 711281.5512829848,834746.2222132913 L 711404.4461851002,834721.0802072719 L 711604.4721695936,834754.8868371575 L 711955.5771972423,834696.2594842258 L 712342.7091722463,835091.0583066263 L 712463.485595133,835047.4957365671 L 712483.3694916957,834883.4093414391 L 712565.8154127405,834660.6190594609 L 712656.7631148911,834274.0793988577 L 712684.0326040733,834133.7441667097 L 712650.6408956628,834011.8256579391 L 712472.6395313481,833949.8695220802 L 712304.8644383434,833746.247362054 L 711624.4391772782,833790.8974651112 L 711318.8968124366,833931.41015961 L 711094.5715516614,834390.4034616929 L 711098.3284444257,834567.7002612305 z\" /><path fill-rule=\"evenodd\" fill=\"#66cc99\" stroke=\"#555555\" stroke-width=\"3923.811591328714\" opacity=\"0.6\" d=\"M 694643.5849652005,822888.1584196879 L 696291.0142082673,823304.953233258 L 697911.0089289374,823396.7938530397 L 698724.932794924,824043.4046950738 L 699287.5597332485,824191.389212949 L 701945.9593595122,823453.278745956 L 702855.0802343967,823359.262077171 L 703955.1882098821,822976.9048946546 L 705048.7892276134,822596.9790773537 L 706027.3662796045,822532.7499774168 L 706675.8913010322,822490.2428306295 L 710807.0069145095,822151.8152521864 L 711007.3110712721,821970.7816039192 L 710854.0876925713,821674.6193011925 L 707323.9972124201,821925.5065474517 L 706063.8324021439,821977.6371117637 L 704238.7725838916,822053.4482050729 L 704000.8027132383,822090.5168462041 L 702152.9645341546,822378.5812966472 L 699394.7799596604,823248.3920563143 L 697465.526772351,822613.2317137182 L 695810.5576274487,822426.1615117212 L 694671.754077449,822630.0736763873 L 694643.5849652005,822888.1584196879 z\" /><path fill-rule=\"evenodd\" fill=\"#66cc99\" stroke=\"#555555\" stroke-width=\"3923.811591328714\" opacity=\"0.6\" d=\"M 683686.9240146315,837562.9065195929 L 683804.0080817483,837629.4063766157 L 685035.7077441495,837190.6306002586 L 685321.5000819482,837149.2396136071 L 686521.0464058961,836786.7584074058 L 686688.8501158498,836796.9799799973 L 687307.3863554841,836573.7328012886 L 687868.624156241,836200.1740645405 L 688198.7303718561,835819.4007489356 L 688475.5050707455,835573.9359862929 L 688458.8619876042,835467.08994906 L 688344.9216661999,835439.08468088 L 686884.2466582019,836118.4082298132 L 685193.7253498839,836804.5829646919 L 683735.2296574023,837401.5878940756 L 683686.9240146315,837562.9065195929 z\" /><path fill-rule=\"evenodd\" fill=\"#66cc99\" stroke=\"#555555\" stroke-width=\"3923.811591328714\" opacity=\"0.6\" d=\"M 681406.0343604545,820303.6573343776 L 682544.6186675879,821125.5308295459 L 683439.9094601403,822053.458915077 L 684095.6095373908,822572.89966077 L 684237.5440218521,822547.376035365 L 684238.48855294,822397.5763813568 L 683490.4280284843,821606.310401173 L 681969.6244094081,820385.5843001324 L 681529.4973348253,820128.5184247026 L 681423.3741028743,820187.8268728809 L 681406.0343604545,820303.6573343776 z\" /><path fill-rule=\"evenodd\" fill=\"#66cc99\" stroke=\"#555555\" stroke-width=\"3923.811591328714\" opacity=\"0.6\" d=\"M 674228.2954491245,817653.6189581554 L 674411.9671859402,817779.5415063875 L 675058.7779776504,817988.0882099748 L 676057.6833538114,818048.7958059509 L 676742.0472521154,818182.0990944698 L 676944.5548609161,818107.1888690571 L 676830.5093970373,817872.3829160394 L 676249.0222718468,817573.5946632399 L 674702.9151891811,817446.059974597 L 674329.7578417188,817529.2053895892 L 674228.2954491245,817653.6189581554 z\" /><path fill-rule=\"evenodd\" fill=\"#66cc99\" stroke=\"#555555\" stroke-width=\"3923.811591328714\" opacity=\"0.6\" d=\"M 659612.9427061935,818868.5359932311 L 662761.3625117864,818987.89818487 L 664718.7362569637,819062.654408767 L 665186.0085416307,820124.0658685487 L 665508.6469457076,821091.6872545436 L 665764.6302332594,820946.965606759 L 665566.4847153651,819837.2520157452 L 665071.9652166141,818686.0028123682 L 664711.2732577617,818022.3631772413 L 664171.4137611759,817216.2243537792 L 663923.9958567123,817188.2856199588 L 663842.2124402401,817351.6421691006 L 663484.0333770568,817474.8314547717 L 662864.9567601393,817365.6181751575 L 662331.4071297238,817271.5284708502 L 661960.6954104409,817154.9787384485 L 661725.3114495634,817237.3985397813 L 661732.7329264049,817546.6200055993 L 661654.1904043203,818078.6935202702 L 661252.7830794101,818248.7000007705 L 659501.2395297326,818476.0663094781 L 659612.9427061935,818868.5359932311 z\" /><path fill-rule=\"evenodd\" fill=\"#66cc99\" stroke=\"#555555\" stroke-width=\"3923.811591328714\" opacity=\"0.6\" d=\"M 412278.6868907034,917903.7095912333 L 412351.7695801323,918345.6682180796 L 412584.5750379745,918776.7884666789 L 412826.7622386785,919089.7266042272 L 413505.9825689609,919642.035181685 L 413841.5709906692,919742.4300676339 L 415387.46884183085,919828.1659347762 L 416789.51698545815,919680.0626200704 L 418600.6633764196,919392.3382181758 L 419863.9822442517,919309.2172713951 L 420838.7807472729,919393.0143730708 L 421806.6552873889,919596.11206846 L 423317.1366742063,920148.046322525 L 425091.5354968486,921113.1494144464 L 425357.1187175057,921451.7326141385 L 425660.26293246954,922130.7393174713 L 425926.85204940144,922975.1313079421 L 425958.109096026,923442.8045919127 L 425898.35673474934,925346.4600428512 L 425822.14581546385,925586.6007620035 L 425681.6663252995,925768.3374365708 L 424846.0400126415,926454.092259061 L 423556.23219592584,927336.7851325463 L 423402.0645194969,927488.1711137099 L 423104.83618007106,928045.6987030907 L 422171.5627583477,928604.2424831716 L 421836.0938797084,928977.6527901808 L 421807.87370800815,929727.5452189671 L 421586.60151903564,930449.7954143144 L 421558.0142151653,930790.5931920588 L 421594.9332634759,932203.8970061974 L 421882.6426122608,932761.4127067346 L 421913.82388671685,932905.7071398105 L 421308.00566718465,933231.3872387895 L 420996.6263246279,933300.9268700583 L 420547.7387182207,933073.3694825615 L 420362.4446414614,932915.4155976181 L 419785.7934270788,932265.6957306205 L 419533.3807127875,933037.7048971168 L 419245.8419245861,933717.5130247668 L 418786.7344652437,934607.6091964405 L 418770.2571644144,935140.7471594011 L 418923.35306360904,935887.5761071113 L 419460.8880474316,936914.1799025157 L 419905.19416757417,937376.1437541079 L 420860.0659374432,937991.6041883257 L 421043.4377349328,938236.6298834225 L 421438.5252609364,938475.3147562118 L 421763.22860991134,938530.4314371314 L 422090.5380045532,938398.7119582999 L 422188.10481684486,938297.6628083043 L 422554.6375481108,937579.8197410828 L 422572.5151112583,937471.7997181308 L 422363.3319998487,936874.3308003751 L 422387.99312400795,936442.1722761003 L 423186.10717303446,933833.9490703766 L 423745.23011097545,932810.7383011372 L 424259.13844054803,932201.5708750294 L 424839.3475166474,931684.8083409754 L 425608.6469957507,931274.4017136749 L 425986.0099986346,931144.5269385327 L 428380.72272575257,931258.7772163621 L 428953.3768044218,931995.882352812 L 429053.1515007773,932623.566834533 L 428940.81999801897,933200.4760594168 L 428930.048821601,933373.8858593405 L 428876.71155616106,934232.6101312194 L 428860.8566636897,934732.2420059429 L 428390.8906434368,934918.3132829667 L 428043.30171121366,935636.5873472077 L 427070.99295374186,936517.9528856311 L 426083.0702796473,937340.6372425042 L 425422.1542092488,938528.333490283 L 425010.8269172176,939341.0147773144 L 424697.37541697384,939935.4894774221 L 424505.2655984382,940462.3887788521 L 424268.82338858175,941717.9689124842 L 424039.94714421267,944260.0130987226 L 424056.9793482006,945922.4728956597 L 424218.2391903857,946485.729126542 L 424205.564233933,947235.4677037604 L 424022.765504326,947411.7191292623 L 423654.2127421352,947554.2473094783 L 423415.98200797266,948020.6582217542 L 423398.1916113502,948281.4895408761 L 423422.75130865286,948531.948370528 L 423516.23025233246,948740.7461111533 L 423815.65654899174,949224.759003962 L 424012.0495118179,949542.2593810476 L 424180.3156652468,949682.8285077128 L 424436.99721436703,949753.8020206937 L 424860.12632933125,949813.2653777484 L 425485.6589019784,949803.8783731863 L 426469.025551532,950034.4206528771 L 427016.5606918571,949870.9801183433 L 427272.2708903946,949671.3917527036 L 427425.03566326934,949645.2276540187 L 429697.29083278554,950607.988603558 L 430143.2089695415,950797.0175936193 L 430181.7892598718,950813.3735723377 L 430743.23322619725,951152.3605999382 L 431318.62591542746,951592.3653337948 L 432331.64726756065,952577.3225282856 L 432655.2940451568,952855.1153984091 L 432926.84026732185,953088.2125596278 L 432928.14594490867,953089.3334136883 L 433377.1649630167,953474.8212728802 L 433999.56481621886,954307.4080783417 L 434011.4141074516,954339.5468307815 L 434108.34709126886,954602.4684518566 L 434197.4553148807,955108.3583654577 L 434249.07599986356,956203.0850102262 L 434267.51288714254,956594.2189365892 L 433378.2786167444,957175.318443097 L 432986.3808328789,957256.7158011878 L 432453.3251224244,957320.1782132963 L 431701.2936132229,957217.0809112276 L 431180.6351455513,957024.8458500832 L 429758.97569262784,956359.0924460398 L 429218.43677523715,956106.0475074935 L 428395.5218168947,955899.5290656055 L 428317.40954623837,955891.5661905312 L 427161.6973541369,955773.8320167514 L 426610.35167357983,955825.6245081684 L 426282.45244394976,955954.9391110709 L 425748.90262612846,956230.4382594086 L 424901.487946935,956810.2122040903 L 423877.31634451635,958005.4569717092 L 423693.7249946633,958275.8861321615 L 423515.6408439097,958538.2226218263 L 423444.15507037065,958717.8713833487 L 423352.0129312072,959291.1309201116 L 423425.49662771245,960263.2385111039 L 423522.4955919415,960606.6788867948 L 423794.6342163254,961104.4210812284 L 424246.0453727395,961610.2106683422 L 424974.4762548325,962267.8244078174 L 425122.9077993113,962354.3397668554 L 425425.4968765047,962328.7843147439 L 425592.601186529,962254.8939507362 L 425866.65609051887,961902.3907549921 L 426124.1939598521,961475.9875741324 L 426615.66303476435,960886.2690597855 L 426893.65632409294,960609.6769579138 L 427431.7745207648,960234.0186010504 L 428449.36078753317,959725.228359604 L 431048.28044978896,958991.4413347685 L 431725.3887500439,958879.0961028911 L 432526.6182695931,958939.9886148244 L 432954.0848484101,959135.3948805603 L 434376.505252414,960010.3244730445 L 434382.491805448,960028.2672199211 L 434599.52560455725,960678.8170349252 L 434719.2413062697,961946.1465250982 L 434737.04355810664,962134.6535606148 L 434748.3620321601,962681.4377211429 L 434431.6462060175,964728.4459565491 L 434096.1782936084,967554.906950157 L 434053.34455205174,968634.2555529184 L 434189.35376607213,969922.9714270638 L 434253.9886143885,970149.0855043778 L 435666.9933941713,972570.2113133087 L 435726.49733076215,972659.8416296676 L 436468.81553104,973778.192673009 L 437078.33575395925,974391.7336649605 L 437887.42645541346,974534.0664437702 L 439553.19471356785,974715.9213631201 L 441329.0763858322,974801.4899852896 L 441514.32175801095,974788.5929439175 L 442189.833292358,974741.5958451271 L 444002.09303986625,974406.3325955778 L 445525.0520919202,974510.4106788917 L 446619.1606692032,975563.2325241673 L 446938.81671464955,976339.8934968087 L 446583.84791680693,976958.3407641875 L 446272.12468105723,977082.1415073673 L 445540.4230554584,977372.7942876293 L 444389.1017414864,977414.1390341887 L 442980.0088696833,976751.7422409902 L 440685.8753159563,976054.4492796157 L 437949.8753934481,975535.843237991 L 436958.7071242427,975884.9226972088 L 437027.943214886,977977.3476291613 L 437320.2458793778,980110.1843539961 L 438338.60647119547,984810.1374790225 L 438382.5298399673,985013.0004986137 L 438614.8117394819,985470.4733276017 L 439023.68078422936,985981.2328379377 L 439992.60584448074,986419.1843335686 L 441902.9605723774,986702.9758973633 L 443085.3379565406,987207.4796299431 L 443209.3100074712,987180.1654776591 L 443668.57566879864,985719.756649984 L 443663.981310135,984247.0864185151 L 443759.6088903271,983694.5571825419 L 443935.0558445357,983201.4196951876 L 444240.0742344982,982569.8584233111 L 444514.1479899122,982182.003730036 L 444711.2819048298,982013.3706994469 L 445050.750257233,981829.5174512197 L 445769.0456742439,981619.9355186889 L 446445.903957771,981675.9870337088 L 447030.11318437365,982073.1707095415 L 447519.52798028785,982666.3925878049 L 447752.4481421576,983186.6974626709 L 447920.00910074025,984212.6235634116 L 447856.1312145168,984401.0237364189 L 446323.46037838416,985769.1067333488 L 445780.92817335966,986304.3631065048 L 445629.2444388283,986508.704349859 L 445551.73520911916,986739.0495409081 L 445513.515726223,987127.492870183 L 445613.66198644135,987578.4863748989 L 445679.0872730629,987693.9724386672 L 445717.6924376465,987762.1185325456 L 445908.6121880014,987905.4736257826 L 447414.7216208588,988470.1128953444 L 448621.6059078259,989312.9968557858 L 449323.167279679,990267.5041904371 L 450943.27794432157,992061.65376402 L 451270.43632638414,992490.8685439422 L 451465.35702064855,992924.5719605148 L 451627.8639964223,993066.6343226408 L 451959.7785516418,993027.6445320393 L 452302.6184018251,993145.3797646316 L 452412.07232587377,993217.8464680159 L 452465.3191854769,993328.8997112428 L 452565.5432756185,993537.939635133 L 452708.65352129645,993690.1962686717 L 452986.6648132642,993810.7522768286 L 453262.06324505166,993930.1870353506 L 453440.69383526215,994092.3341182801 L 453496.3499615375,994142.8564870018 L 453437.48350757884,994374.1144368913 L 453059.349795477,994767.6515398833 L 453073.51741043566,995016.8427951648 L 453119.11928679375,995819.1152056868 L 453014.3986664098,996025.7458315574 L 452417.88320413965,995895.1214932773 L 452244.1783468243,995975.5641659193 L 452212.0361009893,996052.020615071 L 452499.51191196736,997260.1567365819 L 452526.9642772712,998020.0956313746 L 452474.5299966649,998497.1137361369 L 452529.97275862814,998890.358846877 L 452832.9088641534,999418.7526291631 L 453213.8536229775,999940.0837655612 L 453484.71167287783,1000310.8100351595 L 454128.34280195733,1000990.5570171945 L 454653.3928030195,1001407.735487204 L 459042.9177345079,1002134.394228358 L 460273.38965030195,1002565.9150116362 L 460998.9593839716,1003105.4010169783 L 461532.2846612943,1003724.2649447678 L 462769.41483823926,1005648.3010137834 L 462383.3705805585,1005794.3067064903 L 462271.111033822,1006361.9691790014 L 462072.1435603893,1006931.8409773664 L 461887.0236538635,1007234.6609139236 L 461522.4040020446,1007550.4011323198 L 460810.47259826685,1007848.321413008 L 458000.8523105022,1008306.1302460198 L 456102.3241764037,1008621.6775430337 L 455495.6291507667,1008891.9240821998 L 455016.4014169527,1009246.8142002345 L 454744.2594963148,1009601.1286526517 L 454506.8429050834,1010013.0092319818 L 454426.40471971757,1010299.0048731524 L 454409.3994472259,1010632.7527976981 L 454433.32713655056,1010901.7540881701 L 454540.5726045149,1011197.3183376456 L 454933.31991021184,1011797.5482962965 L 455563.9863208631,1012343.0085777442 L 455904.3141965413,1012494.298585682 L 456446.31045498815,1012566.6598290011 L 456867.1175363159,1012431.9992772207 L 457479.9114061465,1012039.4142254412 L 457929.0022562621,1011538.0418284877 L 458926.44893977855,1010071.9636382377 L 459967.25776087836,1009232.964382153 L 460447.4653842391,1009045.7455361867 L 461991.3862669396,1009036.3155611323 L 462183.8812672384,1009135.549309726 L 462276.16930038325,1009352.3289221281 L 461885.15457109385,1012177.2494771415 L 461892.3907124753,1012400.7897041134 L 462025.05580348155,1012563.8793514414 L 463239.9178339808,1013316.0604654616 L 465798.341890593,1014891.526086707 L 466147.86920111603,1015222.137793377 L 466500.4556017742,1016032.8813096838 L 466445.72702652117,1016720.0924301757 L 466390.72459394496,1017410.7815838584 L 466400.7535793004,1017412.8519837438 L 466753.51767655025,1017485.6849145917 L 467395.42105243803,1017798.3173080479 L 467611.12171741895,1017988.1869971862 L 468119.8865179771,1018684.4813664133 L 468574.6835336819,1019690.3440863502 L 468688.9524062033,1020019.9946195161 L 468753.9982319691,1020391.6989224254 L 468773.35293389467,1022167.1976788867 L 467496.3567205297,1021966.155948775 L 466699.0586159331,1022114.0688278006 L 466021.5070321219,1022669.9762202166 L 465054.760517242,1023367.1869098471 L 464244.96468332584,1023760.1912632372 L 463471.46246288024,1023998.9109582441 L 463471.42453141994,1022916.3560682499 L 463814.77475442266,1022097.327895497 L 464414.2524591764,1021414.3192634829 L 464568.51896636223,1020618.845751647 L 464437.5927842469,1020065.1866248507 L 464350.2288925811,1019937.8750412705 L 464281.21288319695,1017711.8506120127 L 463479.96634718415,1017968.095663243 L 462747.85574080417,1018440.1417175307 L 461989.694017589,1018625.662089215 L 461556.73962560366,1018658.9097374765 L 460618.9352848911,1018567.0823399735 L 459740.0350828743,1018246.2814060078 L 459510.69815693295,1018108.4647180369 L 458826.75250353274,1017518.503695471 L 458647.5541350049,1017565.9671701029 L 458581.59121308726,1017583.4395325276 L 456934.3715787686,1017552.6116649493 L 456443.6283559387,1017656.6823829463 L 455691.84832408035,1017955.0946893381 L 454683.3594075528,1018110.3537771397 L 453951.3995977246,1018123.3614568525 L 453695.7522755057,1018288.4370141048 L 453053.3585029498,1019367.1826507214 L 452858.3358501786,1019888.328224602 L 452725.48193137615,1020547.6670722682 L 452756.37293606246,1021581.8092726527 L 452932.15563094715,1022962.8123031136 L 453153.50698813825,1024102.2146720196 L 453461.008478622,1025262.1031773797 L 453646.4240219017,1025511.156345117 L 454007.96593109606,1025855.5745989978 L 456232.0210235403,1027250.045532385 L 456548.2235145168,1027292.3731347497 L 456710.48610693845,1027245.2284063115 L 457139.305306138,1027036.7726444568 L 457799.1333802347,1026575.5964466308 L 458097.4198021092,1026594.1772468042 L 458198.9637974222,1026582.9970094739 L 458611.33138628316,1026782.8010976901 L 459314.3741337703,1027901.6444389065 L 460057.3413368323,1028609.6740657544 L 460829.05550589063,1028939.7868141514 L 461630.9918830706,1029048.3134254153 L 462011.37110773986,1028956.4392502897 L 462962.62995617266,1028179.9417475598 L 463517.4148969203,1028889.651004358 L 463686.16043555684,1029255.603757013 L 463770.20196538896,1029985.3647251612 L 463884.21310799423,1030361.9983879625 L 463890.3526002067,1030382.28124295 L 464227.586592008,1030757.0401891207 L 464922.84824942116,1030927.2806078375 L 465367.5685328563,1030861.2344563137 L 466104.85332784837,1030587.2954810809 L 466597.5618041616,1030322.912353002 L 467770.42976133357,1029268.4306336506 L 468416.0307528642,1028956.3771262714 L 468310.8591785457,1028401.1371316678 L 468327.78538362967,1027775.9832751697 L 468616.43947225064,1025932.1610864319 L 468761.68653154327,1025598.27949884 L 469009.25084711134,1025474.9295852277 L 469323.0168421155,1025551.9562350067 L 469484.2429253659,1025826.0899103454 L 469523.5877002513,1025911.5130078663 L 469842.37369942566,1026603.7197313479 L 470280.9812780183,1027670.2443387792 L 470249.8610003264,1028858.3116710267 L 470218.66056214186,1029980.2067575122 L 470413.09556663706,1031355.5952022953 L 470775.2855887273,1031876.0452547241 L 471327.3647141355,1032305.7782713498 L 471379.7972026336,1032402.3199244818 L 471167.3038926465,1032973.9637235805 L 470344.3660580099,1033768.7165536466 L 470207.88649250503,1033926.818276755 L 470003.7672873795,1034313.529796427 L 469844.7529210961,1035383.4448775534 L 470088.969638107,1036675.1736442009 L 470194.49911770097,1036936.6102959967 L 470484.8389342757,1037258.7303593837 L 470630.3009268576,1037341.4448465875 L 470904.94289649156,1037397.8478194608 L 471609.78867990355,1037365.434943479 L 471713.36744192615,1037305.4011946779 L 471909.59217378293,1036981.2518978135 L 472490.77750466246,1036225.447912901 L 472728.0823698423,1035992.6951662581 L 472888.1356153083,1035906.9884329443 L 473215.54960412416,1035956.4427943497 L 474421.6584595547,1036756.5422028268 L 474470.2116912528,1036788.757663781 L 475412.2876192343,1037669.2211603968 L 475521.18799032096,1037771.0179208298 L 476059.9980680565,1038351.6685167432 L 476896.6547879672,1039560.1115019774 L 477016.39930086234,1039733.1035606896 L 477236.5558352973,1040201.5284035394 L 477337.1205922361,1040631.0521556058 L 477343.94436022267,1041412.130889412 L 477713.14596150664,1042143.9961194941 L 478428.75673957774,1043562.9858890236 L 478552.8624394716,1043809.1351466546 L 478885.2771497637,1044468.5273670347 L 478916.51456659526,1044530.4977147821 L 479366.5311987594,1045989.7890136304 L 479437.56384298945,1046220.186278881 L 479176.4253060231,1046442.1280652229 L 478200.53462258156,1046246.0019461103 L 478188.05121368234,1046243.4938833095 L 478080.728875497,1046121.5026187476 L 477913.0550103927,1045930.9208547493 L 477477.1081416142,1044096.6437271946 L 476606.928693274,1042849.8425485761 L 476200.94876009924,1042363.9728559449 L 475361.80585656734,1042611.4396190293 L 474061.03441628854,1042865.046844265 L 473299.2744779878,1042934.8553856849 L 472215.00923127646,1042866.3407062108 L 469179.81426584366,1043364.3590363404 L 468516.2841987326,1043584.6710127216 L 467888.9391318514,1043958.8810985307 L 467544.98912298464,1044437.5810372683 L 467436.27639340074,1044722.0192639534 L 467416.3598948317,1045100.5573962525 L 467701.79393495223,1046622.7839982894 L 468072.4908980193,1047358.749103676 L 468192.6976829238,1047835.7929433126 L 468250.9419984344,1048341.3951953669 L 468181.3223065121,1049128.652669678 L 469403.5957923654,1049682.327153837 L 469966.5258981359,1050131.6963581287 L 470261.16858657723,1050441.5047967304 L 470554.88636574603,1050863.824442673 L 470679.9166794877,1051177.2808511762 L 470682.73672545,1051599.3779794339 L 470585.2462905108,1052606.0456656942 L 470537.13741276663,1052785.6095167072 L 470363.9439891913,1053065.066731885 L 470259.4498689544,1053216.5218604195 L 469378.4852850904,1054012.021159587 L 468911.0952617585,1054215.6577461045 L 467925.7385578097,1054361.6213382643 L 467452.47011767473,1054260.193779146 L 466933.76468686,1053738.9117367805 L 465872.6466675621,1053080.315223378 L 464991.763758867,1052375.3598779985 L 464688.7736212991,1052259.004539532 L 462483.87612881087,1052690.953542714 L 460829.29144722165,1053352.861705247 L 459715.3406114435,1053886.8572678184 L 458406.74808947276,1054745.897391973 L 457069.8244603414,1056161.8377119496 L 456738.21535334736,1056602.5528060002 L 456334.0118388998,1057363.3544785317 L 456144.5104299446,1058682.237711119 L 456171.30279092735,1059253.0839314926 L 456993.8623790159,1060947.4789394508 L 457462.70249603427,1062162.56533205 L 457658.0716144998,1062995.524068083 L 457708.94492501527,1063472.2947275091 L 457672.2243623399,1064312.1642404227 L 458032.93638973543,1064819.4667750932 L 459888.51776677504,1063166.6636665238 L 460324.9563986757,1062597.912373859 L 461344.9528220698,1060885.4550393405 L 462312.56323958526,1059571.0631177076 L 462815.2702637643,1059083.6225090458 L 463563.7103073688,1058553.3296802875 L 463966.80381656217,1058362.242741955 L 464900.8102936772,1058042.6526076638 L 465562.99179982,1057909.8843994495 L 466776.53363598796,1057794.992424589 L 467238.8992481924,1057872.3737979832 L 467495.85013410024,1058032.1925417106 L 468004.0509503029,1058486.0001365272 L 468178.5184883679,1058820.436698194 L 468210.17539341125,1058881.1232438958 L 468268.38053181826,1059017.8616001774 L 468284.3071672854,1059384.5259716166 L 468106.223603334,1059953.344623414 L 467492.9127141825,1060788.6652111213 L 466308.25908180844,1061592.8528965977 L 465217.9481535951,1062054.6275714962 L 462109.70812431996,1062994.385343671 L 461096.34743866633,1063562.2894598504 L 460592.59959959856,1063968.4243236051 L 459760.104268174,1064639.7528536748 L 459235.27891911374,1065698.4516580875 L 460150.193788483,1066426.8577142095 L 460227.0605714962,1066488.0650030517 L 462034.6998175326,1067762.775383829 L 462565.8205177287,1068085.9378020598 L 463225.55361146084,1068487.4333351948 L 463686.3214461318,1068934.9172243841 L 464387.0079920278,1069921.029545542 L 464982.85579787794,1070522.4322181877 L 465208.061106625,1070697.9865472615 L 465513.30333593,1071105.8157768985 L 465991.95036914793,1072008.0623164484 L 466112.5421306262,1072561.4574663101 L 466069.6285578172,1073438.9773324553 L 466006.07324321015,1073691.403654348 L 465659.131114704,1074389.7620503407 L 464909.5655595163,1075380.2856298224 L 464440.0307858236,1075731.2651651886 L 463804.22969711805,1076002.6321541534 L 463407.922343027,1075700.3013151744 L 462685.1356957118,1074812.6389895678 L 462522.92187879723,1074366.11519786 L 462468.3338467581,1073538.3288381738 L 462324.5376282118,1073044.308094645 L 461841.19222693733,1072212.3768739107 L 461794.66793618526,1071498.7398060136 L 460727.93806005287,1071240.371176386 L 459063.1312910975,1070629.92206704 L 458312.31672194006,1070187.8770464163 L 456677.39749842556,1069412.0414911255 L 456023.1966909366,1069300.9512921108 L 455504.20222038944,1068710.619761999 L 455393.0799103397,1068666.4910217696 L 454900.989133578,1068684.9896155894 L 454632.09879682935,1068817.0371955873 L 453915.7301717926,1069356.3330602502 L 453336.9983813483,1069947.400152168 L 453044.84583457315,1070312.6044922904 L 452826.18990037136,1070695.7592578074 L 452282.52558385325,1071983.0035256008 L 452015.6019647461,1073115.4451792638 L 451996.8215078097,1073313.737624381 L 451961.90670426516,1073682.3953447056 L 451946.646828122,1074122.3175627603 L 452012.57386858395,1074743.1829719343 L 452065.88130639686,1074829.7795803081 L 452268.3642826914,1075123.0180729015 L 452749.2981820293,1075593.0012935032 L 452957.36137899465,1075741.6883168155 L 453264.3049067758,1075814.2464431396 L 453359.5250964108,1075913.7209606369 L 453937.4870096133,1076864.653179732 L 454199.02232085256,1077601.0363630673 L 455030.5730711013,1078619.0375494552 L 456269.1299895256,1079616.4541482925 L 456781.70487790066,1079962.011048827 L 458388.4164148345,1080696.960440554 L 458846.61189481936,1081013.805814033 L 459921.42175332713,1082094.4585068845 L 460508.07041058893,1083202.9023956268 L 460682.99446206656,1083955.176047884 L 460689.4596900438,1084252.7634359808 L 460690.35598664376,1084294.0246712428 L 460436.74736313155,1084651.7912507413 L 460075.07813509135,1084846.7740454178 L 458518.7932616552,1085328.9453681193 L 457251.54779693735,1085661.672593738 L 455081.7392048235,1085982.0421905932 L 454181.5677044566,1086251.662362207 L 453385.2606514884,1086245.3145884646 L 451666.4413985822,1086009.7949060467 L 451270.90106463654,1086051.3723695443 L 450878.52853453544,1086155.3470849881 L 450413.64133291965,1086529.3162254668 L 450208.8779017105,1086998.3177617877 L 450126.5570082972,1087724.7821171018 L 450181.76340257126,1088190.2748841255 L 450786.0613391924,1089790.4385877685 L 450826.30315550667,1090273.9553060448 L 450667.1701239314,1090349.9568667535 L 450099.62554322486,1090848.8625428618 L 450188.19271676615,1091565.3088299958 L 450296.70055702457,1092443.2979588828 L 450258.7348844585,1092999.7459763966 L 450233.5363600861,1093369.0813208506 L 450202.0537144137,1093830.5348631868 L 450456.01530162623,1094942.6478740477 L 450557.1646646148,1095117.503619607 L 451003.95960677706,1095458.6972260098 L 451207.66832019924,1095977.0820166473 L 451578.32367918984,1097297.55832149 L 451701.7727330847,1097512.6779060531 L 452204.42095545254,1098011.6550627926 L 453099.2497192664,1098737.246881061 L 453394.09295509773,1098730.2595797325 L 454191.8664344785,1098858.403263094 L 455147.9377497025,1099215.436498155 L 456821.9549698183,1100977.363614338 L 458227.44536548277,1102756.0164426675 L 458432.9034626795,1103132.0546156564 L 458727.0463705662,1104168.0367082981 L 458771.15330393816,1104465.8713349982 L 458770.8384958918,1104490.5990487973 L 458767.37864581484,1104762.3354550123 L 458599.9144449134,1105888.4366952989 L 458612.8548604102,1106050.9563766208 L 458655.0495761718,1106580.9556444855 L 458615.99789226806,1106731.1956175405 L 458546.95754311915,1106996.8193151783 L 457958.4529069884,1108035.8304786775 L 457806.2372116099,1108228.6168393593 L 456999.6251015396,1108787.2888328526 L 456853.06217552756,1108954.2373132121 L 456726.25513676193,1109298.6528802027 L 456828.07079613826,1109474.4456682452 L 456952.63167716033,1109557.777822892 L 457091.6046140644,1109754.384619998 L 456893.5701867691,1110970.6300070065 L 456217.67057487904,1112441.0791275285 L 455810.4121135557,1112968.4712924194 L 455478.634673541,1113308.5820278237 L 455219.6728914043,1113523.284239469 L 454309.9210006951,1113758.6282135411 L 453833.1108330806,1113669.5891074436 L 452615.88841631904,1113194.4384936832 L 451776.14529838256,1112689.1851407636 L 451678.82164866565,1112586.3098131916 L 451441.5899014819,1111646.1245671832 L 451550.3155865414,1111450.3305777626 L 451982.616794055,1111136.2446073175 L 452193.32627408305,1110842.4368983957 L 452223.2013268445,1110669.8742746033 L 452182.3591321651,1110519.2745883279 L 451998.929470927,1110300.690253643 L 451703.0985052282,1110094.7901528652 L 451657.81241111545,1109999.8374395897 L 451614.7056306206,1109577.0384532467 L 451870.9873692937,1108853.5768987658 L 452354.55129329435,1107077.704378633 L 452371.04497931263,1106728.8150868586 L 452317.45138910686,1106301.806362533 L 452169.74931018014,1105685.7270716855 L 451214.6284909809,1104275.703491794 L 450620.71157727786,1103847.7055156953 L 449863.0172753855,1103579.3324842693 L 448912.97524156875,1103476.4325865754 L 448429.4144084775,1103519.6686091216 L 447843.0368607237,1103651.6766671538 L 446405.658105281,1104175.2592146462 L 446118.27170467307,1104353.7935471628 L 445291.6125225292,1105076.4909463038 L 444958.0512810383,1105536.7501976774 L 444828.98841812514,1105807.3335819896 L 444694.99680078204,1106369.7360425442 L 444672.3532305242,1106717.4205693004 L 444752.06047952117,1107364.5699305055 L 444927.20081751543,1107794.5244611306 L 445204.6797434716,1108316.6917356104 L 445904.89556255046,1109237.1206548272 L 445725.13593567925,1109526.147408081 L 445633.9464693024,1109784.1210864028 L 445629.5409917876,1110217.4399617214 L 445820.0857259795,1110489.5436207273 L 446018.34004696796,1110640.2475852275 L 446923.7538473083,1111957.0229517587 L 447357.57962204696,1112252.232486741 L 448136.43127193087,1113124.1604921075 L 448504.2955911986,1113818.2520284802 L 448704.6355373725,1114957.753420727 L 448702.2608958628,1115187.0494306071 L 448644.972203252,1115970.8383271748 L 448647.26901716925,1115976.9658602665 L 449008.70643513364,1116941.3565113682 L 449393.2208474695,1117282.129158915 L 450092.03411779663,1117718.7615668324 L 450665.983104946,1117852.9224494826 L 451220.37789611454,1118047.3609790122 L 452033.5602088769,1118708.8318882522 L 452287.2906010161,1119232.5754109228 L 452196.58931550017,1119462.2711572456 L 452391.7570626405,1119960.2201156777 L 452449.0793915339,1120606.5513104359 L 452654.31446354924,1121003.556019331 L 452654.3169188232,1121159.0125216872 L 452552.13316792547,1121516.4197511675 L 452204.5584772325,1122053.0062184185 L 449731.6922541078,1123938.282507552 L 448871.11280811497,1124250.216529134 L 448416.0575714515,1124335.772855853 L 447817.5348366752,1124428.024243927 L 447570.4626674717,1124561.309253794 L 447433.3890422796,1124792.9525037708 L 446802.90980797674,1125603.6168854549 L 445367.5999234079,1126223.4755166979 L 444963.9163165637,1126467.8258662587 L 444868.11059281667,1126603.2455724366 L 444828.710630041,1126763.6458566287 L 444703.3690921886,1128264.674524349 L 444888.97408312827,1128877.8140971502 L 445225.1175615283,1129422.6167595796 L 445498.0405969683,1129865.020239574 L 445894.601403667,1130220.3012227567 L 446296.12558154686,1130420.3835354594 L 447610.61583153007,1130593.1164920202 L 448195.9897926152,1130572.284419832 L 448461.93457610515,1130477.4182093653 L 449178.90234245936,1129797.4300782979 L 449297.3818813123,1129467.8339457335 L 449441.7419893548,1129351.4770806564 L 450097.686281,1129283.2935357313 L 451515.3006218906,1129258.5659830824 L 451884.53647251986,1129327.033908051 L 452890.7107536459,1129361.7721628607 L 454114.33033949457,1129639.2136181006 L 455221.2356917029,1130174.241545621 L 455390.88962537545,1130383.2085374603 L 455582.18282112665,1131668.8679218611 L 455669.4188208751,1132255.3487545534 L 455723.50422256434,1134102.5042606767 L 455586.35820406524,1135426.0437606554 L 455247.69769170723,1136322.3289384614 L 454013.635878512,1138503.8218354508 L 453570.38898629625,1139481.876572159 L 454877.95969386067,1139797.1728169231 L 455165.3504714345,1139809.4801677205 L 455351.3010276674,1139932.5777652909 L 455469.8682435936,1140096.1206229697 L 455463.1799335789,1140352.2191234382 L 455597.68520929426,1140485.4015802958 L 455946.82558481314,1140431.2917099372 L 456259.0222005581,1140501.2651528374 L 456207.5250726261,1140810.9346652015 L 456410.3365242472,1141138.9522884912 L 456694.78741504706,1141158.8727952798 L 456828.20716118737,1141654.7860776004 L 457682.2599079751,1142677.3111277453 L 457996.47418700956,1143263.5040582633 L 458200.4396352759,1144256.494130628 L 458396.05351303564,1144872.08399535 L 458481.7385039246,1145371.9354687764 L 458487.1614426291,1145908.9673157712 L 458321.4801091434,1146389.892382806 L 458021.41493124346,1146796.9561882238 L 457616.31468713377,1147068.6442804465 L 457019.8809635826,1147203.720755689 L 456250.8228360672,1147194.9234168143 L 455747.1193912408,1147023.9873356996 L 455210.989287483,1146707.8503883176 L 454972.0581613029,1146465.6109228858 L 454761.18928383273,1146153.6169869555 L 454563.71558546496,1145595.0279353585 L 454269.20363994094,1143754.5066103414 L 454177.5060651494,1143471.7342940255 L 453901.2164166655,1142972.385302511 L 453750.4691456719,1141972.8929979457 L 453604.3055934289,1141616.5592647342 L 453410.3696405307,1141580.2796390879 L 452897.8164374607,1141948.0204919034 L 452465.50702823716,1142387.5563353284 L 452077.2043488042,1143152.6797648144 L 451981.27395277214,1143407.5101427604 L 451763.1725315086,1143986.9311615294 L 451606.2696934004,1144186.7989484202 L 450716.7831970672,1144821.0431707192 L 450916.8234674735,1145527.7879709676 L 450884.1922000039,1146143.5579228844 L 449449.0727344048,1147899.3203392217 L 449420.3160638645,1147956.311207535 L 449288.4482597663,1148217.661234104 L 449217.0589530078,1149866.2866329458 L 448934.2621365403,1151425.9821459148 L 448948.5878495375,1151627.836863893 L 448951.1607327375,1151664.091540546 L 449072.06801210425,1151943.4115200466 L 449079.4923872608,1151988.6705285136 L 449137.3542458398,1152341.4187286603 L 448950.52926062816,1153728.972481366 L 448983.66329938336,1153852.200746748 L 449123.6412088735,1154013.209274913 L 450002.9099071096,1154691.069322799 L 450466.9150856272,1155048.867590919 L 450879.48553718906,1155484.871500695 L 452040.132447881,1157482.5156040047 L 452494.6984311141,1158182.3158305262 L 453401.48345531424,1159238.1700514266 L 454005.6408745831,1159703.97894146 L 454310.7156318564,1159939.2289232789 L 454403.84889559756,1160011.050825958 L 454874.20998559287,1160576.6408047243 L 455240.39903767727,1161120.4494993386 L 455729.2757125997,1161846.595747386 L 456161.54307067965,1162819.3770723795 L 456250.27509837307,1163019.0945904832 L 456242.25400945294,1163958.5603244763 L 456156.5118174198,1164974.625522561 L 456153.68452902,1165008.1311859572 L 455970.62183429714,1165414.5999172195 L 455500.86185629043,1165783.5777127612 L 455223.7199718488,1165917.7947435966 L 454931.7913957129,1165986.1692623754 L 454469.67582721484,1165941.8381004843 L 453918.6090608122,1165747.6610660632 L 453455.83041307377,1165399.631388931 L 453177.1141148245,1165030.1697518972 L 452837.39235758164,1164403.8393021212 L 452641.18008394656,1163826.984398717 L 452588.9873829865,1163390.642273093 L 452605.7155702369,1163168.7568602292 L 452873.35309706646,1162334.7511563227 L 452890.16447227355,1161617.175249574 L 452822.2622281896,1161065.6421498284 L 452556.76745635667,1160423.9638493296 L 451899.02756378107,1159480.860896643 L 451324.7163650592,1158785.5380111292 L 450661.838235248,1158225.478525638 L 448799.38077627,1157195.2349630382 L 448171.72127622133,1157018.3494536644 L 446552.14684949425,1157041.3005217912 L 446021.848330139,1157162.020350483 L 445552.4777017271,1157340.6527521845 L 444204.82491923583,1158031.819964614 L 444021.1034421951,1158166.615651468 L 442895.0196027978,1158992.998058823 L 442567.4895832776,1159332.4667332123 L 442473.5349514661,1159509.5294418184 L 442441.2357891598,1159804.9809303458 L 442475.3643699826,1160078.2922713975 L 442760.81347437017,1160709.008402782 L 442994.5340234157,1161011.638610017 L 443283.77401683014,1161192.747129855 L 443968.09116672626,1161161.0663252438 L 444653.83204722265,1161402.4496101327 L 445134.2933298134,1161155.6793250025 L 445420.1670816958,1161150.9654975045 L 446580.25845617894,1161788.9594278813 L 448002.26424068963,1162422.2740195587 L 448256.2185655654,1162494.9666343592 L 448788.79894492164,1162438.2397108562 L 449441.19844731747,1162819.1965099063 L 449552.82092952507,1163030.3326971217 L 449582.4935779062,1163275.8455532694 L 449898.3326612304,1163801.6171542346 L 450542.1422558826,1164681.4031906014 L 450694.0252522206,1165340.247339367 L 450590.9594969008,1165951.935417795 L 450581.05009222106,1166010.750405176 L 450212.5400451541,1167043.413441028 L 449733.4844214266,1167874.0580812613 L 449122.12782392063,1168561.18465337 L 447782.87683357176,1169487.4429166939 L 446315.74998491356,1170198.0437751315 L 446071.79396039806,1170265.3494246546 L 445720.5958231112,1170263.014337969 L 445391.29530005343,1170097.1965542638 L 445137.8945114439,1169614.0821465077 L 444958.0137873861,1168985.6497363884 L 444946.95414100366,1168357.3013044158 L 445128.0172569169,1167391.16894505 L 445800.79967352585,1165298.6257228937 L 445818.4277788354,1165088.4049971618 L 445242.5810347363,1164233.454811231 L 444777.38968807866,1163779.6704479773 L 444310.8870986544,1163511.3539248698 L 443615.21949697396,1163226.3202279985 L 442508.7542971043,1162889.513265954 L 442189.1402279248,1162867.7942745597 L 441529.2390168539,1162935.5004623488 L 439862.7723796658,1163329.504352664 L 439784.69932491065,1163508.8512162378 L 439924.4813964232,1163704.72117082 L 439974.27331427607,1163841.2916935463 L 439996.6536875718,1163902.6788748896 L 440018.11533564894,1165012.9741235883 L 440085.91206194536,1165367.7086329004 L 440821.643000967,1166038.0268046686 L 441109.96762447635,1166104.196366915 L 441532.30640649615,1166299.2343991518 L 442153.7242036781,1166758.393915898 L 442308.4437426892,1166956.522171266 L 442390.85022795014,1167323.5433590605 L 442896.3147833852,1168419.4485856183 L 443231.1161065948,1169033.8584639772 L 443782.4142715012,1169569.1223707974 L 444371.9036097434,1170290.0969673262 L 444286.07656436716,1170823.5214695784 L 444065.074433178,1171207.848942009 L 443446.36720178317,1171530.099688279 L 442190.3502012888,1172315.3656355538 L 441231.6562351921,1173081.6790504565 L 440873.8518000322,1173490.2995744313 L 440798.08935210906,1173576.8287918153 L 439813.57473568385,1175239.106000848 L 439385.0829654292,1176107.6585158918 L 439244.7082265151,1176700.5967382037 L 439302.53119129944,1176985.474813973 L 439334.7181685355,1177144.0619468724 L 439637.57287956134,1177540.4023705632 L 440065.8848408564,1177765.4697568615 L 440950.44497070555,1177954.9355059909 L 441712.7840756715,1178008.3681662534 L 443610.3312111599,1177880.2324444975 L 444231.1440348432,1177890.2520066344 L 445006.89624528034,1178050.5635746424 L 445604.1157289199,1178291.771043869 L 446195.4346724619,1178678.8954965607 L 446892.58607004926,1179300.9670857077 L 448067.50288415136,1180656.4229289005 L 448429.60040759813,1181225.028384254 L 448678.63263053657,1181963.9004729453 L 448715.8815400461,1182734.422535302 L 448408.4857813311,1183681.5552249486 L 447804.46485107805,1184745.6057352703 L 447009.33362594474,1185418.746260896 L 445638.92585302907,1186427.137924269 L 444497.38250000274,1187128.7125361694 L 443509.08974327287,1187505.3387878656 L 442518.6426649713,1187651.3290472003 L 441443.05131031567,1187632.6248146414 L 440753.990490564,1187751.9827121252 L 440126.4662053858,1188074.4796420324 L 439581.204235325,1188614.0082937893 L 439134.4145312131,1189270.369561739 L 438947.65942282404,1189919.456235913 L 438973.7032119583,1190725.9890881793 L 439101.34450121695,1191172.3210125403 L 439472.49927852285,1191801.7046140542 L 440003.78401503194,1192304.7239563044 L 440653.6495540591,1192606.1560888782 L 441558.41594101273,1192755.753983344 L 443199.7788971494,1192864.260847851 L 444294.8725131008,1193018.21020015 L 444968.1033701073,1193326.1963864889 L 445241.61889421125,1193532.6442484164 L 446825.8083736138,1191711.2416313638 L 447889.3958856901,1190333.2393897066 L 448389.52680371073,1189956.4241415847 L 450106.43073615327,1189178.5713738145 L 451175.3466228663,1188640.507043387 L 451867.0932161824,1188409.7984069313 L 452556.0552893161,1188413.56413283 L 453264.09460999916,1188638.1745651637 L 454813.91379773896,1189545.776573953 L 455446.0785552519,1189733.9615648414 L 455936.64089451864,1189822.183590662 L 456801.5537319224,1190182.2430960117 L 457057.25541435817,1190446.4097222427 L 457081.2999198157,1190514.5954112057 L 457292.4966400555,1191113.5667996681 L 457334.4483553616,1191647.2307293175 L 457297.50443885365,1192048.3471374619 L 457175.8607424968,1192121.5173239375 L 456767.7285667308,1192204.876205381 L 456611.3299946821,1192713.8554055418 L 456228.2875540252,1193353.5180988316 L 455615.1505742565,1194106.4864523746 L 454840.7847350535,1194685.426012242 L 454368.9344578742,1194956.6445618586 L 453671.438014543,1195039.8608256334 L 452996.5811165964,1194781.0987981465 L 451716.8727786163,1193950.3336439363 L 450628.57466131897,1193619.3843637018 L 450058.02332203434,1193597.3530057739 L 449203.0979245672,1193585.340629563 L 448364.481388432,1193981.0928805599 L 447041.7332200631,1195288.7626570272 L 446163.07477638475,1196349.1600703092 L 446260.95204220666,1197309.2688345162 L 446539.12718664046,1198230.17196691 L 446401.18615997967,1198490.5935146539 L 446689.21593855385,1199127.6498810207 L 446733.2670864955,1199596.8461572253 L 446349.5540941261,1200002.8814535951 L 446306.83492078696,1200463.7277306772 L 446545.2607589575,1201118.6215557377 L 446938.2670176334,1201821.4942073617 L 447223.59562028956,1202168.3744366223 L 447642.61645267793,1202283.0489919598 L 448048.8772328992,1202176.2498947757 L 448490.4404376592,1201956.0534506359 L 449083.61776385736,1201529.4411490024 L 449641.6019037755,1201041.7626282903 L 450361.27471591166,1201183.9177802964 L 453056.26201876136,1201594.921775894 L 454658.3221402346,1202036.8026079002 L 456439.507909828,1201017.6028459289 L 457263.2287934533,1200659.8624019776 L 457956.6558257384,1200625.9586056801 L 458512.4759599279,1200767.8003055947 L 459496.33949218644,1201203.6215350176 L 460153.70205289265,1201801.0122484672 L 460375.71086761623,1202169.621054803 L 460516.5125294633,1202600.5218000729 L 460583.0308534595,1203046.4146242705 L 460512.7643465312,1203325.2004640454 L 460486.0190967843,1203431.3176121076 L 460234.29427073436,1203930.5731962495 L 459744.0166055449,1204390.6353810194 L 458887.7089402679,1204916.8317694562 L 458212.5038579757,1205048.1604043222 L 457630.81955016614,1205144.6669936897 L 457420.5093659221,1205179.569512401 L 456455.98685841553,1205431.8048217045 L 455578.4606962406,1205811.8710386471 L 454833.8747541796,1206268.6577743327 L 454376.00664201553,1206886.8943988888 L 453633.2245484499,1207872.8659766533 L 452931.33870432776,1208960.2714005515 L 452726.34830782964,1209438.7922408816 L 452369.8051005777,1211077.8977224156 L 452362.68193606084,1211876.303243308 L 452605.95668734657,1212496.1583964354 L 453216.800237888,1213184.252581024 L 454639.3022277573,1214362.7267784218 L 455368.53020160866,1215167.6752167419 L 455682.74573346355,1215514.585914647 L 456341.21800898475,1216453.625056495 L 457511.9391369528,1218408.931519578 L 457674.7815472523,1218815.1846224584 L 457690.6121196668,1218982.1097517295 L 457725.57809101423,1219350.8445068593 L 457543.4731041143,1219902.8047530174 L 457119.3623699047,1220340.7919564648 L 456472.74306590226,1220586.0734223186 L 454285.478138575,1220940.5680950675 L 451335.749843673,1221531.7758438245 L 451288.5258797767,1221550.6539221918 L 450765.0890180761,1221759.9242972562 L 450457.2460923005,1222074.1027869226 L 450249.85375485336,1222643.5880815426 L 450021.76245908433,1225644.2593937458 L 450103.462452834,1226534.2275083817 L 450327.27441230207,1227338.6756715989 L 450579.50543059653,1227630.610159056 L 451366.2087742548,1227683.4699077646 L 452035.8011066213,1227357.4322527286 L 453233.3235364859,1226313.2723541344 L 453839.9207432465,1225983.754012875 L 454224.3603605092,1225989.8215510987 L 455013.46631824435,1226222.8560488173 L 456503.88619757304,1227303.19043905 L 457078.92156791233,1226238.765384586 L 457936.6684805353,1224444.8296002946 L 458155.2803247306,1223772.680154296 L 458445.20181619696,1223287.264560682 L 458945.7907480216,1222943.2236325173 L 459711.8925856437,1222693.6885083944 L 460609.4693613284,1222738.4434400848 L 461151.8056572603,1222919.9094295262 L 461564.2788377512,1223254.555896203 L 461771.0832659345,1223604.0521181473 L 461949.7848603842,1224560.6398198039 L 461897.4565811219,1224982.4582319092 L 460966.0329898179,1226269.3192250635 L 460226.87159635336,1226821.6619320405 L 460077.03505958477,1227095.65040184 L 459226.56483543565,1229235.5333190497 L 460204.1633433938,1229764.2966834283 L 460754.56108810566,1230027.7883188426 L 461338.3242444521,1230196.3884493127 L 461926.49043667276,1230221.2224159192 L 464532.1838991337,1229819.6294264956 L 465500.54526030226,1229808.1584386914 L 466725.3924345404,1230031.486121399 L 467606.0254299929,1230354.2221476666 L 468048.2422442114,1230682.8854986485 L 468287.1281975667,1231130.568990744 L 468437.3399689858,1231964.777668907 L 468371.4134100607,1232628.1948388543 L 468138.49185654765,1233352.6916793755 L 468194.96756053384,1233764.3802227906 L 468311.92958858365,1234124.4840488588 L 468667.3706022707,1234741.2252472956 L 469311.2509774882,1235686.8486257212 L 469485.9403526311,1236141.880490854 L 469499.9943155262,1236236.3256120626 L 469572.491511675,1236723.566114657 L 469462.6560221275,1237330.4660253564 L 468996.6577925882,1238005.89987187 L 468423.6532672583,1238389.599908529 L 467917.44231818826,1238496.0905882998 L 467419.9719129773,1238467.6406790437 L 466743.3594316986,1238081.1494242982 L 465571.7740316697,1237804.407137391 L 465278.83909549494,1237775.1762886955 L 464906.2201951121,1237853.6236807106 L 463121.1210716756,1239051.006688661 L 462396.90970036644,1239517.3632066175 L 461620.3764631183,1240517.310770643 L 461518.68895843124,1240648.276595256 L 461322.60996990436,1240900.8259577365 L 461051.7363030302,1241789.748269584 L 461241.66807516187,1242356.143941937 L 461620.8553345064,1242713.6588083259 L 463172.64074133965,1244013.694468671 L 464389.00284865405,1244802.112496051 L 465028.3807589994,1245443.940283107 L 465198.9748423068,1245685.691542757 L 465507.36963791726,1245944.572786749 L 466102.1850981232,1245844.838134563 L 466962.32953441667,1245512.7993370395 L 468155.8591014904,1244452.940564332 L 468859.08574727183,1244081.1710012346 L 469427.9327788484,1243581.8557816653 L 470194.9078737432,1243250.6898496395 L 470842.5364601251,1243098.158832559 L 471422.4148615508,1243059.424749552 L 472428.07779282075,1243225.112189171 L 472947.6844655984,1243470.2239387843 L 473624.8722624266,1243981.8802578088 L 474203.0448896331,1244665.51074253 L 474622.65384531266,1245362.7986857423 L 474889.88957250793,1246039.9141703506 L 474892.01057352294,1246671.3063844603 L 474701.67459339596,1247603.2853690812 L 474645.9412229973,1247716.6081058923 L 474564.4727600264,1247882.2636861461 L 474334.86444665585,1248130.5582573435 L 473937.6496073429,1248361.4220910615 L 472847.6351178264,1248499.121813507 L 471956.88419232523,1248340.935976774 L 471130.03255832434,1248547.7923591933 L 470458.7087895946,1248598.701764368 L 469874.2579160072,1248463.1577495176 L 469648.7490128927,1248264.4494086015 L 469081.6363103817,1248077.0600042401 L 468706.2844466633,1248099.437137368 L 468358.7981102341,1248350.8090539472 L 467889.0753941208,1248183.4182666345 L 467456.86162959394,1247941.8387937688 L 465512.3593097711,1248918.4009236668 L 464923.30352407915,1249295.99024143 L 463840.7574090714,1250498.9163026002 L 463211.23891582206,1251328.7096360624 L 462953.9836033497,1251667.8664570525 L 462743.76323839667,1252406.036049124 L 462736.7618990225,1252430.6225437862 L 462628.379723049,1253302.408981639 L 462743.2599659965,1253894.8163712968 L 463299.7072071656,1254673.915716874 L 463822.98535298876,1254924.5525826938 L 464808.2973095386,1254910.3483143977 L 465370.88024194987,1254766.9862963168 L 465578.95332470164,1254395.0498001943 L 466030.4086595299,1253149.8684215087 L 466372.67583692353,1252740.495069243 L 467820.92065720295,1251763.5473499869 L 468247.61020948546,1251564.0043146457 L 469366.3071973701,1251328.4446804232 L 470127.8795926739,1251321.6439599842 L 471004.6567758916,1250788.607894387 L 471642.8560748164,1251945.7055857882 L 471744.08490789414,1252381.2221873938 L 471536.353330632,1253131.8903914355 L 471414.93279001646,1254382.2145893662 L 471477.7144982783,1255118.6067024893 L 471794.1183779835,1256709.7206295517 L 471803.73698722554,1257222.8037624378 L 471826.5376454494,1258440.0403152795 L 471978.48053464363,1258768.7444699048 L 472164.6794809134,1258962.164674565 L 472997.0132455797,1259268.5192653069 L 473327.71687119064,1259258.0173452066 L 475105.57130404864,1258844.0343559973 L 476097.6311165707,1258488.7167170988 L 476320.06251168,1258409.0703628566 L 478059.1168431862,1258270.7735931722 L 478526.0392428303,1258433.12812902 L 479185.8765478736,1258903.1038693266 L 479723.7446622934,1259510.6002008996 L 480454.79847077705,1260616.3570451846 L 480602.70095951617,1261361.3200033922 L 480634.5476568756,1262113.4045701257 L 480462.0751015153,1263168.3606525154 L 479823.8049072567,1264166.2827689785 L 478601.36202269635,1265567.7688202835 L 477654.76801681926,1266422.071619569 L 477297.7492023915,1266992.6134048516 L 477134.7290598175,1267845.8459997384 L 477183.0169451794,1268178.9492192396 L 477591.6496788949,1268788.4591437941 L 478214.7367145958,1269239.0678336092 L 478908.3421603497,1269362.0550369234 L 479655.35459577624,1269172.3858540654 L 480387.4705151739,1268991.0811810403 L 481606.27314215346,1268689.4078382002 L 482040.2315202803,1268660.920800845 L 482384.26663082564,1268743.3298959578 L 483370.40468064277,1268979.6300349056 L 484808.53136228153,1269793.2878088374 L 485362.69253939786,1270054.4596526162 L 485577.6087482689,1270065.2773538847 L 485595.1668871383,1269892.3501395453 L 485214.73452677403,1267972.3535412347 L 484385.8351676839,1266359.9124331882 L 484246.9916240264,1265351.2855624123 L 484342.1368667631,1264560.4440370982 L 484651.84570373583,1264131.4221979748 L 485034.31081750017,1263837.8325237723 L 485772.32187017007,1263572.3578584697 L 486570.60034884646,1263615.9137461085 L 487280.38614418905,1263922.082136189 L 487593.69716750213,1264704.8586033294 L 487242.9010362889,1266200.101703651 L 487194.1638482675,1266301.8405423302 L 486573.8958876685,1267596.8677268592 L 486535.1676293688,1268406.6785117548 L 487477.1728250964,1270254.3210103482 L 487161.73936211,1270668.7223454784 L 487762.28393910563,1271491.595301499 L 488685.3156185163,1272228.1240694262 L 489597.8218758951,1272416.200559429 L 490368.93636842933,1272391.3096797308 L 491172.3815483416,1272528.0208145021 L 491833.7698049563,1272898.5259162022 L 492533.40307800384,1273490.4326204383 L 493120.97155823803,1274244.4342226135 L 493536.54885239596,1274777.8371627808 L 493692.05598454684,1275125.1584136023 L 493952.5248353377,1275998.8130374285 L 494011.87261202536,1276334.1251401221 L 494175.03211817075,1277256.153630906 L 494104.76049993513,1277576.6014143701 L 493858.2501135295,1277996.0200777045 L 493667.67462332523,1278320.301199258 L 493141.64974817017,1279869.1684490498 L 492477.4235371242,1282350.2555792076 L 492359.6037285213,1283111.2229162082 L 492433.33409576165,1283832.5911806503 L 492660.4091528632,1284573.2174879904 L 493307.9531521649,1286686.124646355 L 493312.76589040697,1286692.316527494 L 493868.0983691889,1287406.868317142 L 494477.2233717401,1287690.8808016188 L 494593.9770402705,1287745.3257433325 L 495785.19545735954,1288585.1352463064 L 496385.94334037276,1289166.592733905 L 496675.7546737458,1289627.8359670173 L 496851.3796419323,1291180.959328137 L 496746.96603868244,1291616.974678786 L 495868.26755094057,1292841.694157845 L 494548.530099823,1294185.2908244813 L 493504.5385563105,1295269.0508026932 L 492164.1147255728,1297295.150055965 L 491753.17004402616,1298201.6178193907 L 491665.84816898074,1298710.8245549016 L 491711.4356466609,1299268.2706768059 L 491959.5976301575,1300695.3629777525 L 492005.88342086336,1300961.608563917 L 492268.3555918248,1301900.7941388183 L 492457.49658627436,1302271.306999355 L 493398.16028681403,1303577.086735619 L 493500.7247672529,1303866.1647026036 L 493499.8899522302,1305010.5055992294 L 493190.05836088717,1306599.201556325 L 494447.3710659894,1306687.3435065774 L 494498.13583425747,1306660.5162025995 L 495437.3122214582,1306164.2821653176 L 495850.4941801227,1305593.134543956 L 495976.3017524041,1305262.477908179 L 496030.65394803125,1304903.1783646569 L 495719.6913260127,1304346.2006424973 L 494990.2895849818,1302924.0942195968 L 494900.5128318969,1302393.6383507135 L 494853.0939369307,1301407.0860443034 L 494975.9751434607,1300813.1079124273 L 495219.08096221666,1300335.5953921722 L 495626.5733102686,1299818.1272480902 L 496191.37628553377,1299509.5770977759 L 497062.3702819451,1299415.7486055589 L 497747.3605916205,1299587.0878370574 L 498395.77292955335,1299896.0695684606 L 499181.97851688205,1300586.1318707725 L 499581.26891946903,1301061.0595796672 L 499873.41259032214,1301556.1289177167 L 500415.0080156531,1302047.8654851874 L 501458.5668313506,1303108.3615638723 L 502531.16853978595,1304516.220652189 L 502755.6494933869,1305009.4940108887 L 502923.4736259776,1305820.5162311215 L 502984.72453039174,1306116.5665606319 L 502850.06585727155,1307068.887483466 L 502531.73612430115,1307874.4925393295 L 502515.45631239284,1307892.448400595 L 502319.38192344375,1308108.7174344389 L 501817.061376148,1308424.0985902043 L 500992.72512642964,1308251.6757589492 L 498024.5212083479,1307114.9411825011 L 496588.6797954522,1307108.530338905 L 495652.285913798,1307476.2354415234 L 494641.27945172956,1308094.1892891102 L 494427.27798079024,1308275.0912890062 L 494045.68918226665,1308597.6924314888 L 492899.41312251345,1308749.8691290347 L 493146.7224358908,1309728.7506535645 L 493148.2254408056,1310400.6064731816 L 493147.9516181123,1310480.591692605 L 493145.9416234159,1311066.9843656255 L 493495.3895184592,1311584.9970177282 L 493965.09189106856,1311767.530366502 L 494717.1295366265,1311872.8544736726 L 495125.43024046806,1311802.9762168855 L 495574.36385847913,1313664.9105312512 L 495226.90087745595,1314666.644414824 L 494952.15898696776,1315348.7704075994 L 494638.88830423995,1316754.63031833 L 494912.636367677,1317704.1447125396 L 495187.983954295,1318186.759876335 L 495827.16775296145,1318680.6956844812 L 496458.50319890346,1318913.8316205996 L 496935.5517455846,1318972.1651741958 L 497331.92896312755,1318865.912732395 L 497585.5689500137,1318797.933420675 L 497865.1523983877,1318616.216434915 L 497893.5769234494,1317689.0893725085 L 498691.76048225083,1316988.3629894578 L 499693.34455424256,1315832.4929199798 L 499774.2695630669,1314945.5196491077 L 499644.4734040353,1314141.3445179376 L 499216.26142458525,1313811.6455667587 L 498576.21131978824,1313221.868298941 L 498063.5436879222,1312578.2216436432 L 497113.2735026557,1311077.0074097007 L 498599.28460837493,1310291.5138534952 L 499367.68439715344,1310118.0818129014 L 500125.2262036152,1310130.859149105 L 501620.5437145503,1310497.864558123 L 502504.60343661264,1310932.7780195726 L 503342.5745876718,1311578.9901639665 L 503931.214467566,1312339.0021104096 L 503940.64504020807,1312451.5890586036 L 503949.6432139346,1312559.0186282683 L 503820.14518971916,1313267.5370199212 L 503438.09654307057,1314165.3382447537 L 502921.87020498404,1314913.695754169 L 501665.9203594986,1316885.9082030454 L 501218.44602355064,1317765.6655230885 L 501035.61405907135,1318273.3716783626 L 501016.2554912907,1319045.0630405832 L 501129.20887108165,1319469.0304624534 L 501553.46829341387,1320434.4215393136 L 502067.88535214984,1320958.567620049 L 502767.82416294614,1321421.9813348518 L 502132.8430896487,1322610.2449286764 L 500809.474200009,1324621.8697016973 L 500120.3880217879,1325416.0585181504 L 499864.000796898,1326048.4070040912 L 499767.0058591879,1326678.2575330387 L 499792.65004443214,1327315.4613595447 L 500031.915017496,1328017.53038982 L 500473.30739923235,1328578.4085440822 L 501256.7236757392,1329135.486830856 L 501681.23270958266,1329309.5090252552 L 502439.8256869002,1329263.473544157 L 503097.01565466117,1329034.173944844 L 503732.51337525266,1328724.7592205722 L 504066.7779732458,1328439.6415562525 L 504727.3433135017,1327187.5178584214 L 504823.58521316334,1326677.339579595 L 504328.6458964631,1325487.460994592 L 503158.06109811837,1323588.9952687933 L 504246.6703723,1322008.5988954443 L 505015.1955442028,1322162.57849877 L 506162.9736478642,1322184.507002213 L 506669.43222042086,1322281.3210633667 L 507021.6085148224,1322348.6613793208 L 507024.00124187407,1322349.1189497537 L 507760.1641290673,1322489.9318163525 L 508679.0899941836,1322876.4566990805 L 511056.120077576,1324373.258221033 L 513106.91837183776,1326260.5897601526 L 514060.97630180046,1325333.1394400073 L 514940.87563743215,1324838.97747837 L 515659.07795616705,1324811.2756054546 L 516001.50465978653,1325052.8042083043 L 516283.98456162045,1325554.1138278132 L 516373.612274243,1325990.8499648913 L 516288.9829206764,1326456.3541118004 L 516142.36274609424,1326654.8636203916 L 516043.27163183317,1326789.0298457104 L 515202.88788186887,1326995.2973307758 L 514897.6169733836,1327773.0565354265 L 516052.9302626924,1328596.2065333538 L 517352.4829906585,1329294.7255064093 L 518501.53489653073,1329577.7692634813 L 520166.5118395475,1330592.424724597 L 520915.89988797606,1331395.221764281 L 521385.562743502,1332427.5935452683 L 521487.7836372712,1333547.0989052083 L 521341.20910302806,1334938.2321136869 L 521090.94507435063,1336463.7613326618 L 520870.6569490892,1336837.2098142388 L 520653.1147877265,1336987.4447067664 L 520232.9402574799,1337121.490148001 L 518563.40312915057,1337822.5242848305 L 518138.5968844506,1338146.1033876035 L 516444.04893487116,1339437.3155894324 L 516152.74229981384,1339662.8050954395 L 515639.8694919656,1340247.6814423285 L 515029.79720354103,1341327.7797990425 L 514911.9465511158,1341742.9398613814 L 515428.5632462702,1341771.8674016993 L 530339.7423094033,1342620.2420904564 L 530358.2710226354,1342621.3124426715 L 531248.0769468598,1342672.7612675333 L 531271.5732418327,1342674.1210833243 L 531307.7787796656,1342676.2165553572 L 534073.8553200663,1342836.761877956 L 537286.7667533638,1343024.3640595984 L 538890.6186030188,1343118.4644310945 L 539948.5729536661,1343180.7007078622 L 539950.615775037,1343180.821007426 L 540513.9960749765,1343214.016478993 L 540518.9371505022,1343214.3077809133 L 542042.7737057668,1343304.2819237977 L 542044.3820624516,1343304.377031735 L 542550.2956304309,1343334.3085290699 L 542575.0124667224,1343335.7716240538 L 543691.7136642627,1343401.9484051792 L 543692.3162848105,1343401.9841563862 L 545292.2403658264,1343497.0512555493 L 546764.9230990914,1343584.8221016563 L 548494.7466193672,1343688.2420586976 L 548494.9730820222,1343688.2556209795 L 550095.3817585462,1343784.2498096677 L 550110.0951718407,1343785.1337242762 L 551684.0226443091,1343879.834207328 L 552412.2011009024,1343923.7454026982 L 553319.5940355272,1343971.529640704 L 553776.3345442933,1343999.8747033875 L 554405.9287545045,1344038.9869528755 L 555268.0760470376,1344092.6212689632 L 556470.7145030906,1344167.5827585598 L 556480.054119152,1344168.2099154796 L 557437.9147848471,1344232.5846443109 L 558071.5138152762,1344275.2257975878 L 558078.2804811543,1344275.6814471087 L 559441.0172469234,1344367.5537727869 L 559664.3523206296,1344382.631196935 L 561269.5039155,1344491.1672628403 L 561284.811885422,1344492.2037985572 L 564493.8616470839,1344769.9267523799 L 566087.5107201511,1344908.2969801389 L 566101.9457980739,1344909.551685501 L 567678.9597189625,1345015.6864546253 L 569279.2482402592,1345123.6851703776 L 570875.2212900366,1345231.6911678002 L 574638.2147536235,1345487.5284326137 L 574908.0221773135,1345505.935699354 L 574928.9853569682,1345507.2346710681 L 577287.9660844197,1345653.7357932338 L 579720.5512424187,1345805.4894213746 L 580481.8175582418,1345853.1221645481 L 581458.7398059893,1345914.347864133 L 582065.6475085784,1345952.440200552 L 585346.1924334799,1346159.0880166152 L 586935.8176982795,1346259.6742181869 L 586937.6068435308,1346259.7464002543 L 588511.5238180388,1346323.3897590921 L 589132.3927582413,1346322.6962384956 L 589352.3797858233,1346336.637676248 L 593277.3268339017,1346586.3281984844 L 593825.0743795218,1346621.3171184708 L 596464.0961612007,1346819.0194934362 L 598684.0476194775,1346985.959448951 L 601252.0024729008,1347179.7899039101 L 612037.543832871,1348002.3312135912 L 613459.7406146924,1348111.810658045 L 615190.3463614563,1348208.228244398 L 618778.9059205456,1348406.3314903448 L 618779.4360830382,1348406.360868616 L 618938.3721282015,1348415.1695835087 L 620532.6021410722,1348573.0544423799 L 620544.9665576959,1348576.528720607 L 630692.9158966766,1349386.7059690834 L 631542.7929136889,1349448.0353407506 L 633659.386980192,1349601.1421577372 L 639307.509766563,1350012.27623619 L 639838.7281374072,1350051.1366121252 L 642672.774247585,1350357.6687152816 L 643284.0990528687,1350423.914622459 L 645884.1971877676,1350549.0218590177 L 646535.0707009325,1350580.4629819049 L 649060.6557770707,1350779.3254805866 L 649060.8454299998,1350779.3404418014 L 652348.9526606833,1351039.3648372241 L 658388.0317383913,1351519.292378856 L 661568.8214131977,1351773.7915318862 L 668658.4722550194,1352345.31693302 L 670541.989270805,1352498.1468208772 L 672448.0123866427,1352653.226847416 L 675351.2933595512,1352890.2665540304 L 675408.9448663149,1352894.983558851 L 675638.9172433976,1352913.8036165973 L 676927.6236630423,1353019.3813088515 L 677721.9741802512,1353084.5558780283 L 677773.8753252018,1353088.8168220855 L 680119.4630961859,1353281.7134232325 L 680541.2680832866,1353316.4703862087 L 680927.5308971228,1353348.316981284 L 680934.2207028063,1353350.9806823924 L 681564.5366303548,1353397.174618047 L 688995.4827534944,1353945.2761064062 L 690527.5280962557,1354066.2240959692 L 700040.3160871366,1354823.3797606174 L 700426.1882699487,1354864.9965388223 L 700621.1158630246,1354881.2881167769 L 700621.7374249221,1354881.340072559 L 705250.7633850776,1355269.534788947 L 705275.7503166385,1355271.6370484084 L 705429.5447215408,1354785.6180829431 L 706606.0539165394,1353054.5195508562 L 707347.3345876528,1352280.0619027563 L 707741.8424130752,1351757.2481863566 L 708170.4744304836,1350972.4445139093 L 709319.4951819325,1348624.9195711303 L 709472.4957970025,1348377.938222135 L 710051.4996813572,1347443.4230041741 L 710873.4080402718,1346611.3731292973 L 711514.5466019143,1346132.0567945691 L 711806.9597958076,1345927.4063532245 L 712909.1755546898,1345416.6121390352 L 715246.2454705752,1344698.127644579 L 715454.518613213,1344502.9732001512 L 715364.3248090466,1338005.111334846 L 715328.55528835,1335447.57367639 L 715191.5335564722,1330291.7338271176 L 715133.0428487313,1328098.8146901208 L 715156.986363741,1325630.2777580307 L 715082.1242299255,1323895.4612335684 L 715016.2151614098,1322369.8574932849 L 714769.692701315,1316677.9287501092 L 714661.3153220422,1314182.7365570045 L 714659.1648321047,1314097.322383864 L 714566.4410414824,1310421.5756287212 L 714531.7686306421,1310259.3480309134 L 714520.7610232,1309574.7919891505 L 714385.3024251986,1304883.3055105943 L 714224.4682455802,1299339.2142244042 L 714140.17318858,1296444.7444458269 L 714134.4064069741,1296247.0090668392 L 714131.3413677916,1295996.5238555458 L 714128.9953548737,1295804.8785283212 L 714106.3747694498,1293960.492479518 L 714097.3308785536,1293224.8504627908 L 714074.2447782062,1291351.5142192834 L 714023.4148583966,1287249.4948210919 L 714022.692549214,1287214.6083902924 L 714018.3509866096,1287004.9481300886 L 713866.8015910927,1280275.583048218 L 713837.0162061546,1278154.8087898006 L 713820.4050075423,1277220.8929270166 L 713815.5191411473,1277038.8446349683 L 713806.7480821621,1276712.1142520965 L 713599.5718551626,1269024.587922797 L 713661.1967471844,1267215.483000011 L 713516.9461732397,1265559.832255147 L 713520.2764421416,1263903.2483653466 L 713329.0032630289,1257225.0735100314 L 713270.8167971745,1253923.7849023764 L 713234.6664301857,1251880.1401159966 L 713214.7084906253,1250754.2899901634 L 713160.5877657096,1247482.7262747884 L 713136.9411503929,1246644.391454921 L 713101.097108507,1245374.8755416407 L 712891.6294368057,1237985.8599213872 L 712789.7110639428,1234408.9100060272 L 712792.6162092062,1234273.4823301826 L 712793.6570659975,1234260.785931022 L 712730.7485707569,1232314.4118952372 L 712722.4779013299,1232058.7568599677 L 712722.3844983532,1232055.8699908326 L 712716.9415903961,1231887.654486168 L 712677.1323001657,1230658.0550551314 L 712559.3393907839,1227027.191959846 L 712472.6476349537,1222947.910603125 L 712403.1122681011,1222055.994869173 L 712402.6558149877,1222050.141322637 L 712338.9321795354,1221233.1146862877 L 712364.1622173577,1219664.983350433 L 712322.8871405117,1218048.8874471458 L 712258.7414489113,1215542.4908793548 L 712185.5100660399,1212688.7417289037 L 712173.9104153616,1210357.5985494046 L 712184.9473374047,1210022.3541716095 L 712163.9834098202,1208572.5074278081 L 712152.0691850109,1208482.5867083499 L 712151.8677631989,1208481.0665359718 L 712049.840172775,1202907.8793041632 L 712049.8303890874,1202907.346811182 L 711970.8991779154,1198623.3074960806 L 711978.0989672736,1198372.860311723 L 711948.2082101217,1197591.6614085743 L 711937.6680230292,1196681.8275526292 L 711932.3887967563,1196229.2113410477 L 711903.6201862049,1195994.3304482633 L 711889.8744100308,1195332.5432372699 L 711878.6670273729,1194793.3468737449 L 711826.6388268111,1192294.6847911116 L 711817.618049858,1191862.2037837817 L 711775.7183668603,1189892.7410115842 L 711755.5804250013,1189439.8524698704 L 711740.0911980779,1188576.2152488155 L 711710.697836474,1186940.0253725902 L 711612.4428812524,1181496.0823201246 L 711492.6661080829,1174911.76339589 L 711423.056925942,1171110.9968859404 L 711364.7651246275,1167942.4976827234 L 711364.7444379667,1167941.3755392258 L 711326.1684158517,1165851.6434051318 L 711297.3329340343,1164293.2338887616 L 711233.8275693423,1160872.0400967982 L 711175.1137244023,1157722.2354742263 L 711156.6221111139,1156732.834249204 L 711066.1038151063,1154754.2327959028 L 711063.7722809567,1152603.6360503838 L 710970.3560019057,1148362.9350782319 L 710788.198692669,1140150.793767976 L 710787.1032164588,1140079.5681196619 L 710645.9712377177,1130965.9240403934 L 710516.827974792,1124000.4859312254 L 710403.7551817038,1117952.0581806302 L 710261.6868485754,1105438.2145898773 L 710243.2573228779,1103836.6998844144 L 710241.3438821496,1103670.7025439397 L 710221.1468996119,1103101.4260015874 L 710098.4748423869,1099649.16402245 L 709960.1617413268,1090140.642749643 L 709957.5951303114,1090109.6652281284 L 709914.3122036977,1087922.078203367 L 709910.5239078925,1087730.885726149 L 709899.5297582605,1087176.2679668246 L 709849.7171059039,1084668.0072956886 L 709641.8075559657,1074279.4066168081 L 709641.7627851006,1074274.92001074 L 709606.9138778062,1070795.6588286196 L 709601.9447409183,1070301.6518045673 L 709602.9686195693,1070288.869754459 L 709600.2615513894,1070178.1110821306 L 709600.1746735271,1070174.5567138148 L 709464.2488624575,1064629.1879836698 L 709411.1714580316,1062472.2218408624 L 709342.3691308859,1061784.1154927365 L 709331.3752580382,1061176.9500370536 L 709326.8476182544,1060927.0373564682 L 709323.3042461202,1060731.509540998 L 709209.4854405317,1054476.8382108873 L 709164.3492016202,1051962.5710644915 L 709097.3398291939,1048244.9120889235 L 709091.4929366766,1047921.3732146965 L 709009.0670276093,1045400.1589536517 L 708939.4285683988,1043274.1249133842 L 708885.3148415979,1041624.5984080195 L 708807.3320099522,1039251.3739490353 L 708808.1682626241,1039170.0461740514 L 708738.808142231,1036297.0387322968 L 708717.5896474078,1035419.8174634114 L 708713.1372399308,1035235.8444098937 L 708484.5765672378,1025837.7141730665 L 708474.2575407228,1025415.5157917158 L 708450.414772698,1024440.6884822189 L 708450.4923081188,1024344.9007136128 L 708113.9776291056,1012409.8295972815 L 708118.9917620415,1012091.9560811219 L 708118.9947857602,1012091.7643615392 L 708119.1027860731,1012084.9165560845 L 708032.0127519382,1008009.5852723563 L 708251.7784385564,1005937.0506818464 L 708595.3842726629,1003308.4570673413 L 708609.3712718352,1003260.8492718246 L 709008.677668806,999756.3175726418 L 709249.3937820704,997644.0959669292 L 709369.3254985757,996591.8482500757 L 709493.5632385989,995589.4017990493 L 710307.561006775,989023.5986825371 L 710586.4103397036,986324.4674321135 L 710587.222006087,986316.6114730748 L 710720.3324609154,985323.2814894057 L 711470.4319876072,979727.5231876748 L 711681.8017621174,978151.2585879599 L 711725.5225412404,977892.2556453976 L 712169.2819164774,974346.1805218908 L 712544.1150235165,971351.7589185473 L 713252.1367084712,965697.7596442772 L 713261.3734738957,965624.0169016649 L 713335.1380517236,965035.1264311398 L 713407.4097418885,964458.1839443934 L 713707.6112680392,962401.621795776 L 713952.6857218662,959955.0724265254 L 714300.5285903454,957346.1704371274 L 714300.6160537086,957345.5145252493 L 714515.011867436,955737.8276008578 L 714515.9935343714,955694.4732073585 L 715418.0554500186,948518.436491471 L 715421.6143645752,948505.9932555853 L 715664.6456024952,946679.7838642022 L 715747.1715571414,946059.7329522473 L 716390.0011128039,941231.1742581454 L 716558.0954828117,939968.9219683507 L 716719.0773406037,938760.2241789638 L 716851.2669421154,937767.8131543883 L 716939.3083177613,937106.8972942579 L 716971.3023842252,936466.764311453 L 717182.4186455505,934737.5156374875 L 717203.087019192,934606.1225373258 L 718410.2722362699,924963.0274358576 L 718804.5925850887,921814.931868172 L 718913.1082516473,920961.2233968811 L 719211.4736471877,918614.277862175 L 720394.3780010763,909314.4180219386 L 720410.1037877585,909210.8057642407 L 720435.578249563,909002.8956894259 L 722102.9060332562,895402.8876337901 L 722268.2084937795,894450.4466855916 L 722311.624789033,894091.1118117295 L 722316.6098346867,894049.8537674128 L 722374.6062184507,893569.8649016937 L 722410.3776307394,893273.8234231733 L 723348.4601804357,885512.8794957345 L 724016.4799188318,879989.218682007 L 724067.5991320626,879566.6315002693 L 724085.6058833613,879414.6456771492 L 724302.9648039532,877487.5939776688 L 724381.7691442462,876755.5668666296 L 724883.6091651745,872603.2977669355 L 724935.9277202837,872171.2431005766 L 725308.31533017,869096.4503173365 L 725308.8913507675,869093.2482309095 L 725309.2947548466,869091.0057168965 L 725413.4327441333,868512.1278573339 L 725490.4157742483,867524.2403866639 L 725555.8165019288,866974.1853092253 L 725923.3975273098,863883.0759900539 L 726315.4102195287,860587.3424496258 L 726458.9336363742,859380.9248475053 L 726510.4968867942,858947.5266347595 L 726511.6139874223,858938.3738315935 L 726512.8616585335,858928.1512261617 L 726533.41272556,858759.77039981 L 726661.0745757427,857626.5525816492 L 726979.1261779162,855172.4064264746 L 727064.3226593331,854489.8788931977 L 727483.4895842207,851132.4282435825 L 727483.8022973613,851129.923832281 L 727506.4787257203,850948.3176146141 L 727704.2429742427,849364.62575781 L 728928.1112354582,839568.7385441413 L 728731.858556365,839359.5806703618 L 728618.8336982129,838576.7312306904 L 728861.118957886,837932.230647348 L 729080.7130179201,837736.7030428111 L 729144.9127503433,837432.0095183437 L 728426.529275992,836863.9317315253 L 727743.2339313331,837382.9848780952 L 727369.583688879,838173.4170696001 L 726831.7118442248,838185.5465607046 L 726702.7228184803,837825.2863105984 L 725617.8967120785,837759.246446341 L 724992.8318844294,838002.7240310626 L 724109.7985166232,837917.6871959451 L 723992.8615177774,837906.4325688768 L 723811.8293207783,837526.1468580805 L 723983.223135923,837004.6957718909 L 724190.0069797994,835799.6934416333 L 723655.9417660816,834713.5396699056 L 722011.6099562247,833512.7326669868 L 721237.4863384087,833264.7224555538 L 718925.1004420598,833274.1508132485 L 718703.1438388326,833515.0493226083 L 718649.0254128447,834068.3157621631 L 717882.3505926669,834522.1483913906 L 717871.6931773087,834528.4578510862 L 717072.0978390445,835001.9018936948 L 716991.6646746901,835351.5909044152 L 716546.1840174602,835577.3744505215 L 715650.8677424546,835603.2288048059 L 715642.1982060388,835603.1330098652 L 715024.9265586002,835596.333651254 L 714988.7134056038,835595.9360582554 L 714257.3948925633,835587.937603634 L 713022.7026653026,835574.5672284566 L 711456.8257672469,835557.851653531 L 711216.5010185263,836724.9794507081 L 710827.7339352401,836978.3076137241 L 710923.6429139171,837738.5297969818 L 710763.1129359229,838047.3671679661 L 710369.2155090878,837943.5008436602 L 710079.778020515,837165.048122214 L 709549.3821345998,836962.1130310341 L 709380.8586418402,836713.9158856652 L 708955.0424000531,836597.6021406032 L 708782.5313495172,836359.4627705993 L 708766.3704711627,836337.1547176732 L 708335.8939187827,836447.1973213323 L 708128.9429123072,837454.360411204 L 708254.3820754078,838185.3222010625 L 708224.73433226,838345.989067017 L 708197.5909067674,838351.0678273921 L 708114.1821423766,838366.6748550349 L 707552.8550843992,838231.6207333488 L 706889.0317293584,837736.2829302696 L 705797.7326453434,836676.5690324254 L 705057.3056510827,836692.836600499 L 703279.1197845335,836732.1516228004 L 703226.94666983,836702.5551960514 L 703222.8553602227,836700.2343254817 L 703206.6608873395,836691.0477431223 L 703205.2211546364,836690.231033279 L 703201.9639169219,836688.383318007 L 702735.4359489259,836423.7586143423 L 701948.573751695,835977.5236231666 L 701826.3697857797,835908.2310661488 L 701468.0252111406,835584.298323251 L 700693.5487846865,834884.3291210389 L 699918.309269691,834422.198696334 L 698640.1167337508,834156.510782586 L 697218.0839418535,834101.4051395577 L 695448.5413149518,834517.3664027579 L 695253.7335306198,834655.3560645044 L 695234.0367389895,834669.308526473 L 692925.4578973623,836305.2363052312 L 691742.5227211638,836870.526342596 L 689186.5183042905,838092.7654479999 L 689120.1258756436,838124.5277816908 L 689007.9537246209,838178.1929462036 L 688936.8943381495,838212.1901182942 L 688968.9905444314,838354.8552183537 L 689862.4076841538,838254.1968028352 L 689973.474112824,838230.3648976376 L 690453.7245267213,838127.3334043382 L 690971.4202956363,838235.1696821752 L 691005.83776141,838413.5255874229 L 691020.6324598361,838490.1969299677 L 690579.5778326953,839053.3760501246 L 690564.8401014402,839072.1961240344 L 690009.4203126344,839012.4577726057 L 689839.0602337503,838994.1415445305 L 688997.2954034066,839269.69199682 L 687642.0016056518,840022.2843747329 L 687597.7027312653,840039.3645142106 L 687219.3017017996,840185.2749530533 L 685897.9871006582,840694.9370683371 L 685865.7116563647,840770.296911151 L 685391.6952128106,841877.2198438763 L 684643.9833029541,842094.7601877652 L 684449.5862182899,842396.0724442425 L 684152.3424608014,842856.8411848192 L 683450.752506293,842461.5179305944 L 683020.0902366281,842109.5618376948 L 682991.5903252959,841575.7860283218 L 682982.1468633764,841398.9549116539 L 683169.1230437341,840431.3678315373 L 683270.2810556097,840408.8562382503 L 683384.0395774343,840383.5420578029 L 684221.2160157968,840197.2982698788 L 684260.1636338696,839587.9517209673 L 684080.0266944985,839335.9214310016 L 684412.0071794885,838939.44042625 L 684476.1927527948,838704.5076010671 L 684530.591507051,838505.4044633248 L 684349.3914135027,838396.3079715909 L 684090.4059487681,838580.6418921013 L 683691.0024176353,838468.0607318488 L 683509.668517574,838523.6329684302 L 683368.8246312696,838566.7995559422 L 682165.589054459,838587.8059236474 L 681884.0366031063,838432.581174075 L 681176.8713747546,838504.5581174829 L 681150.5532570024,838507.2379344663 L 681001.8512120602,838522.3808558413 L 680954.1596895456,838519.5976780038 L 680216.6048962018,838476.5874525683 L 679047.2651353857,838408.5208013726 L 678763.9930598363,838392.0543717091 L 678310.5104087784,838365.7121288686 L 677141.7360249764,838200.8905696432 L 675089.9197925897,837911.916075164 L 674016.5048757215,837789.7066207785 L 673626.5471470399,837745.341452399 L 673482.8469849138,837712.8212919901 L 672039.5575909251,837386.3340859981 L 670952.1833111031,837140.523619498 L 670783.8808402099,837091.795219632 L 669360.1206279754,836679.7198743767 L 668359.5947007468,836329.7543185818 L 668317.3611907753,836314.9848075979 L 668267.0266926842,836297.3826109554 L 667595.8745567182,836062.710651858 L 666327.3080354342,835619.3167632053 L 665520.4926545687,835337.4295579242 L 665077.4903871528,835182.689919012 L 663574.525286985,834625.2370143516 L 662920.7526993396,834164.0925746836 L 662491.619843537,833962.5613244782 L 662489.0122080431,833627.194510037 L 662065.2041399861,833426.0753735873 L 662093.3392475942,833187.6007478053 L 662623.0029436746,832460.772231718 L 662706.8739422587,832345.6941421586 L 662475.2121545285,832182.9510516357 L 662294.8262002164,832056.2377491102 L 662215.5388382738,832066.7227668258 L 662111.1666611992,832204.7937400693 L 662087.4603074255,832236.154953528 L 662020.6930861272,832324.4830322437 L 661678.1495080515,832777.6776268388 L 661779.2173124865,833093.6870385018 L 661781.1377298601,833099.6919089821 L 661833.4356405381,833263.2241273776 L 661651.675218175,833658.7775581935 L 661408.1333753385,833539.2656411654 L 659281.5301303846,832496.1021466448 L 658055.175837741,831894.8745655398 L 657383.375753495,831421.5186118848 L 656537.0618023297,831103.8662814961 L 653475.142170976,829576.2921133561 L 652565.0900795744,829230.9842758374 L 650326.599418328,828382.1136942449 L 648504.7565876239,827531.5722935318 L 648044.1769369122,827139.3942359551 L 648035.7975534489,826933.9523259236 L 647605.3614432694,826871.0315564888 L 647388.1855258141,826976.7073785969 L 645538.7971138625,826148.0101611109 L 644834.4583153977,825955.1976227857 L 644282.5102361254,825804.1453887743 L 644225.0868233052,825788.4324501639 L 643677.5289152225,825771.8518954967 L 643506.7350829158,826014.4409363121 L 643356.4961914346,826227.8478617932 L 643479.3443074744,826398.2378281748 L 643735.0278570723,826752.898925954 L 643693.6972721997,827004.1453626137 L 643637.7806979324,827344.0732007963 L 643444.9759032303,828516.2944148628 L 643788.0480478022,829108.3405151158 L 643794.9556600515,829107.2983727319 L 644058.8187095919,829067.4938757028 L 644324.6691278153,829027.3978071146 L 644398.9218705123,829016.2003420376 L 645224.4564098183,829302.2592540421 L 645559.8008755415,830056.8342531375 L 645525.2047932295,830095.2842051621 L 645403.4175433135,830230.64179899 L 645212.1605943498,830443.221547823 L 644426.3624565796,831000.9848103967 L 643900.5704247224,831415.3329973393 L 643235.602087232,832198.6374155696 L 643088.2506022854,832670.4218347655 L 642621.8818707998,832794.5600769055 L 641789.7719678987,832598.867053511 L 641573.1226312451,832104.0590141573 L 641349.3735521943,832026.1562548294 L 641252.4496934047,832234.3122854127 L 641449.8839252937,832903.5595042048 L 641638.0814888541,833164.6710179291 L 641545.3636729291,833423.6727397357 L 640866.1895357042,833680.5261611153 L 638864.7438458933,833305.9154057569 L 638394.4200509593,833148.2418427252 L 637650.6858212102,832898.9692707264 L 637595.6343105906,832880.5209544296 L 637248.8981990166,832611.2880089971 L 636846.0383760021,832084.5763115063 L 636281.4216181614,831346.5253033141 L 636268.8100011646,831280.3879186496 L 636257.6613984472,831221.9240059139 L 636192.6615074596,830881.0829926168 L 635635.435223797,830661.0039652034 L 635481.0069433341,830356.8675898581 L 635222.4270110289,830313.7623997898 L 635213.5792162851,830277.8844525148 L 635051.9788821837,829622.6622181572 L 635292.3539712817,828869.7409689047 L 635390.3542238481,828794.6128883435 L 635694.0433787741,828561.8166131242 L 636242.2935605334,828968.6146885235 L 636796.8390591497,829004.2867018784 L 636814.2470308121,829015.4129375509 L 638144.9423672006,829866.1048259634 L 638827.9897263733,829849.686692629 L 639470.9905460037,829327.0771921211 L 639671.5136086647,828820.714523517 L 639841.3591231647,828069.2904127685 L 640170.7230193572,827957.9711730633 L 640582.5949594516,827350.4147130051 L 640592.7649757041,827335.4140758658 L 640607.9145007557,826846.6554759718 L 640331.031978555,826226.0809554942 L 640320.353282173,826202.1491251705 L 640013.9463809805,825515.5372257411 L 639992.5109883967,825467.5088596978 L 638751.9574426962,824445.0892919409 L 638703.9875373215,824422.1360544628 L 638607.3920013166,824375.9169435321 L 637321.4768475847,823760.7742387234 L 637320.2592629152,823759.7610745428 L 637032.9296292226,823520.6826407317 L 636731.2974054753,823269.7278303672 L 636527.6654886613,823100.3223556253 L 636524.5173151667,823097.703416302 L 636126.9045759059,822483.9684333783 L 635834.9184196007,822033.3455941844 L 635707.6372717064,821836.9314850953 L 635454.7152748622,821624.2577818411 L 634804.0694314565,821077.2330754204 L 634107.3984302356,820678.9815199107 L 633584.8215154621,820535.2065845077 L 632515.5806626639,820023.8655616647 L 632267.0669970277,819905.0456780675 L 631801.3910067659,819488.5231219612 L 631364.1981885879,818464.4207767134 L 631425.1096442118,817767.5801392522 L 631499.3358272502,817726.0360172575 L 631702.0263099655,817612.5961369675 L 631878.2560706903,817285.6966557878 L 631858.2766037526,816722.1593084828 L 631028.0012173074,816120.7345319183 L 630442.7903182706,815184.4477445964 L 629304.0330401325,813710.4224335029 L 629390.1109548351,812981.5491762182 L 629654.0098324057,812236.2553952251 L 629574.2385611725,811787.6200000962 L 628857.1245116816,811199.8644699967 L 628670.329555209,810757.6671741803 L 628234.4600665233,810455.884378389 L 627924.5143502811,810472.7036418805 L 627884.4991511058,810598.8079127395 L 628205.6926065569,810768.4860259565 L 628466.098081678,811312.2258772634 L 628321.5331131059,812079.6697313864 L 627584.9352870971,812463.2660168542 L 626865.7299174154,812163.1788219031 L 626427.9184692824,812376.7904511829 L 625829.4997043944,812047.9203703621 L 625462.6716364513,811665.5407801949 L 625308.2571322952,811179.235166349 L 624836.9514657388,810988.4662145778 L 624099.5637170441,811133.0318081037 L 623144.1763906099,811120.9884584271 L 622431.1530988924,810930.6325960773 L 622027.6471005495,811511.4391200067 L 621870.9635528392,811533.4660213081 L 621620.2222055796,811874.7877990172 L 621322.3824547157,812143.8047237437 L 620806.3956263933,812219.9308622133 L 620540.7057357632,812157.3318722966 L 620030.4008871992,811866.677594941 L 619840.2313313577,811686.8338642713 L 619685.6112435457,811409.2643628845 L 619346.6175525424,811007.9004916118 L 618642.9862710609,810581.807604595 L 617900.6514346619,810297.8049194204 L 617477.5558989142,810424.923321294 L 616839.3450785386,810882.4456522571 L 616315.4457679681,811503.4090502736 L 616138.7369881417,811836.4102195078 L 615956.6646633287,812391.6013350217 L 615586.5073026968,812934.299743281 L 615230.5525975811,813456.250428806 L 615122.3489774595,813614.9283602784 L 614649.0088420665,814061.4866559879 L 614027.7048201245,814130.8875821637 L 613732.5101897595,814222.2827514552 L 613539.7441640646,814365.0922546869 L 613195.6746922483,814753.5514119468 L 613072.2948740254,815012.3175742273 L 613048.5466125847,815222.1485297515 L 613105.4930794162,816093.9583935151 L 613182.3887299543,816518.9039656641 L 613231.8743486034,816792.4056868275 L 613199.1747471329,817135.1804165625 L 612986.5459623119,817432.4657393176 L 612952.0034160491,817442.8387178517 L 612229.6804910507,817659.7857403137 L 611921.9635342467,817844.9880073924 L 611416.8450269244,818387.4154552941 L 611351.1602065013,818740.5652557964 L 611436.3304647473,818920.6652727001 L 611487.7622118769,818966.4059046177 L 611912.6591248965,819022.9802666968 L 611989.2652123579,819161.2246518636 L 611915.2768669007,819421.228092544 L 611548.6920881687,819551.9672996477 L 611428.6364375954,819546.0227403253 L 611279.4895017372,819678.0153137618 L 611252.7973530787,819999.7368818852 L 611392.4614168617,820571.2287288378 L 611284.0137210614,820908.9473872521 L 611163.604106402,821013.730515256 L 610646.4601693262,821463.8080002343 L 610541.3787075828,821800.6522110396 L 610071.6211633536,821720.2038715052 L 609700.9024224139,821882.9028472624 L 609665.4309067996,822094.986340685 L 609854.9102238013,822248.1233905605 L 610301.6177552275,822606.0288761833 L 610128.5086545346,823466.0050179685 L 610128.353819373,823466.774266569 L 610118.2373545277,823517.0348709734 L 610221.2272967539,823852.9255468549 L 610268.0042881742,823914.6022703608 L 610803.4174942563,824059.0184435126 L 611041.1620533605,824194.7262140559 L 611523.9823493544,824775.0626641469 L 611478.1542763859,824905.7656578963 L 611123.4412851451,825500.7723357219 L 610984.8106532753,826817.734163685 L 611001.9088812674,827526.1052816669 L 610337.701923449,828002.7784572021 L 609454.5428165549,828406.1769123662 L 609390.8586171502,828756.7547863853 L 609278.3537715068,828881.2307047298 L 608681.9801546516,829179.2466957532 L 608244.0290693673,829258.9316420498 L 607897.2072433232,830011.7882756084 L 607654.8383577075,830861.5799368442 L 606813.1407981189,832047.8476911357 L 606705.2702239506,832312.7325416389 L 606510.9859286698,832789.8521268364 L 605820.1700607906,833936.5439618985 L 605568.8394403344,834264.631470135 L 605342.955899948,834559.5267533534 L 605251.654963474,835307.3996584974 L 605421.158056747,835357.0876856536 L 605542.7405292323,835198.3175231558 L 605642.0760643624,835194.6914823692 L 605777.8098481479,835494.4955309656 L 605476.2786178436,837134.4190008143 L 605301.3795504607,837695.9723123019 L 605144.1725158141,837784.1389296657 L 604986.713616308,838280.4040932999 L 605130.3090101985,838991.1978275098 L 605030.594954121,839650.6263193268 L 604366.2290126598,840439.7116300879 L 604332.5903058412,840479.6702631732 L 603885.5189979965,840761.1728165519 L 603807.309669451,840810.422271595 L 603754.9461129191,840843.3970046327 L 603507.0224937592,840914.6025951704 L 603173.7963551176,841010.3205183893 L 602763.045382896,841788.53647555 L 602338.884235335,842373.0638043295 L 602276.9295541917,842419.6128585861 L 602060.1048157634,842316.4015502067 L 601733.5752984864,842326.7242276929 L 601334.1012712462,842898.0159948533 L 601148.0015575142,843491.5718438054 L 601121.930062968,843516.9814084129 L 600795.6503042083,843834.9961975996 L 600793.2807251222,843835.9811857743 L 600643.605166146,843898.2001708428 L 599818.9127356062,844084.528002189 L 599056.1193345602,844322.8841102751 L 599005.824544644,844474.0986443403 L 598631.2753850019,844885.2816659901 L 598011.2525851883,844830.4158813648 L 597492.7733894209,845120.3915127135 L 597446.601937653,845177.2524358146 L 597367.259044312,845964.7394224434 L 597184.3412234023,846253.2071022574 L 596466.9091858213,846123.5648268221 L 596238.8098733464,846874.1364795737 L 596124.2232680257,847526.0677864981 L 596020.6334732297,847789.8213815915 L 595603.3922743638,848719.8557726664 L 595161.1881964287,849302.9022008578 L 595094.2205034632,849327.6842850827 L 594739.9940572934,849245.241003729 L 594302.6441041748,849259.9158097487 L 594059.1846650034,849308.7840303975 L 593787.8972778099,849390.0203729417 L 593218.40866471,849478.6095388251 L 592798.1233142974,849705.4615099948 L 592875.6904212733,849888.4495738691 L 593367.0974131247,849716.9088207961 L 593754.536033878,849649.2677435701 L 593944.7200041121,849717.934673539 L 593953.1546098139,850023.1183581643 L 593642.6959676826,850562.8671965002 L 592844.1482800372,850660.8863021213 L 592737.4782434222,850763.5939308624 L 592719.8731870408,850950.9488310916 L 592803.9177747745,851212.305036022 L 592925.853898518,851312.016467387 L 593042.1603236867,851318.7232791873 L 593398.4513967816,851121.8784730252 L 593920.911304537,851117.1863895758 L 594221.8438524515,851700.5114906961 L 594284.3819212872,851996.5563504904 L 594111.6274975571,852079.286136486 L 594013.1493993906,852126.4482179818 L 593906.0614431038,852050.974575379 L 593848.7437793778,852010.5791965409 L 593873.9183957586,851570.0705898592 L 593697.2250249544,851524.5520191188 L 593597.9023826461,851536.873863609 L 593466.596949209,851564.4756164189 L 593618.2044197043,851750.0923428773 L 593551.2630079556,852015.3952330244 L 593032.7118657063,851947.8749094779 L 592677.8944232148,851790.7516869404 L 592450.265046889,851708.5280496076 L 592270.745599477,851747.4749629247 L 592249.9840177675,851834.8623767602 L 592259.237059167,851867.4132025592 L 592354.5970880868,852202.8939916868 L 592023.5527986037,853100.3522693624 L 591704.1857304182,853231.1809191878 L 591472.1144902314,853559.0056347663 L 591468.1594078189,853685.9079088555 L 591595.1507354145,853712.1124597362 L 591759.8431586202,853602.8158855902 L 591986.3253495242,853590.1947452857 L 592167.0840757227,853725.6963192703 L 592226.3849476512,853876.5472130228 L 592103.8131536358,853932.5751718641 L 591869.8540471217,853823.2232089697 L 591785.8081708876,853913.5025924975 L 591711.131932375,854324.8586846414 L 591300.520676972,854317.3575946905 L 591089.5078674603,854419.637089885 L 590945.1734316566,854705.5374700068 L 590948.2978164264,854866.6427227011 L 591453.142088613,854868.2450762794 L 591475.2297213991,855101.629944227 L 591156.7707309339,855337.4313646826 L 590883.9894739393,855452.1722673466 L 590639.7005928968,855721.4400081891 L 590710.9363276496,855834.8691143013 L 591040.0609770931,855782.2532641739 L 591370.7152725038,855937.1999616207 L 591420.7629766392,856115.1761252949 L 591275.2704478846,856199.787247482 L 591129.2898194523,856196.2878978068 L 590725.2082335129,856054.4957265606 L 590527.0916606542,856164.0873514608 L 590563.5673284547,856809.9770467497 L 590681.3877106223,857239.9070624801 L 590617.0434413279,857409.5443215 L 590260.9548059894,857214.5457839852 L 589988.1114874979,857158.8249391603 L 589830.1760759673,857012.1451282288 L 589735.2683906734,857110.9825895521 L 589766.4974490765,857350.1993407686 L 589786.0246321514,857623.399649715 L 590146.1442520055,857539.6958911319 L 590420.1246085664,857729.4584946352 L 590463.6650749759,857957.7461052478 L 590490.2317032506,858097.0461508966 L 590636.8047733206,858361.8212765576 L 590652.6584168253,858858.7341243022 L 590833.5521614419,859005.3723606422 L 591217.2902517339,859339.5143291969 L 591195.158555672,859492.3064204259 L 591014.8473834574,859595.8131833764 L 590575.0043802124,859461.034292361 L 590279.0910468451,859620.9492312559 L 590260.5182857579,859950.4826429781 L 590516.8371985194,860180.649525508 L 590428.3842058608,860372.0013372733 L 590021.0024281739,860205.7278690378 L 590063.3909599787,860670.6392963813 L 589215.4517937972,861516.7658440436 L 588951.2006482264,861475.320941215 L 588471.0021943214,861579.673205982 L 587411.6232701424,861809.8804276487 L 587363.4755121188,861999.9772382069 L 587513.6367567411,862215.3957133087 L 587670.0336346201,862272.4159048344 L 587866.2065194951,862145.927484553 L 587990.6043064625,862111.3413358832 L 588207.8644954176,862139.9108496096 L 588344.1037491425,862355.6139288169 L 588603.2449933414,862765.9420810094 L 588665.402855539,863151.2975670014 L 588563.7248867443,863280.2298446563 L 588404.9128570813,863175.1473460527 L 588339.6794715052,863068.7902320984 L 588260.9663305217,862814.3329158408 L 588127.4660148757,862698.426230638 L 587936.3004009676,862704.959500811 L 587795.3523506781,862819.102148905 L 587975.1975629147,863348.9527956711 L 588639.9837274805,865160.8652387548 L 588761.5110528693,865234.8019225942 L 588678.8645090857,866036.1220519643 L 588665.7905235278,866162.8893754099 L 588422.0989523499,866646.1304744459 L 588302.415586068,866650.2771867483 L 588082.1286277,866476.714465212 L 587904.7799997531,866442.7101907588 L 587671.6079470152,866610.9079148312 L 587640.1041547671,866702.684868608 L 587594.8675332975,866834.4714128277 L 587660.821886111,866961.8170257616 L 588506.9932506125,868004.7498896065 L 588922.3684672716,867942.5245436417 L 589096.9430782766,868057.0086194056 L 589224.7237806658,869035.206035026 L 588735.1231247238,869197.2897888804 L 588420.612077546,869225.6415882587 L 588354.8464272136,869333.1959487204 L 588315.4643459474,870050.1589157248 L 588408.800636332,870189.1226972505 L 588440.5422011648,870236.3824763012 L 588589.7363277227,870325.3793651458 L 589205.7440090573,870279.3270264996 L 589763.1092959851,870362.2667354051 L 590144.6676699317,870463.6369227102 L 590233.5431425207,870540.8245158377 L 590263.6950739677,870700.954711137 L 590192.8910248134,870775.4240505208 L 589923.2337577844,870824.1319574646 L 589601.4627033732,870736.7969973239 L 589291.4415194143,870526.1571542614 L 589158.0910395293,870517.483075656 L 589059.9913903828,870632.0654223176 L 589383.7857020319,870945.84450914 L 589281.9273759287,871521.3142661264 L 589544.9992754185,872354.1169178326 L 589372.6846429119,872401.9368658416 L 589163.9821482904,872163.2445644384 L 588912.2589212689,871944.2612799108 L 588534.0032402793,872142.000346843 L 588564.0509583247,872442.468963716 L 589113.2985849795,872486.3115042307 L 589164.363964472,872817.8930249118 L 588848.7152057553,872973.0222574277 L 588743.6021804257,873108.2048061292 L 588525.6283825842,873388.5509923556 L 588537.6122090771,873457.560764309 L 588545.1652798365,873501.0564955388 L 588586.2739878976,873737.7993317731 L 588843.1382225698,873879.9242295718 L 588914.4766872529,874161.5916629876 L 588904.093025811,874561.033390801 L 588604.68949443,875101.5321952946 L 588804.0296273279,875512.6128125957 L 589180.0384584909,875115.2282310192 L 589570.5103584375,875448.3158271086 L 589657.4738294164,875674.5399108342 L 589426.2392741387,876131.5730678033 L 589373.7377344667,876414.8869089116 L 589388.8120875797,876492.9631021144 L 589402.9243139008,876566.0578147118 L 589565.691955483,876878.0963487858 L 589712.6086714842,876979.5689517427 L 589821.2894207359,876986.6498885928 L 590073.1765499199,876749.9717040941 L 590124.9584464395,876558.7370400933 L 590228.6837039819,876324.9945593047 L 590288.0540605431,876168.5667425895 L 590428.105095139,876131.9161509153 L 590791.4943285019,876271.8102641521 L 590938.1843138007,876451.4875251987 L 590969.8902514036,876568.0735142616 L 590943.6648139326,876669.4039569979 L 590810.4546845898,876752.2774646853 L 590727.126541598,876806.6597044918 L 590574.1172553427,876908.6303945797 L 590340.8187952493,877168.1193848457 L 590277.6825172387,877232.7345756424 L 590300.327320621,877337.2547111282 L 590346.4740548944,877392.391522436 L 590391.5482630831,877446.2478170439 L 590573.71404196,877537.893194867 L 590897.1463156509,877776.1194498187 L 590945.8181396305,877861.2873510001 L 590901.3058598562,878269.1141913706 L 591240.7642403224,878680.1855678627 L 591366.9885560075,878790.2539798956 L 591518.7154234828,878812.9808633273 L 591542.1646709592,878847.8228472649 L 591469.5173569452,879003.8284916341 L 591277.688547913,879211.4251530912 L 591213.5751051892,879642.3780528287 L 591333.5288835249,879848.1809090953 L 591439.7530485778,879924.5280102326 L 591520.1233882759,879948.7201354561 L 591634.8715339625,879856.6260135747 L 591586.1551466445,879651.0193813237 L 591588.7162356206,879557.718842599 L 591676.6398554369,879466.4343551421 L 591751.6233302155,879491.1671586625 L 591801.8648024024,879552.0484950723 L 591834.4059717243,879747.5744673463 L 591898.8049209788,879822.9740554912 L 591994.8006134012,879839.2800344973 L 592584.0765914991,879384.8839713598 L 592901.7816750968,879629.9512594221 L 593003.8620638979,879875.9385829872 L 592897.4313141989,879991.1764957838 L 592678.1601908918,879941.49672587 L 592499.2709535556,879967.3254718287 L 592387.4140501035,880110.0652580361 L 592372.0376585955,880287.9763386701 L 592534.2845698601,880484.2206051681 L 592682.8600375872,880663.9396285105 L 592819.3091020777,881104.694006372 L 592800.9763722755,881247.3207464946 L 592632.6794681589,881273.8401307169 L 592387.6606107461,881007.461197007 L 592142.4153527609,880972.2457413524 L 592042.8973445428,881023.1080817297 L 591999.0667259264,881147.9130472419 L 592021.7072512194,881801.355453124 L 592226.7146602906,882497.6036410793 L 592027.74850321,882813.4648872026 L 591777.294311965,882978.4544499594 L 591708.0794764726,883162.6576158393 L 591837.0993505989,883298.998826844 L 591982.692095871,883291.5912008707 L 592193.150632703,883097.9177974561 L 592334.9139804087,883068.7624829067 L 592382.51491124,882887.827553692 L 592476.2462401333,882749.911158747 L 592680.1194715985,882655.6427725045 L 592873.3911837428,882695.4916868841 L 592903.5160372894,882778.4622072356 L 592818.3027209201,883029.9044969294 L 592521.5106002929,883410.3177208543 L 592450.3010886682,883585.3622565002 L 592471.8594162655,883756.7907683606 L 592531.9727870204,883844.5114020233 L 592693.3817818341,883920.9320628654 L 592974.1666999065,883848.7559105057 L 593374.9301444833,883591.378168687 L 593576.8036391458,883649.8573388294 L 593651.729833155,883768.082575072 L 593943.3813237038,884810.1341748539 L 593946.6551042502,885001.8745178727 L 593898.0832681364,885089.4896061096 L 592917.4519088375,885807.1828036025 L 592791.4080275691,885996.5751287164 L 592822.5060162559,886412.8684337202 L 592864.4245223352,886497.7409006916 L 592946.76770367,886664.4673713992 L 593100.9767514429,886720.1516867386 L 593612.2109615749,886838.0445784696 L 593365.2929073625,887711.6481108791 L 593170.3865502601,888436.7006105867 L 593202.8302604298,888603.2908855032 L 593302.9629144365,888697.7755180899 L 593464.380653009,888737.6752814401 L 593974.0067585055,888495.8152443444 L 594397.046510374,888455.3164632344 L 594578.2018617694,888580.1021906431 L 594727.5620283319,888771.3268758256 L 594745.6527303915,889008.962135041 L 594410.173910634,889560.4073732442 L 594237.1773396786,889590.8181487063 L 594035.863992763,889704.7241104232 L 593938.4659235817,889981.7942351557 L 593944.9452665357,890081.9516366685 L 593950.2655828275,890164.1964432687 L 594089.2892782007,890377.2462612623 L 594383.1538729157,890552.3435335433 L 594573.066639239,890549.123117974 L 594905.8842048533,890326.6593580194 L 595286.6102948168,890366.2119239793 L 595584.6834411433,890706.2082888668 L 595745.2667517144,891065.3459450728 L 595765.6727840623,891249.8836357417 L 595684.4177096814,891449.4498959839 L 595387.6872662221,891536.0906584082 L 595147.7042854499,891506.5776278736 L 594934.9290694377,891734.039945792 L 594939.895799511,892040.1362268572 L 595163.2278201889,892239.5973019982 L 595257.4939252811,892580.2174786013 L 595245.2849486847,892698.8702008243 L 595119.7634468284,892899.5412832147 L 594544.2975799132,893282.8802317383 L 594458.3721536449,893545.3389129336 L 594468.0759251497,893718.5905889343 L 594898.4526014129,894631.836316196 L 595569.8013044198,895460.9337604792 L 595602.2826432396,895631.4611468463 L 596262.0484111981,896408.2713291408 L 596426.1289547968,896457.6633099635 L 596673.3274816935,896386.0613555557 L 596868.871732726,896411.4623435652 L 596989.076756806,896450.1644998243 L 597074.7433265254,896553.5624213053 L 597056.4547370676,896810.0105145674 L 596922.7645842052,896960.9843267677 L 596166.3659261249,897279.3468964607 L 596053.3684132273,897454.0998763554 L 596071.024026823,897571.2787383547 L 596157.8596427753,897659.8137125532 L 596512.0278636586,897708.0517114921 L 596658.577940635,897898.1626461523 L 596695.3690068623,898166.1689988087 L 596825.0397773519,899427.2970496916 L 596735.0276645956,899540.2639509649 L 596405.0465821245,899519.9110418308 L 596188.0364015294,899638.538191137 L 596033.1564946517,900086.7037314846 L 596559.246790151,900125.2379078292 L 596728.4374875053,900270.9390510219 L 596716.7658864078,900419.9159183142 L 596715.624707927,900434.4820190421 L 596565.0951021452,900591.2649941923 L 596284.1036175387,900673.4540168546 L 595409.1471461176,900460.7931133212 L 595095.4017225467,900307.5940996229 L 594919.1821567701,900065.5040304809 L 594737.5648541544,899983.4377473284 L 594518.8189885044,899984.0771482568 L 594453.271646334,900034.7054586997 L 594392.7126132074,900216.8377794991 L 589912.7466147685,899942.0475372841 L 588330.7638241147,899845.5454692394 L 587552.9941844523,899792.2254158119 L 586515.0086145574,899724.6291161436 L 586480.2363189374,899722.4010689817 L 584489.2414967087,899595.0516185337 L 583840.1295186331,899546.340512439 L 581085.6387392601,899340.1585989583 L 580627.7060182324,899327.8621319097 L 578198.3266066777,899119.934241791 L 577814.3292643192,899094.3513570701 L 576498.3076992751,899008.7143755278 L 573477.873974925,898812.895179283 L 573229.0352135601,898830.1282851646 L 573226.0457026535,898830.3353634501 L 570387.0123601205,898614.0142882413 L 568786.0171768337,898506.1237187944 L 568119.9870716977,898452.346748529 L 568084.6654124173,898449.4961702415 L 566076.4185647902,898326.1723823238 L 564476.5341563076,898221.9704148979 L 563946.7328171476,898187.5267041646 L 563946.1727248976,898187.4903076873 L 558693.8750478681,897847.7143805049 L 558410.6716098596,897816.4942130968 L 556791.5538952354,897722.356291418 L 555285.0374962518,897635.0267000713 L 555264.3229586657,897630.9847238653 L 555247.5213971592,897627.7063141968 L 553093.8149509194,897486.9599764385 L 552424.1334734311,897443.3009387982 L 546232.7653949842,897042.0247576389 L 542861.0146390491,896825.287128255 L 538018.135401847,896516.1965810006 L 537901.9218909869,896508.8294286506 L 537894.85247941,896508.3994490145 L 537105.978068537,896460.4529850733 L 535797.6745519825,896381.0889447423 L 534739.5215608783,896266.8037669286 L 530787.7039356745,896026.8144847401 L 530338.1480633155,895996.6215437793 L 529340.2251527318,895932.9629039543 L 528924.4778652539,895908.4980302501 L 528852.8546718869,895903.5246682974 L 527474.1154428712,895826.7935309242 L 527474.0034614132,895826.7873073797 L 526871.1507756753,895793.3030011917 L 525847.2860251114,895736.5268403122 L 525673.333253744,895719.9412985706 L 525544.5895148674,895709.8880862747 L 525179.1148893012,895689.7788713484 L 524727.74037928,895664.9637229681 L 524645.0613964555,895654.9258509286 L 518859.16098188714,895324.1161895025 L 516997.90924857976,895218.4891978041 L 515446.4825877042,895125.9364152597 L 515358.0772027777,895120.8926608695 L 515080.622746009,895094.5983127747 L 514956.4685747877,895092.6441523256 L 509249.5222577432,894750.872355983 L 509014.3750376975,894740.2935889744 L 507448.53800071956,894645.6833481633 L 501099.1081651045,894264.8334223022 L 501091.5484788029,894265.305162553 L 498786.4729470112,894177.9603836351 L 497784.0046898143,894099.3947639911 L 497151.26104837074,894077.5862726183 L 496782.8796670637,894053.5365193662 L 496418.8666759686,894032.4313531552 L 496413.4000166691,894032.1145130426 L 492412.8712482887,893803.5538585149 L 492394.0839153761,893802.4846821567 L 491546.34253273456,893760.2263555257 L 489871.68246144755,893676.9819628488 L 485860.51209595735,893478.8586817158 L 478683.2335396528,893061.3738517476 L 477726.8535131258,893006.175571247 L 471845.0739523596,892668.9372404774 L 470130.0960231216,892571.3305358987 L 469364.16875288,892527.8438604912 L 468171.4583134532,892464.746755905 L 465575.8470066299,892324.853796218 L 465558.8846526944,892326.5410573133 L 459105.6095317608,892025.7504487043 L 459099.02309795545,892025.4458102185 L 454547.7318763402,891799.7197671161 L 454474.4139805089,891796.0323395983 L 453837.5382634373,891774.041625601 L 452413.89171888714,891725.0468725294 L 442779.26529146114,891216.6643596484 L 442747.5550317071,891215.0081381666 L 440204.6757919006,891082.5572289731 L 438148.89036577806,890976.0020840128 L 436426.5512312187,890887.0910923559 L 435571.41070703615,890843.0691090004 L 435368.90495517943,890835.8727935586 L 429513.6044657329,890555.6259872039 L 428555.3935000583,890510.1260218049 L 428297.7867395591,890462.8456692215 L 424628.15646036825,890367.1674348074 L 424621.87612558925,890367.0049650439 L 416406.21903914475,889960.1815962363 L 415280.3183915542,889936.1039331729 L 416374.4535030906,890649.71967474 L 418116.06662101636,891380.5013079928 L 419608.98283572175,892123.6896405634 L 420719.8614603425,892927.9494567676 L 421328.828027327,893596.7200635383 L 421975.0379767248,894649.2808616421 L 422238.21733233414,895469.8956929031 L 422303.5793351729,895838.4797604098 L 422323.16160051967,896352.7874445298 L 422157.13326825574,897100.7039408223 L 421853.9137743278,897746.1333194366 L 421504.0889599623,898103.4700987298 L 418824.4691422456,900345.7778305565 L 417363.59642577765,901404.1901147984 L 416851.4637141657,901692.3050910325 L 416474.60424192075,902005.7301889646 L 416177.9619988771,902318.1931512606 L 415720.4514423106,903036.3691710777 L 415663.2664265556,903281.9386466517 L 415686.9715051281,904356.2519168172 L 415726.95353855175,904705.0745290457 L 415803.039184651,904914.5870396454 L 416028.70674200595,905274.756810455 L 417596.99028438865,907315.4696277581 L 417994.87111579324,907895.9389282876 L 418228.2278219515,908341.0702512091 L 418706.3273144295,909435.246488786 L 418911.1997011912,910053.7117401757 L 418931.92010931566,910326.2993633221 L 418867.8104000383,911206.9196411339 L 418807.9422728858,911447.0285153979 L 418737.8619420001,911728.1095685002 L 418222.86298534414,912625.9155913601 L 417563.9254555142,913330.8774651292 L 415244.64333867363,915172.5732481021 L 413377.5041123686,916015.957215605 L 412608.6274805464,916902.5915983259 L 412296.6985327656,917721.8714796935 L 412278.6868907034,917903.7095912333 z\" /></g></g></svg>"
      ],
      "text/plain": [
       "<MULTIPOLYGON (((719751.38 821718.593, 721088.071 821136.948, 722609.678 820...>"
      ]
     },
     "execution_count": 7,
     "metadata": {},
     "output_type": "execute_result"
    }
   ],
   "source": [
    "# visual of a single shape in the GeoSeries\n",
    "MS = gdf_states.geometry.loc[3]\n",
    "MS"
   ]
  },
  {
   "cell_type": "markdown",
   "id": "541ac665-07b8-4c30-b5e5-b99fa523fc83",
   "metadata": {},
   "source": [
    "It should make sense now why this shape is a group of polygons called a multipolygon- all the little barrier islands!"
   ]
  },
  {
   "cell_type": "code",
   "execution_count": 8,
   "id": "b9f1a2dd-4042-4c75-b36a-d7945101c49c",
   "metadata": {},
   "outputs": [
    {
     "data": {
      "text/plain": [
       "shapely.geometry.multipolygon.MultiPolygon"
      ]
     },
     "execution_count": 8,
     "metadata": {},
     "output_type": "execute_result"
    }
   ],
   "source": [
    "# showing this is a shapely geometry object\n",
    "type(MS)"
   ]
  },
  {
   "cell_type": "markdown",
   "id": "b150113f-60db-4d91-9409-39bc12b3644e",
   "metadata": {},
   "source": [
    "## GeoSeries.boundary\n",
    "\n",
    "Gives you just the shape outline"
   ]
  },
  {
   "cell_type": "code",
   "execution_count": 9,
   "id": "9c852735-7596-4a2a-a09b-9975f42a46e8",
   "metadata": {},
   "outputs": [
    {
     "data": {
      "image/svg+xml": [
       "<svg xmlns=\"http://www.w3.org/2000/svg\" xmlns:xlink=\"http://www.w3.org/1999/xlink\" width=\"300\" height=\"300\" viewBox=\"390479.73360554385 788498.8516342608 360464.132429959 588571.7386993071\" preserveAspectRatio=\"xMinYMin meet\"><g transform=\"matrix(1,0,0,-1,0,2165569.4419678287)\"><g><polyline fill=\"none\" stroke=\"#66cc99\" stroke-width=\"3923.811591328714\" points=\"719751.3798814471,821718.5928733781 721088.0706856416,821136.9478578507 722609.6779746099,820837.00655686 724821.8406591588,820505.2584119388 725231.5356305483,820585.8738267049 725846.4932827385,820706.9154718473 726972.3894310788,821491.022456925 728309.219080737,821604.5119314236 728644.5552224811,821379.1765511979 728541.4834256917,821070.1027477497 725294.2096204124,820120.7207757838 724842.6815391121,819988.8169008325 720939.1632015178,820721.555171198 720014.7228603587,821156.3850783394 719618.0377047424,821520.6192767065 719751.3798814471,821718.5928733781\" opacity=\"0.8\" /><polyline fill=\"none\" stroke=\"#66cc99\" stroke-width=\"3923.811591328714\" points=\"711098.3284444257,834567.7002612305 711151.5772592868,834658.7505999467 711281.5512829848,834746.2222132913 711404.4461851002,834721.0802072719 711604.4721695936,834754.8868371575 711955.5771972423,834696.2594842258 712342.7091722463,835091.0583066263 712463.485595133,835047.4957365671 712483.3694916957,834883.4093414391 712565.8154127405,834660.6190594609 712656.7631148911,834274.0793988577 712684.0326040733,834133.7441667097 712650.6408956628,834011.8256579391 712472.6395313481,833949.8695220802 712304.8644383434,833746.247362054 711624.4391772782,833790.8974651112 711318.8968124366,833931.41015961 711094.5715516614,834390.4034616929 711098.3284444257,834567.7002612305\" opacity=\"0.8\" /><polyline fill=\"none\" stroke=\"#66cc99\" stroke-width=\"3923.811591328714\" points=\"694643.5849652005,822888.1584196879 696291.0142082673,823304.953233258 697911.0089289374,823396.7938530397 698724.932794924,824043.4046950738 699287.5597332485,824191.389212949 701945.9593595122,823453.278745956 702855.0802343967,823359.262077171 703955.1882098821,822976.9048946546 705048.7892276134,822596.9790773537 706027.3662796045,822532.7499774168 706675.8913010322,822490.2428306295 710807.0069145095,822151.8152521864 711007.3110712721,821970.7816039192 710854.0876925713,821674.6193011925 707323.9972124201,821925.5065474517 706063.8324021439,821977.6371117637 704238.7725838916,822053.4482050729 704000.8027132383,822090.5168462041 702152.9645341546,822378.5812966472 699394.7799596604,823248.3920563143 697465.526772351,822613.2317137182 695810.5576274487,822426.1615117212 694671.754077449,822630.0736763873 694643.5849652005,822888.1584196879\" opacity=\"0.8\" /><polyline fill=\"none\" stroke=\"#66cc99\" stroke-width=\"3923.811591328714\" points=\"683686.9240146315,837562.9065195929 683804.0080817483,837629.4063766157 685035.7077441495,837190.6306002586 685321.5000819482,837149.2396136071 686521.0464058961,836786.7584074058 686688.8501158498,836796.9799799973 687307.3863554841,836573.7328012886 687868.624156241,836200.1740645405 688198.7303718561,835819.4007489356 688475.5050707455,835573.9359862929 688458.8619876042,835467.08994906 688344.9216661999,835439.08468088 686884.2466582019,836118.4082298132 685193.7253498839,836804.5829646919 683735.2296574023,837401.5878940756 683686.9240146315,837562.9065195929\" opacity=\"0.8\" /><polyline fill=\"none\" stroke=\"#66cc99\" stroke-width=\"3923.811591328714\" points=\"681406.0343604545,820303.6573343776 682544.6186675879,821125.5308295459 683439.9094601403,822053.458915077 684095.6095373908,822572.89966077 684237.5440218521,822547.376035365 684238.48855294,822397.5763813568 683490.4280284843,821606.310401173 681969.6244094081,820385.5843001324 681529.4973348253,820128.5184247026 681423.3741028743,820187.8268728809 681406.0343604545,820303.6573343776\" opacity=\"0.8\" /><polyline fill=\"none\" stroke=\"#66cc99\" stroke-width=\"3923.811591328714\" points=\"674228.2954491245,817653.6189581554 674411.9671859402,817779.5415063875 675058.7779776504,817988.0882099748 676057.6833538114,818048.7958059509 676742.0472521154,818182.0990944698 676944.5548609161,818107.1888690571 676830.5093970373,817872.3829160394 676249.0222718468,817573.5946632399 674702.9151891811,817446.059974597 674329.7578417188,817529.2053895892 674228.2954491245,817653.6189581554\" opacity=\"0.8\" /><polyline fill=\"none\" stroke=\"#66cc99\" stroke-width=\"3923.811591328714\" points=\"659612.9427061935,818868.5359932311 662761.3625117864,818987.89818487 664718.7362569637,819062.654408767 665186.0085416307,820124.0658685487 665508.6469457076,821091.6872545436 665764.6302332594,820946.965606759 665566.4847153651,819837.2520157452 665071.9652166141,818686.0028123682 664711.2732577617,818022.3631772413 664171.4137611759,817216.2243537792 663923.9958567123,817188.2856199588 663842.2124402401,817351.6421691006 663484.0333770568,817474.8314547717 662864.9567601393,817365.6181751575 662331.4071297238,817271.5284708502 661960.6954104409,817154.9787384485 661725.3114495634,817237.3985397813 661732.7329264049,817546.6200055993 661654.1904043203,818078.6935202702 661252.7830794101,818248.7000007705 659501.2395297326,818476.0663094781 659612.9427061935,818868.5359932311\" opacity=\"0.8\" /><polyline fill=\"none\" stroke=\"#66cc99\" stroke-width=\"3923.811591328714\" points=\"412278.6868907034,917903.7095912333 412351.7695801323,918345.6682180796 412584.5750379745,918776.7884666789 412826.7622386785,919089.7266042272 413505.9825689609,919642.035181685 413841.5709906692,919742.4300676339 415387.46884183085,919828.1659347762 416789.51698545815,919680.0626200704 418600.6633764196,919392.3382181758 419863.9822442517,919309.2172713951 420838.7807472729,919393.0143730708 421806.6552873889,919596.11206846 423317.1366742063,920148.046322525 425091.5354968486,921113.1494144464 425357.1187175057,921451.7326141385 425660.26293246954,922130.7393174713 425926.85204940144,922975.1313079421 425958.109096026,923442.8045919127 425898.35673474934,925346.4600428512 425822.14581546385,925586.6007620035 425681.6663252995,925768.3374365708 424846.0400126415,926454.092259061 423556.23219592584,927336.7851325463 423402.0645194969,927488.1711137099 423104.83618007106,928045.6987030907 422171.5627583477,928604.2424831716 421836.0938797084,928977.6527901808 421807.87370800815,929727.5452189671 421586.60151903564,930449.7954143144 421558.0142151653,930790.5931920588 421594.9332634759,932203.8970061974 421882.6426122608,932761.4127067346 421913.82388671685,932905.7071398105 421308.00566718465,933231.3872387895 420996.6263246279,933300.9268700583 420547.7387182207,933073.3694825615 420362.4446414614,932915.4155976181 419785.7934270788,932265.6957306205 419533.3807127875,933037.7048971168 419245.8419245861,933717.5130247668 418786.7344652437,934607.6091964405 418770.2571644144,935140.7471594011 418923.35306360904,935887.5761071113 419460.8880474316,936914.1799025157 419905.19416757417,937376.1437541079 420860.0659374432,937991.6041883257 421043.4377349328,938236.6298834225 421438.5252609364,938475.3147562118 421763.22860991134,938530.4314371314 422090.5380045532,938398.7119582999 422188.10481684486,938297.6628083043 422554.6375481108,937579.8197410828 422572.5151112583,937471.7997181308 422363.3319998487,936874.3308003751 422387.99312400795,936442.1722761003 423186.10717303446,933833.9490703766 423745.23011097545,932810.7383011372 424259.13844054803,932201.5708750294 424839.3475166474,931684.8083409754 425608.6469957507,931274.4017136749 425986.0099986346,931144.5269385327 428380.72272575257,931258.7772163621 428953.3768044218,931995.882352812 429053.1515007773,932623.566834533 428940.81999801897,933200.4760594168 428930.048821601,933373.8858593405 428876.71155616106,934232.6101312194 428860.8566636897,934732.2420059429 428390.8906434368,934918.3132829667 428043.30171121366,935636.5873472077 427070.99295374186,936517.9528856311 426083.0702796473,937340.6372425042 425422.1542092488,938528.333490283 425010.8269172176,939341.0147773144 424697.37541697384,939935.4894774221 424505.2655984382,940462.3887788521 424268.82338858175,941717.9689124842 424039.94714421267,944260.0130987226 424056.9793482006,945922.4728956597 424218.2391903857,946485.729126542 424205.564233933,947235.4677037604 424022.765504326,947411.7191292623 423654.2127421352,947554.2473094783 423415.98200797266,948020.6582217542 423398.1916113502,948281.4895408761 423422.75130865286,948531.948370528 423516.23025233246,948740.7461111533 423815.65654899174,949224.759003962 424012.0495118179,949542.2593810476 424180.3156652468,949682.8285077128 424436.99721436703,949753.8020206937 424860.12632933125,949813.2653777484 425485.6589019784,949803.8783731863 426469.025551532,950034.4206528771 427016.5606918571,949870.9801183433 427272.2708903946,949671.3917527036 427425.03566326934,949645.2276540187 429697.29083278554,950607.988603558 430143.2089695415,950797.0175936193 430181.7892598718,950813.3735723377 430743.23322619725,951152.3605999382 431318.62591542746,951592.3653337948 432331.64726756065,952577.3225282856 432655.2940451568,952855.1153984091 432926.84026732185,953088.2125596278 432928.14594490867,953089.3334136883 433377.1649630167,953474.8212728802 433999.56481621886,954307.4080783417 434011.4141074516,954339.5468307815 434108.34709126886,954602.4684518566 434197.4553148807,955108.3583654577 434249.07599986356,956203.0850102262 434267.51288714254,956594.2189365892 433378.2786167444,957175.318443097 432986.3808328789,957256.7158011878 432453.3251224244,957320.1782132963 431701.2936132229,957217.0809112276 431180.6351455513,957024.8458500832 429758.97569262784,956359.0924460398 429218.43677523715,956106.0475074935 428395.5218168947,955899.5290656055 428317.40954623837,955891.5661905312 427161.6973541369,955773.8320167514 426610.35167357983,955825.6245081684 426282.45244394976,955954.9391110709 425748.90262612846,956230.4382594086 424901.487946935,956810.2122040903 423877.31634451635,958005.4569717092 423693.7249946633,958275.8861321615 423515.6408439097,958538.2226218263 423444.15507037065,958717.8713833487 423352.0129312072,959291.1309201116 423425.49662771245,960263.2385111039 423522.4955919415,960606.6788867948 423794.6342163254,961104.4210812284 424246.0453727395,961610.2106683422 424974.4762548325,962267.8244078174 425122.9077993113,962354.3397668554 425425.4968765047,962328.7843147439 425592.601186529,962254.8939507362 425866.65609051887,961902.3907549921 426124.1939598521,961475.9875741324 426615.66303476435,960886.2690597855 426893.65632409294,960609.6769579138 427431.7745207648,960234.0186010504 428449.36078753317,959725.228359604 431048.28044978896,958991.4413347685 431725.3887500439,958879.0961028911 432526.6182695931,958939.9886148244 432954.0848484101,959135.3948805603 434376.505252414,960010.3244730445 434382.491805448,960028.2672199211 434599.52560455725,960678.8170349252 434719.2413062697,961946.1465250982 434737.04355810664,962134.6535606148 434748.3620321601,962681.4377211429 434431.6462060175,964728.4459565491 434096.1782936084,967554.906950157 434053.34455205174,968634.2555529184 434189.35376607213,969922.9714270638 434253.9886143885,970149.0855043778 435666.9933941713,972570.2113133087 435726.49733076215,972659.8416296676 436468.81553104,973778.192673009 437078.33575395925,974391.7336649605 437887.42645541346,974534.0664437702 439553.19471356785,974715.9213631201 441329.0763858322,974801.4899852896 441514.32175801095,974788.5929439175 442189.833292358,974741.5958451271 444002.09303986625,974406.3325955778 445525.0520919202,974510.4106788917 446619.1606692032,975563.2325241673 446938.81671464955,976339.8934968087 446583.84791680693,976958.3407641875 446272.12468105723,977082.1415073673 445540.4230554584,977372.7942876293 444389.1017414864,977414.1390341887 442980.0088696833,976751.7422409902 440685.8753159563,976054.4492796157 437949.8753934481,975535.843237991 436958.7071242427,975884.9226972088 437027.943214886,977977.3476291613 437320.2458793778,980110.1843539961 438338.60647119547,984810.1374790225 438382.5298399673,985013.0004986137 438614.8117394819,985470.4733276017 439023.68078422936,985981.2328379377 439992.60584448074,986419.1843335686 441902.9605723774,986702.9758973633 443085.3379565406,987207.4796299431 443209.3100074712,987180.1654776591 443668.57566879864,985719.756649984 443663.981310135,984247.0864185151 443759.6088903271,983694.5571825419 443935.0558445357,983201.4196951876 444240.0742344982,982569.8584233111 444514.1479899122,982182.003730036 444711.2819048298,982013.3706994469 445050.750257233,981829.5174512197 445769.0456742439,981619.9355186889 446445.903957771,981675.9870337088 447030.11318437365,982073.1707095415 447519.52798028785,982666.3925878049 447752.4481421576,983186.6974626709 447920.00910074025,984212.6235634116 447856.1312145168,984401.0237364189 446323.46037838416,985769.1067333488 445780.92817335966,986304.3631065048 445629.2444388283,986508.704349859 445551.73520911916,986739.0495409081 445513.515726223,987127.492870183 445613.66198644135,987578.4863748989 445679.0872730629,987693.9724386672 445717.6924376465,987762.1185325456 445908.6121880014,987905.4736257826 447414.7216208588,988470.1128953444 448621.6059078259,989312.9968557858 449323.167279679,990267.5041904371 450943.27794432157,992061.65376402 451270.43632638414,992490.8685439422 451465.35702064855,992924.5719605148 451627.8639964223,993066.6343226408 451959.7785516418,993027.6445320393 452302.6184018251,993145.3797646316 452412.07232587377,993217.8464680159 452465.3191854769,993328.8997112428 452565.5432756185,993537.939635133 452708.65352129645,993690.1962686717 452986.6648132642,993810.7522768286 453262.06324505166,993930.1870353506 453440.69383526215,994092.3341182801 453496.3499615375,994142.8564870018 453437.48350757884,994374.1144368913 453059.349795477,994767.6515398833 453073.51741043566,995016.8427951648 453119.11928679375,995819.1152056868 453014.3986664098,996025.7458315574 452417.88320413965,995895.1214932773 452244.1783468243,995975.5641659193 452212.0361009893,996052.020615071 452499.51191196736,997260.1567365819 452526.9642772712,998020.0956313746 452474.5299966649,998497.1137361369 452529.97275862814,998890.358846877 452832.9088641534,999418.7526291631 453213.8536229775,999940.0837655612 453484.71167287783,1000310.8100351595 454128.34280195733,1000990.5570171945 454653.3928030195,1001407.735487204 459042.9177345079,1002134.394228358 460273.38965030195,1002565.9150116362 460998.9593839716,1003105.4010169783 461532.2846612943,1003724.2649447678 462769.41483823926,1005648.3010137834 462383.3705805585,1005794.3067064903 462271.111033822,1006361.9691790014 462072.1435603893,1006931.8409773664 461887.0236538635,1007234.6609139236 461522.4040020446,1007550.4011323198 460810.47259826685,1007848.321413008 458000.8523105022,1008306.1302460198 456102.3241764037,1008621.6775430337 455495.6291507667,1008891.9240821998 455016.4014169527,1009246.8142002345 454744.2594963148,1009601.1286526517 454506.8429050834,1010013.0092319818 454426.40471971757,1010299.0048731524 454409.3994472259,1010632.7527976981 454433.32713655056,1010901.7540881701 454540.5726045149,1011197.3183376456 454933.31991021184,1011797.5482962965 455563.9863208631,1012343.0085777442 455904.3141965413,1012494.298585682 456446.31045498815,1012566.6598290011 456867.1175363159,1012431.9992772207 457479.9114061465,1012039.4142254412 457929.0022562621,1011538.0418284877 458926.44893977855,1010071.9636382377 459967.25776087836,1009232.964382153 460447.4653842391,1009045.7455361867 461991.3862669396,1009036.3155611323 462183.8812672384,1009135.549309726 462276.16930038325,1009352.3289221281 461885.15457109385,1012177.2494771415 461892.3907124753,1012400.7897041134 462025.05580348155,1012563.8793514414 463239.9178339808,1013316.0604654616 465798.341890593,1014891.526086707 466147.86920111603,1015222.137793377 466500.4556017742,1016032.8813096838 466445.72702652117,1016720.0924301757 466390.72459394496,1017410.7815838584 466400.7535793004,1017412.8519837438 466753.51767655025,1017485.6849145917 467395.42105243803,1017798.3173080479 467611.12171741895,1017988.1869971862 468119.8865179771,1018684.4813664133 468574.6835336819,1019690.3440863502 468688.9524062033,1020019.9946195161 468753.9982319691,1020391.6989224254 468773.35293389467,1022167.1976788867 467496.3567205297,1021966.155948775 466699.0586159331,1022114.0688278006 466021.5070321219,1022669.9762202166 465054.760517242,1023367.1869098471 464244.96468332584,1023760.1912632372 463471.46246288024,1023998.9109582441 463471.42453141994,1022916.3560682499 463814.77475442266,1022097.327895497 464414.2524591764,1021414.3192634829 464568.51896636223,1020618.845751647 464437.5927842469,1020065.1866248507 464350.2288925811,1019937.8750412705 464281.21288319695,1017711.8506120127 463479.96634718415,1017968.095663243 462747.85574080417,1018440.1417175307 461989.694017589,1018625.662089215 461556.73962560366,1018658.9097374765 460618.9352848911,1018567.0823399735 459740.0350828743,1018246.2814060078 459510.69815693295,1018108.4647180369 458826.75250353274,1017518.503695471 458647.5541350049,1017565.9671701029 458581.59121308726,1017583.4395325276 456934.3715787686,1017552.6116649493 456443.6283559387,1017656.6823829463 455691.84832408035,1017955.0946893381 454683.3594075528,1018110.3537771397 453951.3995977246,1018123.3614568525 453695.7522755057,1018288.4370141048 453053.3585029498,1019367.1826507214 452858.3358501786,1019888.328224602 452725.48193137615,1020547.6670722682 452756.37293606246,1021581.8092726527 452932.15563094715,1022962.8123031136 453153.50698813825,1024102.2146720196 453461.008478622,1025262.1031773797 453646.4240219017,1025511.156345117 454007.96593109606,1025855.5745989978 456232.0210235403,1027250.045532385 456548.2235145168,1027292.3731347497 456710.48610693845,1027245.2284063115 457139.305306138,1027036.7726444568 457799.1333802347,1026575.5964466308 458097.4198021092,1026594.1772468042 458198.9637974222,1026582.9970094739 458611.33138628316,1026782.8010976901 459314.3741337703,1027901.6444389065 460057.3413368323,1028609.6740657544 460829.05550589063,1028939.7868141514 461630.9918830706,1029048.3134254153 462011.37110773986,1028956.4392502897 462962.62995617266,1028179.9417475598 463517.4148969203,1028889.651004358 463686.16043555684,1029255.603757013 463770.20196538896,1029985.3647251612 463884.21310799423,1030361.9983879625 463890.3526002067,1030382.28124295 464227.586592008,1030757.0401891207 464922.84824942116,1030927.2806078375 465367.5685328563,1030861.2344563137 466104.85332784837,1030587.2954810809 466597.5618041616,1030322.912353002 467770.42976133357,1029268.4306336506 468416.0307528642,1028956.3771262714 468310.8591785457,1028401.1371316678 468327.78538362967,1027775.9832751697 468616.43947225064,1025932.1610864319 468761.68653154327,1025598.27949884 469009.25084711134,1025474.9295852277 469323.0168421155,1025551.9562350067 469484.2429253659,1025826.0899103454 469523.5877002513,1025911.5130078663 469842.37369942566,1026603.7197313479 470280.9812780183,1027670.2443387792 470249.8610003264,1028858.3116710267 470218.66056214186,1029980.2067575122 470413.09556663706,1031355.5952022953 470775.2855887273,1031876.0452547241 471327.3647141355,1032305.7782713498 471379.7972026336,1032402.3199244818 471167.3038926465,1032973.9637235805 470344.3660580099,1033768.7165536466 470207.88649250503,1033926.818276755 470003.7672873795,1034313.529796427 469844.7529210961,1035383.4448775534 470088.969638107,1036675.1736442009 470194.49911770097,1036936.6102959967 470484.8389342757,1037258.7303593837 470630.3009268576,1037341.4448465875 470904.94289649156,1037397.8478194608 471609.78867990355,1037365.434943479 471713.36744192615,1037305.4011946779 471909.59217378293,1036981.2518978135 472490.77750466246,1036225.447912901 472728.0823698423,1035992.6951662581 472888.1356153083,1035906.9884329443 473215.54960412416,1035956.4427943497 474421.6584595547,1036756.5422028268 474470.2116912528,1036788.757663781 475412.2876192343,1037669.2211603968 475521.18799032096,1037771.0179208298 476059.9980680565,1038351.6685167432 476896.6547879672,1039560.1115019774 477016.39930086234,1039733.1035606896 477236.5558352973,1040201.5284035394 477337.1205922361,1040631.0521556058 477343.94436022267,1041412.130889412 477713.14596150664,1042143.9961194941 478428.75673957774,1043562.9858890236 478552.8624394716,1043809.1351466546 478885.2771497637,1044468.5273670347 478916.51456659526,1044530.4977147821 479366.5311987594,1045989.7890136304 479437.56384298945,1046220.186278881 479176.4253060231,1046442.1280652229 478200.53462258156,1046246.0019461103 478188.05121368234,1046243.4938833095 478080.728875497,1046121.5026187476 477913.0550103927,1045930.9208547493 477477.1081416142,1044096.6437271946 476606.928693274,1042849.8425485761 476200.94876009924,1042363.9728559449 475361.80585656734,1042611.4396190293 474061.03441628854,1042865.046844265 473299.2744779878,1042934.8553856849 472215.00923127646,1042866.3407062108 469179.81426584366,1043364.3590363404 468516.2841987326,1043584.6710127216 467888.9391318514,1043958.8810985307 467544.98912298464,1044437.5810372683 467436.27639340074,1044722.0192639534 467416.3598948317,1045100.5573962525 467701.79393495223,1046622.7839982894 468072.4908980193,1047358.749103676 468192.6976829238,1047835.7929433126 468250.9419984344,1048341.3951953669 468181.3223065121,1049128.652669678 469403.5957923654,1049682.327153837 469966.5258981359,1050131.6963581287 470261.16858657723,1050441.5047967304 470554.88636574603,1050863.824442673 470679.9166794877,1051177.2808511762 470682.73672545,1051599.3779794339 470585.2462905108,1052606.0456656942 470537.13741276663,1052785.6095167072 470363.9439891913,1053065.066731885 470259.4498689544,1053216.5218604195 469378.4852850904,1054012.021159587 468911.0952617585,1054215.6577461045 467925.7385578097,1054361.6213382643 467452.47011767473,1054260.193779146 466933.76468686,1053738.9117367805 465872.6466675621,1053080.315223378 464991.763758867,1052375.3598779985 464688.7736212991,1052259.004539532 462483.87612881087,1052690.953542714 460829.29144722165,1053352.861705247 459715.3406114435,1053886.8572678184 458406.74808947276,1054745.897391973 457069.8244603414,1056161.8377119496 456738.21535334736,1056602.5528060002 456334.0118388998,1057363.3544785317 456144.5104299446,1058682.237711119 456171.30279092735,1059253.0839314926 456993.8623790159,1060947.4789394508 457462.70249603427,1062162.56533205 457658.0716144998,1062995.524068083 457708.94492501527,1063472.2947275091 457672.2243623399,1064312.1642404227 458032.93638973543,1064819.4667750932 459888.51776677504,1063166.6636665238 460324.9563986757,1062597.912373859 461344.9528220698,1060885.4550393405 462312.56323958526,1059571.0631177076 462815.2702637643,1059083.6225090458 463563.7103073688,1058553.3296802875 463966.80381656217,1058362.242741955 464900.8102936772,1058042.6526076638 465562.99179982,1057909.8843994495 466776.53363598796,1057794.992424589 467238.8992481924,1057872.3737979832 467495.85013410024,1058032.1925417106 468004.0509503029,1058486.0001365272 468178.5184883679,1058820.436698194 468210.17539341125,1058881.1232438958 468268.38053181826,1059017.8616001774 468284.3071672854,1059384.5259716166 468106.223603334,1059953.344623414 467492.9127141825,1060788.6652111213 466308.25908180844,1061592.8528965977 465217.9481535951,1062054.6275714962 462109.70812431996,1062994.385343671 461096.34743866633,1063562.2894598504 460592.59959959856,1063968.4243236051 459760.104268174,1064639.7528536748 459235.27891911374,1065698.4516580875 460150.193788483,1066426.8577142095 460227.0605714962,1066488.0650030517 462034.6998175326,1067762.775383829 462565.8205177287,1068085.9378020598 463225.55361146084,1068487.4333351948 463686.3214461318,1068934.9172243841 464387.0079920278,1069921.029545542 464982.85579787794,1070522.4322181877 465208.061106625,1070697.9865472615 465513.30333593,1071105.8157768985 465991.95036914793,1072008.0623164484 466112.5421306262,1072561.4574663101 466069.6285578172,1073438.9773324553 466006.07324321015,1073691.403654348 465659.131114704,1074389.7620503407 464909.5655595163,1075380.2856298224 464440.0307858236,1075731.2651651886 463804.22969711805,1076002.6321541534 463407.922343027,1075700.3013151744 462685.1356957118,1074812.6389895678 462522.92187879723,1074366.11519786 462468.3338467581,1073538.3288381738 462324.5376282118,1073044.308094645 461841.19222693733,1072212.3768739107 461794.66793618526,1071498.7398060136 460727.93806005287,1071240.371176386 459063.1312910975,1070629.92206704 458312.31672194006,1070187.8770464163 456677.39749842556,1069412.0414911255 456023.1966909366,1069300.9512921108 455504.20222038944,1068710.619761999 455393.0799103397,1068666.4910217696 454900.989133578,1068684.9896155894 454632.09879682935,1068817.0371955873 453915.7301717926,1069356.3330602502 453336.9983813483,1069947.400152168 453044.84583457315,1070312.6044922904 452826.18990037136,1070695.7592578074 452282.52558385325,1071983.0035256008 452015.6019647461,1073115.4451792638 451996.8215078097,1073313.737624381 451961.90670426516,1073682.3953447056 451946.646828122,1074122.3175627603 452012.57386858395,1074743.1829719343 452065.88130639686,1074829.7795803081 452268.3642826914,1075123.0180729015 452749.2981820293,1075593.0012935032 452957.36137899465,1075741.6883168155 453264.3049067758,1075814.2464431396 453359.5250964108,1075913.7209606369 453937.4870096133,1076864.653179732 454199.02232085256,1077601.0363630673 455030.5730711013,1078619.0375494552 456269.1299895256,1079616.4541482925 456781.70487790066,1079962.011048827 458388.4164148345,1080696.960440554 458846.61189481936,1081013.805814033 459921.42175332713,1082094.4585068845 460508.07041058893,1083202.9023956268 460682.99446206656,1083955.176047884 460689.4596900438,1084252.7634359808 460690.35598664376,1084294.0246712428 460436.74736313155,1084651.7912507413 460075.07813509135,1084846.7740454178 458518.7932616552,1085328.9453681193 457251.54779693735,1085661.672593738 455081.7392048235,1085982.0421905932 454181.5677044566,1086251.662362207 453385.2606514884,1086245.3145884646 451666.4413985822,1086009.7949060467 451270.90106463654,1086051.3723695443 450878.52853453544,1086155.3470849881 450413.64133291965,1086529.3162254668 450208.8779017105,1086998.3177617877 450126.5570082972,1087724.7821171018 450181.76340257126,1088190.2748841255 450786.0613391924,1089790.4385877685 450826.30315550667,1090273.9553060448 450667.1701239314,1090349.9568667535 450099.62554322486,1090848.8625428618 450188.19271676615,1091565.3088299958 450296.70055702457,1092443.2979588828 450258.7348844585,1092999.7459763966 450233.5363600861,1093369.0813208506 450202.0537144137,1093830.5348631868 450456.01530162623,1094942.6478740477 450557.1646646148,1095117.503619607 451003.95960677706,1095458.6972260098 451207.66832019924,1095977.0820166473 451578.32367918984,1097297.55832149 451701.7727330847,1097512.6779060531 452204.42095545254,1098011.6550627926 453099.2497192664,1098737.246881061 453394.09295509773,1098730.2595797325 454191.8664344785,1098858.403263094 455147.9377497025,1099215.436498155 456821.9549698183,1100977.363614338 458227.44536548277,1102756.0164426675 458432.9034626795,1103132.0546156564 458727.0463705662,1104168.0367082981 458771.15330393816,1104465.8713349982 458770.8384958918,1104490.5990487973 458767.37864581484,1104762.3354550123 458599.9144449134,1105888.4366952989 458612.8548604102,1106050.9563766208 458655.0495761718,1106580.9556444855 458615.99789226806,1106731.1956175405 458546.95754311915,1106996.8193151783 457958.4529069884,1108035.8304786775 457806.2372116099,1108228.6168393593 456999.6251015396,1108787.2888328526 456853.06217552756,1108954.2373132121 456726.25513676193,1109298.6528802027 456828.07079613826,1109474.4456682452 456952.63167716033,1109557.777822892 457091.6046140644,1109754.384619998 456893.5701867691,1110970.6300070065 456217.67057487904,1112441.0791275285 455810.4121135557,1112968.4712924194 455478.634673541,1113308.5820278237 455219.6728914043,1113523.284239469 454309.9210006951,1113758.6282135411 453833.1108330806,1113669.5891074436 452615.88841631904,1113194.4384936832 451776.14529838256,1112689.1851407636 451678.82164866565,1112586.3098131916 451441.5899014819,1111646.1245671832 451550.3155865414,1111450.3305777626 451982.616794055,1111136.2446073175 452193.32627408305,1110842.4368983957 452223.2013268445,1110669.8742746033 452182.3591321651,1110519.2745883279 451998.929470927,1110300.690253643 451703.0985052282,1110094.7901528652 451657.81241111545,1109999.8374395897 451614.7056306206,1109577.0384532467 451870.9873692937,1108853.5768987658 452354.55129329435,1107077.704378633 452371.04497931263,1106728.8150868586 452317.45138910686,1106301.806362533 452169.74931018014,1105685.7270716855 451214.6284909809,1104275.703491794 450620.71157727786,1103847.7055156953 449863.0172753855,1103579.3324842693 448912.97524156875,1103476.4325865754 448429.4144084775,1103519.6686091216 447843.0368607237,1103651.6766671538 446405.658105281,1104175.2592146462 446118.27170467307,1104353.7935471628 445291.6125225292,1105076.4909463038 444958.0512810383,1105536.7501976774 444828.98841812514,1105807.3335819896 444694.99680078204,1106369.7360425442 444672.3532305242,1106717.4205693004 444752.06047952117,1107364.5699305055 444927.20081751543,1107794.5244611306 445204.6797434716,1108316.6917356104 445904.89556255046,1109237.1206548272 445725.13593567925,1109526.147408081 445633.9464693024,1109784.1210864028 445629.5409917876,1110217.4399617214 445820.0857259795,1110489.5436207273 446018.34004696796,1110640.2475852275 446923.7538473083,1111957.0229517587 447357.57962204696,1112252.232486741 448136.43127193087,1113124.1604921075 448504.2955911986,1113818.2520284802 448704.6355373725,1114957.753420727 448702.2608958628,1115187.0494306071 448644.972203252,1115970.8383271748 448647.26901716925,1115976.9658602665 449008.70643513364,1116941.3565113682 449393.2208474695,1117282.129158915 450092.03411779663,1117718.7615668324 450665.983104946,1117852.9224494826 451220.37789611454,1118047.3609790122 452033.5602088769,1118708.8318882522 452287.2906010161,1119232.5754109228 452196.58931550017,1119462.2711572456 452391.7570626405,1119960.2201156777 452449.0793915339,1120606.5513104359 452654.31446354924,1121003.556019331 452654.3169188232,1121159.0125216872 452552.13316792547,1121516.4197511675 452204.5584772325,1122053.0062184185 449731.6922541078,1123938.282507552 448871.11280811497,1124250.216529134 448416.0575714515,1124335.772855853 447817.5348366752,1124428.024243927 447570.4626674717,1124561.309253794 447433.3890422796,1124792.9525037708 446802.90980797674,1125603.6168854549 445367.5999234079,1126223.4755166979 444963.9163165637,1126467.8258662587 444868.11059281667,1126603.2455724366 444828.710630041,1126763.6458566287 444703.3690921886,1128264.674524349 444888.97408312827,1128877.8140971502 445225.1175615283,1129422.6167595796 445498.0405969683,1129865.020239574 445894.601403667,1130220.3012227567 446296.12558154686,1130420.3835354594 447610.61583153007,1130593.1164920202 448195.9897926152,1130572.284419832 448461.93457610515,1130477.4182093653 449178.90234245936,1129797.4300782979 449297.3818813123,1129467.8339457335 449441.7419893548,1129351.4770806564 450097.686281,1129283.2935357313 451515.3006218906,1129258.5659830824 451884.53647251986,1129327.033908051 452890.7107536459,1129361.7721628607 454114.33033949457,1129639.2136181006 455221.2356917029,1130174.241545621 455390.88962537545,1130383.2085374603 455582.18282112665,1131668.8679218611 455669.4188208751,1132255.3487545534 455723.50422256434,1134102.5042606767 455586.35820406524,1135426.0437606554 455247.69769170723,1136322.3289384614 454013.635878512,1138503.8218354508 453570.38898629625,1139481.876572159 454877.95969386067,1139797.1728169231 455165.3504714345,1139809.4801677205 455351.3010276674,1139932.5777652909 455469.8682435936,1140096.1206229697 455463.1799335789,1140352.2191234382 455597.68520929426,1140485.4015802958 455946.82558481314,1140431.2917099372 456259.0222005581,1140501.2651528374 456207.5250726261,1140810.9346652015 456410.3365242472,1141138.9522884912 456694.78741504706,1141158.8727952798 456828.20716118737,1141654.7860776004 457682.2599079751,1142677.3111277453 457996.47418700956,1143263.5040582633 458200.4396352759,1144256.494130628 458396.05351303564,1144872.08399535 458481.7385039246,1145371.9354687764 458487.1614426291,1145908.9673157712 458321.4801091434,1146389.892382806 458021.41493124346,1146796.9561882238 457616.31468713377,1147068.6442804465 457019.8809635826,1147203.720755689 456250.8228360672,1147194.9234168143 455747.1193912408,1147023.9873356996 455210.989287483,1146707.8503883176 454972.0581613029,1146465.6109228858 454761.18928383273,1146153.6169869555 454563.71558546496,1145595.0279353585 454269.20363994094,1143754.5066103414 454177.5060651494,1143471.7342940255 453901.2164166655,1142972.385302511 453750.4691456719,1141972.8929979457 453604.3055934289,1141616.5592647342 453410.3696405307,1141580.2796390879 452897.8164374607,1141948.0204919034 452465.50702823716,1142387.5563353284 452077.2043488042,1143152.6797648144 451981.27395277214,1143407.5101427604 451763.1725315086,1143986.9311615294 451606.2696934004,1144186.7989484202 450716.7831970672,1144821.0431707192 450916.8234674735,1145527.7879709676 450884.1922000039,1146143.5579228844 449449.0727344048,1147899.3203392217 449420.3160638645,1147956.311207535 449288.4482597663,1148217.661234104 449217.0589530078,1149866.2866329458 448934.2621365403,1151425.9821459148 448948.5878495375,1151627.836863893 448951.1607327375,1151664.091540546 449072.06801210425,1151943.4115200466 449079.4923872608,1151988.6705285136 449137.3542458398,1152341.4187286603 448950.52926062816,1153728.972481366 448983.66329938336,1153852.200746748 449123.6412088735,1154013.209274913 450002.9099071096,1154691.069322799 450466.9150856272,1155048.867590919 450879.48553718906,1155484.871500695 452040.132447881,1157482.5156040047 452494.6984311141,1158182.3158305262 453401.48345531424,1159238.1700514266 454005.6408745831,1159703.97894146 454310.7156318564,1159939.2289232789 454403.84889559756,1160011.050825958 454874.20998559287,1160576.6408047243 455240.39903767727,1161120.4494993386 455729.2757125997,1161846.595747386 456161.54307067965,1162819.3770723795 456250.27509837307,1163019.0945904832 456242.25400945294,1163958.5603244763 456156.5118174198,1164974.625522561 456153.68452902,1165008.1311859572 455970.62183429714,1165414.5999172195 455500.86185629043,1165783.5777127612 455223.7199718488,1165917.7947435966 454931.7913957129,1165986.1692623754 454469.67582721484,1165941.8381004843 453918.6090608122,1165747.6610660632 453455.83041307377,1165399.631388931 453177.1141148245,1165030.1697518972 452837.39235758164,1164403.8393021212 452641.18008394656,1163826.984398717 452588.9873829865,1163390.642273093 452605.7155702369,1163168.7568602292 452873.35309706646,1162334.7511563227 452890.16447227355,1161617.175249574 452822.2622281896,1161065.6421498284 452556.76745635667,1160423.9638493296 451899.02756378107,1159480.860896643 451324.7163650592,1158785.5380111292 450661.838235248,1158225.478525638 448799.38077627,1157195.2349630382 448171.72127622133,1157018.3494536644 446552.14684949425,1157041.3005217912 446021.848330139,1157162.020350483 445552.4777017271,1157340.6527521845 444204.82491923583,1158031.819964614 444021.1034421951,1158166.615651468 442895.0196027978,1158992.998058823 442567.4895832776,1159332.4667332123 442473.5349514661,1159509.5294418184 442441.2357891598,1159804.9809303458 442475.3643699826,1160078.2922713975 442760.81347437017,1160709.008402782 442994.5340234157,1161011.638610017 443283.77401683014,1161192.747129855 443968.09116672626,1161161.0663252438 444653.83204722265,1161402.4496101327 445134.2933298134,1161155.6793250025 445420.1670816958,1161150.9654975045 446580.25845617894,1161788.9594278813 448002.26424068963,1162422.2740195587 448256.2185655654,1162494.9666343592 448788.79894492164,1162438.2397108562 449441.19844731747,1162819.1965099063 449552.82092952507,1163030.3326971217 449582.4935779062,1163275.8455532694 449898.3326612304,1163801.6171542346 450542.1422558826,1164681.4031906014 450694.0252522206,1165340.247339367 450590.9594969008,1165951.935417795 450581.05009222106,1166010.750405176 450212.5400451541,1167043.413441028 449733.4844214266,1167874.0580812613 449122.12782392063,1168561.18465337 447782.87683357176,1169487.4429166939 446315.74998491356,1170198.0437751315 446071.79396039806,1170265.3494246546 445720.5958231112,1170263.014337969 445391.29530005343,1170097.1965542638 445137.8945114439,1169614.0821465077 444958.0137873861,1168985.6497363884 444946.95414100366,1168357.3013044158 445128.0172569169,1167391.16894505 445800.79967352585,1165298.6257228937 445818.4277788354,1165088.4049971618 445242.5810347363,1164233.454811231 444777.38968807866,1163779.6704479773 444310.8870986544,1163511.3539248698 443615.21949697396,1163226.3202279985 442508.7542971043,1162889.513265954 442189.1402279248,1162867.7942745597 441529.2390168539,1162935.5004623488 439862.7723796658,1163329.504352664 439784.69932491065,1163508.8512162378 439924.4813964232,1163704.72117082 439974.27331427607,1163841.2916935463 439996.6536875718,1163902.6788748896 440018.11533564894,1165012.9741235883 440085.91206194536,1165367.7086329004 440821.643000967,1166038.0268046686 441109.96762447635,1166104.196366915 441532.30640649615,1166299.2343991518 442153.7242036781,1166758.393915898 442308.4437426892,1166956.522171266 442390.85022795014,1167323.5433590605 442896.3147833852,1168419.4485856183 443231.1161065948,1169033.8584639772 443782.4142715012,1169569.1223707974 444371.9036097434,1170290.0969673262 444286.07656436716,1170823.5214695784 444065.074433178,1171207.848942009 443446.36720178317,1171530.099688279 442190.3502012888,1172315.3656355538 441231.6562351921,1173081.6790504565 440873.8518000322,1173490.2995744313 440798.08935210906,1173576.8287918153 439813.57473568385,1175239.106000848 439385.0829654292,1176107.6585158918 439244.7082265151,1176700.5967382037 439302.53119129944,1176985.474813973 439334.7181685355,1177144.0619468724 439637.57287956134,1177540.4023705632 440065.8848408564,1177765.4697568615 440950.44497070555,1177954.9355059909 441712.7840756715,1178008.3681662534 443610.3312111599,1177880.2324444975 444231.1440348432,1177890.2520066344 445006.89624528034,1178050.5635746424 445604.1157289199,1178291.771043869 446195.4346724619,1178678.8954965607 446892.58607004926,1179300.9670857077 448067.50288415136,1180656.4229289005 448429.60040759813,1181225.028384254 448678.63263053657,1181963.9004729453 448715.8815400461,1182734.422535302 448408.4857813311,1183681.5552249486 447804.46485107805,1184745.6057352703 447009.33362594474,1185418.746260896 445638.92585302907,1186427.137924269 444497.38250000274,1187128.7125361694 443509.08974327287,1187505.3387878656 442518.6426649713,1187651.3290472003 441443.05131031567,1187632.6248146414 440753.990490564,1187751.9827121252 440126.4662053858,1188074.4796420324 439581.204235325,1188614.0082937893 439134.4145312131,1189270.369561739 438947.65942282404,1189919.456235913 438973.7032119583,1190725.9890881793 439101.34450121695,1191172.3210125403 439472.49927852285,1191801.7046140542 440003.78401503194,1192304.7239563044 440653.6495540591,1192606.1560888782 441558.41594101273,1192755.753983344 443199.7788971494,1192864.260847851 444294.8725131008,1193018.21020015 444968.1033701073,1193326.1963864889 445241.61889421125,1193532.6442484164 446825.8083736138,1191711.2416313638 447889.3958856901,1190333.2393897066 448389.52680371073,1189956.4241415847 450106.43073615327,1189178.5713738145 451175.3466228663,1188640.507043387 451867.0932161824,1188409.7984069313 452556.0552893161,1188413.56413283 453264.09460999916,1188638.1745651637 454813.91379773896,1189545.776573953 455446.0785552519,1189733.9615648414 455936.64089451864,1189822.183590662 456801.5537319224,1190182.2430960117 457057.25541435817,1190446.4097222427 457081.2999198157,1190514.5954112057 457292.4966400555,1191113.5667996681 457334.4483553616,1191647.2307293175 457297.50443885365,1192048.3471374619 457175.8607424968,1192121.5173239375 456767.7285667308,1192204.876205381 456611.3299946821,1192713.8554055418 456228.2875540252,1193353.5180988316 455615.1505742565,1194106.4864523746 454840.7847350535,1194685.426012242 454368.9344578742,1194956.6445618586 453671.438014543,1195039.8608256334 452996.5811165964,1194781.0987981465 451716.8727786163,1193950.3336439363 450628.57466131897,1193619.3843637018 450058.02332203434,1193597.3530057739 449203.0979245672,1193585.340629563 448364.481388432,1193981.0928805599 447041.7332200631,1195288.7626570272 446163.07477638475,1196349.1600703092 446260.95204220666,1197309.2688345162 446539.12718664046,1198230.17196691 446401.18615997967,1198490.5935146539 446689.21593855385,1199127.6498810207 446733.2670864955,1199596.8461572253 446349.5540941261,1200002.8814535951 446306.83492078696,1200463.7277306772 446545.2607589575,1201118.6215557377 446938.2670176334,1201821.4942073617 447223.59562028956,1202168.3744366223 447642.61645267793,1202283.0489919598 448048.8772328992,1202176.2498947757 448490.4404376592,1201956.0534506359 449083.61776385736,1201529.4411490024 449641.6019037755,1201041.7626282903 450361.27471591166,1201183.9177802964 453056.26201876136,1201594.921775894 454658.3221402346,1202036.8026079002 456439.507909828,1201017.6028459289 457263.2287934533,1200659.8624019776 457956.6558257384,1200625.9586056801 458512.4759599279,1200767.8003055947 459496.33949218644,1201203.6215350176 460153.70205289265,1201801.0122484672 460375.71086761623,1202169.621054803 460516.5125294633,1202600.5218000729 460583.0308534595,1203046.4146242705 460512.7643465312,1203325.2004640454 460486.0190967843,1203431.3176121076 460234.29427073436,1203930.5731962495 459744.0166055449,1204390.6353810194 458887.7089402679,1204916.8317694562 458212.5038579757,1205048.1604043222 457630.81955016614,1205144.6669936897 457420.5093659221,1205179.569512401 456455.98685841553,1205431.8048217045 455578.4606962406,1205811.8710386471 454833.8747541796,1206268.6577743327 454376.00664201553,1206886.8943988888 453633.2245484499,1207872.8659766533 452931.33870432776,1208960.2714005515 452726.34830782964,1209438.7922408816 452369.8051005777,1211077.8977224156 452362.68193606084,1211876.303243308 452605.95668734657,1212496.1583964354 453216.800237888,1213184.252581024 454639.3022277573,1214362.7267784218 455368.53020160866,1215167.6752167419 455682.74573346355,1215514.585914647 456341.21800898475,1216453.625056495 457511.9391369528,1218408.931519578 457674.7815472523,1218815.1846224584 457690.6121196668,1218982.1097517295 457725.57809101423,1219350.8445068593 457543.4731041143,1219902.8047530174 457119.3623699047,1220340.7919564648 456472.74306590226,1220586.0734223186 454285.478138575,1220940.5680950675 451335.749843673,1221531.7758438245 451288.5258797767,1221550.6539221918 450765.0890180761,1221759.9242972562 450457.2460923005,1222074.1027869226 450249.85375485336,1222643.5880815426 450021.76245908433,1225644.2593937458 450103.462452834,1226534.2275083817 450327.27441230207,1227338.6756715989 450579.50543059653,1227630.610159056 451366.2087742548,1227683.4699077646 452035.8011066213,1227357.4322527286 453233.3235364859,1226313.2723541344 453839.9207432465,1225983.754012875 454224.3603605092,1225989.8215510987 455013.46631824435,1226222.8560488173 456503.88619757304,1227303.19043905 457078.92156791233,1226238.765384586 457936.6684805353,1224444.8296002946 458155.2803247306,1223772.680154296 458445.20181619696,1223287.264560682 458945.7907480216,1222943.2236325173 459711.8925856437,1222693.6885083944 460609.4693613284,1222738.4434400848 461151.8056572603,1222919.9094295262 461564.2788377512,1223254.555896203 461771.0832659345,1223604.0521181473 461949.7848603842,1224560.6398198039 461897.4565811219,1224982.4582319092 460966.0329898179,1226269.3192250635 460226.87159635336,1226821.6619320405 460077.03505958477,1227095.65040184 459226.56483543565,1229235.5333190497 460204.1633433938,1229764.2966834283 460754.56108810566,1230027.7883188426 461338.3242444521,1230196.3884493127 461926.49043667276,1230221.2224159192 464532.1838991337,1229819.6294264956 465500.54526030226,1229808.1584386914 466725.3924345404,1230031.486121399 467606.0254299929,1230354.2221476666 468048.2422442114,1230682.8854986485 468287.1281975667,1231130.568990744 468437.3399689858,1231964.777668907 468371.4134100607,1232628.1948388543 468138.49185654765,1233352.6916793755 468194.96756053384,1233764.3802227906 468311.92958858365,1234124.4840488588 468667.3706022707,1234741.2252472956 469311.2509774882,1235686.8486257212 469485.9403526311,1236141.880490854 469499.9943155262,1236236.3256120626 469572.491511675,1236723.566114657 469462.6560221275,1237330.4660253564 468996.6577925882,1238005.89987187 468423.6532672583,1238389.599908529 467917.44231818826,1238496.0905882998 467419.9719129773,1238467.6406790437 466743.3594316986,1238081.1494242982 465571.7740316697,1237804.407137391 465278.83909549494,1237775.1762886955 464906.2201951121,1237853.6236807106 463121.1210716756,1239051.006688661 462396.90970036644,1239517.3632066175 461620.3764631183,1240517.310770643 461518.68895843124,1240648.276595256 461322.60996990436,1240900.8259577365 461051.7363030302,1241789.748269584 461241.66807516187,1242356.143941937 461620.8553345064,1242713.6588083259 463172.64074133965,1244013.694468671 464389.00284865405,1244802.112496051 465028.3807589994,1245443.940283107 465198.9748423068,1245685.691542757 465507.36963791726,1245944.572786749 466102.1850981232,1245844.838134563 466962.32953441667,1245512.7993370395 468155.8591014904,1244452.940564332 468859.08574727183,1244081.1710012346 469427.9327788484,1243581.8557816653 470194.9078737432,1243250.6898496395 470842.5364601251,1243098.158832559 471422.4148615508,1243059.424749552 472428.07779282075,1243225.112189171 472947.6844655984,1243470.2239387843 473624.8722624266,1243981.8802578088 474203.0448896331,1244665.51074253 474622.65384531266,1245362.7986857423 474889.88957250793,1246039.9141703506 474892.01057352294,1246671.3063844603 474701.67459339596,1247603.2853690812 474645.9412229973,1247716.6081058923 474564.4727600264,1247882.2636861461 474334.86444665585,1248130.5582573435 473937.6496073429,1248361.4220910615 472847.6351178264,1248499.121813507 471956.88419232523,1248340.935976774 471130.03255832434,1248547.7923591933 470458.7087895946,1248598.701764368 469874.2579160072,1248463.1577495176 469648.7490128927,1248264.4494086015 469081.6363103817,1248077.0600042401 468706.2844466633,1248099.437137368 468358.7981102341,1248350.8090539472 467889.0753941208,1248183.4182666345 467456.86162959394,1247941.8387937688 465512.3593097711,1248918.4009236668 464923.30352407915,1249295.99024143 463840.7574090714,1250498.9163026002 463211.23891582206,1251328.7096360624 462953.9836033497,1251667.8664570525 462743.76323839667,1252406.036049124 462736.7618990225,1252430.6225437862 462628.379723049,1253302.408981639 462743.2599659965,1253894.8163712968 463299.7072071656,1254673.915716874 463822.98535298876,1254924.5525826938 464808.2973095386,1254910.3483143977 465370.88024194987,1254766.9862963168 465578.95332470164,1254395.0498001943 466030.4086595299,1253149.8684215087 466372.67583692353,1252740.495069243 467820.92065720295,1251763.5473499869 468247.61020948546,1251564.0043146457 469366.3071973701,1251328.4446804232 470127.8795926739,1251321.6439599842 471004.6567758916,1250788.607894387 471642.8560748164,1251945.7055857882 471744.08490789414,1252381.2221873938 471536.353330632,1253131.8903914355 471414.93279001646,1254382.2145893662 471477.7144982783,1255118.6067024893 471794.1183779835,1256709.7206295517 471803.73698722554,1257222.8037624378 471826.5376454494,1258440.0403152795 471978.48053464363,1258768.7444699048 472164.6794809134,1258962.164674565 472997.0132455797,1259268.5192653069 473327.71687119064,1259258.0173452066 475105.57130404864,1258844.0343559973 476097.6311165707,1258488.7167170988 476320.06251168,1258409.0703628566 478059.1168431862,1258270.7735931722 478526.0392428303,1258433.12812902 479185.8765478736,1258903.1038693266 479723.7446622934,1259510.6002008996 480454.79847077705,1260616.3570451846 480602.70095951617,1261361.3200033922 480634.5476568756,1262113.4045701257 480462.0751015153,1263168.3606525154 479823.8049072567,1264166.2827689785 478601.36202269635,1265567.7688202835 477654.76801681926,1266422.071619569 477297.7492023915,1266992.6134048516 477134.7290598175,1267845.8459997384 477183.0169451794,1268178.9492192396 477591.6496788949,1268788.4591437941 478214.7367145958,1269239.0678336092 478908.3421603497,1269362.0550369234 479655.35459577624,1269172.3858540654 480387.4705151739,1268991.0811810403 481606.27314215346,1268689.4078382002 482040.2315202803,1268660.920800845 482384.26663082564,1268743.3298959578 483370.40468064277,1268979.6300349056 484808.53136228153,1269793.2878088374 485362.69253939786,1270054.4596526162 485577.6087482689,1270065.2773538847 485595.1668871383,1269892.3501395453 485214.73452677403,1267972.3535412347 484385.8351676839,1266359.9124331882 484246.9916240264,1265351.2855624123 484342.1368667631,1264560.4440370982 484651.84570373583,1264131.4221979748 485034.31081750017,1263837.8325237723 485772.32187017007,1263572.3578584697 486570.60034884646,1263615.9137461085 487280.38614418905,1263922.082136189 487593.69716750213,1264704.8586033294 487242.9010362889,1266200.101703651 487194.1638482675,1266301.8405423302 486573.8958876685,1267596.8677268592 486535.1676293688,1268406.6785117548 487477.1728250964,1270254.3210103482 487161.73936211,1270668.7223454784 487762.28393910563,1271491.595301499 488685.3156185163,1272228.1240694262 489597.8218758951,1272416.200559429 490368.93636842933,1272391.3096797308 491172.3815483416,1272528.0208145021 491833.7698049563,1272898.5259162022 492533.40307800384,1273490.4326204383 493120.97155823803,1274244.4342226135 493536.54885239596,1274777.8371627808 493692.05598454684,1275125.1584136023 493952.5248353377,1275998.8130374285 494011.87261202536,1276334.1251401221 494175.03211817075,1277256.153630906 494104.76049993513,1277576.6014143701 493858.2501135295,1277996.0200777045 493667.67462332523,1278320.301199258 493141.64974817017,1279869.1684490498 492477.4235371242,1282350.2555792076 492359.6037285213,1283111.2229162082 492433.33409576165,1283832.5911806503 492660.4091528632,1284573.2174879904 493307.9531521649,1286686.124646355 493312.76589040697,1286692.316527494 493868.0983691889,1287406.868317142 494477.2233717401,1287690.8808016188 494593.9770402705,1287745.3257433325 495785.19545735954,1288585.1352463064 496385.94334037276,1289166.592733905 496675.7546737458,1289627.8359670173 496851.3796419323,1291180.959328137 496746.96603868244,1291616.974678786 495868.26755094057,1292841.694157845 494548.530099823,1294185.2908244813 493504.5385563105,1295269.0508026932 492164.1147255728,1297295.150055965 491753.17004402616,1298201.6178193907 491665.84816898074,1298710.8245549016 491711.4356466609,1299268.2706768059 491959.5976301575,1300695.3629777525 492005.88342086336,1300961.608563917 492268.3555918248,1301900.7941388183 492457.49658627436,1302271.306999355 493398.16028681403,1303577.086735619 493500.7247672529,1303866.1647026036 493499.8899522302,1305010.5055992294 493190.05836088717,1306599.201556325 494447.3710659894,1306687.3435065774 494498.13583425747,1306660.5162025995 495437.3122214582,1306164.2821653176 495850.4941801227,1305593.134543956 495976.3017524041,1305262.477908179 496030.65394803125,1304903.1783646569 495719.6913260127,1304346.2006424973 494990.2895849818,1302924.0942195968 494900.5128318969,1302393.6383507135 494853.0939369307,1301407.0860443034 494975.9751434607,1300813.1079124273 495219.08096221666,1300335.5953921722 495626.5733102686,1299818.1272480902 496191.37628553377,1299509.5770977759 497062.3702819451,1299415.7486055589 497747.3605916205,1299587.0878370574 498395.77292955335,1299896.0695684606 499181.97851688205,1300586.1318707725 499581.26891946903,1301061.0595796672 499873.41259032214,1301556.1289177167 500415.0080156531,1302047.8654851874 501458.5668313506,1303108.3615638723 502531.16853978595,1304516.220652189 502755.6494933869,1305009.4940108887 502923.4736259776,1305820.5162311215 502984.72453039174,1306116.5665606319 502850.06585727155,1307068.887483466 502531.73612430115,1307874.4925393295 502515.45631239284,1307892.448400595 502319.38192344375,1308108.7174344389 501817.061376148,1308424.0985902043 500992.72512642964,1308251.6757589492 498024.5212083479,1307114.9411825011 496588.6797954522,1307108.530338905 495652.285913798,1307476.2354415234 494641.27945172956,1308094.1892891102 494427.27798079024,1308275.0912890062 494045.68918226665,1308597.6924314888 492899.41312251345,1308749.8691290347 493146.7224358908,1309728.7506535645 493148.2254408056,1310400.6064731816 493147.9516181123,1310480.591692605 493145.9416234159,1311066.9843656255 493495.3895184592,1311584.9970177282 493965.09189106856,1311767.530366502 494717.1295366265,1311872.8544736726 495125.43024046806,1311802.9762168855 495574.36385847913,1313664.9105312512 495226.90087745595,1314666.644414824 494952.15898696776,1315348.7704075994 494638.88830423995,1316754.63031833 494912.636367677,1317704.1447125396 495187.983954295,1318186.759876335 495827.16775296145,1318680.6956844812 496458.50319890346,1318913.8316205996 496935.5517455846,1318972.1651741958 497331.92896312755,1318865.912732395 497585.5689500137,1318797.933420675 497865.1523983877,1318616.216434915 497893.5769234494,1317689.0893725085 498691.76048225083,1316988.3629894578 499693.34455424256,1315832.4929199798 499774.2695630669,1314945.5196491077 499644.4734040353,1314141.3445179376 499216.26142458525,1313811.6455667587 498576.21131978824,1313221.868298941 498063.5436879222,1312578.2216436432 497113.2735026557,1311077.0074097007 498599.28460837493,1310291.5138534952 499367.68439715344,1310118.0818129014 500125.2262036152,1310130.859149105 501620.5437145503,1310497.864558123 502504.60343661264,1310932.7780195726 503342.5745876718,1311578.9901639665 503931.214467566,1312339.0021104096 503940.64504020807,1312451.5890586036 503949.6432139346,1312559.0186282683 503820.14518971916,1313267.5370199212 503438.09654307057,1314165.3382447537 502921.87020498404,1314913.695754169 501665.9203594986,1316885.9082030454 501218.44602355064,1317765.6655230885 501035.61405907135,1318273.3716783626 501016.2554912907,1319045.0630405832 501129.20887108165,1319469.0304624534 501553.46829341387,1320434.4215393136 502067.88535214984,1320958.567620049 502767.82416294614,1321421.9813348518 502132.8430896487,1322610.2449286764 500809.474200009,1324621.8697016973 500120.3880217879,1325416.0585181504 499864.000796898,1326048.4070040912 499767.0058591879,1326678.2575330387 499792.65004443214,1327315.4613595447 500031.915017496,1328017.53038982 500473.30739923235,1328578.4085440822 501256.7236757392,1329135.486830856 501681.23270958266,1329309.5090252552 502439.8256869002,1329263.473544157 503097.01565466117,1329034.173944844 503732.51337525266,1328724.7592205722 504066.7779732458,1328439.6415562525 504727.3433135017,1327187.5178584214 504823.58521316334,1326677.339579595 504328.6458964631,1325487.460994592 503158.06109811837,1323588.9952687933 504246.6703723,1322008.5988954443 505015.1955442028,1322162.57849877 506162.9736478642,1322184.507002213 506669.43222042086,1322281.3210633667 507021.6085148224,1322348.6613793208 507024.00124187407,1322349.1189497537 507760.1641290673,1322489.9318163525 508679.0899941836,1322876.4566990805 511056.120077576,1324373.258221033 513106.91837183776,1326260.5897601526 514060.97630180046,1325333.1394400073 514940.87563743215,1324838.97747837 515659.07795616705,1324811.2756054546 516001.50465978653,1325052.8042083043 516283.98456162045,1325554.1138278132 516373.612274243,1325990.8499648913 516288.9829206764,1326456.3541118004 516142.36274609424,1326654.8636203916 516043.27163183317,1326789.0298457104 515202.88788186887,1326995.2973307758 514897.6169733836,1327773.0565354265 516052.9302626924,1328596.2065333538 517352.4829906585,1329294.7255064093 518501.53489653073,1329577.7692634813 520166.5118395475,1330592.424724597 520915.89988797606,1331395.221764281 521385.562743502,1332427.5935452683 521487.7836372712,1333547.0989052083 521341.20910302806,1334938.2321136869 521090.94507435063,1336463.7613326618 520870.6569490892,1336837.2098142388 520653.1147877265,1336987.4447067664 520232.9402574799,1337121.490148001 518563.40312915057,1337822.5242848305 518138.5968844506,1338146.1033876035 516444.04893487116,1339437.3155894324 516152.74229981384,1339662.8050954395 515639.8694919656,1340247.6814423285 515029.79720354103,1341327.7797990425 514911.9465511158,1341742.9398613814 515428.5632462702,1341771.8674016993 530339.7423094033,1342620.2420904564 530358.2710226354,1342621.3124426715 531248.0769468598,1342672.7612675333 531271.5732418327,1342674.1210833243 531307.7787796656,1342676.2165553572 534073.8553200663,1342836.761877956 537286.7667533638,1343024.3640595984 538890.6186030188,1343118.4644310945 539948.5729536661,1343180.7007078622 539950.615775037,1343180.821007426 540513.9960749765,1343214.016478993 540518.9371505022,1343214.3077809133 542042.7737057668,1343304.2819237977 542044.3820624516,1343304.377031735 542550.2956304309,1343334.3085290699 542575.0124667224,1343335.7716240538 543691.7136642627,1343401.9484051792 543692.3162848105,1343401.9841563862 545292.2403658264,1343497.0512555493 546764.9230990914,1343584.8221016563 548494.7466193672,1343688.2420586976 548494.9730820222,1343688.2556209795 550095.3817585462,1343784.2498096677 550110.0951718407,1343785.1337242762 551684.0226443091,1343879.834207328 552412.2011009024,1343923.7454026982 553319.5940355272,1343971.529640704 553776.3345442933,1343999.8747033875 554405.9287545045,1344038.9869528755 555268.0760470376,1344092.6212689632 556470.7145030906,1344167.5827585598 556480.054119152,1344168.2099154796 557437.9147848471,1344232.5846443109 558071.5138152762,1344275.2257975878 558078.2804811543,1344275.6814471087 559441.0172469234,1344367.5537727869 559664.3523206296,1344382.631196935 561269.5039155,1344491.1672628403 561284.811885422,1344492.2037985572 564493.8616470839,1344769.9267523799 566087.5107201511,1344908.2969801389 566101.9457980739,1344909.551685501 567678.9597189625,1345015.6864546253 569279.2482402592,1345123.6851703776 570875.2212900366,1345231.6911678002 574638.2147536235,1345487.5284326137 574908.0221773135,1345505.935699354 574928.9853569682,1345507.2346710681 577287.9660844197,1345653.7357932338 579720.5512424187,1345805.4894213746 580481.8175582418,1345853.1221645481 581458.7398059893,1345914.347864133 582065.6475085784,1345952.440200552 585346.1924334799,1346159.0880166152 586935.8176982795,1346259.6742181869 586937.6068435308,1346259.7464002543 588511.5238180388,1346323.3897590921 589132.3927582413,1346322.6962384956 589352.3797858233,1346336.637676248 593277.3268339017,1346586.3281984844 593825.0743795218,1346621.3171184708 596464.0961612007,1346819.0194934362 598684.0476194775,1346985.959448951 601252.0024729008,1347179.7899039101 612037.543832871,1348002.3312135912 613459.7406146924,1348111.810658045 615190.3463614563,1348208.228244398 618778.9059205456,1348406.3314903448 618779.4360830382,1348406.360868616 618938.3721282015,1348415.1695835087 620532.6021410722,1348573.0544423799 620544.9665576959,1348576.528720607 630692.9158966766,1349386.7059690834 631542.7929136889,1349448.0353407506 633659.386980192,1349601.1421577372 639307.509766563,1350012.27623619 639838.7281374072,1350051.1366121252 642672.774247585,1350357.6687152816 643284.0990528687,1350423.914622459 645884.1971877676,1350549.0218590177 646535.0707009325,1350580.4629819049 649060.6557770707,1350779.3254805866 649060.8454299998,1350779.3404418014 652348.9526606833,1351039.3648372241 658388.0317383913,1351519.292378856 661568.8214131977,1351773.7915318862 668658.4722550194,1352345.31693302 670541.989270805,1352498.1468208772 672448.0123866427,1352653.226847416 675351.2933595512,1352890.2665540304 675408.9448663149,1352894.983558851 675638.9172433976,1352913.8036165973 676927.6236630423,1353019.3813088515 677721.9741802512,1353084.5558780283 677773.8753252018,1353088.8168220855 680119.4630961859,1353281.7134232325 680541.2680832866,1353316.4703862087 680927.5308971228,1353348.316981284 680934.2207028063,1353350.9806823924 681564.5366303548,1353397.174618047 688995.4827534944,1353945.2761064062 690527.5280962557,1354066.2240959692 700040.3160871366,1354823.3797606174 700426.1882699487,1354864.9965388223 700621.1158630246,1354881.2881167769 700621.7374249221,1354881.340072559 705250.7633850776,1355269.534788947 705275.7503166385,1355271.6370484084 705429.5447215408,1354785.6180829431 706606.0539165394,1353054.5195508562 707347.3345876528,1352280.0619027563 707741.8424130752,1351757.2481863566 708170.4744304836,1350972.4445139093 709319.4951819325,1348624.9195711303 709472.4957970025,1348377.938222135 710051.4996813572,1347443.4230041741 710873.4080402718,1346611.3731292973 711514.5466019143,1346132.0567945691 711806.9597958076,1345927.4063532245 712909.1755546898,1345416.6121390352 715246.2454705752,1344698.127644579 715454.518613213,1344502.9732001512 715364.3248090466,1338005.111334846 715328.55528835,1335447.57367639 715191.5335564722,1330291.7338271176 715133.0428487313,1328098.8146901208 715156.986363741,1325630.2777580307 715082.1242299255,1323895.4612335684 715016.2151614098,1322369.8574932849 714769.692701315,1316677.9287501092 714661.3153220422,1314182.7365570045 714659.1648321047,1314097.322383864 714566.4410414824,1310421.5756287212 714531.7686306421,1310259.3480309134 714520.7610232,1309574.7919891505 714385.3024251986,1304883.3055105943 714224.4682455802,1299339.2142244042 714140.17318858,1296444.7444458269 714134.4064069741,1296247.0090668392 714131.3413677916,1295996.5238555458 714128.9953548737,1295804.8785283212 714106.3747694498,1293960.492479518 714097.3308785536,1293224.8504627908 714074.2447782062,1291351.5142192834 714023.4148583966,1287249.4948210919 714022.692549214,1287214.6083902924 714018.3509866096,1287004.9481300886 713866.8015910927,1280275.583048218 713837.0162061546,1278154.8087898006 713820.4050075423,1277220.8929270166 713815.5191411473,1277038.8446349683 713806.7480821621,1276712.1142520965 713599.5718551626,1269024.587922797 713661.1967471844,1267215.483000011 713516.9461732397,1265559.832255147 713520.2764421416,1263903.2483653466 713329.0032630289,1257225.0735100314 713270.8167971745,1253923.7849023764 713234.6664301857,1251880.1401159966 713214.7084906253,1250754.2899901634 713160.5877657096,1247482.7262747884 713136.9411503929,1246644.391454921 713101.097108507,1245374.8755416407 712891.6294368057,1237985.8599213872 712789.7110639428,1234408.9100060272 712792.6162092062,1234273.4823301826 712793.6570659975,1234260.785931022 712730.7485707569,1232314.4118952372 712722.4779013299,1232058.7568599677 712722.3844983532,1232055.8699908326 712716.9415903961,1231887.654486168 712677.1323001657,1230658.0550551314 712559.3393907839,1227027.191959846 712472.6476349537,1222947.910603125 712403.1122681011,1222055.994869173 712402.6558149877,1222050.141322637 712338.9321795354,1221233.1146862877 712364.1622173577,1219664.983350433 712322.8871405117,1218048.8874471458 712258.7414489113,1215542.4908793548 712185.5100660399,1212688.7417289037 712173.9104153616,1210357.5985494046 712184.9473374047,1210022.3541716095 712163.9834098202,1208572.5074278081 712152.0691850109,1208482.5867083499 712151.8677631989,1208481.0665359718 712049.840172775,1202907.8793041632 712049.8303890874,1202907.346811182 711970.8991779154,1198623.3074960806 711978.0989672736,1198372.860311723 711948.2082101217,1197591.6614085743 711937.6680230292,1196681.8275526292 711932.3887967563,1196229.2113410477 711903.6201862049,1195994.3304482633 711889.8744100308,1195332.5432372699 711878.6670273729,1194793.3468737449 711826.6388268111,1192294.6847911116 711817.618049858,1191862.2037837817 711775.7183668603,1189892.7410115842 711755.5804250013,1189439.8524698704 711740.0911980779,1188576.2152488155 711710.697836474,1186940.0253725902 711612.4428812524,1181496.0823201246 711492.6661080829,1174911.76339589 711423.056925942,1171110.9968859404 711364.7651246275,1167942.4976827234 711364.7444379667,1167941.3755392258 711326.1684158517,1165851.6434051318 711297.3329340343,1164293.2338887616 711233.8275693423,1160872.0400967982 711175.1137244023,1157722.2354742263 711156.6221111139,1156732.834249204 711066.1038151063,1154754.2327959028 711063.7722809567,1152603.6360503838 710970.3560019057,1148362.9350782319 710788.198692669,1140150.793767976 710787.1032164588,1140079.5681196619 710645.9712377177,1130965.9240403934 710516.827974792,1124000.4859312254 710403.7551817038,1117952.0581806302 710261.6868485754,1105438.2145898773 710243.2573228779,1103836.6998844144 710241.3438821496,1103670.7025439397 710221.1468996119,1103101.4260015874 710098.4748423869,1099649.16402245 709960.1617413268,1090140.642749643 709957.5951303114,1090109.6652281284 709914.3122036977,1087922.078203367 709910.5239078925,1087730.885726149 709899.5297582605,1087176.2679668246 709849.7171059039,1084668.0072956886 709641.8075559657,1074279.4066168081 709641.7627851006,1074274.92001074 709606.9138778062,1070795.6588286196 709601.9447409183,1070301.6518045673 709602.9686195693,1070288.869754459 709600.2615513894,1070178.1110821306 709600.1746735271,1070174.5567138148 709464.2488624575,1064629.1879836698 709411.1714580316,1062472.2218408624 709342.3691308859,1061784.1154927365 709331.3752580382,1061176.9500370536 709326.8476182544,1060927.0373564682 709323.3042461202,1060731.509540998 709209.4854405317,1054476.8382108873 709164.3492016202,1051962.5710644915 709097.3398291939,1048244.9120889235 709091.4929366766,1047921.3732146965 709009.0670276093,1045400.1589536517 708939.4285683988,1043274.1249133842 708885.3148415979,1041624.5984080195 708807.3320099522,1039251.3739490353 708808.1682626241,1039170.0461740514 708738.808142231,1036297.0387322968 708717.5896474078,1035419.8174634114 708713.1372399308,1035235.8444098937 708484.5765672378,1025837.7141730665 708474.2575407228,1025415.5157917158 708450.414772698,1024440.6884822189 708450.4923081188,1024344.9007136128 708113.9776291056,1012409.8295972815 708118.9917620415,1012091.9560811219 708118.9947857602,1012091.7643615392 708119.1027860731,1012084.9165560845 708032.0127519382,1008009.5852723563 708251.7784385564,1005937.0506818464 708595.3842726629,1003308.4570673413 708609.3712718352,1003260.8492718246 709008.677668806,999756.3175726418 709249.3937820704,997644.0959669292 709369.3254985757,996591.8482500757 709493.5632385989,995589.4017990493 710307.561006775,989023.5986825371 710586.4103397036,986324.4674321135 710587.222006087,986316.6114730748 710720.3324609154,985323.2814894057 711470.4319876072,979727.5231876748 711681.8017621174,978151.2585879599 711725.5225412404,977892.2556453976 712169.2819164774,974346.1805218908 712544.1150235165,971351.7589185473 713252.1367084712,965697.7596442772 713261.3734738957,965624.0169016649 713335.1380517236,965035.1264311398 713407.4097418885,964458.1839443934 713707.6112680392,962401.621795776 713952.6857218662,959955.0724265254 714300.5285903454,957346.1704371274 714300.6160537086,957345.5145252493 714515.011867436,955737.8276008578 714515.9935343714,955694.4732073585 715418.0554500186,948518.436491471 715421.6143645752,948505.9932555853 715664.6456024952,946679.7838642022 715747.1715571414,946059.7329522473 716390.0011128039,941231.1742581454 716558.0954828117,939968.9219683507 716719.0773406037,938760.2241789638 716851.2669421154,937767.8131543883 716939.3083177613,937106.8972942579 716971.3023842252,936466.764311453 717182.4186455505,934737.5156374875 717203.087019192,934606.1225373258 718410.2722362699,924963.0274358576 718804.5925850887,921814.931868172 718913.1082516473,920961.2233968811 719211.4736471877,918614.277862175 720394.3780010763,909314.4180219386 720410.1037877585,909210.8057642407 720435.578249563,909002.8956894259 722102.9060332562,895402.8876337901 722268.2084937795,894450.4466855916 722311.624789033,894091.1118117295 722316.6098346867,894049.8537674128 722374.6062184507,893569.8649016937 722410.3776307394,893273.8234231733 723348.4601804357,885512.8794957345 724016.4799188318,879989.218682007 724067.5991320626,879566.6315002693 724085.6058833613,879414.6456771492 724302.9648039532,877487.5939776688 724381.7691442462,876755.5668666296 724883.6091651745,872603.2977669355 724935.9277202837,872171.2431005766 725308.31533017,869096.4503173365 725308.8913507675,869093.2482309095 725309.2947548466,869091.0057168965 725413.4327441333,868512.1278573339 725490.4157742483,867524.2403866639 725555.8165019288,866974.1853092253 725923.3975273098,863883.0759900539 726315.4102195287,860587.3424496258 726458.9336363742,859380.9248475053 726510.4968867942,858947.5266347595 726511.6139874223,858938.3738315935 726512.8616585335,858928.1512261617 726533.41272556,858759.77039981 726661.0745757427,857626.5525816492 726979.1261779162,855172.4064264746 727064.3226593331,854489.8788931977 727483.4895842207,851132.4282435825 727483.8022973613,851129.923832281 727506.4787257203,850948.3176146141 727704.2429742427,849364.62575781 728928.1112354582,839568.7385441413 728731.858556365,839359.5806703618 728618.8336982129,838576.7312306904 728861.118957886,837932.230647348 729080.7130179201,837736.7030428111 729144.9127503433,837432.0095183437 728426.529275992,836863.9317315253 727743.2339313331,837382.9848780952 727369.583688879,838173.4170696001 726831.7118442248,838185.5465607046 726702.7228184803,837825.2863105984 725617.8967120785,837759.246446341 724992.8318844294,838002.7240310626 724109.7985166232,837917.6871959451 723992.8615177774,837906.4325688768 723811.8293207783,837526.1468580805 723983.223135923,837004.6957718909 724190.0069797994,835799.6934416333 723655.9417660816,834713.5396699056 722011.6099562247,833512.7326669868 721237.4863384087,833264.7224555538 718925.1004420598,833274.1508132485 718703.1438388326,833515.0493226083 718649.0254128447,834068.3157621631 717882.3505926669,834522.1483913906 717871.6931773087,834528.4578510862 717072.0978390445,835001.9018936948 716991.6646746901,835351.5909044152 716546.1840174602,835577.3744505215 715650.8677424546,835603.2288048059 715642.1982060388,835603.1330098652 715024.9265586002,835596.333651254 714988.7134056038,835595.9360582554 714257.3948925633,835587.937603634 713022.7026653026,835574.5672284566 711456.8257672469,835557.851653531 711216.5010185263,836724.9794507081 710827.7339352401,836978.3076137241 710923.6429139171,837738.5297969818 710763.1129359229,838047.3671679661 710369.2155090878,837943.5008436602 710079.778020515,837165.048122214 709549.3821345998,836962.1130310341 709380.8586418402,836713.9158856652 708955.0424000531,836597.6021406032 708782.5313495172,836359.4627705993 708766.3704711627,836337.1547176732 708335.8939187827,836447.1973213323 708128.9429123072,837454.360411204 708254.3820754078,838185.3222010625 708224.73433226,838345.989067017 708197.5909067674,838351.0678273921 708114.1821423766,838366.6748550349 707552.8550843992,838231.6207333488 706889.0317293584,837736.2829302696 705797.7326453434,836676.5690324254 705057.3056510827,836692.836600499 703279.1197845335,836732.1516228004 703226.94666983,836702.5551960514 703222.8553602227,836700.2343254817 703206.6608873395,836691.0477431223 703205.2211546364,836690.231033279 703201.9639169219,836688.383318007 702735.4359489259,836423.7586143423 701948.573751695,835977.5236231666 701826.3697857797,835908.2310661488 701468.0252111406,835584.298323251 700693.5487846865,834884.3291210389 699918.309269691,834422.198696334 698640.1167337508,834156.510782586 697218.0839418535,834101.4051395577 695448.5413149518,834517.3664027579 695253.7335306198,834655.3560645044 695234.0367389895,834669.308526473 692925.4578973623,836305.2363052312 691742.5227211638,836870.526342596 689186.5183042905,838092.7654479999 689120.1258756436,838124.5277816908 689007.9537246209,838178.1929462036 688936.8943381495,838212.1901182942 688968.9905444314,838354.8552183537 689862.4076841538,838254.1968028352 689973.474112824,838230.3648976376 690453.7245267213,838127.3334043382 690971.4202956363,838235.1696821752 691005.83776141,838413.5255874229 691020.6324598361,838490.1969299677 690579.5778326953,839053.3760501246 690564.8401014402,839072.1961240344 690009.4203126344,839012.4577726057 689839.0602337503,838994.1415445305 688997.2954034066,839269.69199682 687642.0016056518,840022.2843747329 687597.7027312653,840039.3645142106 687219.3017017996,840185.2749530533 685897.9871006582,840694.9370683371 685865.7116563647,840770.296911151 685391.6952128106,841877.2198438763 684643.9833029541,842094.7601877652 684449.5862182899,842396.0724442425 684152.3424608014,842856.8411848192 683450.752506293,842461.5179305944 683020.0902366281,842109.5618376948 682991.5903252959,841575.7860283218 682982.1468633764,841398.9549116539 683169.1230437341,840431.3678315373 683270.2810556097,840408.8562382503 683384.0395774343,840383.5420578029 684221.2160157968,840197.2982698788 684260.1636338696,839587.9517209673 684080.0266944985,839335.9214310016 684412.0071794885,838939.44042625 684476.1927527948,838704.5076010671 684530.591507051,838505.4044633248 684349.3914135027,838396.3079715909 684090.4059487681,838580.6418921013 683691.0024176353,838468.0607318488 683509.668517574,838523.6329684302 683368.8246312696,838566.7995559422 682165.589054459,838587.8059236474 681884.0366031063,838432.581174075 681176.8713747546,838504.5581174829 681150.5532570024,838507.2379344663 681001.8512120602,838522.3808558413 680954.1596895456,838519.5976780038 680216.6048962018,838476.5874525683 679047.2651353857,838408.5208013726 678763.9930598363,838392.0543717091 678310.5104087784,838365.7121288686 677141.7360249764,838200.8905696432 675089.9197925897,837911.916075164 674016.5048757215,837789.7066207785 673626.5471470399,837745.341452399 673482.8469849138,837712.8212919901 672039.5575909251,837386.3340859981 670952.1833111031,837140.523619498 670783.8808402099,837091.795219632 669360.1206279754,836679.7198743767 668359.5947007468,836329.7543185818 668317.3611907753,836314.9848075979 668267.0266926842,836297.3826109554 667595.8745567182,836062.710651858 666327.3080354342,835619.3167632053 665520.4926545687,835337.4295579242 665077.4903871528,835182.689919012 663574.525286985,834625.2370143516 662920.7526993396,834164.0925746836 662491.619843537,833962.5613244782 662489.0122080431,833627.194510037 662065.2041399861,833426.0753735873 662093.3392475942,833187.6007478053 662623.0029436746,832460.772231718 662706.8739422587,832345.6941421586 662475.2121545285,832182.9510516357 662294.8262002164,832056.2377491102 662215.5388382738,832066.7227668258 662111.1666611992,832204.7937400693 662087.4603074255,832236.154953528 662020.6930861272,832324.4830322437 661678.1495080515,832777.6776268388 661779.2173124865,833093.6870385018 661781.1377298601,833099.6919089821 661833.4356405381,833263.2241273776 661651.675218175,833658.7775581935 661408.1333753385,833539.2656411654 659281.5301303846,832496.1021466448 658055.175837741,831894.8745655398 657383.375753495,831421.5186118848 656537.0618023297,831103.8662814961 653475.142170976,829576.2921133561 652565.0900795744,829230.9842758374 650326.599418328,828382.1136942449 648504.7565876239,827531.5722935318 648044.1769369122,827139.3942359551 648035.7975534489,826933.9523259236 647605.3614432694,826871.0315564888 647388.1855258141,826976.7073785969 645538.7971138625,826148.0101611109 644834.4583153977,825955.1976227857 644282.5102361254,825804.1453887743 644225.0868233052,825788.4324501639 643677.5289152225,825771.8518954967 643506.7350829158,826014.4409363121 643356.4961914346,826227.8478617932 643479.3443074744,826398.2378281748 643735.0278570723,826752.898925954 643693.6972721997,827004.1453626137 643637.7806979324,827344.0732007963 643444.9759032303,828516.2944148628 643788.0480478022,829108.3405151158 643794.9556600515,829107.2983727319 644058.8187095919,829067.4938757028 644324.6691278153,829027.3978071146 644398.9218705123,829016.2003420376 645224.4564098183,829302.2592540421 645559.8008755415,830056.8342531375 645525.2047932295,830095.2842051621 645403.4175433135,830230.64179899 645212.1605943498,830443.221547823 644426.3624565796,831000.9848103967 643900.5704247224,831415.3329973393 643235.602087232,832198.6374155696 643088.2506022854,832670.4218347655 642621.8818707998,832794.5600769055 641789.7719678987,832598.867053511 641573.1226312451,832104.0590141573 641349.3735521943,832026.1562548294 641252.4496934047,832234.3122854127 641449.8839252937,832903.5595042048 641638.0814888541,833164.6710179291 641545.3636729291,833423.6727397357 640866.1895357042,833680.5261611153 638864.7438458933,833305.9154057569 638394.4200509593,833148.2418427252 637650.6858212102,832898.9692707264 637595.6343105906,832880.5209544296 637248.8981990166,832611.2880089971 636846.0383760021,832084.5763115063 636281.4216181614,831346.5253033141 636268.8100011646,831280.3879186496 636257.6613984472,831221.9240059139 636192.6615074596,830881.0829926168 635635.435223797,830661.0039652034 635481.0069433341,830356.8675898581 635222.4270110289,830313.7623997898 635213.5792162851,830277.8844525148 635051.9788821837,829622.6622181572 635292.3539712817,828869.7409689047 635390.3542238481,828794.6128883435 635694.0433787741,828561.8166131242 636242.2935605334,828968.6146885235 636796.8390591497,829004.2867018784 636814.2470308121,829015.4129375509 638144.9423672006,829866.1048259634 638827.9897263733,829849.686692629 639470.9905460037,829327.0771921211 639671.5136086647,828820.714523517 639841.3591231647,828069.2904127685 640170.7230193572,827957.9711730633 640582.5949594516,827350.4147130051 640592.7649757041,827335.4140758658 640607.9145007557,826846.6554759718 640331.031978555,826226.0809554942 640320.353282173,826202.1491251705 640013.9463809805,825515.5372257411 639992.5109883967,825467.5088596978 638751.9574426962,824445.0892919409 638703.9875373215,824422.1360544628 638607.3920013166,824375.9169435321 637321.4768475847,823760.7742387234 637320.2592629152,823759.7610745428 637032.9296292226,823520.6826407317 636731.2974054753,823269.7278303672 636527.6654886613,823100.3223556253 636524.5173151667,823097.703416302 636126.9045759059,822483.9684333783 635834.9184196007,822033.3455941844 635707.6372717064,821836.9314850953 635454.7152748622,821624.2577818411 634804.0694314565,821077.2330754204 634107.3984302356,820678.9815199107 633584.8215154621,820535.2065845077 632515.5806626639,820023.8655616647 632267.0669970277,819905.0456780675 631801.3910067659,819488.5231219612 631364.1981885879,818464.4207767134 631425.1096442118,817767.5801392522 631499.3358272502,817726.0360172575 631702.0263099655,817612.5961369675 631878.2560706903,817285.6966557878 631858.2766037526,816722.1593084828 631028.0012173074,816120.7345319183 630442.7903182706,815184.4477445964 629304.0330401325,813710.4224335029 629390.1109548351,812981.5491762182 629654.0098324057,812236.2553952251 629574.2385611725,811787.6200000962 628857.1245116816,811199.8644699967 628670.329555209,810757.6671741803 628234.4600665233,810455.884378389 627924.5143502811,810472.7036418805 627884.4991511058,810598.8079127395 628205.6926065569,810768.4860259565 628466.098081678,811312.2258772634 628321.5331131059,812079.6697313864 627584.9352870971,812463.2660168542 626865.7299174154,812163.1788219031 626427.9184692824,812376.7904511829 625829.4997043944,812047.9203703621 625462.6716364513,811665.5407801949 625308.2571322952,811179.235166349 624836.9514657388,810988.4662145778 624099.5637170441,811133.0318081037 623144.1763906099,811120.9884584271 622431.1530988924,810930.6325960773 622027.6471005495,811511.4391200067 621870.9635528392,811533.4660213081 621620.2222055796,811874.7877990172 621322.3824547157,812143.8047237437 620806.3956263933,812219.9308622133 620540.7057357632,812157.3318722966 620030.4008871992,811866.677594941 619840.2313313577,811686.8338642713 619685.6112435457,811409.2643628845 619346.6175525424,811007.9004916118 618642.9862710609,810581.807604595 617900.6514346619,810297.8049194204 617477.5558989142,810424.923321294 616839.3450785386,810882.4456522571 616315.4457679681,811503.4090502736 616138.7369881417,811836.4102195078 615956.6646633287,812391.6013350217 615586.5073026968,812934.299743281 615230.5525975811,813456.250428806 615122.3489774595,813614.9283602784 614649.0088420665,814061.4866559879 614027.7048201245,814130.8875821637 613732.5101897595,814222.2827514552 613539.7441640646,814365.0922546869 613195.6746922483,814753.5514119468 613072.2948740254,815012.3175742273 613048.5466125847,815222.1485297515 613105.4930794162,816093.9583935151 613182.3887299543,816518.9039656641 613231.8743486034,816792.4056868275 613199.1747471329,817135.1804165625 612986.5459623119,817432.4657393176 612952.0034160491,817442.8387178517 612229.6804910507,817659.7857403137 611921.9635342467,817844.9880073924 611416.8450269244,818387.4154552941 611351.1602065013,818740.5652557964 611436.3304647473,818920.6652727001 611487.7622118769,818966.4059046177 611912.6591248965,819022.9802666968 611989.2652123579,819161.2246518636 611915.2768669007,819421.228092544 611548.6920881687,819551.9672996477 611428.6364375954,819546.0227403253 611279.4895017372,819678.0153137618 611252.7973530787,819999.7368818852 611392.4614168617,820571.2287288378 611284.0137210614,820908.9473872521 611163.604106402,821013.730515256 610646.4601693262,821463.8080002343 610541.3787075828,821800.6522110396 610071.6211633536,821720.2038715052 609700.9024224139,821882.9028472624 609665.4309067996,822094.986340685 609854.9102238013,822248.1233905605 610301.6177552275,822606.0288761833 610128.5086545346,823466.0050179685 610128.353819373,823466.774266569 610118.2373545277,823517.0348709734 610221.2272967539,823852.9255468549 610268.0042881742,823914.6022703608 610803.4174942563,824059.0184435126 611041.1620533605,824194.7262140559 611523.9823493544,824775.0626641469 611478.1542763859,824905.7656578963 611123.4412851451,825500.7723357219 610984.8106532753,826817.734163685 611001.9088812674,827526.1052816669 610337.701923449,828002.7784572021 609454.5428165549,828406.1769123662 609390.8586171502,828756.7547863853 609278.3537715068,828881.2307047298 608681.9801546516,829179.2466957532 608244.0290693673,829258.9316420498 607897.2072433232,830011.7882756084 607654.8383577075,830861.5799368442 606813.1407981189,832047.8476911357 606705.2702239506,832312.7325416389 606510.9859286698,832789.8521268364 605820.1700607906,833936.5439618985 605568.8394403344,834264.631470135 605342.955899948,834559.5267533534 605251.654963474,835307.3996584974 605421.158056747,835357.0876856536 605542.7405292323,835198.3175231558 605642.0760643624,835194.6914823692 605777.8098481479,835494.4955309656 605476.2786178436,837134.4190008143 605301.3795504607,837695.9723123019 605144.1725158141,837784.1389296657 604986.713616308,838280.4040932999 605130.3090101985,838991.1978275098 605030.594954121,839650.6263193268 604366.2290126598,840439.7116300879 604332.5903058412,840479.6702631732 603885.5189979965,840761.1728165519 603807.309669451,840810.422271595 603754.9461129191,840843.3970046327 603507.0224937592,840914.6025951704 603173.7963551176,841010.3205183893 602763.045382896,841788.53647555 602338.884235335,842373.0638043295 602276.9295541917,842419.6128585861 602060.1048157634,842316.4015502067 601733.5752984864,842326.7242276929 601334.1012712462,842898.0159948533 601148.0015575142,843491.5718438054 601121.930062968,843516.9814084129 600795.6503042083,843834.9961975996 600793.2807251222,843835.9811857743 600643.605166146,843898.2001708428 599818.9127356062,844084.528002189 599056.1193345602,844322.8841102751 599005.824544644,844474.0986443403 598631.2753850019,844885.2816659901 598011.2525851883,844830.4158813648 597492.7733894209,845120.3915127135 597446.601937653,845177.2524358146 597367.259044312,845964.7394224434 597184.3412234023,846253.2071022574 596466.9091858213,846123.5648268221 596238.8098733464,846874.1364795737 596124.2232680257,847526.0677864981 596020.6334732297,847789.8213815915 595603.3922743638,848719.8557726664 595161.1881964287,849302.9022008578 595094.2205034632,849327.6842850827 594739.9940572934,849245.241003729 594302.6441041748,849259.9158097487 594059.1846650034,849308.7840303975 593787.8972778099,849390.0203729417 593218.40866471,849478.6095388251 592798.1233142974,849705.4615099948 592875.6904212733,849888.4495738691 593367.0974131247,849716.9088207961 593754.536033878,849649.2677435701 593944.7200041121,849717.934673539 593953.1546098139,850023.1183581643 593642.6959676826,850562.8671965002 592844.1482800372,850660.8863021213 592737.4782434222,850763.5939308624 592719.8731870408,850950.9488310916 592803.9177747745,851212.305036022 592925.853898518,851312.016467387 593042.1603236867,851318.7232791873 593398.4513967816,851121.8784730252 593920.911304537,851117.1863895758 594221.8438524515,851700.5114906961 594284.3819212872,851996.5563504904 594111.6274975571,852079.286136486 594013.1493993906,852126.4482179818 593906.0614431038,852050.974575379 593848.7437793778,852010.5791965409 593873.9183957586,851570.0705898592 593697.2250249544,851524.5520191188 593597.9023826461,851536.873863609 593466.596949209,851564.4756164189 593618.2044197043,851750.0923428773 593551.2630079556,852015.3952330244 593032.7118657063,851947.8749094779 592677.8944232148,851790.7516869404 592450.265046889,851708.5280496076 592270.745599477,851747.4749629247 592249.9840177675,851834.8623767602 592259.237059167,851867.4132025592 592354.5970880868,852202.8939916868 592023.5527986037,853100.3522693624 591704.1857304182,853231.1809191878 591472.1144902314,853559.0056347663 591468.1594078189,853685.9079088555 591595.1507354145,853712.1124597362 591759.8431586202,853602.8158855902 591986.3253495242,853590.1947452857 592167.0840757227,853725.6963192703 592226.3849476512,853876.5472130228 592103.8131536358,853932.5751718641 591869.8540471217,853823.2232089697 591785.8081708876,853913.5025924975 591711.131932375,854324.8586846414 591300.520676972,854317.3575946905 591089.5078674603,854419.637089885 590945.1734316566,854705.5374700068 590948.2978164264,854866.6427227011 591453.142088613,854868.2450762794 591475.2297213991,855101.629944227 591156.7707309339,855337.4313646826 590883.9894739393,855452.1722673466 590639.7005928968,855721.4400081891 590710.9363276496,855834.8691143013 591040.0609770931,855782.2532641739 591370.7152725038,855937.1999616207 591420.7629766392,856115.1761252949 591275.2704478846,856199.787247482 591129.2898194523,856196.2878978068 590725.2082335129,856054.4957265606 590527.0916606542,856164.0873514608 590563.5673284547,856809.9770467497 590681.3877106223,857239.9070624801 590617.0434413279,857409.5443215 590260.9548059894,857214.5457839852 589988.1114874979,857158.8249391603 589830.1760759673,857012.1451282288 589735.2683906734,857110.9825895521 589766.4974490765,857350.1993407686 589786.0246321514,857623.399649715 590146.1442520055,857539.6958911319 590420.1246085664,857729.4584946352 590463.6650749759,857957.7461052478 590490.2317032506,858097.0461508966 590636.8047733206,858361.8212765576 590652.6584168253,858858.7341243022 590833.5521614419,859005.3723606422 591217.2902517339,859339.5143291969 591195.158555672,859492.3064204259 591014.8473834574,859595.8131833764 590575.0043802124,859461.034292361 590279.0910468451,859620.9492312559 590260.5182857579,859950.4826429781 590516.8371985194,860180.649525508 590428.3842058608,860372.0013372733 590021.0024281739,860205.7278690378 590063.3909599787,860670.6392963813 589215.4517937972,861516.7658440436 588951.2006482264,861475.320941215 588471.0021943214,861579.673205982 587411.6232701424,861809.8804276487 587363.4755121188,861999.9772382069 587513.6367567411,862215.3957133087 587670.0336346201,862272.4159048344 587866.2065194951,862145.927484553 587990.6043064625,862111.3413358832 588207.8644954176,862139.9108496096 588344.1037491425,862355.6139288169 588603.2449933414,862765.9420810094 588665.402855539,863151.2975670014 588563.7248867443,863280.2298446563 588404.9128570813,863175.1473460527 588339.6794715052,863068.7902320984 588260.9663305217,862814.3329158408 588127.4660148757,862698.426230638 587936.3004009676,862704.959500811 587795.3523506781,862819.102148905 587975.1975629147,863348.9527956711 588639.9837274805,865160.8652387548 588761.5110528693,865234.8019225942 588678.8645090857,866036.1220519643 588665.7905235278,866162.8893754099 588422.0989523499,866646.1304744459 588302.415586068,866650.2771867483 588082.1286277,866476.714465212 587904.7799997531,866442.7101907588 587671.6079470152,866610.9079148312 587640.1041547671,866702.684868608 587594.8675332975,866834.4714128277 587660.821886111,866961.8170257616 588506.9932506125,868004.7498896065 588922.3684672716,867942.5245436417 589096.9430782766,868057.0086194056 589224.7237806658,869035.206035026 588735.1231247238,869197.2897888804 588420.612077546,869225.6415882587 588354.8464272136,869333.1959487204 588315.4643459474,870050.1589157248 588408.800636332,870189.1226972505 588440.5422011648,870236.3824763012 588589.7363277227,870325.3793651458 589205.7440090573,870279.3270264996 589763.1092959851,870362.2667354051 590144.6676699317,870463.6369227102 590233.5431425207,870540.8245158377 590263.6950739677,870700.954711137 590192.8910248134,870775.4240505208 589923.2337577844,870824.1319574646 589601.4627033732,870736.7969973239 589291.4415194143,870526.1571542614 589158.0910395293,870517.483075656 589059.9913903828,870632.0654223176 589383.7857020319,870945.84450914 589281.9273759287,871521.3142661264 589544.9992754185,872354.1169178326 589372.6846429119,872401.9368658416 589163.9821482904,872163.2445644384 588912.2589212689,871944.2612799108 588534.0032402793,872142.000346843 588564.0509583247,872442.468963716 589113.2985849795,872486.3115042307 589164.363964472,872817.8930249118 588848.7152057553,872973.0222574277 588743.6021804257,873108.2048061292 588525.6283825842,873388.5509923556 588537.6122090771,873457.560764309 588545.1652798365,873501.0564955388 588586.2739878976,873737.7993317731 588843.1382225698,873879.9242295718 588914.4766872529,874161.5916629876 588904.093025811,874561.033390801 588604.68949443,875101.5321952946 588804.0296273279,875512.6128125957 589180.0384584909,875115.2282310192 589570.5103584375,875448.3158271086 589657.4738294164,875674.5399108342 589426.2392741387,876131.5730678033 589373.7377344667,876414.8869089116 589388.8120875797,876492.9631021144 589402.9243139008,876566.0578147118 589565.691955483,876878.0963487858 589712.6086714842,876979.5689517427 589821.2894207359,876986.6498885928 590073.1765499199,876749.9717040941 590124.9584464395,876558.7370400933 590228.6837039819,876324.9945593047 590288.0540605431,876168.5667425895 590428.105095139,876131.9161509153 590791.4943285019,876271.8102641521 590938.1843138007,876451.4875251987 590969.8902514036,876568.0735142616 590943.6648139326,876669.4039569979 590810.4546845898,876752.2774646853 590727.126541598,876806.6597044918 590574.1172553427,876908.6303945797 590340.8187952493,877168.1193848457 590277.6825172387,877232.7345756424 590300.327320621,877337.2547111282 590346.4740548944,877392.391522436 590391.5482630831,877446.2478170439 590573.71404196,877537.893194867 590897.1463156509,877776.1194498187 590945.8181396305,877861.2873510001 590901.3058598562,878269.1141913706 591240.7642403224,878680.1855678627 591366.9885560075,878790.2539798956 591518.7154234828,878812.9808633273 591542.1646709592,878847.8228472649 591469.5173569452,879003.8284916341 591277.688547913,879211.4251530912 591213.5751051892,879642.3780528287 591333.5288835249,879848.1809090953 591439.7530485778,879924.5280102326 591520.1233882759,879948.7201354561 591634.8715339625,879856.6260135747 591586.1551466445,879651.0193813237 591588.7162356206,879557.718842599 591676.6398554369,879466.4343551421 591751.6233302155,879491.1671586625 591801.8648024024,879552.0484950723 591834.4059717243,879747.5744673463 591898.8049209788,879822.9740554912 591994.8006134012,879839.2800344973 592584.0765914991,879384.8839713598 592901.7816750968,879629.9512594221 593003.8620638979,879875.9385829872 592897.4313141989,879991.1764957838 592678.1601908918,879941.49672587 592499.2709535556,879967.3254718287 592387.4140501035,880110.0652580361 592372.0376585955,880287.9763386701 592534.2845698601,880484.2206051681 592682.8600375872,880663.9396285105 592819.3091020777,881104.694006372 592800.9763722755,881247.3207464946 592632.6794681589,881273.8401307169 592387.6606107461,881007.461197007 592142.4153527609,880972.2457413524 592042.8973445428,881023.1080817297 591999.0667259264,881147.9130472419 592021.7072512194,881801.355453124 592226.7146602906,882497.6036410793 592027.74850321,882813.4648872026 591777.294311965,882978.4544499594 591708.0794764726,883162.6576158393 591837.0993505989,883298.998826844 591982.692095871,883291.5912008707 592193.150632703,883097.9177974561 592334.9139804087,883068.7624829067 592382.51491124,882887.827553692 592476.2462401333,882749.911158747 592680.1194715985,882655.6427725045 592873.3911837428,882695.4916868841 592903.5160372894,882778.4622072356 592818.3027209201,883029.9044969294 592521.5106002929,883410.3177208543 592450.3010886682,883585.3622565002 592471.8594162655,883756.7907683606 592531.9727870204,883844.5114020233 592693.3817818341,883920.9320628654 592974.1666999065,883848.7559105057 593374.9301444833,883591.378168687 593576.8036391458,883649.8573388294 593651.729833155,883768.082575072 593943.3813237038,884810.1341748539 593946.6551042502,885001.8745178727 593898.0832681364,885089.4896061096 592917.4519088375,885807.1828036025 592791.4080275691,885996.5751287164 592822.5060162559,886412.8684337202 592864.4245223352,886497.7409006916 592946.76770367,886664.4673713992 593100.9767514429,886720.1516867386 593612.2109615749,886838.0445784696 593365.2929073625,887711.6481108791 593170.3865502601,888436.7006105867 593202.8302604298,888603.2908855032 593302.9629144365,888697.7755180899 593464.380653009,888737.6752814401 593974.0067585055,888495.8152443444 594397.046510374,888455.3164632344 594578.2018617694,888580.1021906431 594727.5620283319,888771.3268758256 594745.6527303915,889008.962135041 594410.173910634,889560.4073732442 594237.1773396786,889590.8181487063 594035.863992763,889704.7241104232 593938.4659235817,889981.7942351557 593944.9452665357,890081.9516366685 593950.2655828275,890164.1964432687 594089.2892782007,890377.2462612623 594383.1538729157,890552.3435335433 594573.066639239,890549.123117974 594905.8842048533,890326.6593580194 595286.6102948168,890366.2119239793 595584.6834411433,890706.2082888668 595745.2667517144,891065.3459450728 595765.6727840623,891249.8836357417 595684.4177096814,891449.4498959839 595387.6872662221,891536.0906584082 595147.7042854499,891506.5776278736 594934.9290694377,891734.039945792 594939.895799511,892040.1362268572 595163.2278201889,892239.5973019982 595257.4939252811,892580.2174786013 595245.2849486847,892698.8702008243 595119.7634468284,892899.5412832147 594544.2975799132,893282.8802317383 594458.3721536449,893545.3389129336 594468.0759251497,893718.5905889343 594898.4526014129,894631.836316196 595569.8013044198,895460.9337604792 595602.2826432396,895631.4611468463 596262.0484111981,896408.2713291408 596426.1289547968,896457.6633099635 596673.3274816935,896386.0613555557 596868.871732726,896411.4623435652 596989.076756806,896450.1644998243 597074.7433265254,896553.5624213053 597056.4547370676,896810.0105145674 596922.7645842052,896960.9843267677 596166.3659261249,897279.3468964607 596053.3684132273,897454.0998763554 596071.024026823,897571.2787383547 596157.8596427753,897659.8137125532 596512.0278636586,897708.0517114921 596658.577940635,897898.1626461523 596695.3690068623,898166.1689988087 596825.0397773519,899427.2970496916 596735.0276645956,899540.2639509649 596405.0465821245,899519.9110418308 596188.0364015294,899638.538191137 596033.1564946517,900086.7037314846 596559.246790151,900125.2379078292 596728.4374875053,900270.9390510219 596716.7658864078,900419.9159183142 596715.624707927,900434.4820190421 596565.0951021452,900591.2649941923 596284.1036175387,900673.4540168546 595409.1471461176,900460.7931133212 595095.4017225467,900307.5940996229 594919.1821567701,900065.5040304809 594737.5648541544,899983.4377473284 594518.8189885044,899984.0771482568 594453.271646334,900034.7054586997 594392.7126132074,900216.8377794991 589912.7466147685,899942.0475372841 588330.7638241147,899845.5454692394 587552.9941844523,899792.2254158119 586515.0086145574,899724.6291161436 586480.2363189374,899722.4010689817 584489.2414967087,899595.0516185337 583840.1295186331,899546.340512439 581085.6387392601,899340.1585989583 580627.7060182324,899327.8621319097 578198.3266066777,899119.934241791 577814.3292643192,899094.3513570701 576498.3076992751,899008.7143755278 573477.873974925,898812.895179283 573229.0352135601,898830.1282851646 573226.0457026535,898830.3353634501 570387.0123601205,898614.0142882413 568786.0171768337,898506.1237187944 568119.9870716977,898452.346748529 568084.6654124173,898449.4961702415 566076.4185647902,898326.1723823238 564476.5341563076,898221.9704148979 563946.7328171476,898187.5267041646 563946.1727248976,898187.4903076873 558693.8750478681,897847.7143805049 558410.6716098596,897816.4942130968 556791.5538952354,897722.356291418 555285.0374962518,897635.0267000713 555264.3229586657,897630.9847238653 555247.5213971592,897627.7063141968 553093.8149509194,897486.9599764385 552424.1334734311,897443.3009387982 546232.7653949842,897042.0247576389 542861.0146390491,896825.287128255 538018.135401847,896516.1965810006 537901.9218909869,896508.8294286506 537894.85247941,896508.3994490145 537105.978068537,896460.4529850733 535797.6745519825,896381.0889447423 534739.5215608783,896266.8037669286 530787.7039356745,896026.8144847401 530338.1480633155,895996.6215437793 529340.2251527318,895932.9629039543 528924.4778652539,895908.4980302501 528852.8546718869,895903.5246682974 527474.1154428712,895826.7935309242 527474.0034614132,895826.7873073797 526871.1507756753,895793.3030011917 525847.2860251114,895736.5268403122 525673.333253744,895719.9412985706 525544.5895148674,895709.8880862747 525179.1148893012,895689.7788713484 524727.74037928,895664.9637229681 524645.0613964555,895654.9258509286 518859.16098188714,895324.1161895025 516997.90924857976,895218.4891978041 515446.4825877042,895125.9364152597 515358.0772027777,895120.8926608695 515080.622746009,895094.5983127747 514956.4685747877,895092.6441523256 509249.5222577432,894750.872355983 509014.3750376975,894740.2935889744 507448.53800071956,894645.6833481633 501099.1081651045,894264.8334223022 501091.5484788029,894265.305162553 498786.4729470112,894177.9603836351 497784.0046898143,894099.3947639911 497151.26104837074,894077.5862726183 496782.8796670637,894053.5365193662 496418.8666759686,894032.4313531552 496413.4000166691,894032.1145130426 492412.8712482887,893803.5538585149 492394.0839153761,893802.4846821567 491546.34253273456,893760.2263555257 489871.68246144755,893676.9819628488 485860.51209595735,893478.8586817158 478683.2335396528,893061.3738517476 477726.8535131258,893006.175571247 471845.0739523596,892668.9372404774 470130.0960231216,892571.3305358987 469364.16875288,892527.8438604912 468171.4583134532,892464.746755905 465575.8470066299,892324.853796218 465558.8846526944,892326.5410573133 459105.6095317608,892025.7504487043 459099.02309795545,892025.4458102185 454547.7318763402,891799.7197671161 454474.4139805089,891796.0323395983 453837.5382634373,891774.041625601 452413.89171888714,891725.0468725294 442779.26529146114,891216.6643596484 442747.5550317071,891215.0081381666 440204.6757919006,891082.5572289731 438148.89036577806,890976.0020840128 436426.5512312187,890887.0910923559 435571.41070703615,890843.0691090004 435368.90495517943,890835.8727935586 429513.6044657329,890555.6259872039 428555.3935000583,890510.1260218049 428297.7867395591,890462.8456692215 424628.15646036825,890367.1674348074 424621.87612558925,890367.0049650439 416406.21903914475,889960.1815962363 415280.3183915542,889936.1039331729 416374.4535030906,890649.71967474 418116.06662101636,891380.5013079928 419608.98283572175,892123.6896405634 420719.8614603425,892927.9494567676 421328.828027327,893596.7200635383 421975.0379767248,894649.2808616421 422238.21733233414,895469.8956929031 422303.5793351729,895838.4797604098 422323.16160051967,896352.7874445298 422157.13326825574,897100.7039408223 421853.9137743278,897746.1333194366 421504.0889599623,898103.4700987298 418824.4691422456,900345.7778305565 417363.59642577765,901404.1901147984 416851.4637141657,901692.3050910325 416474.60424192075,902005.7301889646 416177.9619988771,902318.1931512606 415720.4514423106,903036.3691710777 415663.2664265556,903281.9386466517 415686.9715051281,904356.2519168172 415726.95353855175,904705.0745290457 415803.039184651,904914.5870396454 416028.70674200595,905274.756810455 417596.99028438865,907315.4696277581 417994.87111579324,907895.9389282876 418228.2278219515,908341.0702512091 418706.3273144295,909435.246488786 418911.1997011912,910053.7117401757 418931.92010931566,910326.2993633221 418867.8104000383,911206.9196411339 418807.9422728858,911447.0285153979 418737.8619420001,911728.1095685002 418222.86298534414,912625.9155913601 417563.9254555142,913330.8774651292 415244.64333867363,915172.5732481021 413377.5041123686,916015.957215605 412608.6274805464,916902.5915983259 412296.6985327656,917721.8714796935 412278.6868907034,917903.7095912333\" opacity=\"0.8\" /></g></g></svg>"
      ],
      "text/plain": [
       "<MULTILINESTRING ((719751.38 821718.593, 721088.071 821136.948, 722609.678 8...>"
      ]
     },
     "execution_count": 9,
     "metadata": {},
     "output_type": "execute_result"
    }
   ],
   "source": [
    "MS.boundary"
   ]
  },
  {
   "cell_type": "markdown",
   "id": "bc63b2de-d42e-491a-b479-c6de07980376",
   "metadata": {},
   "source": [
    "## GeoSeries.area"
   ]
  },
  {
   "cell_type": "code",
   "execution_count": 10,
   "id": "e7be6b8f-018c-4afe-b094-6f8ce5c6c9ff",
   "metadata": {},
   "outputs": [
    {
     "data": {
      "text/plain": [
       "123472067435.08586"
      ]
     },
     "execution_count": 10,
     "metadata": {},
     "output_type": "execute_result"
    }
   ],
   "source": [
    "MS.area"
   ]
  },
  {
   "cell_type": "markdown",
   "id": "90f93dec-0d83-49c6-b93f-843ca2679c25",
   "metadata": {},
   "source": [
    "What units is this? It is based on the CRS units of meters, so the area is in square meters."
   ]
  },
  {
   "cell_type": "code",
   "execution_count": 11,
   "id": "5a898cc5-0ead-46dd-b067-cfabc95aa523",
   "metadata": {},
   "outputs": [
    {
     "data": {
      "text/plain": [
       "0    133892.928596\n",
       "1    137782.045408\n",
       "2    109112.376774\n",
       "3    123472.067435\n",
       "4    122007.370915\n",
       "dtype: float64"
      ]
     },
     "execution_count": 11,
     "metadata": {},
     "output_type": "execute_result"
    }
   ],
   "source": [
    "# areas for all the states in square km\n",
    "gdf_states.area / 1E6 # m2 --> km2 conversion factor"
   ]
  },
  {
   "cell_type": "code",
   "execution_count": 12,
   "id": "ffac40b6-4ca9-433d-b6d4-6312e213f6c5",
   "metadata": {},
   "outputs": [
    {
     "data": {
      "text/html": [
       "<div>\n",
       "<style scoped>\n",
       "    .dataframe tbody tr th:only-of-type {\n",
       "        vertical-align: middle;\n",
       "    }\n",
       "\n",
       "    .dataframe tbody tr th {\n",
       "        vertical-align: top;\n",
       "    }\n",
       "\n",
       "    .dataframe thead th {\n",
       "        text-align: right;\n",
       "    }\n",
       "</style>\n",
       "<table border=\"1\" class=\"dataframe\">\n",
       "  <thead>\n",
       "    <tr style=\"text-align: right;\">\n",
       "      <th></th>\n",
       "      <th>STATEFP</th>\n",
       "      <th>STATENS</th>\n",
       "      <th>GEOIDFQ</th>\n",
       "      <th>GEOID</th>\n",
       "      <th>STUSPS</th>\n",
       "      <th>NAME</th>\n",
       "      <th>LSAD</th>\n",
       "      <th>ALAND</th>\n",
       "      <th>AWATER</th>\n",
       "      <th>geometry</th>\n",
       "      <th>area_km2</th>\n",
       "    </tr>\n",
       "  </thead>\n",
       "  <tbody>\n",
       "    <tr>\n",
       "      <th>0</th>\n",
       "      <td>01</td>\n",
       "      <td>01779775</td>\n",
       "      <td>0400000US01</td>\n",
       "      <td>01</td>\n",
       "      <td>AL</td>\n",
       "      <td>Alabama</td>\n",
       "      <td>00</td>\n",
       "      <td>131185049346</td>\n",
       "      <td>4582326383</td>\n",
       "      <td>MULTIPOLYGON (((760323.731 857474.728, 760524....</td>\n",
       "      <td>133892.928596</td>\n",
       "    </tr>\n",
       "    <tr>\n",
       "      <th>1</th>\n",
       "      <td>05</td>\n",
       "      <td>00068085</td>\n",
       "      <td>0400000US05</td>\n",
       "      <td>05</td>\n",
       "      <td>AR</td>\n",
       "      <td>Arkansas</td>\n",
       "      <td>00</td>\n",
       "      <td>134660466558</td>\n",
       "      <td>3122251184</td>\n",
       "      <td>POLYGON ((122656.347 1495564.869, 122680.321 1...</td>\n",
       "      <td>137782.045408</td>\n",
       "    </tr>\n",
       "    <tr>\n",
       "      <th>2</th>\n",
       "      <td>47</td>\n",
       "      <td>01325873</td>\n",
       "      <td>0400000US47</td>\n",
       "      <td>47</td>\n",
       "      <td>TN</td>\n",
       "      <td>Tennessee</td>\n",
       "      <td>00</td>\n",
       "      <td>106792311478</td>\n",
       "      <td>2322248149</td>\n",
       "      <td>POLYGON ((514676.039 1342513.625, 514738.015 1...</td>\n",
       "      <td>109112.376774</td>\n",
       "    </tr>\n",
       "    <tr>\n",
       "      <th>3</th>\n",
       "      <td>28</td>\n",
       "      <td>01779790</td>\n",
       "      <td>0400000US28</td>\n",
       "      <td>28</td>\n",
       "      <td>MS</td>\n",
       "      <td>Mississippi</td>\n",
       "      <td>00</td>\n",
       "      <td>121533540877</td>\n",
       "      <td>3914738613</td>\n",
       "      <td>MULTIPOLYGON (((719751.38 821718.593, 721088.0...</td>\n",
       "      <td>123472.067435</td>\n",
       "    </tr>\n",
       "    <tr>\n",
       "      <th>4</th>\n",
       "      <td>22</td>\n",
       "      <td>01629543</td>\n",
       "      <td>0400000US22</td>\n",
       "      <td>22</td>\n",
       "      <td>LA</td>\n",
       "      <td>Louisiana</td>\n",
       "      <td>00</td>\n",
       "      <td>111930452904</td>\n",
       "      <td>23721187320</td>\n",
       "      <td>MULTIPOLYGON (((687937.424 779840.415, 688125....</td>\n",
       "      <td>122007.370915</td>\n",
       "    </tr>\n",
       "  </tbody>\n",
       "</table>\n",
       "</div>"
      ],
      "text/plain": [
       "  STATEFP   STATENS      GEOIDFQ GEOID STUSPS         NAME LSAD         ALAND  \\\n",
       "0      01  01779775  0400000US01    01     AL      Alabama   00  131185049346   \n",
       "1      05  00068085  0400000US05    05     AR     Arkansas   00  134660466558   \n",
       "2      47  01325873  0400000US47    47     TN    Tennessee   00  106792311478   \n",
       "3      28  01779790  0400000US28    28     MS  Mississippi   00  121533540877   \n",
       "4      22  01629543  0400000US22    22     LA    Louisiana   00  111930452904   \n",
       "\n",
       "        AWATER                                           geometry  \\\n",
       "0   4582326383  MULTIPOLYGON (((760323.731 857474.728, 760524....   \n",
       "1   3122251184  POLYGON ((122656.347 1495564.869, 122680.321 1...   \n",
       "2   2322248149  POLYGON ((514676.039 1342513.625, 514738.015 1...   \n",
       "3   3914738613  MULTIPOLYGON (((719751.38 821718.593, 721088.0...   \n",
       "4  23721187320  MULTIPOLYGON (((687937.424 779840.415, 688125....   \n",
       "\n",
       "        area_km2  \n",
       "0  133892.928596  \n",
       "1  137782.045408  \n",
       "2  109112.376774  \n",
       "3  123472.067435  \n",
       "4  122007.370915  "
      ]
     },
     "execution_count": 12,
     "metadata": {},
     "output_type": "execute_result"
    }
   ],
   "source": [
    "# save the result to a new column in the GeoDataFrame\n",
    "gdf_states['area_km2'] = gdf_states.area / 1E6\n",
    "gdf_states"
   ]
  },
  {
   "cell_type": "markdown",
   "id": "b0153bde-bdab-4e8b-8139-d835b74d37f9",
   "metadata": {},
   "source": [
    "The data we are using thus far is in a projected CRS already (EPSG:5070 with units of meters), so our area calculations above did not cause an accuracy warning from the GeoPandas function ```.area()```. See the sidebar below for more info."
   ]
  },
  {
   "cell_type": "markdown",
   "id": "7ad8c74b-66cf-4743-a150-833f9ed02f70",
   "metadata": {},
   "source": [
    "<div class=\"alert alert-danger\">\n",
    "\n",
    "**Sidebar about appropriate CRS's for area and distance calculations**\n",
    "\n",
    "One very important thing to note is that many GeoPandas spatial functions are only accurate for shapes in a projected CRS. If you try to calculate something like area or create a new shape like a buffer with data in a geographic CRS, GeoPandas will warn you that you may not be getting accurate results. What you want to look for in your data's CRS is Cartesian units (like meters) to get accurate results. If your CRS has units of degrees, then your data is likely in a geographic CRS and you should reproject to a projected CRS before your calculations.\n",
    "</div>"
   ]
  },
  {
   "cell_type": "markdown",
   "id": "7b63a9bf-c2d8-4411-9a56-df9c3568d66d",
   "metadata": {},
   "source": [
    "## GeoSeries.bounds\n",
    "\n",
    "Gives you the minx, miny, maxx, maxy bounds of the object in CRS units (here, meters)"
   ]
  },
  {
   "cell_type": "code",
   "execution_count": 13,
   "id": "b5b03e7c-66de-48b0-850f-cb2fdc73a720",
   "metadata": {},
   "outputs": [
    {
     "data": {
      "text/plain": [
       "(412278.6868907034, 810297.8049194204, 729144.9127503433, 1355271.6370484084)"
      ]
     },
     "execution_count": 13,
     "metadata": {},
     "output_type": "execute_result"
    }
   ],
   "source": [
    "MS.bounds"
   ]
  },
  {
   "cell_type": "markdown",
   "id": "45798ff9-8dbb-4db7-af00-6585e0932979",
   "metadata": {},
   "source": [
    "Let's see how ```.bounds``` works on the entire GeoSeries."
   ]
  },
  {
   "cell_type": "code",
   "execution_count": 14,
   "id": "8905d41f-3706-4ed4-b541-8d790a382cee",
   "metadata": {},
   "outputs": [
    {
     "data": {
      "text/html": [
       "<div>\n",
       "<style scoped>\n",
       "    .dataframe tbody tr th:only-of-type {\n",
       "        vertical-align: middle;\n",
       "    }\n",
       "\n",
       "    .dataframe tbody tr th {\n",
       "        vertical-align: top;\n",
       "    }\n",
       "\n",
       "    .dataframe thead th {\n",
       "        text-align: right;\n",
       "    }\n",
       "</style>\n",
       "<table border=\"1\" class=\"dataframe\">\n",
       "  <thead>\n",
       "    <tr style=\"text-align: right;\">\n",
       "      <th></th>\n",
       "      <th>minx</th>\n",
       "      <th>miny</th>\n",
       "      <th>maxx</th>\n",
       "      <th>maxy</th>\n",
       "    </tr>\n",
       "  </thead>\n",
       "  <tbody>\n",
       "    <tr>\n",
       "      <th>0</th>\n",
       "      <td>704900.924303</td>\n",
       "      <td>8.244956e+05</td>\n",
       "      <td>1.044933e+06</td>\n",
       "      <td>1.376504e+06</td>\n",
       "    </tr>\n",
       "    <tr>\n",
       "      <th>1</th>\n",
       "      <td>122656.347245</td>\n",
       "      <td>1.107309e+06</td>\n",
       "      <td>5.683809e+05</td>\n",
       "      <td>1.510471e+06</td>\n",
       "    </tr>\n",
       "    <tr>\n",
       "      <th>2</th>\n",
       "      <td>514676.038729</td>\n",
       "      <td>1.341743e+06</td>\n",
       "      <td>1.267114e+06</td>\n",
       "      <td>1.603146e+06</td>\n",
       "    </tr>\n",
       "    <tr>\n",
       "      <th>3</th>\n",
       "      <td>412278.686891</td>\n",
       "      <td>8.102978e+05</td>\n",
       "      <td>7.291449e+05</td>\n",
       "      <td>1.355272e+06</td>\n",
       "    </tr>\n",
       "    <tr>\n",
       "      <th>4</th>\n",
       "      <td>181691.061148</td>\n",
       "      <td>6.728742e+05</td>\n",
       "      <td>6.924772e+05</td>\n",
       "      <td>1.115187e+06</td>\n",
       "    </tr>\n",
       "  </tbody>\n",
       "</table>\n",
       "</div>"
      ],
      "text/plain": [
       "            minx          miny          maxx          maxy\n",
       "0  704900.924303  8.244956e+05  1.044933e+06  1.376504e+06\n",
       "1  122656.347245  1.107309e+06  5.683809e+05  1.510471e+06\n",
       "2  514676.038729  1.341743e+06  1.267114e+06  1.603146e+06\n",
       "3  412278.686891  8.102978e+05  7.291449e+05  1.355272e+06\n",
       "4  181691.061148  6.728742e+05  6.924772e+05  1.115187e+06"
      ]
     },
     "execution_count": 14,
     "metadata": {},
     "output_type": "execute_result"
    }
   ],
   "source": [
    "gdf_states.bounds"
   ]
  },
  {
   "cell_type": "markdown",
   "id": "2756ed43-c31f-418c-92d1-d8af3b102a05",
   "metadata": {},
   "source": [
    "Let's look at some more methods that work on the full GeoSeries of shape objects\n",
    "\n",
    "## GeoSeries.total_bounds\n",
    "\n",
    "Gives you a single minx, miny, maxx, maxy bound of all the shapes combined "
   ]
  },
  {
   "cell_type": "code",
   "execution_count": 15,
   "id": "09343330-4914-4bad-a06b-b16d0e6ce6b6",
   "metadata": {},
   "outputs": [
    {
     "data": {
      "text/plain": [
       "array([ 122656.3472447 ,  672874.19952676, 1267114.18116978,\n",
       "       1603146.05504077])"
      ]
     },
     "execution_count": 15,
     "metadata": {},
     "output_type": "execute_result"
    }
   ],
   "source": [
    "gdf_states.total_bounds"
   ]
  },
  {
   "cell_type": "markdown",
   "id": "f17acafc-a9df-4958-beac-f00ed3cfb901",
   "metadata": {},
   "source": [
    "## GeoSeries.count_geometries()\n",
    "\n",
    "For multi-geometries, this counts how many shapes are with the shape (e.g. polygons in a multipolygon). This will return a value of 1 for non multi-geometries."
   ]
  },
  {
   "cell_type": "code",
   "execution_count": 16,
   "id": "fd180c02-ec48-4342-96b1-19e7d950deb5",
   "metadata": {},
   "outputs": [
    {
     "data": {
      "text/plain": [
       "0     5\n",
       "1     1\n",
       "2     1\n",
       "3     8\n",
       "4    42\n",
       "dtype: int32"
      ]
     },
     "execution_count": 16,
     "metadata": {},
     "output_type": "execute_result"
    }
   ],
   "source": [
    "gdf_states.count_geometries()"
   ]
  },
  {
   "cell_type": "markdown",
   "id": "f6abfd7d-6fc0-4a16-85b7-a5ff17126ddc",
   "metadata": {},
   "source": [
    "## GeoSeries.count_coordinates()\n",
    "\n",
    "Gives you the number of nodes (points) that make up each shape"
   ]
  },
  {
   "cell_type": "code",
   "execution_count": 17,
   "id": "226b94ce-13db-481c-b12b-5f24fc5f4d54",
   "metadata": {},
   "outputs": [
    {
     "data": {
      "text/plain": [
       "0    1842\n",
       "1    2387\n",
       "2    2258\n",
       "3    2769\n",
       "4    5474\n",
       "dtype: int32"
      ]
     },
     "execution_count": 17,
     "metadata": {},
     "output_type": "execute_result"
    }
   ],
   "source": [
    "gdf_states.count_coordinates()"
   ]
  },
  {
   "cell_type": "markdown",
   "id": "ec42e256-704d-4854-9564-12f4d2cc9041",
   "metadata": {},
   "source": [
    "## GeoSeries.get_coordinates()\n",
    "\n",
    "Pulls the x and y value of each node in each shape and puts them into separate x/y columns"
   ]
  },
  {
   "cell_type": "code",
   "execution_count": 18,
   "id": "29e2d248-ed13-41b6-a21c-80638cfabc65",
   "metadata": {},
   "outputs": [
    {
     "data": {
      "text/html": [
       "<div>\n",
       "<style scoped>\n",
       "    .dataframe tbody tr th:only-of-type {\n",
       "        vertical-align: middle;\n",
       "    }\n",
       "\n",
       "    .dataframe tbody tr th {\n",
       "        vertical-align: top;\n",
       "    }\n",
       "\n",
       "    .dataframe thead th {\n",
       "        text-align: right;\n",
       "    }\n",
       "</style>\n",
       "<table border=\"1\" class=\"dataframe\">\n",
       "  <thead>\n",
       "    <tr style=\"text-align: right;\">\n",
       "      <th></th>\n",
       "      <th>x</th>\n",
       "      <th>y</th>\n",
       "    </tr>\n",
       "  </thead>\n",
       "  <tbody>\n",
       "    <tr>\n",
       "      <th>0</th>\n",
       "      <td>760323.730743</td>\n",
       "      <td>8.574747e+05</td>\n",
       "    </tr>\n",
       "    <tr>\n",
       "      <th>0</th>\n",
       "      <td>760524.681315</td>\n",
       "      <td>8.577000e+05</td>\n",
       "    </tr>\n",
       "    <tr>\n",
       "      <th>0</th>\n",
       "      <td>761002.719789</td>\n",
       "      <td>8.582361e+05</td>\n",
       "    </tr>\n",
       "    <tr>\n",
       "      <th>0</th>\n",
       "      <td>761316.242610</td>\n",
       "      <td>8.587162e+05</td>\n",
       "    </tr>\n",
       "    <tr>\n",
       "      <th>0</th>\n",
       "      <td>761602.662957</td>\n",
       "      <td>8.590779e+05</td>\n",
       "    </tr>\n",
       "    <tr>\n",
       "      <th>...</th>\n",
       "      <td>...</td>\n",
       "      <td>...</td>\n",
       "    </tr>\n",
       "    <tr>\n",
       "      <th>4</th>\n",
       "      <td>182574.663133</td>\n",
       "      <td>1.065043e+06</td>\n",
       "    </tr>\n",
       "    <tr>\n",
       "      <th>4</th>\n",
       "      <td>182571.506252</td>\n",
       "      <td>1.065395e+06</td>\n",
       "    </tr>\n",
       "    <tr>\n",
       "      <th>4</th>\n",
       "      <td>182532.317766</td>\n",
       "      <td>1.066695e+06</td>\n",
       "    </tr>\n",
       "    <tr>\n",
       "      <th>4</th>\n",
       "      <td>182423.445339</td>\n",
       "      <td>1.070922e+06</td>\n",
       "    </tr>\n",
       "    <tr>\n",
       "      <th>4</th>\n",
       "      <td>182423.442467</td>\n",
       "      <td>1.070922e+06</td>\n",
       "    </tr>\n",
       "  </tbody>\n",
       "</table>\n",
       "<p>14730 rows × 2 columns</p>\n",
       "</div>"
      ],
      "text/plain": [
       "                x             y\n",
       "0   760323.730743  8.574747e+05\n",
       "0   760524.681315  8.577000e+05\n",
       "0   761002.719789  8.582361e+05\n",
       "0   761316.242610  8.587162e+05\n",
       "0   761602.662957  8.590779e+05\n",
       "..            ...           ...\n",
       "4   182574.663133  1.065043e+06\n",
       "4   182571.506252  1.065395e+06\n",
       "4   182532.317766  1.066695e+06\n",
       "4   182423.445339  1.070922e+06\n",
       "4   182423.442467  1.070922e+06\n",
       "\n",
       "[14730 rows x 2 columns]"
      ]
     },
     "execution_count": 18,
     "metadata": {},
     "output_type": "execute_result"
    }
   ],
   "source": [
    "gdf_states.get_coordinates()"
   ]
  },
  {
   "cell_type": "markdown",
   "id": "3bf0199f-0d9d-4717-a5b6-e68f02ab385c",
   "metadata": {},
   "source": [
    "You can find the full list of [GeoSeries general methods and attributes in the GeoPandas Documentation](https://geopandas.org/en/stable/docs/reference/geoseries.html#general-methods-and-attributes).\n",
    "\n",
    "<div class=\"alert alert-info\"> \n",
    "\n",
    "## Exercise 2: \n",
    "\n",
    "- programatically show the minx, miny, maxx, maxy bounds for only the state of california\n",
    "- programatically show the only the maxy bound for the state of california\n",
    "- calculate the area for every state in xx\n",
    "- plot your states in crs whatever and color the states by area (link to doc for coloring)\n"
   ]
  },
  {
   "cell_type": "markdown",
   "id": "aac1933d-059d-4e5a-98fa-0e2d1a4097d1",
   "metadata": {},
   "source": [
    "# VII. Showing Multiple GeoSeries on a Single Figure\n",
    "\n",
    "Let's read another shapefile containing the centerlines of some large rivers and plot them along with the state boundaries in a single figure."
   ]
  },
  {
   "cell_type": "code",
   "execution_count": 19,
   "id": "d4c82031-c76b-46f1-97db-4f64b43d0fa2",
   "metadata": {},
   "outputs": [
    {
     "data": {
      "text/html": [
       "<div>\n",
       "<style scoped>\n",
       "    .dataframe tbody tr th:only-of-type {\n",
       "        vertical-align: middle;\n",
       "    }\n",
       "\n",
       "    .dataframe tbody tr th {\n",
       "        vertical-align: top;\n",
       "    }\n",
       "\n",
       "    .dataframe thead th {\n",
       "        text-align: right;\n",
       "    }\n",
       "</style>\n",
       "<table border=\"1\" class=\"dataframe\">\n",
       "  <thead>\n",
       "    <tr style=\"text-align: right;\">\n",
       "      <th></th>\n",
       "      <th>scalerank</th>\n",
       "      <th>featurecla</th>\n",
       "      <th>name</th>\n",
       "      <th>rivernum</th>\n",
       "      <th>ne_id</th>\n",
       "      <th>wikidataid</th>\n",
       "      <th>geometry</th>\n",
       "    </tr>\n",
       "  </thead>\n",
       "  <tbody>\n",
       "    <tr>\n",
       "      <th>0</th>\n",
       "      <td>8</td>\n",
       "      <td>River</td>\n",
       "      <td>Bayou Lafourche</td>\n",
       "      <td>916.0</td>\n",
       "      <td>1159128577</td>\n",
       "      <td>Q2892300</td>\n",
       "      <td>LINESTRING (568357.042 689163.124, 565180.878 ...</td>\n",
       "    </tr>\n",
       "    <tr>\n",
       "      <th>1</th>\n",
       "      <td>7</td>\n",
       "      <td>River</td>\n",
       "      <td>Pearl</td>\n",
       "      <td>528.0</td>\n",
       "      <td>1159122089</td>\n",
       "      <td>Q1739672</td>\n",
       "      <td>MULTILINESTRING ((635175.29 1145225.449, 63724...</td>\n",
       "    </tr>\n",
       "    <tr>\n",
       "      <th>2</th>\n",
       "      <td>6</td>\n",
       "      <td>River</td>\n",
       "      <td>Alabama</td>\n",
       "      <td>251.0</td>\n",
       "      <td>1159114979</td>\n",
       "      <td>Q558643</td>\n",
       "      <td>MULTILINESTRING ((799076.718 1018795.098, 7983...</td>\n",
       "    </tr>\n",
       "    <tr>\n",
       "      <th>3</th>\n",
       "      <td>8</td>\n",
       "      <td>River</td>\n",
       "      <td>Tombigbee</td>\n",
       "      <td>710.0</td>\n",
       "      <td>1159126229</td>\n",
       "      <td>Q2297877</td>\n",
       "      <td>LINESTRING (700410.717 1322268.779, 702668.212...</td>\n",
       "    </tr>\n",
       "    <tr>\n",
       "      <th>4</th>\n",
       "      <td>7</td>\n",
       "      <td>River</td>\n",
       "      <td>Red</td>\n",
       "      <td>414.0</td>\n",
       "      <td>1159119701</td>\n",
       "      <td>Q156032</td>\n",
       "      <td>LINESTRING (331751.24 925190.299, 332215.567 9...</td>\n",
       "    </tr>\n",
       "    <tr>\n",
       "      <th>...</th>\n",
       "      <td>...</td>\n",
       "      <td>...</td>\n",
       "      <td>...</td>\n",
       "      <td>...</td>\n",
       "      <td>...</td>\n",
       "      <td>...</td>\n",
       "      <td>...</td>\n",
       "    </tr>\n",
       "    <tr>\n",
       "      <th>70</th>\n",
       "      <td>10</td>\n",
       "      <td>River</td>\n",
       "      <td>St. Francis</td>\n",
       "      <td>23283.0</td>\n",
       "      <td>1159108133</td>\n",
       "      <td>Q1108022</td>\n",
       "      <td>LINESTRING (499575.978 1397371.49, 499957.074 ...</td>\n",
       "    </tr>\n",
       "    <tr>\n",
       "      <th>71</th>\n",
       "      <td>11</td>\n",
       "      <td>River</td>\n",
       "      <td>Hatchie</td>\n",
       "      <td>22539.0</td>\n",
       "      <td>1159139009</td>\n",
       "      <td>Q5681137</td>\n",
       "      <td>LINESTRING (613963.025 1404839.47, 614746.904 ...</td>\n",
       "    </tr>\n",
       "    <tr>\n",
       "      <th>72</th>\n",
       "      <td>12</td>\n",
       "      <td>River</td>\n",
       "      <td>Little Red</td>\n",
       "      <td>NaN</td>\n",
       "      <td>1746333499</td>\n",
       "      <td>Q6651505</td>\n",
       "      <td>LINESTRING (364723.209 1390543.547, 363354.685...</td>\n",
       "    </tr>\n",
       "    <tr>\n",
       "      <th>73</th>\n",
       "      <td>11</td>\n",
       "      <td>River</td>\n",
       "      <td>Cache</td>\n",
       "      <td>22542.0</td>\n",
       "      <td>1159139021</td>\n",
       "      <td>Q5015966</td>\n",
       "      <td>LINESTRING (438432.924 1394010.936, 438485.073...</td>\n",
       "    </tr>\n",
       "    <tr>\n",
       "      <th>74</th>\n",
       "      <td>12</td>\n",
       "      <td>River</td>\n",
       "      <td>S.  Fk.  Forked Deer</td>\n",
       "      <td>22646.0</td>\n",
       "      <td>1159107533</td>\n",
       "      <td>None</td>\n",
       "      <td>LINESTRING (664038.614 1398467.667, 663460.758...</td>\n",
       "    </tr>\n",
       "  </tbody>\n",
       "</table>\n",
       "<p>75 rows × 7 columns</p>\n",
       "</div>"
      ],
      "text/plain": [
       "    scalerank featurecla                  name  rivernum       ne_id  \\\n",
       "0           8      River       Bayou Lafourche     916.0  1159128577   \n",
       "1           7      River                 Pearl     528.0  1159122089   \n",
       "2           6      River               Alabama     251.0  1159114979   \n",
       "3           8      River             Tombigbee     710.0  1159126229   \n",
       "4           7      River                   Red     414.0  1159119701   \n",
       "..        ...        ...                   ...       ...         ...   \n",
       "70         10      River           St. Francis   23283.0  1159108133   \n",
       "71         11      River               Hatchie   22539.0  1159139009   \n",
       "72         12      River            Little Red       NaN  1746333499   \n",
       "73         11      River                 Cache   22542.0  1159139021   \n",
       "74         12      River  S.  Fk.  Forked Deer   22646.0  1159107533   \n",
       "\n",
       "   wikidataid                                           geometry  \n",
       "0    Q2892300  LINESTRING (568357.042 689163.124, 565180.878 ...  \n",
       "1    Q1739672  MULTILINESTRING ((635175.29 1145225.449, 63724...  \n",
       "2     Q558643  MULTILINESTRING ((799076.718 1018795.098, 7983...  \n",
       "3    Q2297877  LINESTRING (700410.717 1322268.779, 702668.212...  \n",
       "4     Q156032  LINESTRING (331751.24 925190.299, 332215.567 9...  \n",
       "..        ...                                                ...  \n",
       "70   Q1108022  LINESTRING (499575.978 1397371.49, 499957.074 ...  \n",
       "71   Q5681137  LINESTRING (613963.025 1404839.47, 614746.904 ...  \n",
       "72   Q6651505  LINESTRING (364723.209 1390543.547, 363354.685...  \n",
       "73   Q5015966  LINESTRING (438432.924 1394010.936, 438485.073...  \n",
       "74       None  LINESTRING (664038.614 1398467.667, 663460.758...  \n",
       "\n",
       "[75 rows x 7 columns]"
      ]
     },
     "execution_count": 19,
     "metadata": {},
     "output_type": "execute_result"
    }
   ],
   "source": [
    "# get river data from shapefile into a GeoDataFrame\n",
    "gdf_rivers = gpd.read_file(\"data/natural_earth_rivers/ms_clipped_major_rivers/ms_clipped_major_rivers.shp\")\n",
    "gdf_rivers"
   ]
  },
  {
   "cell_type": "markdown",
   "id": "f64ae624-8f04-4dd6-8eea-31502bd4a386",
   "metadata": {
    "editable": true,
    "slideshow": {
     "slide_type": ""
    },
    "tags": []
   },
   "source": [
    "<div class=\"alert alert-danger\">\n",
    "\n",
    "**Sidebar: Pay attention to projections** \n",
    "\n",
    "Unlike in GIS, there is no \"on the fly\" reprojection with GeoPandas or any other Python package. You need to be aware of the CRS's that your different datasets are using and make sure they match in order for the data to overlay correctly in a figure.\n",
    "</div>"
   ]
  },
  {
   "cell_type": "markdown",
   "id": "6cb86c57-d753-41dc-b978-8d3156ae4e62",
   "metadata": {},
   "source": [
    "Let's check the CRS of ```gdf_rivers```"
   ]
  },
  {
   "cell_type": "code",
   "execution_count": 20,
   "id": "0a03cb3a-4a90-4859-a797-362c9cd1f417",
   "metadata": {},
   "outputs": [
    {
     "data": {
      "text/plain": [
       "<Projected CRS: EPSG:5070>\n",
       "Name: NAD83 / Conus Albers\n",
       "Axis Info [cartesian]:\n",
       "- X[east]: Easting (metre)\n",
       "- Y[north]: Northing (metre)\n",
       "Area of Use:\n",
       "- name: United States (USA) - CONUS onshore - Alabama; Arizona; Arkansas; California; Colorado; Connecticut; Delaware; Florida; Georgia; Idaho; Illinois; Indiana; Iowa; Kansas; Kentucky; Louisiana; Maine; Maryland; Massachusetts; Michigan; Minnesota; Mississippi; Missouri; Montana; Nebraska; Nevada; New Hampshire; New Jersey; New Mexico; New York; North Carolina; North Dakota; Ohio; Oklahoma; Oregon; Pennsylvania; Rhode Island; South Carolina; South Dakota; Tennessee; Texas; Utah; Vermont; Virginia; Washington; West Virginia; Wisconsin; Wyoming.\n",
       "- bounds: (-124.79, 24.41, -66.91, 49.38)\n",
       "Coordinate Operation:\n",
       "- name: Conus Albers\n",
       "- method: Albers Equal Area\n",
       "Datum: North American Datum 1983\n",
       "- Ellipsoid: GRS 1980\n",
       "- Prime Meridian: Greenwich"
      ]
     },
     "execution_count": 20,
     "metadata": {},
     "output_type": "execute_result"
    }
   ],
   "source": [
    "# check the crs\n",
    "gdf_rivers.crs"
   ]
  },
  {
   "cell_type": "markdown",
   "id": "b6e7c864-7be8-47ec-9a1e-896f1e5cc579",
   "metadata": {},
   "source": [
    "Excellent, this data is also in EPSG:5070, meaning ```gdf_states``` and ```gdf_rivers``` should overlay correctly if we plot them together.\n",
    "\n",
    "To plot more than one GeoSeries you must first create an 'Axes' object which is like a base figure, then you can plot more GeoSeries on top of it like this:"
   ]
  },
  {
   "cell_type": "code",
   "execution_count": 21,
   "id": "a65c8ea3-e194-4229-a9d7-0c503017bb3a",
   "metadata": {},
   "outputs": [
    {
     "data": {
      "text/plain": [
       "<Axes: >"
      ]
     },
     "execution_count": 21,
     "metadata": {},
     "output_type": "execute_result"
    },
    {
     "data": {
      "image/png": "[encoded data removed]",
      "text/plain": [
       "<Figure size 640x480 with 1 Axes>"
      ]
     },
     "metadata": {},
     "output_type": "display_data"
    }
   ],
   "source": [
    "# create the base figure (Axes) and plot the states on it\n",
    "base = gdf_states.plot(facecolor='none',edgecolor='black',lw=0.5) \n",
    "\n",
    "# add the rivers on top of the base figure using the ax parameter\n",
    "gdf_rivers.plot(ax=base)"
   ]
  },
  {
   "cell_type": "markdown",
   "id": "5a116f93-7995-49a3-bf23-3f89b0ac55e4",
   "metadata": {},
   "source": [
    "# VIII. Loading Data from a Geodatabase into a GeoDataFrame\n",
    "\n",
    "The geodatabase (.gdb) format is proprietary to ESRI, the developer of ArcGIS, however, GeoPandas ```.read_file()```is able to load data from a geodatabase. \n",
    "\n",
    "Let's load superfund site data from a geodatabase. Superfund sites are locations in the US where hazardous substances, pollutants, or contaminants are known or suspected to be released. The US Environmental Protection Agency (EPA) maintains the National Priorities List (NPL) of superfund sites. The NPL contains data that documents these sites and their clean up. \n",
    "\n",
    "The data file we will work with has been subset from a much larger publicly available data file by filtering for selected data columns for sites in Mississippi that include geospatial location. [The larger data file can be obtained from data.gov](https://catalog.data.gov/dataset/npl-superfund-site-boundaries-epa9), if you are interested.   "
   ]
  },
  {
   "cell_type": "code",
   "execution_count": 22,
   "id": "27510143-b258-4375-8d4b-d7c5b94e0767",
   "metadata": {},
   "outputs": [
    {
     "data": {
      "text/html": [
       "<div>\n",
       "<style scoped>\n",
       "    .dataframe tbody tr th:only-of-type {\n",
       "        vertical-align: middle;\n",
       "    }\n",
       "\n",
       "    .dataframe tbody tr th {\n",
       "        vertical-align: top;\n",
       "    }\n",
       "\n",
       "    .dataframe thead th {\n",
       "        text-align: right;\n",
       "    }\n",
       "</style>\n",
       "<table border=\"1\" class=\"dataframe\">\n",
       "  <thead>\n",
       "    <tr style=\"text-align: right;\">\n",
       "      <th></th>\n",
       "      <th>EPA_PROGRAM</th>\n",
       "      <th>EPA_ID</th>\n",
       "      <th>SITE_NAME</th>\n",
       "      <th>GIS_AREA</th>\n",
       "      <th>GIS_AREA_UNITS</th>\n",
       "      <th>URL_ALIAS_TXT</th>\n",
       "      <th>NPL_STATUS_CODE</th>\n",
       "      <th>CITY_NAME</th>\n",
       "      <th>COUNTY</th>\n",
       "      <th>STATE_CODE</th>\n",
       "      <th>ZIP_CODE</th>\n",
       "      <th>geometry</th>\n",
       "    </tr>\n",
       "  </thead>\n",
       "  <tbody>\n",
       "    <tr>\n",
       "      <th>0</th>\n",
       "      <td>Superfund Remedial</td>\n",
       "      <td>MSD056029648</td>\n",
       "      <td>POTTER CO.</td>\n",
       "      <td>0.012505</td>\n",
       "      <td>Square Miles</td>\n",
       "      <td>https://www.epa.gov/superfund/Potter</td>\n",
       "      <td>R</td>\n",
       "      <td>WESSON</td>\n",
       "      <td>COPIAH</td>\n",
       "      <td>MS</td>\n",
       "      <td>39191</td>\n",
       "      <td>MULTIPOLYGON (((-90.39347 31.71068, -90.39161 ...</td>\n",
       "    </tr>\n",
       "    <tr>\n",
       "      <th>1</th>\n",
       "      <td>Superfund Remedial</td>\n",
       "      <td>MSD980601736</td>\n",
       "      <td>WALCOTTE CHEMICAL CO. WAREHOUSES</td>\n",
       "      <td>0.001875</td>\n",
       "      <td>Square Miles</td>\n",
       "      <td>https://www.epa.gov/superfund/walcotte-chemica...</td>\n",
       "      <td>D</td>\n",
       "      <td>GREENVILLE</td>\n",
       "      <td>WASHINGTON</td>\n",
       "      <td>MS</td>\n",
       "      <td>38701</td>\n",
       "      <td>MULTIPOLYGON (((-91.05367 33.41172, -91.05336 ...</td>\n",
       "    </tr>\n",
       "    <tr>\n",
       "      <th>2</th>\n",
       "      <td>Superfund Remedial</td>\n",
       "      <td>MSD980840045</td>\n",
       "      <td>NEWSOM BROTHERS/OLD REICHHOLD CHEMICALS, INC.</td>\n",
       "      <td>0.106864</td>\n",
       "      <td>Square Miles</td>\n",
       "      <td>https://www.epa.gov/superfund/newsom-brothers</td>\n",
       "      <td>D</td>\n",
       "      <td>COLUMBIA</td>\n",
       "      <td>MARION</td>\n",
       "      <td>MS</td>\n",
       "      <td>39429</td>\n",
       "      <td>MULTIPOLYGON (((-89.83172 31.24718, -89.82803 ...</td>\n",
       "    </tr>\n",
       "    <tr>\n",
       "      <th>3</th>\n",
       "      <td>Superfund Remedial</td>\n",
       "      <td>MSD008154486</td>\n",
       "      <td>CHEMFAX, INC.</td>\n",
       "      <td>0.030808</td>\n",
       "      <td>Square Miles</td>\n",
       "      <td>https://www.epa.gov/superfund/chemfax</td>\n",
       "      <td>F</td>\n",
       "      <td>GULFPORT</td>\n",
       "      <td>HARRISON</td>\n",
       "      <td>MS</td>\n",
       "      <td>39505</td>\n",
       "      <td>MULTIPOLYGON (((-89.09194 30.4285, -89.08924 3...</td>\n",
       "    </tr>\n",
       "    <tr>\n",
       "      <th>4</th>\n",
       "      <td>Superfund Remedial</td>\n",
       "      <td>MSD000828558</td>\n",
       "      <td>SOUTHEASTERN WOOD PRESERVING</td>\n",
       "      <td>0.052808</td>\n",
       "      <td>Square Miles</td>\n",
       "      <td>https://www.epa.gov/superfund/southeastern-woo...</td>\n",
       "      <td>F</td>\n",
       "      <td>CANTON</td>\n",
       "      <td>MADISON</td>\n",
       "      <td>MS</td>\n",
       "      <td>39046</td>\n",
       "      <td>MULTIPOLYGON (((-90.01943 32.61852, -90.01559 ...</td>\n",
       "    </tr>\n",
       "    <tr>\n",
       "      <th>5</th>\n",
       "      <td>Superfund Remedial</td>\n",
       "      <td>MSD000272385</td>\n",
       "      <td>RED PANTHER CHEMICAL COMPANY</td>\n",
       "      <td>0.013329</td>\n",
       "      <td>Square Miles</td>\n",
       "      <td>https://www.epa.gov/superfund/red-panther-chem...</td>\n",
       "      <td>D</td>\n",
       "      <td>CLARKSDALE</td>\n",
       "      <td>COAHOMA</td>\n",
       "      <td>MS</td>\n",
       "      <td>38614</td>\n",
       "      <td>MULTIPOLYGON (((-90.56292 34.18858, -90.56229 ...</td>\n",
       "    </tr>\n",
       "    <tr>\n",
       "      <th>6</th>\n",
       "      <td>Superfund Remedial</td>\n",
       "      <td>MSD990866329</td>\n",
       "      <td>KERR-MCGEE CHEMICAL CORP - COLUMBUS</td>\n",
       "      <td>0.101956</td>\n",
       "      <td>Square Miles</td>\n",
       "      <td>https://www.epa.gov/superfund/kerr-mcgee-chemi...</td>\n",
       "      <td>F</td>\n",
       "      <td>COLUMBUS</td>\n",
       "      <td>LOWNDES</td>\n",
       "      <td>MS</td>\n",
       "      <td>39701</td>\n",
       "      <td>MULTIPOLYGON (((-88.41026 33.51039, -88.40898 ...</td>\n",
       "    </tr>\n",
       "    <tr>\n",
       "      <th>7</th>\n",
       "      <td>Superfund Remedial</td>\n",
       "      <td>MSD004006995</td>\n",
       "      <td>AMERICAN CREOSOTE WORKS INC (LOUISVILLE)</td>\n",
       "      <td>0.227193</td>\n",
       "      <td>Square Miles</td>\n",
       "      <td>https://www.epa.gov/superfund/american-creosot...</td>\n",
       "      <td>F</td>\n",
       "      <td>LOUISVILLE</td>\n",
       "      <td>WINSTON</td>\n",
       "      <td>MS</td>\n",
       "      <td>39339</td>\n",
       "      <td>MULTIPOLYGON (((-89.06084 33.11378, -89.06047 ...</td>\n",
       "    </tr>\n",
       "    <tr>\n",
       "      <th>8</th>\n",
       "      <td>Superfund Remedial</td>\n",
       "      <td>MSD046497012</td>\n",
       "      <td>DAVIS TIMBER COMPANY</td>\n",
       "      <td>0.040010</td>\n",
       "      <td>Square Miles</td>\n",
       "      <td>https://www.epa.gov/superfund/davis-timber</td>\n",
       "      <td>D</td>\n",
       "      <td>HATTIESBURG</td>\n",
       "      <td>LAMAR</td>\n",
       "      <td>MS</td>\n",
       "      <td>39401</td>\n",
       "      <td>MULTIPOLYGON (((-89.40309 31.34649, -89.39912 ...</td>\n",
       "    </tr>\n",
       "    <tr>\n",
       "      <th>9</th>\n",
       "      <td>Superfund Remedial</td>\n",
       "      <td>MSD980710941</td>\n",
       "      <td>FLOWOOD SITE</td>\n",
       "      <td>0.076644</td>\n",
       "      <td>Square Miles</td>\n",
       "      <td>https://www.epa.gov/superfund/flowood</td>\n",
       "      <td>D</td>\n",
       "      <td>FLOWOOD</td>\n",
       "      <td>RANKIN</td>\n",
       "      <td>MS</td>\n",
       "      <td>39208</td>\n",
       "      <td>MULTIPOLYGON (((-90.1449 32.30375, -90.14488 3...</td>\n",
       "    </tr>\n",
       "    <tr>\n",
       "      <th>10</th>\n",
       "      <td>Superfund Remedial</td>\n",
       "      <td>MSD065490930</td>\n",
       "      <td>PICAYUNE WOOD TREATING SITE</td>\n",
       "      <td>0.089054</td>\n",
       "      <td>Square Miles</td>\n",
       "      <td>https://www.epa.gov/superfund/picayune-wood-tr...</td>\n",
       "      <td>F</td>\n",
       "      <td>PICAYUNE</td>\n",
       "      <td>PEARL RIVER</td>\n",
       "      <td>MS</td>\n",
       "      <td>39466</td>\n",
       "      <td>MULTIPOLYGON (((-89.69367 30.52354, -89.69423 ...</td>\n",
       "    </tr>\n",
       "    <tr>\n",
       "      <th>11</th>\n",
       "      <td>Superfund Remedial</td>\n",
       "      <td>MSD086556388</td>\n",
       "      <td>SONFORD PRODUCTS</td>\n",
       "      <td>0.036070</td>\n",
       "      <td>Square Miles</td>\n",
       "      <td>https://www.epa.gov/superfund/sonford-products</td>\n",
       "      <td>F</td>\n",
       "      <td>FLOWOOD</td>\n",
       "      <td>RANKIN</td>\n",
       "      <td>MS</td>\n",
       "      <td>39208-3227</td>\n",
       "      <td>MULTIPOLYGON (((-90.14503 32.29405, -90.14479 ...</td>\n",
       "    </tr>\n",
       "    <tr>\n",
       "      <th>12</th>\n",
       "      <td>Superfund Remedial</td>\n",
       "      <td>MSD007037278</td>\n",
       "      <td>ROCKWELL INTERNATIONAL WHEEL &amp; TRIM</td>\n",
       "      <td>0.192255</td>\n",
       "      <td>Square Miles</td>\n",
       "      <td>https://www.epa.gov/superfund/rockwell-intl-wheel</td>\n",
       "      <td>F</td>\n",
       "      <td>GRENADA</td>\n",
       "      <td>GRENADA</td>\n",
       "      <td>MS</td>\n",
       "      <td>38901</td>\n",
       "      <td>MULTIPOLYGON (((-89.80233 33.80598, -89.80157 ...</td>\n",
       "    </tr>\n",
       "    <tr>\n",
       "      <th>13</th>\n",
       "      <td>Superfund Remedial</td>\n",
       "      <td>MSN000403508</td>\n",
       "      <td>MISSISSIPPI PHOSPHATES CORPORATION</td>\n",
       "      <td>1.705876</td>\n",
       "      <td>Square Miles</td>\n",
       "      <td>https://www.epa.gov/superfund/ms-phosphates-corp</td>\n",
       "      <td>F</td>\n",
       "      <td>PASCAGOULA</td>\n",
       "      <td>JACKSON</td>\n",
       "      <td>MS</td>\n",
       "      <td>39581</td>\n",
       "      <td>MULTIPOLYGON (((-88.4959 30.36959, -88.49859 3...</td>\n",
       "    </tr>\n",
       "  </tbody>\n",
       "</table>\n",
       "</div>"
      ],
      "text/plain": [
       "           EPA_PROGRAM        EPA_ID  \\\n",
       "0   Superfund Remedial  MSD056029648   \n",
       "1   Superfund Remedial  MSD980601736   \n",
       "2   Superfund Remedial  MSD980840045   \n",
       "3   Superfund Remedial  MSD008154486   \n",
       "4   Superfund Remedial  MSD000828558   \n",
       "5   Superfund Remedial  MSD000272385   \n",
       "6   Superfund Remedial  MSD990866329   \n",
       "7   Superfund Remedial  MSD004006995   \n",
       "8   Superfund Remedial  MSD046497012   \n",
       "9   Superfund Remedial  MSD980710941   \n",
       "10  Superfund Remedial  MSD065490930   \n",
       "11  Superfund Remedial  MSD086556388   \n",
       "12  Superfund Remedial  MSD007037278   \n",
       "13  Superfund Remedial  MSN000403508   \n",
       "\n",
       "                                        SITE_NAME  GIS_AREA GIS_AREA_UNITS  \\\n",
       "0                                      POTTER CO.  0.012505   Square Miles   \n",
       "1                WALCOTTE CHEMICAL CO. WAREHOUSES  0.001875   Square Miles   \n",
       "2   NEWSOM BROTHERS/OLD REICHHOLD CHEMICALS, INC.  0.106864   Square Miles   \n",
       "3                                   CHEMFAX, INC.  0.030808   Square Miles   \n",
       "4                    SOUTHEASTERN WOOD PRESERVING  0.052808   Square Miles   \n",
       "5                    RED PANTHER CHEMICAL COMPANY  0.013329   Square Miles   \n",
       "6             KERR-MCGEE CHEMICAL CORP - COLUMBUS  0.101956   Square Miles   \n",
       "7        AMERICAN CREOSOTE WORKS INC (LOUISVILLE)  0.227193   Square Miles   \n",
       "8                            DAVIS TIMBER COMPANY  0.040010   Square Miles   \n",
       "9                                    FLOWOOD SITE  0.076644   Square Miles   \n",
       "10                    PICAYUNE WOOD TREATING SITE  0.089054   Square Miles   \n",
       "11                               SONFORD PRODUCTS  0.036070   Square Miles   \n",
       "12            ROCKWELL INTERNATIONAL WHEEL & TRIM  0.192255   Square Miles   \n",
       "13             MISSISSIPPI PHOSPHATES CORPORATION  1.705876   Square Miles   \n",
       "\n",
       "                                        URL_ALIAS_TXT NPL_STATUS_CODE  \\\n",
       "0                https://www.epa.gov/superfund/Potter               R   \n",
       "1   https://www.epa.gov/superfund/walcotte-chemica...               D   \n",
       "2       https://www.epa.gov/superfund/newsom-brothers               D   \n",
       "3               https://www.epa.gov/superfund/chemfax               F   \n",
       "4   https://www.epa.gov/superfund/southeastern-woo...               F   \n",
       "5   https://www.epa.gov/superfund/red-panther-chem...               D   \n",
       "6   https://www.epa.gov/superfund/kerr-mcgee-chemi...               F   \n",
       "7   https://www.epa.gov/superfund/american-creosot...               F   \n",
       "8          https://www.epa.gov/superfund/davis-timber               D   \n",
       "9               https://www.epa.gov/superfund/flowood               D   \n",
       "10  https://www.epa.gov/superfund/picayune-wood-tr...               F   \n",
       "11     https://www.epa.gov/superfund/sonford-products               F   \n",
       "12  https://www.epa.gov/superfund/rockwell-intl-wheel               F   \n",
       "13   https://www.epa.gov/superfund/ms-phosphates-corp               F   \n",
       "\n",
       "      CITY_NAME       COUNTY STATE_CODE    ZIP_CODE  \\\n",
       "0        WESSON       COPIAH         MS       39191   \n",
       "1    GREENVILLE   WASHINGTON         MS       38701   \n",
       "2      COLUMBIA       MARION         MS       39429   \n",
       "3      GULFPORT     HARRISON         MS       39505   \n",
       "4        CANTON      MADISON         MS       39046   \n",
       "5    CLARKSDALE      COAHOMA         MS       38614   \n",
       "6      COLUMBUS      LOWNDES         MS       39701   \n",
       "7    LOUISVILLE      WINSTON         MS       39339   \n",
       "8   HATTIESBURG        LAMAR         MS       39401   \n",
       "9       FLOWOOD       RANKIN         MS       39208   \n",
       "10     PICAYUNE  PEARL RIVER         MS       39466   \n",
       "11      FLOWOOD       RANKIN         MS  39208-3227   \n",
       "12      GRENADA      GRENADA         MS       38901   \n",
       "13   PASCAGOULA      JACKSON         MS       39581   \n",
       "\n",
       "                                             geometry  \n",
       "0   MULTIPOLYGON (((-90.39347 31.71068, -90.39161 ...  \n",
       "1   MULTIPOLYGON (((-91.05367 33.41172, -91.05336 ...  \n",
       "2   MULTIPOLYGON (((-89.83172 31.24718, -89.82803 ...  \n",
       "3   MULTIPOLYGON (((-89.09194 30.4285, -89.08924 3...  \n",
       "4   MULTIPOLYGON (((-90.01943 32.61852, -90.01559 ...  \n",
       "5   MULTIPOLYGON (((-90.56292 34.18858, -90.56229 ...  \n",
       "6   MULTIPOLYGON (((-88.41026 33.51039, -88.40898 ...  \n",
       "7   MULTIPOLYGON (((-89.06084 33.11378, -89.06047 ...  \n",
       "8   MULTIPOLYGON (((-89.40309 31.34649, -89.39912 ...  \n",
       "9   MULTIPOLYGON (((-90.1449 32.30375, -90.14488 3...  \n",
       "10  MULTIPOLYGON (((-89.69367 30.52354, -89.69423 ...  \n",
       "11  MULTIPOLYGON (((-90.14503 32.29405, -90.14479 ...  \n",
       "12  MULTIPOLYGON (((-89.80233 33.80598, -89.80157 ...  \n",
       "13  MULTIPOLYGON (((-88.4959 30.36959, -88.49859 3...  "
      ]
     },
     "execution_count": 22,
     "metadata": {},
     "output_type": "execute_result"
    }
   ],
   "source": [
    "gdf_sites=gpd.read_file('data/EPA_superfund_boundaries/MS_EPA_NPL_Site_Boundaries.gdb')\n",
    "gdf_sites"
   ]
  },
  {
   "cell_type": "markdown",
   "id": "769db992-4d91-4d7c-a1e0-d353f98ed75b",
   "metadata": {},
   "source": [
    "This geodatabase is very simple, as it only contains one GIS data layer of multipolygon objects. This will rarely be the case when you are working with geodatabases. Before we move on, let's look at the tools you could use to see the names of all layers in a geodatabase and how you would read in a particular data layer if you had more than one. We need to import an additional package for this called pyogrio (we've already imported it in the beginning of our notebook)."
   ]
  },
  {
   "cell_type": "code",
   "execution_count": 23,
   "id": "62f7f97a-0ac6-4f36-9cd2-d57f258da04f",
   "metadata": {},
   "outputs": [
    {
     "data": {
      "text/plain": [
       "array([['MS_EPA_NPL_Site_Boundaries', 'MultiPolygon']], dtype=object)"
      ]
     },
     "execution_count": 23,
     "metadata": {},
     "output_type": "execute_result"
    }
   ],
   "source": [
    "# use the pyogrio package to list all the layer names in a geodatabase\n",
    "pyogrio.list_layers('data/EPA_superfund_boundaries/MS_EPA_NPL_Site_Boundaries.gdb')"
   ]
  },
  {
   "cell_type": "markdown",
   "id": "dc4ceba4-29b5-4e39-9f46-f1beacc91b49",
   "metadata": {},
   "source": [
    "This output is indicating that all the data in our geodatabase is stored on a single GIS data layer called 'MS_EPA_NPL_Site_Boundaries' and the layer's contents are multipolygons. If you are familiar with GIS, you know that there could be many more layer names in this list. If we had more layers, the ```pyogrio.list_layers()``` output might look like this:\n",
    "\n",
    "```\n",
    "array([['MS_EPA_NPL_Site_Boundaries', 'MultiPolygon'],\n",
    "       ['some_other_layer_name', 'layer_geometry_type'],\n",
    "       ['some_other_layer_name', 'layer_geometry_type']], dtype=object)\n",
    "```\n",
    "\n",
    "\n",
    "\n",
    "To load data from a specific layer into a GeoDataFrame we simply need to add the layer parameter when we read the geodatabase, like this:"
   ]
  },
  {
   "cell_type": "code",
   "execution_count": 24,
   "id": "24b0caa0-bee6-47de-91a6-dbacdac53c24",
   "metadata": {},
   "outputs": [
    {
     "data": {
      "text/html": [
       "<div>\n",
       "<style scoped>\n",
       "    .dataframe tbody tr th:only-of-type {\n",
       "        vertical-align: middle;\n",
       "    }\n",
       "\n",
       "    .dataframe tbody tr th {\n",
       "        vertical-align: top;\n",
       "    }\n",
       "\n",
       "    .dataframe thead th {\n",
       "        text-align: right;\n",
       "    }\n",
       "</style>\n",
       "<table border=\"1\" class=\"dataframe\">\n",
       "  <thead>\n",
       "    <tr style=\"text-align: right;\">\n",
       "      <th></th>\n",
       "      <th>EPA_PROGRAM</th>\n",
       "      <th>EPA_ID</th>\n",
       "      <th>SITE_NAME</th>\n",
       "      <th>GIS_AREA</th>\n",
       "      <th>GIS_AREA_UNITS</th>\n",
       "      <th>URL_ALIAS_TXT</th>\n",
       "      <th>NPL_STATUS_CODE</th>\n",
       "      <th>CITY_NAME</th>\n",
       "      <th>COUNTY</th>\n",
       "      <th>STATE_CODE</th>\n",
       "      <th>ZIP_CODE</th>\n",
       "      <th>geometry</th>\n",
       "    </tr>\n",
       "  </thead>\n",
       "  <tbody>\n",
       "    <tr>\n",
       "      <th>0</th>\n",
       "      <td>Superfund Remedial</td>\n",
       "      <td>MSD056029648</td>\n",
       "      <td>POTTER CO.</td>\n",
       "      <td>0.012505</td>\n",
       "      <td>Square Miles</td>\n",
       "      <td>https://www.epa.gov/superfund/Potter</td>\n",
       "      <td>R</td>\n",
       "      <td>WESSON</td>\n",
       "      <td>COPIAH</td>\n",
       "      <td>MS</td>\n",
       "      <td>39191</td>\n",
       "      <td>MULTIPOLYGON (((-90.39347 31.71068, -90.39161 ...</td>\n",
       "    </tr>\n",
       "    <tr>\n",
       "      <th>1</th>\n",
       "      <td>Superfund Remedial</td>\n",
       "      <td>MSD980601736</td>\n",
       "      <td>WALCOTTE CHEMICAL CO. WAREHOUSES</td>\n",
       "      <td>0.001875</td>\n",
       "      <td>Square Miles</td>\n",
       "      <td>https://www.epa.gov/superfund/walcotte-chemica...</td>\n",
       "      <td>D</td>\n",
       "      <td>GREENVILLE</td>\n",
       "      <td>WASHINGTON</td>\n",
       "      <td>MS</td>\n",
       "      <td>38701</td>\n",
       "      <td>MULTIPOLYGON (((-91.05367 33.41172, -91.05336 ...</td>\n",
       "    </tr>\n",
       "    <tr>\n",
       "      <th>2</th>\n",
       "      <td>Superfund Remedial</td>\n",
       "      <td>MSD980840045</td>\n",
       "      <td>NEWSOM BROTHERS/OLD REICHHOLD CHEMICALS, INC.</td>\n",
       "      <td>0.106864</td>\n",
       "      <td>Square Miles</td>\n",
       "      <td>https://www.epa.gov/superfund/newsom-brothers</td>\n",
       "      <td>D</td>\n",
       "      <td>COLUMBIA</td>\n",
       "      <td>MARION</td>\n",
       "      <td>MS</td>\n",
       "      <td>39429</td>\n",
       "      <td>MULTIPOLYGON (((-89.83172 31.24718, -89.82803 ...</td>\n",
       "    </tr>\n",
       "    <tr>\n",
       "      <th>3</th>\n",
       "      <td>Superfund Remedial</td>\n",
       "      <td>MSD008154486</td>\n",
       "      <td>CHEMFAX, INC.</td>\n",
       "      <td>0.030808</td>\n",
       "      <td>Square Miles</td>\n",
       "      <td>https://www.epa.gov/superfund/chemfax</td>\n",
       "      <td>F</td>\n",
       "      <td>GULFPORT</td>\n",
       "      <td>HARRISON</td>\n",
       "      <td>MS</td>\n",
       "      <td>39505</td>\n",
       "      <td>MULTIPOLYGON (((-89.09194 30.4285, -89.08924 3...</td>\n",
       "    </tr>\n",
       "    <tr>\n",
       "      <th>4</th>\n",
       "      <td>Superfund Remedial</td>\n",
       "      <td>MSD000828558</td>\n",
       "      <td>SOUTHEASTERN WOOD PRESERVING</td>\n",
       "      <td>0.052808</td>\n",
       "      <td>Square Miles</td>\n",
       "      <td>https://www.epa.gov/superfund/southeastern-woo...</td>\n",
       "      <td>F</td>\n",
       "      <td>CANTON</td>\n",
       "      <td>MADISON</td>\n",
       "      <td>MS</td>\n",
       "      <td>39046</td>\n",
       "      <td>MULTIPOLYGON (((-90.01943 32.61852, -90.01559 ...</td>\n",
       "    </tr>\n",
       "    <tr>\n",
       "      <th>5</th>\n",
       "      <td>Superfund Remedial</td>\n",
       "      <td>MSD000272385</td>\n",
       "      <td>RED PANTHER CHEMICAL COMPANY</td>\n",
       "      <td>0.013329</td>\n",
       "      <td>Square Miles</td>\n",
       "      <td>https://www.epa.gov/superfund/red-panther-chem...</td>\n",
       "      <td>D</td>\n",
       "      <td>CLARKSDALE</td>\n",
       "      <td>COAHOMA</td>\n",
       "      <td>MS</td>\n",
       "      <td>38614</td>\n",
       "      <td>MULTIPOLYGON (((-90.56292 34.18858, -90.56229 ...</td>\n",
       "    </tr>\n",
       "    <tr>\n",
       "      <th>6</th>\n",
       "      <td>Superfund Remedial</td>\n",
       "      <td>MSD990866329</td>\n",
       "      <td>KERR-MCGEE CHEMICAL CORP - COLUMBUS</td>\n",
       "      <td>0.101956</td>\n",
       "      <td>Square Miles</td>\n",
       "      <td>https://www.epa.gov/superfund/kerr-mcgee-chemi...</td>\n",
       "      <td>F</td>\n",
       "      <td>COLUMBUS</td>\n",
       "      <td>LOWNDES</td>\n",
       "      <td>MS</td>\n",
       "      <td>39701</td>\n",
       "      <td>MULTIPOLYGON (((-88.41026 33.51039, -88.40898 ...</td>\n",
       "    </tr>\n",
       "    <tr>\n",
       "      <th>7</th>\n",
       "      <td>Superfund Remedial</td>\n",
       "      <td>MSD004006995</td>\n",
       "      <td>AMERICAN CREOSOTE WORKS INC (LOUISVILLE)</td>\n",
       "      <td>0.227193</td>\n",
       "      <td>Square Miles</td>\n",
       "      <td>https://www.epa.gov/superfund/american-creosot...</td>\n",
       "      <td>F</td>\n",
       "      <td>LOUISVILLE</td>\n",
       "      <td>WINSTON</td>\n",
       "      <td>MS</td>\n",
       "      <td>39339</td>\n",
       "      <td>MULTIPOLYGON (((-89.06084 33.11378, -89.06047 ...</td>\n",
       "    </tr>\n",
       "    <tr>\n",
       "      <th>8</th>\n",
       "      <td>Superfund Remedial</td>\n",
       "      <td>MSD046497012</td>\n",
       "      <td>DAVIS TIMBER COMPANY</td>\n",
       "      <td>0.040010</td>\n",
       "      <td>Square Miles</td>\n",
       "      <td>https://www.epa.gov/superfund/davis-timber</td>\n",
       "      <td>D</td>\n",
       "      <td>HATTIESBURG</td>\n",
       "      <td>LAMAR</td>\n",
       "      <td>MS</td>\n",
       "      <td>39401</td>\n",
       "      <td>MULTIPOLYGON (((-89.40309 31.34649, -89.39912 ...</td>\n",
       "    </tr>\n",
       "    <tr>\n",
       "      <th>9</th>\n",
       "      <td>Superfund Remedial</td>\n",
       "      <td>MSD980710941</td>\n",
       "      <td>FLOWOOD SITE</td>\n",
       "      <td>0.076644</td>\n",
       "      <td>Square Miles</td>\n",
       "      <td>https://www.epa.gov/superfund/flowood</td>\n",
       "      <td>D</td>\n",
       "      <td>FLOWOOD</td>\n",
       "      <td>RANKIN</td>\n",
       "      <td>MS</td>\n",
       "      <td>39208</td>\n",
       "      <td>MULTIPOLYGON (((-90.1449 32.30375, -90.14488 3...</td>\n",
       "    </tr>\n",
       "    <tr>\n",
       "      <th>10</th>\n",
       "      <td>Superfund Remedial</td>\n",
       "      <td>MSD065490930</td>\n",
       "      <td>PICAYUNE WOOD TREATING SITE</td>\n",
       "      <td>0.089054</td>\n",
       "      <td>Square Miles</td>\n",
       "      <td>https://www.epa.gov/superfund/picayune-wood-tr...</td>\n",
       "      <td>F</td>\n",
       "      <td>PICAYUNE</td>\n",
       "      <td>PEARL RIVER</td>\n",
       "      <td>MS</td>\n",
       "      <td>39466</td>\n",
       "      <td>MULTIPOLYGON (((-89.69367 30.52354, -89.69423 ...</td>\n",
       "    </tr>\n",
       "    <tr>\n",
       "      <th>11</th>\n",
       "      <td>Superfund Remedial</td>\n",
       "      <td>MSD086556388</td>\n",
       "      <td>SONFORD PRODUCTS</td>\n",
       "      <td>0.036070</td>\n",
       "      <td>Square Miles</td>\n",
       "      <td>https://www.epa.gov/superfund/sonford-products</td>\n",
       "      <td>F</td>\n",
       "      <td>FLOWOOD</td>\n",
       "      <td>RANKIN</td>\n",
       "      <td>MS</td>\n",
       "      <td>39208-3227</td>\n",
       "      <td>MULTIPOLYGON (((-90.14503 32.29405, -90.14479 ...</td>\n",
       "    </tr>\n",
       "    <tr>\n",
       "      <th>12</th>\n",
       "      <td>Superfund Remedial</td>\n",
       "      <td>MSD007037278</td>\n",
       "      <td>ROCKWELL INTERNATIONAL WHEEL &amp; TRIM</td>\n",
       "      <td>0.192255</td>\n",
       "      <td>Square Miles</td>\n",
       "      <td>https://www.epa.gov/superfund/rockwell-intl-wheel</td>\n",
       "      <td>F</td>\n",
       "      <td>GRENADA</td>\n",
       "      <td>GRENADA</td>\n",
       "      <td>MS</td>\n",
       "      <td>38901</td>\n",
       "      <td>MULTIPOLYGON (((-89.80233 33.80598, -89.80157 ...</td>\n",
       "    </tr>\n",
       "    <tr>\n",
       "      <th>13</th>\n",
       "      <td>Superfund Remedial</td>\n",
       "      <td>MSN000403508</td>\n",
       "      <td>MISSISSIPPI PHOSPHATES CORPORATION</td>\n",
       "      <td>1.705876</td>\n",
       "      <td>Square Miles</td>\n",
       "      <td>https://www.epa.gov/superfund/ms-phosphates-corp</td>\n",
       "      <td>F</td>\n",
       "      <td>PASCAGOULA</td>\n",
       "      <td>JACKSON</td>\n",
       "      <td>MS</td>\n",
       "      <td>39581</td>\n",
       "      <td>MULTIPOLYGON (((-88.4959 30.36959, -88.49859 3...</td>\n",
       "    </tr>\n",
       "  </tbody>\n",
       "</table>\n",
       "</div>"
      ],
      "text/plain": [
       "           EPA_PROGRAM        EPA_ID  \\\n",
       "0   Superfund Remedial  MSD056029648   \n",
       "1   Superfund Remedial  MSD980601736   \n",
       "2   Superfund Remedial  MSD980840045   \n",
       "3   Superfund Remedial  MSD008154486   \n",
       "4   Superfund Remedial  MSD000828558   \n",
       "5   Superfund Remedial  MSD000272385   \n",
       "6   Superfund Remedial  MSD990866329   \n",
       "7   Superfund Remedial  MSD004006995   \n",
       "8   Superfund Remedial  MSD046497012   \n",
       "9   Superfund Remedial  MSD980710941   \n",
       "10  Superfund Remedial  MSD065490930   \n",
       "11  Superfund Remedial  MSD086556388   \n",
       "12  Superfund Remedial  MSD007037278   \n",
       "13  Superfund Remedial  MSN000403508   \n",
       "\n",
       "                                        SITE_NAME  GIS_AREA GIS_AREA_UNITS  \\\n",
       "0                                      POTTER CO.  0.012505   Square Miles   \n",
       "1                WALCOTTE CHEMICAL CO. WAREHOUSES  0.001875   Square Miles   \n",
       "2   NEWSOM BROTHERS/OLD REICHHOLD CHEMICALS, INC.  0.106864   Square Miles   \n",
       "3                                   CHEMFAX, INC.  0.030808   Square Miles   \n",
       "4                    SOUTHEASTERN WOOD PRESERVING  0.052808   Square Miles   \n",
       "5                    RED PANTHER CHEMICAL COMPANY  0.013329   Square Miles   \n",
       "6             KERR-MCGEE CHEMICAL CORP - COLUMBUS  0.101956   Square Miles   \n",
       "7        AMERICAN CREOSOTE WORKS INC (LOUISVILLE)  0.227193   Square Miles   \n",
       "8                            DAVIS TIMBER COMPANY  0.040010   Square Miles   \n",
       "9                                    FLOWOOD SITE  0.076644   Square Miles   \n",
       "10                    PICAYUNE WOOD TREATING SITE  0.089054   Square Miles   \n",
       "11                               SONFORD PRODUCTS  0.036070   Square Miles   \n",
       "12            ROCKWELL INTERNATIONAL WHEEL & TRIM  0.192255   Square Miles   \n",
       "13             MISSISSIPPI PHOSPHATES CORPORATION  1.705876   Square Miles   \n",
       "\n",
       "                                        URL_ALIAS_TXT NPL_STATUS_CODE  \\\n",
       "0                https://www.epa.gov/superfund/Potter               R   \n",
       "1   https://www.epa.gov/superfund/walcotte-chemica...               D   \n",
       "2       https://www.epa.gov/superfund/newsom-brothers               D   \n",
       "3               https://www.epa.gov/superfund/chemfax               F   \n",
       "4   https://www.epa.gov/superfund/southeastern-woo...               F   \n",
       "5   https://www.epa.gov/superfund/red-panther-chem...               D   \n",
       "6   https://www.epa.gov/superfund/kerr-mcgee-chemi...               F   \n",
       "7   https://www.epa.gov/superfund/american-creosot...               F   \n",
       "8          https://www.epa.gov/superfund/davis-timber               D   \n",
       "9               https://www.epa.gov/superfund/flowood               D   \n",
       "10  https://www.epa.gov/superfund/picayune-wood-tr...               F   \n",
       "11     https://www.epa.gov/superfund/sonford-products               F   \n",
       "12  https://www.epa.gov/superfund/rockwell-intl-wheel               F   \n",
       "13   https://www.epa.gov/superfund/ms-phosphates-corp               F   \n",
       "\n",
       "      CITY_NAME       COUNTY STATE_CODE    ZIP_CODE  \\\n",
       "0        WESSON       COPIAH         MS       39191   \n",
       "1    GREENVILLE   WASHINGTON         MS       38701   \n",
       "2      COLUMBIA       MARION         MS       39429   \n",
       "3      GULFPORT     HARRISON         MS       39505   \n",
       "4        CANTON      MADISON         MS       39046   \n",
       "5    CLARKSDALE      COAHOMA         MS       38614   \n",
       "6      COLUMBUS      LOWNDES         MS       39701   \n",
       "7    LOUISVILLE      WINSTON         MS       39339   \n",
       "8   HATTIESBURG        LAMAR         MS       39401   \n",
       "9       FLOWOOD       RANKIN         MS       39208   \n",
       "10     PICAYUNE  PEARL RIVER         MS       39466   \n",
       "11      FLOWOOD       RANKIN         MS  39208-3227   \n",
       "12      GRENADA      GRENADA         MS       38901   \n",
       "13   PASCAGOULA      JACKSON         MS       39581   \n",
       "\n",
       "                                             geometry  \n",
       "0   MULTIPOLYGON (((-90.39347 31.71068, -90.39161 ...  \n",
       "1   MULTIPOLYGON (((-91.05367 33.41172, -91.05336 ...  \n",
       "2   MULTIPOLYGON (((-89.83172 31.24718, -89.82803 ...  \n",
       "3   MULTIPOLYGON (((-89.09194 30.4285, -89.08924 3...  \n",
       "4   MULTIPOLYGON (((-90.01943 32.61852, -90.01559 ...  \n",
       "5   MULTIPOLYGON (((-90.56292 34.18858, -90.56229 ...  \n",
       "6   MULTIPOLYGON (((-88.41026 33.51039, -88.40898 ...  \n",
       "7   MULTIPOLYGON (((-89.06084 33.11378, -89.06047 ...  \n",
       "8   MULTIPOLYGON (((-89.40309 31.34649, -89.39912 ...  \n",
       "9   MULTIPOLYGON (((-90.1449 32.30375, -90.14488 3...  \n",
       "10  MULTIPOLYGON (((-89.69367 30.52354, -89.69423 ...  \n",
       "11  MULTIPOLYGON (((-90.14503 32.29405, -90.14479 ...  \n",
       "12  MULTIPOLYGON (((-89.80233 33.80598, -89.80157 ...  \n",
       "13  MULTIPOLYGON (((-88.4959 30.36959, -88.49859 3...  "
      ]
     },
     "execution_count": 24,
     "metadata": {},
     "output_type": "execute_result"
    }
   ],
   "source": [
    "gdf_sites=gpd.read_file('data/EPA_superfund_boundaries/MS_EPA_NPL_Site_Boundaries.gdb', layer='MS_EPA_NPL_Site_Boundaries')\n",
    "gdf_sites"
   ]
  },
  {
   "cell_type": "markdown",
   "id": "425ffedc-cdca-4276-8148-e647a0d2b607",
   "metadata": {},
   "source": [
    "Moving on, let's check what CRS this data uses."
   ]
  },
  {
   "cell_type": "code",
   "execution_count": 25,
   "id": "5a40d4f4-04c1-46d6-a34f-4ffd7c4f3b1d",
   "metadata": {},
   "outputs": [
    {
     "data": {
      "text/plain": [
       "<Geographic 2D CRS: EPSG:4326>\n",
       "Name: WGS 84\n",
       "Axis Info [ellipsoidal]:\n",
       "- Lat[north]: Geodetic latitude (degree)\n",
       "- Lon[east]: Geodetic longitude (degree)\n",
       "Area of Use:\n",
       "- name: World.\n",
       "- bounds: (-180.0, -90.0, 180.0, 90.0)\n",
       "Datum: World Geodetic System 1984 ensemble\n",
       "- Ellipsoid: WGS 84\n",
       "- Prime Meridian: Greenwich"
      ]
     },
     "execution_count": 25,
     "metadata": {},
     "output_type": "execute_result"
    }
   ],
   "source": [
    "gdf_sites.crs"
   ]
  },
  {
   "cell_type": "markdown",
   "id": "ed45032f-39da-4d1e-a265-9b1df3765125",
   "metadata": {},
   "source": [
    "It's in a different CRS! If we want to look at the locations of the superfund sites in relation to major rivers, we'll have to reproject this data to the CRS of our other GeoSeries, which is EPSG:5070.\n",
    "\n",
    "Let's reproject this data to EPSG:5070, overwriting the current CRS and geometry column of ```gdf_sites```. To do this we use ```.to_crs()``` with the parameter ```inplace``` set to True. "
   ]
  },
  {
   "cell_type": "code",
   "execution_count": 26,
   "id": "c9d064ed-bab4-4fe3-a366-0a128045fbd6",
   "metadata": {},
   "outputs": [
    {
     "data": {
      "text/html": [
       "<div>\n",
       "<style scoped>\n",
       "    .dataframe tbody tr th:only-of-type {\n",
       "        vertical-align: middle;\n",
       "    }\n",
       "\n",
       "    .dataframe tbody tr th {\n",
       "        vertical-align: top;\n",
       "    }\n",
       "\n",
       "    .dataframe thead th {\n",
       "        text-align: right;\n",
       "    }\n",
       "</style>\n",
       "<table border=\"1\" class=\"dataframe\">\n",
       "  <thead>\n",
       "    <tr style=\"text-align: right;\">\n",
       "      <th></th>\n",
       "      <th>EPA_PROGRAM</th>\n",
       "      <th>EPA_ID</th>\n",
       "      <th>SITE_NAME</th>\n",
       "      <th>GIS_AREA</th>\n",
       "      <th>GIS_AREA_UNITS</th>\n",
       "      <th>URL_ALIAS_TXT</th>\n",
       "      <th>NPL_STATUS_CODE</th>\n",
       "      <th>CITY_NAME</th>\n",
       "      <th>COUNTY</th>\n",
       "      <th>STATE_CODE</th>\n",
       "      <th>ZIP_CODE</th>\n",
       "      <th>geometry</th>\n",
       "    </tr>\n",
       "  </thead>\n",
       "  <tbody>\n",
       "    <tr>\n",
       "      <th>0</th>\n",
       "      <td>Superfund Remedial</td>\n",
       "      <td>MSD056029648</td>\n",
       "      <td>POTTER CO.</td>\n",
       "      <td>0.012505</td>\n",
       "      <td>Square Miles</td>\n",
       "      <td>https://www.epa.gov/superfund/Potter</td>\n",
       "      <td>R</td>\n",
       "      <td>WESSON</td>\n",
       "      <td>COPIAH</td>\n",
       "      <td>MS</td>\n",
       "      <td>39191</td>\n",
       "      <td>MULTIPOLYGON (((528846.456 975159.623, 529024....</td>\n",
       "    </tr>\n",
       "    <tr>\n",
       "      <th>1</th>\n",
       "      <td>Superfund Remedial</td>\n",
       "      <td>MSD980601736</td>\n",
       "      <td>WALCOTTE CHEMICAL CO. WAREHOUSES</td>\n",
       "      <td>0.001875</td>\n",
       "      <td>Square Miles</td>\n",
       "      <td>https://www.epa.gov/superfund/walcotte-chemica...</td>\n",
       "      <td>D</td>\n",
       "      <td>GREENVILLE</td>\n",
       "      <td>WASHINGTON</td>\n",
       "      <td>MS</td>\n",
       "      <td>38701</td>\n",
       "      <td>MULTIPOLYGON (((456762.356 1161146.457, 456792...</td>\n",
       "    </tr>\n",
       "    <tr>\n",
       "      <th>2</th>\n",
       "      <td>Superfund Remedial</td>\n",
       "      <td>MSD980840045</td>\n",
       "      <td>NEWSOM BROTHERS/OLD REICHHOLD CHEMICALS, INC.</td>\n",
       "      <td>0.106864</td>\n",
       "      <td>Square Miles</td>\n",
       "      <td>https://www.epa.gov/superfund/newsom-brothers</td>\n",
       "      <td>D</td>\n",
       "      <td>COLUMBIA</td>\n",
       "      <td>MARION</td>\n",
       "      <td>MS</td>\n",
       "      <td>39429</td>\n",
       "      <td>MULTIPOLYGON (((585109.787 926957.316, 585458....</td>\n",
       "    </tr>\n",
       "    <tr>\n",
       "      <th>3</th>\n",
       "      <td>Superfund Remedial</td>\n",
       "      <td>MSD008154486</td>\n",
       "      <td>CHEMFAX, INC.</td>\n",
       "      <td>0.030808</td>\n",
       "      <td>Square Miles</td>\n",
       "      <td>https://www.epa.gov/superfund/chemfax</td>\n",
       "      <td>F</td>\n",
       "      <td>GULFPORT</td>\n",
       "      <td>HARRISON</td>\n",
       "      <td>MS</td>\n",
       "      <td>39505</td>\n",
       "      <td>MULTIPOLYGON (((661776.408 841012.053, 662011....</td>\n",
       "    </tr>\n",
       "    <tr>\n",
       "      <th>4</th>\n",
       "      <td>Superfund Remedial</td>\n",
       "      <td>MSD000828558</td>\n",
       "      <td>SOUTHEASTERN WOOD PRESERVING</td>\n",
       "      <td>0.052808</td>\n",
       "      <td>Square Miles</td>\n",
       "      <td>https://www.epa.gov/superfund/southeastern-woo...</td>\n",
       "      <td>F</td>\n",
       "      <td>CANTON</td>\n",
       "      <td>MADISON</td>\n",
       "      <td>MS</td>\n",
       "      <td>39046</td>\n",
       "      <td>MULTIPOLYGON (((557719.87 1078287.363, 558078....</td>\n",
       "    </tr>\n",
       "    <tr>\n",
       "      <th>5</th>\n",
       "      <td>Superfund Remedial</td>\n",
       "      <td>MSD000272385</td>\n",
       "      <td>RED PANTHER CHEMICAL COMPANY</td>\n",
       "      <td>0.013329</td>\n",
       "      <td>Square Miles</td>\n",
       "      <td>https://www.epa.gov/superfund/red-panther-chem...</td>\n",
       "      <td>D</td>\n",
       "      <td>CLARKSDALE</td>\n",
       "      <td>COAHOMA</td>\n",
       "      <td>MS</td>\n",
       "      <td>38614</td>\n",
       "      <td>MULTIPOLYGON (((497070.009 1250277.929, 497129...</td>\n",
       "    </tr>\n",
       "    <tr>\n",
       "      <th>6</th>\n",
       "      <td>Superfund Remedial</td>\n",
       "      <td>MSD990866329</td>\n",
       "      <td>KERR-MCGEE CHEMICAL CORP - COLUMBUS</td>\n",
       "      <td>0.101956</td>\n",
       "      <td>Square Miles</td>\n",
       "      <td>https://www.epa.gov/superfund/kerr-mcgee-chemi...</td>\n",
       "      <td>F</td>\n",
       "      <td>COLUMBUS</td>\n",
       "      <td>LOWNDES</td>\n",
       "      <td>MS</td>\n",
       "      <td>39701</td>\n",
       "      <td>MULTIPOLYGON (((699556.86 1188225.895, 699674....</td>\n",
       "    </tr>\n",
       "    <tr>\n",
       "      <th>7</th>\n",
       "      <td>Superfund Remedial</td>\n",
       "      <td>MSD004006995</td>\n",
       "      <td>AMERICAN CREOSOTE WORKS INC (LOUISVILLE)</td>\n",
       "      <td>0.227193</td>\n",
       "      <td>Square Miles</td>\n",
       "      <td>https://www.epa.gov/superfund/american-creosot...</td>\n",
       "      <td>F</td>\n",
       "      <td>LOUISVILLE</td>\n",
       "      <td>WINSTON</td>\n",
       "      <td>MS</td>\n",
       "      <td>39339</td>\n",
       "      <td>MULTIPOLYGON (((642934.455 1139477.198, 642968...</td>\n",
       "    </tr>\n",
       "    <tr>\n",
       "      <th>8</th>\n",
       "      <td>Superfund Remedial</td>\n",
       "      <td>MSD046497012</td>\n",
       "      <td>DAVIS TIMBER COMPANY</td>\n",
       "      <td>0.040010</td>\n",
       "      <td>Square Miles</td>\n",
       "      <td>https://www.epa.gov/superfund/davis-timber</td>\n",
       "      <td>D</td>\n",
       "      <td>HATTIESBURG</td>\n",
       "      <td>LAMAR</td>\n",
       "      <td>MS</td>\n",
       "      <td>39401</td>\n",
       "      <td>MULTIPOLYGON (((624938.893 940712.324, 625314....</td>\n",
       "    </tr>\n",
       "    <tr>\n",
       "      <th>9</th>\n",
       "      <td>Superfund Remedial</td>\n",
       "      <td>MSD980710941</td>\n",
       "      <td>FLOWOOD SITE</td>\n",
       "      <td>0.076644</td>\n",
       "      <td>Square Miles</td>\n",
       "      <td>https://www.epa.gov/superfund/flowood</td>\n",
       "      <td>D</td>\n",
       "      <td>FLOWOOD</td>\n",
       "      <td>RANKIN</td>\n",
       "      <td>MS</td>\n",
       "      <td>39208</td>\n",
       "      <td>MULTIPOLYGON (((548194.945 1042527.015, 548203...</td>\n",
       "    </tr>\n",
       "    <tr>\n",
       "      <th>10</th>\n",
       "      <td>Superfund Remedial</td>\n",
       "      <td>MSD065490930</td>\n",
       "      <td>PICAYUNE WOOD TREATING SITE</td>\n",
       "      <td>0.089054</td>\n",
       "      <td>Square Miles</td>\n",
       "      <td>https://www.epa.gov/superfund/picayune-wood-tr...</td>\n",
       "      <td>F</td>\n",
       "      <td>PICAYUNE</td>\n",
       "      <td>PEARL RIVER</td>\n",
       "      <td>MS</td>\n",
       "      <td>39466</td>\n",
       "      <td>MULTIPOLYGON (((603520.682 847538.368, 603467....</td>\n",
       "    </tr>\n",
       "    <tr>\n",
       "      <th>11</th>\n",
       "      <td>Superfund Remedial</td>\n",
       "      <td>MSD086556388</td>\n",
       "      <td>SONFORD PRODUCTS</td>\n",
       "      <td>0.036070</td>\n",
       "      <td>Square Miles</td>\n",
       "      <td>https://www.epa.gov/superfund/sonford-products</td>\n",
       "      <td>F</td>\n",
       "      <td>FLOWOOD</td>\n",
       "      <td>RANKIN</td>\n",
       "      <td>MS</td>\n",
       "      <td>39208-3227</td>\n",
       "      <td>MULTIPOLYGON (((548250.068 1041447.334, 548271...</td>\n",
       "    </tr>\n",
       "    <tr>\n",
       "      <th>12</th>\n",
       "      <td>Superfund Remedial</td>\n",
       "      <td>MSD007037278</td>\n",
       "      <td>ROCKWELL INTERNATIONAL WHEEL &amp; TRIM</td>\n",
       "      <td>0.192255</td>\n",
       "      <td>Square Miles</td>\n",
       "      <td>https://www.epa.gov/superfund/rockwell-intl-wheel</td>\n",
       "      <td>F</td>\n",
       "      <td>GRENADA</td>\n",
       "      <td>GRENADA</td>\n",
       "      <td>MS</td>\n",
       "      <td>38901</td>\n",
       "      <td>MULTIPOLYGON (((569298.019 1211866.867, 569371...</td>\n",
       "    </tr>\n",
       "    <tr>\n",
       "      <th>13</th>\n",
       "      <td>Superfund Remedial</td>\n",
       "      <td>MSN000403508</td>\n",
       "      <td>MISSISSIPPI PHOSPHATES CORPORATION</td>\n",
       "      <td>1.705876</td>\n",
       "      <td>Square Miles</td>\n",
       "      <td>https://www.epa.gov/superfund/ms-phosphates-corp</td>\n",
       "      <td>F</td>\n",
       "      <td>PASCAGOULA</td>\n",
       "      <td>JACKSON</td>\n",
       "      <td>MS</td>\n",
       "      <td>39581</td>\n",
       "      <td>MULTIPOLYGON (((719278.081 838819.361, 719043....</td>\n",
       "    </tr>\n",
       "  </tbody>\n",
       "</table>\n",
       "</div>"
      ],
      "text/plain": [
       "           EPA_PROGRAM        EPA_ID  \\\n",
       "0   Superfund Remedial  MSD056029648   \n",
       "1   Superfund Remedial  MSD980601736   \n",
       "2   Superfund Remedial  MSD980840045   \n",
       "3   Superfund Remedial  MSD008154486   \n",
       "4   Superfund Remedial  MSD000828558   \n",
       "5   Superfund Remedial  MSD000272385   \n",
       "6   Superfund Remedial  MSD990866329   \n",
       "7   Superfund Remedial  MSD004006995   \n",
       "8   Superfund Remedial  MSD046497012   \n",
       "9   Superfund Remedial  MSD980710941   \n",
       "10  Superfund Remedial  MSD065490930   \n",
       "11  Superfund Remedial  MSD086556388   \n",
       "12  Superfund Remedial  MSD007037278   \n",
       "13  Superfund Remedial  MSN000403508   \n",
       "\n",
       "                                        SITE_NAME  GIS_AREA GIS_AREA_UNITS  \\\n",
       "0                                      POTTER CO.  0.012505   Square Miles   \n",
       "1                WALCOTTE CHEMICAL CO. WAREHOUSES  0.001875   Square Miles   \n",
       "2   NEWSOM BROTHERS/OLD REICHHOLD CHEMICALS, INC.  0.106864   Square Miles   \n",
       "3                                   CHEMFAX, INC.  0.030808   Square Miles   \n",
       "4                    SOUTHEASTERN WOOD PRESERVING  0.052808   Square Miles   \n",
       "5                    RED PANTHER CHEMICAL COMPANY  0.013329   Square Miles   \n",
       "6             KERR-MCGEE CHEMICAL CORP - COLUMBUS  0.101956   Square Miles   \n",
       "7        AMERICAN CREOSOTE WORKS INC (LOUISVILLE)  0.227193   Square Miles   \n",
       "8                            DAVIS TIMBER COMPANY  0.040010   Square Miles   \n",
       "9                                    FLOWOOD SITE  0.076644   Square Miles   \n",
       "10                    PICAYUNE WOOD TREATING SITE  0.089054   Square Miles   \n",
       "11                               SONFORD PRODUCTS  0.036070   Square Miles   \n",
       "12            ROCKWELL INTERNATIONAL WHEEL & TRIM  0.192255   Square Miles   \n",
       "13             MISSISSIPPI PHOSPHATES CORPORATION  1.705876   Square Miles   \n",
       "\n",
       "                                        URL_ALIAS_TXT NPL_STATUS_CODE  \\\n",
       "0                https://www.epa.gov/superfund/Potter               R   \n",
       "1   https://www.epa.gov/superfund/walcotte-chemica...               D   \n",
       "2       https://www.epa.gov/superfund/newsom-brothers               D   \n",
       "3               https://www.epa.gov/superfund/chemfax               F   \n",
       "4   https://www.epa.gov/superfund/southeastern-woo...               F   \n",
       "5   https://www.epa.gov/superfund/red-panther-chem...               D   \n",
       "6   https://www.epa.gov/superfund/kerr-mcgee-chemi...               F   \n",
       "7   https://www.epa.gov/superfund/american-creosot...               F   \n",
       "8          https://www.epa.gov/superfund/davis-timber               D   \n",
       "9               https://www.epa.gov/superfund/flowood               D   \n",
       "10  https://www.epa.gov/superfund/picayune-wood-tr...               F   \n",
       "11     https://www.epa.gov/superfund/sonford-products               F   \n",
       "12  https://www.epa.gov/superfund/rockwell-intl-wheel               F   \n",
       "13   https://www.epa.gov/superfund/ms-phosphates-corp               F   \n",
       "\n",
       "      CITY_NAME       COUNTY STATE_CODE    ZIP_CODE  \\\n",
       "0        WESSON       COPIAH         MS       39191   \n",
       "1    GREENVILLE   WASHINGTON         MS       38701   \n",
       "2      COLUMBIA       MARION         MS       39429   \n",
       "3      GULFPORT     HARRISON         MS       39505   \n",
       "4        CANTON      MADISON         MS       39046   \n",
       "5    CLARKSDALE      COAHOMA         MS       38614   \n",
       "6      COLUMBUS      LOWNDES         MS       39701   \n",
       "7    LOUISVILLE      WINSTON         MS       39339   \n",
       "8   HATTIESBURG        LAMAR         MS       39401   \n",
       "9       FLOWOOD       RANKIN         MS       39208   \n",
       "10     PICAYUNE  PEARL RIVER         MS       39466   \n",
       "11      FLOWOOD       RANKIN         MS  39208-3227   \n",
       "12      GRENADA      GRENADA         MS       38901   \n",
       "13   PASCAGOULA      JACKSON         MS       39581   \n",
       "\n",
       "                                             geometry  \n",
       "0   MULTIPOLYGON (((528846.456 975159.623, 529024....  \n",
       "1   MULTIPOLYGON (((456762.356 1161146.457, 456792...  \n",
       "2   MULTIPOLYGON (((585109.787 926957.316, 585458....  \n",
       "3   MULTIPOLYGON (((661776.408 841012.053, 662011....  \n",
       "4   MULTIPOLYGON (((557719.87 1078287.363, 558078....  \n",
       "5   MULTIPOLYGON (((497070.009 1250277.929, 497129...  \n",
       "6   MULTIPOLYGON (((699556.86 1188225.895, 699674....  \n",
       "7   MULTIPOLYGON (((642934.455 1139477.198, 642968...  \n",
       "8   MULTIPOLYGON (((624938.893 940712.324, 625314....  \n",
       "9   MULTIPOLYGON (((548194.945 1042527.015, 548203...  \n",
       "10  MULTIPOLYGON (((603520.682 847538.368, 603467....  \n",
       "11  MULTIPOLYGON (((548250.068 1041447.334, 548271...  \n",
       "12  MULTIPOLYGON (((569298.019 1211866.867, 569371...  \n",
       "13  MULTIPOLYGON (((719278.081 838819.361, 719043....  "
      ]
     },
     "execution_count": 26,
     "metadata": {},
     "output_type": "execute_result"
    }
   ],
   "source": [
    "gdf_sites.to_crs('epsg:5070',inplace=True)\n",
    "gdf_sites"
   ]
  },
  {
   "cell_type": "markdown",
   "id": "ec9f7440-923b-45d1-a366-1867aac44829",
   "metadata": {},
   "source": [
    "Notice the nodes of each multipolygon have changed from units of decimal degrees to units of meters. Let's double check the new CRS info."
   ]
  },
  {
   "cell_type": "code",
   "execution_count": 27,
   "id": "fe7513db-5ffc-44e8-b37a-44bcf97a3c09",
   "metadata": {},
   "outputs": [
    {
     "data": {
      "text/plain": [
       "<Projected CRS: EPSG:5070>\n",
       "Name: NAD83 / Conus Albers\n",
       "Axis Info [cartesian]:\n",
       "- X[east]: Easting (metre)\n",
       "- Y[north]: Northing (metre)\n",
       "Area of Use:\n",
       "- name: United States (USA) - CONUS onshore - Alabama; Arizona; Arkansas; California; Colorado; Connecticut; Delaware; Florida; Georgia; Idaho; Illinois; Indiana; Iowa; Kansas; Kentucky; Louisiana; Maine; Maryland; Massachusetts; Michigan; Minnesota; Mississippi; Missouri; Montana; Nebraska; Nevada; New Hampshire; New Jersey; New Mexico; New York; North Carolina; North Dakota; Ohio; Oklahoma; Oregon; Pennsylvania; Rhode Island; South Carolina; South Dakota; Tennessee; Texas; Utah; Vermont; Virginia; Washington; West Virginia; Wisconsin; Wyoming.\n",
       "- bounds: (-124.79, 24.41, -66.91, 49.38)\n",
       "Coordinate Operation:\n",
       "- name: Conus Albers\n",
       "- method: Albers Equal Area\n",
       "Datum: North American Datum 1983\n",
       "- Ellipsoid: GRS 1980\n",
       "- Prime Meridian: Greenwich"
      ]
     },
     "execution_count": 27,
     "metadata": {},
     "output_type": "execute_result"
    }
   ],
   "source": [
    "gdf_sites.crs"
   ]
  },
  {
   "cell_type": "markdown",
   "id": "7f8f55b9-7aca-4468-a368-c745b41a5667",
   "metadata": {},
   "source": [
    "Great! All our data now have the same EPSG:5070 CRS. Let's plot the state boundaries, rivers, and superfund sites on a single figure."
   ]
  },
  {
   "cell_type": "code",
   "execution_count": 28,
   "id": "5169deb2-1fe0-48b8-acd4-ef5509f6fa95",
   "metadata": {},
   "outputs": [
    {
     "data": {
      "text/plain": [
       "<Axes: >"
      ]
     },
     "execution_count": 28,
     "metadata": {},
     "output_type": "execute_result"
    },
    {
     "data": {
      "image/png": "[encoded data removed]",
      "text/plain": [
       "<Figure size 640x480 with 1 Axes>"
      ]
     },
     "metadata": {},
     "output_type": "display_data"
    }
   ],
   "source": [
    "base = gdf_states.plot(facecolor='none',edgecolor='black',lw=0.5) # base figure (Axes)\n",
    "gdf_rivers.plot(ax=base,color='blue')  # overlay on base figure\n",
    "gdf_sites.plot(ax=base,color='orange') # overlay on base figure"
   ]
  },
  {
   "cell_type": "code",
   "execution_count": 34,
   "id": "df3e269b-1e0c-41b0-bdf4-5eb4a6756809",
   "metadata": {},
   "outputs": [],
   "source": [
    "# trying to figure out zoom here\n",
    "# may need some dependencies\n",
    "# look here https://stackoverflow.com/questions/51922480/javascript-error-ipython-is-not-defined-in-jupyterlab/56416229#56416229\n",
    "import matplotlib.pyplot as plt"
   ]
  },
  {
   "cell_type": "code",
   "execution_count": 40,
   "id": "f4664b34-992d-413b-ad84-e0002d7df7af",
   "metadata": {},
   "outputs": [],
   "source": [
    "%matplotlib inline"
   ]
  },
  {
   "cell_type": "code",
   "execution_count": 41,
   "id": "1747221d-cb85-4113-b249-faa5c755d7a7",
   "metadata": {},
   "outputs": [
    {
     "data": {
      "text/plain": [
       "<Axes: >"
      ]
     },
     "execution_count": 41,
     "metadata": {},
     "output_type": "execute_result"
    },
    {
     "data": {
      "image/png": "[encoded data removed]",
      "text/plain": [
       "<Figure size 640x480 with 1 Axes>"
      ]
     },
     "metadata": {},
     "output_type": "display_data"
    }
   ],
   "source": [
    "# %matplotlib notebook\n",
    "# %matplotlib widget\n",
    "base = gdf_states.plot(facecolor='none',edgecolor='black')\n",
    "gdf_rivers.plot(ax=base,color='blue')\n",
    "gdf_sites.centroid.plot(ax=base,color='orange')"
   ]
  },
  {
   "cell_type": "markdown",
   "id": "c4dff221-2bb8-4aa6-b7ab-8e8632e22f57",
   "metadata": {},
   "source": [
    "What happened, why can't we see the orange sites??\n",
    "\n",
    "If we were using a fancier package for plotting (like folium) we could zoom in and see them, but with this simple static plotting the problem is that the sites are too small to see at this scale.  We can visualize the sites at this scale by plotting their centroid points, which will automatically scale to be visible.\n",
    "\n",
    "# IX. Geometric Constructive Functions\n",
    "\n",
    "https://geopandas.org/en/stable/docs/user_guide/geometric_manipulations.html\n",
    "\n",
    "## Centroid "
   ]
  },
  {
   "cell_type": "code",
   "execution_count": 29,
   "id": "5e1200d4-db80-4179-abf0-470362e126ef",
   "metadata": {},
   "outputs": [
    {
     "data": {
      "text/html": [
       "<div>\n",
       "<style scoped>\n",
       "    .dataframe tbody tr th:only-of-type {\n",
       "        vertical-align: middle;\n",
       "    }\n",
       "\n",
       "    .dataframe tbody tr th {\n",
       "        vertical-align: top;\n",
       "    }\n",
       "\n",
       "    .dataframe thead th {\n",
       "        text-align: right;\n",
       "    }\n",
       "</style>\n",
       "<table border=\"1\" class=\"dataframe\">\n",
       "  <thead>\n",
       "    <tr style=\"text-align: right;\">\n",
       "      <th></th>\n",
       "      <th>EPA_PROGRAM</th>\n",
       "      <th>EPA_ID</th>\n",
       "      <th>SITE_NAME</th>\n",
       "      <th>GIS_AREA</th>\n",
       "      <th>GIS_AREA_UNITS</th>\n",
       "      <th>URL_ALIAS_TXT</th>\n",
       "      <th>NPL_STATUS_CODE</th>\n",
       "      <th>CITY_NAME</th>\n",
       "      <th>COUNTY</th>\n",
       "      <th>STATE_CODE</th>\n",
       "      <th>ZIP_CODE</th>\n",
       "      <th>geometry</th>\n",
       "      <th>centroid</th>\n",
       "    </tr>\n",
       "  </thead>\n",
       "  <tbody>\n",
       "    <tr>\n",
       "      <th>0</th>\n",
       "      <td>Superfund Remedial</td>\n",
       "      <td>MSD056029648</td>\n",
       "      <td>POTTER CO.</td>\n",
       "      <td>0.012505</td>\n",
       "      <td>Square Miles</td>\n",
       "      <td>https://www.epa.gov/superfund/Potter</td>\n",
       "      <td>R</td>\n",
       "      <td>WESSON</td>\n",
       "      <td>COPIAH</td>\n",
       "      <td>MS</td>\n",
       "      <td>39191</td>\n",
       "      <td>MULTIPOLYGON (((528846.456 975159.623, 529024....</td>\n",
       "      <td>POINT (528900.434 975036.499)</td>\n",
       "    </tr>\n",
       "    <tr>\n",
       "      <th>1</th>\n",
       "      <td>Superfund Remedial</td>\n",
       "      <td>MSD980601736</td>\n",
       "      <td>WALCOTTE CHEMICAL CO. WAREHOUSES</td>\n",
       "      <td>0.001875</td>\n",
       "      <td>Square Miles</td>\n",
       "      <td>https://www.epa.gov/superfund/walcotte-chemica...</td>\n",
       "      <td>D</td>\n",
       "      <td>GREENVILLE</td>\n",
       "      <td>WASHINGTON</td>\n",
       "      <td>MS</td>\n",
       "      <td>38701</td>\n",
       "      <td>MULTIPOLYGON (((456762.356 1161146.457, 456792...</td>\n",
       "      <td>POINT (456738.236 1161074.926)</td>\n",
       "    </tr>\n",
       "    <tr>\n",
       "      <th>2</th>\n",
       "      <td>Superfund Remedial</td>\n",
       "      <td>MSD980840045</td>\n",
       "      <td>NEWSOM BROTHERS/OLD REICHHOLD CHEMICALS, INC.</td>\n",
       "      <td>0.106864</td>\n",
       "      <td>Square Miles</td>\n",
       "      <td>https://www.epa.gov/superfund/newsom-brothers</td>\n",
       "      <td>D</td>\n",
       "      <td>COLUMBIA</td>\n",
       "      <td>MARION</td>\n",
       "      <td>MS</td>\n",
       "      <td>39429</td>\n",
       "      <td>MULTIPOLYGON (((585109.787 926957.316, 585458....</td>\n",
       "      <td>POINT (585592.82 926721.66)</td>\n",
       "    </tr>\n",
       "    <tr>\n",
       "      <th>3</th>\n",
       "      <td>Superfund Remedial</td>\n",
       "      <td>MSD008154486</td>\n",
       "      <td>CHEMFAX, INC.</td>\n",
       "      <td>0.030808</td>\n",
       "      <td>Square Miles</td>\n",
       "      <td>https://www.epa.gov/superfund/chemfax</td>\n",
       "      <td>F</td>\n",
       "      <td>GULFPORT</td>\n",
       "      <td>HARRISON</td>\n",
       "      <td>MS</td>\n",
       "      <td>39505</td>\n",
       "      <td>MULTIPOLYGON (((661776.408 841012.053, 662011....</td>\n",
       "      <td>POINT (662013.455 841156.905)</td>\n",
       "    </tr>\n",
       "    <tr>\n",
       "      <th>4</th>\n",
       "      <td>Superfund Remedial</td>\n",
       "      <td>MSD000828558</td>\n",
       "      <td>SOUTHEASTERN WOOD PRESERVING</td>\n",
       "      <td>0.052808</td>\n",
       "      <td>Square Miles</td>\n",
       "      <td>https://www.epa.gov/superfund/southeastern-woo...</td>\n",
       "      <td>F</td>\n",
       "      <td>CANTON</td>\n",
       "      <td>MADISON</td>\n",
       "      <td>MS</td>\n",
       "      <td>39046</td>\n",
       "      <td>MULTIPOLYGON (((557719.87 1078287.363, 558078....</td>\n",
       "      <td>POINT (557961.9 1078231.921)</td>\n",
       "    </tr>\n",
       "    <tr>\n",
       "      <th>5</th>\n",
       "      <td>Superfund Remedial</td>\n",
       "      <td>MSD000272385</td>\n",
       "      <td>RED PANTHER CHEMICAL COMPANY</td>\n",
       "      <td>0.013329</td>\n",
       "      <td>Square Miles</td>\n",
       "      <td>https://www.epa.gov/superfund/red-panther-chem...</td>\n",
       "      <td>D</td>\n",
       "      <td>CLARKSDALE</td>\n",
       "      <td>COAHOMA</td>\n",
       "      <td>MS</td>\n",
       "      <td>38614</td>\n",
       "      <td>MULTIPOLYGON (((497070.009 1250277.929, 497129...</td>\n",
       "      <td>POINT (497157.767 1250143.565)</td>\n",
       "    </tr>\n",
       "    <tr>\n",
       "      <th>6</th>\n",
       "      <td>Superfund Remedial</td>\n",
       "      <td>MSD990866329</td>\n",
       "      <td>KERR-MCGEE CHEMICAL CORP - COLUMBUS</td>\n",
       "      <td>0.101956</td>\n",
       "      <td>Square Miles</td>\n",
       "      <td>https://www.epa.gov/superfund/kerr-mcgee-chemi...</td>\n",
       "      <td>F</td>\n",
       "      <td>COLUMBUS</td>\n",
       "      <td>LOWNDES</td>\n",
       "      <td>MS</td>\n",
       "      <td>39701</td>\n",
       "      <td>MULTIPOLYGON (((699556.86 1188225.895, 699674....</td>\n",
       "      <td>POINT (700002.706 1188255.288)</td>\n",
       "    </tr>\n",
       "    <tr>\n",
       "      <th>7</th>\n",
       "      <td>Superfund Remedial</td>\n",
       "      <td>MSD004006995</td>\n",
       "      <td>AMERICAN CREOSOTE WORKS INC (LOUISVILLE)</td>\n",
       "      <td>0.227193</td>\n",
       "      <td>Square Miles</td>\n",
       "      <td>https://www.epa.gov/superfund/american-creosot...</td>\n",
       "      <td>F</td>\n",
       "      <td>LOUISVILLE</td>\n",
       "      <td>WINSTON</td>\n",
       "      <td>MS</td>\n",
       "      <td>39339</td>\n",
       "      <td>MULTIPOLYGON (((642934.455 1139477.198, 642968...</td>\n",
       "      <td>POINT (643097.268 1138951.508)</td>\n",
       "    </tr>\n",
       "    <tr>\n",
       "      <th>8</th>\n",
       "      <td>Superfund Remedial</td>\n",
       "      <td>MSD046497012</td>\n",
       "      <td>DAVIS TIMBER COMPANY</td>\n",
       "      <td>0.040010</td>\n",
       "      <td>Square Miles</td>\n",
       "      <td>https://www.epa.gov/superfund/davis-timber</td>\n",
       "      <td>D</td>\n",
       "      <td>HATTIESBURG</td>\n",
       "      <td>LAMAR</td>\n",
       "      <td>MS</td>\n",
       "      <td>39401</td>\n",
       "      <td>MULTIPOLYGON (((624938.893 940712.324, 625314....</td>\n",
       "      <td>POINT (625126.479 940583.052)</td>\n",
       "    </tr>\n",
       "    <tr>\n",
       "      <th>9</th>\n",
       "      <td>Superfund Remedial</td>\n",
       "      <td>MSD980710941</td>\n",
       "      <td>FLOWOOD SITE</td>\n",
       "      <td>0.076644</td>\n",
       "      <td>Square Miles</td>\n",
       "      <td>https://www.epa.gov/superfund/flowood</td>\n",
       "      <td>D</td>\n",
       "      <td>FLOWOOD</td>\n",
       "      <td>RANKIN</td>\n",
       "      <td>MS</td>\n",
       "      <td>39208</td>\n",
       "      <td>MULTIPOLYGON (((548194.945 1042527.015, 548203...</td>\n",
       "      <td>POINT (548240.763 1042210.438)</td>\n",
       "    </tr>\n",
       "    <tr>\n",
       "      <th>10</th>\n",
       "      <td>Superfund Remedial</td>\n",
       "      <td>MSD065490930</td>\n",
       "      <td>PICAYUNE WOOD TREATING SITE</td>\n",
       "      <td>0.089054</td>\n",
       "      <td>Square Miles</td>\n",
       "      <td>https://www.epa.gov/superfund/picayune-wood-tr...</td>\n",
       "      <td>F</td>\n",
       "      <td>PICAYUNE</td>\n",
       "      <td>PEARL RIVER</td>\n",
       "      <td>MS</td>\n",
       "      <td>39466</td>\n",
       "      <td>MULTIPOLYGON (((603520.682 847538.368, 603467....</td>\n",
       "      <td>POINT (603987.237 847614.857)</td>\n",
       "    </tr>\n",
       "    <tr>\n",
       "      <th>11</th>\n",
       "      <td>Superfund Remedial</td>\n",
       "      <td>MSD086556388</td>\n",
       "      <td>SONFORD PRODUCTS</td>\n",
       "      <td>0.036070</td>\n",
       "      <td>Square Miles</td>\n",
       "      <td>https://www.epa.gov/superfund/sonford-products</td>\n",
       "      <td>F</td>\n",
       "      <td>FLOWOOD</td>\n",
       "      <td>RANKIN</td>\n",
       "      <td>MS</td>\n",
       "      <td>39208-3227</td>\n",
       "      <td>MULTIPOLYGON (((548250.068 1041447.334, 548271...</td>\n",
       "      <td>POINT (548418.563 1041315.261)</td>\n",
       "    </tr>\n",
       "    <tr>\n",
       "      <th>12</th>\n",
       "      <td>Superfund Remedial</td>\n",
       "      <td>MSD007037278</td>\n",
       "      <td>ROCKWELL INTERNATIONAL WHEEL &amp; TRIM</td>\n",
       "      <td>0.192255</td>\n",
       "      <td>Square Miles</td>\n",
       "      <td>https://www.epa.gov/superfund/rockwell-intl-wheel</td>\n",
       "      <td>F</td>\n",
       "      <td>GRENADA</td>\n",
       "      <td>GRENADA</td>\n",
       "      <td>MS</td>\n",
       "      <td>38901</td>\n",
       "      <td>MULTIPOLYGON (((569298.019 1211866.867, 569371...</td>\n",
       "      <td>POINT (569234.738 1211557.605)</td>\n",
       "    </tr>\n",
       "    <tr>\n",
       "      <th>13</th>\n",
       "      <td>Superfund Remedial</td>\n",
       "      <td>MSN000403508</td>\n",
       "      <td>MISSISSIPPI PHOSPHATES CORPORATION</td>\n",
       "      <td>1.705876</td>\n",
       "      <td>Square Miles</td>\n",
       "      <td>https://www.epa.gov/superfund/ms-phosphates-corp</td>\n",
       "      <td>F</td>\n",
       "      <td>PASCAGOULA</td>\n",
       "      <td>JACKSON</td>\n",
       "      <td>MS</td>\n",
       "      <td>39581</td>\n",
       "      <td>MULTIPOLYGON (((719278.081 838819.361, 719043....</td>\n",
       "      <td>POINT (719314.212 838767.746)</td>\n",
       "    </tr>\n",
       "  </tbody>\n",
       "</table>\n",
       "</div>"
      ],
      "text/plain": [
       "           EPA_PROGRAM        EPA_ID  \\\n",
       "0   Superfund Remedial  MSD056029648   \n",
       "1   Superfund Remedial  MSD980601736   \n",
       "2   Superfund Remedial  MSD980840045   \n",
       "3   Superfund Remedial  MSD008154486   \n",
       "4   Superfund Remedial  MSD000828558   \n",
       "5   Superfund Remedial  MSD000272385   \n",
       "6   Superfund Remedial  MSD990866329   \n",
       "7   Superfund Remedial  MSD004006995   \n",
       "8   Superfund Remedial  MSD046497012   \n",
       "9   Superfund Remedial  MSD980710941   \n",
       "10  Superfund Remedial  MSD065490930   \n",
       "11  Superfund Remedial  MSD086556388   \n",
       "12  Superfund Remedial  MSD007037278   \n",
       "13  Superfund Remedial  MSN000403508   \n",
       "\n",
       "                                        SITE_NAME  GIS_AREA GIS_AREA_UNITS  \\\n",
       "0                                      POTTER CO.  0.012505   Square Miles   \n",
       "1                WALCOTTE CHEMICAL CO. WAREHOUSES  0.001875   Square Miles   \n",
       "2   NEWSOM BROTHERS/OLD REICHHOLD CHEMICALS, INC.  0.106864   Square Miles   \n",
       "3                                   CHEMFAX, INC.  0.030808   Square Miles   \n",
       "4                    SOUTHEASTERN WOOD PRESERVING  0.052808   Square Miles   \n",
       "5                    RED PANTHER CHEMICAL COMPANY  0.013329   Square Miles   \n",
       "6             KERR-MCGEE CHEMICAL CORP - COLUMBUS  0.101956   Square Miles   \n",
       "7        AMERICAN CREOSOTE WORKS INC (LOUISVILLE)  0.227193   Square Miles   \n",
       "8                            DAVIS TIMBER COMPANY  0.040010   Square Miles   \n",
       "9                                    FLOWOOD SITE  0.076644   Square Miles   \n",
       "10                    PICAYUNE WOOD TREATING SITE  0.089054   Square Miles   \n",
       "11                               SONFORD PRODUCTS  0.036070   Square Miles   \n",
       "12            ROCKWELL INTERNATIONAL WHEEL & TRIM  0.192255   Square Miles   \n",
       "13             MISSISSIPPI PHOSPHATES CORPORATION  1.705876   Square Miles   \n",
       "\n",
       "                                        URL_ALIAS_TXT NPL_STATUS_CODE  \\\n",
       "0                https://www.epa.gov/superfund/Potter               R   \n",
       "1   https://www.epa.gov/superfund/walcotte-chemica...               D   \n",
       "2       https://www.epa.gov/superfund/newsom-brothers               D   \n",
       "3               https://www.epa.gov/superfund/chemfax               F   \n",
       "4   https://www.epa.gov/superfund/southeastern-woo...               F   \n",
       "5   https://www.epa.gov/superfund/red-panther-chem...               D   \n",
       "6   https://www.epa.gov/superfund/kerr-mcgee-chemi...               F   \n",
       "7   https://www.epa.gov/superfund/american-creosot...               F   \n",
       "8          https://www.epa.gov/superfund/davis-timber               D   \n",
       "9               https://www.epa.gov/superfund/flowood               D   \n",
       "10  https://www.epa.gov/superfund/picayune-wood-tr...               F   \n",
       "11     https://www.epa.gov/superfund/sonford-products               F   \n",
       "12  https://www.epa.gov/superfund/rockwell-intl-wheel               F   \n",
       "13   https://www.epa.gov/superfund/ms-phosphates-corp               F   \n",
       "\n",
       "      CITY_NAME       COUNTY STATE_CODE    ZIP_CODE  \\\n",
       "0        WESSON       COPIAH         MS       39191   \n",
       "1    GREENVILLE   WASHINGTON         MS       38701   \n",
       "2      COLUMBIA       MARION         MS       39429   \n",
       "3      GULFPORT     HARRISON         MS       39505   \n",
       "4        CANTON      MADISON         MS       39046   \n",
       "5    CLARKSDALE      COAHOMA         MS       38614   \n",
       "6      COLUMBUS      LOWNDES         MS       39701   \n",
       "7    LOUISVILLE      WINSTON         MS       39339   \n",
       "8   HATTIESBURG        LAMAR         MS       39401   \n",
       "9       FLOWOOD       RANKIN         MS       39208   \n",
       "10     PICAYUNE  PEARL RIVER         MS       39466   \n",
       "11      FLOWOOD       RANKIN         MS  39208-3227   \n",
       "12      GRENADA      GRENADA         MS       38901   \n",
       "13   PASCAGOULA      JACKSON         MS       39581   \n",
       "\n",
       "                                             geometry  \\\n",
       "0   MULTIPOLYGON (((528846.456 975159.623, 529024....   \n",
       "1   MULTIPOLYGON (((456762.356 1161146.457, 456792...   \n",
       "2   MULTIPOLYGON (((585109.787 926957.316, 585458....   \n",
       "3   MULTIPOLYGON (((661776.408 841012.053, 662011....   \n",
       "4   MULTIPOLYGON (((557719.87 1078287.363, 558078....   \n",
       "5   MULTIPOLYGON (((497070.009 1250277.929, 497129...   \n",
       "6   MULTIPOLYGON (((699556.86 1188225.895, 699674....   \n",
       "7   MULTIPOLYGON (((642934.455 1139477.198, 642968...   \n",
       "8   MULTIPOLYGON (((624938.893 940712.324, 625314....   \n",
       "9   MULTIPOLYGON (((548194.945 1042527.015, 548203...   \n",
       "10  MULTIPOLYGON (((603520.682 847538.368, 603467....   \n",
       "11  MULTIPOLYGON (((548250.068 1041447.334, 548271...   \n",
       "12  MULTIPOLYGON (((569298.019 1211866.867, 569371...   \n",
       "13  MULTIPOLYGON (((719278.081 838819.361, 719043....   \n",
       "\n",
       "                          centroid  \n",
       "0    POINT (528900.434 975036.499)  \n",
       "1   POINT (456738.236 1161074.926)  \n",
       "2      POINT (585592.82 926721.66)  \n",
       "3    POINT (662013.455 841156.905)  \n",
       "4     POINT (557961.9 1078231.921)  \n",
       "5   POINT (497157.767 1250143.565)  \n",
       "6   POINT (700002.706 1188255.288)  \n",
       "7   POINT (643097.268 1138951.508)  \n",
       "8    POINT (625126.479 940583.052)  \n",
       "9   POINT (548240.763 1042210.438)  \n",
       "10   POINT (603987.237 847614.857)  \n",
       "11  POINT (548418.563 1041315.261)  \n",
       "12  POINT (569234.738 1211557.605)  \n",
       "13   POINT (719314.212 838767.746)  "
      ]
     },
     "execution_count": 29,
     "metadata": {},
     "output_type": "execute_result"
    }
   ],
   "source": [
    "# create a new GeoSeries in the GeoDataFrame that contains the centroid (point) of each multipolygon\n",
    "gdf_sites['centroid']=gdf_sites.geometry.centroid\n",
    "gdf_sites"
   ]
  },
  {
   "cell_type": "markdown",
   "id": "be9367d0-e7c6-4476-b21b-4fbee5df0bbf",
   "metadata": {},
   "source": [
    "See how we can have more than one column that is a GeoSeries? The two columns of geospatial shapes are both GeoSeries. If we print the data types of all the columns we should see that we have two GeoSeries now. "
   ]
  },
  {
   "cell_type": "code",
   "execution_count": 30,
   "id": "1ec1c3ef-cfd1-4cda-bfa8-15c83bcfea50",
   "metadata": {},
   "outputs": [
    {
     "data": {
      "text/plain": [
       "EPA_PROGRAM          object\n",
       "EPA_ID               object\n",
       "SITE_NAME            object\n",
       "GIS_AREA            float64\n",
       "GIS_AREA_UNITS       object\n",
       "URL_ALIAS_TXT        object\n",
       "NPL_STATUS_CODE      object\n",
       "CITY_NAME            object\n",
       "COUNTY               object\n",
       "STATE_CODE           object\n",
       "ZIP_CODE             object\n",
       "geometry           geometry\n",
       "centroid           geometry\n",
       "dtype: object"
      ]
     },
     "execution_count": 30,
     "metadata": {},
     "output_type": "execute_result"
    }
   ],
   "source": [
    "# check out the data types\n",
    "gdf_sites.dtypes"
   ]
  },
  {
   "cell_type": "markdown",
   "id": "14cb3a96-9fbb-4088-b366-87bb83780fab",
   "metadata": {},
   "source": [
    "As mentioned earlier, the default behavior when plotting a GeoSeries in a GeoDataFrame is to plot whatever shapes are in the column named geometry. If you want to plot a different GeoSeries, you have to specify the column name like we do below with ```gdf_sites.centroid.plot()```\n",
    "\n",
    "Trying our plot of states, rivers, and superfund sites again."
   ]
  },
  {
   "cell_type": "code",
   "execution_count": 31,
   "id": "fd4d702b-81a2-4a58-8ea5-cc27719a6016",
   "metadata": {},
   "outputs": [
    {
     "data": {
      "text/plain": [
       "<Axes: >"
      ]
     },
     "execution_count": 31,
     "metadata": {},
     "output_type": "execute_result"
    },
    {
     "data": {
      "image/png": "[encoded data removed]",
      "text/plain": [
       "<Figure size 640x480 with 1 Axes>"
      ]
     },
     "metadata": {},
     "output_type": "display_data"
    }
   ],
   "source": [
    "base = gdf_states.plot(facecolor='none',edgecolor='black')\n",
    "gdf_rivers.plot(ax=base,color='blue')\n",
    "gdf_sites.centroid.plot(ax=base,color='orange')"
   ]
  },
  {
   "cell_type": "markdown",
   "id": "eb9a8c31-0ade-483c-b80a-7c77517051a7",
   "metadata": {},
   "source": [
    "Ooof, nearly all the superfund sites are near major rivers or on the coast. That can't be good for water quality! We'll use some additonal functions to see how close these sites are to the major rivers in our data.\n",
    "\n",
    "## Buffer\n",
    "\n",
    "First, let's make some simple buffers around our rivers. The [GeoPandas API reference](https://geopandas.org/en/stable/docs/reference.html) is where you should go to find out about all the parameters that you can input to a GeoPandas function. Here's the direct link to the page for [.buffer()](https://geopandas.org/en/stable/docs/reference/api/geopandas.GeoSeries.buffer.html)."
   ]
  },
  {
   "cell_type": "code",
   "execution_count": null,
   "id": "d9823752-2397-43eb-a0d5-55b660dea580",
   "metadata": {},
   "outputs": [],
   "source": [
    "# 1000 meter buffer\n",
    "gdf_rivers[\"buffer_1000m\"] = gdf_rivers.buffer(1000)\n",
    "\n",
    "# plot\n",
    "base = gdf_states.plot(facecolor='none',edgecolor='black',figsize=(12,6)) # larger figure than default\n",
    "gdf_sites.centroid.plot(ax=base,color='orange')\n",
    "gdf_rivers.geometry.plot(ax=base,color='blue')\n",
    "gdf_rivers.buffer_1000m.plot(ax=base,color='brown',alpha=0.25)\n",
    "\n",
    "# change x and y extents\n",
    "base.set_xlim(0.575E6,0.75E6)\n",
    "base.set_ylim(.8E6,.9E6)"
   ]
  },
  {
   "cell_type": "markdown",
   "id": "3359a290-c7fe-4318-8c69-86ecbab52d24",
   "metadata": {},
   "source": [
    "Notice the few things we added to our plotting code. We've: \n",
    "- changed the figure size with the ```figsize``` parameter and\n",
    "- changed the x and y extents of the plot with the functions ```.set_xlim()```, ```.set_ylim()```.\n",
    "\n",
    "These changes result in a larger figure that is zoomed in on coastal Mississippi.\n",
    "\n",
    "## Convex Hull\n",
    "For a geometry with at least 3 points, the convex hull is the smallest convex Polygon containing all the points of the geometry. We'll create a convex hull polygon for each state and then plot the Mississippi state multipolygon and convex hull polygon on the same figure."
   ]
  },
  {
   "cell_type": "code",
   "execution_count": null,
   "id": "da07bce2-5543-4f36-aaf9-9fd27cc82314",
   "metadata": {},
   "outputs": [],
   "source": [
    "gdf_states['convex_hulls']=gdf_states.convex_hull\n",
    "gdf_states"
   ]
  },
  {
   "cell_type": "code",
   "execution_count": null,
   "id": "1facddce-2c8d-40b3-94c5-306ba665eeae",
   "metadata": {},
   "outputs": [],
   "source": [
    "base = gdf_states.loc[gdf_states.STUSPS=='MS'].plot(facecolor='none',edgecolor='black')\n",
    "gdf_states.loc[gdf_states.STUSPS=='MS'].convex_hulls.plot(ax=base,facecolor='yellow',edgecolor='orange',alpha=0.5)"
   ]
  },
  {
   "cell_type": "markdown",
   "id": "083fc62e-7fe2-468f-a37a-45c6cfb549c4",
   "metadata": {},
   "source": [
    "## Envelope\n",
    "\n",
    "An envelope is the smallest rectangular polygon (with sides parallel to the coordinate axes) that contains a geometry."
   ]
  },
  {
   "cell_type": "code",
   "execution_count": null,
   "id": "8463a419-3064-4eda-af35-a071471417ae",
   "metadata": {},
   "outputs": [],
   "source": [
    "gdf_states['envelopes']=gdf_states.envelope\n",
    "gdf_states"
   ]
  },
  {
   "cell_type": "code",
   "execution_count": null,
   "id": "c1152e10-c045-4d90-816e-4aaf98f745f2",
   "metadata": {},
   "outputs": [],
   "source": [
    "base = gdf_states.plot(facecolor='none',edgecolor='black')\n",
    "gdf_states.envelopes.plot(ax=base,alpha=0.5)"
   ]
  },
  {
   "cell_type": "markdown",
   "id": "26099ddc-2e1e-4a06-aadd-e19965825e2d",
   "metadata": {},
   "source": [
    "## Union All\n",
    "\n",
    "Returns a single shape (not a GeoSeries!) containing the union of all geometries in the GeoSeries."
   ]
  },
  {
   "cell_type": "code",
   "execution_count": null,
   "id": "e25d104c-35fc-49f5-a418-51e74f59d6ba",
   "metadata": {},
   "outputs": [],
   "source": [
    "gdf_states.union_all()"
   ]
  },
  {
   "cell_type": "code",
   "execution_count": null,
   "id": "fe93c476-c55d-4f43-8331-9c65c6802065",
   "metadata": {},
   "outputs": [],
   "source": [
    "type(gdf_states.union_all())"
   ]
  },
  {
   "cell_type": "markdown",
   "id": "d9378faa-4b7a-43f0-ab67-4fddb8eaefd2",
   "metadata": {},
   "source": [
    "# Binary (True/False) Functions\n",
    "\n",
    "These are functions that operate on a GeoSeries and return the result True or False for each shape in the GeoSeries\n",
    "\n",
    "## Intersects"
   ]
  },
  {
   "cell_type": "code",
   "execution_count": null,
   "id": "30b880b8-bbad-494b-bc7f-4bd18f61e7a3",
   "metadata": {},
   "outputs": [],
   "source": [
    "pearl_river = gdf_rivers.loc[1,\"geometry\"]"
   ]
  },
  {
   "cell_type": "code",
   "execution_count": null,
   "id": "7ed36123-36bf-4e6b-aa11-e1898f08ce15",
   "metadata": {},
   "outputs": [],
   "source": [
    "base = gdf_states.plot(facecolor='none',edgecolor='black')\n",
    "gdf_rivers.loc[gdf_rivers.name=='Pearl'].plot(ax=base)"
   ]
  },
  {
   "cell_type": "code",
   "execution_count": null,
   "id": "e7b13309-02ce-4c73-922e-1b6d6ff6ea17",
   "metadata": {},
   "outputs": [],
   "source": [
    "gdf_states['intersects_pearl']=gdf_states.intersects(pearl_river)\n",
    "gdf_states"
   ]
  },
  {
   "cell_type": "markdown",
   "id": "645f30e7-7dba-47f5-9940-92ea487cf617",
   "metadata": {},
   "source": [
    "## Contains and Within\n",
    "\n",
    "Find whether one shape contains another or similarly, whether one shape is within another. E.g., polygon A *contains* point B, point B is *within* polygon A. It's just two ways of finding the same information. \n",
    "\n"
   ]
  },
  {
   "cell_type": "code",
   "execution_count": null,
   "id": "e2308d06-7497-49cb-a446-142d940276c2",
   "metadata": {},
   "outputs": [],
   "source": [
    "# check if each state polygon contains a single superfund site\n",
    "one_site = gdf_sites.loc[0,\"geometry\"]\n",
    "\n",
    "gdf_states.contains(one_site)"
   ]
  },
  {
   "cell_type": "code",
   "execution_count": null,
   "id": "8c8ec688-ccc0-4300-ba18-a3c9d8319c99",
   "metadata": {},
   "outputs": [],
   "source": [
    "# check if 1 state contain any of the superfund sites\n",
    "one_state = gdf_states.geometry.iloc[0]  # this is Alabama\n",
    "\n",
    "one_state.contains(gdf_sites.geometry).any()"
   ]
  },
  {
   "cell_type": "code",
   "execution_count": null,
   "id": "501a7d85-a62f-4a94-ba79-04ecc3e10dcf",
   "metadata": {},
   "outputs": [],
   "source": [
    "# get at the same information using within instead of contains\n",
    "\n",
    "# check if any of the superfund sites are within Alabama\n",
    "gdf_sites.geometry.within(one_state).any()"
   ]
  },
  {
   "cell_type": "markdown",
   "id": "92b9926b-5f4f-42f5-be7a-a81f7b2272d9",
   "metadata": {},
   "source": [
    "Now for a little added complexity! What if we want to check each state in ```gdf_states``` to see whether they contain any of the superfund sites in our dataset?\n",
    "\n",
    "We will have to write a function for that and then use ```.apply()```, which will apply our function to each row of a GeoDataFrame. In this case, we'll apply our function to the rows of ```gdf_states```, checking whether each state shape contains any of the superfund sites. We already know that our superfund site data has been subset to Mississippi, so we expect a result of True for Mississippi and False for all other states. Here's how we can do it:"
   ]
  },
  {
   "cell_type": "code",
   "execution_count": null,
   "id": "dd48acec-2a9e-42fa-b61c-6a60db3055f0",
   "metadata": {},
   "outputs": [],
   "source": [
    "# check if any sites are within each state\n",
    "\n",
    "def shape_contains_shape(row,sites):\n",
    "    shape_object = row.geometry  # a single shapely object (the geometry column from each row)\n",
    "    return shape_object.contains(sites.geometry).any() # this part is the same as we saw above\n",
    "\n",
    "# apply the function to each row of gdf_states\n",
    "# and save the output to a new column\n",
    "# axis=1 indicates that we want to apply the function to each row of gdf_states\n",
    "gdf_states['has_sites'] = gdf_states.apply(shape_contains_shape,axis=1,args=(gdf_sites,))\n",
    "gdf_states"
   ]
  },
  {
   "cell_type": "markdown",
   "id": "16281b88-ca34-4c59-8c5d-1706899cfa41",
   "metadata": {},
   "source": [
    "```.apply()``` is like a loop, applying our function to 1 row of ```gdf_states``` at a time, moving row by row until the end of all the rows in the GeoDataFrame, then returning the results.\n",
    "\n",
    "Let's check if any of the superfund sites are within the 1000 meter river buffers."
   ]
  },
  {
   "cell_type": "code",
   "execution_count": null,
   "id": "dad7416d-d57b-4128-860e-d49b3d8779af",
   "metadata": {},
   "outputs": [],
   "source": [
    "# check if any site centroids are within the 1000 meter river buffers\n",
    "\n",
    "# this time we'll use within\n",
    "def shape_within_shape(row, col1, gdf, col2):\n",
    "    shape1 = row[col1]  # a single shapely object (from a particular column of each row)\n",
    "    return shape1.within(gdf[col2]).any()\n",
    "\n",
    "# apply the function to each row of gdf_sites and save the output to a new column\n",
    "gdf_sites['centroid_in_buff1000'] = gdf_sites.apply(shape_within_shape, axis=1, args=('centroid',gdf_rivers,'buffer_1000m'))\n",
    "gdf_sites"
   ]
  },
  {
   "cell_type": "markdown",
   "id": "76fd4290-4164-4144-9c91-8412d0d2a2d7",
   "metadata": {},
   "source": [
    "If we scroll to the right to see the new column ```centroid_in_buff1000```, we can see that even though the superfund centroid points we plotted looked very close to our major rivers, none of the centroids are within the 1000 meter river buffers. Parts of the superfund site polygons could be within the buffers though, we'll check that later. \n",
    "\n",
    "There are quite a few more GeoPandas functions like this called \"Binary Predicates\" and they can be found in the [GeoPandas API reference for Binary Predicates](https://geopandas.org/en/stable/docs/reference/geoseries.html#binary-predicates)\n",
    "\n",
    "# Clipping\n",
    "\n",
    "# Clip Shapes with Another Shape\n",
    "\n",
    "Clip the rivers to the rectangular envelope for Mississippi.\n",
    "\n",
    "First, let's work out the syntax for selecting a single Shapely object from a GeoSeries. This means selecting the polygon shape from the envelopes column of the gdf_states GeoDataFrame. The selection, if done correctly, should result in a single shape rendered to the screen, not a column or row of data:"
   ]
  },
  {
   "cell_type": "code",
   "execution_count": null,
   "id": "4d643e98-9e93-4055-b5a9-dd298c4bbaf6",
   "metadata": {},
   "outputs": [],
   "source": [
    "# select a single Shapely polygon (Mississippi envelope)\n",
    "gdf_states.loc[gdf_states.STUSPS=='MS']['envelopes'].iloc[0]"
   ]
  },
  {
   "cell_type": "code",
   "execution_count": null,
   "id": "ea65d52b-74af-4f1c-9db8-0606ac7aa589",
   "metadata": {},
   "outputs": [],
   "source": [
    "# clip rivers with Mississippi envelope\n",
    "clipped_rivers = gpd.clip(gdf_rivers, gdf_states.loc[gdf_states.STUSPS=='MS']['envelopes'].iloc[0])\n",
    "\n",
    "# plot states, Mississippi envelope, and clipped rivers\n",
    "base = gdf_states.plot(facecolor='none',edgecolor='black')\n",
    "gdf_states.loc[gdf_states.STUSPS=='MS']['envelopes'].boundary.plot(ax=base,color='red')\n",
    "clipped_rivers.plot(ax=base,color='blue')"
   ]
  },
  {
   "cell_type": "markdown",
   "id": "d5e632c8-b3f8-4ffc-b9e0-0eccbda4e9f1",
   "metadata": {},
   "source": [
    "You can also clip raster data (data with pixels or on a grid) with GeoPandas, but for that we will need an additional Python packages. We'll learn how to do that in a subsequent lesson.\n",
    "\n",
    "# Distance"
   ]
  },
  {
   "cell_type": "code",
   "execution_count": null,
   "id": "62dd18d6-35a7-4745-aea6-dda9cb203f3a",
   "metadata": {},
   "outputs": [],
   "source": [
    "# dropping more columns that we don't need before we do the calculation\n",
    "# gdf_sites.drop(columns=['EPA_PROGRAM','EPA_ID','URL_ALIAS_TXT','CITY_NAME','COUNTY','STATE_CODE','ZIP_CODE'],inplace=True)\n",
    "gdf_rivers.drop(columns=['scalerank','featurecla','rivernum','ne_id','wikidataid'],inplace=True)"
   ]
  },
  {
   "cell_type": "code",
   "execution_count": null,
   "id": "819d307d-81cc-403d-9f6e-da15bfbc5b17",
   "metadata": {},
   "outputs": [],
   "source": [
    "sites_with_closest_river_info = gpd.sjoin_nearest(gdf_sites, gdf_rivers, how='left', rsuffix='rivers',distance_col='min_distance', exclusive=True)\n",
    "sites_with_closest_river_info"
   ]
  },
  {
   "cell_type": "markdown",
   "id": "6888951e-c626-4134-9ef9-81b4de3c02a7",
   "metadata": {},
   "source": [
    "The results in the min_distance column indicate there are 3 sites that are at least partially in a 1000m river buffer.\n",
    "\n",
    "Look at index 12. The closest part of the Rockwell International Wheel & Trim superfund polygon is only 528 meters from the Yalobusha River centerline. Let's make a zoomed in plot of this site's polygon and centroid, the Yalobusha River, and the 1000 meter buffer. "
   ]
  },
  {
   "cell_type": "code",
   "execution_count": null,
   "id": "7d4e5dac-8fc5-4d38-8ba1-c04b228e6eb7",
   "metadata": {},
   "outputs": [],
   "source": [
    "# plot Rockwell International polygon and centroid, Yalobusha River, and 1000 meter buffer\n",
    "\n",
    "base = gdf_sites.loc[gdf_sites.SITE_NAME.str.contains('ROCKWELL')].boundary.plot(color='red',figsize=(8,8))\n",
    "gdf_sites.loc[gdf_sites.SITE_NAME.str.contains('ROCKWELL')].centroid.plot(ax=base,color='orange')\n",
    "gdf_rivers.loc[gdf_rivers.name=='Yalobusha'].plot(ax=base,color='blue')\n",
    "gdf_rivers.loc[gdf_rivers.name=='Yalobusha']['buffer_1000m'].plot(ax=base,color='brown',alpha=0.5)\n",
    "\n",
    "# zoom in\n",
    "base.set_ylim(1.209E6,1.213E6)\n",
    "base.set_xlim(.568E6,.571E6)"
   ]
  },
  {
   "cell_type": "markdown",
   "id": "03fd5da7-e6b5-4d2d-8d35-da62a813b1f3",
   "metadata": {},
   "source": [
    "Look at that! The centroid is not in the buffer, but part of the site polygon is. If we wanted to create a column telling us which site polygons lie partially within the river buffers we could use ```.intersects()``` for that."
   ]
  },
  {
   "cell_type": "markdown",
   "id": "622dec2c-0cf1-4e38-ab4d-d81b9998c0dd",
   "metadata": {},
   "source": [
    "<div class=\"alert alert-info\"> \n",
    "\n",
    "## Exercise\n",
    "\n",
    "Create a new column in ```gdf_sites``` called ```intersects_buff1000``` to test whether each site polygon lies at least partially within any of the river buffers (you can use ```.intersects()``` for this). You will need to write a new function called ```shape_intersects_shape``` and apply it to the ```gdf_sites``` GeoDataFrame. Use the ```shape_within_shape``` function that we made earlier as an example.\n",
    "</div>"
   ]
  },
  {
   "cell_type": "code",
   "execution_count": null,
   "id": "01933644-9f88-4666-a6ce-e62ae78b39ac",
   "metadata": {},
   "outputs": [],
   "source": [
    "# add you code here\n",
    "\n",
    "def shape_intersects_shape(row, col1, gdf, col2):\n",
    "    shape1 = row[col1]  # a single shapely object (from a particular column of each row)\n",
    "    return shape1.intersects(gdf[col2]).any()\n",
    "\n",
    "# apply the function to each row of gdf_sites and save the output to a new column\n",
    "gdf_sites['intersects_buff1000'] = gdf_sites.apply(shape_intersects_shape, axis=1, args=('geometry',gdf_rivers,'buffer_1000m'))\n",
    "gdf_sites"
   ]
  },
  {
   "cell_type": "markdown",
   "id": "6c4782f0-0d97-474e-8b4d-3d163f5b66f7",
   "metadata": {},
   "source": [
    "<div class=\"alert alert-info\"> \n",
    "\n",
    "Use ```.sum()``` on the column ```intersects_buff1000``` to show programatically how many sites are at least partially in a 1000 meter river buffer.\n",
    "</div>"
   ]
  },
  {
   "cell_type": "code",
   "execution_count": null,
   "id": "2b935139-0e95-413e-8ccd-a3652bec56d8",
   "metadata": {},
   "outputs": [],
   "source": [
    "# add your code here\n",
    "gdf_sites.intersects_buff1000.sum()"
   ]
  },
  {
   "cell_type": "markdown",
   "id": "82302c02-33f1-4ede-ac78-782485f6380c",
   "metadata": {},
   "source": [
    "# Aggregation with .dissolve()\n",
    "\n",
    "## Aggregating Shapes\n",
    "\n",
    "First lets aggregate rivers with the same name together. We've got repeated river names in ```gdf_rivers```. How do we know this? We can compare the number of rows in ```gdf_rivers``` to the number of unique river names:"
   ]
  },
  {
   "cell_type": "code",
   "execution_count": null,
   "id": "135d9333-e1f9-493f-8b63-928ac72f653e",
   "metadata": {},
   "outputs": [],
   "source": [
    "print(f'There are {gdf_rivers.shape[0]} rows in gdf_rivers, but only {len(gdf_rivers.name.unique())} unique river names')"
   ]
  },
  {
   "cell_type": "code",
   "execution_count": null,
   "id": "1f0d5871-0a9b-43b7-87d9-7e07ae4353e7",
   "metadata": {},
   "outputs": [],
   "source": [
    "# test = gdf_rivers[['name','geometry']].dissolve(by='name')\n",
    "# test\n",
    "gdf_rivers = gdf_rivers[['name','geometry']].dissolve(by='name',as_index=False,sort=False)"
   ]
  },
  {
   "cell_type": "code",
   "execution_count": null,
   "id": "1699aebd-0737-4748-9548-e19eb3c23240",
   "metadata": {},
   "outputs": [],
   "source": [
    "gdf_rivers[\"buffer_1000m\"] = gdf_rivers.buffer(1000)\n",
    "gdf_rivers"
   ]
  },
  {
   "cell_type": "code",
   "execution_count": null,
   "id": "ad66c5f8-ad3d-4f80-8946-fc2fcaf432cf",
   "metadata": {},
   "outputs": [],
   "source": [
    "# plot, rebuffer?"
   ]
  },
  {
   "cell_type": "markdown",
   "id": "865ace7c-5dcc-4686-9f1b-c3576a329e21",
   "metadata": {},
   "source": [
    "## aggregate data by shape\n",
    "I may need different data for this"
   ]
  },
  {
   "cell_type": "code",
   "execution_count": null,
   "id": "e0a0672a-26a0-429b-afd2-dc9923e64631",
   "metadata": {},
   "outputs": [],
   "source": []
  },
  {
   "cell_type": "code",
   "execution_count": null,
   "id": "d33434ab-5b37-42a8-9cc6-a242c2bba9fb",
   "metadata": {},
   "outputs": [],
   "source": []
  },
  {
   "cell_type": "code",
   "execution_count": null,
   "id": "a7356b54-8dc3-4373-b059-edf8e7c849eb",
   "metadata": {},
   "outputs": [],
   "source": []
  },
  {
   "cell_type": "code",
   "execution_count": null,
   "id": "98e2a766-45fd-4eba-b5c1-4b708ebc0ee0",
   "metadata": {},
   "outputs": [],
   "source": []
  },
  {
   "cell_type": "markdown",
   "id": "32330d10-b425-49d4-9797-abf10a66fa17",
   "metadata": {},
   "source": [
    "\n",
    "\n",
    "\n",
    "\n",
    "\n",
    "## intersection\n",
    "## union\n",
    "\n",
    "\n",
    "# Binary (True/False) Functions\n",
    "## intersects\n",
    "## overlaps\n",
    "## contains\n",
    "\n",
    "# Geometric Overlay Operations \n",
    "## .clip()\n",
    "## .overlay()\n",
    "\n",
    "# Other Useful Things \n",
    "## distance\n",
    "\n",
    "\n",
    "# Aggregation\n",
    "## dissolve\n",
    "\n",
    "# .explore()\n"
   ]
  },
  {
   "cell_type": "code",
   "execution_count": null,
   "id": "2bca2df1-9cfe-4930-a58f-c75e1aa64d58",
   "metadata": {},
   "outputs": [],
   "source": []
  },
  {
   "cell_type": "code",
   "execution_count": null,
   "id": "e25d6a5e-d4f5-4cc1-82c5-b0e787da7be7",
   "metadata": {},
   "outputs": [],
   "source": []
  },
  {
   "cell_type": "code",
   "execution_count": null,
   "id": "57e7ff20-21ca-4149-9bfc-76c6e72eae26",
   "metadata": {},
   "outputs": [],
   "source": []
  },
  {
   "cell_type": "code",
   "execution_count": null,
   "id": "72c6dcac-b23e-4f68-849a-16971872e6d5",
   "metadata": {},
   "outputs": [],
   "source": []
  },
  {
   "cell_type": "code",
   "execution_count": null,
   "id": "af1c3af9-287d-4ad1-b833-5655d9e5b4e9",
   "metadata": {},
   "outputs": [],
   "source": []
  },
  {
   "cell_type": "code",
   "execution_count": null,
   "id": "7e76b567-4bf6-43da-80c1-a041df552356",
   "metadata": {},
   "outputs": [],
   "source": [
    "ax = gdf_states.geometry.boundary.plot(color='black',lw=0.5)#facecolor='none',edgecolor='black')\n"
   ]
  },
  {
   "cell_type": "code",
   "execution_count": null,
   "id": "a4869071-bf92-4248-9b26-19eda0c1f7b3",
   "metadata": {},
   "outputs": [],
   "source": []
  },
  {
   "cell_type": "code",
   "execution_count": null,
   "id": "f0b32f6e-6020-49b3-a3e1-3a34a8e9b4e2",
   "metadata": {},
   "outputs": [],
   "source": []
  },
  {
   "cell_type": "code",
   "execution_count": null,
   "id": "e904a3fa-7f26-4283-a2ac-dbc7408bffb1",
   "metadata": {},
   "outputs": [],
   "source": []
  },
  {
   "cell_type": "code",
   "execution_count": null,
   "id": "d8f23d16-d9bb-42f8-a871-e5de8db5b0ed",
   "metadata": {},
   "outputs": [],
   "source": []
  },
  {
   "cell_type": "code",
   "execution_count": null,
   "id": "f8036e62-bc00-4a58-849a-962d5a3e0385",
   "metadata": {},
   "outputs": [],
   "source": []
  },
  {
   "cell_type": "code",
   "execution_count": null,
   "id": "ffee4529-0c45-414d-ac11-993ff069265d",
   "metadata": {},
   "outputs": [],
   "source": [
    "import openpyxl\n",
    "import pandas as pd"
   ]
  },
  {
   "cell_type": "code",
   "execution_count": null,
   "id": "14f2536d-1b7a-43fe-8e3a-9c38c404bdf8",
   "metadata": {},
   "outputs": [],
   "source": [
    "df_toxic = pd.read_csv('data/epa_brownfields_ms/STATE_SINGLE_MS.csv')\n",
    "df_toxic"
   ]
  },
  {
   "cell_type": "code",
   "execution_count": null,
   "id": "0095f74e-0880-4168-a8c1-9c4de60d2ac0",
   "metadata": {},
   "outputs": [],
   "source": [
    "df_toxic.dropna(subset=['LATITUDE83','LONGITUDE83'],inplace=True)\n",
    "df_toxic"
   ]
  },
  {
   "cell_type": "code",
   "execution_count": null,
   "id": "4ff64ba7-9550-44f0-9faa-ed5289138e5d",
   "metadata": {},
   "outputs": [],
   "source": [
    "df_toxic.columns"
   ]
  },
  {
   "cell_type": "code",
   "execution_count": null,
   "id": "e57cc71d-e631-4d62-9944-0c00660ec414",
   "metadata": {},
   "outputs": [],
   "source": [
    "df_toxic.dropna(subset=['HDATUM_DESC'],inplace=True)\n",
    "df_toxic"
   ]
  },
  {
   "cell_type": "code",
   "execution_count": null,
   "id": "78265c34-c581-4daa-9013-98d6c2c8d281",
   "metadata": {},
   "outputs": [],
   "source": [
    "df_toxic.HDATUM_DESC.unique()"
   ]
  },
  {
   "cell_type": "code",
   "execution_count": null,
   "id": "c0a28e16-1a62-4d3b-a8c6-e5766c3cf8c7",
   "metadata": {},
   "outputs": [],
   "source": [
    "df_toxic.SITE_TYPE_NAME.unique()"
   ]
  },
  {
   "cell_type": "code",
   "execution_count": null,
   "id": "482183ef-73ca-4573-95c2-aed11b86b1f6",
   "metadata": {},
   "outputs": [],
   "source": []
  },
  {
   "cell_type": "code",
   "execution_count": null,
   "id": "d6f5f2a8-e609-47ea-a046-b9911412d7c9",
   "metadata": {},
   "outputs": [],
   "source": []
  },
  {
   "cell_type": "code",
   "execution_count": null,
   "id": "b01663f7-936e-437e-8a3a-b48c94d66520",
   "metadata": {},
   "outputs": [],
   "source": [
    "df_toxic.INTEREST_TYPES.unique()"
   ]
  },
  {
   "cell_type": "code",
   "execution_count": null,
   "id": "2da39d3f-1c52-4c33-bffa-7637a785dc8c",
   "metadata": {},
   "outputs": [],
   "source": [
    "df_toxic.INTEREST_TYPES.dtype"
   ]
  },
  {
   "cell_type": "code",
   "execution_count": null,
   "id": "d347e326-3c70-41d7-b92a-d3be944a56f5",
   "metadata": {},
   "outputs": [],
   "source": [
    "df_toxic.INTEREST_TYPES.fillna('',inplace=True)"
   ]
  },
  {
   "cell_type": "code",
   "execution_count": null,
   "id": "8de14cfb-dd12-446a-9703-2523926856ad",
   "metadata": {},
   "outputs": [],
   "source": [
    "df_toxic[df_toxic.INTEREST_TYPES.isin(['TRI REPORTER','TSCA SUBMITTER'])]\n",
    "# df_toxic.query(\"INTEREST_TYPES.str.contains('TRI')\")"
   ]
  },
  {
   "cell_type": "code",
   "execution_count": null,
   "id": "59206d88-869c-4c34-ae83-7b8afe1a6d77",
   "metadata": {},
   "outputs": [],
   "source": [
    "df_toxic.drop(columns=['LOCATION_ADDRESS', 'SUPPLEMENTAL_LOCATION', 'CITY_NAME','FIPS_CODE', 'STATE_CODE',\n",
    "                       'COUNTRY_NAME','EPA_REGION_CODE','CREATE_DATE', 'UPDATE_DATE', 'US_MEXICO_BORDER_IND',\n",
    "                       'CONVEYOR','COLLECT_DESC', 'ACCURACY_VALUE','SOURCE_DESC','PGM_SYS_ACRNMS',\n",
    "                       'NAICS_CODES', 'NAICS_CODE_DESCRIPTIONS','SIC_CODES','SIC_CODE_DESCRIPTIONS',\n",
    "                       'FEDERAL_FACILITY_CODE', 'FEDERAL_AGENCY_NAME', 'TRIBAL_LAND_CODE','TRIBAL_LAND_NAME',\n",
    "                       'LOCATION_DESCRIPTION'],inplace=True)\n",
    "df_toxic"
   ]
  },
  {
   "cell_type": "code",
   "execution_count": null,
   "id": "51744bab-2e58-407f-86a7-a9df85ce93ec",
   "metadata": {},
   "outputs": [],
   "source": [
    "df_toxic = df_toxic[df_toxic.INTEREST_TYPES.isin(['TRI REPORTER','TSCA SUBMITTER'])]\n",
    "df_toxic"
   ]
  },
  {
   "cell_type": "code",
   "execution_count": null,
   "id": "e8cb45b7-70c1-4687-b376-53f8182c6743",
   "metadata": {},
   "outputs": [],
   "source": []
  },
  {
   "cell_type": "code",
   "execution_count": null,
   "id": "9066a620-f0d8-4c24-a41f-65dd72d3dd73",
   "metadata": {},
   "outputs": [],
   "source": []
  },
  {
   "cell_type": "code",
   "execution_count": null,
   "id": "a27ba4f1-8e23-416e-bf9b-c8c91aae85b2",
   "metadata": {},
   "outputs": [],
   "source": []
  },
  {
   "cell_type": "code",
   "execution_count": null,
   "id": "d0eecc84-5f24-4fcf-a7ee-9da39d07a6f7",
   "metadata": {},
   "outputs": [],
   "source": []
  },
  {
   "cell_type": "code",
   "execution_count": null,
   "id": "52cfe510-e804-4b5d-82d9-2db4ea135818",
   "metadata": {},
   "outputs": [],
   "source": [
    "# import fiona\n",
    "# layers=fiona.listlayers(\"data/acres_frs/ACRES_FRS.kml\")\n",
    "# layers"
   ]
  },
  {
   "cell_type": "code",
   "execution_count": null,
   "id": "5baef905-ceb0-4605-9882-cd388ec299b3",
   "metadata": {},
   "outputs": [],
   "source": [
    "# gdf_toxic = gpd.read_file(\"data/acres_frs/ACRES_FRS.kml\", driver=\"KML\")\n",
    "# gdf_toxic"
   ]
  },
  {
   "cell_type": "code",
   "execution_count": null,
   "id": "d48c34da-ef64-49bb-91a1-5bb000c0d3d5",
   "metadata": {},
   "outputs": [],
   "source": []
  },
  {
   "cell_type": "code",
   "execution_count": null,
   "id": "e7712741-3451-47f4-b2aa-9be5598c162d",
   "metadata": {},
   "outputs": [],
   "source": []
  },
  {
   "cell_type": "code",
   "execution_count": null,
   "id": "9f108400-a2d3-4acf-a1e7-dbc3aaacbd3b",
   "metadata": {},
   "outputs": [],
   "source": []
  },
  {
   "cell_type": "code",
   "execution_count": null,
   "id": "8515870a-5bf8-4b4d-b0c4-edeb830daa25",
   "metadata": {},
   "outputs": [],
   "source": []
  },
  {
   "cell_type": "code",
   "execution_count": null,
   "id": "91e30493-292d-4750-8e0f-e058bb6696c4",
   "metadata": {},
   "outputs": [],
   "source": []
  },
  {
   "cell_type": "code",
   "execution_count": null,
   "id": "c3bddf34-e093-4a08-b6bd-2a0b75536ec0",
   "metadata": {},
   "outputs": [],
   "source": [
    "study_area = gdf_states.geometry.union_all()\n",
    "study_area"
   ]
  },
  {
   "cell_type": "code",
   "execution_count": null,
   "id": "5e83f350-9e2a-4480-ab33-b3e69caf7b4a",
   "metadata": {},
   "outputs": [],
   "source": [
    "gdf_rivers_ms = gpd.clip(gdf_rivers,ms)\n",
    "gdf_rivers_ms"
   ]
  },
  {
   "cell_type": "code",
   "execution_count": null,
   "id": "d27fdfeb-98fb-42db-bbba-302d5bae95d4",
   "metadata": {},
   "outputs": [],
   "source": []
  },
  {
   "cell_type": "code",
   "execution_count": null,
   "id": "8a04a265-ffd7-4e1a-9b27-24194086e10e",
   "metadata": {},
   "outputs": [],
   "source": []
  },
  {
   "cell_type": "code",
   "execution_count": null,
   "id": "9bbb9f12-87aa-409c-a9c4-e89b27c35daf",
   "metadata": {},
   "outputs": [],
   "source": []
  },
  {
   "cell_type": "code",
   "execution_count": null,
   "id": "4a3dadf2-2509-43d7-982b-17192708b5af",
   "metadata": {},
   "outputs": [],
   "source": [
    "# gdf_ms = gpd.read_file(\"data/tl_2016_28_cousub/tl_2016_28_cousub.shp\")\n",
    "# gdf_ms.head()"
   ]
  },
  {
   "cell_type": "code",
   "execution_count": null,
   "id": "4a92ac0c-29c5-4280-9089-a5becabe4e18",
   "metadata": {},
   "outputs": [],
   "source": [
    "gdf_ms.plot()"
   ]
  },
  {
   "cell_type": "code",
   "execution_count": null,
   "id": "a2b8a5c8-5196-4296-8692-be73a706788c",
   "metadata": {},
   "outputs": [],
   "source": [
    "gdf_ms.crs"
   ]
  },
  {
   "cell_type": "code",
   "execution_count": null,
   "id": "5dd6f934-0fc0-43a2-acdc-0a6f28d69d39",
   "metadata": {},
   "outputs": [],
   "source": [
    "gdf_ms = gdf_ms.to_crs('epsg:5070')\n",
    "gdf_ms.crs"
   ]
  },
  {
   "cell_type": "code",
   "execution_count": null,
   "id": "44c2edff-23dc-4b49-be9d-31966fa71266",
   "metadata": {},
   "outputs": [],
   "source": [
    "ms = gdf_ms.geometry.union_all()\n",
    "ms"
   ]
  },
  {
   "cell_type": "code",
   "execution_count": null,
   "id": "81f1f9ea-7e57-4c51-b18f-a49f7f1aa569",
   "metadata": {},
   "outputs": [],
   "source": [
    "gdf_rivers = gdf_rivers.to_crs('epsg:5070')\n",
    "gdf_rivers.crs"
   ]
  },
  {
   "cell_type": "code",
   "execution_count": null,
   "id": "3686d7f7-a66b-40b8-b359-8596dc511460",
   "metadata": {},
   "outputs": [],
   "source": [
    "gdf_rivers_ms = gpd.clip(gdf_rivers,ms)\n",
    "gdf_rivers_ms"
   ]
  },
  {
   "cell_type": "code",
   "execution_count": null,
   "id": "7ae5b7cb-0d3c-4979-9891-06274e98cb78",
   "metadata": {},
   "outputs": [],
   "source": [
    "gdf_rivers_ms.plot()"
   ]
  },
  {
   "cell_type": "code",
   "execution_count": null,
   "id": "89df6316-0235-4347-b4f9-41ddffe92c64",
   "metadata": {},
   "outputs": [],
   "source": []
  }
 ],
 "metadata": {
  "kernelspec": {
   "display_name": "canvas_beginner",
   "language": "python",
   "name": "canvas_beginner"
  },
  "language_info": {
   "codemirror_mode": {
    "name": "ipython",
    "version": 3
   },
   "file_extension": ".py",
   "mimetype": "text/x-python",
   "name": "python",
   "nbconvert_exporter": "python",
   "pygments_lexer": "ipython3",
   "version": "3.13.0"
  }
 },
 "nbformat": 4,
 "nbformat_minor": 5
}
