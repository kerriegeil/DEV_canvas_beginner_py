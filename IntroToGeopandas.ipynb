{
 "cells": [
  {
   "cell_type": "markdown",
   "id": "526f0a68-fd5e-4953-864b-1c6f66a96535",
   "metadata": {},
   "source": [
    "# Introduction to GeoPandas for Working with Geospatial Vector Data (i.e., shapes: points, lines, and polygons)"
   ]
  },
  {
   "cell_type": "markdown",
   "id": "a7a10e75-ab62-4798-b547-2b80b1e896be",
   "metadata": {},
   "source": [
    "# I. Importing Necessary Packages"
   ]
  },
  {
   "cell_type": "code",
   "execution_count": null,
   "id": "eb74e754-e313-4365-b6f0-ff58f88b352c",
   "metadata": {},
   "outputs": [],
   "source": [
    "import geopandas as gpd\n",
    "# import shapely\n",
    "# import fiona\n",
    "import pyogrio\n",
    "\n",
    "# to avoid the GDAL error you need to activate the environment before launching jupyter"
   ]
  },
  {
   "cell_type": "markdown",
   "id": "2e586a73-49a4-43a1-a68f-e8b0963ce420",
   "metadata": {
    "editable": true,
    "slideshow": {
     "slide_type": ""
    },
    "tags": []
   },
   "source": [
    "# II. Why use Python GeoPandas for geospatial data analysis as opposed to ArcGIS or other GIS software?\n",
    "\n",
    "If most or all of the data you work with are vector-based spatial data formats such as shapefiles, GeoJSON, or geodatabases, using GIS software will be more desirable and efficient!\n",
    "\n",
    "On the other hand, if most of the data you work with are not in these formats and your workflow is primarily in Python, GeoPandas may be the tool for you. For example, for a geoscientist (earth, environmental, climate sciences) who works most often with large multi-dimensional data arrays (time,level,lat,lon) in formats like .nc, .tif, .grib, .hdf, .csv, Python will be a much more efficient and reproducible tool for scientific analysis. For this use case, packages like GeoPandas make working with the occasional shapefile or geodatabase very easy within your existing Python workflow instead of having to use a separate GIS tool for part of your analysis.\n",
    "\n",
    "As we proceed through this notebook, we'll be looking at just of few of Python's geospatial analysis capabilities, mainly in the context that use of these tools is likely a minor part of a larger analysis using Python."
   ]
  },
  {
   "cell_type": "markdown",
   "id": "6343d55f-4c6e-4ae3-a9dd-10264e3aa3fd",
   "metadata": {},
   "source": [
    "# III. Introduction to GeoPandas Data Structures\n",
    "\n",
    "GeoPandas extends the Pandas package by adding support for geospatial vector data (i.e., shapes: points, lines, polygons). Under the hood, GeoPandas uses geometric operations from another Python package called [Shapely](https://shapely.readthedocs.io/en/stable/manual.html).\n",
    "\n",
    "The core data structure in GeoPandas is the *GeoDataFrame*, which is similar to a Pandas DataFrame made up of an index and collection of *Series* (columns) as well as a special column named \"geometry\". The geometery column is a *GeoSeries* which is a special structure that can handle shapes (or \"geometries\") like points, lines, and polygons. Each shape object in a GeoPandas GeoSeries is a Shapely geometry object. A GeoDataFrame can contain as many Series and GeoSeries as you want.        \n",
    "\n",
    "Below is a schematic of what a GeoPandas GeoDataFrame looks like, where the green boxes indicate the index, yellow boxes indicate data (with column names) in Series structures and pink boxes show a single GeoSeries structure which would have the column name \"geometry\".\n",
    "\n",
    "\n",
    "<img src=\"images/geodataframe.svg\" alt=\"schematic of a dataframe\" width=\"700\"/> \n",
    "         \n",
    "(Image Source: [GeoPandas Docs Getting Started Tutorial](https://geopandas.org/en/stable/getting_started/introduction.html#Concepts)"
   ]
  },
  {
   "cell_type": "markdown",
   "id": "68cb7fa4-2890-446a-ba4a-f87b5fb35b63",
   "metadata": {},
   "source": [
    "# IV. Loading a ShapeFile into a GeoDataFrame\n",
    "\n",
    "Most of the time you'll probably start a geospatial analysis with a shapefile or geodatabase, both of which are comprised of multiple components. Three components are mandatory for shapefiles: \n",
    "- a main file that contains the feature geometry (.shp),\n",
    "- an index file that stores the index of the feature geometry (.shx), and\n",
    "- a dBASE table (.dbf) that stores the attribute information of features.\n",
    "\n",
    "The shapefiles we'll load contain the boundaries for a few US states and the centerlines for some large rivers. The files we're using contain subsets of data from larger files that are publicly available from the US Census Bureau and Natural Earth data project. If you're interested, the full data files are [cb_2023_us_state_500k.shp from the Census Bureau cartographic boundary files](https://www.census.gov/geographies/mapping-files/time-series/geo/cartographic-boundary.html) and [ne_10m_rivers_lake_centerlines.shp, ne_10m_rivers_north_america.shp from the Natural Earth data project](https://www.naturalearthdata.com/downloads/10m-physical-vectors/10m-rivers-lake-centerlines/).\n",
    "\n",
    "```geopandas.read_file()``` can read almost any vector-based spatial data format."
   ]
  },
  {
   "cell_type": "code",
   "execution_count": null,
   "id": "882f7965-36b2-42ce-8bab-de166a0da408",
   "metadata": {},
   "outputs": [],
   "source": [
    "# load state boundaries from shapefile\n",
    "gdf_states = gpd.read_file('data/state_boundaries/MS_LA_AR_AL_TN_cb_2023_us_state_500km.shp')\n",
    "gdf_states"
   ]
  },
  {
   "cell_type": "markdown",
   "id": "a553a52d-bb85-47dd-be20-eefb48ada01c",
   "metadata": {},
   "source": [
    "This is a GeoPandas GeoDataFrame and as you can see, it looks a lot like a Pandas DataFrame. Each row is a data entry for a different state. Notice the rightmost column named \"geometry\". It contains geospatial shapes that represent the boundaries of each state. \n",
    "\n",
    "Let's look at the data type of each column"
   ]
  },
  {
   "cell_type": "code",
   "execution_count": null,
   "id": "e13d8017-440a-4283-a79a-0722778f63d1",
   "metadata": {},
   "outputs": [],
   "source": [
    "gdf_states.dtypes"
   ]
  },
  {
   "cell_type": "markdown",
   "id": "7f20e2cd-600d-4b7c-bd28-3067a2971016",
   "metadata": {},
   "source": [
    "You should remember seeing most of these data types from the Pandas notebook, but GeoPandas adds a new data type \"geometry\". This is indicating that the column named \"geometry\" is a GeoSeries that contains geospatial shapes.\n",
    "\n",
    "Since there is only one column of type geometry, GeoPandas makes that column the \"active geometry column.\" You can have more than one GeoSeries column that contain shapes, but only one active at a time. This doesn't really come into  play until it's time to create figures. \n",
    "\n",
    "Look onces again at the geometry column of the GeoDataFrame. Notice the values inside the geospatial shapes. What are those numbers? Each set of numbers (separated by commas) is a x,y node (point) that make up the shape. Large numbers, like we have, usually indicate that the data is in a coordinate reference system that has units of meters (as opposed to degrees latitude and longitude). We'll talk about coordinate reference systems next."
   ]
  },
  {
   "cell_type": "markdown",
   "id": "50b7d520-0c86-4a57-b4bb-e5d7c825ddef",
   "metadata": {},
   "source": [
    "# V. Coordinate Reference Systems (CRS)\n",
    "\n",
    "A CRS is a framework used to locate and map geographic features on the Earth's surface. The key components of a CRS are:\n",
    "\n",
    "- **Coordinate System:** Defines the grid used to specify locations on the Earth, including the axes (like latitude/longitude or X/Y) and distance units of measurement (degrees or meters, for example). \n",
    "\n",
    "- **Datum:** The modeled version of the shape of the earth (usually represented by an ellipsoid). The datum also defines the origin (or reference point) of the coordinate system.\n",
    "\n",
    "- **Projection:** A mathematical transformation that translates the spherical coordinates on the Earth's surface onto a flat surface like a map. No projection is perfect. Each will have different distortions which can affect area, shape, distance, and/or direction. Different projections are used based on the area of interest and the purpose of the map. Some coordinate reference systems do not have a projection, meaning their coordinate system and datum define locations on a 3-dimensional Earth rather than a 2-dimensional map. \n",
    "\n",
    "\n",
    "As mentioned above, there are actually two types of CRS's: geographic coordinate reference systems and projected coordinate reference systems.\n",
    "\n",
    "- **Geographic coordinate reference systems** are used to locate places on a 3-dimensional Earth surface based on two values, longitude and latitude, usually with units of decimal degrees. Units of angular distances are not linear due to the polar convergence of longitudes and the slight bulge of the earth at the equator. Therefore, a geographic CRS is not suitable to calculate or compare distances between locations. A common geographic CRS would be EPSG:4326, which uses a latitude and longitude coordinate system and the WGS84 (an ellipsoid) datum to represent locations on the whole Earth. Confusingly, sometimes this CRS is referred to as the WGS84 CRS. I like to use the EPSG codes when discussing CRS's because they are unique identifiers that can eliminate a lot of confusion. EPSG:4326 is the default CRS used in many GPS systems and is also used by Google Earth.\n",
    "- **Projected coordinate reference systems** are based on a Cartesian coordinate system on a flat surface. Map projections are used to convert the 3D surface of the Earth into x and y coordinates of the projected CRS. A common projected CRS that you may encounter is EPSG:3857, also known as the Web Mercator projection. This CRS is used for many web mapping applications include Google Maps and Apple Map.\n",
    "\n",
    "\n",
    "Your choice of CRS will depend on how big your area of interest is, the region of the globe where it is located, and what you want to calculate. Projections that preserve shape are called conformal; those that preserve area are called equal-area; those that preserve distance are called equidistant; and those that preserve direction are called azimuthal. These words might assist you in finding a projected CRS that preserves that geospatial properties most important to your analysis. Also, keep in mind that you can \"reproject\" from one CRS to another to increase the accuracy of calculations that require preservation of different geospatial properties (e.g. area vs distance) .\n",
    "\n",
    "Let's see what CRS our state boundaries use:"
   ]
  },
  {
   "cell_type": "code",
   "execution_count": null,
   "id": "1c91faf5-7997-4a28-970f-3e41c73e5452",
   "metadata": {},
   "outputs": [],
   "source": [
    "gdf_states.crs"
   ]
  },
  {
   "cell_type": "markdown",
   "id": "2417d153-1501-4bc9-b1e4-61cbbe2a2e5d",
   "metadata": {},
   "source": [
    "The CRS of this data is EPSG:5070, which uses the NAD83 datum and an X/Y Cartesian coordinate system with units in meters. The information GeoPandas gives us let's us know that this CRS is equal-area and is appropriate for areas of interest in the contiguous United States (CONUS).\n",
    "\n",
    "Now, let's plot our state shapes."
   ]
  },
  {
   "cell_type": "code",
   "execution_count": null,
   "id": "20f329ea-ad24-4d94-b8ee-dd03ddd3e790",
   "metadata": {},
   "outputs": [],
   "source": [
    "# plot geospatial data from our GeoDataFrame\n",
    "gdf_states.plot()"
   ]
  },
  {
   "cell_type": "markdown",
   "id": "4a957ddd-c0b0-49b4-b553-6282b66675a2",
   "metadata": {},
   "source": [
    "Notice the units of the axes. These are the same units as described in the CRS, Cartesian X/Y in meters.\n",
    "\n",
    "Also notice how we didn't specify which column of the ```gdf_states``` GeoDataFrame to plot. GeoPandas automatically plots the column named 'geometry'. If we had multiple GeoSeries columns (containing geospatial shapes) we would need to specify the column name if we wanted to override the default plotting of the geometery column.\n",
    "\n",
    "What if we wanted to plot our data such that the axes show latitude and longitude instead of meters? We could \"reproject\" to the geographic CRS EPSG:4326 for the plot like this: "
   ]
  },
  {
   "cell_type": "code",
   "execution_count": null,
   "id": "2464f396-d8af-47a0-aeaa-35888e73df4e",
   "metadata": {},
   "outputs": [],
   "source": [
    "# plot geospatial data from our GeoDataFrame in a new CRS\n",
    "gdf_states.to_crs('EPSG:4326').plot()"
   ]
  },
  {
   "cell_type": "markdown",
   "id": "e277104e-b6cb-4f0b-8cf3-2a89eb61e2e3",
   "metadata": {},
   "source": [
    "Note that we didn't overwrite our GeoDataFrame with a new CRS here, we are simply reprojecting for the plot and not saving the result. You can double check this if you want by looking at the output of ```gdf_states.crs``` again, as we did earlier. We'll see how to reproject a GeoDataFrame \"in place\" (overwriting the data) a little later.\n",
    "\n",
    "# VI. General Methods and Attributes of GeoSeries\n",
    "\n",
    "There is a lot of information you can pull out of the shape objects in a GeoSeries. Let's look at a few of the available options that may be useful. These methods work on the entire GeoSeries (all the shapes at once) and some of them also work on individual shapes from the GeoSeries. We'll only cover a few here.\n",
    "\n",
    "First, let's look at a single shape object in the GeoSeries. We'll grab the Mississippi multipolygon and show that it is a Shapely geometry object."
   ]
  },
  {
   "cell_type": "code",
   "execution_count": null,
   "id": "5ff73b1c-5e6f-432b-a395-9b1a39a829c7",
   "metadata": {},
   "outputs": [],
   "source": [
    "# visual of a single shape in the GeoSeries\n",
    "MS = gdf_states.geometry.loc[3]\n",
    "MS"
   ]
  },
  {
   "cell_type": "markdown",
   "id": "541ac665-07b8-4c30-b5e5-b99fa523fc83",
   "metadata": {},
   "source": [
    "It should make sense now why this shape is a group of polygons called a multipolygon- all the little barrier islands!"
   ]
  },
  {
   "cell_type": "code",
   "execution_count": null,
   "id": "b9f1a2dd-4042-4c75-b36a-d7945101c49c",
   "metadata": {},
   "outputs": [],
   "source": [
    "# showing this is a shapely geometry object\n",
    "type(MS)"
   ]
  },
  {
   "cell_type": "markdown",
   "id": "b150113f-60db-4d91-9409-39bc12b3644e",
   "metadata": {},
   "source": [
    "## GeoSeries.boundary\n",
    "\n",
    "Gives you just the shape outline"
   ]
  },
  {
   "cell_type": "code",
   "execution_count": null,
   "id": "9c852735-7596-4a2a-a09b-9975f42a46e8",
   "metadata": {},
   "outputs": [],
   "source": [
    "MS.boundary"
   ]
  },
  {
   "cell_type": "markdown",
   "id": "bc63b2de-d42e-491a-b479-c6de07980376",
   "metadata": {},
   "source": [
    "## GeoSeries.area"
   ]
  },
  {
   "cell_type": "code",
   "execution_count": null,
   "id": "e7be6b8f-018c-4afe-b094-6f8ce5c6c9ff",
   "metadata": {},
   "outputs": [],
   "source": [
    "MS.area"
   ]
  },
  {
   "cell_type": "markdown",
   "id": "90f93dec-0d83-49c6-b93f-843ca2679c25",
   "metadata": {},
   "source": [
    "What units is this? It is based on the CRS units of meters, so the area is in square meters."
   ]
  },
  {
   "cell_type": "code",
   "execution_count": null,
   "id": "5a898cc5-0ead-46dd-b067-cfabc95aa523",
   "metadata": {},
   "outputs": [],
   "source": [
    "# areas for all the states is square km\n",
    "gdf_states.area /1E6"
   ]
  },
  {
   "cell_type": "code",
   "execution_count": null,
   "id": "ffac40b6-4ca9-433d-b6d4-6312e213f6c5",
   "metadata": {},
   "outputs": [],
   "source": [
    "# save the result to a new column in the GeoDataFrame\n",
    "gdf_states['area_km2'] = gdf_states.area /1E6\n",
    "gdf_states"
   ]
  },
  {
   "cell_type": "markdown",
   "id": "7b63a9bf-c2d8-4411-9a56-df9c3568d66d",
   "metadata": {},
   "source": [
    "## GeoSeries.bounds\n",
    "\n",
    "Gives you the minx, miny, maxx, maxy bounds of the object in CRS units (here, meters)"
   ]
  },
  {
   "cell_type": "code",
   "execution_count": null,
   "id": "b5b03e7c-66de-48b0-850f-cb2fdc73a720",
   "metadata": {},
   "outputs": [],
   "source": [
    "MS.bounds"
   ]
  },
  {
   "cell_type": "markdown",
   "id": "45798ff9-8dbb-4db7-af00-6585e0932979",
   "metadata": {},
   "source": [
    "Let's see how ```.bounds``` works on the entire GeoSeries."
   ]
  },
  {
   "cell_type": "code",
   "execution_count": null,
   "id": "8905d41f-3706-4ed4-b541-8d790a382cee",
   "metadata": {},
   "outputs": [],
   "source": [
    "gdf_states.bounds"
   ]
  },
  {
   "cell_type": "markdown",
   "id": "2756ed43-c31f-418c-92d1-d8af3b102a05",
   "metadata": {},
   "source": [
    "Let's look at some more methods that work on the full GeoSeries of shape objects\n",
    "\n",
    "## GeoSeries.total_bounds\n",
    "\n",
    "Gives you a single minx, miny, maxx, maxy bound of all the shapes combined "
   ]
  },
  {
   "cell_type": "code",
   "execution_count": null,
   "id": "09343330-4914-4bad-a06b-b16d0e6ce6b6",
   "metadata": {},
   "outputs": [],
   "source": [
    "gdf_states.total_bounds"
   ]
  },
  {
   "cell_type": "markdown",
   "id": "f17acafc-a9df-4958-beac-f00ed3cfb901",
   "metadata": {},
   "source": [
    "## GeoSeries.count_geometries()\n",
    "\n",
    "For multi-geometries, this counts how many shapes are with the shape (e.g. polygons in a multipolygon). This will return a value of 1 for non multi-geometries."
   ]
  },
  {
   "cell_type": "code",
   "execution_count": null,
   "id": "fd180c02-ec48-4342-96b1-19e7d950deb5",
   "metadata": {},
   "outputs": [],
   "source": [
    "gdf_states.count_geometries()"
   ]
  },
  {
   "cell_type": "markdown",
   "id": "f6abfd7d-6fc0-4a16-85b7-a5ff17126ddc",
   "metadata": {},
   "source": [
    "## GeoSeries.count_coordinates()\n",
    "\n",
    "Gives you the number of nodes (points) that make up each shape"
   ]
  },
  {
   "cell_type": "code",
   "execution_count": null,
   "id": "226b94ce-13db-481c-b12b-5f24fc5f4d54",
   "metadata": {},
   "outputs": [],
   "source": [
    "gdf_states.count_coordinates()"
   ]
  },
  {
   "cell_type": "markdown",
   "id": "ec42e256-704d-4854-9564-12f4d2cc9041",
   "metadata": {},
   "source": [
    "## GeoSeries.get_coordinates()\n",
    "\n",
    "Pulls the x and y value of each point in each shape and puts them into separate x/y columns"
   ]
  },
  {
   "cell_type": "code",
   "execution_count": null,
   "id": "29e2d248-ed13-41b6-a21c-80638cfabc65",
   "metadata": {},
   "outputs": [],
   "source": [
    "gdf_states.get_coordinates()"
   ]
  },
  {
   "cell_type": "markdown",
   "id": "3bf0199f-0d9d-4717-a5b6-e68f02ab385c",
   "metadata": {},
   "source": [
    "You can find the full list of [GeoSeries general methods and attributes in the GeoPandas Documentation](https://geopandas.org/en/stable/docs/reference/geoseries.html#general-methods-and-attributes)."
   ]
  },
  {
   "cell_type": "markdown",
   "id": "aac1933d-059d-4e5a-98fa-0e2d1a4097d1",
   "metadata": {},
   "source": [
    "# VII. Showing Multiple GeoSeries on a Single Figure\n",
    "\n",
    "Let's read another shapefile containing the centerlines of some large rivers and plot them along with the state boundaries in a single figure."
   ]
  },
  {
   "cell_type": "code",
   "execution_count": null,
   "id": "d4c82031-c76b-46f1-97db-4f64b43d0fa2",
   "metadata": {},
   "outputs": [],
   "source": [
    "# get river data from shapefile into a GeoDataFrame\n",
    "gdf_rivers = gpd.read_file(\"data/natural_earth_rivers/ms_clipped_major_rivers/ms_clipped_major_rivers.shp\")\n",
    "gdf_rivers"
   ]
  },
  {
   "cell_type": "markdown",
   "id": "f64ae624-8f04-4dd6-8eea-31502bd4a386",
   "metadata": {},
   "source": [
    "Unlike in GIS, there is no \"on the fly\" reprojection with GeoPandas or any other Python package. You need to be aware of the CRS's that your different datasets are using and make sure they match in order for the data to overlay correctly in a figure.\n",
    "\n",
    "Let's check the CRS of ```gdf_rivers```"
   ]
  },
  {
   "cell_type": "code",
   "execution_count": null,
   "id": "0a03cb3a-4a90-4859-a797-362c9cd1f417",
   "metadata": {},
   "outputs": [],
   "source": [
    "# check the crs\n",
    "gdf_rivers.crs"
   ]
  },
  {
   "cell_type": "markdown",
   "id": "b6e7c864-7be8-47ec-9a1e-896f1e5cc579",
   "metadata": {},
   "source": [
    "Excellent, this data is also in EPSG:5070, meaning ```gdf_states``` and ```gdf_rivers``` should overlay correctly if we plot them together.\n",
    "\n",
    "To plot more than one GeoSeries you must first create an 'Axes' object which is like a base figure, then plot you can plot more GeoSeries on top of it like this:"
   ]
  },
  {
   "cell_type": "code",
   "execution_count": null,
   "id": "a65c8ea3-e194-4229-a9d7-0c503017bb3a",
   "metadata": {},
   "outputs": [],
   "source": [
    "# create the base figure called ax and plot the states on it\n",
    "base = gdf_states.plot(facecolor='none',edgecolor='black',lw=0.5)\n",
    "\n",
    "# add the rivers on top of the base figure\n",
    "gdf_rivers.plot(ax=base)"
   ]
  },
  {
   "cell_type": "markdown",
   "id": "5a116f93-7995-49a3-bf23-3f89b0ac55e4",
   "metadata": {},
   "source": [
    "# VIII. Loading Data from a Geodatabase into a GeoDataFrame\n",
    "\n",
    "The geodatabase (.gdb) format is proprietary to ESRI, the developer of ArcGIS, however, GeoPandas ```.read_file()```is able to load data from a geodatabase. \n",
    "\n",
    "Let's load superfund site data from a geodatabase. Superfund sites are locations in the US where hazardous substances, pollutants, or contaminants are known or suspected to be released. The US Environmental Protection Agency (EPA) maintains the National Priorities List (NPL) of superfund sites. The NPL contains data that documents these sites and their clean up. \n",
    "\n",
    "The data file we will work with has been subset from a much larger publicly available data file by filtering for selected data columns for sites in Mississippi that include geospatial location. [The larger data file can be obtained from data.gov](https://catalog.data.gov/dataset/npl-superfund-site-boundaries-epa9), if you are interested.   "
   ]
  },
  {
   "cell_type": "code",
   "execution_count": null,
   "id": "27510143-b258-4375-8d4b-d7c5b94e0767",
   "metadata": {},
   "outputs": [],
   "source": [
    "gdf_sites=gpd.read_file('data/EPA_superfund_boundaries/MS_EPA_NPL_Site_Boundaries.gdb')\n",
    "gdf_sites"
   ]
  },
  {
   "cell_type": "markdown",
   "id": "769db992-4d91-4d7c-a1e0-d353f98ed75b",
   "metadata": {},
   "source": [
    "This geodatabase is very simple, as it only contains one GIS data layer of multipolygon objects. This will rarely be the case when you are working with geodatabases. Before we move on, let's look at the tools you can use to see the names of the layers in a geodatabase and how you would read in a particular data layer if you had more than one. We need to import an additional package for this called pyogrio (we've already imported it in the beginning of our notebook)."
   ]
  },
  {
   "cell_type": "code",
   "execution_count": null,
   "id": "62f7f97a-0ac6-4f36-9cd2-d57f258da04f",
   "metadata": {},
   "outputs": [],
   "source": [
    "# use the pyogrio package to list all the layer names in a geodatabase\n",
    "pyogrio.list_layers('data/EPA_superfund_boundaries/MS_EPA_NPL_Site_Boundaries.gdb')"
   ]
  },
  {
   "cell_type": "markdown",
   "id": "dc4ceba4-29b5-4e39-9f46-f1beacc91b49",
   "metadata": {},
   "source": [
    "This output is indicating that all the data in our geodatabase is stored on a single GIS data layer called 'MS_EPA_NPL_Site_Boundaries' and the layer's contents are multipolygons. If you are familiar with GIS, you know that there could be many more layer names in this list. If we had more layers the ```pyogrio.list_layers()``` output might look like this:\n",
    "\n",
    "```array([['MS_EPA_NPL_Site_Boundaries', 'MultiPolygon'],['some_other_layer_name', 'layer_geometry_type'],['some_other_layer_name', 'layer_geometry_type']], dtype=object)```\n",
    "\n",
    "\n",
    "\n",
    "To load data from a specific layer into a GeoDataFrame we simply need to add the layer parameter when we read the geodatabase, like this:"
   ]
  },
  {
   "cell_type": "code",
   "execution_count": null,
   "id": "24b0caa0-bee6-47de-91a6-dbacdac53c24",
   "metadata": {},
   "outputs": [],
   "source": [
    "gdf_sites=gpd.read_file('data/EPA_superfund_boundaries/MS_EPA_NPL_Site_Boundaries.gdb', layer='MS_EPA_NPL_Site_Boundaries')\n",
    "gdf_sites"
   ]
  },
  {
   "cell_type": "markdown",
   "id": "425ffedc-cdca-4276-8148-e647a0d2b607",
   "metadata": {},
   "source": [
    "Moving on, let's check what CRS this data uses."
   ]
  },
  {
   "cell_type": "code",
   "execution_count": null,
   "id": "5a40d4f4-04c1-46d6-a34f-4ffd7c4f3b1d",
   "metadata": {},
   "outputs": [],
   "source": [
    "gdf_sites.crs"
   ]
  },
  {
   "cell_type": "markdown",
   "id": "ed45032f-39da-4d1e-a265-9b1df3765125",
   "metadata": {},
   "source": [
    "It's in a different CRS! If we want to look at the locations of the superfund sites in relation to major rivers, we'll have to reproject this data to the CRS of our other GeoSeries, which is EPSG:5070.\n",
    "\n",
    "Let's reproject this data to EPSG:5070, overwriting the current CRS and geometry column of ```gdf_sites```. To do this we use ```.to_crs()``` with the parameter ```inplace``` set to True. "
   ]
  },
  {
   "cell_type": "code",
   "execution_count": null,
   "id": "c9d064ed-bab4-4fe3-a366-0a128045fbd6",
   "metadata": {},
   "outputs": [],
   "source": [
    "gdf_sites.to_crs('epsg:5070',inplace=True)\n",
    "gdf_sites"
   ]
  },
  {
   "cell_type": "markdown",
   "id": "ec9f7440-923b-45d1-a366-1867aac44829",
   "metadata": {},
   "source": [
    "Notice the nodes of each multipolygon have changed from units of decimal degrees to units of meters. Let's double check the new CRS info."
   ]
  },
  {
   "cell_type": "code",
   "execution_count": null,
   "id": "fe7513db-5ffc-44e8-b37a-44bcf97a3c09",
   "metadata": {},
   "outputs": [],
   "source": [
    "gdf_sites.crs"
   ]
  },
  {
   "cell_type": "markdown",
   "id": "7f8f55b9-7aca-4468-a368-c745b41a5667",
   "metadata": {},
   "source": [
    "Great! All our GeoSeries now have the same EPSG:5070 CRS. Let's plot the state boundaries, rivers, and superfund sites on a single figure."
   ]
  },
  {
   "cell_type": "code",
   "execution_count": null,
   "id": "5169deb2-1fe0-48b8-acd4-ef5509f6fa95",
   "metadata": {},
   "outputs": [],
   "source": [
    "base = gdf_states.plot(facecolor='none',edgecolor='black',lw=0.5)\n",
    "gdf_rivers.plot(ax=base,color='blue')\n",
    "gdf_sites.plot(ax=base,color='orange')"
   ]
  },
  {
   "cell_type": "markdown",
   "id": "c4dff221-2bb8-4aa6-b7ab-8e8632e22f57",
   "metadata": {},
   "source": [
    "What happened, why can't we see the orange sites??\n",
    "\n",
    "If we were using a fancier package for plotting (like folium) we could zoom in and see them, but with this simple static plotting the problem is that the sites are too small to see at this scale.  We can visualize the sites at this scale by plotting their centroid points, which will automatically scale to be visible.\n",
    "\n",
    "# IX. Geometric Constructive Functions\n",
    "\n",
    "https://geopandas.org/en/stable/docs/user_guide/geometric_manipulations.html\n",
    "\n",
    "## Centroid "
   ]
  },
  {
   "cell_type": "code",
   "execution_count": null,
   "id": "5e1200d4-db80-4179-abf0-470362e126ef",
   "metadata": {},
   "outputs": [],
   "source": [
    "# create a new GeoSeries in the GeoDataFrame that contains the centroid (point) of each multipolygon\n",
    "gdf_sites['centroid']=gdf_sites.geometry.centroid\n",
    "gdf_sites"
   ]
  },
  {
   "cell_type": "markdown",
   "id": "be9367d0-e7c6-4476-b21b-4fbee5df0bbf",
   "metadata": {},
   "source": [
    "See how we can have more than one column that is a GeoSeries? The two columns of geospatial shapes are both GeoSeries. If we print the data types of all the columns we should see that we have two GeoSeries now. "
   ]
  },
  {
   "cell_type": "code",
   "execution_count": null,
   "id": "1ec1c3ef-cfd1-4cda-bfa8-15c83bcfea50",
   "metadata": {},
   "outputs": [],
   "source": [
    "# check out the data types\n",
    "gdf_sites.dtypes"
   ]
  },
  {
   "cell_type": "markdown",
   "id": "14cb3a96-9fbb-4088-b366-87bb83780fab",
   "metadata": {},
   "source": [
    "As mentioned earlier, the default behavior when plotting a GeoSeries in a GeoDataFrame is to plot whatever shapes are in the column named geometry. If you want to plot a different GeoSeries, you have to specify the column name like we do below with ```gdf_sites.centroid.plot()```\n",
    "\n",
    "Trying our plot of states, rivers, and superfund sites again."
   ]
  },
  {
   "cell_type": "code",
   "execution_count": null,
   "id": "fd4d702b-81a2-4a58-8ea5-cc27719a6016",
   "metadata": {},
   "outputs": [],
   "source": [
    "base = gdf_states.plot(facecolor='none',edgecolor='black')\n",
    "gdf_rivers.plot(ax=base,color='blue')\n",
    "gdf_sites.centroid.plot(ax=base,color='orange')"
   ]
  },
  {
   "cell_type": "markdown",
   "id": "eb9a8c31-0ade-483c-b80a-7c77517051a7",
   "metadata": {},
   "source": [
    "Ooof, nearly all the superfund sites are near major rivers or on the coast. That can't be good for water quality! We'll use some additonal functions to see how close these sites are to the major rivers in our data.\n",
    "\n",
    "## Buffer\n",
    "\n",
    "First, let's make some simple buffers around our rivers. The [GeoPandas API reference](https://geopandas.org/en/stable/docs/reference.html) is where you should go to find out about all the parameters that you can input to a GeoPandas function. Here's the direct link to the page for [.buffer()](https://geopandas.org/en/stable/docs/reference/api/geopandas.GeoSeries.buffer.html)."
   ]
  },
  {
   "cell_type": "code",
   "execution_count": null,
   "id": "d9823752-2397-43eb-a0d5-55b660dea580",
   "metadata": {},
   "outputs": [],
   "source": [
    "# 100 meter buffer\n",
    "gdf_rivers[\"buffer_100m\"] = gdf_rivers.buffer(100)\n",
    "\n",
    "# 1000 meter buffer\n",
    "gdf_rivers[\"buffer_1000m\"] = gdf_rivers.buffer(1000)\n",
    "\n",
    "# plot\n",
    "base = gdf_states.plot(facecolor='none',edgecolor='black',figsize=(12,6)) # larger figure than default\n",
    "gdf_sites.centroid.plot(ax=base,color='orange')\n",
    "gdf_rivers.geometry.plot(ax=base,color='blue')\n",
    "gdf_rivers.buffer_1000m.plot(ax=base,color='brown',alpha=0.25)\n",
    "\n",
    "# change x and y extents\n",
    "base.set_xlim(0.575E6,0.75E6)\n",
    "base.set_ylim(.8E6,.9E6)"
   ]
  },
  {
   "cell_type": "markdown",
   "id": "3359a290-c7fe-4318-8c69-86ecbab52d24",
   "metadata": {},
   "source": [
    "Notice the few things we added to our plotting code. We've changed the figure size with the ```figsize``` parameter and we've changed the x and y extents of the plot with the functions ```.set_xlim()```, ```.set_ylim()```. These changes result in a larger figure that is zoomed in on coastal Mississippi.\n",
    "\n",
    "## Convex Hull\n",
    "For a geometry with at least 3 points, the convex hull is the smallest convex Polygon containing all the points of the geometry. We'll create a convex hull polygon for each state and then plot the Mississippi state multipolygon and convex hull polygon on the same figure."
   ]
  },
  {
   "cell_type": "code",
   "execution_count": null,
   "id": "da07bce2-5543-4f36-aaf9-9fd27cc82314",
   "metadata": {},
   "outputs": [],
   "source": [
    "gdf_states['convex_hulls']=gdf_states.convex_hull\n",
    "gdf_states"
   ]
  },
  {
   "cell_type": "code",
   "execution_count": null,
   "id": "1facddce-2c8d-40b3-94c5-306ba665eeae",
   "metadata": {},
   "outputs": [],
   "source": [
    "base = gdf_states.loc[gdf_states.STUSPS=='MS'].plot(facecolor='none',edgecolor='black')\n",
    "gdf_states.loc[gdf_states.STUSPS=='MS'].convex_hulls.plot(ax=base,facecolor='yellow',edgecolor='orange',alpha=0.5)"
   ]
  },
  {
   "cell_type": "markdown",
   "id": "083fc62e-7fe2-468f-a37a-45c6cfb549c4",
   "metadata": {},
   "source": [
    "## Envelope\n",
    "\n",
    "An envelope is the smallest rectangular polygon (with sides parallel to the coordinate axes) that contains a geometry."
   ]
  },
  {
   "cell_type": "code",
   "execution_count": null,
   "id": "8463a419-3064-4eda-af35-a071471417ae",
   "metadata": {},
   "outputs": [],
   "source": [
    "gdf_states['envelopes']=gdf_states.envelope\n",
    "gdf_states"
   ]
  },
  {
   "cell_type": "code",
   "execution_count": null,
   "id": "c1152e10-c045-4d90-816e-4aaf98f745f2",
   "metadata": {},
   "outputs": [],
   "source": [
    "base = gdf_states.plot(facecolor='none',edgecolor='black')\n",
    "gdf_states.envelopes.plot(ax=base,alpha=0.5)"
   ]
  },
  {
   "cell_type": "markdown",
   "id": "26099ddc-2e1e-4a06-aadd-e19965825e2d",
   "metadata": {},
   "source": [
    "## Union All\n",
    "\n",
    "Returns a single shape (not a GeoSeries!) containing the union of all geometries in the GeoSeries."
   ]
  },
  {
   "cell_type": "code",
   "execution_count": null,
   "id": "e25d104c-35fc-49f5-a418-51e74f59d6ba",
   "metadata": {},
   "outputs": [],
   "source": [
    "gdf_states.union_all()"
   ]
  },
  {
   "cell_type": "code",
   "execution_count": null,
   "id": "fe93c476-c55d-4f43-8331-9c65c6802065",
   "metadata": {},
   "outputs": [],
   "source": [
    "type(gdf_states.union_all())"
   ]
  },
  {
   "cell_type": "markdown",
   "id": "d9378faa-4b7a-43f0-ab67-4fddb8eaefd2",
   "metadata": {},
   "source": [
    "# Binary (True/False) Functions\n",
    "\n",
    "These are functions that operate on a GeoSeries and return the result True or False for each shape in the GeoSeries\n",
    "\n",
    "## Intersects"
   ]
  },
  {
   "cell_type": "code",
   "execution_count": null,
   "id": "30b880b8-bbad-494b-bc7f-4bd18f61e7a3",
   "metadata": {},
   "outputs": [],
   "source": [
    "pearl_river = gdf_rivers.loc[1,\"geometry\"]"
   ]
  },
  {
   "cell_type": "code",
   "execution_count": null,
   "id": "7ed36123-36bf-4e6b-aa11-e1898f08ce15",
   "metadata": {},
   "outputs": [],
   "source": [
    "base = gdf_states.plot(facecolor='none',edgecolor='black')\n",
    "gdf_rivers.loc[gdf_rivers.name=='Pearl'].plot(ax=base)"
   ]
  },
  {
   "cell_type": "code",
   "execution_count": null,
   "id": "e7b13309-02ce-4c73-922e-1b6d6ff6ea17",
   "metadata": {},
   "outputs": [],
   "source": [
    "gdf_states['intersects_pearl']=gdf_states.intersects(pearl_river)\n",
    "gdf_states"
   ]
  },
  {
   "cell_type": "markdown",
   "id": "645f30e7-7dba-47f5-9940-92ea487cf617",
   "metadata": {},
   "source": [
    "## Contains and Within\n",
    "\n",
    "Find whether one shape contains another or similarly, whether one shape is within another. E.g., polygon A *contains* point B, point B is *within* polygon A. It's just two ways of finding the same information. \n",
    "\n"
   ]
  },
  {
   "cell_type": "code",
   "execution_count": null,
   "id": "e2308d06-7497-49cb-a446-142d940276c2",
   "metadata": {},
   "outputs": [],
   "source": [
    "# check if each state polygon contains a single superfund site\n",
    "one_site = gdf_sites.loc[0,\"geometry\"]\n",
    "\n",
    "gdf_states.contains(one_site)"
   ]
  },
  {
   "cell_type": "code",
   "execution_count": null,
   "id": "8c8ec688-ccc0-4300-ba18-a3c9d8319c99",
   "metadata": {},
   "outputs": [],
   "source": [
    "# check if 1 state contain any of the superfund sites\n",
    "one_state = gdf_states.geometry.iloc[0]  # this is Alabama\n",
    "\n",
    "one_state.contains(gdf_sites.geometry).any()"
   ]
  },
  {
   "cell_type": "code",
   "execution_count": null,
   "id": "501a7d85-a62f-4a94-ba79-04ecc3e10dcf",
   "metadata": {},
   "outputs": [],
   "source": [
    "# get at the same information using within instead of contains\n",
    "\n",
    "# check if any of the superfund sites are within Alabama\n",
    "gdf_sites.geometry.within(one_state).any()"
   ]
  },
  {
   "cell_type": "markdown",
   "id": "92b9926b-5f4f-42f5-be7a-a81f7b2272d9",
   "metadata": {},
   "source": [
    "Now for a little added complexity! What if we want to check each state in ```gdf_states``` to see whether they contain any of the superfund sites in our dataset?\n",
    "\n",
    "We will have to write a function for that and then use ```.apply()```, which will apply our function to each row of a GeoDataFrame. In this case, we'll apply our function to the rows of ```gdf_states```, checking whether each state shape contains any of the superfund sites. We already know that our superfund site data has been subset to Mississippi, so we expect a result of True for Mississippi and False for all other states. Here's how we can do it:"
   ]
  },
  {
   "cell_type": "code",
   "execution_count": null,
   "id": "dd48acec-2a9e-42fa-b61c-6a60db3055f0",
   "metadata": {},
   "outputs": [],
   "source": [
    "# check if any sites are within each state\n",
    "\n",
    "def shape_contains_shape(row,sites):\n",
    "    shape_object = row.geometry  # a single shapely object (the geometry column from each row)\n",
    "    return shape_object.contains(sites.geometry).any() # this part is the same as we saw above\n",
    "\n",
    "# apply the function to each row of gdf_states\n",
    "# and save the output to a new column\n",
    "# axis=1 indicates that we want to apply the function to each row of gdf_states\n",
    "gdf_states['has_sites'] = gdf_states.apply(shape_contains_shape,axis=1,args=(gdf_sites,))\n",
    "gdf_states"
   ]
  },
  {
   "cell_type": "markdown",
   "id": "16281b88-ca34-4c59-8c5d-1706899cfa41",
   "metadata": {},
   "source": [
    "```.apply()``` is like a loop, applying our function to 1 row of ```gdf_states``` at a time, moving row by row until the end of all the rows in the GeoDataFrame, then returning the results.\n",
    "\n",
    "Let's check if any of the superfund sites are within the 1000 meter river buffers."
   ]
  },
  {
   "cell_type": "code",
   "execution_count": null,
   "id": "dad7416d-d57b-4128-860e-d49b3d8779af",
   "metadata": {},
   "outputs": [],
   "source": [
    "# check if any site centroids are within the 1000 meter river buffers\n",
    "\n",
    "# this time we'll use within\n",
    "def shape_within_shape(row, col1, gdf, col2):\n",
    "    shape1 = row[col1]  # a single shapely object (from a particular column of each row)\n",
    "    return shape1.within(gdf[col2]).any()\n",
    "\n",
    "# apply the function to each row of gdf_sites and save the output to a new column\n",
    "gdf_sites['centroid_in_buff1000'] = gdf_sites.apply(shape_within_shape, axis=1, args=('centroid',gdf_rivers,'buffer_1000m'))\n",
    "gdf_sites"
   ]
  },
  {
   "cell_type": "markdown",
   "id": "76fd4290-4164-4144-9c91-8412d0d2a2d7",
   "metadata": {},
   "source": [
    "If we scroll to the right to see the new column ```centroid_in_buff1000```, we can see that even though the superfund centroid points we plotted looked very close to our major rivers, none of the centroids are within the 1000 meter river buffers. Parts of the superfund site polygons could be within the buffers though, we'll check that later. \n",
    "\n",
    "There are quite a few more GeoPandas functions like this called \"Binary Predicates\" and they can be found in the [GeoPandas API reference here](https://geopandas.org/en/stable/docs/reference/geoseries.html#binary-predicates)\n",
    "\n",
    "# Clipping\n",
    "\n",
    "# Clip Shapes with Another Shape\n",
    "\n",
    "Clip the rivers to the rectangular envelope for Mississippi.\n",
    "\n",
    "First, let's work out the syntax for selecting a single Shapely object from a GeoSeries. This means selecting the polygon shape from the envelopes column of the gdf_states GeoDataFrame. The selection, if done correctly, should result in a single shape rendered to the screen, not a column or row of data:"
   ]
  },
  {
   "cell_type": "code",
   "execution_count": null,
   "id": "4d643e98-9e93-4055-b5a9-dd298c4bbaf6",
   "metadata": {},
   "outputs": [],
   "source": [
    "# select a single Shapely polygon (Mississippi envelope)\n",
    "gdf_states.loc[gdf_states.STUSPS=='MS']['envelopes'].iloc[0]"
   ]
  },
  {
   "cell_type": "code",
   "execution_count": null,
   "id": "ea65d52b-74af-4f1c-9db8-0606ac7aa589",
   "metadata": {},
   "outputs": [],
   "source": [
    "# clip rivers with Mississippi envelope\n",
    "clipped_rivers = gpd.clip(gdf_rivers, gdf_states.loc[gdf_states.STUSPS=='MS']['envelopes'].iloc[0])\n",
    "\n",
    "# plot states, Mississippi envelope, and clipped rivers\n",
    "base = gdf_states.plot(facecolor='none',edgecolor='black')\n",
    "gdf_states.loc[gdf_states.STUSPS=='MS']['envelopes'].boundary.plot(ax=base,color='red')\n",
    "clipped_rivers.plot(ax=base,color='blue')"
   ]
  },
  {
   "cell_type": "markdown",
   "id": "d5e632c8-b3f8-4ffc-b9e0-0eccbda4e9f1",
   "metadata": {},
   "source": [
    "You can also clip raster data (data with pixels or on a grid) with GeoPandas, but for that we will need an additional Python packages. We'll learn how to do that in a subsequent lesson.\n",
    "\n",
    "# Distance"
   ]
  },
  {
   "cell_type": "code",
   "execution_count": null,
   "id": "62dd18d6-35a7-4745-aea6-dda9cb203f3a",
   "metadata": {},
   "outputs": [],
   "source": [
    "# dropping more columns that we don't need before we do the calculation\n",
    "# gdf_sites.drop(columns=['EPA_PROGRAM','EPA_ID','URL_ALIAS_TXT','CITY_NAME','COUNTY','STATE_CODE','ZIP_CODE'],inplace=True)\n",
    "gdf_rivers.drop(columns=['scalerank','featurecla','rivernum','ne_id','wikidataid'],inplace=True)"
   ]
  },
  {
   "cell_type": "code",
   "execution_count": null,
   "id": "819d307d-81cc-403d-9f6e-da15bfbc5b17",
   "metadata": {},
   "outputs": [],
   "source": [
    "sites_with_closest_river_info = gpd.sjoin_nearest(gdf_sites, gdf_rivers, how='left', rsuffix='rivers',distance_col='min_distance', exclusive=True)\n",
    "sites_with_closest_river_info"
   ]
  },
  {
   "cell_type": "markdown",
   "id": "6888951e-c626-4134-9ef9-81b4de3c02a7",
   "metadata": {},
   "source": [
    "The results in the min_distance column indicate there are 3 sites that are at least partially in a 1000m river buffer.\n",
    "\n",
    "Look at index 12. The closest part of the Rockwell International Wheel & Trim superfund polygon is only 528 meters from the Yalobusha River centerline. Let's make a zoomed in plot of this site's polygon and centroid, the Yalobusha River, and the 1000 meter buffer. "
   ]
  },
  {
   "cell_type": "code",
   "execution_count": null,
   "id": "7d4e5dac-8fc5-4d38-8ba1-c04b228e6eb7",
   "metadata": {},
   "outputs": [],
   "source": [
    "# plot Rockwell International polygon and centroid, Yalobusha River, and 1000 meter buffer\n",
    "\n",
    "base = gdf_sites.loc[gdf_sites.SITE_NAME.str.contains('ROCKWELL')].boundary.plot(color='red',figsize=(8,8))\n",
    "gdf_sites.loc[gdf_sites.SITE_NAME.str.contains('ROCKWELL')].centroid.plot(ax=base,color='orange')\n",
    "gdf_rivers.loc[gdf_rivers.name=='Yalobusha'].plot(ax=base,color='blue')\n",
    "gdf_rivers.loc[gdf_rivers.name=='Yalobusha']['buffer_1000m'].plot(ax=base,color='brown',alpha=0.5)\n",
    "\n",
    "# zoom in\n",
    "base.set_ylim(1.209E6,1.213E6)\n",
    "base.set_xlim(.568E6,.571E6)"
   ]
  },
  {
   "cell_type": "markdown",
   "id": "03fd5da7-e6b5-4d2d-8d35-da62a813b1f3",
   "metadata": {},
   "source": [
    "Look at that! The centroid is not in the buffer, but part of the site polygon is. If we wanted to create a column telling us which site polygons lie partially within the river buffers we could use ```.intersects()``` for that."
   ]
  },
  {
   "cell_type": "markdown",
   "id": "622dec2c-0cf1-4e38-ab4d-d81b9998c0dd",
   "metadata": {},
   "source": [
    "## Exercise\n",
    "\n",
    "Create a new column in ```gdf_sites``` called ```intersects_buff1000``` to test whether each site polygon lies at least partially within any of the river buffers (you can use ```.intersects()``` for this). You will need to write a new function called ```shape_intersects_shape``` and apply it to the ```gdf_sites``` GeoDataFrame. Use the ```shape_within_shape``` function that we made earlier as an example."
   ]
  },
  {
   "cell_type": "code",
   "execution_count": null,
   "id": "01933644-9f88-4666-a6ce-e62ae78b39ac",
   "metadata": {},
   "outputs": [],
   "source": [
    "# add you code here\n",
    "\n",
    "def shape_intersects_shape(row, col1, gdf, col2):\n",
    "    shape1 = row[col1]  # a single shapely object (from a particular column of each row)\n",
    "    return shape1.intersects(gdf[col2]).any()\n",
    "\n",
    "# apply the function to each row of gdf_sites and save the output to a new column\n",
    "gdf_sites['intersects_buff1000'] = gdf_sites.apply(shape_intersects_shape, axis=1, args=('geometry',gdf_rivers,'buffer_1000m'))\n",
    "gdf_sites"
   ]
  },
  {
   "cell_type": "markdown",
   "id": "6c4782f0-0d97-474e-8b4d-3d163f5b66f7",
   "metadata": {},
   "source": [
    "Use ```.sum()``` on the column ```intersects_buff1000``` to show programatically how many sites are at least partially in a 1000 meter river buffer."
   ]
  },
  {
   "cell_type": "code",
   "execution_count": null,
   "id": "2b935139-0e95-413e-8ccd-a3652bec56d8",
   "metadata": {},
   "outputs": [],
   "source": [
    "# add your code here\n",
    "gdf_sites.intersects_buff1000.sum()"
   ]
  },
  {
   "cell_type": "markdown",
   "id": "82302c02-33f1-4ede-ac78-782485f6380c",
   "metadata": {},
   "source": [
    "# Aggregation with .dissolve()\n",
    "\n",
    "## Aggregating Shapes\n",
    "\n",
    "First lets aggregate rivers with the same name together. We've got repeated river names in ```gdf_rivers```. How do we know this? We can compare the number of rows in ```gdf_rivers``` to the number of unique river names:"
   ]
  },
  {
   "cell_type": "code",
   "execution_count": null,
   "id": "135d9333-e1f9-493f-8b63-928ac72f653e",
   "metadata": {},
   "outputs": [],
   "source": [
    "print(f'There are {gdf_rivers.shape[0]} rows in gdf_rivers, but only {len(gdf_rivers.name.unique())} unique river names')"
   ]
  },
  {
   "cell_type": "code",
   "execution_count": null,
   "id": "1f0d5871-0a9b-43b7-87d9-7e07ae4353e7",
   "metadata": {},
   "outputs": [],
   "source": [
    "# test = gdf_rivers[['name','geometry']].dissolve(by='name')\n",
    "# test\n",
    "gdf_rivers = gdf_rivers[['name','geometry']].dissolve(by='name',as_index=False,sort=False)"
   ]
  },
  {
   "cell_type": "code",
   "execution_count": null,
   "id": "1699aebd-0737-4748-9548-e19eb3c23240",
   "metadata": {},
   "outputs": [],
   "source": [
    "gdf_rivers[\"buffer_1000m\"] = gdf_rivers.buffer(1000)\n",
    "gdf_rivers"
   ]
  },
  {
   "cell_type": "code",
   "execution_count": null,
   "id": "ad66c5f8-ad3d-4f80-8946-fc2fcaf432cf",
   "metadata": {},
   "outputs": [],
   "source": [
    "# plot, rebuffer?"
   ]
  },
  {
   "cell_type": "markdown",
   "id": "865ace7c-5dcc-4686-9f1b-c3576a329e21",
   "metadata": {},
   "source": [
    "## aggregate data by shape\n",
    "I may need different data for this"
   ]
  },
  {
   "cell_type": "code",
   "execution_count": null,
   "id": "e0a0672a-26a0-429b-afd2-dc9923e64631",
   "metadata": {},
   "outputs": [],
   "source": []
  },
  {
   "cell_type": "code",
   "execution_count": null,
   "id": "d33434ab-5b37-42a8-9cc6-a242c2bba9fb",
   "metadata": {},
   "outputs": [],
   "source": []
  },
  {
   "cell_type": "code",
   "execution_count": null,
   "id": "a7356b54-8dc3-4373-b059-edf8e7c849eb",
   "metadata": {},
   "outputs": [],
   "source": []
  },
  {
   "cell_type": "code",
   "execution_count": null,
   "id": "98e2a766-45fd-4eba-b5c1-4b708ebc0ee0",
   "metadata": {},
   "outputs": [],
   "source": []
  },
  {
   "cell_type": "markdown",
   "id": "32330d10-b425-49d4-9797-abf10a66fa17",
   "metadata": {},
   "source": [
    "\n",
    "\n",
    "\n",
    "\n",
    "\n",
    "## intersection\n",
    "## union\n",
    "\n",
    "\n",
    "# Binary (True/False) Functions\n",
    "## intersects\n",
    "## overlaps\n",
    "## contains\n",
    "\n",
    "# Geometric Overlay Operations \n",
    "## .clip()\n",
    "## .overlay()\n",
    "\n",
    "# Other Useful Things \n",
    "## distance\n",
    "\n",
    "\n",
    "# Aggregation\n",
    "## dissolve\n",
    "\n",
    "# .explore()\n"
   ]
  },
  {
   "cell_type": "code",
   "execution_count": null,
   "id": "2bca2df1-9cfe-4930-a58f-c75e1aa64d58",
   "metadata": {},
   "outputs": [],
   "source": []
  },
  {
   "cell_type": "code",
   "execution_count": null,
   "id": "e25d6a5e-d4f5-4cc1-82c5-b0e787da7be7",
   "metadata": {},
   "outputs": [],
   "source": []
  },
  {
   "cell_type": "code",
   "execution_count": null,
   "id": "57e7ff20-21ca-4149-9bfc-76c6e72eae26",
   "metadata": {},
   "outputs": [],
   "source": []
  },
  {
   "cell_type": "code",
   "execution_count": null,
   "id": "72c6dcac-b23e-4f68-849a-16971872e6d5",
   "metadata": {},
   "outputs": [],
   "source": []
  },
  {
   "cell_type": "code",
   "execution_count": null,
   "id": "af1c3af9-287d-4ad1-b833-5655d9e5b4e9",
   "metadata": {},
   "outputs": [],
   "source": []
  },
  {
   "cell_type": "code",
   "execution_count": null,
   "id": "7e76b567-4bf6-43da-80c1-a041df552356",
   "metadata": {},
   "outputs": [],
   "source": [
    "ax = gdf_states.geometry.boundary.plot(color='black',lw=0.5)#facecolor='none',edgecolor='black')\n"
   ]
  },
  {
   "cell_type": "code",
   "execution_count": null,
   "id": "a4869071-bf92-4248-9b26-19eda0c1f7b3",
   "metadata": {},
   "outputs": [],
   "source": []
  },
  {
   "cell_type": "code",
   "execution_count": null,
   "id": "f0b32f6e-6020-49b3-a3e1-3a34a8e9b4e2",
   "metadata": {},
   "outputs": [],
   "source": []
  },
  {
   "cell_type": "code",
   "execution_count": null,
   "id": "e904a3fa-7f26-4283-a2ac-dbc7408bffb1",
   "metadata": {},
   "outputs": [],
   "source": []
  },
  {
   "cell_type": "code",
   "execution_count": null,
   "id": "d8f23d16-d9bb-42f8-a871-e5de8db5b0ed",
   "metadata": {},
   "outputs": [],
   "source": []
  },
  {
   "cell_type": "code",
   "execution_count": null,
   "id": "f8036e62-bc00-4a58-849a-962d5a3e0385",
   "metadata": {},
   "outputs": [],
   "source": []
  },
  {
   "cell_type": "code",
   "execution_count": null,
   "id": "ffee4529-0c45-414d-ac11-993ff069265d",
   "metadata": {},
   "outputs": [],
   "source": [
    "import openpyxl\n",
    "import pandas as pd"
   ]
  },
  {
   "cell_type": "code",
   "execution_count": null,
   "id": "14f2536d-1b7a-43fe-8e3a-9c38c404bdf8",
   "metadata": {},
   "outputs": [],
   "source": [
    "df_toxic = pd.read_csv('data/epa_brownfields_ms/STATE_SINGLE_MS.csv')\n",
    "df_toxic"
   ]
  },
  {
   "cell_type": "code",
   "execution_count": null,
   "id": "0095f74e-0880-4168-a8c1-9c4de60d2ac0",
   "metadata": {},
   "outputs": [],
   "source": [
    "df_toxic.dropna(subset=['LATITUDE83','LONGITUDE83'],inplace=True)\n",
    "df_toxic"
   ]
  },
  {
   "cell_type": "code",
   "execution_count": null,
   "id": "4ff64ba7-9550-44f0-9faa-ed5289138e5d",
   "metadata": {},
   "outputs": [],
   "source": [
    "df_toxic.columns"
   ]
  },
  {
   "cell_type": "code",
   "execution_count": null,
   "id": "e57cc71d-e631-4d62-9944-0c00660ec414",
   "metadata": {},
   "outputs": [],
   "source": [
    "df_toxic.dropna(subset=['HDATUM_DESC'],inplace=True)\n",
    "df_toxic"
   ]
  },
  {
   "cell_type": "code",
   "execution_count": null,
   "id": "78265c34-c581-4daa-9013-98d6c2c8d281",
   "metadata": {},
   "outputs": [],
   "source": [
    "df_toxic.HDATUM_DESC.unique()"
   ]
  },
  {
   "cell_type": "code",
   "execution_count": null,
   "id": "c0a28e16-1a62-4d3b-a8c6-e5766c3cf8c7",
   "metadata": {},
   "outputs": [],
   "source": [
    "df_toxic.SITE_TYPE_NAME.unique()"
   ]
  },
  {
   "cell_type": "code",
   "execution_count": null,
   "id": "482183ef-73ca-4573-95c2-aed11b86b1f6",
   "metadata": {},
   "outputs": [],
   "source": []
  },
  {
   "cell_type": "code",
   "execution_count": null,
   "id": "d6f5f2a8-e609-47ea-a046-b9911412d7c9",
   "metadata": {},
   "outputs": [],
   "source": []
  },
  {
   "cell_type": "code",
   "execution_count": null,
   "id": "b01663f7-936e-437e-8a3a-b48c94d66520",
   "metadata": {},
   "outputs": [],
   "source": [
    "df_toxic.INTEREST_TYPES.unique()"
   ]
  },
  {
   "cell_type": "code",
   "execution_count": null,
   "id": "2da39d3f-1c52-4c33-bffa-7637a785dc8c",
   "metadata": {},
   "outputs": [],
   "source": [
    "df_toxic.INTEREST_TYPES.dtype"
   ]
  },
  {
   "cell_type": "code",
   "execution_count": null,
   "id": "d347e326-3c70-41d7-b92a-d3be944a56f5",
   "metadata": {},
   "outputs": [],
   "source": [
    "df_toxic.INTEREST_TYPES.fillna('',inplace=True)"
   ]
  },
  {
   "cell_type": "code",
   "execution_count": null,
   "id": "8de14cfb-dd12-446a-9703-2523926856ad",
   "metadata": {},
   "outputs": [],
   "source": [
    "df_toxic[df_toxic.INTEREST_TYPES.isin(['TRI REPORTER','TSCA SUBMITTER'])]\n",
    "# df_toxic.query(\"INTEREST_TYPES.str.contains('TRI')\")"
   ]
  },
  {
   "cell_type": "code",
   "execution_count": null,
   "id": "59206d88-869c-4c34-ae83-7b8afe1a6d77",
   "metadata": {},
   "outputs": [],
   "source": [
    "df_toxic.drop(columns=['LOCATION_ADDRESS', 'SUPPLEMENTAL_LOCATION', 'CITY_NAME','FIPS_CODE', 'STATE_CODE',\n",
    "                       'COUNTRY_NAME','EPA_REGION_CODE','CREATE_DATE', 'UPDATE_DATE', 'US_MEXICO_BORDER_IND',\n",
    "                       'CONVEYOR','COLLECT_DESC', 'ACCURACY_VALUE','SOURCE_DESC','PGM_SYS_ACRNMS',\n",
    "                       'NAICS_CODES', 'NAICS_CODE_DESCRIPTIONS','SIC_CODES','SIC_CODE_DESCRIPTIONS',\n",
    "                       'FEDERAL_FACILITY_CODE', 'FEDERAL_AGENCY_NAME', 'TRIBAL_LAND_CODE','TRIBAL_LAND_NAME',\n",
    "                       'LOCATION_DESCRIPTION'],inplace=True)\n",
    "df_toxic"
   ]
  },
  {
   "cell_type": "code",
   "execution_count": null,
   "id": "51744bab-2e58-407f-86a7-a9df85ce93ec",
   "metadata": {},
   "outputs": [],
   "source": [
    "df_toxic = df_toxic[df_toxic.INTEREST_TYPES.isin(['TRI REPORTER','TSCA SUBMITTER'])]\n",
    "df_toxic"
   ]
  },
  {
   "cell_type": "code",
   "execution_count": null,
   "id": "e8cb45b7-70c1-4687-b376-53f8182c6743",
   "metadata": {},
   "outputs": [],
   "source": []
  },
  {
   "cell_type": "code",
   "execution_count": null,
   "id": "9066a620-f0d8-4c24-a41f-65dd72d3dd73",
   "metadata": {},
   "outputs": [],
   "source": []
  },
  {
   "cell_type": "code",
   "execution_count": null,
   "id": "a27ba4f1-8e23-416e-bf9b-c8c91aae85b2",
   "metadata": {},
   "outputs": [],
   "source": []
  },
  {
   "cell_type": "code",
   "execution_count": null,
   "id": "d0eecc84-5f24-4fcf-a7ee-9da39d07a6f7",
   "metadata": {},
   "outputs": [],
   "source": []
  },
  {
   "cell_type": "code",
   "execution_count": null,
   "id": "52cfe510-e804-4b5d-82d9-2db4ea135818",
   "metadata": {},
   "outputs": [],
   "source": [
    "# import fiona\n",
    "# layers=fiona.listlayers(\"data/acres_frs/ACRES_FRS.kml\")\n",
    "# layers"
   ]
  },
  {
   "cell_type": "code",
   "execution_count": null,
   "id": "5baef905-ceb0-4605-9882-cd388ec299b3",
   "metadata": {},
   "outputs": [],
   "source": [
    "# gdf_toxic = gpd.read_file(\"data/acres_frs/ACRES_FRS.kml\", driver=\"KML\")\n",
    "# gdf_toxic"
   ]
  },
  {
   "cell_type": "code",
   "execution_count": null,
   "id": "d48c34da-ef64-49bb-91a1-5bb000c0d3d5",
   "metadata": {},
   "outputs": [],
   "source": []
  },
  {
   "cell_type": "code",
   "execution_count": null,
   "id": "e7712741-3451-47f4-b2aa-9be5598c162d",
   "metadata": {},
   "outputs": [],
   "source": []
  },
  {
   "cell_type": "code",
   "execution_count": null,
   "id": "9f108400-a2d3-4acf-a1e7-dbc3aaacbd3b",
   "metadata": {},
   "outputs": [],
   "source": []
  },
  {
   "cell_type": "code",
   "execution_count": null,
   "id": "8515870a-5bf8-4b4d-b0c4-edeb830daa25",
   "metadata": {},
   "outputs": [],
   "source": []
  },
  {
   "cell_type": "code",
   "execution_count": null,
   "id": "91e30493-292d-4750-8e0f-e058bb6696c4",
   "metadata": {},
   "outputs": [],
   "source": []
  },
  {
   "cell_type": "code",
   "execution_count": null,
   "id": "c3bddf34-e093-4a08-b6bd-2a0b75536ec0",
   "metadata": {},
   "outputs": [],
   "source": [
    "study_area = gdf_states.geometry.union_all()\n",
    "study_area"
   ]
  },
  {
   "cell_type": "code",
   "execution_count": null,
   "id": "5e83f350-9e2a-4480-ab33-b3e69caf7b4a",
   "metadata": {},
   "outputs": [],
   "source": [
    "gdf_rivers_ms = gpd.clip(gdf_rivers,ms)\n",
    "gdf_rivers_ms"
   ]
  },
  {
   "cell_type": "code",
   "execution_count": null,
   "id": "d27fdfeb-98fb-42db-bbba-302d5bae95d4",
   "metadata": {},
   "outputs": [],
   "source": []
  },
  {
   "cell_type": "code",
   "execution_count": null,
   "id": "8a04a265-ffd7-4e1a-9b27-24194086e10e",
   "metadata": {},
   "outputs": [],
   "source": []
  },
  {
   "cell_type": "code",
   "execution_count": null,
   "id": "9bbb9f12-87aa-409c-a9c4-e89b27c35daf",
   "metadata": {},
   "outputs": [],
   "source": []
  },
  {
   "cell_type": "code",
   "execution_count": null,
   "id": "4a3dadf2-2509-43d7-982b-17192708b5af",
   "metadata": {},
   "outputs": [],
   "source": [
    "# gdf_ms = gpd.read_file(\"data/tl_2016_28_cousub/tl_2016_28_cousub.shp\")\n",
    "# gdf_ms.head()"
   ]
  },
  {
   "cell_type": "code",
   "execution_count": null,
   "id": "4a92ac0c-29c5-4280-9089-a5becabe4e18",
   "metadata": {},
   "outputs": [],
   "source": [
    "gdf_ms.plot()"
   ]
  },
  {
   "cell_type": "code",
   "execution_count": null,
   "id": "a2b8a5c8-5196-4296-8692-be73a706788c",
   "metadata": {},
   "outputs": [],
   "source": [
    "gdf_ms.crs"
   ]
  },
  {
   "cell_type": "code",
   "execution_count": null,
   "id": "5dd6f934-0fc0-43a2-acdc-0a6f28d69d39",
   "metadata": {},
   "outputs": [],
   "source": [
    "gdf_ms = gdf_ms.to_crs('epsg:5070')\n",
    "gdf_ms.crs"
   ]
  },
  {
   "cell_type": "code",
   "execution_count": null,
   "id": "44c2edff-23dc-4b49-be9d-31966fa71266",
   "metadata": {},
   "outputs": [],
   "source": [
    "ms = gdf_ms.geometry.union_all()\n",
    "ms"
   ]
  },
  {
   "cell_type": "code",
   "execution_count": null,
   "id": "81f1f9ea-7e57-4c51-b18f-a49f7f1aa569",
   "metadata": {},
   "outputs": [],
   "source": [
    "gdf_rivers = gdf_rivers.to_crs('epsg:5070')\n",
    "gdf_rivers.crs"
   ]
  },
  {
   "cell_type": "code",
   "execution_count": null,
   "id": "3686d7f7-a66b-40b8-b359-8596dc511460",
   "metadata": {},
   "outputs": [],
   "source": [
    "gdf_rivers_ms = gpd.clip(gdf_rivers,ms)\n",
    "gdf_rivers_ms"
   ]
  },
  {
   "cell_type": "code",
   "execution_count": null,
   "id": "7ae5b7cb-0d3c-4979-9891-06274e98cb78",
   "metadata": {},
   "outputs": [],
   "source": [
    "gdf_rivers_ms.plot()"
   ]
  },
  {
   "cell_type": "code",
   "execution_count": null,
   "id": "89df6316-0235-4347-b4f9-41ddffe92c64",
   "metadata": {},
   "outputs": [],
   "source": []
  }
 ],
 "metadata": {
  "kernelspec": {
   "display_name": "canvas_beginner",
   "language": "python",
   "name": "canvas_beginner"
  },
  "language_info": {
   "codemirror_mode": {
    "name": "ipython",
    "version": 3
   },
   "file_extension": ".py",
   "mimetype": "text/x-python",
   "name": "python",
   "nbconvert_exporter": "python",
   "pygments_lexer": "ipython3",
   "version": "3.13.0"
  }
 },
 "nbformat": 4,
 "nbformat_minor": 5
}
