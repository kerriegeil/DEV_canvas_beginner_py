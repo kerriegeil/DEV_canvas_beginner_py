{
 "cells": [
  {
   "cell_type": "markdown",
   "id": "526f0a68-fd5e-4953-864b-1c6f66a96535",
   "metadata": {},
   "source": [
    "# Introduction to GeoPandas for Working with Geospatial Vector Data (i.e., shapes: points, lines, and polygons)"
   ]
  },
  {
   "cell_type": "markdown",
   "id": "a7a10e75-ab62-4798-b547-2b80b1e896be",
   "metadata": {},
   "source": [
    "# I. Importing Necessary Packages"
   ]
  },
  {
   "cell_type": "code",
   "execution_count": 1,
   "id": "eb74e754-e313-4365-b6f0-ff58f88b352c",
   "metadata": {},
   "outputs": [],
   "source": [
    "import geopandas as gpd\n",
    "import shapely"
   ]
  },
  {
   "cell_type": "markdown",
   "id": "6343d55f-4c6e-4ae3-a9dd-10264e3aa3fd",
   "metadata": {},
   "source": [
    "# II. Introduction to GeoPandas Data Structures\n",
    "\n",
    "GeoPandas extends the Pandas package by adding support for geospatial vector data (i.e., shapes: points, lines, polygons) \n",
    "\n",
    "The core data structure in GeoPandas is the *GeoDataFrame*, which is similar to a Pandas DataFrame made up of an index and collection of *Series* (columns) as well as a special column named \"geometry\". The geometery column is a *GeoSeries* which is a special structure that can handle shapes (or \"geometries\") like points, lines, and polygons. A GeoDataFrame can contain as many Series and GeoSeries as you want. \n",
    "\n",
    "Below is a schematic of what a GeoPandas GeoDataFrame looks like, where the green boxes indicate the index, yellow boxes indicate data (with column names) in Series structures and pink boxes show a single GeoSeries structure which would have the column name \"geometry\".\n",
    "\n",
    "\n",
    "<img src=\"images/geodataframe.svg\" alt=\"schematic of a dataframe\" width=\"700\"/> \n",
    "         \n",
    "(Image Source: [GeoPandas Docs Getting Started Tutorial](https://geopandas.org/en/stable/getting_started/introduction.html#Concepts)"
   ]
  },
  {
   "cell_type": "markdown",
   "id": "68cb7fa4-2890-446a-ba4a-f87b5fb35b63",
   "metadata": {},
   "source": [
    "# II. Loading a ShapeFile into a GeoDataFrame\n",
    "\n",
    "Most of the time you'll probably start a geo-analysis with a shapefile or geodatabase, both of which are have multiple components. Three components are mandatory for shapefiles: \n",
    "- a main file that contains the feature geometry (.shp),\n",
    "- an index file that stores the index of the feature geometry (.shx), and\n",
    "- a dBASE table (.dbf) that stores the attribute information of features.\n",
    "\n",
    "The shapefiles we'll load contain the boundaries for a few US states and the centerlines for some large rivers. The files we're using contain subsets of data from larger files that are publicly available from the US Census Bureau and Natural Earth data project. If you're interested, the full data files are [cb_2023_us_state_500k.shp from the Census Bureau cartographic boundary files](https://www.census.gov/geographies/mapping-files/time-series/geo/cartographic-boundary.html) and [ne_10m_rivers_lake_centerlines.shp, ne_10m_rivers_north_america.shp from the Natural Earth data project](https://www.naturalearthdata.com/downloads/10m-physical-vectors/10m-rivers-lake-centerlines/)."
   ]
  },
  {
   "cell_type": "code",
   "execution_count": 20,
   "id": "882f7965-36b2-42ce-8bab-de166a0da408",
   "metadata": {},
   "outputs": [
    {
     "data": {
      "text/html": [
       "<div>\n",
       "<style scoped>\n",
       "    .dataframe tbody tr th:only-of-type {\n",
       "        vertical-align: middle;\n",
       "    }\n",
       "\n",
       "    .dataframe tbody tr th {\n",
       "        vertical-align: top;\n",
       "    }\n",
       "\n",
       "    .dataframe thead th {\n",
       "        text-align: right;\n",
       "    }\n",
       "</style>\n",
       "<table border=\"1\" class=\"dataframe\">\n",
       "  <thead>\n",
       "    <tr style=\"text-align: right;\">\n",
       "      <th></th>\n",
       "      <th>STATEFP</th>\n",
       "      <th>STATENS</th>\n",
       "      <th>GEOIDFQ</th>\n",
       "      <th>GEOID</th>\n",
       "      <th>STUSPS</th>\n",
       "      <th>NAME</th>\n",
       "      <th>LSAD</th>\n",
       "      <th>ALAND</th>\n",
       "      <th>AWATER</th>\n",
       "      <th>geometry</th>\n",
       "    </tr>\n",
       "  </thead>\n",
       "  <tbody>\n",
       "    <tr>\n",
       "      <th>0</th>\n",
       "      <td>01</td>\n",
       "      <td>01779775</td>\n",
       "      <td>0400000US01</td>\n",
       "      <td>01</td>\n",
       "      <td>AL</td>\n",
       "      <td>Alabama</td>\n",
       "      <td>00</td>\n",
       "      <td>131185049346</td>\n",
       "      <td>4582326383</td>\n",
       "      <td>MULTIPOLYGON (((760323.731 857474.728, 760524....</td>\n",
       "    </tr>\n",
       "    <tr>\n",
       "      <th>1</th>\n",
       "      <td>05</td>\n",
       "      <td>00068085</td>\n",
       "      <td>0400000US05</td>\n",
       "      <td>05</td>\n",
       "      <td>AR</td>\n",
       "      <td>Arkansas</td>\n",
       "      <td>00</td>\n",
       "      <td>134660466558</td>\n",
       "      <td>3122251184</td>\n",
       "      <td>POLYGON ((122656.347 1495564.869, 122680.321 1...</td>\n",
       "    </tr>\n",
       "    <tr>\n",
       "      <th>2</th>\n",
       "      <td>47</td>\n",
       "      <td>01325873</td>\n",
       "      <td>0400000US47</td>\n",
       "      <td>47</td>\n",
       "      <td>TN</td>\n",
       "      <td>Tennessee</td>\n",
       "      <td>00</td>\n",
       "      <td>106792311478</td>\n",
       "      <td>2322248149</td>\n",
       "      <td>POLYGON ((514676.039 1342513.625, 514738.015 1...</td>\n",
       "    </tr>\n",
       "    <tr>\n",
       "      <th>3</th>\n",
       "      <td>28</td>\n",
       "      <td>01779790</td>\n",
       "      <td>0400000US28</td>\n",
       "      <td>28</td>\n",
       "      <td>MS</td>\n",
       "      <td>Mississippi</td>\n",
       "      <td>00</td>\n",
       "      <td>121533540877</td>\n",
       "      <td>3914738613</td>\n",
       "      <td>MULTIPOLYGON (((719751.38 821718.593, 721088.0...</td>\n",
       "    </tr>\n",
       "    <tr>\n",
       "      <th>4</th>\n",
       "      <td>22</td>\n",
       "      <td>01629543</td>\n",
       "      <td>0400000US22</td>\n",
       "      <td>22</td>\n",
       "      <td>LA</td>\n",
       "      <td>Louisiana</td>\n",
       "      <td>00</td>\n",
       "      <td>111930452904</td>\n",
       "      <td>23721187320</td>\n",
       "      <td>MULTIPOLYGON (((687937.424 779840.415, 688125....</td>\n",
       "    </tr>\n",
       "  </tbody>\n",
       "</table>\n",
       "</div>"
      ],
      "text/plain": [
       "  STATEFP   STATENS      GEOIDFQ GEOID STUSPS         NAME LSAD         ALAND  \\\n",
       "0      01  01779775  0400000US01    01     AL      Alabama   00  131185049346   \n",
       "1      05  00068085  0400000US05    05     AR     Arkansas   00  134660466558   \n",
       "2      47  01325873  0400000US47    47     TN    Tennessee   00  106792311478   \n",
       "3      28  01779790  0400000US28    28     MS  Mississippi   00  121533540877   \n",
       "4      22  01629543  0400000US22    22     LA    Louisiana   00  111930452904   \n",
       "\n",
       "        AWATER                                           geometry  \n",
       "0   4582326383  MULTIPOLYGON (((760323.731 857474.728, 760524....  \n",
       "1   3122251184  POLYGON ((122656.347 1495564.869, 122680.321 1...  \n",
       "2   2322248149  POLYGON ((514676.039 1342513.625, 514738.015 1...  \n",
       "3   3914738613  MULTIPOLYGON (((719751.38 821718.593, 721088.0...  \n",
       "4  23721187320  MULTIPOLYGON (((687937.424 779840.415, 688125....  "
      ]
     },
     "execution_count": 20,
     "metadata": {},
     "output_type": "execute_result"
    }
   ],
   "source": [
    "# load state boundaries from shape file\n",
    "gdf_states = gpd.read_file('data/state_boundaries/MS_LA_AR_AL_TN_cb_2023_us_state_500km.shp')\n",
    "gdf_states"
   ]
  },
  {
   "cell_type": "markdown",
   "id": "a553a52d-bb85-47dd-be20-eefb48ada01c",
   "metadata": {},
   "source": [
    "This is a GeoPandas GeoDataFrame and as you can see, it looks a lot like a Pandas DataFrame. Each row is a data entry for a different state. Notice the rightmost column named \"geometry\". It contains geospatial shapes that represent the boundaries of each state. \n",
    "\n",
    "Let's look at the data type of each column"
   ]
  },
  {
   "cell_type": "code",
   "execution_count": 21,
   "id": "e13d8017-440a-4283-a79a-0722778f63d1",
   "metadata": {},
   "outputs": [
    {
     "data": {
      "text/plain": [
       "STATEFP       object\n",
       "STATENS       object\n",
       "GEOIDFQ       object\n",
       "GEOID         object\n",
       "STUSPS        object\n",
       "NAME          object\n",
       "LSAD          object\n",
       "ALAND          int64\n",
       "AWATER         int64\n",
       "geometry    geometry\n",
       "dtype: object"
      ]
     },
     "execution_count": 21,
     "metadata": {},
     "output_type": "execute_result"
    }
   ],
   "source": [
    "gdf_states.dtypes"
   ]
  },
  {
   "cell_type": "markdown",
   "id": "7f20e2cd-600d-4b7c-bd28-3067a2971016",
   "metadata": {},
   "source": [
    "You should remember seeing most of these data types from the Pandas notebook, but GeoPandas adds a new data type \"geometry\". This is indicating that the column named \"geometry\" is a GeoSeries that contains geospatial shapes, which we saw in the notebook cells above.\n",
    "\n",
    "Since there is only one column of type geometry, GeoPandas makes that column the \"active geometry column.\" You can have more than one GeoSeries column that contain shapes, but only one active at a time. \n",
    "\n",
    "Notice the values inside the shapes in the geometry column of the GeoDataFrame. What are those numbers? Each set of numbers (separated by commas) is a x,y node (point) in the shape. Large numbers, like we have, usually indicate that the data is in a coordinate reference system that has units of meters (as opposed to degrees latitude and longitude). We'll talk about coordinate reference systems next."
   ]
  },
  {
   "cell_type": "markdown",
   "id": "50b7d520-0c86-4a57-b4bb-e5d7c825ddef",
   "metadata": {},
   "source": [
    "# III. Coordinate Reference Systems (CRS)\n",
    "\n",
    "Every map has a projection; it's how we take something on a spherical earth and flatten it out. Let's see which projection our data from MARIS uses:"
   ]
  },
  {
   "cell_type": "code",
   "execution_count": null,
   "id": "b93a1140-61e0-4586-8470-69192390fe4d",
   "metadata": {},
   "outputs": [],
   "source": []
  },
  {
   "cell_type": "code",
   "execution_count": 3,
   "id": "1c91faf5-7997-4a28-970f-3e41c73e5452",
   "metadata": {},
   "outputs": [
    {
     "data": {
      "text/plain": [
       "<Projected CRS: EPSG:5070>\n",
       "Name: NAD83 / Conus Albers\n",
       "Axis Info [cartesian]:\n",
       "- X[east]: Easting (metre)\n",
       "- Y[north]: Northing (metre)\n",
       "Area of Use:\n",
       "- name: United States (USA) - CONUS onshore - Alabama; Arizona; Arkansas; California; Colorado; Connecticut; Delaware; Florida; Georgia; Idaho; Illinois; Indiana; Iowa; Kansas; Kentucky; Louisiana; Maine; Maryland; Massachusetts; Michigan; Minnesota; Mississippi; Missouri; Montana; Nebraska; Nevada; New Hampshire; New Jersey; New Mexico; New York; North Carolina; North Dakota; Ohio; Oklahoma; Oregon; Pennsylvania; Rhode Island; South Carolina; South Dakota; Tennessee; Texas; Utah; Vermont; Virginia; Washington; West Virginia; Wisconsin; Wyoming.\n",
       "- bounds: (-124.79, 24.41, -66.91, 49.38)\n",
       "Coordinate Operation:\n",
       "- name: Conus Albers\n",
       "- method: Albers Equal Area\n",
       "Datum: North American Datum 1983\n",
       "- Ellipsoid: GRS 1980\n",
       "- Prime Meridian: Greenwich"
      ]
     },
     "execution_count": 3,
     "metadata": {},
     "output_type": "execute_result"
    }
   ],
   "source": [
    "gdf_states.crs"
   ]
  },
  {
   "cell_type": "code",
   "execution_count": 6,
   "id": "20f329ea-ad24-4d94-b8ee-dd03ddd3e790",
   "metadata": {},
   "outputs": [
    {
     "data": {
      "text/plain": [
       "<Axes: >"
      ]
     },
     "execution_count": 6,
     "metadata": {},
     "output_type": "execute_result"
    },
    {
     "data": {
      "image/png": "[encoded data removed]",
      "text/plain": [
       "<Figure size 640x480 with 1 Axes>"
      ]
     },
     "metadata": {},
     "output_type": "display_data"
    }
   ],
   "source": [
    "gdf_states.plot()"
   ]
  },
  {
   "cell_type": "code",
   "execution_count": 8,
   "id": "d4c82031-c76b-46f1-97db-4f64b43d0fa2",
   "metadata": {},
   "outputs": [
    {
     "data": {
      "text/html": [
       "<div>\n",
       "<style scoped>\n",
       "    .dataframe tbody tr th:only-of-type {\n",
       "        vertical-align: middle;\n",
       "    }\n",
       "\n",
       "    .dataframe tbody tr th {\n",
       "        vertical-align: top;\n",
       "    }\n",
       "\n",
       "    .dataframe thead th {\n",
       "        text-align: right;\n",
       "    }\n",
       "</style>\n",
       "<table border=\"1\" class=\"dataframe\">\n",
       "  <thead>\n",
       "    <tr style=\"text-align: right;\">\n",
       "      <th></th>\n",
       "      <th>scalerank</th>\n",
       "      <th>featurecla</th>\n",
       "      <th>name</th>\n",
       "      <th>rivernum</th>\n",
       "      <th>ne_id</th>\n",
       "      <th>wikidataid</th>\n",
       "      <th>geometry</th>\n",
       "    </tr>\n",
       "  </thead>\n",
       "  <tbody>\n",
       "    <tr>\n",
       "      <th>0</th>\n",
       "      <td>8</td>\n",
       "      <td>River</td>\n",
       "      <td>Bayou Lafourche</td>\n",
       "      <td>916.0</td>\n",
       "      <td>1159128577</td>\n",
       "      <td>Q2892300</td>\n",
       "      <td>LINESTRING (568357.042 689163.124, 565180.878 ...</td>\n",
       "    </tr>\n",
       "    <tr>\n",
       "      <th>1</th>\n",
       "      <td>7</td>\n",
       "      <td>River</td>\n",
       "      <td>Pearl</td>\n",
       "      <td>528.0</td>\n",
       "      <td>1159122089</td>\n",
       "      <td>Q1739672</td>\n",
       "      <td>MULTILINESTRING ((635175.29 1145225.449, 63724...</td>\n",
       "    </tr>\n",
       "    <tr>\n",
       "      <th>2</th>\n",
       "      <td>6</td>\n",
       "      <td>River</td>\n",
       "      <td>Alabama</td>\n",
       "      <td>251.0</td>\n",
       "      <td>1159114979</td>\n",
       "      <td>Q558643</td>\n",
       "      <td>MULTILINESTRING ((799076.718 1018795.098, 7983...</td>\n",
       "    </tr>\n",
       "    <tr>\n",
       "      <th>3</th>\n",
       "      <td>8</td>\n",
       "      <td>River</td>\n",
       "      <td>Tombigbee</td>\n",
       "      <td>710.0</td>\n",
       "      <td>1159126229</td>\n",
       "      <td>Q2297877</td>\n",
       "      <td>LINESTRING (700410.717 1322268.779, 702668.212...</td>\n",
       "    </tr>\n",
       "    <tr>\n",
       "      <th>4</th>\n",
       "      <td>7</td>\n",
       "      <td>River</td>\n",
       "      <td>Red</td>\n",
       "      <td>414.0</td>\n",
       "      <td>1159119701</td>\n",
       "      <td>Q156032</td>\n",
       "      <td>LINESTRING (331751.24 925190.299, 332215.567 9...</td>\n",
       "    </tr>\n",
       "    <tr>\n",
       "      <th>...</th>\n",
       "      <td>...</td>\n",
       "      <td>...</td>\n",
       "      <td>...</td>\n",
       "      <td>...</td>\n",
       "      <td>...</td>\n",
       "      <td>...</td>\n",
       "      <td>...</td>\n",
       "    </tr>\n",
       "    <tr>\n",
       "      <th>70</th>\n",
       "      <td>10</td>\n",
       "      <td>River</td>\n",
       "      <td>St. Francis</td>\n",
       "      <td>23283.0</td>\n",
       "      <td>1159108133</td>\n",
       "      <td>Q1108022</td>\n",
       "      <td>LINESTRING (499575.978 1397371.49, 499957.074 ...</td>\n",
       "    </tr>\n",
       "    <tr>\n",
       "      <th>71</th>\n",
       "      <td>11</td>\n",
       "      <td>River</td>\n",
       "      <td>Hatchie</td>\n",
       "      <td>22539.0</td>\n",
       "      <td>1159139009</td>\n",
       "      <td>Q5681137</td>\n",
       "      <td>LINESTRING (613963.025 1404839.47, 614746.904 ...</td>\n",
       "    </tr>\n",
       "    <tr>\n",
       "      <th>72</th>\n",
       "      <td>12</td>\n",
       "      <td>River</td>\n",
       "      <td>Little Red</td>\n",
       "      <td>NaN</td>\n",
       "      <td>1746333499</td>\n",
       "      <td>Q6651505</td>\n",
       "      <td>LINESTRING (364723.209 1390543.547, 363354.685...</td>\n",
       "    </tr>\n",
       "    <tr>\n",
       "      <th>73</th>\n",
       "      <td>11</td>\n",
       "      <td>River</td>\n",
       "      <td>Cache</td>\n",
       "      <td>22542.0</td>\n",
       "      <td>1159139021</td>\n",
       "      <td>Q5015966</td>\n",
       "      <td>LINESTRING (438432.924 1394010.936, 438485.073...</td>\n",
       "    </tr>\n",
       "    <tr>\n",
       "      <th>74</th>\n",
       "      <td>12</td>\n",
       "      <td>River</td>\n",
       "      <td>S.  Fk.  Forked Deer</td>\n",
       "      <td>22646.0</td>\n",
       "      <td>1159107533</td>\n",
       "      <td>None</td>\n",
       "      <td>LINESTRING (664038.614 1398467.667, 663460.758...</td>\n",
       "    </tr>\n",
       "  </tbody>\n",
       "</table>\n",
       "<p>75 rows × 7 columns</p>\n",
       "</div>"
      ],
      "text/plain": [
       "    scalerank featurecla                  name  rivernum       ne_id  \\\n",
       "0           8      River       Bayou Lafourche     916.0  1159128577   \n",
       "1           7      River                 Pearl     528.0  1159122089   \n",
       "2           6      River               Alabama     251.0  1159114979   \n",
       "3           8      River             Tombigbee     710.0  1159126229   \n",
       "4           7      River                   Red     414.0  1159119701   \n",
       "..        ...        ...                   ...       ...         ...   \n",
       "70         10      River           St. Francis   23283.0  1159108133   \n",
       "71         11      River               Hatchie   22539.0  1159139009   \n",
       "72         12      River            Little Red       NaN  1746333499   \n",
       "73         11      River                 Cache   22542.0  1159139021   \n",
       "74         12      River  S.  Fk.  Forked Deer   22646.0  1159107533   \n",
       "\n",
       "   wikidataid                                           geometry  \n",
       "0    Q2892300  LINESTRING (568357.042 689163.124, 565180.878 ...  \n",
       "1    Q1739672  MULTILINESTRING ((635175.29 1145225.449, 63724...  \n",
       "2     Q558643  MULTILINESTRING ((799076.718 1018795.098, 7983...  \n",
       "3    Q2297877  LINESTRING (700410.717 1322268.779, 702668.212...  \n",
       "4     Q156032  LINESTRING (331751.24 925190.299, 332215.567 9...  \n",
       "..        ...                                                ...  \n",
       "70   Q1108022  LINESTRING (499575.978 1397371.49, 499957.074 ...  \n",
       "71   Q5681137  LINESTRING (613963.025 1404839.47, 614746.904 ...  \n",
       "72   Q6651505  LINESTRING (364723.209 1390543.547, 363354.685...  \n",
       "73   Q5015966  LINESTRING (438432.924 1394010.936, 438485.073...  \n",
       "74       None  LINESTRING (664038.614 1398467.667, 663460.758...  \n",
       "\n",
       "[75 rows x 7 columns]"
      ]
     },
     "execution_count": 8,
     "metadata": {},
     "output_type": "execute_result"
    }
   ],
   "source": [
    "gdf_rivers = gpd.read_file(\"data/natural_earth_rivers/ms_clipped_major_rivers/ms_clipped_major_rivers.shp\")\n",
    "gdf_rivers"
   ]
  },
  {
   "cell_type": "code",
   "execution_count": 9,
   "id": "0a03cb3a-4a90-4859-a797-362c9cd1f417",
   "metadata": {},
   "outputs": [
    {
     "data": {
      "text/plain": [
       "<Projected CRS: EPSG:5070>\n",
       "Name: NAD83 / Conus Albers\n",
       "Axis Info [cartesian]:\n",
       "- X[east]: Easting (metre)\n",
       "- Y[north]: Northing (metre)\n",
       "Area of Use:\n",
       "- name: United States (USA) - CONUS onshore - Alabama; Arizona; Arkansas; California; Colorado; Connecticut; Delaware; Florida; Georgia; Idaho; Illinois; Indiana; Iowa; Kansas; Kentucky; Louisiana; Maine; Maryland; Massachusetts; Michigan; Minnesota; Mississippi; Missouri; Montana; Nebraska; Nevada; New Hampshire; New Jersey; New Mexico; New York; North Carolina; North Dakota; Ohio; Oklahoma; Oregon; Pennsylvania; Rhode Island; South Carolina; South Dakota; Tennessee; Texas; Utah; Vermont; Virginia; Washington; West Virginia; Wisconsin; Wyoming.\n",
       "- bounds: (-124.79, 24.41, -66.91, 49.38)\n",
       "Coordinate Operation:\n",
       "- name: Conus Albers\n",
       "- method: Albers Equal Area\n",
       "Datum: North American Datum 1983\n",
       "- Ellipsoid: GRS 1980\n",
       "- Prime Meridian: Greenwich"
      ]
     },
     "execution_count": 9,
     "metadata": {},
     "output_type": "execute_result"
    }
   ],
   "source": [
    "gdf_rivers.crs"
   ]
  },
  {
   "cell_type": "code",
   "execution_count": 11,
   "id": "a65c8ea3-e194-4229-a9d7-0c503017bb3a",
   "metadata": {},
   "outputs": [
    {
     "data": {
      "text/plain": [
       "<Axes: >"
      ]
     },
     "execution_count": 11,
     "metadata": {},
     "output_type": "execute_result"
    },
    {
     "data": {
      "image/png": "[encoded data removed]",
      "text/plain": [
       "<Figure size 640x480 with 1 Axes>"
      ]
     },
     "metadata": {},
     "output_type": "display_data"
    }
   ],
   "source": [
    "ax = gdf_states.plot(facecolor='none',edgecolor='black',lw=0.5)\n",
    "gdf_rivers.plot(ax=ax)"
   ]
  },
  {
   "cell_type": "code",
   "execution_count": null,
   "id": "1879560c-ed3f-4f42-9341-5d6e033705db",
   "metadata": {},
   "outputs": [],
   "source": []
  },
  {
   "cell_type": "code",
   "execution_count": null,
   "id": "5a0982ad-e7c6-4c5f-931b-4da10a4d9458",
   "metadata": {},
   "outputs": [],
   "source": []
  },
  {
   "cell_type": "code",
   "execution_count": null,
   "id": "9b53b63c-b630-442e-8038-d389d06a6fd9",
   "metadata": {},
   "outputs": [],
   "source": []
  },
  {
   "cell_type": "code",
   "execution_count": 13,
   "id": "27510143-b258-4375-8d4b-d7c5b94e0767",
   "metadata": {},
   "outputs": [
    {
     "data": {
      "text/html": [
       "<div>\n",
       "<style scoped>\n",
       "    .dataframe tbody tr th:only-of-type {\n",
       "        vertical-align: middle;\n",
       "    }\n",
       "\n",
       "    .dataframe tbody tr th {\n",
       "        vertical-align: top;\n",
       "    }\n",
       "\n",
       "    .dataframe thead th {\n",
       "        text-align: right;\n",
       "    }\n",
       "</style>\n",
       "<table border=\"1\" class=\"dataframe\">\n",
       "  <thead>\n",
       "    <tr style=\"text-align: right;\">\n",
       "      <th></th>\n",
       "      <th>EPA_PROGRAM</th>\n",
       "      <th>EPA_ID</th>\n",
       "      <th>SITE_NAME</th>\n",
       "      <th>GIS_AREA</th>\n",
       "      <th>GIS_AREA_UNITS</th>\n",
       "      <th>URL_ALIAS_TXT</th>\n",
       "      <th>NPL_STATUS_CODE</th>\n",
       "      <th>CITY_NAME</th>\n",
       "      <th>COUNTY</th>\n",
       "      <th>STATE_CODE</th>\n",
       "      <th>ZIP_CODE</th>\n",
       "      <th>geometry</th>\n",
       "    </tr>\n",
       "  </thead>\n",
       "  <tbody>\n",
       "    <tr>\n",
       "      <th>0</th>\n",
       "      <td>Superfund Remedial</td>\n",
       "      <td>MSD056029648</td>\n",
       "      <td>POTTER CO.</td>\n",
       "      <td>0.012505</td>\n",
       "      <td>Square Miles</td>\n",
       "      <td>https://www.epa.gov/superfund/Potter</td>\n",
       "      <td>R</td>\n",
       "      <td>WESSON</td>\n",
       "      <td>COPIAH</td>\n",
       "      <td>MS</td>\n",
       "      <td>39191</td>\n",
       "      <td>MULTIPOLYGON (((-90.39347 31.71068, -90.39161 ...</td>\n",
       "    </tr>\n",
       "    <tr>\n",
       "      <th>1</th>\n",
       "      <td>Superfund Remedial</td>\n",
       "      <td>MSD980601736</td>\n",
       "      <td>WALCOTTE CHEMICAL CO. WAREHOUSES</td>\n",
       "      <td>0.001875</td>\n",
       "      <td>Square Miles</td>\n",
       "      <td>https://www.epa.gov/superfund/walcotte-chemica...</td>\n",
       "      <td>D</td>\n",
       "      <td>GREENVILLE</td>\n",
       "      <td>WASHINGTON</td>\n",
       "      <td>MS</td>\n",
       "      <td>38701</td>\n",
       "      <td>MULTIPOLYGON (((-91.05367 33.41172, -91.05336 ...</td>\n",
       "    </tr>\n",
       "    <tr>\n",
       "      <th>2</th>\n",
       "      <td>Superfund Remedial</td>\n",
       "      <td>MSD980840045</td>\n",
       "      <td>NEWSOM BROTHERS/OLD REICHHOLD CHEMICALS, INC.</td>\n",
       "      <td>0.106864</td>\n",
       "      <td>Square Miles</td>\n",
       "      <td>https://www.epa.gov/superfund/newsom-brothers</td>\n",
       "      <td>D</td>\n",
       "      <td>COLUMBIA</td>\n",
       "      <td>MARION</td>\n",
       "      <td>MS</td>\n",
       "      <td>39429</td>\n",
       "      <td>MULTIPOLYGON (((-89.83172 31.24718, -89.82803 ...</td>\n",
       "    </tr>\n",
       "    <tr>\n",
       "      <th>3</th>\n",
       "      <td>Superfund Remedial</td>\n",
       "      <td>MSD008154486</td>\n",
       "      <td>CHEMFAX, INC.</td>\n",
       "      <td>0.030808</td>\n",
       "      <td>Square Miles</td>\n",
       "      <td>https://www.epa.gov/superfund/chemfax</td>\n",
       "      <td>F</td>\n",
       "      <td>GULFPORT</td>\n",
       "      <td>HARRISON</td>\n",
       "      <td>MS</td>\n",
       "      <td>39505</td>\n",
       "      <td>MULTIPOLYGON (((-89.09194 30.4285, -89.08924 3...</td>\n",
       "    </tr>\n",
       "    <tr>\n",
       "      <th>4</th>\n",
       "      <td>Superfund Remedial</td>\n",
       "      <td>MSD000828558</td>\n",
       "      <td>SOUTHEASTERN WOOD PRESERVING</td>\n",
       "      <td>0.052808</td>\n",
       "      <td>Square Miles</td>\n",
       "      <td>https://www.epa.gov/superfund/southeastern-woo...</td>\n",
       "      <td>F</td>\n",
       "      <td>CANTON</td>\n",
       "      <td>MADISON</td>\n",
       "      <td>MS</td>\n",
       "      <td>39046</td>\n",
       "      <td>MULTIPOLYGON (((-90.01943 32.61852, -90.01559 ...</td>\n",
       "    </tr>\n",
       "    <tr>\n",
       "      <th>5</th>\n",
       "      <td>Superfund Remedial</td>\n",
       "      <td>MSD000272385</td>\n",
       "      <td>RED PANTHER CHEMICAL COMPANY</td>\n",
       "      <td>0.013329</td>\n",
       "      <td>Square Miles</td>\n",
       "      <td>https://www.epa.gov/superfund/red-panther-chem...</td>\n",
       "      <td>D</td>\n",
       "      <td>CLARKSDALE</td>\n",
       "      <td>COAHOMA</td>\n",
       "      <td>MS</td>\n",
       "      <td>38614</td>\n",
       "      <td>MULTIPOLYGON (((-90.56292 34.18858, -90.56229 ...</td>\n",
       "    </tr>\n",
       "    <tr>\n",
       "      <th>6</th>\n",
       "      <td>Superfund Remedial</td>\n",
       "      <td>MSD990866329</td>\n",
       "      <td>KERR-MCGEE CHEMICAL CORP - COLUMBUS</td>\n",
       "      <td>0.101956</td>\n",
       "      <td>Square Miles</td>\n",
       "      <td>https://www.epa.gov/superfund/kerr-mcgee-chemi...</td>\n",
       "      <td>F</td>\n",
       "      <td>COLUMBUS</td>\n",
       "      <td>LOWNDES</td>\n",
       "      <td>MS</td>\n",
       "      <td>39701</td>\n",
       "      <td>MULTIPOLYGON (((-88.41026 33.51039, -88.40898 ...</td>\n",
       "    </tr>\n",
       "    <tr>\n",
       "      <th>7</th>\n",
       "      <td>Superfund Remedial</td>\n",
       "      <td>MSD004006995</td>\n",
       "      <td>AMERICAN CREOSOTE WORKS INC (LOUISVILLE)</td>\n",
       "      <td>0.227193</td>\n",
       "      <td>Square Miles</td>\n",
       "      <td>https://www.epa.gov/superfund/american-creosot...</td>\n",
       "      <td>F</td>\n",
       "      <td>LOUISVILLE</td>\n",
       "      <td>WINSTON</td>\n",
       "      <td>MS</td>\n",
       "      <td>39339</td>\n",
       "      <td>MULTIPOLYGON (((-89.06084 33.11378, -89.06047 ...</td>\n",
       "    </tr>\n",
       "    <tr>\n",
       "      <th>8</th>\n",
       "      <td>Superfund Remedial</td>\n",
       "      <td>MSD046497012</td>\n",
       "      <td>DAVIS TIMBER COMPANY</td>\n",
       "      <td>0.040010</td>\n",
       "      <td>Square Miles</td>\n",
       "      <td>https://www.epa.gov/superfund/davis-timber</td>\n",
       "      <td>D</td>\n",
       "      <td>HATTIESBURG</td>\n",
       "      <td>LAMAR</td>\n",
       "      <td>MS</td>\n",
       "      <td>39401</td>\n",
       "      <td>MULTIPOLYGON (((-89.40309 31.34649, -89.39912 ...</td>\n",
       "    </tr>\n",
       "    <tr>\n",
       "      <th>9</th>\n",
       "      <td>Superfund Remedial</td>\n",
       "      <td>MSD980710941</td>\n",
       "      <td>FLOWOOD SITE</td>\n",
       "      <td>0.076644</td>\n",
       "      <td>Square Miles</td>\n",
       "      <td>https://www.epa.gov/superfund/flowood</td>\n",
       "      <td>D</td>\n",
       "      <td>FLOWOOD</td>\n",
       "      <td>RANKIN</td>\n",
       "      <td>MS</td>\n",
       "      <td>39208</td>\n",
       "      <td>MULTIPOLYGON (((-90.1449 32.30375, -90.14488 3...</td>\n",
       "    </tr>\n",
       "    <tr>\n",
       "      <th>10</th>\n",
       "      <td>Superfund Remedial</td>\n",
       "      <td>MSD065490930</td>\n",
       "      <td>PICAYUNE WOOD TREATING SITE</td>\n",
       "      <td>0.089054</td>\n",
       "      <td>Square Miles</td>\n",
       "      <td>https://www.epa.gov/superfund/picayune-wood-tr...</td>\n",
       "      <td>F</td>\n",
       "      <td>PICAYUNE</td>\n",
       "      <td>PEARL RIVER</td>\n",
       "      <td>MS</td>\n",
       "      <td>39466</td>\n",
       "      <td>MULTIPOLYGON (((-89.69367 30.52354, -89.69423 ...</td>\n",
       "    </tr>\n",
       "    <tr>\n",
       "      <th>11</th>\n",
       "      <td>Superfund Remedial</td>\n",
       "      <td>MSD086556388</td>\n",
       "      <td>SONFORD PRODUCTS</td>\n",
       "      <td>0.036070</td>\n",
       "      <td>Square Miles</td>\n",
       "      <td>https://www.epa.gov/superfund/sonford-products</td>\n",
       "      <td>F</td>\n",
       "      <td>FLOWOOD</td>\n",
       "      <td>RANKIN</td>\n",
       "      <td>MS</td>\n",
       "      <td>39208-3227</td>\n",
       "      <td>MULTIPOLYGON (((-90.14503 32.29405, -90.14479 ...</td>\n",
       "    </tr>\n",
       "    <tr>\n",
       "      <th>12</th>\n",
       "      <td>Superfund Remedial</td>\n",
       "      <td>MSD007037278</td>\n",
       "      <td>ROCKWELL INTERNATIONAL WHEEL &amp; TRIM</td>\n",
       "      <td>0.192255</td>\n",
       "      <td>Square Miles</td>\n",
       "      <td>https://www.epa.gov/superfund/rockwell-intl-wheel</td>\n",
       "      <td>F</td>\n",
       "      <td>GRENADA</td>\n",
       "      <td>GRENADA</td>\n",
       "      <td>MS</td>\n",
       "      <td>38901</td>\n",
       "      <td>MULTIPOLYGON (((-89.80233 33.80598, -89.80157 ...</td>\n",
       "    </tr>\n",
       "    <tr>\n",
       "      <th>13</th>\n",
       "      <td>Superfund Remedial</td>\n",
       "      <td>MSN000403508</td>\n",
       "      <td>MISSISSIPPI PHOSPHATES CORPORATION</td>\n",
       "      <td>1.705876</td>\n",
       "      <td>Square Miles</td>\n",
       "      <td>https://www.epa.gov/superfund/ms-phosphates-corp</td>\n",
       "      <td>F</td>\n",
       "      <td>PASCAGOULA</td>\n",
       "      <td>JACKSON</td>\n",
       "      <td>MS</td>\n",
       "      <td>39581</td>\n",
       "      <td>MULTIPOLYGON (((-88.4959 30.36959, -88.49859 3...</td>\n",
       "    </tr>\n",
       "  </tbody>\n",
       "</table>\n",
       "</div>"
      ],
      "text/plain": [
       "           EPA_PROGRAM        EPA_ID  \\\n",
       "0   Superfund Remedial  MSD056029648   \n",
       "1   Superfund Remedial  MSD980601736   \n",
       "2   Superfund Remedial  MSD980840045   \n",
       "3   Superfund Remedial  MSD008154486   \n",
       "4   Superfund Remedial  MSD000828558   \n",
       "5   Superfund Remedial  MSD000272385   \n",
       "6   Superfund Remedial  MSD990866329   \n",
       "7   Superfund Remedial  MSD004006995   \n",
       "8   Superfund Remedial  MSD046497012   \n",
       "9   Superfund Remedial  MSD980710941   \n",
       "10  Superfund Remedial  MSD065490930   \n",
       "11  Superfund Remedial  MSD086556388   \n",
       "12  Superfund Remedial  MSD007037278   \n",
       "13  Superfund Remedial  MSN000403508   \n",
       "\n",
       "                                        SITE_NAME  GIS_AREA GIS_AREA_UNITS  \\\n",
       "0                                      POTTER CO.  0.012505   Square Miles   \n",
       "1                WALCOTTE CHEMICAL CO. WAREHOUSES  0.001875   Square Miles   \n",
       "2   NEWSOM BROTHERS/OLD REICHHOLD CHEMICALS, INC.  0.106864   Square Miles   \n",
       "3                                   CHEMFAX, INC.  0.030808   Square Miles   \n",
       "4                    SOUTHEASTERN WOOD PRESERVING  0.052808   Square Miles   \n",
       "5                    RED PANTHER CHEMICAL COMPANY  0.013329   Square Miles   \n",
       "6             KERR-MCGEE CHEMICAL CORP - COLUMBUS  0.101956   Square Miles   \n",
       "7        AMERICAN CREOSOTE WORKS INC (LOUISVILLE)  0.227193   Square Miles   \n",
       "8                            DAVIS TIMBER COMPANY  0.040010   Square Miles   \n",
       "9                                    FLOWOOD SITE  0.076644   Square Miles   \n",
       "10                    PICAYUNE WOOD TREATING SITE  0.089054   Square Miles   \n",
       "11                               SONFORD PRODUCTS  0.036070   Square Miles   \n",
       "12            ROCKWELL INTERNATIONAL WHEEL & TRIM  0.192255   Square Miles   \n",
       "13             MISSISSIPPI PHOSPHATES CORPORATION  1.705876   Square Miles   \n",
       "\n",
       "                                        URL_ALIAS_TXT NPL_STATUS_CODE  \\\n",
       "0                https://www.epa.gov/superfund/Potter               R   \n",
       "1   https://www.epa.gov/superfund/walcotte-chemica...               D   \n",
       "2       https://www.epa.gov/superfund/newsom-brothers               D   \n",
       "3               https://www.epa.gov/superfund/chemfax               F   \n",
       "4   https://www.epa.gov/superfund/southeastern-woo...               F   \n",
       "5   https://www.epa.gov/superfund/red-panther-chem...               D   \n",
       "6   https://www.epa.gov/superfund/kerr-mcgee-chemi...               F   \n",
       "7   https://www.epa.gov/superfund/american-creosot...               F   \n",
       "8          https://www.epa.gov/superfund/davis-timber               D   \n",
       "9               https://www.epa.gov/superfund/flowood               D   \n",
       "10  https://www.epa.gov/superfund/picayune-wood-tr...               F   \n",
       "11     https://www.epa.gov/superfund/sonford-products               F   \n",
       "12  https://www.epa.gov/superfund/rockwell-intl-wheel               F   \n",
       "13   https://www.epa.gov/superfund/ms-phosphates-corp               F   \n",
       "\n",
       "      CITY_NAME       COUNTY STATE_CODE    ZIP_CODE  \\\n",
       "0        WESSON       COPIAH         MS       39191   \n",
       "1    GREENVILLE   WASHINGTON         MS       38701   \n",
       "2      COLUMBIA       MARION         MS       39429   \n",
       "3      GULFPORT     HARRISON         MS       39505   \n",
       "4        CANTON      MADISON         MS       39046   \n",
       "5    CLARKSDALE      COAHOMA         MS       38614   \n",
       "6      COLUMBUS      LOWNDES         MS       39701   \n",
       "7    LOUISVILLE      WINSTON         MS       39339   \n",
       "8   HATTIESBURG        LAMAR         MS       39401   \n",
       "9       FLOWOOD       RANKIN         MS       39208   \n",
       "10     PICAYUNE  PEARL RIVER         MS       39466   \n",
       "11      FLOWOOD       RANKIN         MS  39208-3227   \n",
       "12      GRENADA      GRENADA         MS       38901   \n",
       "13   PASCAGOULA      JACKSON         MS       39581   \n",
       "\n",
       "                                             geometry  \n",
       "0   MULTIPOLYGON (((-90.39347 31.71068, -90.39161 ...  \n",
       "1   MULTIPOLYGON (((-91.05367 33.41172, -91.05336 ...  \n",
       "2   MULTIPOLYGON (((-89.83172 31.24718, -89.82803 ...  \n",
       "3   MULTIPOLYGON (((-89.09194 30.4285, -89.08924 3...  \n",
       "4   MULTIPOLYGON (((-90.01943 32.61852, -90.01559 ...  \n",
       "5   MULTIPOLYGON (((-90.56292 34.18858, -90.56229 ...  \n",
       "6   MULTIPOLYGON (((-88.41026 33.51039, -88.40898 ...  \n",
       "7   MULTIPOLYGON (((-89.06084 33.11378, -89.06047 ...  \n",
       "8   MULTIPOLYGON (((-89.40309 31.34649, -89.39912 ...  \n",
       "9   MULTIPOLYGON (((-90.1449 32.30375, -90.14488 3...  \n",
       "10  MULTIPOLYGON (((-89.69367 30.52354, -89.69423 ...  \n",
       "11  MULTIPOLYGON (((-90.14503 32.29405, -90.14479 ...  \n",
       "12  MULTIPOLYGON (((-89.80233 33.80598, -89.80157 ...  \n",
       "13  MULTIPOLYGON (((-88.4959 30.36959, -88.49859 3...  "
      ]
     },
     "execution_count": 13,
     "metadata": {},
     "output_type": "execute_result"
    }
   ],
   "source": [
    "sites=gpd.read_file('data/EPA_superfund_boundaries/MS_EPA_NPL_Site_Boundaries.gdb')\n",
    "sites"
   ]
  },
  {
   "cell_type": "code",
   "execution_count": 14,
   "id": "5a40d4f4-04c1-46d6-a34f-4ffd7c4f3b1d",
   "metadata": {},
   "outputs": [
    {
     "data": {
      "text/plain": [
       "<Geographic 2D CRS: EPSG:4326>\n",
       "Name: WGS 84\n",
       "Axis Info [ellipsoidal]:\n",
       "- Lat[north]: Geodetic latitude (degree)\n",
       "- Lon[east]: Geodetic longitude (degree)\n",
       "Area of Use:\n",
       "- name: World.\n",
       "- bounds: (-180.0, -90.0, 180.0, 90.0)\n",
       "Datum: World Geodetic System 1984 ensemble\n",
       "- Ellipsoid: WGS 84\n",
       "- Prime Meridian: Greenwich"
      ]
     },
     "execution_count": 14,
     "metadata": {},
     "output_type": "execute_result"
    }
   ],
   "source": [
    "sites.crs"
   ]
  },
  {
   "cell_type": "code",
   "execution_count": 15,
   "id": "c9d064ed-bab4-4fe3-a366-0a128045fbd6",
   "metadata": {},
   "outputs": [],
   "source": [
    "sites.to_crs('epsg:5070',inplace=True)"
   ]
  },
  {
   "cell_type": "code",
   "execution_count": 16,
   "id": "5169deb2-1fe0-48b8-acd4-ef5509f6fa95",
   "metadata": {},
   "outputs": [
    {
     "data": {
      "text/plain": [
       "<Axes: >"
      ]
     },
     "execution_count": 16,
     "metadata": {},
     "output_type": "execute_result"
    },
    {
     "data": {
      "image/png": "[encoded data removed]",
      "text/plain": [
       "<Figure size 640x480 with 1 Axes>"
      ]
     },
     "metadata": {},
     "output_type": "display_data"
    }
   ],
   "source": [
    "ax = gdf_states.plot(facecolor='none',edgecolor='black',lw=0.5)\n",
    "gdf_rivers.plot(ax=ax,color='blue')\n",
    "sites.plot(ax=ax,color='orange')"
   ]
  },
  {
   "cell_type": "markdown",
   "id": "c4dff221-2bb8-4aa6-b7ab-8e8632e22f57",
   "metadata": {},
   "source": [
    "What happened, why can't we see the orange sites? If we were using a fancier package for plotting we could zoom in and see them, but with this simple static plotting the sites are too small to see at this scale.  Let's find the polygon centroids and plot the points on this map instead."
   ]
  },
  {
   "cell_type": "code",
   "execution_count": 17,
   "id": "5e1200d4-db80-4179-abf0-470362e126ef",
   "metadata": {},
   "outputs": [
    {
     "data": {
      "text/html": [
       "<div>\n",
       "<style scoped>\n",
       "    .dataframe tbody tr th:only-of-type {\n",
       "        vertical-align: middle;\n",
       "    }\n",
       "\n",
       "    .dataframe tbody tr th {\n",
       "        vertical-align: top;\n",
       "    }\n",
       "\n",
       "    .dataframe thead th {\n",
       "        text-align: right;\n",
       "    }\n",
       "</style>\n",
       "<table border=\"1\" class=\"dataframe\">\n",
       "  <thead>\n",
       "    <tr style=\"text-align: right;\">\n",
       "      <th></th>\n",
       "      <th>EPA_PROGRAM</th>\n",
       "      <th>EPA_ID</th>\n",
       "      <th>SITE_NAME</th>\n",
       "      <th>GIS_AREA</th>\n",
       "      <th>GIS_AREA_UNITS</th>\n",
       "      <th>URL_ALIAS_TXT</th>\n",
       "      <th>NPL_STATUS_CODE</th>\n",
       "      <th>CITY_NAME</th>\n",
       "      <th>COUNTY</th>\n",
       "      <th>STATE_CODE</th>\n",
       "      <th>ZIP_CODE</th>\n",
       "      <th>geometry</th>\n",
       "      <th>centroid</th>\n",
       "    </tr>\n",
       "  </thead>\n",
       "  <tbody>\n",
       "    <tr>\n",
       "      <th>0</th>\n",
       "      <td>Superfund Remedial</td>\n",
       "      <td>MSD056029648</td>\n",
       "      <td>POTTER CO.</td>\n",
       "      <td>0.012505</td>\n",
       "      <td>Square Miles</td>\n",
       "      <td>https://www.epa.gov/superfund/Potter</td>\n",
       "      <td>R</td>\n",
       "      <td>WESSON</td>\n",
       "      <td>COPIAH</td>\n",
       "      <td>MS</td>\n",
       "      <td>39191</td>\n",
       "      <td>MULTIPOLYGON (((528846.456 975159.623, 529024....</td>\n",
       "      <td>POINT (528900.434 975036.499)</td>\n",
       "    </tr>\n",
       "    <tr>\n",
       "      <th>1</th>\n",
       "      <td>Superfund Remedial</td>\n",
       "      <td>MSD980601736</td>\n",
       "      <td>WALCOTTE CHEMICAL CO. WAREHOUSES</td>\n",
       "      <td>0.001875</td>\n",
       "      <td>Square Miles</td>\n",
       "      <td>https://www.epa.gov/superfund/walcotte-chemica...</td>\n",
       "      <td>D</td>\n",
       "      <td>GREENVILLE</td>\n",
       "      <td>WASHINGTON</td>\n",
       "      <td>MS</td>\n",
       "      <td>38701</td>\n",
       "      <td>MULTIPOLYGON (((456762.356 1161146.457, 456792...</td>\n",
       "      <td>POINT (456738.236 1161074.926)</td>\n",
       "    </tr>\n",
       "    <tr>\n",
       "      <th>2</th>\n",
       "      <td>Superfund Remedial</td>\n",
       "      <td>MSD980840045</td>\n",
       "      <td>NEWSOM BROTHERS/OLD REICHHOLD CHEMICALS, INC.</td>\n",
       "      <td>0.106864</td>\n",
       "      <td>Square Miles</td>\n",
       "      <td>https://www.epa.gov/superfund/newsom-brothers</td>\n",
       "      <td>D</td>\n",
       "      <td>COLUMBIA</td>\n",
       "      <td>MARION</td>\n",
       "      <td>MS</td>\n",
       "      <td>39429</td>\n",
       "      <td>MULTIPOLYGON (((585109.787 926957.316, 585458....</td>\n",
       "      <td>POINT (585592.82 926721.66)</td>\n",
       "    </tr>\n",
       "    <tr>\n",
       "      <th>3</th>\n",
       "      <td>Superfund Remedial</td>\n",
       "      <td>MSD008154486</td>\n",
       "      <td>CHEMFAX, INC.</td>\n",
       "      <td>0.030808</td>\n",
       "      <td>Square Miles</td>\n",
       "      <td>https://www.epa.gov/superfund/chemfax</td>\n",
       "      <td>F</td>\n",
       "      <td>GULFPORT</td>\n",
       "      <td>HARRISON</td>\n",
       "      <td>MS</td>\n",
       "      <td>39505</td>\n",
       "      <td>MULTIPOLYGON (((661776.408 841012.053, 662011....</td>\n",
       "      <td>POINT (662013.455 841156.905)</td>\n",
       "    </tr>\n",
       "    <tr>\n",
       "      <th>4</th>\n",
       "      <td>Superfund Remedial</td>\n",
       "      <td>MSD000828558</td>\n",
       "      <td>SOUTHEASTERN WOOD PRESERVING</td>\n",
       "      <td>0.052808</td>\n",
       "      <td>Square Miles</td>\n",
       "      <td>https://www.epa.gov/superfund/southeastern-woo...</td>\n",
       "      <td>F</td>\n",
       "      <td>CANTON</td>\n",
       "      <td>MADISON</td>\n",
       "      <td>MS</td>\n",
       "      <td>39046</td>\n",
       "      <td>MULTIPOLYGON (((557719.87 1078287.363, 558078....</td>\n",
       "      <td>POINT (557961.9 1078231.921)</td>\n",
       "    </tr>\n",
       "    <tr>\n",
       "      <th>5</th>\n",
       "      <td>Superfund Remedial</td>\n",
       "      <td>MSD000272385</td>\n",
       "      <td>RED PANTHER CHEMICAL COMPANY</td>\n",
       "      <td>0.013329</td>\n",
       "      <td>Square Miles</td>\n",
       "      <td>https://www.epa.gov/superfund/red-panther-chem...</td>\n",
       "      <td>D</td>\n",
       "      <td>CLARKSDALE</td>\n",
       "      <td>COAHOMA</td>\n",
       "      <td>MS</td>\n",
       "      <td>38614</td>\n",
       "      <td>MULTIPOLYGON (((497070.009 1250277.929, 497129...</td>\n",
       "      <td>POINT (497157.767 1250143.565)</td>\n",
       "    </tr>\n",
       "    <tr>\n",
       "      <th>6</th>\n",
       "      <td>Superfund Remedial</td>\n",
       "      <td>MSD990866329</td>\n",
       "      <td>KERR-MCGEE CHEMICAL CORP - COLUMBUS</td>\n",
       "      <td>0.101956</td>\n",
       "      <td>Square Miles</td>\n",
       "      <td>https://www.epa.gov/superfund/kerr-mcgee-chemi...</td>\n",
       "      <td>F</td>\n",
       "      <td>COLUMBUS</td>\n",
       "      <td>LOWNDES</td>\n",
       "      <td>MS</td>\n",
       "      <td>39701</td>\n",
       "      <td>MULTIPOLYGON (((699556.86 1188225.895, 699674....</td>\n",
       "      <td>POINT (700002.706 1188255.288)</td>\n",
       "    </tr>\n",
       "    <tr>\n",
       "      <th>7</th>\n",
       "      <td>Superfund Remedial</td>\n",
       "      <td>MSD004006995</td>\n",
       "      <td>AMERICAN CREOSOTE WORKS INC (LOUISVILLE)</td>\n",
       "      <td>0.227193</td>\n",
       "      <td>Square Miles</td>\n",
       "      <td>https://www.epa.gov/superfund/american-creosot...</td>\n",
       "      <td>F</td>\n",
       "      <td>LOUISVILLE</td>\n",
       "      <td>WINSTON</td>\n",
       "      <td>MS</td>\n",
       "      <td>39339</td>\n",
       "      <td>MULTIPOLYGON (((642934.455 1139477.198, 642968...</td>\n",
       "      <td>POINT (643097.268 1138951.508)</td>\n",
       "    </tr>\n",
       "    <tr>\n",
       "      <th>8</th>\n",
       "      <td>Superfund Remedial</td>\n",
       "      <td>MSD046497012</td>\n",
       "      <td>DAVIS TIMBER COMPANY</td>\n",
       "      <td>0.040010</td>\n",
       "      <td>Square Miles</td>\n",
       "      <td>https://www.epa.gov/superfund/davis-timber</td>\n",
       "      <td>D</td>\n",
       "      <td>HATTIESBURG</td>\n",
       "      <td>LAMAR</td>\n",
       "      <td>MS</td>\n",
       "      <td>39401</td>\n",
       "      <td>MULTIPOLYGON (((624938.893 940712.324, 625314....</td>\n",
       "      <td>POINT (625126.479 940583.052)</td>\n",
       "    </tr>\n",
       "    <tr>\n",
       "      <th>9</th>\n",
       "      <td>Superfund Remedial</td>\n",
       "      <td>MSD980710941</td>\n",
       "      <td>FLOWOOD SITE</td>\n",
       "      <td>0.076644</td>\n",
       "      <td>Square Miles</td>\n",
       "      <td>https://www.epa.gov/superfund/flowood</td>\n",
       "      <td>D</td>\n",
       "      <td>FLOWOOD</td>\n",
       "      <td>RANKIN</td>\n",
       "      <td>MS</td>\n",
       "      <td>39208</td>\n",
       "      <td>MULTIPOLYGON (((548194.945 1042527.015, 548203...</td>\n",
       "      <td>POINT (548240.763 1042210.438)</td>\n",
       "    </tr>\n",
       "    <tr>\n",
       "      <th>10</th>\n",
       "      <td>Superfund Remedial</td>\n",
       "      <td>MSD065490930</td>\n",
       "      <td>PICAYUNE WOOD TREATING SITE</td>\n",
       "      <td>0.089054</td>\n",
       "      <td>Square Miles</td>\n",
       "      <td>https://www.epa.gov/superfund/picayune-wood-tr...</td>\n",
       "      <td>F</td>\n",
       "      <td>PICAYUNE</td>\n",
       "      <td>PEARL RIVER</td>\n",
       "      <td>MS</td>\n",
       "      <td>39466</td>\n",
       "      <td>MULTIPOLYGON (((603520.682 847538.368, 603467....</td>\n",
       "      <td>POINT (603987.237 847614.857)</td>\n",
       "    </tr>\n",
       "    <tr>\n",
       "      <th>11</th>\n",
       "      <td>Superfund Remedial</td>\n",
       "      <td>MSD086556388</td>\n",
       "      <td>SONFORD PRODUCTS</td>\n",
       "      <td>0.036070</td>\n",
       "      <td>Square Miles</td>\n",
       "      <td>https://www.epa.gov/superfund/sonford-products</td>\n",
       "      <td>F</td>\n",
       "      <td>FLOWOOD</td>\n",
       "      <td>RANKIN</td>\n",
       "      <td>MS</td>\n",
       "      <td>39208-3227</td>\n",
       "      <td>MULTIPOLYGON (((548250.068 1041447.334, 548271...</td>\n",
       "      <td>POINT (548418.563 1041315.261)</td>\n",
       "    </tr>\n",
       "    <tr>\n",
       "      <th>12</th>\n",
       "      <td>Superfund Remedial</td>\n",
       "      <td>MSD007037278</td>\n",
       "      <td>ROCKWELL INTERNATIONAL WHEEL &amp; TRIM</td>\n",
       "      <td>0.192255</td>\n",
       "      <td>Square Miles</td>\n",
       "      <td>https://www.epa.gov/superfund/rockwell-intl-wheel</td>\n",
       "      <td>F</td>\n",
       "      <td>GRENADA</td>\n",
       "      <td>GRENADA</td>\n",
       "      <td>MS</td>\n",
       "      <td>38901</td>\n",
       "      <td>MULTIPOLYGON (((569298.019 1211866.867, 569371...</td>\n",
       "      <td>POINT (569234.738 1211557.605)</td>\n",
       "    </tr>\n",
       "    <tr>\n",
       "      <th>13</th>\n",
       "      <td>Superfund Remedial</td>\n",
       "      <td>MSN000403508</td>\n",
       "      <td>MISSISSIPPI PHOSPHATES CORPORATION</td>\n",
       "      <td>1.705876</td>\n",
       "      <td>Square Miles</td>\n",
       "      <td>https://www.epa.gov/superfund/ms-phosphates-corp</td>\n",
       "      <td>F</td>\n",
       "      <td>PASCAGOULA</td>\n",
       "      <td>JACKSON</td>\n",
       "      <td>MS</td>\n",
       "      <td>39581</td>\n",
       "      <td>MULTIPOLYGON (((719278.081 838819.361, 719043....</td>\n",
       "      <td>POINT (719314.212 838767.746)</td>\n",
       "    </tr>\n",
       "  </tbody>\n",
       "</table>\n",
       "</div>"
      ],
      "text/plain": [
       "           EPA_PROGRAM        EPA_ID  \\\n",
       "0   Superfund Remedial  MSD056029648   \n",
       "1   Superfund Remedial  MSD980601736   \n",
       "2   Superfund Remedial  MSD980840045   \n",
       "3   Superfund Remedial  MSD008154486   \n",
       "4   Superfund Remedial  MSD000828558   \n",
       "5   Superfund Remedial  MSD000272385   \n",
       "6   Superfund Remedial  MSD990866329   \n",
       "7   Superfund Remedial  MSD004006995   \n",
       "8   Superfund Remedial  MSD046497012   \n",
       "9   Superfund Remedial  MSD980710941   \n",
       "10  Superfund Remedial  MSD065490930   \n",
       "11  Superfund Remedial  MSD086556388   \n",
       "12  Superfund Remedial  MSD007037278   \n",
       "13  Superfund Remedial  MSN000403508   \n",
       "\n",
       "                                        SITE_NAME  GIS_AREA GIS_AREA_UNITS  \\\n",
       "0                                      POTTER CO.  0.012505   Square Miles   \n",
       "1                WALCOTTE CHEMICAL CO. WAREHOUSES  0.001875   Square Miles   \n",
       "2   NEWSOM BROTHERS/OLD REICHHOLD CHEMICALS, INC.  0.106864   Square Miles   \n",
       "3                                   CHEMFAX, INC.  0.030808   Square Miles   \n",
       "4                    SOUTHEASTERN WOOD PRESERVING  0.052808   Square Miles   \n",
       "5                    RED PANTHER CHEMICAL COMPANY  0.013329   Square Miles   \n",
       "6             KERR-MCGEE CHEMICAL CORP - COLUMBUS  0.101956   Square Miles   \n",
       "7        AMERICAN CREOSOTE WORKS INC (LOUISVILLE)  0.227193   Square Miles   \n",
       "8                            DAVIS TIMBER COMPANY  0.040010   Square Miles   \n",
       "9                                    FLOWOOD SITE  0.076644   Square Miles   \n",
       "10                    PICAYUNE WOOD TREATING SITE  0.089054   Square Miles   \n",
       "11                               SONFORD PRODUCTS  0.036070   Square Miles   \n",
       "12            ROCKWELL INTERNATIONAL WHEEL & TRIM  0.192255   Square Miles   \n",
       "13             MISSISSIPPI PHOSPHATES CORPORATION  1.705876   Square Miles   \n",
       "\n",
       "                                        URL_ALIAS_TXT NPL_STATUS_CODE  \\\n",
       "0                https://www.epa.gov/superfund/Potter               R   \n",
       "1   https://www.epa.gov/superfund/walcotte-chemica...               D   \n",
       "2       https://www.epa.gov/superfund/newsom-brothers               D   \n",
       "3               https://www.epa.gov/superfund/chemfax               F   \n",
       "4   https://www.epa.gov/superfund/southeastern-woo...               F   \n",
       "5   https://www.epa.gov/superfund/red-panther-chem...               D   \n",
       "6   https://www.epa.gov/superfund/kerr-mcgee-chemi...               F   \n",
       "7   https://www.epa.gov/superfund/american-creosot...               F   \n",
       "8          https://www.epa.gov/superfund/davis-timber               D   \n",
       "9               https://www.epa.gov/superfund/flowood               D   \n",
       "10  https://www.epa.gov/superfund/picayune-wood-tr...               F   \n",
       "11     https://www.epa.gov/superfund/sonford-products               F   \n",
       "12  https://www.epa.gov/superfund/rockwell-intl-wheel               F   \n",
       "13   https://www.epa.gov/superfund/ms-phosphates-corp               F   \n",
       "\n",
       "      CITY_NAME       COUNTY STATE_CODE    ZIP_CODE  \\\n",
       "0        WESSON       COPIAH         MS       39191   \n",
       "1    GREENVILLE   WASHINGTON         MS       38701   \n",
       "2      COLUMBIA       MARION         MS       39429   \n",
       "3      GULFPORT     HARRISON         MS       39505   \n",
       "4        CANTON      MADISON         MS       39046   \n",
       "5    CLARKSDALE      COAHOMA         MS       38614   \n",
       "6      COLUMBUS      LOWNDES         MS       39701   \n",
       "7    LOUISVILLE      WINSTON         MS       39339   \n",
       "8   HATTIESBURG        LAMAR         MS       39401   \n",
       "9       FLOWOOD       RANKIN         MS       39208   \n",
       "10     PICAYUNE  PEARL RIVER         MS       39466   \n",
       "11      FLOWOOD       RANKIN         MS  39208-3227   \n",
       "12      GRENADA      GRENADA         MS       38901   \n",
       "13   PASCAGOULA      JACKSON         MS       39581   \n",
       "\n",
       "                                             geometry  \\\n",
       "0   MULTIPOLYGON (((528846.456 975159.623, 529024....   \n",
       "1   MULTIPOLYGON (((456762.356 1161146.457, 456792...   \n",
       "2   MULTIPOLYGON (((585109.787 926957.316, 585458....   \n",
       "3   MULTIPOLYGON (((661776.408 841012.053, 662011....   \n",
       "4   MULTIPOLYGON (((557719.87 1078287.363, 558078....   \n",
       "5   MULTIPOLYGON (((497070.009 1250277.929, 497129...   \n",
       "6   MULTIPOLYGON (((699556.86 1188225.895, 699674....   \n",
       "7   MULTIPOLYGON (((642934.455 1139477.198, 642968...   \n",
       "8   MULTIPOLYGON (((624938.893 940712.324, 625314....   \n",
       "9   MULTIPOLYGON (((548194.945 1042527.015, 548203...   \n",
       "10  MULTIPOLYGON (((603520.682 847538.368, 603467....   \n",
       "11  MULTIPOLYGON (((548250.068 1041447.334, 548271...   \n",
       "12  MULTIPOLYGON (((569298.019 1211866.867, 569371...   \n",
       "13  MULTIPOLYGON (((719278.081 838819.361, 719043....   \n",
       "\n",
       "                          centroid  \n",
       "0    POINT (528900.434 975036.499)  \n",
       "1   POINT (456738.236 1161074.926)  \n",
       "2      POINT (585592.82 926721.66)  \n",
       "3    POINT (662013.455 841156.905)  \n",
       "4     POINT (557961.9 1078231.921)  \n",
       "5   POINT (497157.767 1250143.565)  \n",
       "6   POINT (700002.706 1188255.288)  \n",
       "7   POINT (643097.268 1138951.508)  \n",
       "8    POINT (625126.479 940583.052)  \n",
       "9   POINT (548240.763 1042210.438)  \n",
       "10   POINT (603987.237 847614.857)  \n",
       "11  POINT (548418.563 1041315.261)  \n",
       "12  POINT (569234.738 1211557.605)  \n",
       "13   POINT (719314.212 838767.746)  "
      ]
     },
     "execution_count": 17,
     "metadata": {},
     "output_type": "execute_result"
    }
   ],
   "source": [
    "# create centroid points in the geometry column\n",
    "sites['centroid']=sites.geometry.centroid\n",
    "sites"
   ]
  },
  {
   "cell_type": "markdown",
   "id": "be9367d0-e7c6-4476-b21b-4fbee5df0bbf",
   "metadata": {},
   "source": [
    "Note, we can have more than one column that is a GeoSeries. If we print the data types of all the columns we should see that we have two GeoSeries now. "
   ]
  },
  {
   "cell_type": "code",
   "execution_count": 18,
   "id": "1ec1c3ef-cfd1-4cda-bfa8-15c83bcfea50",
   "metadata": {},
   "outputs": [
    {
     "data": {
      "text/plain": [
       "EPA_PROGRAM          object\n",
       "EPA_ID               object\n",
       "SITE_NAME            object\n",
       "GIS_AREA            float64\n",
       "GIS_AREA_UNITS       object\n",
       "URL_ALIAS_TXT        object\n",
       "NPL_STATUS_CODE      object\n",
       "CITY_NAME            object\n",
       "COUNTY               object\n",
       "STATE_CODE           object\n",
       "ZIP_CODE             object\n",
       "geometry           geometry\n",
       "centroid           geometry\n",
       "dtype: object"
      ]
     },
     "execution_count": 18,
     "metadata": {},
     "output_type": "execute_result"
    }
   ],
   "source": [
    "# check out the data types\n",
    "sites.dtypes"
   ]
  },
  {
   "cell_type": "markdown",
   "id": "14cb3a96-9fbb-4088-b366-87bb83780fab",
   "metadata": {},
   "source": [
    "The default behavior when plotting a GeoSeries in a GeoDataFrame is to plot whatever shapes are in the column named geometry. If you want to plot a different GeoSeries, you have to specify the column name like we do below with ```sites.centroid.plot()```"
   ]
  },
  {
   "cell_type": "code",
   "execution_count": 19,
   "id": "fd4d702b-81a2-4a58-8ea5-cc27719a6016",
   "metadata": {},
   "outputs": [
    {
     "data": {
      "text/plain": [
       "<Axes: >"
      ]
     },
     "execution_count": 19,
     "metadata": {},
     "output_type": "execute_result"
    },
    {
     "data": {
      "image/png": "[encoded data removed]",
      "text/plain": [
       "<Figure size 640x480 with 1 Axes>"
      ]
     },
     "metadata": {},
     "output_type": "display_data"
    }
   ],
   "source": [
    "ax = gdf_states.plot(facecolor='none',edgecolor='black')\n",
    "gdf_rivers.plot(ax=ax,color='blue')\n",
    "sites.centroid.plot(ax=ax,color='orange')"
   ]
  },
  {
   "cell_type": "code",
   "execution_count": null,
   "id": "f602ad76-62dc-486e-b1a6-21c09934ec56",
   "metadata": {},
   "outputs": [],
   "source": []
  },
  {
   "cell_type": "code",
   "execution_count": null,
   "id": "7e76b567-4bf6-43da-80c1-a041df552356",
   "metadata": {},
   "outputs": [],
   "source": []
  },
  {
   "cell_type": "code",
   "execution_count": null,
   "id": "a4869071-bf92-4248-9b26-19eda0c1f7b3",
   "metadata": {},
   "outputs": [],
   "source": []
  },
  {
   "cell_type": "code",
   "execution_count": null,
   "id": "f0b32f6e-6020-49b3-a3e1-3a34a8e9b4e2",
   "metadata": {},
   "outputs": [],
   "source": []
  },
  {
   "cell_type": "code",
   "execution_count": null,
   "id": "e904a3fa-7f26-4283-a2ac-dbc7408bffb1",
   "metadata": {},
   "outputs": [],
   "source": []
  },
  {
   "cell_type": "code",
   "execution_count": null,
   "id": "d8f23d16-d9bb-42f8-a871-e5de8db5b0ed",
   "metadata": {},
   "outputs": [],
   "source": []
  },
  {
   "cell_type": "code",
   "execution_count": null,
   "id": "f8036e62-bc00-4a58-849a-962d5a3e0385",
   "metadata": {},
   "outputs": [],
   "source": []
  },
  {
   "cell_type": "code",
   "execution_count": null,
   "id": "ffee4529-0c45-414d-ac11-993ff069265d",
   "metadata": {},
   "outputs": [],
   "source": [
    "import openpyxl\n",
    "import pandas as pd"
   ]
  },
  {
   "cell_type": "code",
   "execution_count": null,
   "id": "14f2536d-1b7a-43fe-8e3a-9c38c404bdf8",
   "metadata": {},
   "outputs": [],
   "source": [
    "df_toxic = pd.read_csv('data/epa_brownfields_ms/STATE_SINGLE_MS.csv')\n",
    "df_toxic"
   ]
  },
  {
   "cell_type": "code",
   "execution_count": null,
   "id": "0095f74e-0880-4168-a8c1-9c4de60d2ac0",
   "metadata": {},
   "outputs": [],
   "source": [
    "df_toxic.dropna(subset=['LATITUDE83','LONGITUDE83'],inplace=True)\n",
    "df_toxic"
   ]
  },
  {
   "cell_type": "code",
   "execution_count": null,
   "id": "4ff64ba7-9550-44f0-9faa-ed5289138e5d",
   "metadata": {},
   "outputs": [],
   "source": [
    "df_toxic.columns"
   ]
  },
  {
   "cell_type": "code",
   "execution_count": null,
   "id": "e57cc71d-e631-4d62-9944-0c00660ec414",
   "metadata": {},
   "outputs": [],
   "source": [
    "df_toxic.dropna(subset=['HDATUM_DESC'],inplace=True)\n",
    "df_toxic"
   ]
  },
  {
   "cell_type": "code",
   "execution_count": null,
   "id": "78265c34-c581-4daa-9013-98d6c2c8d281",
   "metadata": {},
   "outputs": [],
   "source": [
    "df_toxic.HDATUM_DESC.unique()"
   ]
  },
  {
   "cell_type": "code",
   "execution_count": null,
   "id": "c0a28e16-1a62-4d3b-a8c6-e5766c3cf8c7",
   "metadata": {},
   "outputs": [],
   "source": [
    "df_toxic.SITE_TYPE_NAME.unique()"
   ]
  },
  {
   "cell_type": "code",
   "execution_count": null,
   "id": "482183ef-73ca-4573-95c2-aed11b86b1f6",
   "metadata": {},
   "outputs": [],
   "source": []
  },
  {
   "cell_type": "code",
   "execution_count": null,
   "id": "d6f5f2a8-e609-47ea-a046-b9911412d7c9",
   "metadata": {},
   "outputs": [],
   "source": []
  },
  {
   "cell_type": "code",
   "execution_count": null,
   "id": "b01663f7-936e-437e-8a3a-b48c94d66520",
   "metadata": {},
   "outputs": [],
   "source": [
    "df_toxic.INTEREST_TYPES.unique()"
   ]
  },
  {
   "cell_type": "code",
   "execution_count": null,
   "id": "2da39d3f-1c52-4c33-bffa-7637a785dc8c",
   "metadata": {},
   "outputs": [],
   "source": [
    "df_toxic.INTEREST_TYPES.dtype"
   ]
  },
  {
   "cell_type": "code",
   "execution_count": null,
   "id": "d347e326-3c70-41d7-b92a-d3be944a56f5",
   "metadata": {},
   "outputs": [],
   "source": [
    "df_toxic.INTEREST_TYPES.fillna('',inplace=True)"
   ]
  },
  {
   "cell_type": "code",
   "execution_count": null,
   "id": "8de14cfb-dd12-446a-9703-2523926856ad",
   "metadata": {},
   "outputs": [],
   "source": [
    "df_toxic[df_toxic.INTEREST_TYPES.isin(['TRI REPORTER','TSCA SUBMITTER'])]\n",
    "# df_toxic.query(\"INTEREST_TYPES.str.contains('TRI')\")"
   ]
  },
  {
   "cell_type": "code",
   "execution_count": null,
   "id": "59206d88-869c-4c34-ae83-7b8afe1a6d77",
   "metadata": {},
   "outputs": [],
   "source": [
    "df_toxic.drop(columns=['LOCATION_ADDRESS', 'SUPPLEMENTAL_LOCATION', 'CITY_NAME','FIPS_CODE', 'STATE_CODE',\n",
    "                       'COUNTRY_NAME','EPA_REGION_CODE','CREATE_DATE', 'UPDATE_DATE', 'US_MEXICO_BORDER_IND',\n",
    "                       'CONVEYOR','COLLECT_DESC', 'ACCURACY_VALUE','SOURCE_DESC','PGM_SYS_ACRNMS',\n",
    "                       'NAICS_CODES', 'NAICS_CODE_DESCRIPTIONS','SIC_CODES','SIC_CODE_DESCRIPTIONS',\n",
    "                       'FEDERAL_FACILITY_CODE', 'FEDERAL_AGENCY_NAME', 'TRIBAL_LAND_CODE','TRIBAL_LAND_NAME',\n",
    "                       'LOCATION_DESCRIPTION'],inplace=True)\n",
    "df_toxic"
   ]
  },
  {
   "cell_type": "code",
   "execution_count": null,
   "id": "51744bab-2e58-407f-86a7-a9df85ce93ec",
   "metadata": {},
   "outputs": [],
   "source": [
    "df_toxic = df_toxic[df_toxic.INTEREST_TYPES.isin(['TRI REPORTER','TSCA SUBMITTER'])]\n",
    "df_toxic"
   ]
  },
  {
   "cell_type": "code",
   "execution_count": null,
   "id": "e8cb45b7-70c1-4687-b376-53f8182c6743",
   "metadata": {},
   "outputs": [],
   "source": []
  },
  {
   "cell_type": "code",
   "execution_count": null,
   "id": "9066a620-f0d8-4c24-a41f-65dd72d3dd73",
   "metadata": {},
   "outputs": [],
   "source": []
  },
  {
   "cell_type": "code",
   "execution_count": null,
   "id": "a27ba4f1-8e23-416e-bf9b-c8c91aae85b2",
   "metadata": {},
   "outputs": [],
   "source": []
  },
  {
   "cell_type": "code",
   "execution_count": null,
   "id": "d0eecc84-5f24-4fcf-a7ee-9da39d07a6f7",
   "metadata": {},
   "outputs": [],
   "source": []
  },
  {
   "cell_type": "code",
   "execution_count": null,
   "id": "52cfe510-e804-4b5d-82d9-2db4ea135818",
   "metadata": {},
   "outputs": [],
   "source": [
    "# import fiona\n",
    "# layers=fiona.listlayers(\"data/acres_frs/ACRES_FRS.kml\")\n",
    "# layers"
   ]
  },
  {
   "cell_type": "code",
   "execution_count": null,
   "id": "5baef905-ceb0-4605-9882-cd388ec299b3",
   "metadata": {},
   "outputs": [],
   "source": [
    "# gdf_toxic = gpd.read_file(\"data/acres_frs/ACRES_FRS.kml\", driver=\"KML\")\n",
    "# gdf_toxic"
   ]
  },
  {
   "cell_type": "code",
   "execution_count": null,
   "id": "d48c34da-ef64-49bb-91a1-5bb000c0d3d5",
   "metadata": {},
   "outputs": [],
   "source": []
  },
  {
   "cell_type": "code",
   "execution_count": null,
   "id": "e7712741-3451-47f4-b2aa-9be5598c162d",
   "metadata": {},
   "outputs": [],
   "source": []
  },
  {
   "cell_type": "code",
   "execution_count": null,
   "id": "9f108400-a2d3-4acf-a1e7-dbc3aaacbd3b",
   "metadata": {},
   "outputs": [],
   "source": []
  },
  {
   "cell_type": "code",
   "execution_count": null,
   "id": "8515870a-5bf8-4b4d-b0c4-edeb830daa25",
   "metadata": {},
   "outputs": [],
   "source": []
  },
  {
   "cell_type": "code",
   "execution_count": null,
   "id": "91e30493-292d-4750-8e0f-e058bb6696c4",
   "metadata": {},
   "outputs": [],
   "source": []
  },
  {
   "cell_type": "code",
   "execution_count": null,
   "id": "c3bddf34-e093-4a08-b6bd-2a0b75536ec0",
   "metadata": {},
   "outputs": [],
   "source": [
    "study_area = gdf_states.geometry.union_all()\n",
    "study_area"
   ]
  },
  {
   "cell_type": "code",
   "execution_count": null,
   "id": "5e83f350-9e2a-4480-ab33-b3e69caf7b4a",
   "metadata": {},
   "outputs": [],
   "source": [
    "gdf_rivers_ms = gpd.clip(gdf_rivers,ms)\n",
    "gdf_rivers_ms"
   ]
  },
  {
   "cell_type": "code",
   "execution_count": null,
   "id": "d27fdfeb-98fb-42db-bbba-302d5bae95d4",
   "metadata": {},
   "outputs": [],
   "source": []
  },
  {
   "cell_type": "code",
   "execution_count": null,
   "id": "8a04a265-ffd7-4e1a-9b27-24194086e10e",
   "metadata": {},
   "outputs": [],
   "source": []
  },
  {
   "cell_type": "code",
   "execution_count": null,
   "id": "9bbb9f12-87aa-409c-a9c4-e89b27c35daf",
   "metadata": {},
   "outputs": [],
   "source": []
  },
  {
   "cell_type": "code",
   "execution_count": null,
   "id": "4a3dadf2-2509-43d7-982b-17192708b5af",
   "metadata": {},
   "outputs": [],
   "source": [
    "# gdf_ms = gpd.read_file(\"data/tl_2016_28_cousub/tl_2016_28_cousub.shp\")\n",
    "# gdf_ms.head()"
   ]
  },
  {
   "cell_type": "code",
   "execution_count": null,
   "id": "4a92ac0c-29c5-4280-9089-a5becabe4e18",
   "metadata": {},
   "outputs": [],
   "source": [
    "gdf_ms.plot()"
   ]
  },
  {
   "cell_type": "code",
   "execution_count": null,
   "id": "a2b8a5c8-5196-4296-8692-be73a706788c",
   "metadata": {},
   "outputs": [],
   "source": [
    "gdf_ms.crs"
   ]
  },
  {
   "cell_type": "code",
   "execution_count": null,
   "id": "5dd6f934-0fc0-43a2-acdc-0a6f28d69d39",
   "metadata": {},
   "outputs": [],
   "source": [
    "gdf_ms = gdf_ms.to_crs('epsg:5070')\n",
    "gdf_ms.crs"
   ]
  },
  {
   "cell_type": "code",
   "execution_count": null,
   "id": "44c2edff-23dc-4b49-be9d-31966fa71266",
   "metadata": {},
   "outputs": [],
   "source": [
    "ms = gdf_ms.geometry.union_all()\n",
    "ms"
   ]
  },
  {
   "cell_type": "code",
   "execution_count": null,
   "id": "81f1f9ea-7e57-4c51-b18f-a49f7f1aa569",
   "metadata": {},
   "outputs": [],
   "source": [
    "gdf_rivers = gdf_rivers.to_crs('epsg:5070')\n",
    "gdf_rivers.crs"
   ]
  },
  {
   "cell_type": "code",
   "execution_count": null,
   "id": "3686d7f7-a66b-40b8-b359-8596dc511460",
   "metadata": {},
   "outputs": [],
   "source": [
    "gdf_rivers_ms = gpd.clip(gdf_rivers,ms)\n",
    "gdf_rivers_ms"
   ]
  },
  {
   "cell_type": "code",
   "execution_count": null,
   "id": "7ae5b7cb-0d3c-4979-9891-06274e98cb78",
   "metadata": {},
   "outputs": [],
   "source": [
    "gdf_rivers_ms.plot()"
   ]
  },
  {
   "cell_type": "code",
   "execution_count": null,
   "id": "89df6316-0235-4347-b4f9-41ddffe92c64",
   "metadata": {},
   "outputs": [],
   "source": []
  }
 ],
 "metadata": {
  "kernelspec": {
   "display_name": "pyworkshop",
   "language": "python",
   "name": "pyworkshop"
  },
  "language_info": {
   "codemirror_mode": {
    "name": "ipython",
    "version": 3
   },
   "file_extension": ".py",
   "mimetype": "text/x-python",
   "name": "python",
   "nbconvert_exporter": "python",
   "pygments_lexer": "ipython3",
   "version": "3.12.4"
  }
 },
 "nbformat": 4,
 "nbformat_minor": 5
}
